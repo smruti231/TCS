{
 "cells": [
  {
   "cell_type": "code",
   "execution_count": 2,
   "id": "55290da1",
   "metadata": {},
   "outputs": [
    {
     "name": "stdout",
     "output_type": "stream",
     "text": [
      "Hello universe!\n"
     ]
    }
   ],
   "source": [
    "# 1. write a python  program to print the  Hello universe!\n",
    "print(\"Hello universe!\")"
   ]
  },
  {
   "cell_type": "code",
   "execution_count": 3,
   "id": "7a2cd25f",
   "metadata": {},
   "outputs": [
    {
     "name": "stdout",
     "output_type": "stream",
     "text": [
      "Enter first number :12\n",
      "Enter  second number:23\n",
      "Sum  35\n"
     ]
    }
   ],
   "source": [
    "# 2. write a program to add two numbers.\n",
    "a=input(\"Enter first number :\")\n",
    "a=(int(a))\n",
    "b=input(\"Enter  second number:\")\n",
    "b=(int(b))\n",
    "\n",
    "print(\"Sum \", a+b)"
   ]
  },
  {
   "cell_type": "code",
   "execution_count": 4,
   "id": "0501afd5",
   "metadata": {},
   "outputs": [
    {
     "name": "stdout",
     "output_type": "stream",
     "text": [
      "Enter the number :23\n",
      "Remainder is  1\n"
     ]
    }
   ],
   "source": [
    "# 3.  Write a program to find remainder when a number is divided by 2\n",
    "a = input (\"Enter the number :\")\n",
    "a = int((a))\n",
    "Remainder = a%2\n",
    "\n",
    "print(\"Remainder is \",Remainder)"
   ]
  },
  {
   "cell_type": "code",
   "execution_count": 5,
   "id": "d7efdbae",
   "metadata": {},
   "outputs": [
    {
     "name": "stdout",
     "output_type": "stream",
     "text": [
      "Enter something :smruti\n",
      "<class 'str'>\n"
     ]
    }
   ],
   "source": [
    "# 4. Check the type of the variable assigned  using input() function\n",
    "a= input (\"Enter something :\")\n",
    "\n",
    "print(type(a))"
   ]
  },
  {
   "cell_type": "code",
   "execution_count": 6,
   "id": "ec8eaa85",
   "metadata": {},
   "outputs": [
    {
     "name": "stdout",
     "output_type": "stream",
     "text": [
      "Enter first number :23\n",
      "Enter second number :76\n",
      "a is greater than b ,it is true or false :  False\n"
     ]
    }
   ],
   "source": [
    "# 5. Use the comparision operator to check a is greater than b or not.                                                                                                                                        \n",
    "a = int (input(\"Enter first number :\"))\n",
    "b=int(input(\"Enter second number :\"))\n",
    "print(\"a is greater than b ,it is true or false : \", (a>b) )"
   ]
  },
  {
   "cell_type": "code",
   "execution_count": 7,
   "id": "2bf6af60",
   "metadata": {},
   "outputs": [
    {
     "name": "stdout",
     "output_type": "stream",
     "text": [
      "Enter first  number :23\n",
      "Enter the second number : 76\n",
      "Average of given   numbers :  49.5\n"
     ]
    }
   ],
   "source": [
    "# 6. Average of two numbers\n",
    "a =  int(input(\"Enter first  number :\"))\n",
    "b = int(input(\"Enter the second number : \"))\n",
    "c= (a+b)/2\n",
    "print(\"Average of given   numbers : \", c)"
   ]
  },
  {
   "cell_type": "code",
   "execution_count": 8,
   "id": "111c1373",
   "metadata": {},
   "outputs": [
    {
     "name": "stdout",
     "output_type": "stream",
     "text": [
      "Enter the number :56\n",
      "square of given number  is : 3136\n"
     ]
    }
   ],
   "source": [
    "# 7. Square of a  number\n",
    "a= int(input(\"Enter the number :\"))\n",
    "b= a*a\n",
    "print( \"square of given number  is :\", b )"
   ]
  },
  {
   "cell_type": "code",
   "execution_count": 9,
   "id": "b063b61d",
   "metadata": {},
   "outputs": [
    {
     "name": "stdout",
     "output_type": "stream",
     "text": [
      "Freedom\n"
     ]
    }
   ],
   "source": [
    "# 8.   Sum of two strings \n",
    "a=\"Free\"\n",
    "b=\"dom\"\n",
    "\n",
    "print(a+b)"
   ]
  },
  {
   "cell_type": "code",
   "execution_count": 10,
   "id": "78dbd893",
   "metadata": {},
   "outputs": [
    {
     "name": "stdout",
     "output_type": "stream",
     "text": [
      "Free dom\n"
     ]
    }
   ],
   "source": [
    "# 9. If we  use   ', '   instead of  '+'\n",
    "a = \"Free\"\n",
    "b = \"dom\"\n",
    "print(a,b)"
   ]
  },
  {
   "cell_type": "code",
   "execution_count": 11,
   "id": "b3b24b30",
   "metadata": {},
   "outputs": [
    {
     "name": "stdout",
     "output_type": "stream",
     "text": [
      "Complete Freedo\n"
     ]
    }
   ],
   "source": [
    "# 10.  string slicing\n",
    "a= \"Complete Freedom\"\n",
    "\n",
    "print(a [0:15])\n"
   ]
  },
  {
   "cell_type": "code",
   "execution_count": 12,
   "id": "6eecc1ab",
   "metadata": {},
   "outputs": [
    {
     "name": "stdout",
     "output_type": "stream",
     "text": [
      "he universe\n"
     ]
    }
   ],
   "source": [
    "a=\"The universe\"\n",
    "print(a[1:  ])\n",
    "# [1:  ]  treats  as [2:12]    "
   ]
  },
  {
   "cell_type": "code",
   "execution_count": 13,
   "id": "022ce3d9",
   "metadata": {},
   "outputs": [
    {
     "name": "stdout",
     "output_type": "stream",
     "text": [
      "The universe\n"
     ]
    }
   ],
   "source": [
    "a=\"The universe\"\n",
    "print(a[ :12])\n",
    "#  [ :12 ] treats as [0 : 12]  "
   ]
  },
  {
   "cell_type": "code",
   "execution_count": 14,
   "id": "8f951189",
   "metadata": {},
   "outputs": [
    {
     "name": "stdout",
     "output_type": "stream",
     "text": [
      "The univers\n"
     ]
    }
   ],
   "source": [
    "a=\"The universe\"\n",
    "\n",
    "print(a[  :-1])\n",
    "\n",
    "# Reason : We can start counting from last (-1,-2.......) , instead of  srating from start (0,1,2,3....).    [ In string]"
   ]
  },
  {
   "cell_type": "code",
   "execution_count": 15,
   "id": "5399532c",
   "metadata": {},
   "outputs": [
    {
     "name": "stdout",
     "output_type": "stream",
     "text": [
      "12\n"
     ]
    }
   ],
   "source": [
    "# 11.  Write a program to find string length. \n",
    "a = \"The Universe\"\n",
    "print(len(a))"
   ]
  },
  {
   "cell_type": "code",
   "execution_count": 16,
   "id": "89e48c7e",
   "metadata": {},
   "outputs": [
    {
     "name": "stdout",
     "output_type": "stream",
     "text": [
      "False\n"
     ]
    }
   ],
   "source": [
    "# 12.  Write a program to check whether the string ends with \"universe\" or not .\n",
    "a= \"Hey , Good Morning\"\n",
    "print(a.endswith(\"universe\"))"
   ]
  },
  {
   "cell_type": "code",
   "execution_count": 18,
   "id": "07ee02fb",
   "metadata": {},
   "outputs": [
    {
     "name": "stdout",
     "output_type": "stream",
     "text": [
      "TeUies\n"
     ]
    }
   ],
   "source": [
    "# 13. Slicing with skip value. \n",
    "a= \"The Universe\"\n",
    "print(a[0 : 12 : 2])"
   ]
  },
  {
   "cell_type": "code",
   "execution_count": 19,
   "id": "0248ea2b",
   "metadata": {},
   "outputs": [
    {
     "name": "stdout",
     "output_type": "stream",
     "text": [
      "3\n"
     ]
    }
   ],
   "source": [
    "# 14.  Write  a program to count the total number of occurence of any  character.\n",
    "A = \" The universe\" \n",
    "print(A.count(\"e\"))"
   ]
  },
  {
   "cell_type": "code",
   "execution_count": 20,
   "id": "141318de",
   "metadata": {},
   "outputs": [
    {
     "name": "stdout",
     "output_type": "stream",
     "text": [
      "The\n"
     ]
    }
   ],
   "source": [
    "# 15. Write a program to capitalizes the first charater of a string. \n",
    "a = \"the\"\n",
    "print(a.capitalize())"
   ]
  },
  {
   "cell_type": "code",
   "execution_count": 21,
   "id": "49cf30e4",
   "metadata": {},
   "outputs": [
    {
     "name": "stdout",
     "output_type": "stream",
     "text": [
      "The universe\n"
     ]
    }
   ],
   "source": [
    "# 16. Write a program to replace  the  oldword  with newword  in strings\n",
    "a = \"The univebse\"\n",
    "print(a.replace(\"b\",\"r\"))"
   ]
  },
  {
   "cell_type": "code",
   "execution_count": 23,
   "id": "f58b932c",
   "metadata": {},
   "outputs": [
    {
     "name": "stdout",
     "output_type": "stream",
     "text": [
      "9\n",
      "2\n"
     ]
    }
   ],
   "source": [
    "# 17 . Write a program to find a word in string.\n",
    "a= \"The universe\"\n",
    "print(a.find(\"r\"))\n",
    "print(a.find(\"e\"))"
   ]
  },
  {
   "cell_type": "code",
   "execution_count": 26,
   "id": "09d4114d",
   "metadata": {},
   "outputs": [
    {
     "name": "stdout",
     "output_type": "stream",
     "text": [
      "The\n",
      " universe\n"
     ]
    }
   ],
   "source": [
    "# 18.  Escape sequence  characters in strings\n",
    "a = \"The\\n universe\"\n",
    "print(a)"
   ]
  },
  {
   "cell_type": "code",
   "execution_count": 28,
   "id": "354a1506",
   "metadata": {},
   "outputs": [
    {
     "name": "stdout",
     "output_type": "stream",
     "text": [
      "The \t Universe\n"
     ]
    }
   ],
   "source": [
    "a=  \"The \\t Universe\"\n",
    "print(a)  "
   ]
  },
  {
   "cell_type": "code",
   "execution_count": 31,
   "id": "aee909dc",
   "metadata": {},
   "outputs": [
    {
     "name": "stdout",
     "output_type": "stream",
     "text": [
      " The  '  Universe\n"
     ]
    }
   ],
   "source": [
    "a=  \" The  \\'  Universe\"\n",
    "print(a) "
   ]
  },
  {
   "cell_type": "code",
   "execution_count": 37,
   "id": "80f4ca54",
   "metadata": {},
   "outputs": [
    {
     "name": "stdout",
     "output_type": "stream",
     "text": [
      " The\"Universe\n"
     ]
    }
   ],
   "source": [
    "a = \" The\\\"Universe\"\n",
    "print (a) "
   ]
  },
  {
   "cell_type": "code",
   "execution_count": 1,
   "id": "6d736cf8",
   "metadata": {},
   "outputs": [
    {
     "name": "stdout",
     "output_type": "stream",
     "text": [
      "Name \n",
      " SMRUTI RANJAN POLAI\n",
      " Hello ,  SMRUTI RANJAN POLAI\n",
      " Hello, SMRUTI RANJAN POLAI\n"
     ]
    }
   ],
   "source": [
    "# 19. Write a program to display a user entered name followed by  Hello\n",
    "# using input () function.\n",
    "a= input(\"Name \\n \")\n",
    "print(\" Hello , \",a)  or print( \" Hello, \" +a)"
   ]
  },
  {
   "cell_type": "code",
   "execution_count": 3,
   "id": "9a9fbff0",
   "metadata": {},
   "outputs": [
    {
     "name": "stdout",
     "output_type": "stream",
     "text": [
      "Enter planet's name : Pluto\n",
      "Enter date :06-02-2002\n",
      " Dear Pluto,\n",
      "\n",
      "\n",
      "You are so  beautiful !\n",
      "\n",
      "Date : 06-02-2002\n"
     ]
    }
   ],
   "source": [
    "# 20. Write a program to fill in a letter templete given below with name and date  \n",
    "Letter =''' Dear <|Planet|>,\n",
    "You are so  beautiful !\n",
    "Date : <|Date|>''' \n",
    "\n",
    "Planet = input(\"Enter planet's name : \")\n",
    "Date = input(\"Enter date :\")\n",
    "Letter = Letter.replace(\"<|Planet|>\" , Planet)\n",
    "Letter =Letter.replace(\"<|Date|>\", Date)\n",
    "print(Letter)"
   ]
  },
  {
   "cell_type": "code",
   "execution_count": 4,
   "id": "f7e0dc86",
   "metadata": {},
   "outputs": [
    {
     "name": "stdout",
     "output_type": "stream",
     "text": [
      "30\n"
     ]
    }
   ],
   "source": [
    "# 21. Write a  program to detect double space in a string.\n",
    "a= \"Looking to learn programming ,   Do practice !\"\n",
    "print(a.find(\"  \"))\n",
    "#  If there's no  double space in string , then -1"
   ]
  },
  {
   "cell_type": "code",
   "execution_count": 5,
   "id": "ca159b15",
   "metadata": {},
   "outputs": [
    {
     "name": "stdout",
     "output_type": "stream",
     "text": [
      "[1, 2, 3, 4, 8, 9, 3456, 59734]\n"
     ]
    }
   ],
   "source": [
    "# 22. Write a program to to update the given list in incresing order\n",
    "L = [1,2,3456,59734, 4,8,3,9]\n",
    "L.sort()\n",
    "print(L)"
   ]
  },
  {
   "cell_type": "code",
   "execution_count": 6,
   "id": "194cc9d3",
   "metadata": {},
   "outputs": [
    {
     "name": "stdout",
     "output_type": "stream",
     "text": [
      "[9, 3, 8, 4, 59734, 3456, 2, 1]\n"
     ]
    }
   ],
   "source": [
    "# 23. Write a program to to update the given list in reverse order. \n",
    "L = [1,2,3456,59734, 4,8,3,9]\n",
    "L.reverse()\n",
    "print(L)"
   ]
  },
  {
   "cell_type": "code",
   "execution_count": 7,
   "id": "e11fccac",
   "metadata": {},
   "outputs": [
    {
     "name": "stdout",
     "output_type": "stream",
     "text": [
      "[1, 2, 9, 4]\n"
     ]
    }
   ],
   "source": [
    "# 24. Write a program to Add  4 at the end of given  list \n",
    "L = [1,2 ,9]\n",
    "L.append(4)\n",
    "print(L)"
   ]
  },
  {
   "cell_type": "code",
   "execution_count": 8,
   "id": "d51b20f3",
   "metadata": {},
   "outputs": [
    {
     "name": "stdout",
     "output_type": "stream",
     "text": [
      "[1, 2, 4, 3, 4, 5, 65, 4, 3, 2, 1]\n"
     ]
    }
   ],
   "source": [
    "# 25. Write a program to insert 4 at index 2 of  given list\n",
    "L= [1,2,3,4,5,65,4,3,2,1]\n",
    "L.insert(2,4)\n",
    "print(L)"
   ]
  },
  {
   "cell_type": "code",
   "execution_count": 9,
   "id": "4724b8b1",
   "metadata": {},
   "outputs": [
    {
     "name": "stdout",
     "output_type": "stream",
     "text": [
      "[1, 2, 4, 5, 65, 4, 3, 2, 1]\n"
     ]
    }
   ],
   "source": [
    "# 26. Write a program to delete  element of index 2 in a given list.\n",
    "L= [1,2,3,4,5,65,4,3,2,1]\n",
    "L.pop(2)\n",
    "print(L)"
   ]
  },
  {
   "cell_type": "code",
   "execution_count": 10,
   "id": "31bebbe2",
   "metadata": {},
   "outputs": [
    {
     "name": "stdout",
     "output_type": "stream",
     "text": [
      "[1, 2, 23, 4, 3, 2, 2, 2, 2, 2, 2]\n"
     ]
    }
   ],
   "source": [
    "# 27. list.remove() function example :\n",
    "L= [1,2,2,23,4,3,2,2,2,2,2,2]\n",
    "L.remove(2)\n",
    "print(L)"
   ]
  },
  {
   "cell_type": "code",
   "execution_count": 11,
   "id": "a4fbf661",
   "metadata": {},
   "outputs": [
    {
     "name": "stdout",
     "output_type": "stream",
     "text": [
      "4\n"
     ]
    }
   ],
   "source": [
    "# 28. Write  a program to find the occurrence of an element(in tuples)\n",
    "a= (23,45,6,74,33,3,3,3,3)\n",
    "print(a.count(3))"
   ]
  },
  {
   "cell_type": "code",
   "execution_count": 12,
   "id": "338418e9",
   "metadata": {},
   "outputs": [
    {
     "name": "stdout",
     "output_type": "stream",
     "text": [
      "7\n"
     ]
    }
   ],
   "source": [
    "# 29.  tuple.index() function example\n",
    "a=(1,2,3,4,5,6,67,7,7)\n",
    "print(a.index(7))\n",
    "#  It  returns the index of first occurrence of 7 in tuple  a"
   ]
  },
  {
   "cell_type": "code",
   "execution_count": 13,
   "id": "7b33c51f",
   "metadata": {},
   "outputs": [
    {
     "name": "stdout",
     "output_type": "stream",
     "text": [
      "Enter the first fruit: apple\n",
      "Enter the second fruit: banana\n",
      "Enter the third fruit: guava\n",
      "Enter the fourth fruit: grapes\n",
      "Enter the fifth fruit: orange\n",
      "Enter the sixth fruit: litchi\n",
      "Enter the seventh fruit: jack fruit\n",
      "['apple', 'banana', 'guava', 'grapes', 'orange', 'litchi', 'jack fruit']\n"
     ]
    }
   ],
   "source": [
    "# 30. Write a program to store 7 fruit in a list \n",
    "F1= input(\"Enter the first fruit: \")\n",
    "F2= input(\"Enter the second fruit: \")\n",
    "F3 =input(\"Enter the third fruit: \")\n",
    "F4= input(\"Enter the fourth fruit: \")\n",
    "F5= input(\"Enter the fifth fruit: \")\n",
    "F6= input(\"Enter the sixth fruit: \")\n",
    "F7= input(\"Enter the seventh fruit: \")\n",
    "F= [F1,F2,F3,F4,F5,F6,F7]\n",
    "print(F)"
   ]
  },
  {
   "cell_type": "code",
   "execution_count": 14,
   "id": "66ce2302",
   "metadata": {},
   "outputs": [
    {
     "name": "stdout",
     "output_type": "stream",
     "text": [
      "[10, 15, 20, 24, 26, 37]\n"
     ]
    }
   ],
   "source": [
    "# 31. Write a program to accept marks of 6 students and display them in sorted manner.\n",
    "a =[10,20,24,15,26,37] \n",
    "a.sort()\n",
    "print(a) "
   ]
  },
  {
   "cell_type": "code",
   "execution_count": 16,
   "id": "4678b557",
   "metadata": {},
   "outputs": [
    {
     "name": "stdout",
     "output_type": "stream",
     "text": [
      "69\n"
     ]
    }
   ],
   "source": [
    "# 32 . Write a program to sum a list with 4 numbers .  \n",
    "a =[10,20,24,15]\n",
    "print(a[0]+a[1]+a[2]+a[3])\n",
    "# print(sum(a))"
   ]
  },
  {
   "cell_type": "code",
   "execution_count": 17,
   "id": "6f7db042",
   "metadata": {},
   "outputs": [
    {
     "name": "stdout",
     "output_type": "stream",
     "text": [
      "3\n"
     ]
    }
   ],
   "source": [
    "# 33.  Write a program to count the zeros in  the given tuple\n",
    "a= (7,0,8,0,0,9)\n",
    "print(a.count(0)) "
   ]
  },
  {
   "cell_type": "code",
   "execution_count": 19,
   "id": "7f6c39d4",
   "metadata": {},
   "outputs": [
    {
     "name": "stdout",
     "output_type": "stream",
     "text": [
      "Moon\n"
     ]
    }
   ],
   "source": [
    "# 34.Dictionary example: \n",
    "myDict= { \n",
    "\"Object\" : \"Moon\" ,\n",
    "\"Nature\" : \"Cool\"}\n",
    "print(myDict[\"Object\"])"
   ]
  },
  {
   "cell_type": "code",
   "execution_count": 20,
   "id": "b3a43945",
   "metadata": {},
   "outputs": [
    {
     "name": "stdout",
     "output_type": "stream",
     "text": [
      "Sun\n"
     ]
    }
   ],
   "source": [
    "myDict= { \n",
    "\"Object\" : \"Moon\" ,    \n",
    "\"Nature\" : \"Cool\",\n",
    "\"dic1\": {\"Star\":\"Sun\"}\n",
    "}\n",
    "print(myDict[\"dic1\"][\"Star\"])"
   ]
  },
  {
   "cell_type": "code",
   "execution_count": 21,
   "id": "07a0c084",
   "metadata": {},
   "outputs": [
    {
     "name": "stdout",
     "output_type": "stream",
     "text": [
      "dict_keys(['a', 'c', 'e', 1])\n"
     ]
    }
   ],
   "source": [
    "# 35. dictionary.keys example\n",
    "a = {\n",
    "    \"a\" : \"b\",\n",
    "    \"c\"  : \"d\",\n",
    "    \"e\": \"f\",\n",
    "    1:2\n",
    "    }\n",
    "print(a.keys())"
   ]
  },
  {
   "cell_type": "code",
   "execution_count": 22,
   "id": "e84ed5ef",
   "metadata": {},
   "outputs": [
    {
     "name": "stdout",
     "output_type": "stream",
     "text": [
      "dict_items([('a', 'b'), ('c', 'd'), ('e', 'f'), (1, 2)])\n"
     ]
    }
   ],
   "source": [
    "a = {    \n",
    "    \"a\" : \"b\",\n",
    "    \"c\"  : \"d\",\n",
    "    \"e\": \"f\",\n",
    "    1:2\n",
    "    }\n",
    "print(a.items()) "
   ]
  },
  {
   "cell_type": "code",
   "execution_count": 24,
   "id": "75a2b424",
   "metadata": {},
   "outputs": [
    {
     "name": "stdout",
     "output_type": "stream",
     "text": [
      "dict_values(['b', 'd', 'f', 2])\n"
     ]
    }
   ],
   "source": [
    "# 37. dictionary.values example\n",
    "\n",
    "\n",
    "a = {\n",
    "    \"a\" : \"b\",\n",
    "    \"c\"  : \"d\",\n",
    "    \"e\": \"f\",\n",
    "    1:2       \n",
    "    }\n",
    "print(a.values()) "
   ]
  },
  {
   "cell_type": "code",
   "execution_count": 25,
   "id": "b935a223",
   "metadata": {},
   "outputs": [
    {
     "name": "stdout",
     "output_type": "stream",
     "text": [
      "{'P1': 'Earth', 'P2': 'Mars', 'P3': 'Jupiter', 'P4': 'Saturn'}\n",
      "{'P1': 'Earth', 'P2': 'Mars', 'P3': 'Jupiter', 'P4': 'Saturn', 'P5': 'Venus'}\n"
     ]
    }
   ],
   "source": [
    "# 38. Program to update the dictionary by adding key-value pairs\n",
    "a= {\n",
    "    \"P1\": \"Earth\",\n",
    "    \"P2\": \"Mars\",\n",
    "    \"P3\":\"Jupiter\",\n",
    "    \"P4\":\"Saturn\"\n",
    "}\n",
    "print(a)\n",
    "\n",
    "a.update({\"P5\": \"Venus\"})  \n",
    "\n",
    "print(a) # ( updated dictionary) "
   ]
  },
  {
   "cell_type": "code",
   "execution_count": 26,
   "id": "6d537a55",
   "metadata": {},
   "outputs": [
    {
     "name": "stdout",
     "output_type": "stream",
     "text": [
      " MArs\n"
     ]
    }
   ],
   "source": [
    "# 39.  a.get function\n",
    "a= { \" P1\":\"Earth\",\n",
    "    \"P2\" : \" MArs\"\n",
    "    }\n",
    "print(a.get(\"P2\")) "
   ]
  },
  {
   "cell_type": "code",
   "execution_count": 27,
   "id": "18b10180",
   "metadata": {},
   "outputs": [
    {
     "name": "stdout",
     "output_type": "stream",
     "text": [
      "None\n"
     ]
    }
   ],
   "source": [
    "# 40 . a.get() function   and a[\"  \"] difference. \n",
    "a= { \" P1\":\"Earth\",\n",
    "    \"P2\" : \" MArs\"  }\n",
    "print(a.get(\"P21\")) "
   ]
  },
  {
   "cell_type": "code",
   "execution_count": 28,
   "id": "2e8a2293",
   "metadata": {},
   "outputs": [
    {
     "ename": "KeyError",
     "evalue": "'P21'",
     "output_type": "error",
     "traceback": [
      "\u001b[1;31m---------------------------------------------------------------------------\u001b[0m",
      "\u001b[1;31mKeyError\u001b[0m                                  Traceback (most recent call last)",
      "\u001b[1;32m~\\AppData\\Local\\Temp/ipykernel_10344/85163566.py\u001b[0m in \u001b[0;36m<module>\u001b[1;34m\u001b[0m\n\u001b[0;32m      4\u001b[0m \u001b[1;33m\u001b[0m\u001b[0m\n\u001b[0;32m      5\u001b[0m \u001b[1;33m\u001b[0m\u001b[0m\n\u001b[1;32m----> 6\u001b[1;33m \u001b[0mprint\u001b[0m\u001b[1;33m(\u001b[0m\u001b[0ma\u001b[0m\u001b[1;33m[\u001b[0m\u001b[1;34m\"P21\"\u001b[0m\u001b[1;33m]\u001b[0m\u001b[1;33m)\u001b[0m\u001b[1;33m\u001b[0m\u001b[1;33m\u001b[0m\u001b[0m\n\u001b[0m",
      "\u001b[1;31mKeyError\u001b[0m: 'P21'"
     ]
    }
   ],
   "source": [
    "a= { \" P1\":\"Earth\",\n",
    "      \"P2\" : \" MArs\" }\n",
    "print(a[\"P21\"])"
   ]
  },
  {
   "cell_type": "code",
   "execution_count": 29,
   "id": "a6e8007a",
   "metadata": {},
   "outputs": [
    {
     "name": "stdout",
     "output_type": "stream",
     "text": [
      "{1, 2, 3}\n"
     ]
    }
   ],
   "source": [
    "# 41.  create an empty set  and add values to an empty set.\n",
    "a= set()\n",
    "a.add(1)\n",
    "a.add(2)\n",
    "a.add(3)\n",
    "a.add(3)\n",
    "a.add(3)    \n",
    "print(a)\n",
    "\n",
    "# we can insert tuples in a set but not lists"
   ]
  },
  {
   "cell_type": "code",
   "execution_count": 30,
   "id": "5ad7b6fb",
   "metadata": {},
   "outputs": [
    {
     "ename": "TypeError",
     "evalue": "unhashable type: 'dict'",
     "output_type": "error",
     "traceback": [
      "\u001b[1;31m---------------------------------------------------------------------------\u001b[0m",
      "\u001b[1;31mTypeError\u001b[0m                                 Traceback (most recent call last)",
      "\u001b[1;32m~\\AppData\\Local\\Temp/ipykernel_10344/857357750.py\u001b[0m in \u001b[0;36m<module>\u001b[1;34m\u001b[0m\n\u001b[0;32m      6\u001b[0m \u001b[0ma\u001b[0m\u001b[1;33m.\u001b[0m\u001b[0madd\u001b[0m\u001b[1;33m(\u001b[0m\u001b[1;36m2\u001b[0m\u001b[1;33m)\u001b[0m\u001b[1;33m\u001b[0m\u001b[1;33m\u001b[0m\u001b[0m\n\u001b[0;32m      7\u001b[0m \u001b[0ma\u001b[0m\u001b[1;33m.\u001b[0m\u001b[0madd\u001b[0m\u001b[1;33m(\u001b[0m\u001b[1;36m3\u001b[0m\u001b[1;33m)\u001b[0m\u001b[1;33m\u001b[0m\u001b[1;33m\u001b[0m\u001b[0m\n\u001b[1;32m----> 8\u001b[1;33m a.add({\"P1\": \"Earth\",\n\u001b[0m\u001b[0;32m      9\u001b[0m        \u001b[1;34m\"P2\"\u001b[0m \u001b[1;33m:\u001b[0m\u001b[1;34m\" Venus\"\u001b[0m\u001b[1;33m\u001b[0m\u001b[1;33m\u001b[0m\u001b[0m\n\u001b[0;32m     10\u001b[0m     })\n",
      "\u001b[1;31mTypeError\u001b[0m: unhashable type: 'dict'"
     ]
    }
   ],
   "source": [
    "# 42. check whether insertaion of dictionary in a set possible or not.\n",
    "a= set()\n",
    "a.add(1)\n",
    "a.add(2)\n",
    "a.add(3)\n",
    "a.add({\"P1\": \"Earth\",\n",
    "       \"P2\" :\" Venus\"\n",
    "    })\n",
    "print(a)\n",
    "# Reason : dictionaary is mutable"
   ]
  },
  {
   "cell_type": "code",
   "execution_count": 31,
   "id": "a01eb431",
   "metadata": {},
   "outputs": [
    {
     "name": "stdout",
     "output_type": "stream",
     "text": [
      "6\n"
     ]
    }
   ],
   "source": [
    "# 43 . Write a program to check the length of  a set\n",
    "a= {12,33,4,5,66,7}\n",
    "print(len(a))"
   ]
  },
  {
   "cell_type": "code",
   "execution_count": 32,
   "id": "24fe2cf8",
   "metadata": {},
   "outputs": [
    {
     "name": "stdout",
     "output_type": "stream",
     "text": [
      "{0, 1, 2, 3, 4, 5, 6, 7, 9}\n"
     ]
    }
   ],
   "source": [
    "# 44. update the set and removes 8 from a  given set \"A\".\n",
    "A = {1,2,3,4,5,6,7,8,9,0 }\n",
    "A.remove(8)\n",
    "print(A)"
   ]
  },
  {
   "cell_type": "code",
   "execution_count": 33,
   "id": "2d512be9",
   "metadata": {},
   "outputs": [
    {
     "name": "stdout",
     "output_type": "stream",
     "text": [
      "set()\n"
     ]
    }
   ],
   "source": [
    "# 45. Write a program to clear the given set\n",
    "a = { 2,3,4,0 }\n",
    "a.clear()\n",
    "print (a)"
   ]
  },
  {
   "cell_type": "code",
   "execution_count": 35,
   "id": "495d550c",
   "metadata": {},
   "outputs": [
    {
     "name": "stdout",
     "output_type": "stream",
     "text": [
      "{0, 1, 2, 3, 4, 7, 9}\n"
     ]
    }
   ],
   "source": [
    "# 46.   Write a program to find unions of two given sets\n",
    "a = { 2,3,4,0 }\n",
    "b= {1,7,9}\n",
    "print(a|b) "
   ]
  },
  {
   "cell_type": "code",
   "execution_count": 36,
   "id": "50033b2b",
   "metadata": {},
   "outputs": [
    {
     "name": "stdout",
     "output_type": "stream",
     "text": [
      "{0, 1, 2, 3, 4, 7, 9}\n"
     ]
    }
   ],
   "source": [
    "print(a.union(b)) "
   ]
  },
  {
   "cell_type": "code",
   "execution_count": 37,
   "id": "e11dbe08",
   "metadata": {},
   "outputs": [
    {
     "name": "stdout",
     "output_type": "stream",
     "text": [
      "{4}\n",
      "{4}\n"
     ]
    }
   ],
   "source": [
    "# 47. Write a program to find intersection of two given sets\n",
    "a = { 2,3,4,0 }\n",
    "b= {1,7,9,4}\n",
    "print(a&b)\n",
    "print(a.intersection(b))"
   ]
  },
  {
   "cell_type": "code",
   "execution_count": 38,
   "id": "8c1d707b",
   "metadata": {},
   "outputs": [
    {
     "name": "stdout",
     "output_type": "stream",
     "text": [
      "11\n",
      "{12, 13, 14, 15}\n"
     ]
    }
   ],
   "source": [
    "# 48. set.pop\n",
    "a= {11,12,13,14,15}\n",
    "print(a.pop())\n",
    "print(a)\n",
    "# Note : pop() returns an random element from the set .Also the set is updated and will not contain the returned element"
   ]
  },
  {
   "cell_type": "code",
   "execution_count": 39,
   "id": "34731684",
   "metadata": {},
   "outputs": [
    {
     "name": "stdout",
     "output_type": "stream",
     "text": [
      "Enter the hindi word:ghadi\n",
      "Watch\n"
     ]
    }
   ],
   "source": [
    "# 49 . Write a program to create a dictionary of hindi words with values as their english translation .provide  user with an option to look it up .\n",
    "myDict = { \"Aadhami\":\"Man\",\n",
    "    \"ghadi\" : \"Watch\"  \n",
    "}\n",
    "a= input (\"Enter the hindi word:\")\n",
    "print(myDict[a])"
   ]
  },
  {
   "cell_type": "code",
   "execution_count": 40,
   "id": "576c0b0c",
   "metadata": {},
   "outputs": [
    {
     "name": "stdout",
     "output_type": "stream",
     "text": [
      "Enter the  second number :90\n",
      "Enter the  second number :98\n",
      "Enter the  third number :79\n",
      "Enter the  fourth number :86\n",
      "Enter the  fifth number :88\n",
      "Enter the  sixth number :99\n",
      "Enter the  seventh number :74\n",
      "Enter the  eighth number :83\n",
      "{98, 99, 74, 79, 83, 86, 88, 90}\n"
     ]
    }
   ],
   "source": [
    "# 50 .Write a program to input eight numbers from the user and display all the  unique numbers\n",
    "a= int(input(\"Enter the  second number :\"))\n",
    "b= int(input(\"Enter the  second number :\"))\n",
    "c= int(input(\"Enter the  third number :\"))\n",
    "d= int(input(\"Enter the  fourth number :\"))\n",
    "e= int(input(\"Enter the  fifth number :\"))\n",
    "f= int(input(\"Enter the  sixth number :\"))\n",
    "g= int(input(\"Enter the  seventh number :\"))\n",
    "h= int(input(\"Enter the  eighth number :\"))\n",
    "S= {a,b,c,d,e,f,g,h}\n",
    "print(S)"
   ]
  },
  {
   "cell_type": "code",
   "execution_count": 41,
   "id": "b204440a",
   "metadata": {},
   "outputs": [
    {
     "name": "stdout",
     "output_type": "stream",
     "text": [
      "{2, '2'}\n"
     ]
    }
   ],
   "source": [
    "# 51. Write a program to check that : can we have a set with 4(int) annd \"4\"(str)  as a values in it. \n",
    "S= {2,\"2\"}\n",
    "print(S)"
   ]
  },
  {
   "cell_type": "code",
   "execution_count": 42,
   "id": "4bd172b6",
   "metadata": {},
   "outputs": [
    {
     "name": "stdout",
     "output_type": "stream",
     "text": [
      "2\n"
     ]
    }
   ],
   "source": [
    "# 52. length of given set\n",
    "S= {1,1.0, \"1\"}\n",
    "print(len(S)) "
   ]
  },
  {
   "cell_type": "code",
   "execution_count": 43,
   "id": "86329a9c",
   "metadata": {},
   "outputs": [
    {
     "name": "stdout",
     "output_type": "stream",
     "text": [
      "a is greater than 10\n"
     ]
    }
   ],
   "source": [
    "# 53. if-elif-else  ladder example .\n",
    "a = 24\n",
    "if(a>10):\n",
    "    print(\"a is greater than 10\")  \n",
    "elif(a>20):\n",
    "    print(\"a is greater than 20\")  \n",
    "else :\n",
    "    print(\"a is not greater than 10 and 20 \") "
   ]
  },
  {
   "cell_type": "code",
   "execution_count": 44,
   "id": "ed49d8d2",
   "metadata": {},
   "outputs": [
    {
     "name": "stdout",
     "output_type": "stream",
     "text": [
      "Enter the age 21\n",
      "Yes\n"
     ]
    }
   ],
   "source": [
    "# 54. writte a pprogram to print yes when the age entered by the user is greater than or  equal to 18\n",
    "a= int(input(\"Enter the age \"))\n",
    "if (a>=18):\n",
    "    print(\"Yes\")\n",
    "elif(a==18):\n",
    "    print(\"Yes\")\n",
    "else:\n",
    "    print(\"Age is not greater than equal to 18\")                  "
   ]
  },
  {
   "cell_type": "code",
   "execution_count": 45,
   "id": "3d73e66c",
   "metadata": {},
   "outputs": [
    {
     "name": "stdout",
     "output_type": "stream",
     "text": [
      "Enter the age 24\n",
      "Yes\n"
     ]
    }
   ],
   "source": [
    "a= int(input(\"Enter the age \"))\n",
    "if (a>=18):\n",
    "    print(\"Yes\")\n",
    "else:\n",
    "    print(\"NO\")"
   ]
  },
  {
   "cell_type": "code",
   "execution_count": 46,
   "id": "552e46f8",
   "metadata": {},
   "outputs": [
    {
     "name": "stdout",
     "output_type": "stream",
     "text": [
      "yes\n"
     ]
    },
    {
     "name": "stderr",
     "output_type": "stream",
     "text": [
      "<>:4: SyntaxWarning: \"is\" with a literal. Did you mean \"==\"?\n",
      "<>:4: SyntaxWarning: \"is\" with a literal. Did you mean \"==\"?\n",
      "C:\\Users\\iasms\\AppData\\Local\\Temp/ipykernel_10344/2183374082.py:4: SyntaxWarning: \"is\" with a literal. Did you mean \"==\"?\n",
      "  if(a is 3):\n"
     ]
    }
   ],
   "source": [
    "# 55. \"is\"  and \"in\" operators examples\n",
    "\n",
    "a = 3\n",
    "if(a is 3):\n",
    "    print(\"yes\")\n",
    "else:\n",
    "    print(\"No\")     "
   ]
  },
  {
   "cell_type": "code",
   "execution_count": 47,
   "id": "ec84bcee",
   "metadata": {},
   "outputs": [
    {
     "name": "stdout",
     "output_type": "stream",
     "text": [
      "yes\n"
     ]
    }
   ],
   "source": [
    "a = [ 2,34,4]   \n",
    "if(2 in a):\n",
    "    print(\"yes\")\n",
    "else:\n",
    "    print(\"no\")"
   ]
  },
  {
   "cell_type": "code",
   "execution_count": 48,
   "id": "0e0e73f6",
   "metadata": {},
   "outputs": [
    {
     "name": "stdout",
     "output_type": "stream",
     "text": [
      "Enter the first number :1\n",
      "Enter the second number :2\n",
      "Enter the third number :3\n",
      "Enter the fourth number :4\n",
      "4 is greatest \n"
     ]
    }
   ],
   "source": [
    "# 56. Write a program to find greatest of four nubers enetered by the user\n",
    "\n",
    "a=int(input(\"Enter the first number :\"))\n",
    "b=int(input(\"Enter the second number :\"))\n",
    "c=int(input(\"Enter the third number :\"))\n",
    "d=int(input(\"Enter the fourth number :\"))\n",
    "if(a>b):\n",
    "    P1=a\n",
    "else:\n",
    "    P1=b\n",
    "    \n",
    "if(c<d):\n",
    "    P2=d\n",
    "else:\n",
    "    P2=c\n",
    "    \n",
    "if(P1>P2):\n",
    "    print(str(P1), \"is greatest \")\n",
    "else:   \n",
    "    print(str(P2),\"is greatest \")"
   ]
  },
  {
   "cell_type": "code",
   "execution_count": 49,
   "id": "2974b563",
   "metadata": {},
   "outputs": [
    {
     "name": "stdout",
     "output_type": "stream",
     "text": [
      "Enter the marks of first subject :76\n",
      "Enter the marks of second subject :87\n",
      "Enter the marks of third subject :67\n",
      "Paas\n"
     ]
    }
   ],
   "source": [
    "# 57. Write a program to check out whether a student is pass or not if he requires  at lesat 33% in each subject and over all 40 % to paas the exam .\n",
    "\n",
    "a=int(input(\"Enter the marks of first subject :\"))\n",
    "b=int(input(\"Enter the marks of second subject :\"))\n",
    "c=int(input(\"Enter the marks of third subject :\"))\n",
    "if(a<33 or b<33 or c<33):\n",
    "    print(\"Fail\")    \n",
    "elif((a+b+c)/3 <40 ):\n",
    "    print(\"Fail\")\n",
    "else:\n",
    "    print(\"Paas\")"
   ]
  },
  {
   "cell_type": "code",
   "execution_count": 50,
   "id": "1decb188",
   "metadata": {},
   "outputs": [
    {
     "name": "stdout",
     "output_type": "stream",
     "text": [
      "Enter the text :  smruti hey\n",
      " it is spam \n"
     ]
    }
   ],
   "source": [
    "# 58 . Write a program to detect given spamming messages.\n",
    "\n",
    "a= input(\"Enter the text :  \")\n",
    "if (\"hey\" in a):\n",
    "    spam = True\n",
    "elif(\"good morning\" in a):\n",
    "    spam= True\n",
    "else:\n",
    "    spam= False\n",
    "    \n",
    "if(spam):\n",
    "    print(\" it is spam \")\n",
    "else:\n",
    "    print(\"Not a spam\")"
   ]
  },
  {
   "cell_type": "code",
   "execution_count": 51,
   "id": "5ecb6804",
   "metadata": {},
   "outputs": [
    {
     "name": "stdout",
     "output_type": "stream",
     "text": [
      "Enter marks:84\n",
      " Grade A\n"
     ]
    }
   ],
   "source": [
    "# 59. Write a program to calculate the grade of a student from his marks from the following scheme:\n",
    "# 90-100  Ex\n",
    "# 80-90  A\n",
    "# 70-80  B\n",
    "# 60-70  C\n",
    "# 50-60  D\n",
    "# <50  F\n",
    "\n",
    "a= int(input(\"Enter marks:\"))\n",
    "if(90<a and a<100):\n",
    "    print(\" Excellent\")\n",
    "    \n",
    "elif(80<a and a<90):\n",
    "    print(\" Grade A\")\n",
    "    \n",
    "elif(70<a and a<80):\n",
    "    print(\" Grade B\")\n",
    "    \n",
    "elif(60<a and a<70):\n",
    "    print(\" Grade C\")\n",
    "\n",
    "elif(50<a and a<60):\n",
    "    print(\"Grade D\")\n",
    "    \n",
    "else:\n",
    "    print(\"Grade F\")"
   ]
  },
  {
   "cell_type": "code",
   "execution_count": 5,
   "id": "2c5d7e50",
   "metadata": {},
   "outputs": [
    {
     "name": "stdout",
     "output_type": "stream",
     "text": [
      "1\n",
      "2\n",
      "3\n",
      "4\n",
      "5\n",
      "6\n",
      "7\n",
      "8\n",
      "9\n",
      "10\n",
      "11\n",
      "12\n",
      "13\n",
      "14\n",
      "15\n",
      "16\n",
      "17\n",
      "18\n",
      "19\n",
      "20\n"
     ]
    }
   ],
   "source": [
    "# 60. Write a program to print to 21 using a while loop\n",
    "\n",
    "i=1\n",
    "while(i<21) :\n",
    "    print (i)\n",
    "    i=i+1"
   ]
  },
  {
   "cell_type": "code",
   "execution_count": 53,
   "id": "3e3b9b95",
   "metadata": {},
   "outputs": [
    {
     "name": "stdout",
     "output_type": "stream",
     "text": [
      "12\n",
      "3\n",
      "4\n",
      "Universe\n",
      "Earth\n"
     ]
    }
   ],
   "source": [
    "# 61. Write a program to print the content of a list using while loop\n",
    "a = [12,3,4,\"Universe\", \"Earth\"]\n",
    "i=0\n",
    "while(i<len(a)):\n",
    "    print(a[i])\n",
    "    i=i+1"
   ]
  },
  {
   "cell_type": "code",
   "execution_count": 54,
   "id": "5b72ce1a",
   "metadata": {},
   "outputs": [
    {
     "name": "stdout",
     "output_type": "stream",
     "text": [
      "12\n",
      "3\n",
      "4\n",
      "Universe\n",
      "Earth\n"
     ]
    }
   ],
   "source": [
    "# 62. Write a program to print the content of a list using for loop\n",
    "a = [12,3,4,\"Universe\", \"Earth\"]\n",
    "for items in a:\n",
    "    print(items)"
   ]
  },
  {
   "cell_type": "code",
   "execution_count": 4,
   "id": "d79e966c",
   "metadata": {},
   "outputs": [
    {
     "name": "stdout",
     "output_type": "stream",
     "text": [
      "0\n",
      "1\n",
      "2\n",
      "3\n",
      "4\n",
      "5\n",
      "6\n",
      "7\n",
      "8\n",
      "9\n",
      "10\n",
      "11\n",
      "12\n",
      "13\n",
      "14\n",
      "15\n",
      "16\n",
      "17\n",
      "18\n",
      "19\n",
      "20\n"
     ]
    }
   ],
   "source": [
    "# 63. Write a program to print numbers from 1 to 21 using for loop\n",
    "\n",
    "for i in  range (21):\n",
    "    print(i)"
   ]
  },
  {
   "cell_type": "code",
   "execution_count": 3,
   "id": "16d54c79",
   "metadata": {},
   "outputs": [
    {
     "name": "stdout",
     "output_type": "stream",
     "text": [
      "5\n",
      "6\n",
      "7\n",
      "8\n",
      "9\n",
      "10\n",
      "11\n",
      "12\n",
      "13\n",
      "14\n",
      "15\n",
      "16\n",
      "17\n",
      "18\n",
      "19\n",
      "20\n",
      "21\n",
      "22\n",
      "23\n",
      "24\n",
      "25\n",
      "26\n",
      "27\n",
      "28\n"
     ]
    }
   ],
   "source": [
    "# 64. Write a program to print numbers from 5 to 29 using for loop\n",
    "\n",
    "for i in  range (5,29):\n",
    "    print(i)"
   ]
  },
  {
   "cell_type": "code",
   "execution_count": 2,
   "id": "208c1659",
   "metadata": {},
   "outputs": [
    {
     "name": "stdout",
     "output_type": "stream",
     "text": [
      "2\n",
      "13\n",
      "24\n",
      "35\n",
      "46\n",
      "57\n",
      "68\n",
      "79\n",
      "90\n"
     ]
    }
   ],
   "source": [
    "# 65. Step size example\n",
    "\n",
    "for i in range(2,101,11):\n",
    "    print(i)"
   ]
  },
  {
   "cell_type": "code",
   "execution_count": 1,
   "id": "cc371b17",
   "metadata": {},
   "outputs": [
    {
     "name": "stdout",
     "output_type": "stream",
     "text": [
      "0\n",
      "9\n",
      "18\n",
      "27\n",
      "36\n",
      "45\n",
      "54\n",
      "63\n",
      "72\n",
      "81\n",
      "90\n",
      "99\n",
      "Done\n"
     ]
    }
   ],
   "source": [
    "# 66. for loop with else              \n",
    "\n",
    "for i in range(0,101,9):\n",
    "    print(i)\n",
    "else:\n",
    "    print(\"Done\")"
   ]
  },
  {
   "cell_type": "code",
   "execution_count": 59,
   "id": "87714626",
   "metadata": {},
   "outputs": [
    {
     "name": "stdout",
     "output_type": "stream",
     "text": [
      "0\n",
      "1\n",
      "2\n",
      "3\n",
      "4\n",
      "5\n"
     ]
    }
   ],
   "source": [
    "# 67.  Break statement use in program      \n",
    "for i in range(0,101):\n",
    "    print(i)\n",
    "    if i==5:\n",
    "        break"
   ]
  },
  {
   "cell_type": "code",
   "execution_count": 60,
   "id": "e8b43d20",
   "metadata": {},
   "outputs": [
    {
     "name": "stdout",
     "output_type": "stream",
     "text": [
      "0\n",
      "1\n",
      "2\n",
      "3\n",
      "4\n",
      "6\n",
      "7\n",
      "8\n",
      "9\n",
      "10\n"
     ]
    }
   ],
   "source": [
    "# 68 . continue statement use in program      \n",
    "\n",
    "for i in range(0,11):\n",
    "    if i==5:\n",
    "        continue\n",
    "    print(i)"
   ]
  },
  {
   "cell_type": "code",
   "execution_count": 62,
   "id": "d6d540d8",
   "metadata": {},
   "outputs": [
    {
     "name": "stdout",
     "output_type": "stream",
     "text": [
      "Hey\n"
     ]
    }
   ],
   "source": [
    "# 69. continue statement use in program  \n",
    "l=  [1,2,3,4]\n",
    "for item in l:\n",
    "    pass\n",
    "print(\"Hey\") "
   ]
  },
  {
   "cell_type": "code",
   "execution_count": 64,
   "id": "1c073a30",
   "metadata": {},
   "outputs": [
    {
     "name": "stdout",
     "output_type": "stream",
     "text": [
      "Enter the number :45\n",
      "2\n",
      "4\n",
      "6\n",
      "8\n",
      "10\n",
      "12\n",
      "14\n",
      "16\n",
      "18\n",
      "20\n"
     ]
    }
   ],
   "source": [
    "# 70. Write a program to print multiplication table off a given number using for loop\n",
    "\n",
    "a= int(input(\"Enter the number :\"))\n",
    "for a in range(1,11):\n",
    "    print(a*2)"
   ]
  },
  {
   "cell_type": "code",
   "execution_count": 65,
   "id": "f9c52113",
   "metadata": {},
   "outputs": [
    {
     "name": "stdout",
     "output_type": "stream",
     "text": [
      "Namaste,Kabir\n",
      "Namaste,Krishnamurti\n"
     ]
    }
   ],
   "source": [
    "# 71. write a program to great all  the names stored in a list which starts from K\n",
    "\n",
    "a =[\"Kabir\",\"Meera\",\"Tulsidaas\",\"buddha\",\"Krishnamurti\"]\n",
    "for name  in a:\n",
    "    if name.startswith(\"K\"):\n",
    "        print(\"Namaste,\"+ name)"
   ]
  },
  {
   "cell_type": "code",
   "execution_count": 66,
   "id": "ce3be581",
   "metadata": {},
   "outputs": [
    {
     "name": "stdout",
     "output_type": "stream",
     "text": [
      "2\n",
      "4\n",
      "6\n",
      "8\n",
      "10\n",
      "12\n",
      "14\n",
      "16\n",
      "18\n",
      "20\n"
     ]
    }
   ],
   "source": [
    "# 72. write a program to print multiplication table using for loop\n",
    "i=1\n",
    "while(i<11):\n",
    "    print(2*i)\n",
    "    i=i+1"
   ]
  },
  {
   "cell_type": "code",
   "execution_count": 68,
   "id": "7b2695f3",
   "metadata": {},
   "outputs": [
    {
     "name": "stdout",
     "output_type": "stream",
     "text": [
      "Enter the number5\n",
      "120\n"
     ]
    }
   ],
   "source": [
    "# 73. write a program to calculate factorial of a number\n",
    "\n",
    "a= int(input(\"Enter the number\"))\n",
    "factorial =1  \n",
    "for i in range(1,a+1):\n",
    "    factorial = factorial*i  \n",
    "print(factorial)"
   ]
  },
  {
   "cell_type": "code",
   "execution_count": 69,
   "id": "20c17389",
   "metadata": {},
   "outputs": [
    {
     "name": "stdout",
     "output_type": "stream",
     "text": [
      "\n",
      "*\n",
      "**\n",
      "***\n",
      "****\n"
     ]
    }
   ],
   "source": [
    "# 74. Write a program to print the following star pattern:\n",
    "# *\n",
    "\n",
    "# *\n",
    "# ****    for n = 4\n",
    "\n",
    "for i in range (5):\n",
    "    print(\"*\" *i)"
   ]
  },
  {
   "cell_type": "code",
   "execution_count": 70,
   "id": "cc0ab3e6",
   "metadata": {},
   "outputs": [
    {
     "name": "stdout",
     "output_type": "stream",
     "text": [
      "20\n",
      "18\n",
      "16\n",
      "14\n",
      "12\n",
      "10\n",
      "8\n",
      "6\n",
      "4\n",
      "2\n"
     ]
    }
   ],
   "source": [
    "# 75.  write a program  to print multiplication table of n using for loop in reversed order\n",
    "\n",
    "for i in range (10,0, -1):\n",
    "    print(2*i)"
   ]
  },
  {
   "cell_type": "code",
   "execution_count": 71,
   "id": "f1d33cd8",
   "metadata": {},
   "outputs": [
    {
     "name": "stdout",
     "output_type": "stream",
     "text": [
      "20\n",
      "18\n",
      "16\n",
      "14\n",
      "12\n",
      "10\n",
      "8\n",
      "6\n",
      "4\n",
      "2\n"
     ]
    }
   ],
   "source": [
    "# 76. write a program  to print multiplication table of n using while loop in reversed order\n",
    "\n",
    "i=10\n",
    "while(i>=1):\n",
    "    print(2*i)\n",
    "    i=i-1"
   ]
  },
  {
   "cell_type": "code",
   "execution_count": 72,
   "id": "0b00edf0",
   "metadata": {},
   "outputs": [
    {
     "name": "stdout",
     "output_type": "stream",
     "text": [
      "59.333333333333336\n"
     ]
    }
   ],
   "source": [
    "# 77 . write a function to calculate the percentage\n",
    "\n",
    "def percent(marks):\n",
    "    p = (marks[0]+marks[1]+marks[2])/3\n",
    "    return p   \n",
    "mark = [67,62,49]\n",
    "p = percent(mark)   \n",
    "print(p)"
   ]
  },
  {
   "cell_type": "code",
   "execution_count": 73,
   "id": "541a46ca",
   "metadata": {},
   "outputs": [
    {
     "name": "stdout",
     "output_type": "stream",
     "text": [
      "Good Morning ,Krishnaurti\n",
      "Good Morning ,Krishna\n"
     ]
    }
   ],
   "source": [
    "# 78. Write a program to greet new users\n",
    "\n",
    "def greet(A):\n",
    "    print(\"Good Morning ,\"+ A)\n",
    "    \n",
    "a = \"Krishnaurti\"\n",
    "greet(a)\n",
    "\n",
    "b= \"Krishna\"\n",
    "greet(b)"
   ]
  },
  {
   "cell_type": "code",
   "execution_count": 74,
   "id": "b6de7134",
   "metadata": {},
   "outputs": [
    {
     "name": "stdout",
     "output_type": "stream",
     "text": [
      "120\n"
     ]
    }
   ],
   "source": [
    "# 79. factorial using recursion\n",
    "\n",
    "def recur(n):\n",
    "    if n==0 or n==1:\n",
    "        return 1\n",
    "    else:\n",
    "        return  n * recur(n-1)           \n",
    "print(recur(5))"
   ]
  },
  {
   "cell_type": "code",
   "execution_count": 75,
   "id": "83e89cf1",
   "metadata": {},
   "outputs": [
    {
     "name": "stdout",
     "output_type": "stream",
     "text": [
      "67 is graetest number\n"
     ]
    }
   ],
   "source": [
    "# 80. find greatest number using function\n",
    "\n",
    "def maximum(n1,n2,n3):\n",
    "    if(n1>n2):\n",
    "        if(n1>n3):\n",
    "            print( n1, +\"is greatest number\")\n",
    "        else:\n",
    "            print(n3,+\"is graetest number\")    \n",
    "    else:\n",
    "        if(n2>n3):\n",
    "            print( n2, \"is greatest number\")\n",
    "        else:\n",
    "            print(n3, \"is graetest number\")   \n",
    "a= maximum(23,45,67)"
   ]
  },
  {
   "cell_type": "code",
   "execution_count": 76,
   "id": "89e23726",
   "metadata": {},
   "outputs": [
    {
     "name": "stdout",
     "output_type": "stream",
     "text": [
      "20 degree celsius in fahrenheit  68.0\n"
     ]
    }
   ],
   "source": [
    "# 81. write a program using function to convert celsius to fahrenheit\n",
    "\n",
    "def ctf(c):\n",
    "    return (9*c/5)+32   \n",
    "print(\"20 degree celsius in fahrenheit \",ctf(20))"
   ]
  },
  {
   "cell_type": "code",
   "execution_count": 77,
   "id": "2b173ebe",
   "metadata": {},
   "outputs": [
    {
     "name": "stdout",
     "output_type": "stream",
     "text": [
      "5050\n"
     ]
    }
   ],
   "source": [
    "# 82 .write a recursive function to calculate the sum of n natural numbers\n",
    "def r_sumc(n):\n",
    "    if(n==0):\n",
    "        return 0\n",
    "    \n",
    "    else:\n",
    "        return n+ r_sumc(n-1)\n",
    "print(r_sumc(100))"
   ]
  },
  {
   "cell_type": "code",
   "execution_count": 78,
   "id": "bc272c38",
   "metadata": {},
   "outputs": [
    {
     "name": "stdout",
     "output_type": "stream",
     "text": [
      "25.4\n"
     ]
    }
   ],
   "source": [
    "# 83 .inch to centimeter using function\n",
    "def ctr(a):\n",
    "    return  2.54*a\n",
    "print(ctr(10))"
   ]
  },
  {
   "cell_type": "code",
   "execution_count": 79,
   "id": "1d9cb6aa",
   "metadata": {},
   "outputs": [
    {
     "name": "stdout",
     "output_type": "stream",
     "text": [
      "2\n",
      "4\n",
      "6\n",
      "8\n",
      "10\n",
      "12\n",
      "14\n",
      "16\n",
      "18\n",
      "20\n"
     ]
    }
   ],
   "source": [
    "# 84. write a program to print multiplication table using function\n",
    "\n",
    "def mult_table(n):\n",
    "    for i in range(1,11):\n",
    "        print(n*i)\n",
    "        \n",
    "mult_table(2)"
   ]
  },
  {
   "cell_type": "code",
   "execution_count": null,
   "id": "5c987aaa",
   "metadata": {},
   "outputs": [],
   "source": []
  },
  {
   "cell_type": "code",
   "execution_count": 1,
   "id": "755f1873",
   "metadata": {},
   "outputs": [
    {
     "name": "stdout",
     "output_type": "stream",
     "text": [
      "2354532\n",
      "true\n"
     ]
    }
   ],
   "source": [
    "# 85. print 'True' if the nunmbert  is palindrome\n",
    "\n",
    "x = int(input())\n",
    "if(str(x)[::-1]):\n",
    "    print(\"true\")\n",
    "else:\n",
    "    print(\"false\")"
   ]
  },
  {
   "cell_type": "code",
   "execution_count": null,
   "id": "669186ba",
   "metadata": {},
   "outputs": [],
   "source": []
  },
  {
   "cell_type": "code",
   "execution_count": 2,
   "id": "29682ba2",
   "metadata": {},
   "outputs": [
    {
     "name": "stdout",
     "output_type": "stream",
     "text": [
      "2345\n",
      "2+3+4+5 = 14\n"
     ]
    }
   ],
   "source": [
    "# 86. READ 4 DIGIT INTEGER VALUE AS INPUT & PRINT SUM OF ALL DIGITS\n",
    "\n",
    "number = int(input())\n",
    "str = str(number)\n",
    "res = int(str[0]) + int(str[1]) + int(str[2]) + int(str[3])\n",
    "print(str[0] +\"+\"+str[1] + \"+\" +str[2]+ \"+\"+str[3]+ \" =\", res)"
   ]
  },
  {
   "cell_type": "code",
   "execution_count": null,
   "id": "1600f30d",
   "metadata": {},
   "outputs": [],
   "source": []
  },
  {
   "cell_type": "code",
   "execution_count": 5,
   "id": "ae938b31",
   "metadata": {},
   "outputs": [
    {
     "name": "stdout",
     "output_type": "stream",
     "text": [
      "Input a four digit numbers: 2345\n",
      "The sum of digits in the number is 14\n"
     ]
    }
   ],
   "source": [
    "num = int(input(\"Input a four digit numbers: \"))\n",
    "x  = num //1000\n",
    "x1 = (num - x*1000)//100\n",
    "x2 = (num - x*1000 - x1*100)//10\n",
    "x3 = num - x*1000 - x1*100 - x2*10\n",
    "print(\"The sum of digits in the number is\", x+x1+x2+x3)"
   ]
  },
  {
   "cell_type": "code",
   "execution_count": null,
   "id": "420eee2b",
   "metadata": {},
   "outputs": [],
   "source": []
  },
  {
   "cell_type": "code",
   "execution_count": 3,
   "id": "be3849b4",
   "metadata": {},
   "outputs": [
    {
     "name": "stdout",
     "output_type": "stream",
     "text": [
      "45.8765\n",
      "45.88\n"
     ]
    }
   ],
   "source": [
    "# 87. load a float value & round it upto 2 decimal digits\n",
    "\n",
    "number = float(input())\n",
    "print(round(number,2))"
   ]
  },
  {
   "cell_type": "markdown",
   "id": "7489b755",
   "metadata": {},
   "source": []
  },
  {
   "cell_type": "code",
   "execution_count": 4,
   "id": "909b2250",
   "metadata": {},
   "outputs": [
    {
     "name": "stdout",
     "output_type": "stream",
     "text": [
      "45.8765\n",
      "45.88\n"
     ]
    }
   ],
   "source": [
    "number = float(input())\n",
    "print(\"{:.2f}\".format(number))"
   ]
  },
  {
   "cell_type": "code",
   "execution_count": null,
   "id": "056f0f50",
   "metadata": {},
   "outputs": [],
   "source": []
  },
  {
   "cell_type": "code",
   "execution_count": 6,
   "id": "0e7194ea",
   "metadata": {},
   "outputs": [
    {
     "name": "stdout",
     "output_type": "stream",
     "text": [
      "87\n",
      "87 is an odd natural number\n"
     ]
    }
   ],
   "source": [
    "# 88. check number\n",
    "\n",
    "n = int(input())\n",
    "if (n > 0):\n",
    "    if (n % 2 == 0):\n",
    "        print(\"{} is an even natual number\".format(n))\n",
    "    else:\n",
    "        print(\"{} is an odd natural number\".format(n))\n",
    "else:\n",
    "    if(n%2 == 0):\n",
    "        print(\"{} is an even number\".format(n))\n",
    "    else:\n",
    "        print(\"{} is an odd number\".format(n))"
   ]
  },
  {
   "cell_type": "code",
   "execution_count": null,
   "id": "2935a1d1",
   "metadata": {},
   "outputs": [],
   "source": []
  },
  {
   "cell_type": "code",
   "execution_count": 1,
   "id": "ea37bc60",
   "metadata": {},
   "outputs": [
    {
     "name": "stdout",
     "output_type": "stream",
     "text": [
      "smruti ranjan polai the survivor and destorier\n",
      "smruti\n",
      "smruti ranjan polai the survivor and destorier contains smruti\n"
     ]
    }
   ],
   "source": [
    "# 89. should a word in the sentence\n",
    "str = input()\n",
    "pattern = input()\n",
    "if(str.lower().startswith(pattern.lower()) or str.lower().endswith(pattern.lower())):\n",
    "    print(\"{} contains {}\".format(str, pattern))\n",
    "else:\n",
    "    print(\"{} does not contain {}\".format(str, pattern))"
   ]
  },
  {
   "cell_type": "code",
   "execution_count": null,
   "id": "7372804c",
   "metadata": {},
   "outputs": [],
   "source": []
  },
  {
   "cell_type": "code",
   "execution_count": 7,
   "id": "066550d4",
   "metadata": {},
   "outputs": [
    {
     "name": "stdout",
     "output_type": "stream",
     "text": [
      "92\n",
      "92 will grant you a Grade A\n"
     ]
    }
   ],
   "source": [
    "# 90. mark - grade\n",
    "\n",
    "marks = int(input())\n",
    "if(marks >= 80):\n",
    "    print(\"{marks} will grant you a Grade A\".format(marks=marks))\n",
    "elif(marks >= 60 and marks < 80):\n",
    "    print(\"{marks} will grant you a Grade B\".format(marks=marks))\n",
    "elif(marks < 60):\n",
    "    print(\"{marks} will grant you a Grade C\".format(marks=marks))"
   ]
  },
  {
   "cell_type": "code",
   "execution_count": null,
   "id": "2cc8a23d",
   "metadata": {},
   "outputs": [],
   "source": []
  },
  {
   "cell_type": "code",
   "execution_count": 8,
   "id": "c9741cd5",
   "metadata": {},
   "outputs": [
    {
     "name": "stdout",
     "output_type": "stream",
     "text": [
      "63400\n",
      "64034.0\n"
     ]
    }
   ],
   "source": [
    "# 91. salary problem\n",
    "\n",
    "salary = float(input())\n",
    "\n",
    "if(salary >= 10000):\n",
    "    salary = salary + salary * 0.01\n",
    "elif(salary >= 6000 and salary < 10000):\n",
    "    salary = salary + salary * 0.08\n",
    "elif(salary < 6000):\n",
    "    salary = salary + salary * 0.05\n",
    "\n",
    "salary = round(salary,2)\n",
    "print(salary)"
   ]
  },
  {
   "cell_type": "code",
   "execution_count": null,
   "id": "9a67ae72",
   "metadata": {},
   "outputs": [],
   "source": []
  },
  {
   "cell_type": "code",
   "execution_count": 9,
   "id": "f2727d33",
   "metadata": {},
   "outputs": [
    {
     "name": "stdout",
     "output_type": "stream",
     "text": [
      "2\n",
      "4\n",
      "1. Addition\n",
      "2. Substraction\n",
      "3. Exponent\n",
      "4. Multiplication\n",
      "3\n",
      "2 ^ 4 = 16\n"
     ]
    }
   ],
   "source": [
    "# 92. Calculation\n",
    "\n",
    "a = int(input())\n",
    "b = int(input())\n",
    "\n",
    "print(\"1. Addition\", \"2. Substraction\", \"3. Exponent\", \"4. Multiplication\", sep = \"\\n\")\n",
    "ch = int(input())\n",
    "\n",
    "if(ch == 1):\n",
    "    print(\"{a} + {b} = {c}\".format(a=a, b=b, c=a+b))\n",
    "elif(ch == 2):\n",
    "    print(\"{a} - {b} = {c}\".format(a=a, b=b, c=a-b))\n",
    "elif(ch == 3):\n",
    "    print(\"{a} ^ {b} = {c}\".format(a=a, b=b, c=a**b))\n",
    "elif(ch == 4):\n",
    "    print(\"{a} * {b} = {c}\".format(a=a, b=b, c=a*b))\n",
    "else:\n",
    "    print(\"Invalid Choice! Exiting Application\")"
   ]
  },
  {
   "cell_type": "code",
   "execution_count": null,
   "id": "76b32e59",
   "metadata": {},
   "outputs": [],
   "source": []
  },
  {
   "cell_type": "code",
   "execution_count": 10,
   "id": "8414c6ab",
   "metadata": {},
   "outputs": [
    {
     "name": "stdout",
     "output_type": "stream",
     "text": [
      "rescue\n",
      "curse\n",
      "rescue == curse is false\n"
     ]
    }
   ],
   "source": [
    "# 93. check two strings are anagram or not\n",
    "# Anagram is a word or phrase formed by rearranging the letters of a different words or phrase, \n",
    "# typically using all the original letters exactly once\n",
    "\n",
    "str1 = input()\n",
    "str2 = input()\n",
    "\n",
    "if \"\".join(sorted(str1)) == \"\".join(sorted(str2)):\n",
    "    print(\"{str1} == {str2} is true\".format(str1 = str1, str2 = str2))\n",
    "else:\n",
    "    print(\"{str1} == {str2} is false\".format(str1 = str1, str2 = str2))"
   ]
  },
  {
   "cell_type": "code",
   "execution_count": null,
   "id": "0e9d0c28",
   "metadata": {},
   "outputs": [],
   "source": []
  },
  {
   "cell_type": "code",
   "execution_count": 11,
   "id": "16c6ac6f",
   "metadata": {},
   "outputs": [
    {
     "name": "stdout",
     "output_type": "stream",
     "text": [
      "Dictionary:  {'A': 1, 'ABC': 3, 'ABCD': 4, 'AB': 2}\n",
      "Sorted Dictionary by value:  {'A': 1, 'ABC': 2, 'ABCD': 3, 'AB': 4}\n"
     ]
    }
   ],
   "source": [
    "import numpy as np\n",
    "\n",
    "dictionary = { 'A':1,'ABC':3,'ABCD':4,'AB':2 }\n",
    "print(\"Dictionary: \", dictionary)\n",
    "sorted_value_index = np.argsort(dictionary.values())\n",
    "dictionary_keys = list(dictionary.keys())\n",
    "sort_dictionary = {dictionary_keys[i]: sorted(dictionary.values())[i] for i in range(len(dictionary_keys))}\n",
    "print(\"Sorted Dictionary by value: \", sort_dictionary)"
   ]
  },
  {
   "cell_type": "code",
   "execution_count": 12,
   "id": "3302fffe",
   "metadata": {},
   "outputs": [
    {
     "name": "stdout",
     "output_type": "stream",
     "text": [
      "[('a', 150), ('b', 170), ('m', 250), ('o', 950)]\n"
     ]
    }
   ],
   "source": [
    "my_dict = {\"m\":250,\"o\":950,\"b\":170,\"a\":150} \n",
    " \n",
    "sort_keys = my_dict.items()\n",
    "new_items = sorted(sort_keys)\n",
    "print(new_items)"
   ]
  },
  {
   "cell_type": "code",
   "execution_count": null,
   "id": "8a9e5613",
   "metadata": {},
   "outputs": [],
   "source": []
  },
  {
   "cell_type": "code",
   "execution_count": 13,
   "id": "db0d5f22",
   "metadata": {},
   "outputs": [
    {
     "name": "stdout",
     "output_type": "stream",
     "text": [
      "Enter how many candies you want to order : 3\n",
      "No of candies sold :3 \n",
      "No of candies left : 7\n"
     ]
    }
   ],
   "source": [
    "# 94. Candy - Jar Problem\n",
    "\n",
    "n=10\n",
    "k=5 \n",
    "inp = int(input(\"Enter how many candies you want to order : \"))\n",
    "if inp>=1 and inp <=5:\n",
    "    print(f\"No of candies sold :{inp} \")\n",
    "    print(f\"No of candies left : {n-inp}\")\n",
    "else:\n",
    "    print(\"Invalid input \\n number of candies left : \",n)\n"
   ]
  },
  {
   "cell_type": "code",
   "execution_count": null,
   "id": "3efce9da",
   "metadata": {},
   "outputs": [],
   "source": []
  },
  {
   "cell_type": "code",
   "execution_count": 14,
   "id": "0757b818",
   "metadata": {},
   "outputs": [
    {
     "name": "stdout",
     "output_type": "stream",
     "text": [
      "Number of bottles: 7\n",
      "Minimum rats needed:  3\n"
     ]
    }
   ],
   "source": [
    "# 95. Function to find the\n",
    "# minimum number of rats\n",
    "import math\n",
    "def minRats(n):\n",
    "    return math.ceil(math.log2(n));\n",
    "\n",
    "num = int(input('Number of bottles: '))\n",
    "minRats(num)\n",
    "print('Minimum rats needed: ', minRats(num))"
   ]
  },
  {
   "cell_type": "code",
   "execution_count": null,
   "id": "ff14b417",
   "metadata": {},
   "outputs": [],
   "source": []
  },
  {
   "cell_type": "code",
   "execution_count": 19,
   "id": "72790338",
   "metadata": {},
   "outputs": [
    {
     "name": "stdout",
     "output_type": "stream",
     "text": [
      "2245\n",
      "2245\n"
     ]
    }
   ],
   "source": [
    "# 96. Print sum of input numbers\n",
    "\n",
    "numbers = input().split(\" \")\n",
    "nums = []\n",
    "for i in numbers:\n",
    "    nums.append(int(i))\n",
    "numbers = nums.copy()\n",
    "print(sum(numbers))"
   ]
  },
  {
   "cell_type": "code",
   "execution_count": 20,
   "id": "39da37e3",
   "metadata": {},
   "outputs": [
    {
     "name": "stdout",
     "output_type": "stream",
     "text": [
      "12345\n",
      "12345\n"
     ]
    }
   ],
   "source": [
    "numbers = input().split(\" \")\n",
    "numbers = [int(i) for i in numbers]\n",
    "print(sum(numbers))"
   ]
  },
  {
   "cell_type": "code",
   "execution_count": 21,
   "id": "b9a28be3",
   "metadata": {},
   "outputs": [
    {
     "name": "stdout",
     "output_type": "stream",
     "text": [
      "[1, 2, 3, 4, 5]\n"
     ]
    }
   ],
   "source": [
    "# 97. given list of duplicate datas, print listof unique datas\n",
    "\n",
    "ls = [1,1,1,2,3,4,4,5,5]\n",
    "ls = list(set(ls))\n",
    "print(ls)"
   ]
  },
  {
   "cell_type": "code",
   "execution_count": 22,
   "id": "5e60a74a",
   "metadata": {},
   "outputs": [
    {
     "name": "stdout",
     "output_type": "stream",
     "text": [
      "trigger\n",
      "2\n"
     ]
    }
   ],
   "source": [
    "# 98. identify the number of times the most repeating letter would\n",
    "# appear within any word; if output is more than three, the word will\n",
    "# be discarded & another word will be chosen for the game\n",
    "\n",
    "data = input()\n",
    "freq = [data.count(i) for i in data]\n",
    "print(max(freq))"
   ]
  },
  {
   "cell_type": "code",
   "execution_count": 23,
   "id": "6a2a3bf8",
   "metadata": {},
   "outputs": [
    {
     "ename": "SyntaxError",
     "evalue": "invalid syntax (Temp/ipykernel_8764/3399606039.py, line 4)",
     "output_type": "error",
     "traceback": [
      "\u001b[1;36m  File \u001b[1;32m\"C:\\Users\\iasms\\AppData\\Local\\Temp/ipykernel_8764/3399606039.py\"\u001b[1;36m, line \u001b[1;32m4\u001b[0m\n\u001b[1;33m    freq.append(data.count(i)):\u001b[0m\n\u001b[1;37m                               ^\u001b[0m\n\u001b[1;31mSyntaxError\u001b[0m\u001b[1;31m:\u001b[0m invalid syntax\n"
     ]
    }
   ],
   "source": [
    "data = input()\n",
    "freq = []\n",
    "for i in data:\n",
    "    freq.append(data.count(i)):\n",
    "print(max(freq))"
   ]
  },
  {
   "cell_type": "code",
   "execution_count": 26,
   "id": "86003cb1",
   "metadata": {},
   "outputs": [
    {
     "name": "stdout",
     "output_type": "stream",
     "text": [
      "user@abc#12\n",
      "userabc@#\n"
     ]
    }
   ],
   "source": [
    "# 99. find & extract only the letters & special characters from the whole\n",
    "# string\n",
    "\n",
    "# user i/p : admin@123   output : admin@\n",
    "# user i/p : user@abc#12   output : userabc@#\n",
    "    \n",
    "data = input()\n",
    "str = [i for i in data if i.isdigit() == False]\n",
    "special = [i for i in str if i.isalpha() == False]\n",
    "str = [i for i in str if i.isalpha() == True]\n",
    "print(\"\".join(str)+\"\".join(special))"
   ]
  },
  {
   "cell_type": "code",
   "execution_count": null,
   "id": "aba32517",
   "metadata": {},
   "outputs": [],
   "source": []
  },
  {
   "cell_type": "code",
   "execution_count": 27,
   "id": "ef37f5fb",
   "metadata": {},
   "outputs": [
    {
     "name": "stdout",
     "output_type": "stream",
     "text": [
      "Enter a count: 3\n",
      "Enter Number: \n",
      "234\n",
      "2456\n",
      "43214\n",
      "Average:  15301.333333333334\n",
      "Minimum number:  234\n",
      "Maximum number:  43214\n"
     ]
    }
   ],
   "source": [
    "# 100. min, max, average numbers without using array /collections\n",
    "\n",
    "number = int(input('Enter a count: '))\n",
    "total = 0.0\n",
    "count = 0\n",
    "minimum = 0\n",
    "maximum = 0\n",
    "\n",
    "print('Enter Number: ')\n",
    "for i in range(number):\n",
    "    num = int(input())\n",
    "    count = count + 1\n",
    "    total = total + num\n",
    "    \n",
    "    if(i == 0):\n",
    "        minimum = num\n",
    "    \n",
    "    if num<minimum:\n",
    "        minimum = num\n",
    "    elif num>maximum:\n",
    "        maximum = num\n",
    "\n",
    "print(\"Average: \", total/number)\n",
    "print(\"Minimum number: \", minimum)\n",
    "print(\"Maximum number: \", maximum)"
   ]
  },
  {
   "cell_type": "code",
   "execution_count": null,
   "id": "2fa1d7f5",
   "metadata": {},
   "outputs": [],
   "source": []
  },
  {
   "cell_type": "code",
   "execution_count": 2,
   "id": "b7e1b318",
   "metadata": {},
   "outputs": [
    {
     "ename": "ValueError",
     "evalue": "Unexpected character found when decoding object value",
     "output_type": "error",
     "traceback": [
      "\u001b[1;31m---------------------------------------------------------------------------\u001b[0m",
      "\u001b[1;31mValueError\u001b[0m                                Traceback (most recent call last)",
      "\u001b[1;32m~\\AppData\\Local\\Temp/ipykernel_1848/724264869.py\u001b[0m in \u001b[0;36m<module>\u001b[1;34m\u001b[0m\n\u001b[0;32m      3\u001b[0m \u001b[1;32mimport\u001b[0m \u001b[0mjson\u001b[0m\u001b[1;33m\u001b[0m\u001b[1;33m\u001b[0m\u001b[0m\n\u001b[0;32m      4\u001b[0m \u001b[0mdata\u001b[0m \u001b[1;33m=\u001b[0m \u001b[1;34m'{\"Employee_name\":\"james\", \"email\":\"james@gmail.com\",\"job_profile\":\"[{\"title1\":\"trainee\", \"title2\":\"Team Lead\"}]\"}'\u001b[0m\u001b[1;33m\u001b[0m\u001b[1;33m\u001b[0m\u001b[0m\n\u001b[1;32m----> 5\u001b[1;33m \u001b[0mpd\u001b[0m\u001b[1;33m.\u001b[0m\u001b[0mread_json\u001b[0m\u001b[1;33m(\u001b[0m\u001b[0mdata\u001b[0m\u001b[1;33m)\u001b[0m\u001b[1;33m\u001b[0m\u001b[1;33m\u001b[0m\u001b[0m\n\u001b[0m",
      "\u001b[1;32m~\\anaconda3\\lib\\site-packages\\pandas\\util\\_decorators.py\u001b[0m in \u001b[0;36mwrapper\u001b[1;34m(*args, **kwargs)\u001b[0m\n\u001b[0;32m    205\u001b[0m                 \u001b[1;32melse\u001b[0m\u001b[1;33m:\u001b[0m\u001b[1;33m\u001b[0m\u001b[1;33m\u001b[0m\u001b[0m\n\u001b[0;32m    206\u001b[0m                     \u001b[0mkwargs\u001b[0m\u001b[1;33m[\u001b[0m\u001b[0mnew_arg_name\u001b[0m\u001b[1;33m]\u001b[0m \u001b[1;33m=\u001b[0m \u001b[0mnew_arg_value\u001b[0m\u001b[1;33m\u001b[0m\u001b[1;33m\u001b[0m\u001b[0m\n\u001b[1;32m--> 207\u001b[1;33m             \u001b[1;32mreturn\u001b[0m \u001b[0mfunc\u001b[0m\u001b[1;33m(\u001b[0m\u001b[1;33m*\u001b[0m\u001b[0margs\u001b[0m\u001b[1;33m,\u001b[0m \u001b[1;33m**\u001b[0m\u001b[0mkwargs\u001b[0m\u001b[1;33m)\u001b[0m\u001b[1;33m\u001b[0m\u001b[1;33m\u001b[0m\u001b[0m\n\u001b[0m\u001b[0;32m    208\u001b[0m \u001b[1;33m\u001b[0m\u001b[0m\n\u001b[0;32m    209\u001b[0m         \u001b[1;32mreturn\u001b[0m \u001b[0mcast\u001b[0m\u001b[1;33m(\u001b[0m\u001b[0mF\u001b[0m\u001b[1;33m,\u001b[0m \u001b[0mwrapper\u001b[0m\u001b[1;33m)\u001b[0m\u001b[1;33m\u001b[0m\u001b[1;33m\u001b[0m\u001b[0m\n",
      "\u001b[1;32m~\\anaconda3\\lib\\site-packages\\pandas\\util\\_decorators.py\u001b[0m in \u001b[0;36mwrapper\u001b[1;34m(*args, **kwargs)\u001b[0m\n\u001b[0;32m    309\u001b[0m                     \u001b[0mstacklevel\u001b[0m\u001b[1;33m=\u001b[0m\u001b[0mstacklevel\u001b[0m\u001b[1;33m,\u001b[0m\u001b[1;33m\u001b[0m\u001b[1;33m\u001b[0m\u001b[0m\n\u001b[0;32m    310\u001b[0m                 )\n\u001b[1;32m--> 311\u001b[1;33m             \u001b[1;32mreturn\u001b[0m \u001b[0mfunc\u001b[0m\u001b[1;33m(\u001b[0m\u001b[1;33m*\u001b[0m\u001b[0margs\u001b[0m\u001b[1;33m,\u001b[0m \u001b[1;33m**\u001b[0m\u001b[0mkwargs\u001b[0m\u001b[1;33m)\u001b[0m\u001b[1;33m\u001b[0m\u001b[1;33m\u001b[0m\u001b[0m\n\u001b[0m\u001b[0;32m    312\u001b[0m \u001b[1;33m\u001b[0m\u001b[0m\n\u001b[0;32m    313\u001b[0m         \u001b[1;32mreturn\u001b[0m \u001b[0mwrapper\u001b[0m\u001b[1;33m\u001b[0m\u001b[1;33m\u001b[0m\u001b[0m\n",
      "\u001b[1;32m~\\anaconda3\\lib\\site-packages\\pandas\\io\\json\\_json.py\u001b[0m in \u001b[0;36mread_json\u001b[1;34m(path_or_buf, orient, typ, dtype, convert_axes, convert_dates, keep_default_dates, numpy, precise_float, date_unit, encoding, encoding_errors, lines, chunksize, compression, nrows, storage_options)\u001b[0m\n\u001b[0;32m    612\u001b[0m \u001b[1;33m\u001b[0m\u001b[0m\n\u001b[0;32m    613\u001b[0m     \u001b[1;32mwith\u001b[0m \u001b[0mjson_reader\u001b[0m\u001b[1;33m:\u001b[0m\u001b[1;33m\u001b[0m\u001b[1;33m\u001b[0m\u001b[0m\n\u001b[1;32m--> 614\u001b[1;33m         \u001b[1;32mreturn\u001b[0m \u001b[0mjson_reader\u001b[0m\u001b[1;33m.\u001b[0m\u001b[0mread\u001b[0m\u001b[1;33m(\u001b[0m\u001b[1;33m)\u001b[0m\u001b[1;33m\u001b[0m\u001b[1;33m\u001b[0m\u001b[0m\n\u001b[0m\u001b[0;32m    615\u001b[0m \u001b[1;33m\u001b[0m\u001b[0m\n\u001b[0;32m    616\u001b[0m \u001b[1;33m\u001b[0m\u001b[0m\n",
      "\u001b[1;32m~\\anaconda3\\lib\\site-packages\\pandas\\io\\json\\_json.py\u001b[0m in \u001b[0;36mread\u001b[1;34m(self)\u001b[0m\n\u001b[0;32m    746\u001b[0m                 \u001b[0mobj\u001b[0m \u001b[1;33m=\u001b[0m \u001b[0mself\u001b[0m\u001b[1;33m.\u001b[0m\u001b[0m_get_object_parser\u001b[0m\u001b[1;33m(\u001b[0m\u001b[0mself\u001b[0m\u001b[1;33m.\u001b[0m\u001b[0m_combine_lines\u001b[0m\u001b[1;33m(\u001b[0m\u001b[0mdata_lines\u001b[0m\u001b[1;33m)\u001b[0m\u001b[1;33m)\u001b[0m\u001b[1;33m\u001b[0m\u001b[1;33m\u001b[0m\u001b[0m\n\u001b[0;32m    747\u001b[0m         \u001b[1;32melse\u001b[0m\u001b[1;33m:\u001b[0m\u001b[1;33m\u001b[0m\u001b[1;33m\u001b[0m\u001b[0m\n\u001b[1;32m--> 748\u001b[1;33m             \u001b[0mobj\u001b[0m \u001b[1;33m=\u001b[0m \u001b[0mself\u001b[0m\u001b[1;33m.\u001b[0m\u001b[0m_get_object_parser\u001b[0m\u001b[1;33m(\u001b[0m\u001b[0mself\u001b[0m\u001b[1;33m.\u001b[0m\u001b[0mdata\u001b[0m\u001b[1;33m)\u001b[0m\u001b[1;33m\u001b[0m\u001b[1;33m\u001b[0m\u001b[0m\n\u001b[0m\u001b[0;32m    749\u001b[0m         \u001b[0mself\u001b[0m\u001b[1;33m.\u001b[0m\u001b[0mclose\u001b[0m\u001b[1;33m(\u001b[0m\u001b[1;33m)\u001b[0m\u001b[1;33m\u001b[0m\u001b[1;33m\u001b[0m\u001b[0m\n\u001b[0;32m    750\u001b[0m         \u001b[1;32mreturn\u001b[0m \u001b[0mobj\u001b[0m\u001b[1;33m\u001b[0m\u001b[1;33m\u001b[0m\u001b[0m\n",
      "\u001b[1;32m~\\anaconda3\\lib\\site-packages\\pandas\\io\\json\\_json.py\u001b[0m in \u001b[0;36m_get_object_parser\u001b[1;34m(self, json)\u001b[0m\n\u001b[0;32m    768\u001b[0m         \u001b[0mobj\u001b[0m \u001b[1;33m=\u001b[0m \u001b[1;32mNone\u001b[0m\u001b[1;33m\u001b[0m\u001b[1;33m\u001b[0m\u001b[0m\n\u001b[0;32m    769\u001b[0m         \u001b[1;32mif\u001b[0m \u001b[0mtyp\u001b[0m \u001b[1;33m==\u001b[0m \u001b[1;34m\"frame\"\u001b[0m\u001b[1;33m:\u001b[0m\u001b[1;33m\u001b[0m\u001b[1;33m\u001b[0m\u001b[0m\n\u001b[1;32m--> 770\u001b[1;33m             \u001b[0mobj\u001b[0m \u001b[1;33m=\u001b[0m \u001b[0mFrameParser\u001b[0m\u001b[1;33m(\u001b[0m\u001b[0mjson\u001b[0m\u001b[1;33m,\u001b[0m \u001b[1;33m**\u001b[0m\u001b[0mkwargs\u001b[0m\u001b[1;33m)\u001b[0m\u001b[1;33m.\u001b[0m\u001b[0mparse\u001b[0m\u001b[1;33m(\u001b[0m\u001b[1;33m)\u001b[0m\u001b[1;33m\u001b[0m\u001b[1;33m\u001b[0m\u001b[0m\n\u001b[0m\u001b[0;32m    771\u001b[0m \u001b[1;33m\u001b[0m\u001b[0m\n\u001b[0;32m    772\u001b[0m         \u001b[1;32mif\u001b[0m \u001b[0mtyp\u001b[0m \u001b[1;33m==\u001b[0m \u001b[1;34m\"series\"\u001b[0m \u001b[1;32mor\u001b[0m \u001b[0mobj\u001b[0m \u001b[1;32mis\u001b[0m \u001b[1;32mNone\u001b[0m\u001b[1;33m:\u001b[0m\u001b[1;33m\u001b[0m\u001b[1;33m\u001b[0m\u001b[0m\n",
      "\u001b[1;32m~\\anaconda3\\lib\\site-packages\\pandas\\io\\json\\_json.py\u001b[0m in \u001b[0;36mparse\u001b[1;34m(self)\u001b[0m\n\u001b[0;32m    883\u001b[0m \u001b[1;33m\u001b[0m\u001b[0m\n\u001b[0;32m    884\u001b[0m         \u001b[1;32melse\u001b[0m\u001b[1;33m:\u001b[0m\u001b[1;33m\u001b[0m\u001b[1;33m\u001b[0m\u001b[0m\n\u001b[1;32m--> 885\u001b[1;33m             \u001b[0mself\u001b[0m\u001b[1;33m.\u001b[0m\u001b[0m_parse_no_numpy\u001b[0m\u001b[1;33m(\u001b[0m\u001b[1;33m)\u001b[0m\u001b[1;33m\u001b[0m\u001b[1;33m\u001b[0m\u001b[0m\n\u001b[0m\u001b[0;32m    886\u001b[0m \u001b[1;33m\u001b[0m\u001b[0m\n\u001b[0;32m    887\u001b[0m         \u001b[1;32mif\u001b[0m \u001b[0mself\u001b[0m\u001b[1;33m.\u001b[0m\u001b[0mobj\u001b[0m \u001b[1;32mis\u001b[0m \u001b[1;32mNone\u001b[0m\u001b[1;33m:\u001b[0m\u001b[1;33m\u001b[0m\u001b[1;33m\u001b[0m\u001b[0m\n",
      "\u001b[1;32m~\\anaconda3\\lib\\site-packages\\pandas\\io\\json\\_json.py\u001b[0m in \u001b[0;36m_parse_no_numpy\u001b[1;34m(self)\u001b[0m\n\u001b[0;32m   1138\u001b[0m         \u001b[1;32mif\u001b[0m \u001b[0morient\u001b[0m \u001b[1;33m==\u001b[0m \u001b[1;34m\"columns\"\u001b[0m\u001b[1;33m:\u001b[0m\u001b[1;33m\u001b[0m\u001b[1;33m\u001b[0m\u001b[0m\n\u001b[0;32m   1139\u001b[0m             self.obj = DataFrame(\n\u001b[1;32m-> 1140\u001b[1;33m                 \u001b[0mloads\u001b[0m\u001b[1;33m(\u001b[0m\u001b[0mjson\u001b[0m\u001b[1;33m,\u001b[0m \u001b[0mprecise_float\u001b[0m\u001b[1;33m=\u001b[0m\u001b[0mself\u001b[0m\u001b[1;33m.\u001b[0m\u001b[0mprecise_float\u001b[0m\u001b[1;33m)\u001b[0m\u001b[1;33m,\u001b[0m \u001b[0mdtype\u001b[0m\u001b[1;33m=\u001b[0m\u001b[1;32mNone\u001b[0m\u001b[1;33m\u001b[0m\u001b[1;33m\u001b[0m\u001b[0m\n\u001b[0m\u001b[0;32m   1141\u001b[0m             )\n\u001b[0;32m   1142\u001b[0m         \u001b[1;32melif\u001b[0m \u001b[0morient\u001b[0m \u001b[1;33m==\u001b[0m \u001b[1;34m\"split\"\u001b[0m\u001b[1;33m:\u001b[0m\u001b[1;33m\u001b[0m\u001b[1;33m\u001b[0m\u001b[0m\n",
      "\u001b[1;31mValueError\u001b[0m: Unexpected character found when decoding object value"
     ]
    }
   ],
   "source": [
    "import pandas as pd\n",
    "import numpy as np\n",
    "import json\n",
    "data = '{\"Employee_name\":\"james\", \"email\":\"james@gmail.com\",\"job_profile\":\"[{\"title1\":\"trainee\", \"title2\":\"Team Lead\"}]\"}'\n",
    "pd.read_json(data)"
   ]
  },
  {
   "cell_type": "code",
   "execution_count": 3,
   "id": "9239ef95",
   "metadata": {},
   "outputs": [
    {
     "data": {
      "text/html": [
       "<div>\n",
       "<style scoped>\n",
       "    .dataframe tbody tr th:only-of-type {\n",
       "        vertical-align: middle;\n",
       "    }\n",
       "\n",
       "    .dataframe tbody tr th {\n",
       "        vertical-align: top;\n",
       "    }\n",
       "\n",
       "    .dataframe thead th {\n",
       "        text-align: right;\n",
       "    }\n",
       "</style>\n",
       "<table border=\"1\" class=\"dataframe\">\n",
       "  <thead>\n",
       "    <tr style=\"text-align: right;\">\n",
       "      <th></th>\n",
       "      <th>Employee name</th>\n",
       "      <th>email</th>\n",
       "      <th>job profile</th>\n",
       "    </tr>\n",
       "  </thead>\n",
       "  <tbody>\n",
       "    <tr>\n",
       "      <th>0</th>\n",
       "      <td>James</td>\n",
       "      <td>james@gmail.com</td>\n",
       "      <td>{'title1': 'trainee', 'title2': 'Team Lead'}</td>\n",
       "    </tr>\n",
       "  </tbody>\n",
       "</table>\n",
       "</div>"
      ],
      "text/plain": [
       "  Employee name            email                                   job profile\n",
       "0         James  james@gmail.com  {'title1': 'trainee', 'title2': 'Team Lead'}"
      ]
     },
     "execution_count": 3,
     "metadata": {},
     "output_type": "execute_result"
    }
   ],
   "source": [
    "d = '{\"Employee name\": \"James\", \"email\": \"james@gmail.com\", \"job profile\": [{\"title1\":\"trainee\", \"title2\":\"Team Lead\"}]}'\n",
    "pd.read_json(d)"
   ]
  },
  {
   "cell_type": "code",
   "execution_count": 6,
   "id": "698ce589",
   "metadata": {},
   "outputs": [],
   "source": [
    "url = 'https://www.fdic.gov/resources/resolutions/bank-failures/failed-bank-list'\n",
    "dfh = pd.read_html(url)"
   ]
  },
  {
   "cell_type": "code",
   "execution_count": null,
   "id": "e057f7aa",
   "metadata": {},
   "outputs": [],
   "source": [
    "dfh[]"
   ]
  }
 ],
 "metadata": {
  "kernelspec": {
   "display_name": "Python 3 (ipykernel)",
   "language": "python",
   "name": "python3"
  },
  "language_info": {
   "codemirror_mode": {
    "name": "ipython",
    "version": 3
   },
   "file_extension": ".py",
   "mimetype": "text/x-python",
   "name": "python",
   "nbconvert_exporter": "python",
   "pygments_lexer": "ipython3",
   "version": "3.9.12"
  }
 },
 "nbformat": 4,
 "nbformat_minor": 5
}
