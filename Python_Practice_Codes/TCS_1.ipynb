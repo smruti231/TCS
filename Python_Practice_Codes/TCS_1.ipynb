{
 "cells": [
  {
   "cell_type": "code",
   "execution_count": 4,
   "id": "92dfcbaf",
   "metadata": {},
   "outputs": [
    {
     "name": "stdout",
     "output_type": "stream",
     "text": [
      "take sunglasses\n",
      "You are correct\n"
     ]
    }
   ],
   "source": [
    "#intializing a variable weather with a str value\n",
    "\n",
    "weather = 'sunny'\n",
    "if weather == 'sunny':\n",
    "    print('take sunglasses')\n",
    "\n",
    "if weather == 'rainy':\n",
    "    print('take umbrella')\n",
    "\n",
    "if 10*10 == 100:\n",
    "    print('You are correct')"
   ]
  },
  {
   "cell_type": "code",
   "execution_count": 5,
   "id": "d48d9c96",
   "metadata": {},
   "outputs": [
    {
     "name": "stdout",
     "output_type": "stream",
     "text": [
      "What is your name?Smruti\n",
      "Hello Smruti Ranjan\n"
     ]
    }
   ],
   "source": [
    "#taking name as input from the user\n",
    "\n",
    "name = input('What is your name?')\n",
    "if name == 'Smruti':\n",
    "    print('Hello Smruti Ranjan')"
   ]
  },
  {
   "cell_type": "code",
   "execution_count": 6,
   "id": "1c1a5295",
   "metadata": {},
   "outputs": [
    {
     "name": "stdout",
     "output_type": "stream",
     "text": [
      "well done\n"
     ]
    }
   ],
   "source": [
    "#initializing variable score with int value\n",
    "\n",
    "score = 89\n",
    "if score > 80:\n",
    "    print('well done')\n",
    "else:\n",
    "    print('need improvement')"
   ]
  },
  {
   "cell_type": "code",
   "execution_count": 7,
   "id": "bfe463f1",
   "metadata": {},
   "outputs": [
    {
     "name": "stdout",
     "output_type": "stream",
     "text": [
      "how old are you ? 22\n",
      "You are an adult\n"
     ]
    }
   ],
   "source": [
    "#take age as input from user, print 'You are a kid' if the age is less than 18\n",
    "# print 'You are an adult' if age is age is greatr than equal to 18\n",
    "\n",
    "age = int(input('how old are you ? '))\n",
    "if age < 18:\n",
    "    print('You are a kid')\n",
    "else:\n",
    "    print('You are an adult')"
   ]
  },
  {
   "cell_type": "code",
   "execution_count": 9,
   "id": "fcaa8d8a",
   "metadata": {},
   "outputs": [
    {
     "name": "stdout",
     "output_type": "stream",
     "text": [
      "How is the weather ? rainy\n",
      "go outsiders\n"
     ]
    }
   ],
   "source": [
    "weather = input('How is the weather ? ')\n",
    "\n",
    "if weather == 'sunny':\n",
    "    print('take synglasses')\n",
    "print('go outsiders')"
   ]
  },
  {
   "cell_type": "code",
   "execution_count": 10,
   "id": "08505157",
   "metadata": {},
   "outputs": [
    {
     "name": "stdout",
     "output_type": "stream",
     "text": [
      "What is your score?91\n",
      "A\n"
     ]
    }
   ],
   "source": [
    "# take a score from user, print the following grades based on the score:\n",
    "# Greater than or equal to 90     A\n",
    "# Greater than or equal to 80 but less than 90   B\n",
    "# Greater than equal to 70 but less than 80      C\n",
    "# less than 70    D\n",
    "\n",
    "score = int(input('What is your score?'))\n",
    "\n",
    "if score >= 90:\n",
    "    print('A')\n",
    "elif score >= 80:\n",
    "    print('B')\n",
    "elif score >= 70:\n",
    "    print('C')\n",
    "else:\n",
    "    print('D')"
   ]
  },
  {
   "cell_type": "code",
   "execution_count": 11,
   "id": "41849b0f",
   "metadata": {},
   "outputs": [
    {
     "name": "stdout",
     "output_type": "stream",
     "text": [
      "Enter your English score: 94\n",
      "Enter your Science score: 84\n",
      "Prepare Well\n"
     ]
    }
   ],
   "source": [
    "english_score = int(input('Enter your English score: '))\n",
    "science_score = int(input('Enter your Science score: '))\n",
    "\n",
    "if english_score < 90 or science_score < 90:\n",
    "    print('Prepare Well')"
   ]
  },
  {
   "cell_type": "code",
   "execution_count": 1,
   "id": "88e19930",
   "metadata": {},
   "outputs": [
    {
     "name": "stdout",
     "output_type": "stream",
     "text": [
      "2\n",
      "4\n",
      "1. Addition\n",
      "2. Substraction\n",
      "3. Exponent\n",
      "4. Multiplication\n",
      "1\n",
      "2 + 4 = 6\n"
     ]
    }
   ],
   "source": [
    "a = int(input())\n",
    "b = int(input())\n",
    "\n",
    "print(\"1. Addition\", \"2. Substraction\", \"3. Exponent\", \"4. Multiplication\", sep = \"\\n\")\n",
    "ch = int(input())\n",
    "\n",
    "if(ch == 1):\n",
    "    print(\"{a} + {b} = {c}\".format(a=a, b=b, c=a+b))\n",
    "elif(ch == 2):\n",
    "    print(\"{a} - {b} = {c}\".format(a=a, b=b, c=a-b))\n",
    "elif(ch == 3):\n",
    "    print(\"{a} ^ {b} = {c}\".format(a=a, b=b, c=a**b))\n",
    "elif(ch == 4):\n",
    "    print(\"{a} * {b} = {c}\".format(a=a, b=b, c=a*b))\n",
    "else:\n",
    "    print(\"Invalid Choice! Exiting Application\")"
   ]
  },
  {
   "cell_type": "code",
   "execution_count": 1,
   "id": "ee56d22f",
   "metadata": {},
   "outputs": [
    {
     "name": "stdout",
     "output_type": "stream",
     "text": [
      "1. Addition\n",
      "2. Substraction\n",
      "3. Exponent\n",
      "4. Multiplication\n"
     ]
    }
   ],
   "source": [
    "print(\"1. Addition\", \"2. Substraction\", \"3. Exponent\", \"4. Multiplication\", sep = \"\\n\")"
   ]
  },
  {
   "cell_type": "code",
   "execution_count": 2,
   "id": "4f874cbf",
   "metadata": {},
   "outputs": [
    {
     "name": "stdout",
     "output_type": "stream",
     "text": [
      "1. Addition 2. Substraction 3. Exponent 4. Multiplication\n"
     ]
    }
   ],
   "source": [
    "print(\"1. Addition\", \"2. Substraction\", \"3. Exponent\", \"4. Multiplication\", sep = \" \")"
   ]
  },
  {
   "cell_type": "code",
   "execution_count": null,
   "id": "712fc8e8",
   "metadata": {},
   "outputs": [],
   "source": []
  },
  {
   "cell_type": "code",
   "execution_count": 4,
   "id": "2f0d6348",
   "metadata": {},
   "outputs": [
    {
     "name": "stdout",
     "output_type": "stream",
     "text": [
      "Sum of the series is:  2.71806\n"
     ]
    }
   ],
   "source": [
    "# Sum of Seris\n",
    "# 1/1! + 2/2! + 3/3! + .............. + n/n!\n",
    "\n",
    "num = 0\n",
    "sum = 0.0\n",
    "\n",
    "while(num <= 7):\n",
    "    fact = 1\n",
    "    for i in range(1, num + 1):\n",
    "        fact = fact * i\n",
    "        i = i + 1\n",
    "        \n",
    "    sum = sum + (num/fact)\n",
    "    num = num + 1\n",
    "\n",
    "print(\"Sum of the series is: \", round(sum, 5))"
   ]
  },
  {
   "cell_type": "code",
   "execution_count": null,
   "id": "319c84c9",
   "metadata": {},
   "outputs": [],
   "source": []
  },
  {
   "cell_type": "code",
   "execution_count": 5,
   "id": "508f8232",
   "metadata": {},
   "outputs": [
    {
     "name": "stdout",
     "output_type": "stream",
     "text": [
      "smruti ranjan polai\n",
      "7\n"
     ]
    }
   ],
   "source": [
    "# read a word and print total number of vowels\n",
    "\n",
    "word = input()\n",
    "count = 0\n",
    "for i in word:\n",
    "    if i.lower() in ['a', 'e', 'i', 'o', 'u']:\n",
    "        count += 1\n",
    "print(count)"
   ]
  },
  {
   "cell_type": "code",
   "execution_count": null,
   "id": "9ae1eb9e",
   "metadata": {},
   "outputs": [],
   "source": []
  },
  {
   "cell_type": "code",
   "execution_count": 4,
   "id": "83d6b7ad",
   "metadata": {},
   "outputs": [
    {
     "name": "stdout",
     "output_type": "stream",
     "text": [
      "aeroplane\n",
      "a - 2\n",
      "e - 2\n",
      "i - 0\n",
      "o - 1\n",
      "u - 0\n"
     ]
    }
   ],
   "source": [
    "# read a string from as input and print count of each words\n",
    "\n",
    "sentence = input()\n",
    "for char in['a', 'e', 'i', 'o', 'u']:\n",
    "    c = 0\n",
    "    for letter in sentence:\n",
    "        if letter.lower() == char:\n",
    "            c = c+1\n",
    "    print('{} - {}'.format(char, c))"
   ]
  },
  {
   "cell_type": "code",
   "execution_count": 5,
   "id": "0c96bffd",
   "metadata": {},
   "outputs": [
    {
     "name": "stdout",
     "output_type": "stream",
     "text": [
      "Smruti and Smruti and Smruti are all the good friends\n",
      "10\n"
     ]
    }
   ],
   "source": [
    "# read a string from the input & print word count in sentence\n",
    "\n",
    "sentence = input()\n",
    "words = sentence.split(' ')\n",
    "print(len(words))"
   ]
  },
  {
   "cell_type": "code",
   "execution_count": 6,
   "id": "b760ca10",
   "metadata": {},
   "outputs": [
    {
     "name": "stdout",
     "output_type": "stream",
     "text": [
      "discover\n",
      "dsoe\n"
     ]
    }
   ],
   "source": [
    "# take word & print letter at odd position\n",
    "\n",
    "word = input()\n",
    "print(word[::2])"
   ]
  },
  {
   "cell_type": "code",
   "execution_count": 7,
   "id": "f2ddd6a1",
   "metadata": {},
   "outputs": [
    {
     "name": "stdout",
     "output_type": "stream",
     "text": [
      "discover\n",
      "icvr\n"
     ]
    }
   ],
   "source": [
    "# take word & print letter at even position\n",
    "\n",
    "word = input()\n",
    "print(word[1::2])"
   ]
  },
  {
   "cell_type": "code",
   "execution_count": 9,
   "id": "c482e730",
   "metadata": {},
   "outputs": [
    {
     "name": "stdout",
     "output_type": "stream",
     "text": [
      "06022002\n",
      "date:06\n",
      "month:02\n",
      "year:2002\n"
     ]
    }
   ],
   "source": [
    "date = input()\n",
    "print('date:'+date[:2])\n",
    "print('month:'+date[2:4])\n",
    "print('year:'+date[4:])"
   ]
  },
  {
   "cell_type": "code",
   "execution_count": null,
   "id": "52bb8f95",
   "metadata": {},
   "outputs": [],
   "source": []
  },
  {
   "cell_type": "code",
   "execution_count": 8,
   "id": "a63e423d",
   "metadata": {},
   "outputs": [
    {
     "name": "stdout",
     "output_type": "stream",
     "text": [
      "233\n",
      "Prime\n"
     ]
    }
   ],
   "source": [
    "# read a number and print prime or not\n",
    "\n",
    "n = int(input())\n",
    "\n",
    "p = True\n",
    "\n",
    "for i in range(2, int(n**.5)+1):\n",
    "    if n%i == 0:\n",
    "        p = False\n",
    "if p and n>1:\n",
    "    print(\"Prime\")\n",
    "else:\n",
    "    print(\"Not prime\")"
   ]
  },
  {
   "cell_type": "code",
   "execution_count": 10,
   "id": "09aed697",
   "metadata": {},
   "outputs": [
    {
     "name": "stdout",
     "output_type": "stream",
     "text": [
      "smrutis\n",
      "s\n",
      "mruti"
     ]
    }
   ],
   "source": [
    "# read a word and print after deleting all the occurancs of the letter\n",
    "word = input()\n",
    "letter = input()\n",
    "\n",
    "for i in word:\n",
    "    if i != letter:\n",
    "        print(i, end = \"\")"
   ]
  },
  {
   "cell_type": "code",
   "execution_count": 11,
   "id": "3f6482d9",
   "metadata": {},
   "outputs": [
    {
     "name": "stdout",
     "output_type": "stream",
     "text": [
      "smruti ranjan polai\n",
      "ialop najnar iturms\n"
     ]
    }
   ],
   "source": [
    "# reverse a string\n",
    "\n",
    "word = input()\n",
    "print(word[::-1])  #using string slicing"
   ]
  },
  {
   "cell_type": "code",
   "execution_count": 12,
   "id": "7ba10565",
   "metadata": {},
   "outputs": [
    {
     "name": "stdout",
     "output_type": "stream",
     "text": [
      "12345\n",
      "15\n"
     ]
    }
   ],
   "source": [
    "# read a number and print sum of digits\n",
    "\n",
    "n = input()\n",
    "sum = 0\n",
    "for i in n:\n",
    "    sum += int(i)\n",
    "print(sum)"
   ]
  },
  {
   "cell_type": "code",
   "execution_count": 15,
   "id": "2974751b",
   "metadata": {},
   "outputs": [
    {
     "name": "stdout",
     "output_type": "stream",
     "text": [
      "1 2 5 6 7 8\n",
      "3 4 "
     ]
    }
   ],
   "source": [
    "# read number from a single line & print missing number \n",
    "# numbers will be in consecutive order\n",
    "\n",
    "n = input()\n",
    "input_numbers = n.split(' ')\n",
    "input_numbers = [int(num) for num in input_numbers]  #converting the string input into integers\n",
    "\n",
    "begin = input_numbers[0]\n",
    "end = input_numbers[-1]\n",
    "\n",
    "total_numbers = [i for i in range(begin, end+1)]\n",
    "\n",
    "ans = list(set(total_numbers).difference(set(input_numbers)))  #performing set difference \n",
    "\n",
    "for i in ans:\n",
    "    print(i, end=\" \")"
   ]
  },
  {
   "cell_type": "code",
   "execution_count": 17,
   "id": "2bcc37ec",
   "metadata": {},
   "outputs": [
    {
     "name": "stdout",
     "output_type": "stream",
     "text": [
      "Smruti & Smruti are 2 good friends of smruti\n",
      "Smruti\n",
      "The word Smruti appears 3 times\n"
     ]
    }
   ],
   "source": [
    "# to read sentence and word & print the number of tiomes word appears in the sentence\n",
    "\n",
    "text = input().split(' ')\n",
    "\n",
    "w = input()\n",
    "count = 0\n",
    "for word in text:\n",
    "    if word.lower() == w.lower():\n",
    "        count+=1\n",
    "        \n",
    "print('The word {} appears {} times'.format(w, count))  # string formatting"
   ]
  },
  {
   "cell_type": "raw",
   "id": "d520fb97",
   "metadata": {},
   "source": []
  },
  {
   "cell_type": "code",
   "execution_count": 6,
   "id": "86e8c4ca",
   "metadata": {},
   "outputs": [
    {
     "name": "stdout",
     "output_type": "stream",
     "text": [
      "Helllo Wooorld\n",
      "l l\n",
      "l l\n",
      "o o\n",
      "o o\n",
      "3\n"
     ]
    }
   ],
   "source": [
    "# read a word and print the longest repeating character\n",
    "\n",
    "text = input()\n",
    "max_count = 0\n",
    "count = 1\n",
    "\n",
    "for i in range(len(text) - 1):\n",
    "    # check if current letter is equal to next letter\n",
    "    if text[i] == text[i+1]:\n",
    "        print(text[i], text[i+1])\n",
    "        count += 1\n",
    "    else:\n",
    "        max_count = max(max_count, count)\n",
    "        count = 1\n",
    "max_count = max(max_count, count)\n",
    "if max_count > 1:\n",
    "    print(max_count)\n"
   ]
  },
  {
   "cell_type": "code",
   "execution_count": null,
   "id": "de64ac3d",
   "metadata": {},
   "outputs": [],
   "source": []
  },
  {
   "cell_type": "code",
   "execution_count": 35,
   "id": "94a29cb8",
   "metadata": {
    "scrolled": true
   },
   "outputs": [
    {
     "name": "stdout",
     "output_type": "stream",
     "text": [
      "['Ram', 'Suresh', 'Jayesh', 'Abhijit']\n"
     ]
    }
   ],
   "source": [
    "# sorty according to the length of the name\n",
    "ls1 = ['Suresh', 'Ram', 'Jayesh', 'Abhijit']\n",
    "ls1.sort(key = len)\n",
    "print(ls1)"
   ]
  },
  {
   "cell_type": "code",
   "execution_count": null,
   "id": "144ce968",
   "metadata": {},
   "outputs": [],
   "source": []
  },
  {
   "cell_type": "code",
   "execution_count": 7,
   "id": "55d45b54",
   "metadata": {},
   "outputs": [
    {
     "name": "stdout",
     "output_type": "stream",
     "text": [
      "Input a four digit numbers: 1234\n",
      "The sum of digits in the number is -977582204\n"
     ]
    }
   ],
   "source": [
    "num = int(input(\"Input a four digit numbers: \"))\n",
    "x  = num \n",
    "x1 = (num - x*1000)\n",
    "x2 = (num - x*1000 - x1*100)\n",
    "x3 = num - x*1000 - x1*100 - x2*10\n",
    "print(\"The sum of digits in the number is\", x+x1+x2+x3)\n"
   ]
  },
  {
   "cell_type": "code",
   "execution_count": null,
   "id": "0df5a9f8",
   "metadata": {},
   "outputs": [],
   "source": []
  },
  {
   "cell_type": "code",
   "execution_count": null,
   "id": "243986a3",
   "metadata": {},
   "outputs": [],
   "source": []
  },
  {
   "cell_type": "code",
   "execution_count": 1,
   "id": "40e3da67",
   "metadata": {},
   "outputs": [
    {
     "name": "stdout",
     "output_type": "stream",
     "text": [
      "Enter size of list 4\n",
      "Enter element of list 4\n",
      "Enter element of list 5\n",
      "Enter element of list 4\n",
      "Enter element of list 4\n",
      "Original list:  [4, 5, 4, 4]\n",
      "Enter element to be checked list: 4\n",
      "4  has occurred  3 times\n"
     ]
    }
   ],
   "source": [
    "# WAP to get number of occurance sof a specified elements in an array\n",
    "\n",
    "li=[]\n",
    "n=int(input(\"Enter size of list \"))\n",
    "for i in range(0,n):\n",
    "    e=int(input(\"Enter element of list \"))\n",
    "    li.append(e)\n",
    "print(\"Original list: \",li)\n",
    "\n",
    "n=int(input(\"Enter element to be checked list: \"))\n",
    "\n",
    "#using count()\n",
    "print(n,\" has occurred \",li.count(n),\"times\")"
   ]
  },
  {
   "cell_type": "code",
   "execution_count": null,
   "id": "ce02dbef",
   "metadata": {},
   "outputs": [],
   "source": []
  },
  {
   "cell_type": "code",
   "execution_count": 2,
   "id": "4de62278",
   "metadata": {},
   "outputs": [
    {
     "name": "stdout",
     "output_type": "stream",
     "text": [
      "enter number of elements7\n",
      "enter the array elements1\n",
      "enter the array elements3\n",
      "enter the array elements5\n",
      "enter the array elements1\n",
      "enter the array elements3\n",
      "enter the array elements7\n",
      "enter the array elements9\n",
      "entered array is:\n",
      "1\n",
      "3\n",
      "5\n",
      "1\n",
      "3\n",
      "7\n",
      "9\n",
      "Array after removing the duplicate elements = [1, 3, 5, 7, 9]\n"
     ]
    }
   ],
   "source": [
    "# WAP to remove duplicate elements from an array\n",
    "\n",
    "from array import *\n",
    "arr = array('i', [])\n",
    "n = int(input(\"enter number of elements\"))\n",
    "for i in range(n):\n",
    "    arr.append(int(input(\"enter the array elements\")))\n",
    "\n",
    "print(\"entered array is:\")\n",
    "for i in range(len(arr)):\n",
    "    print(arr[i])\n",
    "newlist = []\n",
    "for x in arr:\n",
    "    if x not in newlist:\n",
    "        newlist.append(x)\n",
    "arr = newlist\n",
    "print(\"Array after removing the duplicate elements =\", newlist)"
   ]
  },
  {
   "cell_type": "code",
   "execution_count": null,
   "id": "e74a63d0",
   "metadata": {},
   "outputs": [],
   "source": []
  },
  {
   "cell_type": "code",
   "execution_count": 12,
   "id": "590e5445",
   "metadata": {},
   "outputs": [
    {
     "name": "stdout",
     "output_type": "stream",
     "text": [
      "2\n"
     ]
    }
   ],
   "source": [
    "# WAP to count number of strings where string length is 2 or more and first & last chracter are same for given list of strings\n",
    "def match_words(words):\n",
    "    ctr = 0\n",
    "\n",
    "    for word in words:\n",
    "        if len(word) > 1 and word[0] == word[-1]:\n",
    "            ctr += 1\n",
    "    return ctr\n",
    "\n",
    "print(match_words(['abc', 'xyz', 'aba', '1221']))"
   ]
  },
  {
   "cell_type": "code",
   "execution_count": null,
   "id": "f4b5961d",
   "metadata": {},
   "outputs": [],
   "source": []
  },
  {
   "cell_type": "code",
   "execution_count": 13,
   "id": "90203345",
   "metadata": {},
   "outputs": [
    {
     "name": "stdout",
     "output_type": "stream",
     "text": [
      "The original list is : [4, 5, 6, 7, 3, 9]\n",
      "Does list contain all elements in range : True\n"
     ]
    }
   ],
   "source": [
    "# WAP to test if list contains elements in range; if present print 'True'\n",
    "\n",
    "test_list = [4, 5, 6, 7, 3, 9]\n",
    "  \n",
    "# printing original list \n",
    "print(\"The original list is : \" + str(test_list))\n",
    "  \n",
    "# Initialization of range \n",
    "i, j = 3, 10\n",
    "  \n",
    "# Test if List contains elements in Range\n",
    "# using all()\n",
    "res = all(ele >= i and ele < j for ele in test_list) \n",
    "  \n",
    "# printing result \n",
    "print (\"Does list contain all elements in range : \" + str(res))"
   ]
  },
  {
   "cell_type": "code",
   "execution_count": 5,
   "id": "89251b40",
   "metadata": {},
   "outputs": [
    {
     "name": "stdout",
     "output_type": "stream",
     "text": [
      "Enter size of list 6\n",
      "Enter element of list 4\n",
      "Enter element of list 5\n",
      "Enter element of list 6\n",
      "Enter element of list 7\n",
      "Enter element of list 3\n",
      "Enter element of list 9\n",
      "Original list:  [4, 5, 6, 7, 3, 9]\n",
      "Input upper range: 3\n",
      "Input lower range: 10\n",
      "Does list contain all elements in range : True\n"
     ]
    }
   ],
   "source": [
    "li=[]\n",
    "n=int(input(\"Enter size of list \"))\n",
    "for i in range(0,n):\n",
    "    e=int(input(\"Enter element of list \"))\n",
    "    li.append(e)\n",
    "print(\"Original list: \",li)\n",
    "\n",
    "k = int(input(\"Enter range start value: \"))\n",
    "l = int(input(\"Enter range start value: \"))\n",
    "res = all(ele >= k and ele < l for ele in li) \n",
    "  \n",
    "# printing result \n",
    "print (\"Does list contain all elements in range : \" + str(res))"
   ]
  },
  {
   "cell_type": "code",
   "execution_count": null,
   "id": "fb939ea2",
   "metadata": {},
   "outputs": [],
   "source": []
  },
  {
   "cell_type": "code",
   "execution_count": 6,
   "id": "05416814",
   "metadata": {},
   "outputs": [
    {
     "name": "stdout",
     "output_type": "stream",
     "text": [
      "The list is : \n",
      "[(3, 4, 6, 723), (1, 2), (134, 234, 34)]\n",
      "The sorted tuples are \n",
      "[(1, 2), (3, 4, 6, 723), (134, 234, 34)]\n"
     ]
    }
   ],
   "source": [
    "# WAP to sort tuples by total digits\n",
    "\n",
    "my_list = [(3, 4, 6, 723), (1, 2), (134, 234, 34)]\n",
    "\n",
    "print(\"The list is : \")\n",
    "print(my_list)\n",
    "\n",
    "my_result = sorted(my_list, key = lambda tup : sum([len(str(ele)) for ele in tup ]))\n",
    "\n",
    "print(\"The sorted tuples are \")\n",
    "print(my_result)"
   ]
  },
  {
   "cell_type": "code",
   "execution_count": null,
   "id": "12f52ce5",
   "metadata": {},
   "outputs": [],
   "source": []
  },
  {
   "cell_type": "code",
   "execution_count": 1,
   "id": "1f3807ec",
   "metadata": {},
   "outputs": [
    {
     "name": "stdout",
     "output_type": "stream",
     "text": [
      "How many student record you want to store?? 3\n",
      "Enter the complete name (First and last name) of student: Rohit Rag\n",
      "Enter contact number: 8796268167\n",
      "Enter Marks: 27\n",
      "Enter the complete name (First and last name) of student: Rubina Seikh\n",
      "Enter contact number: 7866426721\n",
      "Enter Marks: 28\n",
      "Enter the complete name (First and last name) of student: Puja Sribastav\n",
      "Enter contact number: 8976523459\n",
      "Enter Marks: 26\n",
      "Enter the operation detail: \n",
      "     1: Sorting using first name \n",
      "     2: Finding Minimum marks \n",
      "     3: Search contact number using first name: \n",
      "     4: Exit\n",
      "     Option: 1\n",
      "Puja Sribastav\n",
      "Rohit Rag\n",
      "Rubina Seikh\n",
      "Want to perform some other operation??? Y or N: \n",
      "Y\n",
      "Enter the operation detail: \n",
      "     1: Sorting using first name \n",
      "     2: Finding Minimum marks \n",
      "     3: Search contact number using first name: \n",
      "     4: Exit\n",
      "     Option: 2\n",
      "Minimum marks:  26\n",
      "Want to perform some other operation??? Y or N: \n",
      "Y\n",
      "Enter the operation detail: \n",
      "     1: Sorting using first name \n",
      "     2: Finding Minimum marks \n",
      "     3: Search contact number using first name: \n",
      "     4: Exit\n",
      "     Option: 3\n",
      "Enter first name of student: Rubina\n",
      "7866426721\n",
      "Want to perform some other operation??? Y or N: \n",
      "N\n"
     ]
    }
   ],
   "source": [
    "D = dict()\n",
    " \n",
    "n = int(input('How many student record you want to store?? '))\n",
    " \n",
    "# Add student information\n",
    "# to the dictionary\n",
    "for i in range(0,n):\n",
    "    x, y = input(\"Enter the complete name (First and last name) of student: \").split()\n",
    "    z = input(\"Enter contact number: \")\n",
    "    m = input('Enter Marks: ')\n",
    "    D[x, y] = (z, m)\n",
    "     \n",
    "# define a function for shorting\n",
    "# names based on first name\n",
    "def sort():\n",
    "    ls = list()\n",
    "    # fetch key and value using\n",
    "    # items() method\n",
    "    for sname,details in D.items():\n",
    "       \n",
    "        # store key parts as an tuple\n",
    "        tup = (sname[0],sname[1])\n",
    "         \n",
    "        # add tuple to the list\n",
    "        ls.append(tup)   \n",
    "         \n",
    "    # sort the final list of tuples\n",
    "    ls = sorted(ls)   \n",
    "    for i in ls:\n",
    "       \n",
    "        # print first name and second name\n",
    "        print(i[0],i[1])\n",
    "    return\n",
    "   \n",
    "# define a function for\n",
    "# finding the minimum marks\n",
    "# in stored data\n",
    "def minmarks():\n",
    "    ls = list()\n",
    "    # fetch key and value using\n",
    "    # items() methods\n",
    "    for sname,details in D.items():\n",
    "        # add details second element\n",
    "        # (marks) to the list\n",
    "        ls.append(details[1])   \n",
    "     \n",
    "    # sort the list elemnts   \n",
    "    ls = sorted(ls)   \n",
    "    print(\"Minimum marks: \", min(ls))\n",
    "     \n",
    "    return\n",
    "   \n",
    "# define a function for searching\n",
    "# student contact number\n",
    "def searchdetail(fname):\n",
    "    ls = list()\n",
    "     \n",
    "    for sname,details in D.items():\n",
    "       \n",
    "        tup=(sname,details)\n",
    "        ls.append(tup)\n",
    "         \n",
    "    for i in ls:\n",
    "        if i[0][0] == fname:\n",
    "            print(i[1][0])\n",
    "    return\n",
    "   \n",
    "# define a function for\n",
    "# asking the options\n",
    "def option():\n",
    "   \n",
    "    choice = int(input('Enter the operation detail: \\n \\\n",
    "    1: Sorting using first name \\n \\\n",
    "    2: Finding Minimum marks \\n \\\n",
    "    3: Search contact number using first name: \\n \\\n",
    "    4: Exit\\n \\\n",
    "    Option: '))\n",
    "     \n",
    "    if choice == 1:\n",
    "        # function call\n",
    "        sort()\n",
    "        print('Want to perform some other operation??? Y or N: ')\n",
    "        inp = input()\n",
    "        if inp == 'Y':\n",
    "            option()\n",
    "             \n",
    "        # exit function call   \n",
    "        exit()\n",
    "         \n",
    "    elif choice == 2:\n",
    "        minmarks()\n",
    "        print('Want to perform some other operation??? Y or N: ')\n",
    "         \n",
    "        inp = input()\n",
    "        if inp == 'Y':\n",
    "            option()\n",
    "        exit()\n",
    "         \n",
    "    elif choice == 3:\n",
    "        first = input('Enter first name of student: ')\n",
    "        searchdetail(first)\n",
    "         \n",
    "        print('Want to perform some other operation??? Y or N: ')\n",
    "        inp = input()\n",
    "        if inp == 'Y':\n",
    "            option()\n",
    "             \n",
    "        exit()\n",
    "    else:\n",
    "        print('Thanks for executing me!!!!')\n",
    "        exit()\n",
    "         \n",
    "option()"
   ]
  },
  {
   "cell_type": "code",
   "execution_count": null,
   "id": "ca1eccb4",
   "metadata": {},
   "outputs": [],
   "source": []
  },
  {
   "cell_type": "code",
   "execution_count": 3,
   "id": "001d1516",
   "metadata": {},
   "outputs": [
    {
     "name": "stdout",
     "output_type": "stream",
     "text": [
      "{'a': 400, 'b': 400}\n"
     ]
    }
   ],
   "source": [
    "# WAP to combine two dictonaries by adding values for common keys\n",
    "\n",
    "d1 = {'a': 100, 'b': 200, 'c':300}\n",
    "d2 = {'a': 300, 'b': 200, 'd':400}\n",
    "d3 = {}\n",
    "for i, j in d1.items():\n",
    "    for x, y in d2.items():\n",
    "        if i == x:\n",
    "            d3[i]=(j+y)\n",
    "print(d3)\n",
    "items = {'a': 400, 'b': 400}"
   ]
  },
  {
   "cell_type": "code",
   "execution_count": null,
   "id": "02d64287",
   "metadata": {},
   "outputs": [],
   "source": []
  },
  {
   "cell_type": "code",
   "execution_count": 12,
   "id": "edb83914",
   "metadata": {},
   "outputs": [
    {
     "name": "stdout",
     "output_type": "stream",
     "text": [
      "['arc', 'cloud', 'forest', 'poor', 'rock', 'sky', 'tool', 'wood']\n",
      "[0, 1, 2, 3, 4, 5, 6, 7]\n"
     ]
    }
   ],
   "source": [
    "words = ['forest', 'wood', 'tool', 'arc', 'sky', 'poor', 'cloud', 'rock']\n",
    "vals = [2, 1, 0, 3, 4, 6, 5, 7]\n",
    "\n",
    "words.sort()\n",
    "print(words)\n",
    "\n",
    "vals.sort()\n",
    "print(vals)"
   ]
  },
  {
   "cell_type": "code",
   "execution_count": 20,
   "id": "736e93ea",
   "metadata": {},
   "outputs": [
    {
     "name": "stdout",
     "output_type": "stream",
     "text": [
      "Enter size of list 4\n",
      "Enter element of list guava\n",
      "Enter element of list grapes\n",
      "Enter element of list apple\n",
      "Enter element of list banana\n",
      "Original list:  ['guava', 'grapes', 'apple', 'banana']\n",
      "['apple', 'banana', 'grapes', 'guava']\n",
      "['guava', 'grapes', 'banana', 'apple']\n"
     ]
    }
   ],
   "source": [
    "# WAP to take input and store it in list; print the sorted list first in ascending order & then in descending order\n",
    "li=[]\n",
    "n=int(input(\"Enter size of list \"))\n",
    "for i in range(0,n):\n",
    "    e=input(\"Enter element of list \")\n",
    "    li.append(e)\n",
    "print(\"Original list: \",li)\n",
    "li.sort()\n",
    "print(li)\n",
    "li.sort(key=None, reverse=True)\n",
    "print(li)"
   ]
  },
  {
   "cell_type": "code",
   "execution_count": null,
   "id": "58aa8703",
   "metadata": {},
   "outputs": [],
   "source": []
  },
  {
   "cell_type": "code",
   "execution_count": 34,
   "id": "90f4bba1",
   "metadata": {},
   "outputs": [
    {
     "name": "stdout",
     "output_type": "stream",
     "text": [
      "[('army', 41), ('beth', 37), ('jane', 43), ('john', 41), ('mike', 59), ('zane', 32)]\n",
      "[32, 37, 41, 41, 43, 59]\n"
     ]
    }
   ],
   "source": [
    "# WAP to sort dictionary first on the basis of key and then value\n",
    "\n",
    "# dict = {6:'George' ,2:'John' ,1:'Potter' ,9:'Micheal' ,7:'Robert' ,8:'Gayle' }  \n",
    "dict = {'beth': 37, 'zane': 32, 'john': 41, 'army': 41, 'mike': 59, 'jane': 43}\n",
    "# b = sorted(dict.keys())\n",
    "# print(\"Sorted keys\",b)  \n",
    "  \n",
    "# c = sorted(dict.items())\n",
    "# print(\"Sorted Values\",c)  \n",
    "\n",
    "sort_keys = dict.items()\n",
    "new_items = sorted(sort_keys)\n",
    "print(new_items)\n",
    "\n",
    "sort_values = dict.values()\n",
    "new_values = sorted(sort_values)\n",
    "print(new_values)"
   ]
  },
  {
   "cell_type": "code",
   "execution_count": 35,
   "id": "15b92053",
   "metadata": {},
   "outputs": [
    {
     "name": "stdout",
     "output_type": "stream",
     "text": [
      "[('a', 150), ('b', 170), ('m', 250), ('o', 950)]\n"
     ]
    }
   ],
   "source": [
    "my_dict = {\"m\":250,\"o\":950,\"b\":170,\"a\":150} \n",
    " \n",
    "sort_keys = my_dict.items()\n",
    "new_items = sorted(sort_keys)\n",
    "print(new_items)"
   ]
  },
  {
   "cell_type": "code",
   "execution_count": 1,
   "id": "1535de51",
   "metadata": {},
   "outputs": [
    {
     "name": "stdout",
     "output_type": "stream",
     "text": [
      "Sorted keys [32, 37, 41, 41, 43, 59]\n",
      "Sorted Values [('army', 41), ('beth', 37), ('jane', 43), ('john', 41), ('mike', 59), ('zane', 32)]\n"
     ]
    }
   ],
   "source": [
    "# dict = {6:'George' ,2:'John' ,1:'Potter' ,9:'Micheal' ,7:'Robert' ,8:'Gayle' }  \n",
    "dict = {'beth': 37, 'zane': 32, 'john': 41, 'army': 41, 'mike': 59, 'jane': 43}\n",
    "b = sorted(dict.values())\n",
    "print(\"Sorted keys\",b)  \n",
    "  \n",
    "c = sorted(dict.items())\n",
    "print(\"Sorted Values\",c)  "
   ]
  },
  {
   "cell_type": "code",
   "execution_count": null,
   "id": "b1dff0b7",
   "metadata": {},
   "outputs": [],
   "source": []
  }
 ],
 "metadata": {
  "kernelspec": {
   "display_name": "Python 3 (ipykernel)",
   "language": "python",
   "name": "python3"
  },
  "language_info": {
   "codemirror_mode": {
    "name": "ipython",
    "version": 3
   },
   "file_extension": ".py",
   "mimetype": "text/x-python",
   "name": "python",
   "nbconvert_exporter": "python",
   "pygments_lexer": "ipython3",
   "version": "3.9.13"
  }
 },
 "nbformat": 4,
 "nbformat_minor": 5
}
