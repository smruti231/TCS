{
 "cells": [
  {
   "cell_type": "code",
   "execution_count": null,
   "id": "ad417bf1",
   "metadata": {},
   "outputs": [],
   "source": []
  },
  {
   "cell_type": "code",
   "execution_count": 1,
   "id": "96332221",
   "metadata": {},
   "outputs": [
    {
     "name": "stdout",
     "output_type": "stream",
     "text": [
      "*\r\n",
      "**\r\n",
      "***\r\n",
      "****\r\n",
      "*****\r\n"
     ]
    }
   ],
   "source": [
    "def pattern(n):\n",
    "    for i in range(0, n):\n",
    "        for j in range(0, i+1):\n",
    "            print(\"*\", end=\"\")\n",
    "        print(\"\\r\")\n",
    "n = 5\n",
    "pattern(5)"
   ]
  },
  {
   "cell_type": "code",
   "execution_count": 2,
   "id": "2628e39e",
   "metadata": {},
   "outputs": [
    {
     "name": "stdout",
     "output_type": "stream",
     "text": [
      "*\n",
      "\n",
      "**\n",
      "\n",
      "***\n",
      "\n",
      "****\n",
      "\n",
      "*****\n",
      "\n"
     ]
    }
   ],
   "source": [
    "def pattern(n):\n",
    "    for i in range(0, n):\n",
    "        for j in range(0, i+1):\n",
    "            print(\"*\", end=\"\")\n",
    "        print(\"\\n\")\n",
    "n = 5\n",
    "pattern(5)"
   ]
  },
  {
   "cell_type": "code",
   "execution_count": 5,
   "id": "25f4715a",
   "metadata": {},
   "outputs": [
    {
     "name": "stdout",
     "output_type": "stream",
     "text": [
      "     \r\n",
      "    *\r\n",
      "   **\r\n",
      "  ***\r\n",
      " ****\r\n",
      "*****\r\n"
     ]
    }
   ],
   "source": [
    "def pattern(n):\n",
    "    for i in range(0, n+1):\n",
    "        for k in range(n,i,-1):\n",
    "            print(\" \", end=\"\")\n",
    "        for j in range(0,i):\n",
    "            print(\"*\", end = \"\")\n",
    "        print(\"\\r\")\n",
    "n = 5\n",
    "pattern(5)"
   ]
  },
  {
   "cell_type": "code",
   "execution_count": 6,
   "id": "afadb21e",
   "metadata": {},
   "outputs": [
    {
     "name": "stdout",
     "output_type": "stream",
     "text": [
      "*****\r\n",
      " ****\r\n",
      "  ***\r\n",
      "   **\r\n",
      "    *\r\n"
     ]
    }
   ],
   "source": [
    "def pattern(n):\n",
    "    for i in range(n, 0, -1):\n",
    "        for k in range(n,i,-1):\n",
    "            print(\" \", end=\"\")\n",
    "        for j in range(0,i):\n",
    "            print(\"*\", end = \"\")\n",
    "        print(\"\\r\")\n",
    "n = 5\n",
    "pattern(5)"
   ]
  },
  {
   "cell_type": "code",
   "execution_count": 7,
   "id": "c879a01a",
   "metadata": {},
   "outputs": [
    {
     "name": "stdout",
     "output_type": "stream",
     "text": [
      "1 \n",
      "2 3 \n",
      "4 5 6 \n",
      "7 8 9 10 \n",
      "11 12 13 14 15 \n"
     ]
    }
   ],
   "source": [
    "n=1\n",
    "for i in range(0, 5):\n",
    "    for j in range(0, i+1):\n",
    "        print(n, end = \" \")\n",
    "        n = n + 1\n",
    "    print()"
   ]
  },
  {
   "cell_type": "code",
   "execution_count": 9,
   "id": "7bfb0146",
   "metadata": {},
   "outputs": [
    {
     "name": "stdout",
     "output_type": "stream",
     "text": [
      "1 \n",
      "1 2 \n",
      "1 2 3 \n",
      "1 2 3 4 \n",
      "1 2 3 4 5 \n"
     ]
    }
   ],
   "source": [
    "for i in range(0, 5):\n",
    "    num = 1\n",
    "    for j in range(0, i+1):\n",
    "        print(num, end = \" \")\n",
    "        num = num + 1\n",
    "    print()"
   ]
  },
  {
   "cell_type": "code",
   "execution_count": 11,
   "id": "d751c5be",
   "metadata": {},
   "outputs": [
    {
     "name": "stdout",
     "output_type": "stream",
     "text": [
      "A \n",
      "B C \n",
      "D E F \n",
      "G H I J \n",
      "K L M N O \n"
     ]
    }
   ],
   "source": [
    "val = 65\n",
    "for i in range(0,5):\n",
    "    for j in range(0, i+1):\n",
    "        ch = chr(val)\n",
    "        print(ch, end=\" \")\n",
    "        val = val + 1\n",
    "    print()"
   ]
  },
  {
   "cell_type": "code",
   "execution_count": 12,
   "id": "bfeac609",
   "metadata": {},
   "outputs": [
    {
     "name": "stdout",
     "output_type": "stream",
     "text": [
      "A\n",
      "BC\n",
      "DEF\n",
      "GHIJ\n",
      "KLMNO\n"
     ]
    }
   ],
   "source": [
    "val = 65\n",
    "for i in range(0,5):\n",
    "    for j in range(0, i+1):\n",
    "        ch = chr(val)\n",
    "        print(ch, end=\"\")\n",
    "        val = val + 1\n",
    "    print()"
   ]
  },
  {
   "cell_type": "code",
   "execution_count": 13,
   "id": "f3cc72fc",
   "metadata": {},
   "outputs": [
    {
     "name": "stdout",
     "output_type": "stream",
     "text": [
      "A***\n",
      "B***C***\n",
      "D***E***F***\n",
      "G***H***I***J***\n",
      "K***L***M***N***O***\n"
     ]
    }
   ],
   "source": [
    "val = 65\n",
    "for i in range(0,5):\n",
    "    for j in range(0, i+1):\n",
    "        ch = chr(val)\n",
    "        print(ch, end=\"***\")\n",
    "        val = val + 1\n",
    "    print()"
   ]
  },
  {
   "cell_type": "code",
   "execution_count": 14,
   "id": "62291552",
   "metadata": {},
   "outputs": [
    {
     "name": "stdout",
     "output_type": "stream",
     "text": [
      "        1 \n",
      "       3 2 \n",
      "      6 5 4 \n",
      "     10 9 8 7 \n",
      "    15 14 13 12 11 \n"
     ]
    }
   ],
   "source": [
    "num = 1\n",
    "count = 0\n",
    "decr = 8\n",
    "for i in range(0,5):\n",
    "    for k in range(0, decr):\n",
    "        print(end=\" \")\n",
    "    for j in range(0, i+1):\n",
    "        count = count + 1\n",
    "    num = count\n",
    "    for j in range(0, i+1):\n",
    "        print(num, end=\" \")\n",
    "        num = num - 1\n",
    "    print()\n",
    "    decr = decr - 1"
   ]
  },
  {
   "cell_type": "code",
   "execution_count": 22,
   "id": "749c11c6",
   "metadata": {},
   "outputs": [
    {
     "name": "stdout",
     "output_type": "stream",
     "text": [
      "        \u0001 \n",
      "      \u0003 \n",
      "\u0002 \n",
      "  \u0006 \n",
      "\u0005 \n",
      "\u0004 \n",
      "\n",
      " \n",
      "\t \n",
      "\b \n",
      "\u0007 \n",
      "\u000f \n",
      "\u000e \n",
      "\r",
      " \n",
      "\f",
      " \n",
      "\u000b",
      " \n"
     ]
    }
   ],
   "source": [
    "decr = 8\n",
    "count = 0\n",
    "val = 65\n",
    "for i in range(0,5):\n",
    "    for k in range(0, decr):\n",
    "        print(end=\" \")\n",
    "    for j in range(0, i+1):\n",
    "        count = count + 1\n",
    "    val = count\n",
    "    for l in range(0, i+1):\n",
    "        ch = chr(val)\n",
    "        print(ch, end=\" \")\n",
    "        val = val - 1\n",
    "    decr = decr - 2\n",
    "    print()"
   ]
  },
  {
   "cell_type": "code",
   "execution_count": 23,
   "id": "b3af49d0",
   "metadata": {},
   "outputs": [
    {
     "name": "stdout",
     "output_type": "stream",
     "text": [
      "Full Pyramid Pattern of Stars (*): \n",
      "      * \n",
      "     * * \n",
      "    * * * \n",
      "   * * * * \n",
      "  * * * * * \n"
     ]
    }
   ],
   "source": [
    "print(\"Full Pyramid Pattern of Stars (*): \")\n",
    "for i in range(5):\n",
    "    for s in range(-6, -i):\n",
    "        print(\" \", end=\"\")\n",
    "    for j in range(i+1):\n",
    "        print(\"* \", end=\"\")\n",
    "    print()"
   ]
  },
  {
   "cell_type": "code",
   "execution_count": 24,
   "id": "4d69fe98",
   "metadata": {},
   "outputs": [
    {
     "name": "stdout",
     "output_type": "stream",
     "text": [
      "Inverted Full Pyramid of Stars (*): \n",
      "* * * * * \n",
      " * * * * \n",
      "  * * * \n",
      "   * * \n",
      "    * \n"
     ]
    }
   ],
   "source": [
    "print(\"Inverted Full Pyramid of Stars (*): \")\n",
    "for i in range(5):\n",
    "    for s in range(i):\n",
    "        print(\" \", end=\"\")\n",
    "    for j in range(i, 5):\n",
    "        print(\"* \", end=\"\")\n",
    "    print()"
   ]
  },
  {
   "cell_type": "code",
   "execution_count": 25,
   "id": "06bc63c4",
   "metadata": {},
   "outputs": [
    {
     "name": "stdout",
     "output_type": "stream",
     "text": [
      "Enter Number of Rows: \n",
      "9\n",
      "Star Pyramid of 9 Rows or Lines: \n",
      "         * \n",
      "        * * \n",
      "       * * * \n",
      "      * * * * \n",
      "     * * * * * \n",
      "    * * * * * * \n",
      "   * * * * * * * \n",
      "  * * * * * * * * \n",
      " * * * * * * * * * \n"
     ]
    }
   ],
   "source": [
    "print(\"Enter Number of Rows: \")\n",
    "row = int(input())\n",
    "print(\"Star Pyramid of \" + str(row) + \" Rows or Lines: \")\n",
    "for i in range(row):\n",
    "    for s in range(row, i, -1):\n",
    "        print(end=\" \")\n",
    "    for j in range(i+1):\n",
    "        print(end=\"* \")\n",
    "    print()"
   ]
  },
  {
   "cell_type": "code",
   "execution_count": 26,
   "id": "685c659f",
   "metadata": {},
   "outputs": [
    {
     "name": "stdout",
     "output_type": "stream",
     "text": [
      "* \n",
      "* * \n",
      "* * * \n",
      "* * * * \n",
      "* * * * * \n",
      "------------------------\n",
      "* * * * * \n",
      "* * * * \n",
      "* * * \n",
      "* * \n",
      "* \n",
      "------------------------\n",
      "    * \n",
      "   * * \n",
      "  * * * \n",
      " * * * * \n",
      "* * * * * \n",
      "------------------------\n",
      "* * * * * \n",
      " * * * * \n",
      "  * * * \n",
      "   * * \n",
      "    * \n"
     ]
    }
   ],
   "source": [
    "def halfPyramid():\n",
    "    for i in range(5):\n",
    "        for j in range(i+1):\n",
    "            print(end=\"* \")\n",
    "        print()\n",
    "def invertedHalfPyramid():\n",
    "    for i in range(5):\n",
    "        for j in range(i, 5):\n",
    "            print(end=\"* \")\n",
    "        print()\n",
    "def fullPyramid():\n",
    "    for i in range(5):\n",
    "        for s in range(5, i+1, -1):\n",
    "            print(end=\" \")\n",
    "        for j in range(i + 1):\n",
    "            print(end=\"* \")\n",
    "        print()\n",
    "def invertedFullPyramid():\n",
    "    for i in range(5):\n",
    "        for s in range(i):\n",
    "            print(end=\" \")\n",
    "        for j in range(i, 5):\n",
    "            print(end=\"* \")\n",
    "        print()\n",
    "halfPyramid()\n",
    "print(\"------------------------\")\n",
    "invertedHalfPyramid()\n",
    "print(\"------------------------\")\n",
    "fullPyramid()\n",
    "print(\"------------------------\")\n",
    "invertedFullPyramid()"
   ]
  },
  {
   "cell_type": "code",
   "execution_count": 27,
   "id": "4f142c31",
   "metadata": {},
   "outputs": [
    {
     "name": "stdout",
     "output_type": "stream",
     "text": [
      "1. Print Half Pyramid of Stars\n",
      "2. Print Inverted Half Pyramid of Stars\n",
      "3. Print Full Pyramid of Stars\n",
      "4. Print Inverted Full Pyramid of Stars\n",
      "5. Exit\n",
      "Enter Your Choice: 2\n",
      "* * * * * \n",
      "* * * * \n",
      "* * * \n",
      "* * \n",
      "* \n",
      "1. Print Half Pyramid of Stars\n",
      "2. Print Inverted Half Pyramid of Stars\n",
      "3. Print Full Pyramid of Stars\n",
      "4. Print Inverted Full Pyramid of Stars\n",
      "5. Exit\n",
      "Enter Your Choice: 5\n",
      "Exiting...\n"
     ]
    }
   ],
   "source": [
    "def halfPyramid():\n",
    "    for i in range(5):\n",
    "        for j in range(i+1):\n",
    "            print(end=\"* \")\n",
    "        print()\n",
    "def invertedHalfPyramid():\n",
    "    for i in range(5):\n",
    "        for j in range(i, 5):\n",
    "            print(end=\"* \")\n",
    "        print()\n",
    "def fullPyramid():\n",
    "    for i in range(5):\n",
    "        for s in range(5, i+1, -1):\n",
    "            print(end=\" \")\n",
    "        for j in range(i + 1):\n",
    "            print(end=\"* \")\n",
    "        print()\n",
    "def invertedFullPyramid():\n",
    "    for i in range(5):\n",
    "        for s in range(i):\n",
    "            print(end=\" \")\n",
    "        for j in range(i, 5):\n",
    "            print(end=\"* \")\n",
    "        print()\n",
    "while True:\n",
    "    print(\"1. Print Half Pyramid of Stars\")\n",
    "    print(\"2. Print Inverted Half Pyramid of Stars\")\n",
    "    print(\"3. Print Full Pyramid of Stars\")\n",
    "    print(\"4. Print Inverted Full Pyramid of Stars\")\n",
    "    print(\"5. Exit\")\n",
    "    print(\"Enter Your Choice: \", end=\"\")\n",
    "    choice = int(input())\n",
    "    if choice==1:\n",
    "        halfPyramid()\n",
    "    elif choice==2:\n",
    "        invertedHalfPyramid()\n",
    "    elif choice==3:\n",
    "        fullPyramid()\n",
    "    elif choice==4:\n",
    "        invertedFullPyramid()\n",
    "    elif choice==5:\n",
    "        print(\"Exiting...\")\n",
    "        break\n",
    "    else:\n",
    "        print(\"Wrong Choice!\")"
   ]
  },
  {
   "cell_type": "code",
   "execution_count": 28,
   "id": "6bac25d4",
   "metadata": {},
   "outputs": [
    {
     "name": "stdout",
     "output_type": "stream",
     "text": [
      "Pyramid Pattern of Numbers: \n",
      "1 2 3 4 5 \n",
      "1 2 3 4 \n",
      "1 2 3 \n",
      "1 2 \n",
      "1 \n"
     ]
    }
   ],
   "source": [
    "print(\"Pyramid Pattern of Numbers: \")\n",
    "for i in range(5):\n",
    "    num = 1\n",
    "    for j in range(5, i, -1):\n",
    "        print(num, end=\" \")\n",
    "        num = num + 1\n",
    "    print()"
   ]
  },
  {
   "cell_type": "code",
   "execution_count": 29,
   "id": "6e4a03dc",
   "metadata": {},
   "outputs": [
    {
     "name": "stdout",
     "output_type": "stream",
     "text": [
      "Inverted Half Pyramid of Numbers: \n",
      "        1 \n",
      "      2 1 \n",
      "    3 2 1 \n",
      "  4 3 2 1 \n",
      "5 4 3 2 1 \n"
     ]
    }
   ],
   "source": [
    "print(\"Inverted Half Pyramid of Numbers: \")\n",
    "decr = 8\n",
    "for i in range(5):\n",
    "    count = 0\n",
    "    for k in range(decr):\n",
    "        print(end=\" \")\n",
    "    decr = decr - 2\n",
    "    for j in range(i+1):\n",
    "        count = count + 1\n",
    "    num = count\n",
    "    for j in range(i+1):\n",
    "        print(num, end=\" \")\n",
    "        num = num - 1\n",
    "    print()"
   ]
  },
  {
   "cell_type": "code",
   "execution_count": 32,
   "id": "45df2544",
   "metadata": {},
   "outputs": [
    {
     "name": "stdout",
     "output_type": "stream",
     "text": [
      "Pattern of Alphabets: \n",
      "A \n",
      "B C \n",
      "D E F \n",
      "G H I J \n",
      "K L M N O \n"
     ]
    }
   ],
   "source": [
    "print(\"Pattern of Alphabets: \")\n",
    "val = 65\n",
    "for i in range(5):\n",
    "    for j in range(i+1):\n",
    "        ch = chr(val)\n",
    "        print(ch, end=\" \")\n",
    "        val = val+1\n",
    "    print()"
   ]
  },
  {
   "cell_type": "code",
   "execution_count": 33,
   "id": "068c1ec3",
   "metadata": {},
   "outputs": [
    {
     "name": "stdout",
     "output_type": "stream",
     "text": [
      "Half Pyramid Pattern of Alphabets: \n",
      "A \n",
      "B B \n",
      "C C C \n",
      "D D D D \n",
      "E E E E E \n"
     ]
    }
   ],
   "source": [
    "print(\"Half Pyramid Pattern of Alphabets: \")\n",
    "val = 65\n",
    "for i in range(5):\n",
    "    for j in range(i+1):\n",
    "        ch = chr(val)\n",
    "        print(ch, end=\" \")\n",
    "    val = val+1\n",
    "    print()"
   ]
  },
  {
   "cell_type": "code",
   "execution_count": 34,
   "id": "3e293855",
   "metadata": {},
   "outputs": [
    {
     "name": "stdout",
     "output_type": "stream",
     "text": [
      "Enter the order : 5\n",
      "          A \n",
      "        B C \n",
      "      D E F \n",
      "    G H I J \n",
      "  K L M N O \n"
     ]
    }
   ],
   "source": [
    "order = int(input(\"Enter the order : \"))\n",
    "c = ord(\"A\")\n",
    "d = 1\n",
    "for i in range(order,0,-1):\n",
    "    for j in range(i):\n",
    "        print(\" \",end=\" \")\n",
    "    for k in range(1,d+1):\n",
    "        #c=c-1\n",
    "        print(chr(c),end=\" \")\n",
    "        c=c+1\n",
    "    d=d+1\n",
    "    print()"
   ]
  },
  {
   "cell_type": "code",
   "execution_count": 35,
   "id": "d27f88d3",
   "metadata": {},
   "outputs": [
    {
     "name": "stdout",
     "output_type": "stream",
     "text": [
      "Enter the order : 5\n",
      "        A\n",
      "      C B\n",
      "    F E D\n",
      "  J I H G\n",
      "O N M L K\n"
     ]
    }
   ],
   "source": [
    "cols = int(input(\"Enter the order : \"))\n",
    "end = cols - 1\n",
    "c = ord('A')\n",
    "for r in range(cols):\n",
    "    l = [chr(c+count) for count in range(cols-end)]\n",
    "    c=c+len(l)\n",
    "    l.extend(' '*end)\n",
    "    end = end -1\n",
    "    l.reverse()\n",
    "    print(' '.join(l))"
   ]
  },
  {
   "cell_type": "code",
   "execution_count": null,
   "id": "373e7818",
   "metadata": {},
   "outputs": [],
   "source": []
  }
 ],
 "metadata": {
  "kernelspec": {
   "display_name": "Python 3 (ipykernel)",
   "language": "python",
   "name": "python3"
  },
  "language_info": {
   "codemirror_mode": {
    "name": "ipython",
    "version": 3
   },
   "file_extension": ".py",
   "mimetype": "text/x-python",
   "name": "python",
   "nbconvert_exporter": "python",
   "pygments_lexer": "ipython3",
   "version": "3.9.12"
  }
 },
 "nbformat": 4,
 "nbformat_minor": 5
}
