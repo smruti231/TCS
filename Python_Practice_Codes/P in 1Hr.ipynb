{
 "cells": [
  {
   "cell_type": "code",
   "execution_count": 1,
   "id": "870033ab",
   "metadata": {},
   "outputs": [
    {
     "name": "stdout",
     "output_type": "stream",
     "text": [
      "Hello World\n"
     ]
    }
   ],
   "source": [
    "print(\"Hello World\")"
   ]
  },
  {
   "cell_type": "code",
   "execution_count": 2,
   "id": "ec170ab1",
   "metadata": {},
   "outputs": [
    {
     "name": "stdout",
     "output_type": "stream",
     "text": [
      "20\n"
     ]
    }
   ],
   "source": [
    "age = 20\n",
    "print(age)"
   ]
  },
  {
   "cell_type": "code",
   "execution_count": 3,
   "id": "d64871d9",
   "metadata": {},
   "outputs": [
    {
     "name": "stdout",
     "output_type": "stream",
     "text": [
      "30\n"
     ]
    }
   ],
   "source": [
    "age = 20\n",
    "age = 30\n",
    "print(age)"
   ]
  },
  {
   "cell_type": "code",
   "execution_count": 4,
   "id": "29208a08",
   "metadata": {},
   "outputs": [
    {
     "name": "stdout",
     "output_type": "stream",
     "text": [
      "20\n"
     ]
    }
   ],
   "source": [
    "age = 20\n",
    "price = 19.37\n",
    "first_name = \"Smruti\"\n",
    "is_online = False\n",
    "print(age)"
   ]
  },
  {
   "cell_type": "code",
   "execution_count": 5,
   "id": "1721e96f",
   "metadata": {},
   "outputs": [
    {
     "name": "stdout",
     "output_type": "stream",
     "text": [
      "John Smith\n",
      "20\n"
     ]
    }
   ],
   "source": [
    "# check in a patient named John Smith\n",
    "# He is 20 years old\n",
    "# He is a new patient\n",
    "\n",
    "name = \"John Smith\"\n",
    "age = 20\n",
    "print(name)\n",
    "print(age)"
   ]
  },
  {
   "cell_type": "code",
   "execution_count": 6,
   "id": "d2c330bd",
   "metadata": {},
   "outputs": [
    {
     "name": "stdout",
     "output_type": "stream",
     "text": [
      "What is Your name?smruti\n"
     ]
    },
    {
     "data": {
      "text/plain": [
       "'smruti'"
      ]
     },
     "execution_count": 6,
     "metadata": {},
     "output_type": "execute_result"
    }
   ],
   "source": [
    "input(\"What is Your name?\")"
   ]
  },
  {
   "cell_type": "code",
   "execution_count": 9,
   "id": "f934d156",
   "metadata": {},
   "outputs": [
    {
     "name": "stdout",
     "output_type": "stream",
     "text": [
      "What is Your name? SMRUTI RANJAN POLAI\n"
     ]
    }
   ],
   "source": [
    "name = input(\"What is Your name? \")"
   ]
  },
  {
   "cell_type": "code",
   "execution_count": 10,
   "id": "6ea8f4f4",
   "metadata": {},
   "outputs": [
    {
     "name": "stdout",
     "output_type": "stream",
     "text": [
      "Hello SMRUTI RANJAN POLAI\n"
     ]
    }
   ],
   "source": [
    "print(\"Hello \" + name)"
   ]
  },
  {
   "cell_type": "code",
   "execution_count": 11,
   "id": "b7ef7296",
   "metadata": {},
   "outputs": [
    {
     "name": "stdout",
     "output_type": "stream",
     "text": [
      "Enter Your Birth Year: 2002\n"
     ]
    },
    {
     "ename": "TypeError",
     "evalue": "unsupported operand type(s) for -: 'int' and 'str'",
     "output_type": "error",
     "traceback": [
      "\u001b[1;31m---------------------------------------------------------------------------\u001b[0m",
      "\u001b[1;31mTypeError\u001b[0m                                 Traceback (most recent call last)",
      "\u001b[1;32m~\\AppData\\Local\\Temp/ipykernel_14172/2453479469.py\u001b[0m in \u001b[0;36m<module>\u001b[1;34m\u001b[0m\n\u001b[0;32m      1\u001b[0m \u001b[0mbirth_year\u001b[0m \u001b[1;33m=\u001b[0m \u001b[0minput\u001b[0m\u001b[1;33m(\u001b[0m\u001b[1;34m\"Enter Your Birth Year: \"\u001b[0m\u001b[1;33m)\u001b[0m\u001b[1;33m\u001b[0m\u001b[1;33m\u001b[0m\u001b[0m\n\u001b[1;32m----> 2\u001b[1;33m \u001b[0mage\u001b[0m \u001b[1;33m=\u001b[0m \u001b[1;36m2022\u001b[0m \u001b[1;33m-\u001b[0m \u001b[0mbirth_year\u001b[0m\u001b[1;33m\u001b[0m\u001b[1;33m\u001b[0m\u001b[0m\n\u001b[0m\u001b[0;32m      3\u001b[0m \u001b[0mprint\u001b[0m\u001b[1;33m(\u001b[0m\u001b[0mage\u001b[0m\u001b[1;33m)\u001b[0m\u001b[1;33m\u001b[0m\u001b[1;33m\u001b[0m\u001b[0m\n",
      "\u001b[1;31mTypeError\u001b[0m: unsupported operand type(s) for -: 'int' and 'str'"
     ]
    }
   ],
   "source": [
    "birth_year = input(\"Enter Your Birth Year: \")\n",
    "age = 2022 - birth_year\n",
    "print(age)"
   ]
  },
  {
   "cell_type": "code",
   "execution_count": 12,
   "id": "71297876",
   "metadata": {},
   "outputs": [
    {
     "name": "stdout",
     "output_type": "stream",
     "text": [
      "Enter Your Birth Year: 2002\n",
      "20\n"
     ]
    }
   ],
   "source": [
    "birth_year = input(\"Enter Your Birth Year: \")\n",
    "age = 2022 - int(birth_year)\n",
    "print(age)"
   ]
  },
  {
   "cell_type": "code",
   "execution_count": 13,
   "id": "f4f2276b",
   "metadata": {},
   "outputs": [
    {
     "name": "stdout",
     "output_type": "stream",
     "text": [
      "Enter Your Birth Year: 2002\n",
      "20\n"
     ]
    }
   ],
   "source": [
    "birth_year = int(input(\"Enter Your Birth Year: \"))\n",
    "age = 2022 - birth_year\n",
    "print(age)"
   ]
  },
  {
   "cell_type": "code",
   "execution_count": 14,
   "id": "edd2d859",
   "metadata": {},
   "outputs": [
    {
     "name": "stdout",
     "output_type": "stream",
     "text": [
      "10.1\n",
      "20\n",
      "30.1\n"
     ]
    }
   ],
   "source": [
    "# first = 10.1\n",
    "# second = 20\n",
    "# sum = 30.1\n",
    "\n",
    "first = float(input())\n",
    "second = float(input())\n",
    "sum = first + second\n",
    "print(sum)"
   ]
  },
  {
   "cell_type": "code",
   "execution_count": 15,
   "id": "419c84ca",
   "metadata": {},
   "outputs": [
    {
     "name": "stdout",
     "output_type": "stream",
     "text": [
      "10.5\n",
      "21.8\n",
      "32.3\n"
     ]
    }
   ],
   "source": [
    "first = input()\n",
    "second = input()\n",
    "sum = float(first) + float(second)\n",
    "print(sum)"
   ]
  },
  {
   "cell_type": "code",
   "execution_count": 16,
   "id": "06fc5648",
   "metadata": {},
   "outputs": [
    {
     "name": "stdout",
     "output_type": "stream",
     "text": [
      "Sum: 32.3\n"
     ]
    }
   ],
   "source": [
    "print(\"Sum: \" + str(sum))"
   ]
  },
  {
   "cell_type": "code",
   "execution_count": null,
   "id": "7e2a3ccb",
   "metadata": {},
   "outputs": [],
   "source": []
  },
  {
   "cell_type": "code",
   "execution_count": null,
   "id": "ff2f05ef",
   "metadata": {},
   "outputs": [],
   "source": [
    "STRINGS"
   ]
  },
  {
   "cell_type": "code",
   "execution_count": 17,
   "id": "659533c8",
   "metadata": {},
   "outputs": [
    {
     "name": "stdout",
     "output_type": "stream",
     "text": [
      "PYTHON FOR BEGINNERS\n"
     ]
    }
   ],
   "source": [
    "course = \"Python for Beginners\"\n",
    "print(course.upper())"
   ]
  },
  {
   "cell_type": "code",
   "execution_count": 18,
   "id": "c77df8fc",
   "metadata": {},
   "outputs": [
    {
     "name": "stdout",
     "output_type": "stream",
     "text": [
      "python for beginners\n"
     ]
    }
   ],
   "source": [
    "print(course.lower())"
   ]
  },
  {
   "cell_type": "code",
   "execution_count": 20,
   "id": "3c9b9bf7",
   "metadata": {},
   "outputs": [
    {
     "name": "stdout",
     "output_type": "stream",
     "text": [
      "4\n"
     ]
    }
   ],
   "source": [
    "print(course.find('o'))"
   ]
  },
  {
   "cell_type": "code",
   "execution_count": 21,
   "id": "fe660a2c",
   "metadata": {},
   "outputs": [
    {
     "name": "stdout",
     "output_type": "stream",
     "text": [
      "-1\n"
     ]
    }
   ],
   "source": [
    "print(course.find('Y'))"
   ]
  },
  {
   "cell_type": "code",
   "execution_count": 22,
   "id": "91539abc",
   "metadata": {},
   "outputs": [
    {
     "name": "stdout",
     "output_type": "stream",
     "text": [
      "7\n"
     ]
    }
   ],
   "source": [
    "print(course.find('for'))"
   ]
  },
  {
   "cell_type": "code",
   "execution_count": 24,
   "id": "826d3404",
   "metadata": {},
   "outputs": [
    {
     "name": "stdout",
     "output_type": "stream",
     "text": [
      "Python 4 Beginners\n"
     ]
    }
   ],
   "source": [
    "print(course.replace('for', '4'))"
   ]
  },
  {
   "cell_type": "code",
   "execution_count": 25,
   "id": "6f96c8c3",
   "metadata": {},
   "outputs": [
    {
     "name": "stdout",
     "output_type": "stream",
     "text": [
      "Python for Beginners\n"
     ]
    }
   ],
   "source": [
    "print(course.replace('x', '4'))"
   ]
  },
  {
   "cell_type": "code",
   "execution_count": 26,
   "id": "590db10d",
   "metadata": {},
   "outputs": [
    {
     "name": "stdout",
     "output_type": "stream",
     "text": [
      "True\n"
     ]
    }
   ],
   "source": [
    "print('Python' in course)"
   ]
  },
  {
   "cell_type": "code",
   "execution_count": 27,
   "id": "d3f5e21b",
   "metadata": {},
   "outputs": [
    {
     "name": "stdout",
     "output_type": "stream",
     "text": [
      "False\n"
     ]
    }
   ],
   "source": [
    "print('python' in course)"
   ]
  },
  {
   "cell_type": "code",
   "execution_count": 28,
   "id": "b3e43ce9",
   "metadata": {},
   "outputs": [
    {
     "name": "stdout",
     "output_type": "stream",
     "text": [
      "True\n"
     ]
    }
   ],
   "source": [
    "print('python' not in course)"
   ]
  },
  {
   "cell_type": "code",
   "execution_count": null,
   "id": "9c1c8a78",
   "metadata": {},
   "outputs": [],
   "source": []
  },
  {
   "cell_type": "code",
   "execution_count": null,
   "id": "93c35aee",
   "metadata": {},
   "outputs": [],
   "source": [
    "ARITHMETIC OPERSTION"
   ]
  },
  {
   "cell_type": "code",
   "execution_count": 29,
   "id": "69198cd0",
   "metadata": {},
   "outputs": [
    {
     "name": "stdout",
     "output_type": "stream",
     "text": [
      "3.3333333333333335\n"
     ]
    }
   ],
   "source": [
    "print(10/3)"
   ]
  },
  {
   "cell_type": "code",
   "execution_count": 30,
   "id": "b927a3b3",
   "metadata": {},
   "outputs": [
    {
     "name": "stdout",
     "output_type": "stream",
     "text": [
      "3\n"
     ]
    }
   ],
   "source": [
    "print(10//3)"
   ]
  },
  {
   "cell_type": "code",
   "execution_count": 31,
   "id": "9c5adf1a",
   "metadata": {},
   "outputs": [
    {
     "name": "stdout",
     "output_type": "stream",
     "text": [
      "1\n"
     ]
    }
   ],
   "source": [
    "print(10%3)"
   ]
  },
  {
   "cell_type": "code",
   "execution_count": 32,
   "id": "efa6139a",
   "metadata": {},
   "outputs": [
    {
     "name": "stdout",
     "output_type": "stream",
     "text": [
      "30\n"
     ]
    }
   ],
   "source": [
    "print(10*3)"
   ]
  },
  {
   "cell_type": "code",
   "execution_count": 33,
   "id": "35b276ec",
   "metadata": {},
   "outputs": [
    {
     "name": "stdout",
     "output_type": "stream",
     "text": [
      "1000\n"
     ]
    }
   ],
   "source": [
    "print(10**3)"
   ]
  },
  {
   "cell_type": "code",
   "execution_count": 34,
   "id": "f7868af8",
   "metadata": {},
   "outputs": [
    {
     "name": "stdout",
     "output_type": "stream",
     "text": [
      "13\n"
     ]
    }
   ],
   "source": [
    "x = 10\n",
    "x = x+3\n",
    "print(x)"
   ]
  },
  {
   "cell_type": "code",
   "execution_count": 38,
   "id": "496ae5dd",
   "metadata": {},
   "outputs": [
    {
     "name": "stdout",
     "output_type": "stream",
     "text": [
      "18\n",
      "54\n"
     ]
    }
   ],
   "source": [
    "x = 15\n",
    "x += 3\n",
    "print(x)\n",
    "x *= 3\n",
    "print(x)"
   ]
  },
  {
   "cell_type": "code",
   "execution_count": null,
   "id": "a7a55131",
   "metadata": {},
   "outputs": [],
   "source": []
  },
  {
   "cell_type": "code",
   "execution_count": null,
   "id": "e45f1481",
   "metadata": {},
   "outputs": [],
   "source": [
    "Operator Precedence"
   ]
  },
  {
   "cell_type": "code",
   "execution_count": 39,
   "id": "652fce48",
   "metadata": {},
   "outputs": [
    {
     "name": "stdout",
     "output_type": "stream",
     "text": [
      "16\n"
     ]
    }
   ],
   "source": [
    "x = 10 + 3 * 2\n",
    "print(x)"
   ]
  },
  {
   "cell_type": "code",
   "execution_count": 40,
   "id": "edb03ad3",
   "metadata": {},
   "outputs": [
    {
     "name": "stdout",
     "output_type": "stream",
     "text": [
      "26\n"
     ]
    }
   ],
   "source": [
    "x = (10 + 3) * 2\n",
    "print(x)"
   ]
  },
  {
   "cell_type": "code",
   "execution_count": null,
   "id": "58c2bde8",
   "metadata": {},
   "outputs": [],
   "source": [
    "Comparison Operator"
   ]
  },
  {
   "cell_type": "code",
   "execution_count": 41,
   "id": "691eda40",
   "metadata": {},
   "outputs": [
    {
     "name": "stdout",
     "output_type": "stream",
     "text": [
      "True\n"
     ]
    }
   ],
   "source": [
    "x = 3 > 2\n",
    "print(x)"
   ]
  },
  {
   "cell_type": "code",
   "execution_count": 42,
   "id": "02c3aa54",
   "metadata": {},
   "outputs": [
    {
     "name": "stdout",
     "output_type": "stream",
     "text": [
      "False\n"
     ]
    }
   ],
   "source": [
    "x = 3 > 12\n",
    "print(x)"
   ]
  },
  {
   "cell_type": "code",
   "execution_count": 44,
   "id": "b90d0514",
   "metadata": {},
   "outputs": [
    {
     "name": "stdout",
     "output_type": "stream",
     "text": [
      "True\n"
     ]
    }
   ],
   "source": [
    "x = 3 >= 2\n",
    "print(x)"
   ]
  },
  {
   "cell_type": "code",
   "execution_count": 45,
   "id": "560b63cd",
   "metadata": {},
   "outputs": [
    {
     "name": "stdout",
     "output_type": "stream",
     "text": [
      "False\n"
     ]
    }
   ],
   "source": [
    "x = 3 <= 2\n",
    "print(x)"
   ]
  },
  {
   "cell_type": "code",
   "execution_count": 46,
   "id": "e0b6b505",
   "metadata": {},
   "outputs": [
    {
     "name": "stdout",
     "output_type": "stream",
     "text": [
      "False\n"
     ]
    }
   ],
   "source": [
    "x = 3 == 2\n",
    "print(x)"
   ]
  },
  {
   "cell_type": "code",
   "execution_count": 47,
   "id": "a6681949",
   "metadata": {},
   "outputs": [
    {
     "name": "stdout",
     "output_type": "stream",
     "text": [
      "True\n"
     ]
    }
   ],
   "source": [
    "x = 3 != 2\n",
    "print(x)"
   ]
  },
  {
   "cell_type": "code",
   "execution_count": null,
   "id": "7caf3eca",
   "metadata": {},
   "outputs": [],
   "source": [
    "Logocal Operators"
   ]
  },
  {
   "cell_type": "code",
   "execution_count": 48,
   "id": "a2d7942e",
   "metadata": {},
   "outputs": [
    {
     "name": "stdout",
     "output_type": "stream",
     "text": [
      "True\n"
     ]
    }
   ],
   "source": [
    "price = 25\n",
    "print(price > 10 and price<30)"
   ]
  },
  {
   "cell_type": "code",
   "execution_count": 49,
   "id": "b041f737",
   "metadata": {},
   "outputs": [
    {
     "name": "stdout",
     "output_type": "stream",
     "text": [
      "False\n"
     ]
    }
   ],
   "source": [
    "price = 25\n",
    "print(price > 40 and price<30)"
   ]
  },
  {
   "cell_type": "code",
   "execution_count": 50,
   "id": "bbd33d5d",
   "metadata": {},
   "outputs": [
    {
     "name": "stdout",
     "output_type": "stream",
     "text": [
      "True\n"
     ]
    }
   ],
   "source": [
    "price = 25\n",
    "print(price > 10 or price<30)"
   ]
  },
  {
   "cell_type": "code",
   "execution_count": 51,
   "id": "9bf5ed31",
   "metadata": {},
   "outputs": [
    {
     "name": "stdout",
     "output_type": "stream",
     "text": [
      "True\n"
     ]
    }
   ],
   "source": [
    "price = 25\n",
    "print(price > 40 or price<30)"
   ]
  },
  {
   "cell_type": "code",
   "execution_count": 52,
   "id": "7b4edfc6",
   "metadata": {},
   "outputs": [
    {
     "name": "stdout",
     "output_type": "stream",
     "text": [
      "True\n"
     ]
    }
   ],
   "source": [
    "price = 5\n",
    "print(not price > 10)"
   ]
  },
  {
   "cell_type": "code",
   "execution_count": null,
   "id": "fd3d07b4",
   "metadata": {},
   "outputs": [],
   "source": [
    "# and (both)\n",
    "# or (at least one)\n",
    "# not"
   ]
  },
  {
   "cell_type": "code",
   "execution_count": null,
   "id": "80e4642b",
   "metadata": {},
   "outputs": [],
   "source": []
  },
  {
   "cell_type": "code",
   "execution_count": null,
   "id": "d1b4460d",
   "metadata": {},
   "outputs": [],
   "source": [
    "if statements"
   ]
  },
  {
   "cell_type": "code",
   "execution_count": 55,
   "id": "943b2822",
   "metadata": {},
   "outputs": [
    {
     "name": "stdout",
     "output_type": "stream",
     "text": [
      "It's a hot day\n",
      "Drink plenty of water\n",
      "done\n"
     ]
    }
   ],
   "source": [
    "temperature = 35\n",
    "if temperature > 30:\n",
    "    print(\"It's a hot day\")\n",
    "    print(\"Drink plenty of water\")\n",
    "print('done')"
   ]
  },
  {
   "cell_type": "code",
   "execution_count": 58,
   "id": "94c6d37e",
   "metadata": {},
   "outputs": [
    {
     "name": "stdout",
     "output_type": "stream",
     "text": [
      "It's a nice day\n",
      "done\n"
     ]
    }
   ],
   "source": [
    "temperature = 25\n",
    "if temperature > 30:\n",
    "    print(\"It's a hot day\")\n",
    "    print(\"Drink plenty of water\")\n",
    "elif temperature > 20:\n",
    "    print(\"It's a nice day\")\n",
    "elif temperature > 10:\n",
    "    print(\"It's a bit cold\")\n",
    "else:\n",
    "    print(\"It's cold\")\n",
    "print('done')"
   ]
  },
  {
   "cell_type": "code",
   "execution_count": 64,
   "id": "2160b584",
   "metadata": {},
   "outputs": [
    {
     "name": "stdout",
     "output_type": "stream",
     "text": [
      "Weight: 170\n",
      "(K)g or (L)bs: l\n",
      "Weight in Kg is: 76.5\n"
     ]
    }
   ],
   "source": [
    "# Weight : 170\n",
    "# (K)g or (L)bs : l\n",
    "# weight in Kg : 76.5\n",
    "\n",
    "weight = float(input(\"Weight: \"))\n",
    "type = input(\"(K)g or (L)bs: \")\n",
    "if type.upper() == \"K\":\n",
    "    converted = weight / 0.45\n",
    "    print(\"Weight in lbs is: \" + str(converted))\n",
    "elif type.upper() == \"L\":\n",
    "    converted = weight * 0.45\n",
    "    print(\"Weight in Kg is: \" + str(converted))\n",
    "else:\n",
    "    print(\"Invalid Input\")"
   ]
  },
  {
   "cell_type": "code",
   "execution_count": null,
   "id": "e8ba831b",
   "metadata": {},
   "outputs": [],
   "source": []
  },
  {
   "cell_type": "code",
   "execution_count": null,
   "id": "1fc1149f",
   "metadata": {},
   "outputs": [],
   "source": [
    "while loop"
   ]
  },
  {
   "cell_type": "code",
   "execution_count": 65,
   "id": "a39d0eb6",
   "metadata": {},
   "outputs": [
    {
     "name": "stdout",
     "output_type": "stream",
     "text": [
      "1\n",
      "2\n",
      "3\n",
      "4\n",
      "5\n"
     ]
    }
   ],
   "source": [
    "i = 1\n",
    "while i <= 5:\n",
    "    print(i)\n",
    "    i = i+1"
   ]
  },
  {
   "cell_type": "code",
   "execution_count": 67,
   "id": "0b91c73b",
   "metadata": {},
   "outputs": [
    {
     "name": "stdout",
     "output_type": "stream",
     "text": [
      "1\n",
      "102\n",
      "203\n",
      "304\n",
      "405\n",
      "506\n",
      "607\n",
      "708\n",
      "809\n",
      "910\n"
     ]
    }
   ],
   "source": [
    "i = 1\n",
    "while i <= 1_000:\n",
    "    print(i)\n",
    "    i = i+101"
   ]
  },
  {
   "cell_type": "code",
   "execution_count": 69,
   "id": "f97ed2c6",
   "metadata": {},
   "outputs": [
    {
     "name": "stdout",
     "output_type": "stream",
     "text": [
      "*\n",
      "**\n",
      "***\n",
      "****\n",
      "*****\n",
      "******\n",
      "*******\n",
      "********\n",
      "*********\n",
      "**********\n"
     ]
    }
   ],
   "source": [
    "i = 1\n",
    "while i <= 10:\n",
    "    print(i * '*')\n",
    "    i = i+1"
   ]
  },
  {
   "cell_type": "code",
   "execution_count": null,
   "id": "bed14e12",
   "metadata": {},
   "outputs": [],
   "source": []
  },
  {
   "cell_type": "code",
   "execution_count": null,
   "id": "14b6ad6a",
   "metadata": {},
   "outputs": [],
   "source": [
    "list"
   ]
  },
  {
   "cell_type": "code",
   "execution_count": 70,
   "id": "591ed737",
   "metadata": {},
   "outputs": [
    {
     "name": "stdout",
     "output_type": "stream",
     "text": [
      "['a', 'b', 'c', 'd', 'e', 'f']\n"
     ]
    }
   ],
   "source": [
    "names = ['a', 'b', 'c', 'd', 'e', 'f']\n",
    "print(names)"
   ]
  },
  {
   "cell_type": "code",
   "execution_count": 72,
   "id": "f753a523",
   "metadata": {},
   "outputs": [
    {
     "name": "stdout",
     "output_type": "stream",
     "text": [
      "e\n"
     ]
    }
   ],
   "source": [
    "print(names[4])"
   ]
  },
  {
   "cell_type": "code",
   "execution_count": 73,
   "id": "1c9dcf13",
   "metadata": {},
   "outputs": [
    {
     "name": "stdout",
     "output_type": "stream",
     "text": [
      "f\n"
     ]
    }
   ],
   "source": [
    "print(names[-1])"
   ]
  },
  {
   "cell_type": "code",
   "execution_count": 74,
   "id": "9f689f88",
   "metadata": {},
   "outputs": [
    {
     "name": "stdout",
     "output_type": "stream",
     "text": [
      "d\n"
     ]
    }
   ],
   "source": [
    "print(names[-3])"
   ]
  },
  {
   "cell_type": "code",
   "execution_count": 75,
   "id": "266050fc",
   "metadata": {},
   "outputs": [
    {
     "data": {
      "text/plain": [
       "['a', 'b', 'c', 'd', 'e', 'f']"
      ]
     },
     "execution_count": 75,
     "metadata": {},
     "output_type": "execute_result"
    }
   ],
   "source": [
    "names"
   ]
  },
  {
   "cell_type": "code",
   "execution_count": 76,
   "id": "384e28d0",
   "metadata": {},
   "outputs": [
    {
     "name": "stdout",
     "output_type": "stream",
     "text": [
      "m\n"
     ]
    }
   ],
   "source": [
    "names[0] = \"m\"\n",
    "print(names[0])"
   ]
  },
  {
   "cell_type": "code",
   "execution_count": 77,
   "id": "a98aadd7",
   "metadata": {},
   "outputs": [
    {
     "data": {
      "text/plain": [
       "['m', 'b', 'c', 'd', 'e', 'f']"
      ]
     },
     "execution_count": 77,
     "metadata": {},
     "output_type": "execute_result"
    }
   ],
   "source": [
    "names"
   ]
  },
  {
   "cell_type": "code",
   "execution_count": 78,
   "id": "f4a67cde",
   "metadata": {},
   "outputs": [
    {
     "data": {
      "text/plain": [
       "['m', 'b', 'c']"
      ]
     },
     "execution_count": 78,
     "metadata": {},
     "output_type": "execute_result"
    }
   ],
   "source": [
    "names[0:3]"
   ]
  },
  {
   "cell_type": "code",
   "execution_count": null,
   "id": "dbc9c909",
   "metadata": {},
   "outputs": [],
   "source": [
    "list methods"
   ]
  },
  {
   "cell_type": "code",
   "execution_count": 80,
   "id": "4639bc44",
   "metadata": {},
   "outputs": [
    {
     "name": "stdout",
     "output_type": "stream",
     "text": [
      "[1, 2, 3, 4, 5]\n"
     ]
    }
   ],
   "source": [
    "numbers = [1, 2, 3, 4, 5]\n",
    "print(numbers)"
   ]
  },
  {
   "cell_type": "code",
   "execution_count": 81,
   "id": "db19d0f0",
   "metadata": {},
   "outputs": [
    {
     "name": "stdout",
     "output_type": "stream",
     "text": [
      "[1, 2, 3, 4, 5, 6]\n"
     ]
    }
   ],
   "source": [
    "numbers.append(6)\n",
    "print(numbers)"
   ]
  },
  {
   "cell_type": "code",
   "execution_count": 82,
   "id": "c2632ded",
   "metadata": {},
   "outputs": [
    {
     "name": "stdout",
     "output_type": "stream",
     "text": [
      "[-1, 1, 2, 3, 4, 5]\n"
     ]
    }
   ],
   "source": [
    "numbers = [1, 2, 3, 4, 5]\n",
    "numbers.insert(0, -1)\n",
    "print(numbers)"
   ]
  },
  {
   "cell_type": "code",
   "execution_count": 83,
   "id": "eb7eb87b",
   "metadata": {},
   "outputs": [
    {
     "name": "stdout",
     "output_type": "stream",
     "text": [
      "[1, 2, 4, 5]\n"
     ]
    }
   ],
   "source": [
    "numbers = [1, 2, 3, 4, 5]\n",
    "numbers.remove(3)\n",
    "print(numbers)"
   ]
  },
  {
   "cell_type": "code",
   "execution_count": 84,
   "id": "2c9884c8",
   "metadata": {},
   "outputs": [
    {
     "name": "stdout",
     "output_type": "stream",
     "text": [
      "[]\n"
     ]
    }
   ],
   "source": [
    "numbers.clear()\n",
    "print(numbers)"
   ]
  },
  {
   "cell_type": "code",
   "execution_count": 85,
   "id": "4e4c113e",
   "metadata": {},
   "outputs": [
    {
     "name": "stdout",
     "output_type": "stream",
     "text": [
      "True\n"
     ]
    }
   ],
   "source": [
    "numbers = [1, 2, 3, 4, 5]\n",
    "print(1 in numbers)"
   ]
  },
  {
   "cell_type": "code",
   "execution_count": 86,
   "id": "6a510f36",
   "metadata": {},
   "outputs": [
    {
     "name": "stdout",
     "output_type": "stream",
     "text": [
      "False\n"
     ]
    }
   ],
   "source": [
    "numbers = [1, 2, 3, 4, 5]\n",
    "print(31 in numbers)"
   ]
  },
  {
   "cell_type": "code",
   "execution_count": 88,
   "id": "7860ba8b",
   "metadata": {},
   "outputs": [
    {
     "name": "stdout",
     "output_type": "stream",
     "text": [
      "5\n"
     ]
    }
   ],
   "source": [
    "print(len(numbers))"
   ]
  },
  {
   "cell_type": "code",
   "execution_count": null,
   "id": "45091221",
   "metadata": {},
   "outputs": [],
   "source": [
    "for loops"
   ]
  },
  {
   "cell_type": "code",
   "execution_count": 90,
   "id": "091d5ead",
   "metadata": {},
   "outputs": [
    {
     "name": "stdout",
     "output_type": "stream",
     "text": [
      "1\n",
      "2\n",
      "3\n",
      "4\n",
      "5\n"
     ]
    }
   ],
   "source": [
    "numbers = [1, 2, 3, 4, 5]\n",
    "for item in numbers:\n",
    "    print(item)"
   ]
  },
  {
   "cell_type": "code",
   "execution_count": 91,
   "id": "c4521777",
   "metadata": {},
   "outputs": [
    {
     "name": "stdout",
     "output_type": "stream",
     "text": [
      "1\n",
      "2\n",
      "3\n",
      "4\n",
      "5\n"
     ]
    }
   ],
   "source": [
    "i = 0\n",
    "while i<len(numbers):\n",
    "    print(numbers[i])\n",
    "    i = i+1"
   ]
  },
  {
   "cell_type": "code",
   "execution_count": null,
   "id": "4ccad7fd",
   "metadata": {},
   "outputs": [],
   "source": [
    "the range() function"
   ]
  },
  {
   "cell_type": "code",
   "execution_count": 92,
   "id": "80c56c6a",
   "metadata": {},
   "outputs": [
    {
     "name": "stdout",
     "output_type": "stream",
     "text": [
      "range(0, 5)\n"
     ]
    }
   ],
   "source": [
    "numbers = range(5)\n",
    "print(numbers)"
   ]
  },
  {
   "cell_type": "code",
   "execution_count": 95,
   "id": "0153c933",
   "metadata": {},
   "outputs": [
    {
     "name": "stdout",
     "output_type": "stream",
     "text": [
      "0\n",
      "1\n",
      "2\n",
      "3\n",
      "4\n"
     ]
    }
   ],
   "source": [
    "numbers = range(5)\n",
    "for number in numbers:\n",
    "    print(number)"
   ]
  },
  {
   "cell_type": "code",
   "execution_count": 96,
   "id": "04d0b9a6",
   "metadata": {},
   "outputs": [
    {
     "name": "stdout",
     "output_type": "stream",
     "text": [
      "5\n",
      "6\n",
      "7\n",
      "8\n",
      "9\n",
      "10\n",
      "11\n"
     ]
    }
   ],
   "source": [
    "numbers = range(5, 12)\n",
    "for number in numbers:\n",
    "    print(number)"
   ]
  },
  {
   "cell_type": "code",
   "execution_count": 97,
   "id": "ae82e3b1",
   "metadata": {},
   "outputs": [
    {
     "name": "stdout",
     "output_type": "stream",
     "text": [
      "5\n",
      "7\n",
      "9\n"
     ]
    }
   ],
   "source": [
    "numbers = range(5, 10, 2)\n",
    "for number in numbers:\n",
    "    print(number)"
   ]
  },
  {
   "cell_type": "code",
   "execution_count": 98,
   "id": "f3d7311e",
   "metadata": {},
   "outputs": [
    {
     "name": "stdout",
     "output_type": "stream",
     "text": [
      "0\n",
      "1\n",
      "2\n",
      "3\n",
      "4\n"
     ]
    }
   ],
   "source": [
    "numbers = range(5, 10, 2)\n",
    "for number in range(5):\n",
    "    print(number)"
   ]
  },
  {
   "cell_type": "code",
   "execution_count": null,
   "id": "1bc730e8",
   "metadata": {},
   "outputs": [],
   "source": []
  },
  {
   "cell_type": "code",
   "execution_count": null,
   "id": "78d1bb59",
   "metadata": {},
   "outputs": [],
   "source": [
    "tuples --> immutable"
   ]
  },
  {
   "cell_type": "code",
   "execution_count": 99,
   "id": "e80a16df",
   "metadata": {},
   "outputs": [
    {
     "ename": "TypeError",
     "evalue": "'tuple' object does not support item assignment",
     "output_type": "error",
     "traceback": [
      "\u001b[1;31m---------------------------------------------------------------------------\u001b[0m",
      "\u001b[1;31mTypeError\u001b[0m                                 Traceback (most recent call last)",
      "\u001b[1;32m~\\AppData\\Local\\Temp/ipykernel_14172/4021339167.py\u001b[0m in \u001b[0;36m<module>\u001b[1;34m\u001b[0m\n\u001b[0;32m      1\u001b[0m \u001b[0mnumbers\u001b[0m \u001b[1;33m=\u001b[0m \u001b[1;33m(\u001b[0m\u001b[1;36m1\u001b[0m\u001b[1;33m,\u001b[0m \u001b[1;36m2\u001b[0m\u001b[1;33m,\u001b[0m \u001b[1;36m3\u001b[0m\u001b[1;33m)\u001b[0m\u001b[1;33m\u001b[0m\u001b[1;33m\u001b[0m\u001b[0m\n\u001b[1;32m----> 2\u001b[1;33m \u001b[0mnumbers\u001b[0m\u001b[1;33m[\u001b[0m\u001b[1;36m0\u001b[0m\u001b[1;33m]\u001b[0m \u001b[1;33m=\u001b[0m \u001b[1;36m10\u001b[0m\u001b[1;33m\u001b[0m\u001b[1;33m\u001b[0m\u001b[0m\n\u001b[0m",
      "\u001b[1;31mTypeError\u001b[0m: 'tuple' object does not support item assignment"
     ]
    }
   ],
   "source": [
    "numbers = (1, 2, 3)\n",
    "numbers[0] = 10"
   ]
  },
  {
   "cell_type": "code",
   "execution_count": 100,
   "id": "2f7e1ee3",
   "metadata": {},
   "outputs": [
    {
     "data": {
      "text/plain": [
       "3"
      ]
     },
     "execution_count": 100,
     "metadata": {},
     "output_type": "execute_result"
    }
   ],
   "source": [
    "numbers = (1, 2, 3, 3, 3)\n",
    "numbers.count(3)"
   ]
  },
  {
   "cell_type": "code",
   "execution_count": 102,
   "id": "552c372f",
   "metadata": {},
   "outputs": [
    {
     "ename": "ValueError",
     "evalue": "tuple.index(x): x not in tuple",
     "output_type": "error",
     "traceback": [
      "\u001b[1;31m---------------------------------------------------------------------------\u001b[0m",
      "\u001b[1;31mValueError\u001b[0m                                Traceback (most recent call last)",
      "\u001b[1;32m~\\AppData\\Local\\Temp/ipykernel_14172/173331483.py\u001b[0m in \u001b[0;36m<module>\u001b[1;34m\u001b[0m\n\u001b[0;32m      1\u001b[0m \u001b[0mnumbers\u001b[0m \u001b[1;33m=\u001b[0m \u001b[1;33m(\u001b[0m\u001b[1;36m1\u001b[0m\u001b[1;33m,\u001b[0m \u001b[1;36m2\u001b[0m\u001b[1;33m,\u001b[0m \u001b[1;36m3\u001b[0m\u001b[1;33m,\u001b[0m\u001b[1;36m6\u001b[0m\u001b[1;33m,\u001b[0m\u001b[1;36m7\u001b[0m\u001b[1;33m,\u001b[0m\u001b[1;36m8\u001b[0m\u001b[1;33m,\u001b[0m\u001b[1;36m9\u001b[0m\u001b[1;33m,\u001b[0m\u001b[1;36m2\u001b[0m\u001b[1;33m)\u001b[0m\u001b[1;33m\u001b[0m\u001b[1;33m\u001b[0m\u001b[0m\n\u001b[1;32m----> 2\u001b[1;33m \u001b[0mnumbers\u001b[0m\u001b[1;33m.\u001b[0m\u001b[0mindex\u001b[0m\u001b[1;33m(\u001b[0m\u001b[1;36m4\u001b[0m\u001b[1;33m)\u001b[0m\u001b[1;33m\u001b[0m\u001b[1;33m\u001b[0m\u001b[0m\n\u001b[0m",
      "\u001b[1;31mValueError\u001b[0m: tuple.index(x): x not in tuple"
     ]
    }
   ],
   "source": [
    "numbers = (1, 2, 3,6,7,8,9,2)\n",
    "numbers.index(4)"
   ]
  },
  {
   "cell_type": "code",
   "execution_count": 103,
   "id": "109ff4e5",
   "metadata": {},
   "outputs": [
    {
     "data": {
      "text/plain": [
       "2"
      ]
     },
     "execution_count": 103,
     "metadata": {},
     "output_type": "execute_result"
    }
   ],
   "source": [
    "numbers = (1, 2, 3,6,7,8,9,2)\n",
    "numbers.index(3)"
   ]
  },
  {
   "cell_type": "code",
   "execution_count": null,
   "id": "2832c092",
   "metadata": {},
   "outputs": [],
   "source": []
  }
 ],
 "metadata": {
  "kernelspec": {
   "display_name": "Python 3 (ipykernel)",
   "language": "python",
   "name": "python3"
  },
  "language_info": {
   "codemirror_mode": {
    "name": "ipython",
    "version": 3
   },
   "file_extension": ".py",
   "mimetype": "text/x-python",
   "name": "python",
   "nbconvert_exporter": "python",
   "pygments_lexer": "ipython3",
   "version": "3.9.12"
  }
 },
 "nbformat": 4,
 "nbformat_minor": 5
}
