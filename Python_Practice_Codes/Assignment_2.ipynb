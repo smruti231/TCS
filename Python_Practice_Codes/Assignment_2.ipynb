{
 "cells": [
  {
   "cell_type": "code",
   "execution_count": 28,
   "id": "ff530371",
   "metadata": {},
   "outputs": [
    {
     "name": "stdout",
     "output_type": "stream",
     "text": [
      "Empty Array\n",
      "[[0 0 0]\n",
      " [0 0 0]\n",
      " [0 0 0]\n",
      " [0 0 0]]\n",
      "\n",
      " Full Array\n",
      "[[11 11 11]\n",
      " [11 11 11]\n",
      " [11 11 11]]\n"
     ]
    }
   ],
   "source": [
    "# 1)How to create an empty and a full NumPy array?\n",
    "import numpy as np\n",
    "empt = np.empty((4, 3), dtype=int)\n",
    "print(\"Empty Array\")\n",
    "print(empt)\n",
    "ful = np.full([3, 3], 11, dtype=int)\n",
    "print(\"\\n Full Array\")\n",
    "print(ful)"
   ]
  },
  {
   "cell_type": "code",
   "execution_count": 30,
   "id": "bb71ed24",
   "metadata": {},
   "outputs": [
    {
     "name": "stdout",
     "output_type": "stream",
     "text": [
      "\n",
      "Matrix : \n",
      " [[0 0 0]\n",
      " [0 0 0]\n",
      " [0 0 0]]\n"
     ]
    }
   ],
   "source": [
    "# 2)Create a Numpy array filled with all zeros\n",
    "\n",
    "import numpy as np\n",
    "arr = np.zeros([3, 3], dtype = int) \n",
    "print(\"\\nMatrix : \\n\", arr) \n"
   ]
  },
  {
   "cell_type": "code",
   "execution_count": 31,
   "id": "ea44fcd6",
   "metadata": {},
   "outputs": [
    {
     "name": "stdout",
     "output_type": "stream",
     "text": [
      "\n",
      "Matrix arr : \n",
      " [[1 1 1 1]\n",
      " [1 1 1 1]\n",
      " [1 1 1 1]\n",
      " [1 1 1 1]]\n"
     ]
    }
   ],
   "source": [
    "# 3)Create a Numpy array filled with all ones\n",
    "\n",
    "import numpy as np \n",
    "arr = np.ones([4, 4], dtype = int)\n",
    "print(\"\\nMatrix arr : \\n\", arr)"
   ]
  },
  {
   "cell_type": "code",
   "execution_count": 2,
   "id": "b2f511e4",
   "metadata": {},
   "outputs": [
    {
     "name": "stdout",
     "output_type": "stream",
     "text": [
      "[[ 1  2  3  4  5]\n",
      " [ 6  7  8  9 10]\n",
      " [11 12 13 14 15]\n",
      " [16 17 18 19 20]]\n",
      "True\n",
      "False\n",
      "False\n",
      "True\n"
     ]
    }
   ],
   "source": [
    "# Check whether a Numpy array contains a specified row\n",
    "\n",
    "import numpy\n",
    "  \n",
    "# create numpy array\n",
    "arr = numpy.array([[1, 2, 3, 4, 5],\n",
    "                   [6, 7, 8, 9, 10],\n",
    "                   [11, 12, 13, 14, 15],\n",
    "                   [16, 17, 18, 19, 20]\n",
    "                   ])\n",
    "  \n",
    "# view array\n",
    "print(arr)\n",
    "  \n",
    "# check for some lists\n",
    "print([1, 2, 3, 4, 5] in arr.tolist())\n",
    "print([16, 17, 20, 19, 18] in arr.tolist())\n",
    "print([3, 2, 5, -4, 5] in arr.tolist())\n",
    "print([11, 12, 13, 14, 15] in arr.tolist())\n"
   ]
  },
  {
   "cell_type": "code",
   "execution_count": null,
   "id": "4cc90ff4",
   "metadata": {},
   "outputs": [],
   "source": []
  },
  {
   "cell_type": "code",
   "execution_count": 35,
   "id": "8a6704b6",
   "metadata": {},
   "outputs": [
    {
     "name": "stdout",
     "output_type": "stream",
     "text": [
      "Given array:\n",
      "[[11. 42. 90.]\n",
      " [12. nan 45.]\n",
      " [41. nan nan]]\n",
      "\n",
      "Remove all rows containing non-numeric elements\n",
      "[[11. 42. 90.]]\n"
     ]
    }
   ],
   "source": [
    "# 5)Remove rows in Numpy array that contains non-numeric values?\n",
    "import numpy as np\n",
    "arr = np.array([[11, 42, 90],\n",
    "                [12, np.nan, 45],\n",
    "                  [41, np.nan, np.nan]])\n",
    "print(\"Given array:\")\n",
    "print(arr)\n",
    "print(\"\\nRemove all rows containing non-numeric elements\")\n",
    "print(arr[~np.isnan(arr).any(axis=1)])"
   ]
  },
  {
   "cell_type": "code",
   "execution_count": null,
   "id": "d3bfeb89",
   "metadata": {},
   "outputs": [],
   "source": []
  }
 ],
 "metadata": {
  "kernelspec": {
   "display_name": "Python 3 (ipykernel)",
   "language": "python",
   "name": "python3"
  },
  "language_info": {
   "codemirror_mode": {
    "name": "ipython",
    "version": 3
   },
   "file_extension": ".py",
   "mimetype": "text/x-python",
   "name": "python",
   "nbconvert_exporter": "python",
   "pygments_lexer": "ipython3",
   "version": "3.9.7"
  }
 },
 "nbformat": 4,
 "nbformat_minor": 5
}
