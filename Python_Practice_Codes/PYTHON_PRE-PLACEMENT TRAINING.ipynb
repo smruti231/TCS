{
 "cells": [
  {
   "cell_type": "code",
   "execution_count": 1,
   "id": "bc2a965a",
   "metadata": {},
   "outputs": [],
   "source": [
    "str='welcome'"
   ]
  },
  {
   "cell_type": "code",
   "execution_count": 2,
   "id": "809a35ae",
   "metadata": {},
   "outputs": [],
   "source": [
    "Str=\"welcome\""
   ]
  },
  {
   "cell_type": "code",
   "execution_count": 3,
   "id": "3c5da7d1",
   "metadata": {},
   "outputs": [],
   "source": [
    "Str1=\"\"\"hbhjbjkhhvjbdshxhjb\"\"\""
   ]
  },
  {
   "cell_type": "code",
   "execution_count": 4,
   "id": "b3891ef7",
   "metadata": {},
   "outputs": [],
   "source": [
    "STr2='''hbxjhdwbsdxsxbqhj'''"
   ]
  },
  {
   "cell_type": "code",
   "execution_count": 5,
   "id": "c198d2da",
   "metadata": {},
   "outputs": [
    {
     "name": "stdout",
     "output_type": "stream",
     "text": [
      "welcome\n"
     ]
    }
   ],
   "source": [
    "print(str)"
   ]
  },
  {
   "cell_type": "code",
   "execution_count": 6,
   "id": "3b2227ec",
   "metadata": {},
   "outputs": [
    {
     "name": "stdout",
     "output_type": "stream",
     "text": [
      "w\n"
     ]
    }
   ],
   "source": [
    "print(str[0])"
   ]
  },
  {
   "cell_type": "code",
   "execution_count": 7,
   "id": "1a276173",
   "metadata": {},
   "outputs": [
    {
     "name": "stdout",
     "output_type": "stream",
     "text": [
      "come\n"
     ]
    }
   ],
   "source": [
    "print(str[3:7])"
   ]
  },
  {
   "cell_type": "code",
   "execution_count": 8,
   "id": "b7d4cbe7",
   "metadata": {},
   "outputs": [
    {
     "name": "stdout",
     "output_type": "stream",
     "text": [
      "m\n"
     ]
    }
   ],
   "source": [
    "print(str[-2])"
   ]
  },
  {
   "cell_type": "code",
   "execution_count": 2,
   "id": "7a0de02e",
   "metadata": {},
   "outputs": [
    {
     "name": "stdout",
     "output_type": "stream",
     "text": [
      "88\n",
      "99\n",
      "0\n",
      "40\n",
      "15\n"
     ]
    }
   ],
   "source": [
    "Elements=[10,20,0,40,15]\n",
    "X=bytearray(Elements)\n",
    "X[0]=88\n",
    "X[1]=99\n",
    "for i in X:\n",
    "    print(i)"
   ]
  },
  {
   "cell_type": "code",
   "execution_count": null,
   "id": "72fe3b9b",
   "metadata": {},
   "outputs": [],
   "source": []
  },
  {
   "cell_type": "code",
   "execution_count": null,
   "id": "61c04658",
   "metadata": {},
   "outputs": [],
   "source": []
  },
  {
   "cell_type": "markdown",
   "id": "274144b7",
   "metadata": {},
   "source": [
    "#  14-12-2021"
   ]
  },
  {
   "cell_type": "code",
   "execution_count": 10,
   "id": "2d7729c9",
   "metadata": {},
   "outputs": [
    {
     "name": "stdout",
     "output_type": "stream",
     "text": [
      "77\n",
      "456533\n"
     ]
    }
   ],
   "source": [
    "myVariable=77\n",
    "a=myVariable**3\n",
    "print(myVariable)\n",
    "print(a)"
   ]
  },
  {
   "cell_type": "code",
   "execution_count": 11,
   "id": "677c15e8",
   "metadata": {},
   "outputs": [
    {
     "name": "stdout",
     "output_type": "stream",
     "text": [
      "Enter the Value 87\n",
      "87\n"
     ]
    }
   ],
   "source": [
    "value=input(\"Enter the Value \")\n",
    "print(value)"
   ]
  },
  {
   "cell_type": "code",
   "execution_count": 3,
   "id": "c84e79c3",
   "metadata": {},
   "outputs": [
    {
     "name": "stdout",
     "output_type": "stream",
     "text": [
      "Enter the Value 232\n",
      "232\n",
      "Enter the Value232\n",
      "232.02\n"
     ]
    }
   ],
   "source": [
    "value1=input(\"Enter the Value \")\n",
    "print(value1)\n",
    "value2=int(input(float(input(\"Enter the Value\"))))"
   ]
  },
  {
   "cell_type": "code",
   "execution_count": 13,
   "id": "a00f255e",
   "metadata": {},
   "outputs": [
    {
     "name": "stdout",
     "output_type": "stream",
     "text": [
      "\n",
      "Welcome to Python 3.9's help utility!\n",
      "\n",
      "If this is your first time using Python, you should definitely check out\n",
      "the tutorial on the Internet at https://docs.python.org/3.9/tutorial/.\n",
      "\n",
      "Enter the name of any module, keyword, or topic to get help on writing\n",
      "Python programs and using Python modules.  To quit this help utility and\n",
      "return to the interpreter, just type \"quit\".\n",
      "\n",
      "To get a list of available modules, keywords, symbols, or topics, type\n",
      "\"modules\", \"keywords\", \"symbols\", or \"topics\".  Each module also comes\n",
      "with a one-line summary of what it does; to list the modules whose name\n",
      "or summary contain a given string such as \"spam\", type \"modules spam\".\n",
      "\n",
      "help> pands\n",
      "No Python documentation found for 'pands'.\n",
      "Use help() to get the interactive help utility.\n",
      "Use help(str) for help on the str class.\n",
      "\n",
      "help> help(str)\n",
      "No Python documentation found for 'help(str)'.\n",
      "Use help() to get the interactive help utility.\n",
      "Use help(str) for help on the str class.\n",
      "\n",
      "help> str\n",
      "Help on class str in module builtins:\n",
      "\n",
      "class str(object)\n",
      " |  str(object='') -> str\n",
      " |  str(bytes_or_buffer[, encoding[, errors]]) -> str\n",
      " |  \n",
      " |  Create a new string object from the given object. If encoding or\n",
      " |  errors is specified, then the object must expose a data buffer\n",
      " |  that will be decoded using the given encoding and error handler.\n",
      " |  Otherwise, returns the result of object.__str__() (if defined)\n",
      " |  or repr(object).\n",
      " |  encoding defaults to sys.getdefaultencoding().\n",
      " |  errors defaults to 'strict'.\n",
      " |  \n",
      " |  Methods defined here:\n",
      " |  \n",
      " |  __add__(self, value, /)\n",
      " |      Return self+value.\n",
      " |  \n",
      " |  __contains__(self, key, /)\n",
      " |      Return key in self.\n",
      " |  \n",
      " |  __eq__(self, value, /)\n",
      " |      Return self==value.\n",
      " |  \n",
      " |  __format__(self, format_spec, /)\n",
      " |      Return a formatted version of the string as described by format_spec.\n",
      " |  \n",
      " |  __ge__(self, value, /)\n",
      " |      Return self>=value.\n",
      " |  \n",
      " |  __getattribute__(self, name, /)\n",
      " |      Return getattr(self, name).\n",
      " |  \n",
      " |  __getitem__(self, key, /)\n",
      " |      Return self[key].\n",
      " |  \n",
      " |  __getnewargs__(...)\n",
      " |  \n",
      " |  __gt__(self, value, /)\n",
      " |      Return self>value.\n",
      " |  \n",
      " |  __hash__(self, /)\n",
      " |      Return hash(self).\n",
      " |  \n",
      " |  __iter__(self, /)\n",
      " |      Implement iter(self).\n",
      " |  \n",
      " |  __le__(self, value, /)\n",
      " |      Return self<=value.\n",
      " |  \n",
      " |  __len__(self, /)\n",
      " |      Return len(self).\n",
      " |  \n",
      " |  __lt__(self, value, /)\n",
      " |      Return self<value.\n",
      " |  \n",
      " |  __mod__(self, value, /)\n",
      " |      Return self%value.\n",
      " |  \n",
      " |  __mul__(self, value, /)\n",
      " |      Return self*value.\n",
      " |  \n",
      " |  __ne__(self, value, /)\n",
      " |      Return self!=value.\n",
      " |  \n",
      " |  __repr__(self, /)\n",
      " |      Return repr(self).\n",
      " |  \n",
      " |  __rmod__(self, value, /)\n",
      " |      Return value%self.\n",
      " |  \n",
      " |  __rmul__(self, value, /)\n",
      " |      Return value*self.\n",
      " |  \n",
      " |  __sizeof__(self, /)\n",
      " |      Return the size of the string in memory, in bytes.\n",
      " |  \n",
      " |  __str__(self, /)\n",
      " |      Return str(self).\n",
      " |  \n",
      " |  capitalize(self, /)\n",
      " |      Return a capitalized version of the string.\n",
      " |      \n",
      " |      More specifically, make the first character have upper case and the rest lower\n",
      " |      case.\n",
      " |  \n",
      " |  casefold(self, /)\n",
      " |      Return a version of the string suitable for caseless comparisons.\n",
      " |  \n",
      " |  center(self, width, fillchar=' ', /)\n",
      " |      Return a centered string of length width.\n",
      " |      \n",
      " |      Padding is done using the specified fill character (default is a space).\n",
      " |  \n",
      " |  count(...)\n",
      " |      S.count(sub[, start[, end]]) -> int\n",
      " |      \n",
      " |      Return the number of non-overlapping occurrences of substring sub in\n",
      " |      string S[start:end].  Optional arguments start and end are\n",
      " |      interpreted as in slice notation.\n",
      " |  \n",
      " |  encode(self, /, encoding='utf-8', errors='strict')\n",
      " |      Encode the string using the codec registered for encoding.\n",
      " |      \n",
      " |      encoding\n",
      " |        The encoding in which to encode the string.\n",
      " |      errors\n",
      " |        The error handling scheme to use for encoding errors.\n",
      " |        The default is 'strict' meaning that encoding errors raise a\n",
      " |        UnicodeEncodeError.  Other possible values are 'ignore', 'replace' and\n",
      " |        'xmlcharrefreplace' as well as any other name registered with\n",
      " |        codecs.register_error that can handle UnicodeEncodeErrors.\n",
      " |  \n",
      " |  endswith(...)\n",
      " |      S.endswith(suffix[, start[, end]]) -> bool\n",
      " |      \n",
      " |      Return True if S ends with the specified suffix, False otherwise.\n",
      " |      With optional start, test S beginning at that position.\n",
      " |      With optional end, stop comparing S at that position.\n",
      " |      suffix can also be a tuple of strings to try.\n",
      " |  \n",
      " |  expandtabs(self, /, tabsize=8)\n",
      " |      Return a copy where all tab characters are expanded using spaces.\n",
      " |      \n",
      " |      If tabsize is not given, a tab size of 8 characters is assumed.\n",
      " |  \n",
      " |  find(...)\n",
      " |      S.find(sub[, start[, end]]) -> int\n",
      " |      \n",
      " |      Return the lowest index in S where substring sub is found,\n",
      " |      such that sub is contained within S[start:end].  Optional\n",
      " |      arguments start and end are interpreted as in slice notation.\n",
      " |      \n",
      " |      Return -1 on failure.\n",
      " |  \n",
      " |  format(...)\n",
      " |      S.format(*args, **kwargs) -> str\n",
      " |      \n",
      " |      Return a formatted version of S, using substitutions from args and kwargs.\n",
      " |      The substitutions are identified by braces ('{' and '}').\n",
      " |  \n",
      " |  format_map(...)\n",
      " |      S.format_map(mapping) -> str\n",
      " |      \n",
      " |      Return a formatted version of S, using substitutions from mapping.\n",
      " |      The substitutions are identified by braces ('{' and '}').\n",
      " |  \n",
      " |  index(...)\n",
      " |      S.index(sub[, start[, end]]) -> int\n",
      " |      \n",
      " |      Return the lowest index in S where substring sub is found,\n",
      " |      such that sub is contained within S[start:end].  Optional\n",
      " |      arguments start and end are interpreted as in slice notation.\n",
      " |      \n",
      " |      Raises ValueError when the substring is not found.\n",
      " |  \n",
      " |  isalnum(self, /)\n",
      " |      Return True if the string is an alpha-numeric string, False otherwise.\n",
      " |      \n",
      " |      A string is alpha-numeric if all characters in the string are alpha-numeric and\n",
      " |      there is at least one character in the string.\n",
      " |  \n",
      " |  isalpha(self, /)\n",
      " |      Return True if the string is an alphabetic string, False otherwise.\n",
      " |      \n",
      " |      A string is alphabetic if all characters in the string are alphabetic and there\n",
      " |      is at least one character in the string.\n",
      " |  \n",
      " |  isascii(self, /)\n",
      " |      Return True if all characters in the string are ASCII, False otherwise.\n",
      " |      \n",
      " |      ASCII characters have code points in the range U+0000-U+007F.\n",
      " |      Empty string is ASCII too.\n",
      " |  \n",
      " |  isdecimal(self, /)\n",
      " |      Return True if the string is a decimal string, False otherwise.\n",
      " |      \n",
      " |      A string is a decimal string if all characters in the string are decimal and\n",
      " |      there is at least one character in the string.\n",
      " |  \n",
      " |  isdigit(self, /)\n",
      " |      Return True if the string is a digit string, False otherwise.\n",
      " |      \n",
      " |      A string is a digit string if all characters in the string are digits and there\n",
      " |      is at least one character in the string.\n",
      " |  \n",
      " |  isidentifier(self, /)\n",
      " |      Return True if the string is a valid Python identifier, False otherwise.\n",
      " |      \n",
      " |      Call keyword.iskeyword(s) to test whether string s is a reserved identifier,\n",
      " |      such as \"def\" or \"class\".\n",
      " |  \n",
      " |  islower(self, /)\n",
      " |      Return True if the string is a lowercase string, False otherwise.\n",
      " |      \n",
      " |      A string is lowercase if all cased characters in the string are lowercase and\n",
      " |      there is at least one cased character in the string.\n",
      " |  \n",
      " |  isnumeric(self, /)\n",
      " |      Return True if the string is a numeric string, False otherwise.\n",
      " |      \n",
      " |      A string is numeric if all characters in the string are numeric and there is at\n",
      " |      least one character in the string.\n",
      " |  \n",
      " |  isprintable(self, /)\n",
      " |      Return True if the string is printable, False otherwise.\n",
      " |      \n",
      " |      A string is printable if all of its characters are considered printable in\n",
      " |      repr() or if it is empty.\n",
      " |  \n",
      " |  isspace(self, /)\n",
      " |      Return True if the string is a whitespace string, False otherwise.\n",
      " |      \n",
      " |      A string is whitespace if all characters in the string are whitespace and there\n",
      " |      is at least one character in the string.\n",
      " |  \n",
      " |  istitle(self, /)\n",
      " |      Return True if the string is a title-cased string, False otherwise.\n",
      " |      \n",
      " |      In a title-cased string, upper- and title-case characters may only\n",
      " |      follow uncased characters and lowercase characters only cased ones.\n",
      " |  \n",
      " |  isupper(self, /)\n",
      " |      Return True if the string is an uppercase string, False otherwise.\n",
      " |      \n",
      " |      A string is uppercase if all cased characters in the string are uppercase and\n",
      " |      there is at least one cased character in the string.\n",
      " |  \n",
      " |  join(self, iterable, /)\n",
      " |      Concatenate any number of strings.\n",
      " |      \n",
      " |      The string whose method is called is inserted in between each given string.\n",
      " |      The result is returned as a new string.\n",
      " |      \n",
      " |      Example: '.'.join(['ab', 'pq', 'rs']) -> 'ab.pq.rs'\n",
      " |  \n",
      " |  ljust(self, width, fillchar=' ', /)\n",
      " |      Return a left-justified string of length width.\n",
      " |      \n",
      " |      Padding is done using the specified fill character (default is a space).\n",
      " |  \n",
      " |  lower(self, /)\n",
      " |      Return a copy of the string converted to lowercase.\n",
      " |  \n",
      " |  lstrip(self, chars=None, /)\n",
      " |      Return a copy of the string with leading whitespace removed.\n",
      " |      \n",
      " |      If chars is given and not None, remove characters in chars instead.\n",
      " |  \n",
      " |  partition(self, sep, /)\n",
      " |      Partition the string into three parts using the given separator.\n",
      " |      \n",
      " |      This will search for the separator in the string.  If the separator is found,\n",
      " |      returns a 3-tuple containing the part before the separator, the separator\n",
      " |      itself, and the part after it.\n",
      " |      \n",
      " |      If the separator is not found, returns a 3-tuple containing the original string\n",
      " |      and two empty strings.\n",
      " |  \n",
      " |  removeprefix(self, prefix, /)\n",
      " |      Return a str with the given prefix string removed if present.\n",
      " |      \n",
      " |      If the string starts with the prefix string, return string[len(prefix):].\n",
      " |      Otherwise, return a copy of the original string.\n",
      " |  \n",
      " |  removesuffix(self, suffix, /)\n",
      " |      Return a str with the given suffix string removed if present.\n",
      " |      \n",
      " |      If the string ends with the suffix string and that suffix is not empty,\n",
      " |      return string[:-len(suffix)]. Otherwise, return a copy of the original\n",
      " |      string.\n",
      " |  \n",
      " |  replace(self, old, new, count=-1, /)\n",
      " |      Return a copy with all occurrences of substring old replaced by new.\n",
      " |      \n",
      " |        count\n",
      " |          Maximum number of occurrences to replace.\n",
      " |          -1 (the default value) means replace all occurrences.\n",
      " |      \n",
      " |      If the optional argument count is given, only the first count occurrences are\n",
      " |      replaced.\n",
      " |  \n",
      " |  rfind(...)\n",
      " |      S.rfind(sub[, start[, end]]) -> int\n",
      " |      \n",
      " |      Return the highest index in S where substring sub is found,\n",
      " |      such that sub is contained within S[start:end].  Optional\n",
      " |      arguments start and end are interpreted as in slice notation.\n",
      " |      \n",
      " |      Return -1 on failure.\n",
      " |  \n",
      " |  rindex(...)\n",
      " |      S.rindex(sub[, start[, end]]) -> int\n",
      " |      \n",
      " |      Return the highest index in S where substring sub is found,\n",
      " |      such that sub is contained within S[start:end].  Optional\n",
      " |      arguments start and end are interpreted as in slice notation.\n",
      " |      \n",
      " |      Raises ValueError when the substring is not found.\n",
      " |  \n",
      " |  rjust(self, width, fillchar=' ', /)\n",
      " |      Return a right-justified string of length width.\n",
      " |      \n",
      " |      Padding is done using the specified fill character (default is a space).\n",
      " |  \n",
      " |  rpartition(self, sep, /)\n",
      " |      Partition the string into three parts using the given separator.\n",
      " |      \n",
      " |      This will search for the separator in the string, starting at the end. If\n",
      " |      the separator is found, returns a 3-tuple containing the part before the\n",
      " |      separator, the separator itself, and the part after it.\n",
      " |      \n",
      " |      If the separator is not found, returns a 3-tuple containing two empty strings\n",
      " |      and the original string.\n",
      " |  \n",
      " |  rsplit(self, /, sep=None, maxsplit=-1)\n",
      " |      Return a list of the words in the string, using sep as the delimiter string.\n",
      " |      \n",
      " |        sep\n",
      " |          The delimiter according which to split the string.\n",
      " |          None (the default value) means split according to any whitespace,\n",
      " |          and discard empty strings from the result.\n",
      " |        maxsplit\n",
      " |          Maximum number of splits to do.\n",
      " |          -1 (the default value) means no limit.\n",
      " |      \n",
      " |      Splits are done starting at the end of the string and working to the front.\n",
      " |  \n",
      " |  rstrip(self, chars=None, /)\n",
      " |      Return a copy of the string with trailing whitespace removed.\n",
      " |      \n",
      " |      If chars is given and not None, remove characters in chars instead.\n",
      " |  \n",
      " |  split(self, /, sep=None, maxsplit=-1)\n",
      " |      Return a list of the words in the string, using sep as the delimiter string.\n",
      " |      \n",
      " |      sep\n",
      " |        The delimiter according which to split the string.\n",
      " |        None (the default value) means split according to any whitespace,\n",
      " |        and discard empty strings from the result.\n",
      " |      maxsplit\n",
      " |        Maximum number of splits to do.\n",
      " |        -1 (the default value) means no limit.\n",
      " |  \n",
      " |  splitlines(self, /, keepends=False)\n",
      " |      Return a list of the lines in the string, breaking at line boundaries.\n",
      " |      \n",
      " |      Line breaks are not included in the resulting list unless keepends is given and\n",
      " |      true.\n",
      " |  \n",
      " |  startswith(...)\n",
      " |      S.startswith(prefix[, start[, end]]) -> bool\n",
      " |      \n",
      " |      Return True if S starts with the specified prefix, False otherwise.\n",
      " |      With optional start, test S beginning at that position.\n",
      " |      With optional end, stop comparing S at that position.\n",
      " |      prefix can also be a tuple of strings to try.\n",
      " |  \n",
      " |  strip(self, chars=None, /)\n",
      " |      Return a copy of the string with leading and trailing whitespace removed.\n",
      " |      \n",
      " |      If chars is given and not None, remove characters in chars instead.\n",
      " |  \n",
      " |  swapcase(self, /)\n",
      " |      Convert uppercase characters to lowercase and lowercase characters to uppercase.\n",
      " |  \n",
      " |  title(self, /)\n",
      " |      Return a version of the string where each word is titlecased.\n",
      " |      \n",
      " |      More specifically, words start with uppercased characters and all remaining\n",
      " |      cased characters have lower case.\n",
      " |  \n",
      " |  translate(self, table, /)\n",
      " |      Replace each character in the string using the given translation table.\n",
      " |      \n",
      " |        table\n",
      " |          Translation table, which must be a mapping of Unicode ordinals to\n",
      " |          Unicode ordinals, strings, or None.\n",
      " |      \n",
      " |      The table must implement lookup/indexing via __getitem__, for instance a\n",
      " |      dictionary or list.  If this operation raises LookupError, the character is\n",
      " |      left untouched.  Characters mapped to None are deleted.\n",
      " |  \n",
      " |  upper(self, /)\n",
      " |      Return a copy of the string converted to uppercase.\n",
      " |  \n",
      " |  zfill(self, width, /)\n",
      " |      Pad a numeric string with zeros on the left, to fill a field of the given width.\n",
      " |      \n",
      " |      The string is never truncated.\n",
      " |  \n",
      " |  ----------------------------------------------------------------------\n",
      " |  Static methods defined here:\n",
      " |  \n",
      " |  __new__(*args, **kwargs) from builtins.type\n",
      " |      Create and return a new object.  See help(type) for accurate signature.\n",
      " |  \n",
      " |  maketrans(...)\n",
      " |      Return a translation table usable for str.translate().\n",
      " |      \n",
      " |      If there is only one argument, it must be a dictionary mapping Unicode\n",
      " |      ordinals (integers) or characters to Unicode ordinals, strings or None.\n",
      " |      Character keys will be then converted to ordinals.\n",
      " |      If there are two arguments, they must be strings of equal length, and\n",
      " |      in the resulting dictionary, each character in x will be mapped to the\n",
      " |      character at the same position in y. If there is a third argument, it\n",
      " |      must be a string, whose characters will be mapped to None in the result.\n",
      "\n"
     ]
    },
    {
     "name": "stdout",
     "output_type": "stream",
     "text": [
      "help> quit\n",
      "\n",
      "You are now leaving help and returning to the Python interpreter.\n",
      "If you want to ask for help on a particular object directly from the\n",
      "interpreter, you can type \"help(object)\".  Executing \"help('string')\"\n",
      "has the same effect as typing a particular string at the help> prompt.\n"
     ]
    }
   ],
   "source": [
    "help()"
   ]
  },
  {
   "cell_type": "code",
   "execution_count": 3,
   "id": "acc450c4",
   "metadata": {},
   "outputs": [
    {
     "data": {
      "text/plain": [
       "['ArithmeticError',\n",
       " 'AssertionError',\n",
       " 'AttributeError',\n",
       " 'BaseException',\n",
       " 'BlockingIOError',\n",
       " 'BrokenPipeError',\n",
       " 'BufferError',\n",
       " 'BytesWarning',\n",
       " 'ChildProcessError',\n",
       " 'ConnectionAbortedError',\n",
       " 'ConnectionError',\n",
       " 'ConnectionRefusedError',\n",
       " 'ConnectionResetError',\n",
       " 'DeprecationWarning',\n",
       " 'EOFError',\n",
       " 'Ellipsis',\n",
       " 'EnvironmentError',\n",
       " 'Exception',\n",
       " 'False',\n",
       " 'FileExistsError',\n",
       " 'FileNotFoundError',\n",
       " 'FloatingPointError',\n",
       " 'FutureWarning',\n",
       " 'GeneratorExit',\n",
       " 'IOError',\n",
       " 'ImportError',\n",
       " 'ImportWarning',\n",
       " 'IndentationError',\n",
       " 'IndexError',\n",
       " 'InterruptedError',\n",
       " 'IsADirectoryError',\n",
       " 'KeyError',\n",
       " 'KeyboardInterrupt',\n",
       " 'LookupError',\n",
       " 'MemoryError',\n",
       " 'ModuleNotFoundError',\n",
       " 'NameError',\n",
       " 'None',\n",
       " 'NotADirectoryError',\n",
       " 'NotImplemented',\n",
       " 'NotImplementedError',\n",
       " 'OSError',\n",
       " 'OverflowError',\n",
       " 'PendingDeprecationWarning',\n",
       " 'PermissionError',\n",
       " 'ProcessLookupError',\n",
       " 'RecursionError',\n",
       " 'ReferenceError',\n",
       " 'ResourceWarning',\n",
       " 'RuntimeError',\n",
       " 'RuntimeWarning',\n",
       " 'StopAsyncIteration',\n",
       " 'StopIteration',\n",
       " 'SyntaxError',\n",
       " 'SyntaxWarning',\n",
       " 'SystemError',\n",
       " 'SystemExit',\n",
       " 'TabError',\n",
       " 'TimeoutError',\n",
       " 'True',\n",
       " 'TypeError',\n",
       " 'UnboundLocalError',\n",
       " 'UnicodeDecodeError',\n",
       " 'UnicodeEncodeError',\n",
       " 'UnicodeError',\n",
       " 'UnicodeTranslateError',\n",
       " 'UnicodeWarning',\n",
       " 'UserWarning',\n",
       " 'ValueError',\n",
       " 'Warning',\n",
       " 'WindowsError',\n",
       " 'ZeroDivisionError',\n",
       " '__IPYTHON__',\n",
       " '__build_class__',\n",
       " '__debug__',\n",
       " '__doc__',\n",
       " '__import__',\n",
       " '__loader__',\n",
       " '__name__',\n",
       " '__package__',\n",
       " '__spec__',\n",
       " 'abs',\n",
       " 'all',\n",
       " 'any',\n",
       " 'ascii',\n",
       " 'bin',\n",
       " 'bool',\n",
       " 'breakpoint',\n",
       " 'bytearray',\n",
       " 'bytes',\n",
       " 'callable',\n",
       " 'chr',\n",
       " 'classmethod',\n",
       " 'compile',\n",
       " 'complex',\n",
       " 'copyright',\n",
       " 'credits',\n",
       " 'delattr',\n",
       " 'dict',\n",
       " 'dir',\n",
       " 'display',\n",
       " 'divmod',\n",
       " 'enumerate',\n",
       " 'eval',\n",
       " 'exec',\n",
       " 'execfile',\n",
       " 'filter',\n",
       " 'float',\n",
       " 'format',\n",
       " 'frozenset',\n",
       " 'get_ipython',\n",
       " 'getattr',\n",
       " 'globals',\n",
       " 'hasattr',\n",
       " 'hash',\n",
       " 'help',\n",
       " 'hex',\n",
       " 'id',\n",
       " 'input',\n",
       " 'int',\n",
       " 'isinstance',\n",
       " 'issubclass',\n",
       " 'iter',\n",
       " 'len',\n",
       " 'license',\n",
       " 'list',\n",
       " 'locals',\n",
       " 'map',\n",
       " 'max',\n",
       " 'memoryview',\n",
       " 'min',\n",
       " 'next',\n",
       " 'object',\n",
       " 'oct',\n",
       " 'open',\n",
       " 'ord',\n",
       " 'pow',\n",
       " 'print',\n",
       " 'property',\n",
       " 'range',\n",
       " 'repr',\n",
       " 'reversed',\n",
       " 'round',\n",
       " 'runfile',\n",
       " 'set',\n",
       " 'setattr',\n",
       " 'slice',\n",
       " 'sorted',\n",
       " 'staticmethod',\n",
       " 'str',\n",
       " 'sum',\n",
       " 'super',\n",
       " 'tuple',\n",
       " 'type',\n",
       " 'vars',\n",
       " 'zip']"
      ]
     },
     "execution_count": 3,
     "metadata": {},
     "output_type": "execute_result"
    }
   ],
   "source": [
    "dir(__builtins__)"
   ]
  },
  {
   "cell_type": "code",
   "execution_count": 8,
   "id": "a66674a5",
   "metadata": {},
   "outputs": [
    {
     "name": "stdout",
     "output_type": "stream",
     "text": [
      "Help on built-in function sum in module builtins:\n",
      "\n",
      "sum(iterable, /, start=0)\n",
      "    Return the sum of a 'start' value (default: 0) plus an iterable of numbers\n",
      "    \n",
      "    When the iterable is empty, return the start value.\n",
      "    This function is intended specifically for use with numeric values and may\n",
      "    reject non-numeric types.\n",
      "\n"
     ]
    }
   ],
   "source": [
    "help(sum)"
   ]
  },
  {
   "cell_type": "code",
   "execution_count": 9,
   "id": "91b33e88",
   "metadata": {},
   "outputs": [
    {
     "name": "stdout",
     "output_type": "stream",
     "text": [
      "Help on class tuple in module builtins:\n",
      "\n",
      "class tuple(object)\n",
      " |  tuple(iterable=(), /)\n",
      " |  \n",
      " |  Built-in immutable sequence.\n",
      " |  \n",
      " |  If no argument is given, the constructor returns an empty tuple.\n",
      " |  If iterable is specified the tuple is initialized from iterable's items.\n",
      " |  \n",
      " |  If the argument is a tuple, the return value is the same object.\n",
      " |  \n",
      " |  Built-in subclasses:\n",
      " |      asyncgen_hooks\n",
      " |      UnraisableHookArgs\n",
      " |  \n",
      " |  Methods defined here:\n",
      " |  \n",
      " |  __add__(self, value, /)\n",
      " |      Return self+value.\n",
      " |  \n",
      " |  __contains__(self, key, /)\n",
      " |      Return key in self.\n",
      " |  \n",
      " |  __eq__(self, value, /)\n",
      " |      Return self==value.\n",
      " |  \n",
      " |  __ge__(self, value, /)\n",
      " |      Return self>=value.\n",
      " |  \n",
      " |  __getattribute__(self, name, /)\n",
      " |      Return getattr(self, name).\n",
      " |  \n",
      " |  __getitem__(self, key, /)\n",
      " |      Return self[key].\n",
      " |  \n",
      " |  __getnewargs__(self, /)\n",
      " |  \n",
      " |  __gt__(self, value, /)\n",
      " |      Return self>value.\n",
      " |  \n",
      " |  __hash__(self, /)\n",
      " |      Return hash(self).\n",
      " |  \n",
      " |  __iter__(self, /)\n",
      " |      Implement iter(self).\n",
      " |  \n",
      " |  __le__(self, value, /)\n",
      " |      Return self<=value.\n",
      " |  \n",
      " |  __len__(self, /)\n",
      " |      Return len(self).\n",
      " |  \n",
      " |  __lt__(self, value, /)\n",
      " |      Return self<value.\n",
      " |  \n",
      " |  __mul__(self, value, /)\n",
      " |      Return self*value.\n",
      " |  \n",
      " |  __ne__(self, value, /)\n",
      " |      Return self!=value.\n",
      " |  \n",
      " |  __repr__(self, /)\n",
      " |      Return repr(self).\n",
      " |  \n",
      " |  __rmul__(self, value, /)\n",
      " |      Return value*self.\n",
      " |  \n",
      " |  count(self, value, /)\n",
      " |      Return number of occurrences of value.\n",
      " |  \n",
      " |  index(self, value, start=0, stop=9223372036854775807, /)\n",
      " |      Return first index of value.\n",
      " |      \n",
      " |      Raises ValueError if the value is not present.\n",
      " |  \n",
      " |  ----------------------------------------------------------------------\n",
      " |  Class methods defined here:\n",
      " |  \n",
      " |  __class_getitem__(...) from builtins.type\n",
      " |      See PEP 585\n",
      " |  \n",
      " |  ----------------------------------------------------------------------\n",
      " |  Static methods defined here:\n",
      " |  \n",
      " |  __new__(*args, **kwargs) from builtins.type\n",
      " |      Create and return a new object.  See help(type) for accurate signature.\n",
      "\n"
     ]
    }
   ],
   "source": [
    "help(tuple)"
   ]
  },
  {
   "cell_type": "code",
   "execution_count": 7,
   "id": "3f64b6ef",
   "metadata": {},
   "outputs": [
    {
     "name": "stdout",
     "output_type": "stream",
     "text": [
      "Help on class super in module builtins:\n",
      "\n",
      "class super(object)\n",
      " |  super() -> same as super(__class__, <first argument>)\n",
      " |  super(type) -> unbound super object\n",
      " |  super(type, obj) -> bound super object; requires isinstance(obj, type)\n",
      " |  super(type, type2) -> bound super object; requires issubclass(type2, type)\n",
      " |  Typical use to call a cooperative superclass method:\n",
      " |  class C(B):\n",
      " |      def meth(self, arg):\n",
      " |          super().meth(arg)\n",
      " |  This works for class methods too:\n",
      " |  class C(B):\n",
      " |      @classmethod\n",
      " |      def cmeth(cls, arg):\n",
      " |          super().cmeth(arg)\n",
      " |  \n",
      " |  Methods defined here:\n",
      " |  \n",
      " |  __get__(self, instance, owner, /)\n",
      " |      Return an attribute of instance, which is of type owner.\n",
      " |  \n",
      " |  __getattribute__(self, name, /)\n",
      " |      Return getattr(self, name).\n",
      " |  \n",
      " |  __init__(self, /, *args, **kwargs)\n",
      " |      Initialize self.  See help(type(self)) for accurate signature.\n",
      " |  \n",
      " |  __repr__(self, /)\n",
      " |      Return repr(self).\n",
      " |  \n",
      " |  ----------------------------------------------------------------------\n",
      " |  Static methods defined here:\n",
      " |  \n",
      " |  __new__(*args, **kwargs) from builtins.type\n",
      " |      Create and return a new object.  See help(type) for accurate signature.\n",
      " |  \n",
      " |  ----------------------------------------------------------------------\n",
      " |  Data descriptors defined here:\n",
      " |  \n",
      " |  __self__\n",
      " |      the instance invoking super(); may be None\n",
      " |  \n",
      " |  __self_class__\n",
      " |      the type of the instance invoking super(); may be None\n",
      " |  \n",
      " |  __thisclass__\n",
      " |      the class invoking super()\n",
      "\n"
     ]
    }
   ],
   "source": [
    "help(super)"
   ]
  },
  {
   "cell_type": "code",
   "execution_count": 10,
   "id": "face1ba6",
   "metadata": {},
   "outputs": [
    {
     "name": "stdout",
     "output_type": "stream",
     "text": [
      "Help on class type in module builtins:\n",
      "\n",
      "class type(object)\n",
      " |  type(object_or_name, bases, dict)\n",
      " |  type(object) -> the object's type\n",
      " |  type(name, bases, dict) -> a new type\n",
      " |  \n",
      " |  Methods defined here:\n",
      " |  \n",
      " |  __call__(self, /, *args, **kwargs)\n",
      " |      Call self as a function.\n",
      " |  \n",
      " |  __delattr__(self, name, /)\n",
      " |      Implement delattr(self, name).\n",
      " |  \n",
      " |  __dir__(self, /)\n",
      " |      Specialized __dir__ implementation for types.\n",
      " |  \n",
      " |  __getattribute__(self, name, /)\n",
      " |      Return getattr(self, name).\n",
      " |  \n",
      " |  __init__(self, /, *args, **kwargs)\n",
      " |      Initialize self.  See help(type(self)) for accurate signature.\n",
      " |  \n",
      " |  __instancecheck__(self, instance, /)\n",
      " |      Check if an object is an instance.\n",
      " |  \n",
      " |  __repr__(self, /)\n",
      " |      Return repr(self).\n",
      " |  \n",
      " |  __setattr__(self, name, value, /)\n",
      " |      Implement setattr(self, name, value).\n",
      " |  \n",
      " |  __sizeof__(self, /)\n",
      " |      Return memory consumption of the type object.\n",
      " |  \n",
      " |  __subclasscheck__(self, subclass, /)\n",
      " |      Check if a class is a subclass.\n",
      " |  \n",
      " |  __subclasses__(self, /)\n",
      " |      Return a list of immediate subclasses.\n",
      " |  \n",
      " |  mro(self, /)\n",
      " |      Return a type's method resolution order.\n",
      " |  \n",
      " |  ----------------------------------------------------------------------\n",
      " |  Class methods defined here:\n",
      " |  \n",
      " |  __prepare__(...)\n",
      " |      __prepare__() -> dict\n",
      " |      used to create the namespace for the class statement\n",
      " |  \n",
      " |  ----------------------------------------------------------------------\n",
      " |  Static methods defined here:\n",
      " |  \n",
      " |  __new__(*args, **kwargs)\n",
      " |      Create and return a new object.  See help(type) for accurate signature.\n",
      " |  \n",
      " |  ----------------------------------------------------------------------\n",
      " |  Data descriptors defined here:\n",
      " |  \n",
      " |  __abstractmethods__\n",
      " |  \n",
      " |  __dict__\n",
      " |  \n",
      " |  __text_signature__\n",
      " |  \n",
      " |  ----------------------------------------------------------------------\n",
      " |  Data and other attributes defined here:\n",
      " |  \n",
      " |  __base__ = <class 'object'>\n",
      " |      The base class of the class hierarchy.\n",
      " |      \n",
      " |      When called, it accepts no arguments and returns a new featureless\n",
      " |      instance that has no instance attributes and cannot be given any.\n",
      " |  \n",
      " |  \n",
      " |  __bases__ = (<class 'object'>,)\n",
      " |  \n",
      " |  __basicsize__ = 880\n",
      " |  \n",
      " |  __dictoffset__ = 264\n",
      " |  \n",
      " |  __flags__ = 2148293632\n",
      " |  \n",
      " |  __itemsize__ = 40\n",
      " |  \n",
      " |  __mro__ = (<class 'type'>, <class 'object'>)\n",
      " |  \n",
      " |  __weakrefoffset__ = 368\n",
      "\n"
     ]
    }
   ],
   "source": [
    "help(type)"
   ]
  },
  {
   "cell_type": "code",
   "execution_count": 6,
   "id": "94f7b135",
   "metadata": {},
   "outputs": [
    {
     "name": "stdout",
     "output_type": "stream",
     "text": [
      "Help on class slice in module builtins:\n",
      "\n",
      "class slice(object)\n",
      " |  slice(stop)\n",
      " |  slice(start, stop[, step])\n",
      " |  \n",
      " |  Create a slice object.  This is used for extended slicing (e.g. a[0:10:2]).\n",
      " |  \n",
      " |  Methods defined here:\n",
      " |  \n",
      " |  __eq__(self, value, /)\n",
      " |      Return self==value.\n",
      " |  \n",
      " |  __ge__(self, value, /)\n",
      " |      Return self>=value.\n",
      " |  \n",
      " |  __getattribute__(self, name, /)\n",
      " |      Return getattr(self, name).\n",
      " |  \n",
      " |  __gt__(self, value, /)\n",
      " |      Return self>value.\n",
      " |  \n",
      " |  __le__(self, value, /)\n",
      " |      Return self<=value.\n",
      " |  \n",
      " |  __lt__(self, value, /)\n",
      " |      Return self<value.\n",
      " |  \n",
      " |  __ne__(self, value, /)\n",
      " |      Return self!=value.\n",
      " |  \n",
      " |  __reduce__(...)\n",
      " |      Return state information for pickling.\n",
      " |  \n",
      " |  __repr__(self, /)\n",
      " |      Return repr(self).\n",
      " |  \n",
      " |  indices(...)\n",
      " |      S.indices(len) -> (start, stop, stride)\n",
      " |      \n",
      " |      Assuming a sequence of length len, calculate the start and stop\n",
      " |      indices, and the stride length of the extended slice described by\n",
      " |      S. Out of bounds indices are clipped in a manner consistent with the\n",
      " |      handling of normal slices.\n",
      " |  \n",
      " |  ----------------------------------------------------------------------\n",
      " |  Static methods defined here:\n",
      " |  \n",
      " |  __new__(*args, **kwargs) from builtins.type\n",
      " |      Create and return a new object.  See help(type) for accurate signature.\n",
      " |  \n",
      " |  ----------------------------------------------------------------------\n",
      " |  Data descriptors defined here:\n",
      " |  \n",
      " |  start\n",
      " |  \n",
      " |  step\n",
      " |  \n",
      " |  stop\n",
      " |  \n",
      " |  ----------------------------------------------------------------------\n",
      " |  Data and other attributes defined here:\n",
      " |  \n",
      " |  __hash__ = None\n",
      "\n"
     ]
    }
   ],
   "source": [
    "help(slice)"
   ]
  },
  {
   "cell_type": "code",
   "execution_count": 5,
   "id": "0769084b",
   "metadata": {},
   "outputs": [
    {
     "name": "stdout",
     "output_type": "stream",
     "text": [
      "Help on method raw_input in module ipykernel.kernelbase:\n",
      "\n",
      "raw_input(prompt='') method of ipykernel.ipkernel.IPythonKernel instance\n",
      "    Forward raw_input to frontends\n",
      "    \n",
      "    Raises\n",
      "    ------\n",
      "    StdinNotImplementedError if active frontend doesn't support stdin.\n",
      "\n"
     ]
    }
   ],
   "source": [
    "help(input)"
   ]
  },
  {
   "cell_type": "code",
   "execution_count": 4,
   "id": "5164413b",
   "metadata": {},
   "outputs": [
    {
     "name": "stdout",
     "output_type": "stream",
     "text": [
      "Help on class ArithmeticError in module builtins:\n",
      "\n",
      "class ArithmeticError(Exception)\n",
      " |  Base class for arithmetic errors.\n",
      " |  \n",
      " |  Method resolution order:\n",
      " |      ArithmeticError\n",
      " |      Exception\n",
      " |      BaseException\n",
      " |      object\n",
      " |  \n",
      " |  Built-in subclasses:\n",
      " |      FloatingPointError\n",
      " |      OverflowError\n",
      " |      ZeroDivisionError\n",
      " |  \n",
      " |  Methods defined here:\n",
      " |  \n",
      " |  __init__(self, /, *args, **kwargs)\n",
      " |      Initialize self.  See help(type(self)) for accurate signature.\n",
      " |  \n",
      " |  ----------------------------------------------------------------------\n",
      " |  Static methods defined here:\n",
      " |  \n",
      " |  __new__(*args, **kwargs) from builtins.type\n",
      " |      Create and return a new object.  See help(type) for accurate signature.\n",
      " |  \n",
      " |  ----------------------------------------------------------------------\n",
      " |  Methods inherited from BaseException:\n",
      " |  \n",
      " |  __delattr__(self, name, /)\n",
      " |      Implement delattr(self, name).\n",
      " |  \n",
      " |  __getattribute__(self, name, /)\n",
      " |      Return getattr(self, name).\n",
      " |  \n",
      " |  __reduce__(...)\n",
      " |      Helper for pickle.\n",
      " |  \n",
      " |  __repr__(self, /)\n",
      " |      Return repr(self).\n",
      " |  \n",
      " |  __setattr__(self, name, value, /)\n",
      " |      Implement setattr(self, name, value).\n",
      " |  \n",
      " |  __setstate__(...)\n",
      " |  \n",
      " |  __str__(self, /)\n",
      " |      Return str(self).\n",
      " |  \n",
      " |  with_traceback(...)\n",
      " |      Exception.with_traceback(tb) --\n",
      " |      set self.__traceback__ to tb and return self.\n",
      " |  \n",
      " |  ----------------------------------------------------------------------\n",
      " |  Data descriptors inherited from BaseException:\n",
      " |  \n",
      " |  __cause__\n",
      " |      exception cause\n",
      " |  \n",
      " |  __context__\n",
      " |      exception context\n",
      " |  \n",
      " |  __dict__\n",
      " |  \n",
      " |  __suppress_context__\n",
      " |  \n",
      " |  __traceback__\n",
      " |  \n",
      " |  args\n",
      "\n"
     ]
    }
   ],
   "source": [
    "help(ArithmeticError)"
   ]
  },
  {
   "cell_type": "code",
   "execution_count": 14,
   "id": "f2924ca6",
   "metadata": {},
   "outputs": [
    {
     "name": "stdout",
     "output_type": "stream",
     "text": [
      "Help on built-in function max in module builtins:\n",
      "\n",
      "max(...)\n",
      "    max(iterable, *[, default=obj, key=func]) -> value\n",
      "    max(arg1, arg2, *args, *[, key=func]) -> value\n",
      "    \n",
      "    With a single iterable argument, return its biggest item. The\n",
      "    default keyword-only argument specifies an object to return if\n",
      "    the provided iterable is empty.\n",
      "    With two or more arguments, return the largest argument.\n",
      "\n"
     ]
    }
   ],
   "source": [
    "help(max)"
   ]
  },
  {
   "cell_type": "code",
   "execution_count": 15,
   "id": "6fd3b122",
   "metadata": {},
   "outputs": [
    {
     "name": "stdout",
     "output_type": "stream",
     "text": [
      "Help on built-in function abs in module builtins:\n",
      "\n",
      "abs(x, /)\n",
      "    Return the absolute value of the argument.\n",
      "\n"
     ]
    }
   ],
   "source": [
    "help(abs)"
   ]
  },
  {
   "cell_type": "code",
   "execution_count": 16,
   "id": "35c33e6c",
   "metadata": {},
   "outputs": [
    {
     "name": "stdout",
     "output_type": "stream",
     "text": [
      "Help on built-in function len in module builtins:\n",
      "\n",
      "len(obj, /)\n",
      "    Return the number of items in a container.\n",
      "\n"
     ]
    }
   ],
   "source": [
    "help(len)"
   ]
  },
  {
   "cell_type": "code",
   "execution_count": 17,
   "id": "bf289dbe",
   "metadata": {},
   "outputs": [
    {
     "name": "stdout",
     "output_type": "stream",
     "text": [
      "Help on ZMQExitAutocall in module IPython.core.autocall object:\n",
      "\n",
      "class ZMQExitAutocall(ExitAutocall)\n",
      " |  ZMQExitAutocall(ip=None)\n",
      " |  \n",
      " |  Exit IPython. Autocallable, so it needn't be explicitly called.\n",
      " |  \n",
      " |  Parameters\n",
      " |  ----------\n",
      " |  keep_kernel : bool\n",
      " |    If True, leave the kernel alive. Otherwise, tell the kernel to exit too\n",
      " |    (default).\n",
      " |  \n",
      " |  Method resolution order:\n",
      " |      ZMQExitAutocall\n",
      " |      ExitAutocall\n",
      " |      IPyAutocall\n",
      " |      builtins.object\n",
      " |  \n",
      " |  Methods defined here:\n",
      " |  \n",
      " |  __call__(self, keep_kernel=False)\n",
      " |      Call self as a function.\n",
      " |  \n",
      " |  ----------------------------------------------------------------------\n",
      " |  Data and other attributes inherited from ExitAutocall:\n",
      " |  \n",
      " |  rewrite = False\n",
      " |  \n",
      " |  ----------------------------------------------------------------------\n",
      " |  Methods inherited from IPyAutocall:\n",
      " |  \n",
      " |  __init__(self, ip=None)\n",
      " |      Initialize self.  See help(type(self)) for accurate signature.\n",
      " |  \n",
      " |  set_ip(self, ip)\n",
      " |      Will be used to set _ip point to current ipython instance b/f call\n",
      " |      \n",
      " |      Override this method if you don't want this to happen.\n",
      " |  \n",
      " |  ----------------------------------------------------------------------\n",
      " |  Data descriptors inherited from IPyAutocall:\n",
      " |  \n",
      " |  __dict__\n",
      " |      dictionary for instance variables (if defined)\n",
      " |  \n",
      " |  __weakref__\n",
      " |      list of weak references to the object (if defined)\n",
      "\n"
     ]
    }
   ],
   "source": [
    "help(quit)"
   ]
  },
  {
   "cell_type": "code",
   "execution_count": 12,
   "id": "7431165b",
   "metadata": {},
   "outputs": [
    {
     "name": "stdout",
     "output_type": "stream",
     "text": [
      "\n",
      "Please wait a moment while I gather a list of all available modules...\n",
      "\n"
     ]
    },
    {
     "name": "stderr",
     "output_type": "stream",
     "text": [
      "C:\\Users\\iasms\\anaconda3\\lib\\site-packages\\IPython\\kernel\\__init__.py:12: ShimWarning: The `IPython.kernel` package has been deprecated since IPython 4.0.You should import from ipykernel or jupyter_client instead.\n",
      "  warn(\"The `IPython.kernel` package has been deprecated since IPython 4.0.\"\n",
      "WARNING: AstropyDeprecationWarning: The private astropy._erfa module has been made into its own package, pyerfa, which is a dependency of astropy and can be imported directly using \"import erfa\" [astropy._erfa]\n",
      "C:\\Users\\iasms\\anaconda3\\lib\\pkgutil.py:93: MatplotlibDeprecationWarning: \n",
      "The matplotlib.compat module was deprecated in Matplotlib 3.3 and will be removed two minor releases later.\n",
      "  __import__(info.name)\n",
      "C:\\Users\\iasms\\anaconda3\\lib\\site-packages\\nltk\\twitter\\__init__.py:20: UserWarning: The twython library has not been installed. Some functionality from the twitter package will not be available.\n",
      "  warnings.warn(\n"
     ]
    },
    {
     "name": "stdout",
     "output_type": "stream",
     "text": [
      "Update LANGUAGE_CODES (inside config/base.py) if a new translation has been added to Spyder\n"
     ]
    },
    {
     "name": "stderr",
     "output_type": "stream",
     "text": [
      "QSS file sucessfuly loaded.\n",
      "Found application patches to be applied.\n",
      "No QCoreApplication instance found. Application patches not applied. You have to call load_stylesheet function after instantiation of QApplication to take effect. \n",
      "C:\\Users\\iasms\\anaconda3\\lib\\pkgutil.py:108: VisibleDeprecationWarning: zmq.eventloop.minitornado is deprecated in pyzmq 14.0 and will be removed.\n",
      "    Install tornado itself to use zmq with the tornado IOLoop.\n",
      "    \n",
      "  yield from walk_packages(path, info.name+'.', onerror)\n"
     ]
    },
    {
     "name": "stdout",
     "output_type": "stream",
     "text": [
      "Cython              codecs              modulefinder        sortedcontainers\n",
      "IPython             codeop              more_itertools      soupsieve\n",
      "OpenSSL             collections         mpmath              sphinx\n",
      "PIL                 colorama            msgpack             sphinxcontrib\n",
      "PyQt5               colorsys            msilib              spyder\n",
      "TBB                 commctrl            msvcrt              spyder_kernels\n",
      "__future__          compileall          multipledispatch    sqlalchemy\n",
      "_abc                comtypes            multiprocessing     sqlite3\n",
      "_aix_support        concurrent          munkres             sre_compile\n",
      "_ast                conda               mypy_extensions     sre_constants\n",
      "_asyncio            conda_build         nacl                sre_parse\n",
      "_bisect             conda_content_trust navigator_updater   ssl\n",
      "_black_version      conda_env           nbclassic           sspi\n",
      "_blake2             conda_pack          nbclient            sspicon\n",
      "_bootlocale         conda_package_handling nbconvert           stat\n",
      "_bootsubprocess     conda_token         nbformat            statistics\n",
      "_bz2                conda_verify        nest_asyncio        statsmodels\n",
      "_cffi_backend       configparser        netbios             storemagic\n",
      "_codecs             contextlib          netrc               string\n",
      "_codecs_cn          contextlib2         networkx            stringprep\n",
      "_codecs_hk          contextvars         nltk                struct\n",
      "_codecs_iso2022     cookiecutter        nntplib             subprocess\n",
      "_codecs_jp          copy                nose                sunau\n",
      "_codecs_kr          copyreg             notebook            symbol\n",
      "_codecs_tw          crypt               nt                  sympy\n",
      "_collections        cryptography        ntpath              sympyprinting\n",
      "_collections_abc    csv                 ntsecuritycon       symtable\n",
      "_compat_pickle      ctypes              nturl2path          sys\n",
      "_compression        curl                numba               sysconfig\n",
      "_contextvars        curses              numbers             tables\n",
      "_csv                cwp                 numexpr             tabnanny\n",
      "_ctypes             cycler              numpy               tarfile\n",
      "_ctypes_test        cython              numpydoc            tbb\n",
      "_daal4py            cythonmagic         odbc                tblib\n",
      "_datetime           cytoolz             olefile             telnetlib\n",
      "_decimal            daal4py             onedal              tempfile\n",
      "_distutils_hack     dask                opcode              terminado\n",
      "_elementtree        dataclasses         openpyxl            test\n",
      "_functools          datetime            operator            test_data\n",
      "_hashlib            dateutil            optparse            test_pycosat\n",
      "_heapq              dbi                 os                  testpath\n",
      "_imp                dbm                 packaging           tests\n",
      "_io                 dde                 pandas              text_unidecode\n",
      "_json               debugpy             pandocfilters       textdistance\n",
      "_locale             decimal             paramiko            textwrap\n",
      "_lsprof             decorator           parser              this\n",
      "_lzma               defusedxml          parso               threading\n",
      "_markupbase         diff_match_patch    partd               threadpoolctl\n",
      "_md5                difflib             past                three_merge\n",
      "_msi                dis                 path                tifffile\n",
      "_multibytecodec     distributed         pathlib             time\n",
      "_multiprocessing    distutils           pathlib2            timeit\n",
      "_nsis               doctest             pathspec            timer\n",
      "_onedal4py_host     docutils            patsy               tinycss\n",
      "_opcode             email               pdb                 tkinter\n",
      "_operator           encodings           pep8                tlz\n",
      "_osx_support        ensurepip           perfmon             token\n",
      "_overlapped         entrypoints         pexpect             tokenize\n",
      "_peg_parser         enum                pickle              toml\n",
      "_pickle             erfa                pickleshare         toolz\n",
      "_py_abc             errno               pickletools         tornado\n",
      "_pydecimal          et_xmlfile          pip                 tqdm\n",
      "_pyio               fastcache           pipes               trace\n",
      "_pyrsistent_version faulthandler        pkg_resources       traceback\n",
      "_pytest             filecmp             pkginfo             tracemalloc\n",
      "_queue              fileinput           pkgutil             traitlets\n",
      "_random             filelock            platform            tty\n",
      "_sha1               flake8              plistlib            turtle\n",
      "_sha256             flask               pluggy              turtledemo\n",
      "_sha3               fnmatch             ply                 typed_ast\n",
      "_sha512             fontTools           poplib              types\n",
      "_signal             formatter           posixpath           typing\n",
      "_sitebuiltins       fractions           poyo                typing_extensions\n",
      "_socket             fsspec              pprint              ujson\n",
      "_sqlite3            ftplib              profile             unicodecsv\n",
      "_sre                functools           prometheus_client   unicodedata\n",
      "_ssl                future              prompt_toolkit      unidecode\n",
      "_stat               gc                  pstats              unittest\n",
      "_statistics         genericpath         psutil              urllib\n",
      "_string             getopt              pty                 urllib3\n",
      "_strptime           getpass             ptyprocess          uu\n",
      "_struct             gettext             pvectorc            uuid\n",
      "_symtable           gevent              py                  venv\n",
      "_system_path        glob                py_compile          warnings\n",
      "_testbuffer         glob2               pyclbr              watchdog\n",
      "_testcapi           graphlib            pycodestyle         wave\n",
      "_testconsole        greenlet            pycosat             wcwidth\n",
      "_testimportmultiple gzip                pycparser           weakref\n",
      "_testinternalcapi   h5py                pycurl              webbrowser\n",
      "_testmultiphase     hashlib             pydoc               webencodings\n",
      "_thread             heapdict            pydoc_data          werkzeug\n",
      "_threading_local    heapq               pydocstyle          wheel\n",
      "_tkinter            hmac                pyexpat             whichcraft\n",
      "_tracemalloc        html                pyflakes            widgetsnbextension\n",
      "_uuid               html5lib            pygments            win2kras\n",
      "_warnings           http                pylab               win32api\n",
      "_weakref            idlelib             pylint              win32clipboard\n",
      "_weakrefset         idna                pyls_spyder         win32com\n",
      "_win32sysloader     imagecodecs         pylsp               win32con\n",
      "_winapi             imageio             pylsp_black         win32console\n",
      "_winxptheme         imagesize           pylsp_jsonrpc       win32cred\n",
      "_xxsubinterpreters  imaplib             pyodbc              win32crypt\n",
      "_yaml               imghdr              pyparsing           win32cryptcon\n",
      "_zoneinfo           imp                 pyreadline          win32ctypes\n",
      "abc                 importlib           pyrsistent          win32event\n",
      "adodbapi            importlib_metadata  pytest              win32evtlog\n",
      "afxres              inflection          pythoncom           win32evtlogutil\n",
      "aifc                iniconfig           pytz                win32file\n",
      "alabaster           inspect             pywin               win32gui\n",
      "anaconda_navigator  intervaltree        pywin32_bootstrap   win32gui_struct\n",
      "anaconda_project    io                  pywin32_testutil    win32help\n",
      "antigravity         ipaddress           pywintypes          win32inet\n",
      "anyio               ipykernel           pywt                win32inetcon\n",
      "appdirs             ipykernel_launcher  pyximport           win32job\n",
      "argh                ipython_genutils    qdarkstyle          win32lz\n",
      "argon2              ipywidgets          qstylizer           win32net\n",
      "argparse            isapi               qtawesome           win32netcon\n",
      "array               isort               qtconsole           win32pdh\n",
      "arrow               isympy              qtpy                win32pdhquery\n",
      "asn1crypto          itertools           queue               win32pdhutil\n",
      "ast                 itsdangerous        quopri              win32pipe\n",
      "astroid             jdcal               random              win32print\n",
      "astropy             jedi                rasutil             win32process\n",
      "async_generator     jinja2              re                  win32profile\n",
      "asynchat            jinja2_time         readline            win32ras\n",
      "asyncio             joblib              regcheck            win32rcparser\n",
      "asyncore            json                regex               win32security\n",
      "atexit              json5               regutil             win32service\n",
      "atomicwrites        jsonschema          repo_cli            win32serviceutil\n",
      "attr                jupyter             reprlib             win32timezone\n",
      "audioop             jupyter_client      requests            win32trace\n",
      "autopep8            jupyter_console     rlcompleter         win32traceutil\n",
      "autoreload          jupyter_core        rmagic              win32transaction\n",
      "babel               jupyter_server      rope                win32ts\n",
      "backcall            jupyterlab          rtree               win32ui\n",
      "backports           jupyterlab_pygments ruamel_yaml         win32uiole\n",
      "base64              jupyterlab_server   run                 win32verstamp\n",
      "bcrypt              jupyterlab_widgets  runpy               win32wnet\n",
      "bdb                 jwt                 sched               win_inet_pton\n",
      "binaryornot         keyring             scipy               win_unicode_console\n",
      "binascii            keyword             scripts             wincertstore\n",
      "binhex              kiwisolver          seaborn             winerror\n",
      "binstar_client      lazy_object_proxy   secrets             winioctlcon\n",
      "bisect              lib2to3             select              winnt\n",
      "bitarray            libarchive          selectors           winperf\n",
      "bkcharts            libfuturize         send2trash          winpty\n",
      "black               libpasteurize       servicemanager      winreg\n",
      "blackd              lief                setuptools          winsound\n",
      "bleach              linecache           shelve              winxpgui\n",
      "blib2to3            llvmlite            shlex               winxptheme\n",
      "bokeh               locale              shutil              wrapt\n",
      "boto                locket              signal              wsgiref\n",
      "bottleneck          logging             simplegeneric       xdrlib\n",
      "brotli              lxml                singledispatch      xlrd\n",
      "bs4                 lzma                sip                 xlsxwriter\n",
      "builtins            mailbox             sipconfig           xlwings\n",
      "bz2                 mailcap             sipdistutils        xlwt\n",
      "cProfile            markupsafe          site                xml\n",
      "cached_property     marshal             six                 xmlrpc\n",
      "calendar            math                skimage             xmltodict\n",
      "certifi             matplotlib          sklearn             xxsubtype\n",
      "cffi                matplotlib_inline   sklearnex           yaml\n",
      "cgi                 mccabe              slugify             yapf\n",
      "cgitb               menuinst            smtpd               yapftests\n",
      "chardet             mimetypes           smtplib             zict\n",
      "charset_normalizer  mistune             sndhdr              zipapp\n",
      "chunk               mkl                 sniffio             zipfile\n",
      "click               mkl_fft             snowballstemmer     zipimport\n",
      "cloudpickle         mkl_random          socket              zipp\n",
      "clyent              mmap                socketserver        zlib\n",
      "cmath               mmapfile            socks               zmq\n",
      "cmd                 mmsystem            sockshandler        zoneinfo\n",
      "code                mock                sortedcollections   zope\n",
      "\n",
      "Enter any module name to get more help.  Or, type \"modules spam\" to search\n",
      "for modules whose name or summary contain the string \"spam\".\n",
      "\n"
     ]
    }
   ],
   "source": [
    "help('modules')"
   ]
  },
  {
   "cell_type": "code",
   "execution_count": 13,
   "id": "f3453a3f",
   "metadata": {},
   "outputs": [
    {
     "name": "stdout",
     "output_type": "stream",
     "text": [
      "Using matplotlib backend: Qt5Agg\n"
     ]
    }
   ],
   "source": [
    "matplotlib"
   ]
  },
  {
   "cell_type": "code",
   "execution_count": 18,
   "id": "a6a08f59",
   "metadata": {},
   "outputs": [
    {
     "name": "stdout",
     "output_type": "stream",
     "text": [
      "Please enter the number21\n",
      "Please enter the number33\n",
      "Please enter the number46\n",
      "46\n"
     ]
    }
   ],
   "source": [
    "x=int(input(\"Please enter the number\"))\n",
    "y=int(input(\"Please enter the number\"))\n",
    "z=int(input(\"Please enter the number\"))\n",
    "print(max(x,y,z))"
   ]
  },
  {
   "cell_type": "code",
   "execution_count": 4,
   "id": "30d959f3",
   "metadata": {},
   "outputs": [
    {
     "name": "stdout",
     "output_type": "stream",
     "text": [
      "12.0\n"
     ]
    }
   ],
   "source": [
    "import math\n",
    "print(math.sqrt(144))"
   ]
  },
  {
   "cell_type": "code",
   "execution_count": 20,
   "id": "1d78fc38",
   "metadata": {},
   "outputs": [
    {
     "data": {
      "text/plain": [
       "8.0"
      ]
     },
     "execution_count": 20,
     "metadata": {},
     "output_type": "execute_result"
    }
   ],
   "source": [
    "Sq_root=math.sqrt\n",
    "Sq_root(64)"
   ]
  },
  {
   "cell_type": "code",
   "execution_count": 21,
   "id": "fb29496d",
   "metadata": {},
   "outputs": [
    {
     "data": {
      "text/plain": [
       "0.4520707659915427"
      ]
     },
     "execution_count": 21,
     "metadata": {},
     "output_type": "execute_result"
    }
   ],
   "source": [
    "import random\n",
    "random.random()"
   ]
  },
  {
   "cell_type": "code",
   "execution_count": 23,
   "id": "3d963d8b",
   "metadata": {},
   "outputs": [
    {
     "data": {
      "text/plain": [
       "672"
      ]
     },
     "execution_count": 23,
     "metadata": {},
     "output_type": "execute_result"
    }
   ],
   "source": [
    "random.randint(1,100)\n",
    "random.randint(1,10)\n",
    "random.randint(1,1010)"
   ]
  },
  {
   "cell_type": "code",
   "execution_count": 24,
   "id": "b51f78e4",
   "metadata": {},
   "outputs": [
    {
     "name": "stdout",
     "output_type": "stream",
     "text": [
      "Hi How are you\n",
      "Hi How are you\n",
      "Hi How are you\n"
     ]
    }
   ],
   "source": [
    "a='Hi How are you'\n",
    "b=\"Hi How are you\"\n",
    "c='''Hi How are you'''\n",
    "print(a)\n",
    "print(b)\n",
    "print(c)"
   ]
  },
  {
   "cell_type": "code",
   "execution_count": 20,
   "id": "781a2842",
   "metadata": {},
   "outputs": [
    {
     "name": "stdout",
     "output_type": "stream",
     "text": [
      "Hi Hi Hi don't say\n"
     ]
    }
   ],
   "source": [
    "# a='Hi Hi Hi don't say'\n",
    "# print(a)\n",
    "b='Hi Hi Hi don\\'t say'\n",
    "print(b)"
   ]
  },
  {
   "cell_type": "code",
   "execution_count": 26,
   "id": "136ac2bf",
   "metadata": {},
   "outputs": [
    {
     "name": "stdout",
     "output_type": "stream",
     "text": [
      "14\n",
      "HelloWorld\n"
     ]
    }
   ],
   "source": [
    "print(len(a))\n",
    "c='Hello' \n",
    "d='World'\n",
    "print(c+d)"
   ]
  },
  {
   "cell_type": "code",
   "execution_count": 27,
   "id": "c604a8b7",
   "metadata": {},
   "outputs": [
    {
     "name": "stdout",
     "output_type": "stream",
     "text": [
      "Hi How are youHi How are youHi How are youHi How are youHi How are youHi How are youHi How are youHi How are youHi How are youHi How are youHi How are youHi How are youHi How are youHi How are youHi How are youHi How are youHi How are youHi How are youHi How are youHi How are youHi How are youHi How are youHi How are youHi How are youHi How are youHi How are youHi How are youHi How are youHi How are youHi How are youHi How are youHi How are youHi How are youHi How are youHi How are youHi How are youHi How are youHi How are youHi How are youHi How are youHi How are youHi How are youHi How are youHi How are youHi How are youHi How are youHi How are youHi How are youHi How are youHi How are youHi How are youHi How are youHi How are youHi How are youHi How are youHi How are youHi How are youHi How are youHi How are youHi How are youHi How are youHi How are youHi How are youHi How are youHi How are youHi How are youHi How are youHi How are youHi How are youHi How are youHi How are youHi How are youHi How are youHi How are youHi How are youHi How are youHi How are youHi How are youHi How are youHi How are youHi How are youHi How are youHi How are youHi How are youHi How are youHi How are youHi How are youHi How are youHi How are youHi How are youHi How are youHi How are youHi How are youHi How are youHi How are youHi How are youHi How are youHi How are youHi How are youHi How are you\n",
      "Hi How are you\n"
     ]
    }
   ],
   "source": [
    "print(a*100)\n",
    "print(a)"
   ]
  },
  {
   "cell_type": "code",
   "execution_count": 22,
   "id": "c670ff26",
   "metadata": {},
   "outputs": [
    {
     "name": "stdout",
     "output_type": "stream",
     "text": [
      "hello6\n"
     ]
    }
   ],
   "source": [
    "a='hello'\n",
    "b=6\n",
    "# print(a+b)\n",
    "print(a+str(b))"
   ]
  },
  {
   "cell_type": "markdown",
   "id": "990708d3",
   "metadata": {},
   "source": [
    "## METHODS IN LIST"
   ]
  },
  {
   "cell_type": "code",
   "execution_count": 29,
   "id": "b525b47e",
   "metadata": {},
   "outputs": [
    {
     "name": "stdout",
     "output_type": "stream",
     "text": [
      "2\n",
      "0\n"
     ]
    }
   ],
   "source": [
    "animals=['cat','dog','tiger','lion']\n",
    "ind=animals.index('tiger')\n",
    "print(ind)\n",
    "ind=animals.index('cat')\n",
    "print(ind)"
   ]
  },
  {
   "cell_type": "code",
   "execution_count": 30,
   "id": "033ccceb",
   "metadata": {},
   "outputs": [
    {
     "ename": "ValueError",
     "evalue": "'p' is not in list",
     "output_type": "error",
     "traceback": [
      "\u001b[1;31m---------------------------------------------------------------------------\u001b[0m",
      "\u001b[1;31mValueError\u001b[0m                                Traceback (most recent call last)",
      "\u001b[1;32m~\\AppData\\Local\\Temp/ipykernel_5608/3872984895.py\u001b[0m in \u001b[0;36m<module>\u001b[1;34m\u001b[0m\n\u001b[0;32m      1\u001b[0m \u001b[0mvowels\u001b[0m\u001b[1;33m=\u001b[0m\u001b[1;33m[\u001b[0m\u001b[1;34m'a'\u001b[0m\u001b[1;33m,\u001b[0m\u001b[1;34m'e'\u001b[0m\u001b[1;33m,\u001b[0m\u001b[1;34m'i'\u001b[0m\u001b[1;33m,\u001b[0m\u001b[1;34m'o'\u001b[0m\u001b[1;33m,\u001b[0m\u001b[1;34m'u'\u001b[0m\u001b[1;33m]\u001b[0m\u001b[1;33m\u001b[0m\u001b[1;33m\u001b[0m\u001b[0m\n\u001b[1;32m----> 2\u001b[1;33m \u001b[0mindex\u001b[0m\u001b[1;33m=\u001b[0m\u001b[0mvowels\u001b[0m\u001b[1;33m.\u001b[0m\u001b[0mindex\u001b[0m\u001b[1;33m(\u001b[0m\u001b[1;34m'p'\u001b[0m\u001b[1;33m)\u001b[0m\u001b[1;33m\u001b[0m\u001b[1;33m\u001b[0m\u001b[0m\n\u001b[0m\u001b[0;32m      3\u001b[0m \u001b[0mprint\u001b[0m\u001b[1;33m(\u001b[0m\u001b[1;34m'The index of p is:'\u001b[0m\u001b[1;33m,\u001b[0m\u001b[0mindex\u001b[0m\u001b[1;33m)\u001b[0m\u001b[1;33m\u001b[0m\u001b[1;33m\u001b[0m\u001b[0m\n",
      "\u001b[1;31mValueError\u001b[0m: 'p' is not in list"
     ]
    }
   ],
   "source": [
    "vowels=['a','e','i','o','u']\n",
    "index=vowels.index('p')\n",
    "print('The index of p is:',index)"
   ]
  },
  {
   "cell_type": "code",
   "execution_count": 6,
   "id": "68a5b6e7",
   "metadata": {},
   "outputs": [
    {
     "name": "stdout",
     "output_type": "stream",
     "text": [
      "The index of e is: 1\n",
      "The index of i is : 6\n"
     ]
    }
   ],
   "source": [
    "alphabet = ['a','e','i','o','g','l','i','u']\n",
    "index=alphabet.index('e')\n",
    "print('The index of e is:',index)\n",
    "index=alphabet.index('i',4)\n",
    "print('The index of i is :',index)\n",
    "index=alphabet.index('i',3,7)"
   ]
  },
  {
   "cell_type": "code",
   "execution_count": 32,
   "id": "4b235fd8",
   "metadata": {},
   "outputs": [
    {
     "name": "stdout",
     "output_type": "stream",
     "text": [
      "['Dollar', 'Eurro', 'Pound', 'Yen']\n"
     ]
    }
   ],
   "source": [
    "currencies = ['Dollar','Eurro','Pound']\n",
    "currencies.append('Yen')\n",
    "print(currencies)"
   ]
  },
  {
   "cell_type": "code",
   "execution_count": 33,
   "id": "3c3edd54",
   "metadata": {},
   "outputs": [
    {
     "name": "stdout",
     "output_type": "stream",
     "text": [
      "Updated animal list: ['cat', 'dog', 'rabbit', 'guinea pig']\n"
     ]
    }
   ],
   "source": [
    "animals=['cat','dog','rabbit']\n",
    "animals.append('guinea pig')\n",
    "print('Updated animal list:',animals)"
   ]
  },
  {
   "cell_type": "code",
   "execution_count": 34,
   "id": "15aa4a2d",
   "metadata": {},
   "outputs": [
    {
     "name": "stdout",
     "output_type": "stream",
     "text": [
      "Updated animal list :  ['cat', 'dog', 'rabbit', ['tiger', 'fox']]\n"
     ]
    }
   ],
   "source": [
    "animals=['cat','dog','rabbit']\n",
    "wild_animals=['tiger','fox']\n",
    "animals.append(wild_animals)\n",
    "print('Updated animal list : ',animals)"
   ]
  },
  {
   "cell_type": "code",
   "execution_count": 35,
   "id": "279bf912",
   "metadata": {},
   "outputs": [
    {
     "name": "stdout",
     "output_type": "stream",
     "text": [
      "List after extend(): [1, 4, 2, 3, 5]\n"
     ]
    }
   ],
   "source": [
    "prime_numbers=[2,3,5]\n",
    "numbers=[1,4]\n",
    "numbers.extend(prime_numbers)\n",
    "print('List after extend():',numbers)"
   ]
  },
  {
   "cell_type": "code",
   "execution_count": 36,
   "id": "7f592a96",
   "metadata": {},
   "outputs": [
    {
     "name": "stdout",
     "output_type": "stream",
     "text": [
      "[1, 2, 3, 4]\n",
      "[1, 2, (3, 4)]\n"
     ]
    }
   ],
   "source": [
    "a1=[1,2]\n",
    "a2=[1,2]\n",
    "b=(3,4)\n",
    "a1.extend(b)\n",
    "print(a1)\n",
    "a2.append(b)\n",
    "print(a2)"
   ]
  },
  {
   "cell_type": "code",
   "execution_count": 2,
   "id": "5470d664",
   "metadata": {},
   "outputs": [
    {
     "name": "stdout",
     "output_type": "stream",
     "text": [
      "List: ['a', 'e', 'i', 'o', 'u']\n"
     ]
    }
   ],
   "source": [
    "vowel=['a','e','i','u']\n",
    "vowel.insert(3,'o')\n",
    "print('List:',vowel)"
   ]
  },
  {
   "cell_type": "code",
   "execution_count": 43,
   "id": "d06111ac",
   "metadata": {},
   "outputs": [
    {
     "name": "stdout",
     "output_type": "stream",
     "text": [
      "updated list: [{1, 2}, (3, 4), {5, 6, 7}]\n"
     ]
    }
   ],
   "source": [
    "mixed_list=[{1,2},{5,6,7}]\n",
    "number_tuple=(3,4)\n",
    "mixed_list.insert(1,number_tuple)\n",
    "print('updated list:',mixed_list)"
   ]
  },
  {
   "cell_type": "code",
   "execution_count": 44,
   "id": "2620a491",
   "metadata": {},
   "outputs": [
    {
     "name": "stdout",
     "output_type": "stream",
     "text": [
      "Updated animals list: ['cat', 'dog', 'guinea pig']\n"
     ]
    }
   ],
   "source": [
    "animal=['cat', 'dog', 'rabbit', 'guinea pig']\n",
    "animals.remove('rabbit')\n",
    "print('Updated animals list:',animals)"
   ]
  },
  {
   "cell_type": "code",
   "execution_count": 45,
   "id": "ed34b327",
   "metadata": {},
   "outputs": [
    {
     "name": "stdout",
     "output_type": "stream",
     "text": [
      "Updated animals list: ['cat', 'guinea pig']\n"
     ]
    }
   ],
   "source": [
    "animal=['cat', 'dog','dog','dog', 'rabbit', 'guinea pig']     #check it\n",
    "animals.remove('dog')\n",
    "print('Updated animals list:',animals)"
   ]
  },
  {
   "cell_type": "code",
   "execution_count": 46,
   "id": "3b62c07f",
   "metadata": {},
   "outputs": [
    {
     "name": "stdout",
     "output_type": "stream",
     "text": [
      "Count of 2: 3\n"
     ]
    }
   ],
   "source": [
    "numbers=[2,3,5,2,11,2,7]\n",
    "count=numbers.count(2)\n",
    "print('Count of 2:',count)"
   ]
  },
  {
   "cell_type": "code",
   "execution_count": null,
   "id": "979da78a",
   "metadata": {},
   "outputs": [],
   "source": []
  },
  {
   "cell_type": "code",
   "execution_count": null,
   "id": "fef31d3b",
   "metadata": {},
   "outputs": [],
   "source": []
  },
  {
   "cell_type": "code",
   "execution_count": null,
   "id": "5f3f6c25",
   "metadata": {},
   "outputs": [],
   "source": []
  },
  {
   "cell_type": "code",
   "execution_count": 48,
   "id": "f2d96cac",
   "metadata": {},
   "outputs": [
    {
     "name": "stdout",
     "output_type": "stream",
     "text": [
      "Return value: French\n",
      "Updated list: ['Python', 'Java', 'C++', 'C']\n"
     ]
    }
   ],
   "source": [
    "languages = ['Python','Java','C++','French','C']\n",
    "return_value=languages.pop(3)\n",
    "print('Return value:',return_value)\n",
    "print('Updated list:',languages)"
   ]
  },
  {
   "cell_type": "code",
   "execution_count": 49,
   "id": "f2d68e42",
   "metadata": {},
   "outputs": [
    {
     "name": "stdout",
     "output_type": "stream",
     "text": [
      "Return value: C\n",
      "Updated list: ['Python', 'Java', 'C++', 'Ruby']\n",
      "Return value: Ruby\n",
      "Updated list: ['Python', 'Java', 'C++']\n",
      "Return value: Python\n",
      "Updated list: ['Java', 'C++']\n"
     ]
    }
   ],
   "source": [
    "languages = ['Python','Java','C++','Ruby','C']\n",
    "print('Return value:',languages.pop())\n",
    "print('Updated list:',languages)\n",
    "print('Return value:',languages.pop(-1))\n",
    "print('Updated list:',languages)\n",
    "print('Return value:',languages.pop(-3))\n",
    "print('Updated list:',languages)"
   ]
  },
  {
   "cell_type": "code",
   "execution_count": 51,
   "id": "3d828de4",
   "metadata": {},
   "outputs": [
    {
     "name": "stdout",
     "output_type": "stream",
     "text": [
      "[1, 2, 4, 5]\n",
      "[1, 2, 4]\n",
      "[2, 4]\n"
     ]
    }
   ],
   "source": [
    "numbers=[1,2,3,4,5]\n",
    "del numbers[2]\n",
    "print(numbers)\n",
    "del numbers[-1]\n",
    "print(numbers)\n",
    "del numbers[0]\n",
    "print(numbers)"
   ]
  },
  {
   "cell_type": "code",
   "execution_count": 53,
   "id": "9705b69d",
   "metadata": {},
   "outputs": [
    {
     "name": "stdout",
     "output_type": "stream",
     "text": [
      "List: []\n"
     ]
    }
   ],
   "source": [
    "list=[{1,2},('a'),['1.1','2.2']]\n",
    "del list[:]\n",
    "print('List:',list)"
   ]
  },
  {
   "cell_type": "code",
   "execution_count": 55,
   "id": "b71ac114",
   "metadata": {},
   "outputs": [
    {
     "name": "stdout",
     "output_type": "stream",
     "text": [
      "Original List: ['Windows', 'macOS', 'Linux']\n",
      "Updated List: ['Linux', 'macOS', 'Windows']\n"
     ]
    }
   ],
   "source": [
    "systems=['Windows','macOS','Linux']\n",
    "print('Original List:',systems)\n",
    "systems.reverse()\n",
    "print('Updated List:',systems)"
   ]
  },
  {
   "cell_type": "code",
   "execution_count": 58,
   "id": "55fcb325",
   "metadata": {},
   "outputs": [
    {
     "name": "stdout",
     "output_type": "stream",
     "text": [
      "Original List: ['Windows', 'macOS', 'Linux']\n",
      "Updated List: ['Linux', 'macOS', 'Windows']\n"
     ]
    }
   ],
   "source": [
    "systems=['Windows','macOS','Linux']\n",
    "print('Original List:',systems)\n",
    "reversed_list=systems[::-1]\n",
    "print('Updated List:',reversed_list)"
   ]
  },
  {
   "cell_type": "code",
   "execution_count": 59,
   "id": "93b6dff5",
   "metadata": {},
   "outputs": [
    {
     "name": "stdout",
     "output_type": "stream",
     "text": [
      "Sorted list: ['a', 'e', 'i', 'o', 'u']\n"
     ]
    }
   ],
   "source": [
    "vowels=['e','a','u','o','i']\n",
    "vowels.sort()\n",
    "print('Sorted list:',vowels)"
   ]
  },
  {
   "cell_type": "code",
   "execution_count": 60,
   "id": "f44844e2",
   "metadata": {},
   "outputs": [
    {
     "name": "stdout",
     "output_type": "stream",
     "text": [
      "Sorted list(in Descending): ['u', 'o', 'i', 'e', 'a']\n"
     ]
    }
   ],
   "source": [
    "vowels=['e','a','u','o','i']\n",
    "vowels.sort(reverse=True)\n",
    "print('Sorted list(in Descending):',vowels)"
   ]
  },
  {
   "cell_type": "code",
   "execution_count": 61,
   "id": "0ff0818f",
   "metadata": {},
   "outputs": [
    {
     "name": "stdout",
     "output_type": "stream",
     "text": [
      "Sorted list: [(4, 1), (1, 2), (1, 3), (3, 4)]\n"
     ]
    }
   ],
   "source": [
    "def takeSecond(elem):\n",
    "    return elem[1]\n",
    "random=[(1,2),(3,4),(4,1),(1,3)]\n",
    "random.sort(key=takeSecond)\n",
    "print('Sorted list:',random)"
   ]
  },
  {
   "cell_type": "code",
   "execution_count": 23,
   "id": "2bd12c66",
   "metadata": {},
   "outputs": [
    {
     "name": "stdout",
     "output_type": "stream",
     "text": [
      "Sorted list: [(1, 2), (1, 3), (3, 4), (4, 1)]\n"
     ]
    }
   ],
   "source": [
    "def takeSecond(elem):\n",
    "    return elem[0]\n",
    "random=[(1,2),(3,4),(4,1),(1,3)]\n",
    "random.sort(key=takeSecond)\n",
    "print('Sorted list:',random)"
   ]
  },
  {
   "cell_type": "code",
   "execution_count": 62,
   "id": "4d2bf13c",
   "metadata": {},
   "outputs": [
    {
     "name": "stdout",
     "output_type": "stream",
     "text": [
      "Copied List: ['cat', 0.6, 7]\n"
     ]
    }
   ],
   "source": [
    "my_list=['cat',0.6,7]\n",
    "new_list=my_list.copy()\n",
    "print('Copied List:',new_list)"
   ]
  },
  {
   "cell_type": "code",
   "execution_count": 64,
   "id": "d797f91d",
   "metadata": {},
   "outputs": [
    {
     "name": "stdout",
     "output_type": "stream",
     "text": [
      "New List: [1, 2, 3, 'a']\n",
      "Old List: [1, 2, 3, 'a']\n"
     ]
    }
   ],
   "source": [
    "old_list=[1,2,3]\n",
    "new_list=old_list\n",
    "new_list.append('a')\n",
    "print('New List:',new_list)\n",
    "print('Old List:',old_list)"
   ]
  },
  {
   "cell_type": "code",
   "execution_count": 24,
   "id": "acb37ebe",
   "metadata": {},
   "outputs": [
    {
     "name": "stdout",
     "output_type": "stream",
     "text": [
      "Old List: [1, 2, 3, 'a']\n",
      "New List: [1, 2, 3, 'a']\n"
     ]
    }
   ],
   "source": [
    "old_list=[1,2,3]\n",
    "new_list=old_list      #whichever list may change but the content becomes equal\n",
    "new_list.append('a')\n",
    "print('Old List:',old_list)\n",
    "print('New List:',new_list)\n"
   ]
  },
  {
   "cell_type": "code",
   "execution_count": 26,
   "id": "2ea67644",
   "metadata": {},
   "outputs": [
    {
     "name": "stdout",
     "output_type": "stream",
     "text": [
      "Old List: ['cat', 0, 6.7]\n",
      "New List: ['cat', 0, 6.7, 'dog']\n"
     ]
    }
   ],
   "source": [
    "list=['cat',0,6.7]\n",
    "new_list=list[:]         #change in content affects only the particular list\n",
    "# new_list=list\n",
    "new_list.append('dog')\n",
    "print('Old List:',list)\n",
    "print('New List:',new_list)"
   ]
  },
  {
   "cell_type": "code",
   "execution_count": 66,
   "id": "456afc06",
   "metadata": {},
   "outputs": [
    {
     "name": "stdout",
     "output_type": "stream",
     "text": [
      "List: []\n"
     ]
    }
   ],
   "source": [
    "list=[{1,2},{'a'},['1.1','2.2']]\n",
    "list.clear()\n",
    "print('List:',list)"
   ]
  },
  {
   "cell_type": "code",
   "execution_count": 68,
   "id": "438446a7",
   "metadata": {},
   "outputs": [
    {
     "name": "stdout",
     "output_type": "stream",
     "text": [
      "True\n",
      "False\n"
     ]
    }
   ],
   "source": [
    "x=[10,20,30,40,50]\n",
    "a=20\n",
    "print(a in x)\n",
    "print(a not in x)"
   ]
  },
  {
   "cell_type": "code",
   "execution_count": 72,
   "id": "19758768",
   "metadata": {},
   "outputs": [
    {
     "data": {
      "text/plain": [
       "[4, 5, 6, 7]"
      ]
     },
     "execution_count": 72,
     "metadata": {},
     "output_type": "execute_result"
    }
   ],
   "source": [
    "mylist=[0,1,2,3,4,5,6,7,8,9]\n",
    "mylist[4:8]"
   ]
  },
  {
   "cell_type": "code",
   "execution_count": 73,
   "id": "3c402685",
   "metadata": {},
   "outputs": [
    {
     "data": {
      "text/plain": [
       "[5, 6, 7, 8, 9]"
      ]
     },
     "execution_count": 73,
     "metadata": {},
     "output_type": "execute_result"
    }
   ],
   "source": [
    "mylist[5:10]"
   ]
  },
  {
   "cell_type": "code",
   "execution_count": 74,
   "id": "0c455c0a",
   "metadata": {},
   "outputs": [
    {
     "data": {
      "text/plain": [
       "['g']"
      ]
     },
     "execution_count": 74,
     "metadata": {},
     "output_type": "execute_result"
    }
   ],
   "source": [
    "names=['a','d','g','h']\n",
    "names[2:3]"
   ]
  },
  {
   "cell_type": "code",
   "execution_count": 75,
   "id": "64d8778a",
   "metadata": {},
   "outputs": [
    {
     "data": {
      "text/plain": [
       "['g', 'h']"
      ]
     },
     "execution_count": 75,
     "metadata": {},
     "output_type": "execute_result"
    }
   ],
   "source": [
    "names[2:4]"
   ]
  },
  {
   "cell_type": "code",
   "execution_count": 76,
   "id": "af3fd39e",
   "metadata": {},
   "outputs": [
    {
     "data": {
      "text/plain": [
       "[5, 6, 7, 8, 9]"
      ]
     },
     "execution_count": 76,
     "metadata": {},
     "output_type": "execute_result"
    }
   ],
   "source": [
    "mylist[5:]"
   ]
  },
  {
   "cell_type": "code",
   "execution_count": 77,
   "id": "821b6f0e",
   "metadata": {},
   "outputs": [
    {
     "data": {
      "text/plain": [
       "[0, 1, 2, 3, 4, 5, 6, 7, 8, 9]"
      ]
     },
     "execution_count": 77,
     "metadata": {},
     "output_type": "execute_result"
    }
   ],
   "source": [
    "mylist[:10]"
   ]
  },
  {
   "cell_type": "code",
   "execution_count": 78,
   "id": "bd7f6915",
   "metadata": {},
   "outputs": [
    {
     "data": {
      "text/plain": [
       "[0, 1, 2, 3, 4]"
      ]
     },
     "execution_count": 78,
     "metadata": {},
     "output_type": "execute_result"
    }
   ],
   "source": [
    "mylist[:5]"
   ]
  },
  {
   "cell_type": "code",
   "execution_count": 79,
   "id": "af59a1ca",
   "metadata": {},
   "outputs": [
    {
     "data": {
      "text/plain": [
       "[0, 3, 6, 9]"
      ]
     },
     "execution_count": 79,
     "metadata": {},
     "output_type": "execute_result"
    }
   ],
   "source": [
    "mylist[0:10:3]"
   ]
  },
  {
   "cell_type": "code",
   "execution_count": 80,
   "id": "e5f21170",
   "metadata": {},
   "outputs": [
    {
     "data": {
      "text/plain": [
       "[0, 3, 6, 9]"
      ]
     },
     "execution_count": 80,
     "metadata": {},
     "output_type": "execute_result"
    }
   ],
   "source": [
    "mylist[::3]"
   ]
  },
  {
   "cell_type": "code",
   "execution_count": 81,
   "id": "1849862c",
   "metadata": {},
   "outputs": [
    {
     "data": {
      "text/plain": [
       "[9, 7, 5, 3, 1]"
      ]
     },
     "execution_count": 81,
     "metadata": {},
     "output_type": "execute_result"
    }
   ],
   "source": [
    "mylist[::-2]"
   ]
  },
  {
   "cell_type": "code",
   "execution_count": 82,
   "id": "3940e8c1",
   "metadata": {},
   "outputs": [
    {
     "data": {
      "text/plain": [
       "[6, 7]"
      ]
     },
     "execution_count": 82,
     "metadata": {},
     "output_type": "execute_result"
    }
   ],
   "source": [
    "mylist[-4:-2]"
   ]
  },
  {
   "cell_type": "code",
   "execution_count": null,
   "id": "2cb72708",
   "metadata": {},
   "outputs": [],
   "source": []
  },
  {
   "cell_type": "code",
   "execution_count": 83,
   "id": "d56009ac",
   "metadata": {},
   "outputs": [
    {
     "name": "stdout",
     "output_type": "stream",
     "text": [
      "[[2, 4, 6, 8, 10], [3, 6, 9, 12, 15], [4, 8, 12, 16, 20]]\n"
     ]
    }
   ],
   "source": [
    "a=[[2,4,6,8,10],[3,6,9,12,15],[4,8,12,16,20]]\n",
    "print(a)"
   ]
  },
  {
   "cell_type": "code",
   "execution_count": 84,
   "id": "25edc04a",
   "metadata": {},
   "outputs": [
    {
     "name": "stdout",
     "output_type": "stream",
     "text": [
      "[2, 4, 6, 8, 10]\n",
      "[3, 6, 9, 12, 15]\n",
      "[4, 8, 12, 16, 20]\n"
     ]
    }
   ],
   "source": [
    "a=[[2,4,6,8,10],[3,6,9,12,15],[4,8,12,16,20]]\n",
    "for record in a:\n",
    "    print(record)"
   ]
  },
  {
   "cell_type": "code",
   "execution_count": 87,
   "id": "27204802",
   "metadata": {},
   "outputs": [
    {
     "name": "stdout",
     "output_type": "stream",
     "text": [
      "2 \n",
      "4 \n",
      "6 \n",
      "8 \n",
      "1 \n",
      "3 \n",
      "5 \n",
      "7 \n",
      "8 \n",
      "6 \n",
      "4 \n",
      "2 \n",
      "7 \n",
      "5 \n",
      "3 \n",
      "1 \n"
     ]
    }
   ],
   "source": [
    "a=[[2,4,6,8],\n",
    "  [1,3,5,7],\n",
    "  [8,6,4,2],\n",
    "  [7,5,3,1]]\n",
    "for i in range(len(a)):\n",
    "    for j in range(len(a[i])):\n",
    "        print(a[i][j],end=\" \")\n",
    "        print()"
   ]
  },
  {
   "cell_type": "code",
   "execution_count": 92,
   "id": "f07f1207",
   "metadata": {},
   "outputs": [
    {
     "name": "stdout",
     "output_type": "stream",
     "text": [
      "[[0, 0, 0, 0, 0], [0, 0, 0, 0, 0], [0, 0, 0, 0, 0], [0, 0, 0, 0, 0]]\n"
     ]
    }
   ],
   "source": [
    "m=4\n",
    "n=5\n",
    "a=[[0 for x in range(n)]for x in range(m)]\n",
    "print(a)"
   ]
  },
  {
   "cell_type": "code",
   "execution_count": 93,
   "id": "c11802e4",
   "metadata": {},
   "outputs": [
    {
     "name": "stdout",
     "output_type": "stream",
     "text": [
      "[[2, 4, 6, 8, 10], [3, 6, 9, 12, 15], [4, 8, 12, 16, 20], [5, 10, 15, 20, 25]]\n"
     ]
    }
   ],
   "source": [
    "a=[[2,4,6,8,10],[3,6,9,12,15],[4,8,12,16,20]]\n",
    "a.append([5,10,15,20,25])\n",
    "print(a)"
   ]
  },
  {
   "cell_type": "code",
   "execution_count": 94,
   "id": "55bf35c4",
   "metadata": {},
   "outputs": [
    {
     "name": "stdout",
     "output_type": "stream",
     "text": [
      "[[2, 4, 6, 8, 10, 12, 14, 16, 18], [3, 6, 9, 12, 15], [4, 8, 12, 16, 20]]\n"
     ]
    }
   ],
   "source": [
    "a=[[2,4,6,8,10],[3,6,9,12,15],[4,8,12,16,20]]\n",
    "a[0].extend([12,14,16,18])\n",
    "print(a)"
   ]
  },
  {
   "cell_type": "code",
   "execution_count": 95,
   "id": "13128fa4",
   "metadata": {},
   "outputs": [
    {
     "name": "stdout",
     "output_type": "stream",
     "text": [
      "[[2, 4, 6, 8, 10], [3, 6, 9, 12, 15], [20, 16, 12, 8, 4]]\n"
     ]
    }
   ],
   "source": [
    "a=[[2,4,6,8,10],[3,6,9,12,15],[4,8,12,16,20]]\n",
    "a[2].reverse()\n",
    "print(a)"
   ]
  },
  {
   "cell_type": "code",
   "execution_count": 96,
   "id": "3ec4db10",
   "metadata": {},
   "outputs": [
    {
     "name": "stdout",
     "output_type": "stream",
     "text": [
      "()\n"
     ]
    }
   ],
   "source": [
    "my_tuple=()\n",
    "print(my_tuple)"
   ]
  },
  {
   "cell_type": "code",
   "execution_count": 97,
   "id": "93131ff0",
   "metadata": {},
   "outputs": [
    {
     "name": "stdout",
     "output_type": "stream",
     "text": [
      "(1, 2, 3)\n"
     ]
    }
   ],
   "source": [
    "my_tuple=(1,2,3)\n",
    "print(my_tuple)"
   ]
  },
  {
   "cell_type": "code",
   "execution_count": 98,
   "id": "e30c80ff",
   "metadata": {},
   "outputs": [
    {
     "name": "stdout",
     "output_type": "stream",
     "text": [
      "(1, 'Hello', 3.4)\n"
     ]
    }
   ],
   "source": [
    "my_tuple=(1,\"Hello\",3.4)\n",
    "print(my_tuple)"
   ]
  },
  {
   "cell_type": "code",
   "execution_count": 99,
   "id": "f9650cab",
   "metadata": {},
   "outputs": [
    {
     "name": "stdout",
     "output_type": "stream",
     "text": [
      "('mouse', [8, 4, 6], (1, 2, 3))\n"
     ]
    }
   ],
   "source": [
    "my_tuple=(\"mouse\",[8,4,6],(1,2,3))\n",
    "print(my_tuple)"
   ]
  },
  {
   "cell_type": "code",
   "execution_count": 102,
   "id": "06095548",
   "metadata": {},
   "outputs": [
    {
     "name": "stdout",
     "output_type": "stream",
     "text": [
      "<class 'str'>\n"
     ]
    }
   ],
   "source": [
    "my_tuple=(\"hello\")\n",
    "print(type(my_tuple))"
   ]
  },
  {
   "cell_type": "code",
   "execution_count": 103,
   "id": "f775154a",
   "metadata": {},
   "outputs": [
    {
     "name": "stdout",
     "output_type": "stream",
     "text": [
      "<class 'tuple'>\n"
     ]
    }
   ],
   "source": [
    "my_tuple=(\"hello\",)\n",
    "print(type(my_tuple))"
   ]
  },
  {
   "cell_type": "code",
   "execution_count": 104,
   "id": "d221b77d",
   "metadata": {},
   "outputs": [
    {
     "name": "stdout",
     "output_type": "stream",
     "text": [
      "<class 'tuple'>\n"
     ]
    }
   ],
   "source": [
    "my_tuple=\"hello\",\n",
    "print(type(my_tuple))"
   ]
  },
  {
   "cell_type": "code",
   "execution_count": 106,
   "id": "50ff4090",
   "metadata": {},
   "outputs": [
    {
     "name": "stdout",
     "output_type": "stream",
     "text": [
      "p\n",
      "t\n"
     ]
    }
   ],
   "source": [
    "my_tuple=('p','e','r','m','i','t')\n",
    "print(my_tuple[0])\n",
    "print(my_tuple[5])"
   ]
  },
  {
   "cell_type": "code",
   "execution_count": 108,
   "id": "7fab3711",
   "metadata": {},
   "outputs": [
    {
     "name": "stdout",
     "output_type": "stream",
     "text": [
      "s\n",
      "4\n"
     ]
    }
   ],
   "source": [
    "n_tuple=(\"mouse\",[8,4,6],(1,2,3))\n",
    "print(n_tuple[0][3])\n",
    "print(n_tuple[1][1])"
   ]
  },
  {
   "cell_type": "code",
   "execution_count": null,
   "id": "627b0105",
   "metadata": {},
   "outputs": [],
   "source": []
  },
  {
   "cell_type": "code",
   "execution_count": null,
   "id": "ebe18dbb",
   "metadata": {},
   "outputs": [],
   "source": []
  },
  {
   "cell_type": "code",
   "execution_count": null,
   "id": "af5f7868",
   "metadata": {},
   "outputs": [],
   "source": []
  },
  {
   "cell_type": "code",
   "execution_count": 109,
   "id": "762da4be",
   "metadata": {},
   "outputs": [
    {
     "name": "stdout",
     "output_type": "stream",
     "text": [
      "t\n",
      "p\n"
     ]
    }
   ],
   "source": [
    "my_tuple=('p','e','r','m','i','t')\n",
    "print(my_tuple[-1])\n",
    "print(my_tuple[-6])"
   ]
  },
  {
   "cell_type": "code",
   "execution_count": 111,
   "id": "caa6cb94",
   "metadata": {},
   "outputs": [
    {
     "name": "stdout",
     "output_type": "stream",
     "text": [
      "('e', 'l', 'c')\n",
      "()\n",
      "('m', 'e')\n",
      "('w', 'e', 'l', 'c', 'o', 'm', 'e')\n"
     ]
    }
   ],
   "source": [
    "my_tuple=('w','e','l','c','o','m','e')\n",
    "print(my_tuple[1:4])\n",
    "print(my_tuple[:-7])\n",
    "print(my_tuple[5:])\n",
    "print(my_tuple[:])"
   ]
  },
  {
   "cell_type": "code",
   "execution_count": 112,
   "id": "e84f5923",
   "metadata": {},
   "outputs": [
    {
     "name": "stdout",
     "output_type": "stream",
     "text": [
      "(4, 2, 3, [9, 5])\n",
      "('p', 'r', 'o', 'g', 'r', 'a', 'm', 'm', 'e', 'r', 's')\n"
     ]
    }
   ],
   "source": [
    "my_tuple=(4,2,3,[6,5])\n",
    "my_tuple[3][0]=9\n",
    "print(my_tuple)\n",
    "my_tuple=('p','r','o','g','r','a','m','m','e','r','s')\n",
    "print(my_tuple)"
   ]
  },
  {
   "cell_type": "code",
   "execution_count": 113,
   "id": "a75410dc",
   "metadata": {},
   "outputs": [
    {
     "name": "stdout",
     "output_type": "stream",
     "text": [
      "(1, 2, 3, 4, 5, 6)\n",
      "('Repeat', 'Repeat', 'Repeat')\n"
     ]
    }
   ],
   "source": [
    "print((1,2,3)+(4,5,6))\n",
    "print((\"Repeat\",)*3)"
   ]
  },
  {
   "cell_type": "code",
   "execution_count": 3,
   "id": "5479c9d6",
   "metadata": {},
   "outputs": [
    {
     "ename": "NameError",
     "evalue": "name 'my_tuple2' is not defined",
     "output_type": "error",
     "traceback": [
      "\u001b[1;31m---------------------------------------------------------------------------\u001b[0m",
      "\u001b[1;31mNameError\u001b[0m                                 Traceback (most recent call last)",
      "\u001b[1;32m~\\AppData\\Local\\Temp/ipykernel_5980/3950382447.py\u001b[0m in \u001b[0;36m<module>\u001b[1;34m\u001b[0m\n\u001b[0;32m      1\u001b[0m \u001b[0mmy_tuple2\u001b[0m\u001b[1;33m=\u001b[0m\u001b[1;33m(\u001b[0m\u001b[1;34m'p'\u001b[0m\u001b[1;33m,\u001b[0m\u001b[1;34m'r'\u001b[0m\u001b[1;33m,\u001b[0m\u001b[1;34m'o'\u001b[0m\u001b[1;33m,\u001b[0m\u001b[1;34m'g'\u001b[0m\u001b[1;33m,\u001b[0m\u001b[1;34m'r'\u001b[0m\u001b[1;33m,\u001b[0m\u001b[1;34m'a'\u001b[0m\u001b[1;33m,\u001b[0m\u001b[1;34m'm'\u001b[0m\u001b[1;33m)\u001b[0m\u001b[1;33m\u001b[0m\u001b[1;33m\u001b[0m\u001b[0m\n\u001b[0;32m      2\u001b[0m \u001b[1;32mdel\u001b[0m \u001b[0mmy_tuple2\u001b[0m\u001b[1;33m\u001b[0m\u001b[1;33m\u001b[0m\u001b[0m\n\u001b[1;32m----> 3\u001b[1;33m \u001b[0mprint\u001b[0m\u001b[1;33m(\u001b[0m\u001b[0mmy_tuple2\u001b[0m\u001b[1;33m)\u001b[0m\u001b[1;33m\u001b[0m\u001b[1;33m\u001b[0m\u001b[0m\n\u001b[0m",
      "\u001b[1;31mNameError\u001b[0m: name 'my_tuple2' is not defined"
     ]
    }
   ],
   "source": [
    "my_tuple2=('p','r','o','g','r','a','m')\n",
    "del my_tuple2\n",
    "print(my_tuple2)"
   ]
  },
  {
   "cell_type": "code",
   "execution_count": 122,
   "id": "18392e3f",
   "metadata": {},
   "outputs": [
    {
     "name": "stdout",
     "output_type": "stream",
     "text": [
      "#prime= 7\n",
      "#square= 6\n"
     ]
    }
   ],
   "source": [
    "Prime_numbers=[2,3,5,7,11,13,17]\n",
    "Perfect_Squares=(1,4,9,16,25,36)\n",
    "print(\"#prime=\",len(Prime_numbers))\n",
    "print(\"#square=\",len(Perfect_Squares))"
   ]
  },
  {
   "cell_type": "code",
   "execution_count": 28,
   "id": "18966c50",
   "metadata": {},
   "outputs": [
    {
     "name": "stdout",
     "output_type": "stream",
     "text": [
      "['__breakpointhook__', '__displayhook__', '__doc__', '__excepthook__', '__interactivehook__', '__loader__', '__name__', '__package__', '__spec__', '__stderr__', '__stdin__', '__stdout__', '__unraisablehook__', '_base_executable', '_clear_type_cache', '_current_frames', '_debugmallocstats', '_enablelegacywindowsfsencoding', '_framework', '_getframe', '_git', '_home', '_xoptions', 'addaudithook', 'api_version', 'argv', 'audit', 'base_exec_prefix', 'base_prefix', 'breakpointhook', 'builtin_module_names', 'byteorder', 'call_tracing', 'copyright', 'displayhook', 'dllhandle', 'dont_write_bytecode', 'exc_info', 'excepthook', 'exec_prefix', 'executable', 'exit', 'flags', 'float_info', 'float_repr_style', 'get_asyncgen_hooks', 'get_coroutine_origin_tracking_depth', 'getallocatedblocks', 'getdefaultencoding', 'getfilesystemencodeerrors', 'getfilesystemencoding', 'getprofile', 'getrecursionlimit', 'getrefcount', 'getsizeof', 'getswitchinterval', 'gettrace', 'getwindowsversion', 'hash_info', 'hexversion', 'implementation', 'int_info', 'intern', 'is_finalizing', 'last_traceback', 'last_type', 'last_value', 'maxsize', 'maxunicode', 'meta_path', 'modules', 'path', 'path_hooks', 'path_importer_cache', 'platform', 'platlibdir', 'prefix', 'ps1', 'ps2', 'ps3', 'py2_modules', 'pycache_prefix', 'set_asyncgen_hooks', 'set_coroutine_origin_tracking_depth', 'setprofile', 'setrecursionlimit', 'setswitchinterval', 'settrace', 'stderr', 'stdin', 'stdout', 'thread_info', 'unraisablehook', 'version', 'version_info', 'warnoptions', 'winver']\n"
     ]
    }
   ],
   "source": [
    "import sys\n",
    "print(dir(sys))"
   ]
  },
  {
   "cell_type": "code",
   "execution_count": 29,
   "id": "e620b42c",
   "metadata": {},
   "outputs": [
    {
     "name": "stdout",
     "output_type": "stream",
     "text": [
      "List_size= 120\n",
      "Tuple_eg= 120\n"
     ]
    }
   ],
   "source": [
    "List_eg=[1,2,3,\"a\",\"b\",\"c\",True,3.14159]\n",
    "Tuple_eg=[1,2,3,\"a\",\"b\",\"c\",True,3.14159]\n",
    "print(\"List_size=\",sys.getsizeof(List_eg))\n",
    "print(\"Tuple_eg=\",sys.getsizeof(Tuple_eg))"
   ]
  },
  {
   "cell_type": "code",
   "execution_count": 126,
   "id": "ca78a274",
   "metadata": {},
   "outputs": [
    {
     "name": "stdout",
     "output_type": "stream",
     "text": [
      "{1, 2, 3}\n",
      "{1.0, (1, 2, 3), 'Hello'}\n"
     ]
    }
   ],
   "source": [
    "my_set={1,2,3}\n",
    "print(my_set)\n",
    "my_set={1.0,\"Hello\",(1,2,3)}\n",
    "print(my_set)"
   ]
  },
  {
   "cell_type": "code",
   "execution_count": 127,
   "id": "88f7a74f",
   "metadata": {},
   "outputs": [
    {
     "name": "stdout",
     "output_type": "stream",
     "text": [
      "{1, 2, 3, 4}\n"
     ]
    }
   ],
   "source": [
    "my_set={1,2,3,4,3,2}\n",
    "print(my_set)"
   ]
  },
  {
   "cell_type": "code",
   "execution_count": 128,
   "id": "cc64565f",
   "metadata": {},
   "outputs": [
    {
     "name": "stdout",
     "output_type": "stream",
     "text": [
      "{1, 2, 3}\n"
     ]
    }
   ],
   "source": [
    "my_set=set([1,2,3,2])\n",
    "print(my_set)"
   ]
  },
  {
   "cell_type": "code",
   "execution_count": 129,
   "id": "cfd75e7b",
   "metadata": {},
   "outputs": [
    {
     "ename": "TypeError",
     "evalue": "unhashable type: 'list'",
     "output_type": "error",
     "traceback": [
      "\u001b[1;31m---------------------------------------------------------------------------\u001b[0m",
      "\u001b[1;31mTypeError\u001b[0m                                 Traceback (most recent call last)",
      "\u001b[1;32m<ipython-input-129-2dc6f0f836b6>\u001b[0m in \u001b[0;36m<module>\u001b[1;34m\u001b[0m\n\u001b[1;32m----> 1\u001b[1;33m \u001b[0mmy_set\u001b[0m\u001b[1;33m=\u001b[0m\u001b[1;33m{\u001b[0m\u001b[1;36m1\u001b[0m\u001b[1;33m,\u001b[0m\u001b[1;36m2\u001b[0m\u001b[1;33m,\u001b[0m\u001b[1;33m[\u001b[0m\u001b[1;36m3\u001b[0m\u001b[1;33m,\u001b[0m\u001b[1;36m4\u001b[0m\u001b[1;33m]\u001b[0m\u001b[1;33m}\u001b[0m\u001b[1;33m\u001b[0m\u001b[1;33m\u001b[0m\u001b[0m\n\u001b[0m\u001b[0;32m      2\u001b[0m \u001b[0mprint\u001b[0m\u001b[1;33m(\u001b[0m\u001b[0mmy_set\u001b[0m\u001b[1;33m)\u001b[0m\u001b[1;33m\u001b[0m\u001b[1;33m\u001b[0m\u001b[0m\n",
      "\u001b[1;31mTypeError\u001b[0m: unhashable type: 'list'"
     ]
    }
   ],
   "source": [
    "my_set={1,2,[3,4]}\n",
    "print(my_set)"
   ]
  },
  {
   "cell_type": "code",
   "execution_count": 130,
   "id": "806d7895",
   "metadata": {},
   "outputs": [
    {
     "name": "stdout",
     "output_type": "stream",
     "text": [
      "<class 'dict'>\n"
     ]
    }
   ],
   "source": [
    "a={}\n",
    "print(type(a))"
   ]
  },
  {
   "cell_type": "code",
   "execution_count": 131,
   "id": "ca6c7e15",
   "metadata": {},
   "outputs": [
    {
     "name": "stdout",
     "output_type": "stream",
     "text": [
      "<class 'set'>\n"
     ]
    }
   ],
   "source": [
    "a=set()\n",
    "print(type(a))"
   ]
  },
  {
   "cell_type": "code",
   "execution_count": 132,
   "id": "cb4db997",
   "metadata": {},
   "outputs": [
    {
     "name": "stdout",
     "output_type": "stream",
     "text": [
      "{1, 3}\n",
      "{1, 2, 3}\n",
      "{1, 2, 3, 4}\n",
      "{1, 2, 3, 4, 5, 6, 8}\n"
     ]
    }
   ],
   "source": [
    "my_set={1,3}\n",
    "print(my_set)\n",
    "my_set.add(2)\n",
    "print(my_set)\n",
    "my_set.update([2,3,4])\n",
    "print(my_set)\n",
    "my_set.update([4,5],{1,6,8})\n",
    "print(my_set)"
   ]
  },
  {
   "cell_type": "code",
   "execution_count": 133,
   "id": "b471d4c3",
   "metadata": {},
   "outputs": [
    {
     "name": "stdout",
     "output_type": "stream",
     "text": [
      "{1, 2, 3, 4, 5, 6}\n",
      "{1, 2, 3, 5, 6}\n",
      "{1, 2, 3, 5}\n",
      "{1, 3, 5}\n"
     ]
    },
    {
     "ename": "KeyError",
     "evalue": "2",
     "output_type": "error",
     "traceback": [
      "\u001b[1;31m---------------------------------------------------------------------------\u001b[0m",
      "\u001b[1;31mKeyError\u001b[0m                                  Traceback (most recent call last)",
      "\u001b[1;32m<ipython-input-133-73b60bffa6c5>\u001b[0m in \u001b[0;36m<module>\u001b[1;34m\u001b[0m\n\u001b[0;32m      7\u001b[0m \u001b[0mmy_set\u001b[0m\u001b[1;33m.\u001b[0m\u001b[0mdiscard\u001b[0m\u001b[1;33m(\u001b[0m\u001b[1;36m2\u001b[0m\u001b[1;33m)\u001b[0m\u001b[1;33m\u001b[0m\u001b[1;33m\u001b[0m\u001b[0m\n\u001b[0;32m      8\u001b[0m \u001b[0mprint\u001b[0m\u001b[1;33m(\u001b[0m\u001b[0mmy_set\u001b[0m\u001b[1;33m)\u001b[0m\u001b[1;33m\u001b[0m\u001b[1;33m\u001b[0m\u001b[0m\n\u001b[1;32m----> 9\u001b[1;33m \u001b[0mmy_set\u001b[0m\u001b[1;33m.\u001b[0m\u001b[0mremove\u001b[0m\u001b[1;33m(\u001b[0m\u001b[1;36m2\u001b[0m\u001b[1;33m)\u001b[0m\u001b[1;33m\u001b[0m\u001b[1;33m\u001b[0m\u001b[0m\n\u001b[0m",
      "\u001b[1;31mKeyError\u001b[0m: 2"
     ]
    }
   ],
   "source": [
    "my_set={1,2,3,4,5,6}\n",
    "print(my_set)\n",
    "my_set.discard(4)\n",
    "print(my_set)\n",
    "my_set.remove(6)\n",
    "print(my_set)\n",
    "my_set.discard(2)\n",
    "print(my_set)\n",
    "my_set.remove(2)"
   ]
  },
  {
   "cell_type": "code",
   "execution_count": 134,
   "id": "4c9dcb82",
   "metadata": {},
   "outputs": [
    {
     "name": "stdout",
     "output_type": "stream",
     "text": [
      "A= {'a', 1, 2, 3, 'b'}\n",
      "result= None\n"
     ]
    }
   ],
   "source": [
    "A={'a','b'}\n",
    "B={1,2,3}\n",
    "result=A.update(B)\n",
    "print('A=',A)\n",
    "print('result=',result)"
   ]
  },
  {
   "cell_type": "code",
   "execution_count": 135,
   "id": "f819372c",
   "metadata": {},
   "outputs": [
    {
     "name": "stdout",
     "output_type": "stream",
     "text": [
      "A U B = {'a', 'c', 2, 'd'}\n",
      "B U C = {'c', 2, 1, 'd', 3}\n",
      "A U B U C = {'a', 'c', 2, 1, 'd', 3}\n",
      "A.union()= {'a', 'c', 'd'}\n"
     ]
    }
   ],
   "source": [
    "A={'a','c','d'}\n",
    "B={'c','d',2}\n",
    "C={1,2,3}\n",
    "print('A U B =',A.union(B))\n",
    "print('B U C =',B.union(C))\n",
    "print('A U B U C =',A.union(B,C))\n",
    "print('A.union()=',A.union())"
   ]
  },
  {
   "cell_type": "code",
   "execution_count": 138,
   "id": "b00c714a",
   "metadata": {},
   "outputs": [
    {
     "name": "stdout",
     "output_type": "stream",
     "text": [
      "A U B = {'a', 'c', 2, 'd'}\n",
      "B U C = {'c', 2, 1, 'd', 3}\n",
      "A U B U C = {'a', 'c', 2, 1, 'd', 3}\n"
     ]
    }
   ],
   "source": [
    "A={'a','c','d'}\n",
    "B={'c','d',2}\n",
    "C={1,2,3}\n",
    "print('A U B =',A|B)\n",
    "print('B U C =',B|C)\n",
    "print('A U B U C =',A|B|C)"
   ]
  },
  {
   "cell_type": "code",
   "execution_count": 139,
   "id": "4d1c585c",
   "metadata": {},
   "outputs": [
    {
     "name": "stdout",
     "output_type": "stream",
     "text": [
      "{2, 5}\n",
      "{2}\n",
      "{2, 3}\n",
      "{2}\n"
     ]
    }
   ],
   "source": [
    "A={2,3,5,4}\n",
    "B={2,5,100}\n",
    "C={2,3,8,9,10}\n",
    "print(B.intersection(A))\n",
    "print(B.intersection(C))\n",
    "print(A.intersection(C))\n",
    "print(C.intersection(A,B))"
   ]
  },
  {
   "cell_type": "code",
   "execution_count": 141,
   "id": "720aa40d",
   "metadata": {},
   "outputs": [
    {
     "name": "stdout",
     "output_type": "stream",
     "text": [
      "{7}\n",
      "{100}\n",
      "set()\n",
      "set()\n"
     ]
    }
   ],
   "source": [
    "A = {100,7,8}\n",
    "B = {200,4,5}\n",
    "C = {300,2,3,7}\n",
    "D = {100,200,300}\n",
    "print(A & C)\n",
    "print(A & D)\n",
    "print(A & C & D)\n",
    "print(A & B & C & D)"
   ]
  },
  {
   "cell_type": "code",
   "execution_count": 142,
   "id": "78967ab6",
   "metadata": {},
   "outputs": [
    {
     "name": "stdout",
     "output_type": "stream",
     "text": [
      "{'a', 'd', 'b'}\n",
      "{'g', 'f'}\n"
     ]
    }
   ],
   "source": [
    "A = {'a','b','c','d'}\n",
    "B = {'c','f','g'}\n",
    "print(A.difference(B))\n",
    "print(B.difference(A))"
   ]
  },
  {
   "cell_type": "code",
   "execution_count": 145,
   "id": "6ea32f25",
   "metadata": {},
   "outputs": [
    {
     "name": "stdout",
     "output_type": "stream",
     "text": [
      "{'a', 'd', 'b'}\n",
      "{'g', 'f'}\n"
     ]
    }
   ],
   "source": [
    "A = {'a','b','c','d'}\n",
    "B = {'c','f','g'}\n",
    "print(A-B)\n",
    "print(B-A)"
   ]
  },
  {
   "cell_type": "code",
   "execution_count": 147,
   "id": "6e2162be",
   "metadata": {},
   "outputs": [
    {
     "name": "stdout",
     "output_type": "stream",
     "text": [
      "{'e', 'a', 'b'}\n",
      "{'a', 'e', 'b'}\n",
      "{'a', 'c', 'd', 'b'}\n",
      "{'c', 'd', 'e'}\n"
     ]
    }
   ],
   "source": [
    "A = {'a','b','c','d'}\n",
    "B = {'c','d','e'}\n",
    "C = {}\n",
    "print(A.symmetric_difference(B))\n",
    "print(B.symmetric_difference(A))\n",
    "print(A.symmetric_difference(C))\n",
    "print(B.symmetric_difference(C))"
   ]
  },
  {
   "cell_type": "code",
   "execution_count": 148,
   "id": "60608f90",
   "metadata": {},
   "outputs": [
    {
     "name": "stdout",
     "output_type": "stream",
     "text": [
      "{'e', 'a', 'b'}\n",
      "{'a', 'e', 'b'}\n",
      "set()\n",
      "set()\n"
     ]
    }
   ],
   "source": [
    "A={'a','b','c','d'}\n",
    "B={'c','d','e'}\n",
    "print(A^B)\n",
    "print(B^A)\n",
    "print(A^A)\n",
    "print(B^B)"
   ]
  },
  {
   "cell_type": "code",
   "execution_count": 149,
   "id": "cb5dc4fb",
   "metadata": {},
   "outputs": [
    {
     "name": "stdout",
     "output_type": "stream",
     "text": [
      "True\n",
      "False\n",
      "False\n",
      "True\n"
     ]
    }
   ],
   "source": [
    "A={1,2,3}\n",
    "B={1,2,3,4,5}\n",
    "C={1,2,4,5}\n",
    "print(A.issubset(B))\n",
    "print(B.issubset(A))\n",
    "print(A.issubset(C))\n",
    "print(C.issubset(B))"
   ]
  },
  {
   "cell_type": "code",
   "execution_count": 152,
   "id": "32048a40",
   "metadata": {},
   "outputs": [
    {
     "name": "stdout",
     "output_type": "stream",
     "text": [
      "Are A and B disjoint? True\n",
      "Are A and C disjoint? False\n"
     ]
    }
   ],
   "source": [
    "A={1,2,3,4}\n",
    "B={5,6,7}\n",
    "C={4,5,6}\n",
    "print('Are A and B disjoint?',A.isdisjoint(B))\n",
    "print('Are A and C disjoint?',A.isdisjoint(C))"
   ]
  },
  {
   "cell_type": "code",
   "execution_count": null,
   "id": "4ce8dc71",
   "metadata": {},
   "outputs": [],
   "source": []
  },
  {
   "cell_type": "code",
   "execution_count": null,
   "id": "00268888",
   "metadata": {},
   "outputs": [],
   "source": []
  },
  {
   "cell_type": "code",
   "execution_count": null,
   "id": "d6721c6c",
   "metadata": {},
   "outputs": [],
   "source": []
  },
  {
   "cell_type": "code",
   "execution_count": 154,
   "id": "f6bfa1cb",
   "metadata": {},
   "outputs": [
    {
     "data": {
      "text/plain": [
       "1585752468528"
      ]
     },
     "execution_count": 154,
     "metadata": {},
     "output_type": "execute_result"
    }
   ],
   "source": [
    "a=25\n",
    "b=25\n",
    "id(a)"
   ]
  },
  {
   "cell_type": "code",
   "execution_count": 155,
   "id": "71fd127b",
   "metadata": {},
   "outputs": [
    {
     "data": {
      "text/plain": [
       "1585752468528"
      ]
     },
     "execution_count": 155,
     "metadata": {},
     "output_type": "execute_result"
    }
   ],
   "source": [
    "id(b)"
   ]
  },
  {
   "cell_type": "code",
   "execution_count": 3,
   "id": "41b2c320",
   "metadata": {},
   "outputs": [
    {
     "ename": "SyntaxError",
     "evalue": "'return' outside function (Temp/ipykernel_5996/348239903.py, line 4)",
     "output_type": "error",
     "traceback": [
      "\u001b[1;36m  File \u001b[1;32m\"C:\\Users\\iasms\\AppData\\Local\\Temp/ipykernel_5996/348239903.py\"\u001b[1;36m, line \u001b[1;32m4\u001b[0m\n\u001b[1;33m    return false\u001b[0m\n\u001b[1;37m    ^\u001b[0m\n\u001b[1;31mSyntaxError\u001b[0m\u001b[1;31m:\u001b[0m 'return' outside function\n"
     ]
    }
   ],
   "source": [
    "a=25\n",
    "b=25\n",
    "if(a is b):\n",
    "    return false"
   ]
  },
  {
   "cell_type": "code",
   "execution_count": 4,
   "id": "29420014",
   "metadata": {},
   "outputs": [
    {
     "name": "stdout",
     "output_type": "stream",
     "text": [
      "Jack\n",
      "26\n",
      "None\n",
      "{'name': 'Jack', 'age': 26}\n"
     ]
    }
   ],
   "source": [
    "my_dict={'name':'Jack','age':26}\n",
    "print(my_dict['name'])\n",
    "print(my_dict.get('age'))\n",
    "print(my_dict.get('address'))                      # in case we use my_dict['address']  --> it will fetch error\n",
    "print(my_dict)"
   ]
  },
  {
   "cell_type": "code",
   "execution_count": 162,
   "id": "31655a72",
   "metadata": {},
   "outputs": [
    {
     "name": "stdout",
     "output_type": "stream",
     "text": [
      "{'name': 'Jack', 'age': 27}\n",
      "{'name': 'Jack', 'age': 27, 'address': 'Downtown'}\n"
     ]
    }
   ],
   "source": [
    "my_dict={'name':'Jack','age':'26'}\n",
    "my_dict['age']=27\n",
    "print(my_dict)\n",
    "my_dict['address']='Downtown'\n",
    "print(my_dict)"
   ]
  },
  {
   "cell_type": "code",
   "execution_count": 163,
   "id": "9a8f99d8",
   "metadata": {},
   "outputs": [
    {
     "name": "stdout",
     "output_type": "stream",
     "text": [
      "16\n",
      "{1: 1, 2: 4, 3: 9, 5: 25}\n",
      "(5, 25)\n",
      "{1: 1, 2: 4, 3: 9}\n",
      "{}\n"
     ]
    },
    {
     "ename": "NameError",
     "evalue": "name 'squares' is not defined",
     "output_type": "error",
     "traceback": [
      "\u001b[1;31m---------------------------------------------------------------------------\u001b[0m",
      "\u001b[1;31mNameError\u001b[0m                                 Traceback (most recent call last)",
      "\u001b[1;32m<ipython-input-163-36cc53adb885>\u001b[0m in \u001b[0;36m<module>\u001b[1;34m\u001b[0m\n\u001b[0;32m      7\u001b[0m \u001b[0mprint\u001b[0m\u001b[1;33m(\u001b[0m\u001b[0msquares\u001b[0m\u001b[1;33m)\u001b[0m\u001b[1;33m\u001b[0m\u001b[1;33m\u001b[0m\u001b[0m\n\u001b[0;32m      8\u001b[0m \u001b[1;32mdel\u001b[0m \u001b[0msquares\u001b[0m\u001b[1;33m\u001b[0m\u001b[1;33m\u001b[0m\u001b[0m\n\u001b[1;32m----> 9\u001b[1;33m \u001b[0mprint\u001b[0m\u001b[1;33m(\u001b[0m\u001b[0msquares\u001b[0m\u001b[1;33m)\u001b[0m\u001b[1;33m\u001b[0m\u001b[1;33m\u001b[0m\u001b[0m\n\u001b[0m",
      "\u001b[1;31mNameError\u001b[0m: name 'squares' is not defined"
     ]
    }
   ],
   "source": [
    "squares={1:1,2:4,3:9,4:16,5:25}\n",
    "print(squares.pop(4))\n",
    "print(squares)\n",
    "print(squares.popitem())\n",
    "print(squares)\n",
    "squares.clear()\n",
    "print(squares)\n",
    "del squares\n",
    "print(squares)"
   ]
  },
  {
   "cell_type": "code",
   "execution_count": 164,
   "id": "24dbcc02",
   "metadata": {},
   "outputs": [
    {
     "name": "stdout",
     "output_type": "stream",
     "text": [
      "{'a': None, 'e': None, 'u': None, 'o': None, 'i': None}\n"
     ]
    }
   ],
   "source": [
    "keys={'a','e','i','o','u'}\n",
    "vowels=dict.fromkeys(keys)\n",
    "print(vowels)"
   ]
  },
  {
   "cell_type": "code",
   "execution_count": 166,
   "id": "e7354618",
   "metadata": {},
   "outputs": [
    {
     "name": "stdout",
     "output_type": "stream",
     "text": [
      "{'a': [1], 'e': [1], 'u': [1], 'o': [1], 'i': [1]}\n",
      "{'a': [1, 2], 'e': [1, 2], 'u': [1, 2], 'o': [1, 2], 'i': [1, 2]}\n"
     ]
    }
   ],
   "source": [
    "keys={'a','e','i','o','u'}\n",
    "value=[1]\n",
    "vowels=dict.fromkeys(keys,value)\n",
    "print(vowels)\n",
    "value.append(2)\n",
    "print(vowels)"
   ]
  },
  {
   "cell_type": "code",
   "execution_count": 169,
   "id": "d9731e90",
   "metadata": {},
   "outputs": [
    {
     "name": "stdout",
     "output_type": "stream",
     "text": [
      "82\n"
     ]
    }
   ],
   "source": [
    "marks={'Physics':82,'Maths':87}\n",
    "print(marks.get('Physics'))"
   ]
  },
  {
   "cell_type": "code",
   "execution_count": 170,
   "id": "acfe1838",
   "metadata": {},
   "outputs": [
    {
     "name": "stdout",
     "output_type": "stream",
     "text": [
      "dict_items([('apple', 2), ('orange', 3), ('grapes', 4)])\n"
     ]
    }
   ],
   "source": [
    "sales={'apple':2,'orange':3,'grapes':4}\n",
    "print(sales.items())"
   ]
  },
  {
   "cell_type": "code",
   "execution_count": 171,
   "id": "4a09d751",
   "metadata": {},
   "outputs": [
    {
     "name": "stdout",
     "output_type": "stream",
     "text": [
      "Original items: dict_items([('apple', 2), ('orange', 3), ('grapes', 4)])\n",
      "Updated items: dict_items([('orange', 3), ('grapes', 4)])\n"
     ]
    }
   ],
   "source": [
    "sales={'apple':2,'orange':3,'grapes':4}\n",
    "items=sales.items()\n",
    "print('Original items:',items)\n",
    "del[sales['apple']]\n",
    "print('Updated items:',items)"
   ]
  },
  {
   "cell_type": "code",
   "execution_count": 172,
   "id": "f547d2fd",
   "metadata": {},
   "outputs": [
    {
     "name": "stdout",
     "output_type": "stream",
     "text": [
      "dict_keys(['name', 'age', 'salary'])\n",
      "<built-in method keys of dict object at 0x000001713BA9B600>\n"
     ]
    }
   ],
   "source": [
    "person={'name':'Phill','age':22,'salary':3500.00}\n",
    "print(person.keys())\n",
    "empty_dict={}\n",
    "print(empty_dict.keys)"
   ]
  },
  {
   "cell_type": "code",
   "execution_count": 176,
   "id": "ccc080aa",
   "metadata": {},
   "outputs": [
    {
     "name": "stdout",
     "output_type": "stream",
     "text": [
      "Before the dictionary is updated\n",
      "dict_keys(['name', 'age'])\n",
      "\n",
      " After the dictionary is updated\n",
      "dict_keys(['name', 'age', 'salary'])\n"
     ]
    }
   ],
   "source": [
    "person={'name':'Phill','age':22}\n",
    "print('Before the dictionary is updated')\n",
    "keys=person.keys()\n",
    "print(keys)\n",
    "person.update({'salary':3500.0})\n",
    "print(\"\\n After the dictionary is updated\")\n",
    "print(keys)"
   ]
  },
  {
   "cell_type": "code",
   "execution_count": 179,
   "id": "45d72aeb",
   "metadata": {},
   "outputs": [
    {
     "name": "stdout",
     "output_type": "stream",
     "text": [
      "Original items: dict_values([2, 3, 4])\n",
      "Updated items: dict_values([3, 4])\n"
     ]
    }
   ],
   "source": [
    "sales={'apple':2,'orange':3,'grapes':4}\n",
    "values=sales.values()\n",
    "print('Original items:',values)\n",
    "del[sales['apple']]\n",
    "print('Updated items:',values)"
   ]
  },
  {
   "cell_type": "code",
   "execution_count": 31,
   "id": "10f19a5d",
   "metadata": {},
   "outputs": [
    {
     "name": "stdout",
     "output_type": "stream",
     "text": [
      "True\n"
     ]
    }
   ],
   "source": [
    "l=[1,3,4,5]\n",
    "print(all(l))"
   ]
  },
  {
   "cell_type": "code",
   "execution_count": 181,
   "id": "c879b38d",
   "metadata": {},
   "outputs": [
    {
     "name": "stdout",
     "output_type": "stream",
     "text": [
      "False\n"
     ]
    }
   ],
   "source": [
    "l=[0,False]\n",
    "print(all(l))"
   ]
  },
  {
   "cell_type": "code",
   "execution_count": 182,
   "id": "9aac8c53",
   "metadata": {},
   "outputs": [
    {
     "name": "stdout",
     "output_type": "stream",
     "text": [
      "False\n"
     ]
    }
   ],
   "source": [
    "l=[1,3,4,0]\n",
    "print(all(l))"
   ]
  },
  {
   "cell_type": "code",
   "execution_count": 183,
   "id": "756bb92d",
   "metadata": {},
   "outputs": [
    {
     "name": "stdout",
     "output_type": "stream",
     "text": [
      "False\n"
     ]
    }
   ],
   "source": [
    "l=[0,False,5]\n",
    "print(all(l))"
   ]
  },
  {
   "cell_type": "code",
   "execution_count": 184,
   "id": "c90d8030",
   "metadata": {},
   "outputs": [
    {
     "name": "stdout",
     "output_type": "stream",
     "text": [
      "True\n"
     ]
    }
   ],
   "source": [
    "l=[]\n",
    "print(all(l))"
   ]
  },
  {
   "cell_type": "code",
   "execution_count": 186,
   "id": "7f93a94d",
   "metadata": {},
   "outputs": [
    {
     "name": "stdout",
     "output_type": "stream",
     "text": [
      "True\n",
      "True\n",
      "True\n"
     ]
    }
   ],
   "source": [
    "s=\"This is good\"\n",
    "print(all(s))\n",
    "s='ooo'\n",
    "print(all(s))\n",
    "s=\"\"\n",
    "print(all(s))"
   ]
  },
  {
   "cell_type": "code",
   "execution_count": 187,
   "id": "b7b86326",
   "metadata": {},
   "outputs": [
    {
     "name": "stdout",
     "output_type": "stream",
     "text": [
      "False\n",
      "True\n",
      "False\n",
      "True\n",
      "False\n"
     ]
    }
   ],
   "source": [
    "s={0:'False',1:'False'}\n",
    "print(all(s))\n",
    "s={1:'True',1:'True'}\n",
    "print(all(s))\n",
    "s={1:'True',False:0}\n",
    "print(all(s))\n",
    "s={}\n",
    "print(all(s))\n",
    "s={0:'True'}\n",
    "print(all(s))"
   ]
  },
  {
   "cell_type": "code",
   "execution_count": 188,
   "id": "2a98e04c",
   "metadata": {},
   "outputs": [
    {
     "name": "stdout",
     "output_type": "stream",
     "text": [
      "True\n",
      "False\n",
      "True\n",
      "False\n"
     ]
    }
   ],
   "source": [
    "l=[1,3,4,0]\n",
    "print(any(l))\n",
    "l=[0,False]\n",
    "print(any(l))\n",
    "l=[0,False,5]\n",
    "print(any(l))\n",
    "l=[]\n",
    "print(any(l))"
   ]
  },
  {
   "cell_type": "code",
   "execution_count": 190,
   "id": "c4f56d38",
   "metadata": {},
   "outputs": [
    {
     "name": "stdout",
     "output_type": "stream",
     "text": [
      "True\n",
      "True\n",
      "False\n"
     ]
    }
   ],
   "source": [
    "s=\"This is good\"\n",
    "print(any(s))\n",
    "s='000'\n",
    "print(any(s))\n",
    "s=\"\"\n",
    "print(any(s))"
   ]
  },
  {
   "cell_type": "code",
   "execution_count": 32,
   "id": "9c89263d",
   "metadata": {},
   "outputs": [
    {
     "name": "stdout",
     "output_type": "stream",
     "text": [
      "False\n",
      "True\n",
      "False\n",
      "False\n",
      "True\n"
     ]
    }
   ],
   "source": [
    "d={0:'False'}\n",
    "print(any(d))\n",
    "d={0:'False',1:'True'}\n",
    "print(any(d))\n",
    "d={0:'False',False:0}\n",
    "print(any(d))\n",
    "d={}\n",
    "print(any(d))\n",
    "d={'0':'False'}\n",
    "print(any(d))\n"
   ]
  },
  {
   "cell_type": "code",
   "execution_count": 6,
   "id": "9585dea3",
   "metadata": {},
   "outputs": [
    {
     "name": "stdout",
     "output_type": "stream",
     "text": [
      "number-11\n",
      "the value of -11 is 11\n"
     ]
    }
   ],
   "source": [
    "n=int(input(\"number\"))\n",
    "if n<0:\n",
    "    print(\"the value of\",n,\"is\",-n)\n",
    "else:\n",
    "    print(\"the value of\",n,\"is\",n)"
   ]
  },
  {
   "cell_type": "code",
   "execution_count": 17,
   "id": "d39ea004",
   "metadata": {
    "scrolled": true
   },
   "outputs": [
    {
     "name": "stdout",
     "output_type": "stream",
     "text": [
      "-4\n",
      "-5\n",
      "-6\n",
      "-7\n"
     ]
    }
   ],
   "source": [
    "num=[1,2,3,-4,-5,-6,-7,8,9]\n",
    "for i in num:\n",
    "    if(i>0):\n",
    "        pass\n",
    "    else:\n",
    "        print(i)"
   ]
  },
  {
   "cell_type": "code",
   "execution_count": 35,
   "id": "0154c0eb",
   "metadata": {},
   "outputs": [
    {
     "name": "stdout",
     "output_type": "stream",
     "text": [
      "0\n",
      "1\n",
      "2\n",
      "3\n",
      "4\n",
      "Enter the number to add the sum : \n",
      "Enter to quit: \n",
      "sum is: 0\n",
      "number: 1\n",
      "sum is: 1.0\n",
      "number: 2\n",
      "sum is: 3.0\n",
      "number: 3\n",
      "sum is: 6.0\n",
      "number: 4\n",
      "sum is: 10.0\n",
      "number: 5\n",
      "sum is: 15.0\n",
      "number: 6\n",
      "sum is: 21.0\n",
      "number: 7\n",
      "sum is: 28.0\n",
      "number: \n"
     ]
    },
    {
     "ename": "ValueError",
     "evalue": "could not convert string to float: ''",
     "output_type": "error",
     "traceback": [
      "\u001b[1;31m---------------------------------------------------------------------------\u001b[0m",
      "\u001b[1;31mValueError\u001b[0m                                Traceback (most recent call last)",
      "\u001b[1;32m~\\AppData\\Local\\Temp/ipykernel_11196/729599906.py\u001b[0m in \u001b[0;36m<module>\u001b[1;34m\u001b[0m\n\u001b[0;32m      9\u001b[0m \u001b[1;32mwhile\u001b[0m \u001b[0ma\u001b[0m\u001b[1;33m!=\u001b[0m\u001b[1;36m0\u001b[0m\u001b[1;33m:\u001b[0m\u001b[1;33m\u001b[0m\u001b[1;33m\u001b[0m\u001b[0m\n\u001b[0;32m     10\u001b[0m     \u001b[0mprint\u001b[0m\u001b[1;33m(\u001b[0m\u001b[1;34m\"sum is:\"\u001b[0m\u001b[1;33m,\u001b[0m\u001b[0mSum\u001b[0m\u001b[1;33m)\u001b[0m\u001b[1;33m\u001b[0m\u001b[1;33m\u001b[0m\u001b[0m\n\u001b[1;32m---> 11\u001b[1;33m     \u001b[0ma\u001b[0m\u001b[1;33m=\u001b[0m\u001b[0mfloat\u001b[0m\u001b[1;33m(\u001b[0m\u001b[0minput\u001b[0m\u001b[1;33m(\u001b[0m\u001b[1;34m\"number: \"\u001b[0m\u001b[1;33m)\u001b[0m\u001b[1;33m)\u001b[0m\u001b[1;33m\u001b[0m\u001b[1;33m\u001b[0m\u001b[0m\n\u001b[0m\u001b[0;32m     12\u001b[0m     \u001b[0ma\u001b[0m\u001b[1;33m=\u001b[0m\u001b[0mfloat\u001b[0m\u001b[1;33m(\u001b[0m\u001b[0ma\u001b[0m\u001b[1;33m)\u001b[0m\u001b[1;33m\u001b[0m\u001b[1;33m\u001b[0m\u001b[0m\n\u001b[0;32m     13\u001b[0m     \u001b[0mSum\u001b[0m\u001b[1;33m+=\u001b[0m\u001b[0ma\u001b[0m\u001b[1;33m\u001b[0m\u001b[1;33m\u001b[0m\u001b[0m\n",
      "\u001b[1;31mValueError\u001b[0m: could not convert string to float: ''"
     ]
    }
   ],
   "source": [
    "a=0\n",
    "while a<5:\n",
    "    print(a)\n",
    "    a+=1\n",
    "a=1\n",
    "Sum=0\n",
    "print(\"Enter the number to add the sum : \")\n",
    "print(\"Enter to quit: \")\n",
    "while a!=0:\n",
    "    print(\"sum is:\",Sum)\n",
    "    a=float(input(\"number: \"))\n",
    "    a=float(a)\n",
    "    Sum+=a\n",
    "print(\"Total sum=\",sum)\n",
    "b=[3,4,5,6,7,8,9,1,2]\n",
    "for num in b:\n",
    "    print(sum)"
   ]
  },
  {
   "cell_type": "markdown",
   "id": "058aba63",
   "metadata": {},
   "source": [
    "for val in \"string\":\n",
    "    if val==\"i\":\n",
    "        break\n",
    "print(val)\n",
    "print(\"the end\")"
   ]
  },
  {
   "cell_type": "code",
   "execution_count": 39,
   "id": "6d21ea6c",
   "metadata": {},
   "outputs": [
    {
     "name": "stdout",
     "output_type": "stream",
     "text": [
      "s\n",
      "t\n",
      "r\n",
      "the end\n"
     ]
    }
   ],
   "source": [
    "for val in \"string\":\n",
    "    if val ==\"i\":\n",
    "        break\n",
    "    print(val)\n",
    "print(\"the end\")"
   ]
  },
  {
   "cell_type": "code",
   "execution_count": 40,
   "id": "6de6d59b",
   "metadata": {},
   "outputs": [
    {
     "name": "stdout",
     "output_type": "stream",
     "text": [
      "s\n",
      "t\n",
      "r\n",
      "n\n",
      "g\n",
      "the end\n"
     ]
    }
   ],
   "source": [
    "for val in \"string\":\n",
    "    if val ==\"i\":\n",
    "        continue\n",
    "    print(val)\n",
    "print(\"the end\")"
   ]
  },
  {
   "cell_type": "code",
   "execution_count": 24,
   "id": "93d9b628",
   "metadata": {},
   "outputs": [
    {
     "name": "stdout",
     "output_type": "stream",
     "text": [
      "Welcome to my Home\n"
     ]
    }
   ],
   "source": [
    "def fun():\n",
    "    print(\"Welcome to my Home\")\n",
    "fun()"
   ]
  },
  {
   "cell_type": "code",
   "execution_count": 27,
   "id": "0ada9ad2",
   "metadata": {},
   "outputs": [
    {
     "name": "stdout",
     "output_type": "stream",
     "text": [
      "odd\n",
      "even\n"
     ]
    }
   ],
   "source": [
    "def evenodd(x):\n",
    "    if(x%2 == 0):\n",
    "        print(\"even\")\n",
    "    else:\n",
    "        print(\"odd\")\n",
    "evenodd(3)\n",
    "evenodd(6)"
   ]
  },
  {
   "cell_type": "code",
   "execution_count": 29,
   "id": "fc49a6c9",
   "metadata": {},
   "outputs": [
    {
     "name": "stdout",
     "output_type": "stream",
     "text": [
      "x:  10\n",
      "y:  50\n"
     ]
    }
   ],
   "source": [
    "def myFun(x,y=50):\n",
    "    print(\"x: \",x)\n",
    "    print(\"y: \",y)\n",
    "myFun(10)"
   ]
  },
  {
   "cell_type": "code",
   "execution_count": 30,
   "id": "44f90898",
   "metadata": {},
   "outputs": [
    {
     "name": "stdout",
     "output_type": "stream",
     "text": [
      "Peter Paxton\n",
      "Visvakumar Devi\n"
     ]
    }
   ],
   "source": [
    "def student(firstname,lastname):\n",
    "    print(firstname,lastname)\n",
    "student(firstname='Peter',lastname='Paxton')\n",
    "student(lastname='Devi',firstname='Visvakumar')"
   ]
  },
  {
   "cell_type": "code",
   "execution_count": 42,
   "id": "e111d701",
   "metadata": {},
   "outputs": [
    {
     "name": "stdout",
     "output_type": "stream",
     "text": [
      "Hello\n",
      "Welcome\n",
      "Home\n"
     ]
    }
   ],
   "source": [
    "def myFun(*args):\n",
    "    for arg in args:\n",
    "        print(arg)\n",
    "myFun('Hello','Welcome','Home')"
   ]
  },
  {
   "cell_type": "code",
   "execution_count": 35,
   "id": "d0d28b31",
   "metadata": {},
   "outputs": [
    {
     "name": "stdout",
     "output_type": "stream",
     "text": [
      "first==Hello\n",
      "mid==Salut\n",
      "last==Hola\n"
     ]
    }
   ],
   "source": [
    "def myFun(**kwargs):\n",
    "    for key,value in kwargs.items():\n",
    "        print(\"%s==%s\" %(key,value))\n",
    "myFun(first='Hello',mid='Salut',last='Hola')"
   ]
  },
  {
   "cell_type": "code",
   "execution_count": 36,
   "id": "18fa8446",
   "metadata": {},
   "outputs": [
    {
     "name": "stdout",
     "output_type": "stream",
     "text": [
      "Inside Function: MerciBeaucoup\n",
      "Outside Function: Bonjour\n"
     ]
    }
   ],
   "source": [
    "string=\"Bonjour\"\n",
    "def test(string):\n",
    "    string=\"MerciBeaucoup\"\n",
    "    print(\"Inside Function:\",string)\n",
    "test(string)\n",
    "print(\"Outside Function:\",string)"
   ]
  },
  {
   "cell_type": "code",
   "execution_count": 38,
   "id": "a1d94e1a",
   "metadata": {},
   "outputs": [
    {
     "name": "stdout",
     "output_type": "stream",
     "text": [
      "Inside function [10, 20, 30, 40, 50]\n",
      "Outside Function: [10, 20, 30, 40, 50]\n"
     ]
    }
   ],
   "source": [
    "def add_more(list):\n",
    "    list.append(50)\n",
    "    print(\"Inside function\",list)\n",
    "mylist=[10,20,30,40]\n",
    "add_more(mylist)\n",
    "print(\"Outside Function:\",mylist)"
   ]
  },
  {
   "cell_type": "code",
   "execution_count": 46,
   "id": "8938db4a",
   "metadata": {},
   "outputs": [
    {
     "name": "stdout",
     "output_type": "stream",
     "text": [
      "125\n"
     ]
    }
   ],
   "source": [
    "def cube(y):\n",
    "    return y*y*y\n",
    "# lambda_cube=lambda y:y*y*y\n",
    "print(cube(5))\n",
    "# print(lambda_cube(5))"
   ]
  },
  {
   "cell_type": "code",
   "execution_count": 45,
   "id": "ab9f8bc1",
   "metadata": {},
   "outputs": [
    {
     "name": "stdout",
     "output_type": "stream",
     "text": [
      "125\n"
     ]
    }
   ],
   "source": [
    "lambda_cube=lambda y:y*y*y\n",
    "print(lambda_cube(5))"
   ]
  },
  {
   "cell_type": "code",
   "execution_count": 44,
   "id": "ec1e2d5f",
   "metadata": {},
   "outputs": [
    {
     "name": "stdout",
     "output_type": "stream",
     "text": [
      "10\n",
      "20\n",
      "30\n",
      "40\n",
      "50\n",
      "60\n",
      "70\n",
      "80\n",
      "90\n",
      "100\n"
     ]
    }
   ],
   "source": [
    "tables = [lambda x=x: x*10 for x in range(1,11)]\n",
    "for table in tables:\n",
    "    print(table())\n"
   ]
  },
  {
   "cell_type": "code",
   "execution_count": 43,
   "id": "c3e3739d",
   "metadata": {},
   "outputs": [
    {
     "name": "stdout",
     "output_type": "stream",
     "text": [
      "1\n"
     ]
    }
   ],
   "source": [
    "Max=lambda a,b: a if(a<b) else b\n",
    "print(Max(1,2))"
   ]
  },
  {
   "cell_type": "code",
   "execution_count": 44,
   "id": "c1c41296",
   "metadata": {},
   "outputs": [
    {
     "name": "stdout",
     "output_type": "stream",
     "text": [
      "[5, 7, 97, 77, 23, 73, 61]\n"
     ]
    }
   ],
   "source": [
    "li=[5,7,22,97,54,62,77,23,73,61]\n",
    "final_list=list(filter(lambda x: (x%2!=0),li))\n",
    "print(final_list)"
   ]
  },
  {
   "cell_type": "code",
   "execution_count": 47,
   "id": "7192cfd7",
   "metadata": {},
   "outputs": [
    {
     "name": "stdout",
     "output_type": "stream",
     "text": [
      "[90, 59, 21, 60]\n"
     ]
    }
   ],
   "source": [
    "ages=[13,90,17,59,21,60,5]\n",
    "adults=list(filter(lambda age:age>18,ages))\n",
    "print(adults)"
   ]
  },
  {
   "cell_type": "code",
   "execution_count": 50,
   "id": "21c30dcb",
   "metadata": {},
   "outputs": [
    {
     "name": "stdout",
     "output_type": "stream",
     "text": [
      "[3, 4, 6]\n"
     ]
    }
   ],
   "source": [
    "data=[[2,3,4],[1,4,16,64],[3,6,9,12]]\n",
    "sort_elements=lambda x:(sorted(y) for y in x)\n",
    "get_second_elements=lambda x,f:[y[1] for y in f(x)]\n",
    "second_elements=get_second_elements(data,sort_elements)\n",
    "print(second_elements)"
   ]
  },
  {
   "cell_type": "code",
   "execution_count": null,
   "id": "2e83b631",
   "metadata": {},
   "outputs": [],
   "source": []
  },
  {
   "cell_type": "code",
   "execution_count": null,
   "id": "222c8093",
   "metadata": {},
   "outputs": [],
   "source": []
  },
  {
   "cell_type": "code",
   "execution_count": null,
   "id": "1df5d71e",
   "metadata": {},
   "outputs": [],
   "source": []
  },
  {
   "cell_type": "code",
   "execution_count": 3,
   "id": "e2c26fdf",
   "metadata": {},
   "outputs": [
    {
     "name": "stdout",
     "output_type": "stream",
     "text": [
      "Old String: python is AWsome\n",
      "Capitalized String: Python is awsome\n"
     ]
    }
   ],
   "source": [
    "string = \"python is AWsome\"\n",
    "capitalized_string=string.capitalize()\n",
    "print('Old String:',string)\n",
    "print('Capitalized String:',capitalized_string)"
   ]
  },
  {
   "cell_type": "code",
   "execution_count": 5,
   "id": "d8fe78e9",
   "metadata": {},
   "outputs": [
    {
     "name": "stdout",
     "output_type": "stream",
     "text": [
      "Old String: + is an operator\n",
      "New String: + is an operator\n"
     ]
    }
   ],
   "source": [
    "string=\"+ is an operator\"\n",
    "new_string=string.capitalize()\n",
    "print('Old String:',string)\n",
    "print('New String:',string)"
   ]
  },
  {
   "cell_type": "code",
   "execution_count": 4,
   "id": "27507515",
   "metadata": {},
   "outputs": [
    {
     "name": "stdout",
     "output_type": "stream",
     "text": [
      "Centered String: *********python is awsome*********\n"
     ]
    }
   ],
   "source": [
    "string = \"python is awsome\"\n",
    "new_string=string.center(34,'*')\n",
    "print(\"Centered String:\",new_string)"
   ]
  },
  {
   "cell_type": "code",
   "execution_count": 8,
   "id": "63ef26a1",
   "metadata": {},
   "outputs": [
    {
     "name": "stdout",
     "output_type": "stream",
     "text": [
      "Lowercase String: python is awesome\n"
     ]
    }
   ],
   "source": [
    "string=\"PYTHON IS AWESOME\"\n",
    "print(\"Lowercase String: \",string.casefold())"
   ]
  },
  {
   "cell_type": "code",
   "execution_count": 10,
   "id": "7abe3e63",
   "metadata": {},
   "outputs": [
    {
     "name": "stdout",
     "output_type": "stream",
     "text": [
      "The count is: 1\n"
     ]
    }
   ],
   "source": [
    "string=\"Python is awesome,isn't it\"\n",
    "substring=\"is\"\n",
    "count=string.count(substring,8,25)\n",
    "print(\"The count is:\",count)"
   ]
  },
  {
   "cell_type": "code",
   "execution_count": 11,
   "id": "7d07bc39",
   "metadata": {},
   "outputs": [
    {
     "name": "stdout",
     "output_type": "stream",
     "text": [
      "The count is: 2\n"
     ]
    }
   ],
   "source": [
    "string=\"Python is awesome,isn't it\"\n",
    "substring=\"i\"\n",
    "count=string.count(substring,8,25)\n",
    "print(\"The count is:\",count)"
   ]
  },
  {
   "cell_type": "code",
   "execution_count": 16,
   "id": "61bd6467",
   "metadata": {},
   "outputs": [
    {
     "name": "stdout",
     "output_type": "stream",
     "text": [
      "True\n",
      "False\n",
      "False\n"
     ]
    }
   ],
   "source": [
    "text=\"python program is easy to learn.\"\n",
    "result=text.endswith('learn.',7)\n",
    "print(result)\n",
    "result=text.endswith('is',7,26)\n",
    "print(result)\n",
    "result=text.endswith('easy',7,26)\n",
    "print(result)"
   ]
  },
  {
   "cell_type": "code",
   "execution_count": 21,
   "id": "9def2374",
   "metadata": {},
   "outputs": [
    {
     "name": "stdout",
     "output_type": "stream",
     "text": [
      "True\n",
      "False\n",
      "False\n"
     ]
    }
   ],
   "source": [
    "s=\"28212\"\n",
    "print(s.isdigit())\n",
    "s=\"Mo3nica Gell2 2er\"\n",
    "print(s.isdigit())\n",
    "s=\"Mo3nicaGell22er\"\n",
    "print(s.isdigit())"
   ]
  },
  {
   "cell_type": "code",
   "execution_count": 24,
   "id": "51200a4e",
   "metadata": {},
   "outputs": [
    {
     "name": "stdout",
     "output_type": "stream",
     "text": [
      "Substring 'is fun': 19\n"
     ]
    },
    {
     "ename": "ValueError",
     "evalue": "substring not found",
     "output_type": "error",
     "traceback": [
      "\u001b[1;31m---------------------------------------------------------------------------\u001b[0m",
      "\u001b[1;31mValueError\u001b[0m                                Traceback (most recent call last)",
      "\u001b[1;32m<ipython-input-24-189718ab5eb3>\u001b[0m in \u001b[0;36m<module>\u001b[1;34m\u001b[0m\n\u001b[0;32m      2\u001b[0m \u001b[0mresult\u001b[0m\u001b[1;33m=\u001b[0m\u001b[0msentence\u001b[0m\u001b[1;33m.\u001b[0m\u001b[0mindex\u001b[0m\u001b[1;33m(\u001b[0m\u001b[1;34m'is fun'\u001b[0m\u001b[1;33m)\u001b[0m\u001b[1;33m\u001b[0m\u001b[1;33m\u001b[0m\u001b[0m\n\u001b[0;32m      3\u001b[0m \u001b[0mprint\u001b[0m\u001b[1;33m(\u001b[0m\u001b[1;34m\"Substring 'is fun':\"\u001b[0m\u001b[1;33m,\u001b[0m\u001b[0mresult\u001b[0m\u001b[1;33m)\u001b[0m\u001b[1;33m\u001b[0m\u001b[1;33m\u001b[0m\u001b[0m\n\u001b[1;32m----> 4\u001b[1;33m \u001b[0mresult\u001b[0m\u001b[1;33m=\u001b[0m\u001b[0msentence\u001b[0m\u001b[1;33m.\u001b[0m\u001b[0mindex\u001b[0m\u001b[1;33m(\u001b[0m\u001b[1;34m'Java'\u001b[0m\u001b[1;33m)\u001b[0m\u001b[1;33m\u001b[0m\u001b[1;33m\u001b[0m\u001b[0m\n\u001b[0m\u001b[0;32m      5\u001b[0m \u001b[0mprint\u001b[0m\u001b[1;33m(\u001b[0m\u001b[1;34m\"Substring 'Java':\"\u001b[0m\u001b[1;33m,\u001b[0m\u001b[0mresult\u001b[0m\u001b[1;33m)\u001b[0m\u001b[1;33m\u001b[0m\u001b[1;33m\u001b[0m\u001b[0m\n",
      "\u001b[1;31mValueError\u001b[0m: substring not found"
     ]
    }
   ],
   "source": [
    "sentence='Python programming is fun.'\n",
    "result=sentence.index('is fun')\n",
    "print(\"Substring 'is fun':\",result)\n",
    "result=sentence.index('Java')\n",
    "print(\"Substring 'Java':\",result)"
   ]
  },
  {
   "cell_type": "code",
   "execution_count": 28,
   "id": "8563b094",
   "metadata": {},
   "outputs": [
    {
     "name": "stdout",
     "output_type": "stream",
     "text": [
      "Substring 'let it': 0\n",
      "Substring 'small': -1\n",
      "Contains Substring 'be',\n"
     ]
    }
   ],
   "source": [
    "quote='let it be,let it be,let it be'\n",
    "result=quote.find('let it')\n",
    "print(\"Substring 'let it':\",result)\n",
    "result=quote.find('small')\n",
    "print(\"Substring 'small':\",result)\n",
    "if(quote.find('be,')!=-1):\n",
    "    print(\"Contains Substring 'be',\")\n",
    "else:\n",
    "    print(\"Doesn't contain Substring \")\n"
   ]
  },
  {
   "cell_type": "code",
   "execution_count": 31,
   "id": "bbbc1c91",
   "metadata": {},
   "outputs": [
    {
     "name": "stdout",
     "output_type": "stream",
     "text": [
      "True\n",
      "False\n",
      "True\n",
      "True\n"
     ]
    }
   ],
   "source": [
    "name=\"M23onica\"\n",
    "print(name.isalnum())\n",
    "name=\"M23onica Gelzzar\"\n",
    "print(name.isalnum())\n",
    "name=\"M23onicaGelzzar\"\n",
    "print(name.isalnum())\n",
    "name=\"133\"\n",
    "print(name.isalnum())"
   ]
  },
  {
   "cell_type": "code",
   "execution_count": 33,
   "id": "6d7cee83",
   "metadata": {},
   "outputs": [
    {
     "name": "stdout",
     "output_type": "stream",
     "text": [
      "True\n",
      "False\n",
      "False\n"
     ]
    }
   ],
   "source": [
    "name=\"Monica\"\n",
    "print(name.isalpha())\n",
    "name=\"Monica Gelzzar\"\n",
    "print(name.isalpha())\n",
    "name=\"M23onicaGelzzar\"\n",
    "print(name.isalpha())\n"
   ]
  },
  {
   "cell_type": "code",
   "execution_count": 35,
   "id": "5967bb3e",
   "metadata": {},
   "outputs": [
    {
     "name": "stdout",
     "output_type": "stream",
     "text": [
      "The string is: Python!!!\n",
      "The encoded version is: b'Python!!!'\n"
     ]
    }
   ],
   "source": [
    "string=\"Python!!!\"\n",
    "print(\"The string is:\",string)\n",
    "string_utf=string.encode()\n",
    "print('The encoded version is:',string_utf)"
   ]
  },
  {
   "cell_type": "code",
   "execution_count": 37,
   "id": "2a20175c",
   "metadata": {},
   "outputs": [
    {
     "name": "stdout",
     "output_type": "stream",
     "text": [
      "Hello Adam,your balance is 230.2346.\n",
      "Hello Adam,your balance is 230.2346.\n",
      "Hello Adam,your balance is 230.2346.\n",
      "Hello Adam,your balance is 230.2346.\n"
     ]
    }
   ],
   "source": [
    "print(\"Hello {},your balance is {}.\".format(\"Adam\",230.2346))\n",
    "print(\"Hello {0},your balance is {1}.\".format(\"Adam\",230.2346))\n",
    "print(\"Hello {name},your balance is {blc}.\".format(name=\"Adam\",blc=230.2346))\n",
    "print(\"Hello {0},your balance is {blc}.\".format(\"Adam\",blc=230.2346))"
   ]
  },
  {
   "cell_type": "code",
   "execution_count": 39,
   "id": "e80f4b76",
   "metadata": {},
   "outputs": [
    {
     "name": "stdout",
     "output_type": "stream",
     "text": [
      "The number is 123\n",
      "The float number is:123.456790\n",
      "bin:1100,oct:12,hex:c\n"
     ]
    }
   ],
   "source": [
    "print(\"The number is {:d}\".format(123))\n",
    "print(\"The float number is:{:f}\".format(123.4567898))\n",
    "print(\"bin:{0:b},oct:{0:0},hex:{0:x}\".format(12))"
   ]
  },
  {
   "cell_type": "code",
   "execution_count": 53,
   "id": "15a90688",
   "metadata": {},
   "outputs": [
    {
     "name": "stdout",
     "output_type": "stream",
     "text": [
      "Enter the number: 64\n",
      "bin:1000000\n"
     ]
    }
   ],
   "source": [
    "n = int(input(\"Enter the number: \"))\n",
    "print(\"bin:{0:b}\".format(n))"
   ]
  },
  {
   "cell_type": "code",
   "execution_count": null,
   "id": "1ed2b174",
   "metadata": {},
   "outputs": [],
   "source": []
  },
  {
   "cell_type": "code",
   "execution_count": 41,
   "id": "70c61a71",
   "metadata": {},
   "outputs": [
    {
     "name": "stdout",
     "output_type": "stream",
     "text": [
      "   12\n",
      "1234\n",
      "  12.235\n",
      "00012\n",
      "0012.235\n"
     ]
    }
   ],
   "source": [
    "print(\"{:5d}\".format(12))\n",
    "print(\"{:2d}\".format(1234))\n",
    "print(\"{:8.3f}\".format(12.2346))\n",
    "print(\"{:05d}\".format(12))\n",
    "print(\"{:08.3f}\".format(12.2346))\n"
   ]
  },
  {
   "cell_type": "code",
   "execution_count": 43,
   "id": "aebcd22a",
   "metadata": {},
   "outputs": [
    {
     "name": "stdout",
     "output_type": "stream",
     "text": [
      "root123 is valid identifier\n",
      "33root is not a valid identifier.\n",
      "root 33 is not a valid identifier.\n"
     ]
    }
   ],
   "source": [
    "str='root123'\n",
    "if str.isidentifier()==True:\n",
    "    print(str,'is valid identifier')\n",
    "else:\n",
    "    print(str,'is not a valid identifier')\n",
    "str='33root'\n",
    "if str.isidentifier()==True:\n",
    "    print(str,'is valid identifier.')\n",
    "else:\n",
    "    print(str,'is not a valid identifier.')\n",
    "str='root 33'\n",
    "if str.isidentifier()==True:\n",
    "    print(str,'is valid identifier.')\n",
    "else:\n",
    "    print(str,'is not a valid identifier.')"
   ]
  },
  {
   "cell_type": "code",
   "execution_count": 44,
   "id": "a9e2c5b4",
   "metadata": {},
   "outputs": [
    {
     "name": "stdout",
     "output_type": "stream",
     "text": [
      "1,2,3,4\n",
      "1,2,3,4\n",
      "s1.join(s2): 1abc2abc3\n",
      "s2.join(s1): aabcbabcc\n"
     ]
    }
   ],
   "source": [
    "numList = ['1','2','3','4']\n",
    "separator=','\n",
    "print(separator.join(numList))\n",
    "numTuple = ('1','2','3','4')\n",
    "print(separator.join(numTuple))\n",
    "s1='abc'\n",
    "s2='123'\n",
    "print('s1.join(s2):',s1.join(s2))\n",
    "print('s2.join(s1):',s1.join(s1))"
   ]
  },
  {
   "cell_type": "code",
   "execution_count": 45,
   "id": "2bd33378",
   "metadata": {},
   "outputs": [
    {
     "name": "stdout",
     "output_type": "stream",
     "text": [
      "xoxo love xoxo\n",
      " love \n",
      "oxo love xoxo\n",
      "string is awasome\n"
     ]
    }
   ],
   "source": [
    "string='xoxo love xoxo'\n",
    "print(string.strip())\n",
    "print(string.strip('xoe'))\n",
    "print(string.strip('stx'))\n",
    "string='string is awasome'\n",
    "print(string.strip('an'))\n"
   ]
  },
  {
   "cell_type": "code",
   "execution_count": 48,
   "id": "de82cc56",
   "metadata": {},
   "outputs": [
    {
     "name": "stdout",
     "output_type": "stream",
     "text": [
      "this is good\n",
      "   this is good\n",
      "his is good\n",
      "www.programmers.com/\n"
     ]
    }
   ],
   "source": [
    "random_string='   this is good'\n",
    "print(random_string.lstrip())\n",
    "print(random_string.lstrip('sti'))\n",
    "print(random_string.lstrip('s sti'))\n",
    "website = 'https://www.programmers.com/'\n",
    "print(website.lstrip('https:/.'))"
   ]
  },
  {
   "cell_type": "code",
   "execution_count": 49,
   "id": "b8ac897e",
   "metadata": {},
   "outputs": [
    {
     "name": "stdout",
     "output_type": "stream",
     "text": [
      "this is good\n",
      "this is good\n",
      "this is g\n",
      "www.programmers.co\n"
     ]
    }
   ],
   "source": [
    "random_string='this is good    '\n",
    "print(random_string.rstrip())\n",
    "print(random_string.rstrip('si oo'))\n",
    "print(random_string.rstrip('sid oo'))\n",
    "website = 'www.programmers.com/'\n",
    "print(website.rstrip('m/.'))"
   ]
  },
  {
   "cell_type": "code",
   "execution_count": 54,
   "id": "ebe3279f",
   "metadata": {},
   "outputs": [
    {
     "name": "stdout",
     "output_type": "stream",
     "text": [
      "hurt,hurt heart\n",
      "Let it be,don't let it be,let it be,let it be\n",
      "Let it be,don't let it be,don't let it be,let it be\n",
      "Let it be,don't let it be,don't let it be,don't let it be\n",
      "Let it be,don't let it be,don't let it be,don't let it be\n",
      "Let it be,let it be,let it be,let it be\n",
      "Let it be,don't let it be,don't let it be,don't let it be\n"
     ]
    }
   ],
   "source": [
    "song='cold,cold heart'\n",
    "print(song.replace('cold','hurt'))\n",
    "song='Let it be,let it be,let it be,let it be'\n",
    "print(song.replace('let',\"don't let\",1))\n",
    "print(song.replace('let',\"don't let\",2))\n",
    "print(song.replace('let',\"don't let\",3))\n",
    "print(song.replace('let',\"don't let\",4))\n",
    "print(song.replace('let',\"don't let\",0))\n",
    "print(song.replace('let',\"don't let\",5))"
   ]
  },
  {
   "cell_type": "code",
   "execution_count": null,
   "id": "9577230f",
   "metadata": {},
   "outputs": [],
   "source": []
  },
  {
   "cell_type": "code",
   "execution_count": null,
   "id": "26f5cc80",
   "metadata": {},
   "outputs": [],
   "source": []
  },
  {
   "cell_type": "code",
   "execution_count": null,
   "id": "66794acc",
   "metadata": {},
   "outputs": [],
   "source": []
  },
  {
   "cell_type": "code",
   "execution_count": 5,
   "id": "fae7ad18",
   "metadata": {},
   "outputs": [
    {
     "name": "stdout",
     "output_type": "stream",
     "text": [
      "(1, 12, 3, 4, 5, 5, 7, 10)\n",
      "8\n",
      "(1, 12, 3, 4, 5, 5, 7, 10)\n"
     ]
    }
   ],
   "source": [
    "tuple=(1,12,3,4,5,5,7,10)\n",
    "print(tuple)\n",
    "print(len(tuple))\n",
    "sorted(tuple)\n",
    "print(tuple)"
   ]
  },
  {
   "cell_type": "code",
   "execution_count": null,
   "id": "8616e81c",
   "metadata": {},
   "outputs": [],
   "source": []
  },
  {
   "cell_type": "code",
   "execution_count": null,
   "id": "21f4ef86",
   "metadata": {},
   "outputs": [],
   "source": []
  },
  {
   "cell_type": "code",
   "execution_count": null,
   "id": "1ae71441",
   "metadata": {},
   "outputs": [],
   "source": []
  },
  {
   "cell_type": "code",
   "execution_count": null,
   "id": "3d90a5e0",
   "metadata": {},
   "outputs": [],
   "source": []
  },
  {
   "cell_type": "code",
   "execution_count": 4,
   "id": "93c25ef6",
   "metadata": {},
   "outputs": [
    {
     "ename": "AttributeError",
     "evalue": "'tuple' object has no attribute 'append'",
     "output_type": "error",
     "traceback": [
      "\u001b[1;31m---------------------------------------------------------------------------\u001b[0m",
      "\u001b[1;31mAttributeError\u001b[0m                            Traceback (most recent call last)",
      "\u001b[1;32m<ipython-input-4-1dac66c65b12>\u001b[0m in \u001b[0;36m<module>\u001b[1;34m\u001b[0m\n\u001b[0;32m      1\u001b[0m \u001b[0mlist\u001b[0m\u001b[1;33m=\u001b[0m\u001b[1;33m(\u001b[0m\u001b[1;36m1\u001b[0m\u001b[1;33m,\u001b[0m\u001b[1;36m4\u001b[0m\u001b[1;33m,\u001b[0m\u001b[1;36m3\u001b[0m\u001b[1;33m,\u001b[0m\u001b[1;36m10\u001b[0m\u001b[1;33m,\u001b[0m\u001b[1;36m7\u001b[0m\u001b[1;33m)\u001b[0m\u001b[1;33m\u001b[0m\u001b[1;33m\u001b[0m\u001b[0m\n\u001b[1;32m----> 2\u001b[1;33m \u001b[0mlist\u001b[0m\u001b[1;33m.\u001b[0m\u001b[0mappend\u001b[0m\u001b[1;33m(\u001b[0m\u001b[1;36m6\u001b[0m\u001b[1;33m)\u001b[0m\u001b[1;33m\u001b[0m\u001b[1;33m\u001b[0m\u001b[0m\n\u001b[0m\u001b[0;32m      3\u001b[0m \u001b[0mprint\u001b[0m\u001b[1;33m(\u001b[0m\u001b[0mlist\u001b[0m\u001b[1;33m)\u001b[0m\u001b[1;33m\u001b[0m\u001b[1;33m\u001b[0m\u001b[0m\n\u001b[0;32m      4\u001b[0m \u001b[0mlist\u001b[0m\u001b[1;33m.\u001b[0m\u001b[0minsert\u001b[0m\u001b[1;33m(\u001b[0m\u001b[1;36m2\u001b[0m\u001b[1;33m,\u001b[0m\u001b[1;36m8\u001b[0m\u001b[1;33m)\u001b[0m\u001b[1;33m\u001b[0m\u001b[1;33m\u001b[0m\u001b[0m\n\u001b[0;32m      5\u001b[0m \u001b[0mprint\u001b[0m\u001b[1;33m(\u001b[0m\u001b[0mlist\u001b[0m\u001b[1;33m)\u001b[0m\u001b[1;33m\u001b[0m\u001b[1;33m\u001b[0m\u001b[0m\n",
      "\u001b[1;31mAttributeError\u001b[0m: 'tuple' object has no attribute 'append'"
     ]
    }
   ],
   "source": [
    "list=(1,4,3,10,7)\n",
    "list.append(6)\n",
    "print(list)\n",
    "list.insert(2,8)\n",
    "print(list)"
   ]
  },
  {
   "cell_type": "code",
   "execution_count": null,
   "id": "cbcfe473",
   "metadata": {},
   "outputs": [],
   "source": []
  }
 ],
 "metadata": {
  "kernelspec": {
   "display_name": "Python 3 (ipykernel)",
   "language": "python",
   "name": "python3"
  },
  "language_info": {
   "codemirror_mode": {
    "name": "ipython",
    "version": 3
   },
   "file_extension": ".py",
   "mimetype": "text/x-python",
   "name": "python",
   "nbconvert_exporter": "python",
   "pygments_lexer": "ipython3",
   "version": "3.9.12"
  }
 },
 "nbformat": 4,
 "nbformat_minor": 5
}
