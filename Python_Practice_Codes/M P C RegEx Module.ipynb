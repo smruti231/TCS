{
 "cells": [
  {
   "cell_type": "markdown",
   "id": "15224d25",
   "metadata": {},
   "source": [
    "# RegEx Module"
   ]
  },
  {
   "cell_type": "code",
   "execution_count": 3,
   "id": "9b92dbc0",
   "metadata": {},
   "outputs": [
    {
     "name": "stdout",
     "output_type": "stream",
     "text": [
      "YES! We have a match\n"
     ]
    }
   ],
   "source": [
    "import re\n",
    "txt = \"The rain in Spain\"\n",
    "x = re.search(\"^The.*Spain$\", txt)\n",
    "if(x):\n",
    "    print(\"YES! We have a match\")\n",
    "else:\n",
    "    print(\"No match\")"
   ]
  },
  {
   "cell_type": "code",
   "execution_count": 5,
   "id": "c1feaeb8",
   "metadata": {},
   "outputs": [
    {
     "name": "stdout",
     "output_type": "stream",
     "text": [
      "['ai', 'ai']\n"
     ]
    }
   ],
   "source": [
    "# findall() return a list containing all matches\n",
    "import re\n",
    "str = \"The rain in Spain\"\n",
    "x = re.findall(\"ai\", str)\n",
    "print(x)"
   ]
  },
  {
   "cell_type": "code",
   "execution_count": 6,
   "id": "9d6720ec",
   "metadata": {},
   "outputs": [
    {
     "name": "stdout",
     "output_type": "stream",
     "text": [
      "[]\n"
     ]
    }
   ],
   "source": [
    "import re\n",
    "str = \"The rain in Spain\"\n",
    "x = re.findall(\"re\", str)\n",
    "print(x)"
   ]
  },
  {
   "cell_type": "code",
   "execution_count": 41,
   "id": "6e94d16a",
   "metadata": {},
   "outputs": [
    {
     "name": "stdout",
     "output_type": "stream",
     "text": [
      "The first white-space character is located in position:  3\n"
     ]
    }
   ],
   "source": [
    "# Search for white space character in the string  \n",
    "import re\n",
    "str = \"The rain in Spain\"\n",
    "x = re.search(\"\\s\", str)\n",
    "print(\"The first white-space character is located in position: \", x.start())"
   ]
  },
  {
   "cell_type": "code",
   "execution_count": 8,
   "id": "a5d7039c",
   "metadata": {},
   "outputs": [
    {
     "name": "stdout",
     "output_type": "stream",
     "text": [
      "['The', 'rain', 'in', 'Spain']\n"
     ]
    }
   ],
   "source": [
    "# Split at each white-space character\n",
    "import re\n",
    "str = \"The rain in Spain\"\n",
    "x = re.split(\"\\s\", str)\n",
    "print(x)"
   ]
  },
  {
   "cell_type": "code",
   "execution_count": 9,
   "id": "1dfa926b",
   "metadata": {},
   "outputs": [
    {
     "name": "stdout",
     "output_type": "stream",
     "text": [
      "['The', 'rain in Spain']\n"
     ]
    }
   ],
   "source": [
    "# split the string only at first occurrence\n",
    "import re\n",
    "str = \"The rain in Spain\"\n",
    "x = re.split(\"\\s\", str, 1)\n",
    "print(x)"
   ]
  },
  {
   "cell_type": "code",
   "execution_count": 10,
   "id": "d442df65",
   "metadata": {},
   "outputs": [
    {
     "name": "stdout",
     "output_type": "stream",
     "text": [
      "The9rain9in9Spain\n"
     ]
    }
   ],
   "source": [
    "# replace every white-space character with number 9\n",
    "import re\n",
    "str = \"The rain in Spain\"\n",
    "x = re.sub(\"\\s\", \"9\", str)\n",
    "print(x)"
   ]
  },
  {
   "cell_type": "code",
   "execution_count": 11,
   "id": "3b877cec",
   "metadata": {},
   "outputs": [
    {
     "name": "stdout",
     "output_type": "stream",
     "text": [
      "The9rain9in Spain\n"
     ]
    }
   ],
   "source": [
    "# replace the first 2 occurrences\n",
    "import re\n",
    "str = \"The rain in Spain\"\n",
    "x = re.sub(\"\\s\", \"9\", str, 2)\n",
    "print(x)"
   ]
  },
  {
   "cell_type": "code",
   "execution_count": 12,
   "id": "93af9015",
   "metadata": {},
   "outputs": [
    {
     "name": "stdout",
     "output_type": "stream",
     "text": [
      "<re.Match object; span=(5, 7), match='ai'>\n"
     ]
    }
   ],
   "source": [
    "# match object is an object containing information about the search \n",
    "and the result\n",
    "import re\n",
    "str = \"The rain in Spain\"\n",
    "x = re.search(\"ai\", str)\n",
    "print(x)"
   ]
  },
  {
   "cell_type": "code",
   "execution_count": 14,
   "id": "c4cc7566",
   "metadata": {},
   "outputs": [
    {
     "name": "stdout",
     "output_type": "stream",
     "text": [
      "(12, 17)\n"
     ]
    }
   ],
   "source": [
    "# print the position (start- and end - position) of the first match\n",
    "# occurances\n",
    "import re\n",
    "str = \"The rain in Spain\"\n",
    "x = re.search(r\"\\bS\\w+\", str)\n",
    "print(x.span())"
   ]
  },
  {
   "cell_type": "code",
   "execution_count": 16,
   "id": "1078c17d",
   "metadata": {},
   "outputs": [
    {
     "name": "stdout",
     "output_type": "stream",
     "text": [
      "The rain in Spain\n"
     ]
    }
   ],
   "source": [
    "# print the string passed into the function\n",
    "import re\n",
    "str = \"The rain in Spain\"\n",
    "x = re.search(r\"\\bS\\w+\", str)\n",
    "print(x.string)"
   ]
  },
  {
   "cell_type": "code",
   "execution_count": 17,
   "id": "ae36fdb1",
   "metadata": {},
   "outputs": [
    {
     "name": "stdout",
     "output_type": "stream",
     "text": [
      "Spain\n"
     ]
    }
   ],
   "source": [
    "# print the part of the string where there was a match\n",
    "import re\n",
    "str = \"The rain in Spain\"\n",
    "x = re.search(r\"\\bS\\w+\", str)\n",
    "print(x.group())"
   ]
  },
  {
   "cell_type": "code",
   "execution_count": 18,
   "id": "d01329c2",
   "metadata": {},
   "outputs": [
    {
     "name": "stdout",
     "output_type": "stream",
     "text": [
      "Search unsuccessful...\n"
     ]
    }
   ],
   "source": [
    "# pattern --> any five letter string starting with a and ending with s\n",
    "import re\n",
    "pattern = '^a.......s$'\n",
    "test_string = 'abyss'\n",
    "result = re.match(pattern, test_string)\n",
    "\n",
    "if result:\n",
    "    print(\"Search successful...\")\n",
    "else:\n",
    "    print(\"Search unsuccessful...\")"
   ]
  },
  {
   "cell_type": "code",
   "execution_count": 19,
   "id": "48941a8a",
   "metadata": {},
   "outputs": [
    {
     "name": "stdout",
     "output_type": "stream",
     "text": [
      "['12', '89', '34']\n"
     ]
    }
   ],
   "source": [
    "# program to extract numbers from a string\n",
    "import re\n",
    "string = 'hello 12 hi 89. Howdy 34'\n",
    "pattern = '\\d+'\n",
    "\n",
    "result = re.findall(pattern, string)\n",
    "print(result)"
   ]
  },
  {
   "cell_type": "code",
   "execution_count": 20,
   "id": "24b3c21a",
   "metadata": {},
   "outputs": [
    {
     "name": "stdout",
     "output_type": "stream",
     "text": [
      "['Twelve:', ' Eighty nine:', '..']\n"
     ]
    }
   ],
   "source": [
    "# split the string\n",
    "import re\n",
    "string = 'Twelve:12 Eighty nine:89..'\n",
    "pattern = '\\d+'\n",
    "\n",
    "result = re.split(pattern, string)\n",
    "print(result)"
   ]
  },
  {
   "cell_type": "code",
   "execution_count": null,
   "id": "4d61e4fa",
   "metadata": {},
   "outputs": [],
   "source": []
  },
  {
   "cell_type": "code",
   "execution_count": 23,
   "id": "b99e5fb2",
   "metadata": {},
   "outputs": [
    {
     "name": "stdout",
     "output_type": "stream",
     "text": [
      "                        Name      NOC           Discipline\n",
      "0            AALERUD Katrine   Norway         Cycling Road\n",
      "1                ABAD Nestor    Spain  Artistic Gymnastics\n",
      "2          ABAGNALE Giovanni    Italy               Rowing\n",
      "3             ABALDE Alberto    Spain           Basketball\n",
      "4              ABALDE Tamara    Spain           Basketball\n",
      "...                      ...      ...                  ...\n",
      "11080  ZWICKER Martin Detlef  Germany               Hockey\n",
      "11081      ZWOLINSKA Klaudia   Poland         Canoe Slalom\n",
      "11082           ZYKOVA Yulia      ROC             Shooting\n",
      "11083      ZYUZINA Ekaterina      ROC              Sailing\n",
      "11084        ZYZANSKA Sylwia   Poland              Archery\n",
      "\n",
      "[11085 rows x 3 columns]\n"
     ]
    }
   ],
   "source": [
    "# create a DataFrame\n",
    "import pandas as pd\n",
    "df = pd.read_excel(\"C:\\\\Users\\\\iasms\\\\Desktop\\\\Python Prograamms\\\\Niyati\\\\Data Files\\\\Athletes.xlsx\")\n",
    "print(df)"
   ]
  },
  {
   "cell_type": "code",
   "execution_count": 24,
   "id": "134fe6cd",
   "metadata": {},
   "outputs": [
    {
     "data": {
      "text/html": [
       "<div>\n",
       "<style scoped>\n",
       "    .dataframe tbody tr th:only-of-type {\n",
       "        vertical-align: middle;\n",
       "    }\n",
       "\n",
       "    .dataframe tbody tr th {\n",
       "        vertical-align: top;\n",
       "    }\n",
       "\n",
       "    .dataframe thead th {\n",
       "        text-align: right;\n",
       "    }\n",
       "</style>\n",
       "<table border=\"1\" class=\"dataframe\">\n",
       "  <thead>\n",
       "    <tr style=\"text-align: right;\">\n",
       "      <th></th>\n",
       "      <th>Name</th>\n",
       "      <th>NOC</th>\n",
       "      <th>Discipline</th>\n",
       "      <th>first_five_Letter</th>\n",
       "    </tr>\n",
       "  </thead>\n",
       "  <tbody>\n",
       "    <tr>\n",
       "      <th>0</th>\n",
       "      <td>AALERUD Katrine</td>\n",
       "      <td>Norway</td>\n",
       "      <td>Cycling Road</td>\n",
       "      <td>NaN</td>\n",
       "    </tr>\n",
       "    <tr>\n",
       "      <th>1</th>\n",
       "      <td>ABAD Nestor</td>\n",
       "      <td>Spain</td>\n",
       "      <td>Artistic Gymnastics</td>\n",
       "      <td>NaN</td>\n",
       "    </tr>\n",
       "    <tr>\n",
       "      <th>2</th>\n",
       "      <td>ABAGNALE Giovanni</td>\n",
       "      <td>Italy</td>\n",
       "      <td>Rowing</td>\n",
       "      <td>NaN</td>\n",
       "    </tr>\n",
       "    <tr>\n",
       "      <th>3</th>\n",
       "      <td>ABALDE Alberto</td>\n",
       "      <td>Spain</td>\n",
       "      <td>Basketball</td>\n",
       "      <td>NaN</td>\n",
       "    </tr>\n",
       "    <tr>\n",
       "      <th>4</th>\n",
       "      <td>ABALDE Tamara</td>\n",
       "      <td>Spain</td>\n",
       "      <td>Basketball</td>\n",
       "      <td>NaN</td>\n",
       "    </tr>\n",
       "  </tbody>\n",
       "</table>\n",
       "</div>"
      ],
      "text/plain": [
       "                Name     NOC           Discipline first_five_Letter\n",
       "0    AALERUD Katrine  Norway         Cycling Road               NaN\n",
       "1        ABAD Nestor   Spain  Artistic Gymnastics               NaN\n",
       "2  ABAGNALE Giovanni   Italy               Rowing               NaN\n",
       "3     ABALDE Alberto   Spain           Basketball               NaN\n",
       "4      ABALDE Tamara   Spain           Basketball               NaN"
      ]
     },
     "execution_count": 24,
     "metadata": {},
     "output_type": "execute_result"
    }
   ],
   "source": [
    "# Pandas Extract\n",
    "import numpy as np\n",
    "df['first_five_Letter'] = df['Discipline'].str.extract(r'(^w{5})')\n",
    "df.head()                                "
   ]
  },
  {
   "cell_type": "code",
   "execution_count": 28,
   "id": "b55e17b7",
   "metadata": {},
   "outputs": [
    {
     "name": "stdout",
     "output_type": "stream",
     "text": [
      "0        Norway\n",
      "2    Netherland\n",
      "dtype: object\n",
      "\n",
      "\n"
     ]
    },
    {
     "data": {
      "text/plain": [
       "2"
      ]
     },
     "execution_count": 28,
     "metadata": {},
     "output_type": "execute_result"
    }
   ],
   "source": [
    "# Pandas Count\n",
    "# count countries starting with letter N\n",
    "S = pd.Series(['Norway', 'Colombia', 'Netherland', 'Japan', 'Puerto Rico', 'Russia', 'newyork'])\n",
    "print(S[S.str.count(r'(^N.*)') == 1])\n",
    "print(\"\\n\")\n",
    "S.str.count(r'(^N.*)').sum()"
   ]
  },
  {
   "cell_type": "code",
   "execution_count": 30,
   "id": "249ac9cb",
   "metadata": {},
   "outputs": [
    {
     "name": "stdout",
     "output_type": "stream",
     "text": [
      "\n",
      "\n"
     ]
    },
    {
     "data": {
      "text/html": [
       "<div>\n",
       "<style scoped>\n",
       "    .dataframe tbody tr th:only-of-type {\n",
       "        vertical-align: middle;\n",
       "    }\n",
       "\n",
       "    .dataframe tbody tr th {\n",
       "        vertical-align: top;\n",
       "    }\n",
       "\n",
       "    .dataframe thead th {\n",
       "        text-align: right;\n",
       "    }\n",
       "</style>\n",
       "<table border=\"1\" class=\"dataframe\">\n",
       "  <thead>\n",
       "    <tr style=\"text-align: right;\">\n",
       "      <th></th>\n",
       "      <th>Name</th>\n",
       "      <th>NOC</th>\n",
       "      <th>Discipline</th>\n",
       "      <th>first_five_Letter</th>\n",
       "    </tr>\n",
       "  </thead>\n",
       "  <tbody>\n",
       "    <tr>\n",
       "      <th>65</th>\n",
       "      <td>ABREU Diogo</td>\n",
       "      <td>Portugal</td>\n",
       "      <td>Trampoline Gymnastics</td>\n",
       "      <td>NaN</td>\n",
       "    </tr>\n",
       "    <tr>\n",
       "      <th>69</th>\n",
       "      <td>ABU RMILAH Wesam</td>\n",
       "      <td>Palestine</td>\n",
       "      <td>Judo</td>\n",
       "      <td>NaN</td>\n",
       "    </tr>\n",
       "    <tr>\n",
       "      <th>90</th>\n",
       "      <td>ADAMEK Klaudia</td>\n",
       "      <td>Poland</td>\n",
       "      <td>Athletics</td>\n",
       "      <td>NaN</td>\n",
       "    </tr>\n",
       "    <tr>\n",
       "      <th>91</th>\n",
       "      <td>ADAMKIEWICZ Patrycja</td>\n",
       "      <td>Poland</td>\n",
       "      <td>Taekwondo</td>\n",
       "      <td>NaN</td>\n",
       "    </tr>\n",
       "    <tr>\n",
       "      <th>95</th>\n",
       "      <td>ADAMUS Bartlomiej Stejan</td>\n",
       "      <td>Poland</td>\n",
       "      <td>Weightlifting</td>\n",
       "      <td>NaN</td>\n",
       "    </tr>\n",
       "    <tr>\n",
       "      <th>...</th>\n",
       "      <td>...</td>\n",
       "      <td>...</td>\n",
       "      <td>...</td>\n",
       "      <td>...</td>\n",
       "    </tr>\n",
       "    <tr>\n",
       "      <th>11053</th>\n",
       "      <td>ZIETARSKI Miroslaw</td>\n",
       "      <td>Poland</td>\n",
       "      <td>Rowing</td>\n",
       "      <td>NaN</td>\n",
       "    </tr>\n",
       "    <tr>\n",
       "      <th>11055</th>\n",
       "      <td>ZILLMANN Katarzyna</td>\n",
       "      <td>Poland</td>\n",
       "      <td>Rowing</td>\n",
       "      <td>NaN</td>\n",
       "    </tr>\n",
       "    <tr>\n",
       "      <th>11071</th>\n",
       "      <td>ZOU Jingyuan</td>\n",
       "      <td>People's Republic of China</td>\n",
       "      <td>Artistic Gymnastics</td>\n",
       "      <td>NaN</td>\n",
       "    </tr>\n",
       "    <tr>\n",
       "      <th>11081</th>\n",
       "      <td>ZWOLINSKA Klaudia</td>\n",
       "      <td>Poland</td>\n",
       "      <td>Canoe Slalom</td>\n",
       "      <td>NaN</td>\n",
       "    </tr>\n",
       "    <tr>\n",
       "      <th>11084</th>\n",
       "      <td>ZYZANSKA Sylwia</td>\n",
       "      <td>Poland</td>\n",
       "      <td>Archery</td>\n",
       "      <td>NaN</td>\n",
       "    </tr>\n",
       "  </tbody>\n",
       "</table>\n",
       "<p>808 rows × 4 columns</p>\n",
       "</div>"
      ],
      "text/plain": [
       "                           Name                         NOC  \\\n",
       "65                  ABREU Diogo                    Portugal   \n",
       "69             ABU RMILAH Wesam                   Palestine   \n",
       "90               ADAMEK Klaudia                      Poland   \n",
       "91         ADAMKIEWICZ Patrycja                      Poland   \n",
       "95     ADAMUS Bartlomiej Stejan                      Poland   \n",
       "...                         ...                         ...   \n",
       "11053        ZIETARSKI Miroslaw                      Poland   \n",
       "11055        ZILLMANN Katarzyna                      Poland   \n",
       "11071              ZOU Jingyuan  People's Republic of China   \n",
       "11081         ZWOLINSKA Klaudia                      Poland   \n",
       "11084           ZYZANSKA Sylwia                      Poland   \n",
       "\n",
       "                  Discipline first_five_Letter  \n",
       "65     Trampoline Gymnastics               NaN  \n",
       "69                      Judo               NaN  \n",
       "90                 Athletics               NaN  \n",
       "91                 Taekwondo               NaN  \n",
       "95             Weightlifting               NaN  \n",
       "...                      ...               ...  \n",
       "11053                 Rowing               NaN  \n",
       "11055                 Rowing               NaN  \n",
       "11071    Artistic Gymnastics               NaN  \n",
       "11081           Canoe Slalom               NaN  \n",
       "11084                Archery               NaN  \n",
       "\n",
       "[808 rows x 4 columns]"
      ]
     },
     "execution_count": 30,
     "metadata": {},
     "output_type": "execute_result"
    }
   ],
   "source": [
    "# Pandas match\n",
    "# get countries starting with letter P\n",
    "S = pd.Series(['Finland', 'Colombia', 'Florida', 'Japan', 'Pureto Rico', 'Russia', 'france'])\n",
    "S[S.str.match(r'(^P.*)')==True]\n",
    "print(\"\\n\")\n",
    "df[df['NOC'].str.match('^P.*') == True]"
   ]
  },
  {
   "cell_type": "code",
   "execution_count": 32,
   "id": "8341399c",
   "metadata": {},
   "outputs": [
    {
     "name": "stdout",
     "output_type": "stream",
     "text": [
      "                        Name      NOC           Discipline first_five_Letter\n",
      "0            AALERUD Katrine   Norway         Cycling Road               NaN\n",
      "1                ABAD Nestor    Spain  Artistic Gymnastics               NaN\n",
      "2          ABAGNALE Giovanni    Italy               Rowing               NaN\n",
      "3             ABALDE Alberto    Spain           Basketball               NaN\n",
      "4              ABALDE Tamara    Spain           Basketball               NaN\n",
      "...                      ...      ...                  ...               ...\n",
      "11080  ZWICKER Martin Detlef  Germany               Hockey               NaN\n",
      "11081      ZWOLINSKA Klaudia   Poland         Canoe Slalom               NaN\n",
      "11082           ZYKOVA Yulia      ROC             Shooting               NaN\n",
      "11083      ZYUZINA Ekaterina      ROC              Sailing               NaN\n",
      "11084        ZYZANSKA Sylwia   Poland              Archery               NaN\n",
      "\n",
      "[11085 rows x 4 columns]\n"
     ]
    }
   ],
   "source": [
    "# Pandas Repalce\n",
    "\n",
    "S = pd.Series(['Finland-1', 'Colombia-2', 'Florida-3', 'Japan-4', 'Pureto Rico-5', 'Russia-6', 'france-7'])\n",
    "S.replace('-d', '', regex = True, inplace = True)\n",
    "print(df)"
   ]
  },
  {
   "cell_type": "code",
   "execution_count": 40,
   "id": "25587574",
   "metadata": {},
   "outputs": [
    {
     "data": {
      "text/plain": [
       "0     True\n",
       "1    False\n",
       "2     True\n",
       "3    False\n",
       "4    False\n",
       "5    False\n",
       "6    False\n",
       "dtype: bool"
      ]
     },
     "execution_count": 40,
     "metadata": {},
     "output_type": "execute_result"
    }
   ],
   "source": [
    "# Pandas Contains\n",
    "S = pd.Series(['Finland', 'Colombia', 'Florida', 'Japan', 'Pureto Rico', 'Russia', 'france'])\n",
    "S.str.contains('^F.*')\n",
    "# print(\"\\n\")\n",
    "# df[df['S'].str.contains('^I.*')==True]"
   ]
  },
  {
   "cell_type": "code",
   "execution_count": null,
   "id": "d8b1acd5",
   "metadata": {},
   "outputs": [],
   "source": []
  }
 ],
 "metadata": {
  "kernelspec": {
   "display_name": "Python 3 (ipykernel)",
   "language": "python",
   "name": "python3"
  },
  "language_info": {
   "codemirror_mode": {
    "name": "ipython",
    "version": 3
   },
   "file_extension": ".py",
   "mimetype": "text/x-python",
   "name": "python",
   "nbconvert_exporter": "python",
   "pygments_lexer": "ipython3",
   "version": "3.9.12"
  }
 },
 "nbformat": 4,
 "nbformat_minor": 5
}
