{
 "cells": [
  {
   "cell_type": "code",
   "execution_count": 1,
   "id": "31e10ff7",
   "metadata": {},
   "outputs": [
    {
     "name": "stdout",
     "output_type": "stream",
     "text": [
      "2020-04-23\n",
      "<class 'datetime.date'>\n"
     ]
    }
   ],
   "source": [
    "from datetime import date\n",
    "d1 = date(2020,4,23)\n",
    "print(d1)\n",
    "print(type(d1))"
   ]
  },
  {
   "cell_type": "code",
   "execution_count": 2,
   "id": "505a9768",
   "metadata": {
    "scrolled": true
   },
   "outputs": [
    {
     "name": "stdout",
     "output_type": "stream",
     "text": [
      "2022-03-31\n"
     ]
    }
   ],
   "source": [
    "d1 = date.today()\n",
    "print(d1)"
   ]
  },
  {
   "cell_type": "code",
   "execution_count": 3,
   "id": "d046bd05",
   "metadata": {},
   "outputs": [
    {
     "name": "stdout",
     "output_type": "stream",
     "text": [
      "Day: 31\n",
      "Month: 3\n",
      "Year: 2022\n"
     ]
    }
   ],
   "source": [
    "print('Day:', d1.day)\n",
    "print('Month:', d1.month)\n",
    "print('Year:', d1.year)"
   ]
  },
  {
   "cell_type": "markdown",
   "id": "430f4b5e",
   "metadata": {},
   "source": [
    "### working with Time in Python"
   ]
  },
  {
   "cell_type": "code",
   "execution_count": 5,
   "id": "7ea20571",
   "metadata": {},
   "outputs": [
    {
     "name": "stdout",
     "output_type": "stream",
     "text": [
      "13:20:13.000040\n",
      "<class 'datetime.time'>\n"
     ]
    }
   ],
   "source": [
    "from datetime import time\n",
    "t1 = time(13, 20, 13, 40)\n",
    "print(t1)\n",
    "print(type(t1))"
   ]
  },
  {
   "cell_type": "code",
   "execution_count": 6,
   "id": "06c10f72",
   "metadata": {},
   "outputs": [
    {
     "name": "stdout",
     "output_type": "stream",
     "text": [
      "Hour: 13\n",
      "Minute: 20\n",
      "Second: 13\n",
      "Microsecond: 40\n"
     ]
    }
   ],
   "source": [
    "print('Hour:', t1.hour)\n",
    "print('Minute:', t1.minute)\n",
    "print('Second:', t1.second)\n",
    "print('Microsecond:', t1.microsecond)"
   ]
  },
  {
   "cell_type": "code",
   "execution_count": null,
   "id": "f97c5124",
   "metadata": {},
   "outputs": [],
   "source": []
  },
  {
   "cell_type": "markdown",
   "id": "b39a9307",
   "metadata": {},
   "source": [
    "### Datetime in Python"
   ]
  },
  {
   "cell_type": "code",
   "execution_count": 7,
   "id": "02886ecb",
   "metadata": {},
   "outputs": [
    {
     "name": "stdout",
     "output_type": "stream",
     "text": [
      "2020-04-23 11:20:20.000040\n",
      "<class 'datetime.datetime'>\n"
     ]
    }
   ],
   "source": [
    "from datetime import datetime \n",
    "d1 = datetime(2020,4,23,11,20,20,40)\n",
    "print(d1)\n",
    "print(type(d1))"
   ]
  },
  {
   "cell_type": "code",
   "execution_count": 8,
   "id": "72140828",
   "metadata": {},
   "outputs": [
    {
     "data": {
      "text/plain": [
       "datetime.datetime(2022, 3, 31, 11, 13, 47, 568350)"
      ]
     },
     "execution_count": 8,
     "metadata": {},
     "output_type": "execute_result"
    }
   ],
   "source": [
    "d1 = datetime.now()\n",
    "d1"
   ]
  },
  {
   "cell_type": "code",
   "execution_count": null,
   "id": "e9d28868",
   "metadata": {},
   "outputs": [],
   "source": []
  },
  {
   "cell_type": "markdown",
   "id": "88011cf3",
   "metadata": {},
   "source": [
    "### Updating old Dates"
   ]
  },
  {
   "cell_type": "code",
   "execution_count": 9,
   "id": "f38a6944",
   "metadata": {},
   "outputs": [
    {
     "name": "stdout",
     "output_type": "stream",
     "text": [
      "Datetime: 2022-03-31 11:13:47.568350\n",
      "Date: 2022-03-31\n",
      "Time: 11:13:47.568350\n",
      "New datetime: 2022-03-24 14:13:47.568350\n"
     ]
    }
   ],
   "source": [
    "print('Datetime:', d1)\n",
    "print('Date:', d1.date())\n",
    "print('Time:', d1.time())\n",
    "print('New datetime:', d1.replace(day=24, hour=14))"
   ]
  },
  {
   "cell_type": "code",
   "execution_count": null,
   "id": "3dd1dc20",
   "metadata": {},
   "outputs": [],
   "source": []
  },
  {
   "cell_type": "markdown",
   "id": "b3693d09",
   "metadata": {},
   "source": [
    "### weekday from DateTime"
   ]
  },
  {
   "cell_type": "code",
   "execution_count": 10,
   "id": "11d3ece7",
   "metadata": {},
   "outputs": [
    {
     "name": "stdout",
     "output_type": "stream",
     "text": [
      "3\n",
      "4\n"
     ]
    }
   ],
   "source": [
    "d1 = datetime.now()\n",
    "# week starts from 0\n",
    "print(d1.weekday())       # output 3 for Thursday \n",
    "# week starts with 1\n",
    "print(d1.isoweekday())    # output 4 in ISO format"
   ]
  },
  {
   "cell_type": "code",
   "execution_count": null,
   "id": "f7b6d364",
   "metadata": {},
   "outputs": [],
   "source": []
  },
  {
   "cell_type": "markdown",
   "id": "06e9e352",
   "metadata": {},
   "source": [
    "### what week is it ?"
   ]
  },
  {
   "cell_type": "code",
   "execution_count": 13,
   "id": "57b0d734",
   "metadata": {},
   "outputs": [
    {
     "name": "stdout",
     "output_type": "stream",
     "text": [
      "datetime.IsoCalendarDate(year=2022, week=13, weekday=4)\n",
      "Week:  13\n"
     ]
    }
   ],
   "source": [
    "d1 = datetime.now()\n",
    "# returns year, week, month\n",
    "print(d1.isocalendar())\n",
    "print('Week: ',d1.isocalendar()[1])"
   ]
  },
  {
   "cell_type": "code",
   "execution_count": null,
   "id": "cfbe7ff3",
   "metadata": {},
   "outputs": [],
   "source": []
  },
  {
   "cell_type": "markdown",
   "id": "8a5e945c",
   "metadata": {},
   "source": [
    "### Leap Year or Not ? Use Calendar!"
   ]
  },
  {
   "cell_type": "code",
   "execution_count": 16,
   "id": "a4d99a30",
   "metadata": {},
   "outputs": [
    {
     "data": {
      "text/plain": [
       "False"
      ]
     },
     "execution_count": 16,
     "metadata": {},
     "output_type": "execute_result"
    }
   ],
   "source": [
    "import calendar\n",
    "d1 = datetime.now()\n",
    "calendar.isleap(d1.year)"
   ]
  },
  {
   "cell_type": "code",
   "execution_count": 17,
   "id": "2972951b",
   "metadata": {},
   "outputs": [
    {
     "name": "stdout",
     "output_type": "stream",
     "text": [
      "    January 2022\n",
      "Mo Tu We Th Fr Sa Su\n",
      "                1  2\n",
      " 3  4  5  6  7  8  9\n",
      "10 11 12 13 14 15 16\n",
      "17 18 19 20 21 22 23\n",
      "24 25 26 27 28 29 30\n",
      "31\n",
      "\n"
     ]
    }
   ],
   "source": [
    "print(calendar.month(2022,1))"
   ]
  },
  {
   "cell_type": "code",
   "execution_count": 19,
   "id": "35aa35c3",
   "metadata": {},
   "outputs": [
    {
     "name": "stdout",
     "output_type": "stream",
     "text": [
      "                                  2022\n",
      "\n",
      "      January                   February                   March\n",
      "Mo Tu We Th Fr Sa Su      Mo Tu We Th Fr Sa Su      Mo Tu We Th Fr Sa Su\n",
      "                1  2          1  2  3  4  5  6          1  2  3  4  5  6\n",
      " 3  4  5  6  7  8  9       7  8  9 10 11 12 13       7  8  9 10 11 12 13\n",
      "10 11 12 13 14 15 16      14 15 16 17 18 19 20      14 15 16 17 18 19 20\n",
      "17 18 19 20 21 22 23      21 22 23 24 25 26 27      21 22 23 24 25 26 27\n",
      "24 25 26 27 28 29 30      28                        28 29 30 31\n",
      "31\n",
      "\n",
      "       April                      May                       June\n",
      "Mo Tu We Th Fr Sa Su      Mo Tu We Th Fr Sa Su      Mo Tu We Th Fr Sa Su\n",
      "             1  2  3                         1             1  2  3  4  5\n",
      " 4  5  6  7  8  9 10       2  3  4  5  6  7  8       6  7  8  9 10 11 12\n",
      "11 12 13 14 15 16 17       9 10 11 12 13 14 15      13 14 15 16 17 18 19\n",
      "18 19 20 21 22 23 24      16 17 18 19 20 21 22      20 21 22 23 24 25 26\n",
      "25 26 27 28 29 30         23 24 25 26 27 28 29      27 28 29 30\n",
      "                          30 31\n",
      "\n",
      "        July                     August                  September\n",
      "Mo Tu We Th Fr Sa Su      Mo Tu We Th Fr Sa Su      Mo Tu We Th Fr Sa Su\n",
      "             1  2  3       1  2  3  4  5  6  7                1  2  3  4\n",
      " 4  5  6  7  8  9 10       8  9 10 11 12 13 14       5  6  7  8  9 10 11\n",
      "11 12 13 14 15 16 17      15 16 17 18 19 20 21      12 13 14 15 16 17 18\n",
      "18 19 20 21 22 23 24      22 23 24 25 26 27 28      19 20 21 22 23 24 25\n",
      "25 26 27 28 29 30 31      29 30 31                  26 27 28 29 30\n",
      "\n",
      "      October                   November                  December\n",
      "Mo Tu We Th Fr Sa Su      Mo Tu We Th Fr Sa Su      Mo Tu We Th Fr Sa Su\n",
      "                1  2          1  2  3  4  5  6                1  2  3  4\n",
      " 3  4  5  6  7  8  9       7  8  9 10 11 12 13       5  6  7  8  9 10 11\n",
      "10 11 12 13 14 15 16      14 15 16 17 18 19 20      12 13 14 15 16 17 18\n",
      "17 18 19 20 21 22 23      21 22 23 24 25 26 27      19 20 21 22 23 24 25\n",
      "24 25 26 27 28 29 30      28 29 30                  26 27 28 29 30 31\n",
      "31\n",
      "\n"
     ]
    }
   ],
   "source": [
    "print(calendar.calendar(2022))"
   ]
  },
  {
   "cell_type": "code",
   "execution_count": 20,
   "id": "80043d08",
   "metadata": {},
   "outputs": [
    {
     "name": "stdout",
     "output_type": "stream",
     "text": [
      "   February 2002\n",
      "Mo Tu We Th Fr Sa Su\n",
      "             1  2  3\n",
      " 4  5  6  7  8  9 10\n",
      "11 12 13 14 15 16 17\n",
      "18 19 20 21 22 23 24\n",
      "25 26 27 28\n",
      "\n"
     ]
    }
   ],
   "source": [
    "print(calendar.month(2002,2))"
   ]
  },
  {
   "cell_type": "markdown",
   "id": "04f6245e",
   "metadata": {},
   "source": [
    "### DateTime Formats"
   ]
  },
  {
   "cell_type": "code",
   "execution_count": 21,
   "id": "3538a108",
   "metadata": {},
   "outputs": [
    {
     "name": "stdout",
     "output_type": "stream",
     "text": [
      "2020-04-23\n",
      "<class 'datetime.date'>\n",
      "2020-04-23\n",
      "<class 'str'>\n"
     ]
    }
   ],
   "source": [
    "d1_datetime = date.fromisoformat('2020-04-23')\n",
    "print(d1_datetime)\n",
    "print(type(d1_datetime))\n",
    "d1_ISO = date(2020,4,23).isoformat()\n",
    "print(d1_ISO)\n",
    "print(type(d1_ISO))"
   ]
  },
  {
   "cell_type": "code",
   "execution_count": 22,
   "id": "22d02562",
   "metadata": {},
   "outputs": [
    {
     "name": "stdout",
     "output_type": "stream",
     "text": [
      "Thu Mar 31 11:30:15 2022\n",
      "Thu Mar 31\n"
     ]
    }
   ],
   "source": [
    "d1 = datetime.now()\n",
    "print(d1.ctime())\n",
    "print(d1.ctime()[:10])"
   ]
  },
  {
   "cell_type": "code",
   "execution_count": null,
   "id": "5f6c643e",
   "metadata": {},
   "outputs": [],
   "source": []
  },
  {
   "cell_type": "markdown",
   "id": "915fd335",
   "metadata": {},
   "source": [
    "### Advanced DateTime Formatting with Strptime & Strftime"
   ]
  },
  {
   "cell_type": "code",
   "execution_count": 23,
   "id": "b9e43dfd",
   "metadata": {},
   "outputs": [
    {
     "name": "stdout",
     "output_type": "stream",
     "text": [
      "2020-04-22 13:20:13\n",
      "<class 'datetime.datetime'>\n"
     ]
    }
   ],
   "source": [
    "date = '22 April, 2020 13:20:13'\n",
    "d1 = datetime.strptime(date, '%d %B, %Y %H:%M:%S')\n",
    "print(d1)\n",
    "print(type(d1))"
   ]
  },
  {
   "cell_type": "code",
   "execution_count": 24,
   "id": "73c77854",
   "metadata": {},
   "outputs": [
    {
     "name": "stdout",
     "output_type": "stream",
     "text": [
      "Datetime object: 2022-03-31 11:40:44.533528\n",
      "Formatted date: 31/03/202211:40\n",
      "<class 'str'>\n"
     ]
    }
   ],
   "source": [
    "d1 = datetime.now()\n",
    "print('Datetime object:', d1)\n",
    "new_date = d1.strftime('%d/%m/%Y%H:%M')\n",
    "print('Formatted date:', new_date)\n",
    "print(type(new_date))"
   ]
  },
  {
   "cell_type": "code",
   "execution_count": 25,
   "id": "10213d7d",
   "metadata": {},
   "outputs": [
    {
     "name": "stdout",
     "output_type": "stream",
     "text": [
      "Weekday: Thursday\n",
      "Month: March\n",
      "Week number: 13\n",
      "Locale's date and time representation:  Thu Mar 31 11:44:21 2022\n"
     ]
    }
   ],
   "source": [
    "d1 = datetime.now()\n",
    "print('Weekday:', d1.strftime('%A'))\n",
    "print('Month:', d1.strftime('%B'))\n",
    "print('Week number:', d1.strftime('%W'))\n",
    "print(\"Locale's date and time representation: \", d1.strftime('%c'))"
   ]
  },
  {
   "cell_type": "markdown",
   "id": "c55e0886",
   "metadata": {},
   "source": [
    "### Timedelta"
   ]
  },
  {
   "cell_type": "code",
   "execution_count": 28,
   "id": "583b6028",
   "metadata": {},
   "outputs": [
    {
     "name": "stdout",
     "output_type": "stream",
     "text": [
      "<class 'datetime.timedelta'>\n"
     ]
    },
    {
     "data": {
      "text/plain": [
       "datetime.timedelta(days=365, seconds=3600)"
      ]
     },
     "execution_count": 28,
     "metadata": {},
     "output_type": "execute_result"
    }
   ],
   "source": [
    "d1 = datetime(2020,4,23,11,13,10)\n",
    "d2 = datetime(2021,4,23,12,13,10)\n",
    "duration = d2 - d1\n",
    "print(type(duration))\n",
    "duration"
   ]
  },
  {
   "cell_type": "code",
   "execution_count": 29,
   "id": "ca1472b3",
   "metadata": {},
   "outputs": [
    {
     "name": "stdout",
     "output_type": "stream",
     "text": [
      "365\n"
     ]
    }
   ],
   "source": [
    "print(duration.days)"
   ]
  },
  {
   "cell_type": "code",
   "execution_count": 30,
   "id": "8ad176ce",
   "metadata": {},
   "outputs": [
    {
     "name": "stdout",
     "output_type": "stream",
     "text": [
      "3600\n"
     ]
    }
   ],
   "source": [
    "print(duration.seconds)"
   ]
  },
  {
   "cell_type": "code",
   "execution_count": null,
   "id": "f5646ab2",
   "metadata": {},
   "outputs": [],
   "source": []
  },
  {
   "cell_type": "code",
   "execution_count": 33,
   "id": "6e6e84b7",
   "metadata": {},
   "outputs": [
    {
     "name": "stdout",
     "output_type": "stream",
     "text": [
      "Duration in hours: 8761.0\n",
      "Duration in minutes: 525660.0\n",
      "Duration in seconds: 31539600.0\n"
     ]
    }
   ],
   "source": [
    "from datetime import timedelta\n",
    "print('Duration in hours:', duration/timedelta(hours=1))\n",
    "print('Duration in minutes:', duration/timedelta(minutes=1))\n",
    "print('Duration in seconds:', duration/timedelta(seconds=1))"
   ]
  },
  {
   "cell_type": "code",
   "execution_count": 34,
   "id": "b9ad60cf",
   "metadata": {},
   "outputs": [
    {
     "name": "stdout",
     "output_type": "stream",
     "text": [
      "Today's date:  2022-03-31 11:55:16.106008\n",
      "Date 2 days from today: 2022-04-02 11:55:16.106008\n",
      "Date 2 weeks from today: 2022-04-14 11:55:16.106008\n"
     ]
    }
   ],
   "source": [
    "d1 = datetime.now()\n",
    "print(\"Today's date: \",d1)\n",
    "d2 = d1 + timedelta(days=2)\n",
    "print(\"Date 2 days from today:\", d2)\n",
    "d3 = d1 + timedelta(weeks = 2)\n",
    "print(\"Date 2 weeks from today:\", d3)"
   ]
  },
  {
   "cell_type": "code",
   "execution_count": null,
   "id": "c68b2800",
   "metadata": {},
   "outputs": [],
   "source": []
  },
  {
   "cell_type": "code",
   "execution_count": null,
   "id": "d5e6137c",
   "metadata": {},
   "outputs": [],
   "source": []
  },
  {
   "cell_type": "markdown",
   "id": "7481ca3f",
   "metadata": {},
   "source": [
    "## DATETIME IN PANDAS"
   ]
  },
  {
   "cell_type": "code",
   "execution_count": null,
   "id": "506ecd16",
   "metadata": {},
   "outputs": [],
   "source": [
    "# DateTime and Timedelta objects in Python"
   ]
  },
  {
   "cell_type": "code",
   "execution_count": 37,
   "id": "143c784a",
   "metadata": {},
   "outputs": [
    {
     "name": "stdout",
     "output_type": "stream",
     "text": [
      "2020-03-24 00:00:00\n",
      "<class 'pandas._libs.tslibs.timestamps.Timestamp'>\n"
     ]
    }
   ],
   "source": [
    "import pandas as pd\n",
    "date = pd.to_datetime('24th March, 2020')\n",
    "print(date)\n",
    "print(type(date))"
   ]
  },
  {
   "cell_type": "code",
   "execution_count": 40,
   "id": "adfba9bc",
   "metadata": {},
   "outputs": [
    {
     "name": "stdout",
     "output_type": "stream",
     "text": [
      "2022-03-31 12:08:35.653637\n",
      "2022-04-01 12:08:35.653637\n"
     ]
    },
    {
     "ename": "ValueError",
     "evalue": "Units 'M', 'Y', and 'y' are no longer supported, as they do not represent unambiguous timedelta values durations.",
     "output_type": "error",
     "traceback": [
      "\u001b[1;31m---------------------------------------------------------------------------\u001b[0m",
      "\u001b[1;31mValueError\u001b[0m                                Traceback (most recent call last)",
      "\u001b[1;32m~\\AppData\\Local\\Temp/ipykernel_1696/2098949992.py\u001b[0m in \u001b[0;36m<module>\u001b[1;34m\u001b[0m\n\u001b[0;32m      3\u001b[0m \u001b[0mprint\u001b[0m\u001b[1;33m(\u001b[0m\u001b[0mdate\u001b[0m\u001b[1;33m)\u001b[0m\u001b[1;33m\u001b[0m\u001b[1;33m\u001b[0m\u001b[0m\n\u001b[0;32m      4\u001b[0m \u001b[0mprint\u001b[0m\u001b[1;33m(\u001b[0m\u001b[0mdate\u001b[0m \u001b[1;33m+\u001b[0m \u001b[0mpd\u001b[0m\u001b[1;33m.\u001b[0m\u001b[0mto_timedelta\u001b[0m\u001b[1;33m(\u001b[0m\u001b[1;36m1\u001b[0m\u001b[1;33m,\u001b[0m \u001b[0munit\u001b[0m \u001b[1;33m=\u001b[0m \u001b[1;34m'D'\u001b[0m\u001b[1;33m)\u001b[0m\u001b[1;33m)\u001b[0m\u001b[1;33m\u001b[0m\u001b[1;33m\u001b[0m\u001b[0m\n\u001b[1;32m----> 5\u001b[1;33m \u001b[0mprint\u001b[0m\u001b[1;33m(\u001b[0m\u001b[0mdate\u001b[0m \u001b[1;33m+\u001b[0m \u001b[0mpd\u001b[0m\u001b[1;33m.\u001b[0m\u001b[0mto_timedelta\u001b[0m\u001b[1;33m(\u001b[0m\u001b[1;36m1\u001b[0m\u001b[1;33m,\u001b[0m \u001b[0munit\u001b[0m \u001b[1;33m=\u001b[0m \u001b[1;34m'M'\u001b[0m\u001b[1;33m)\u001b[0m\u001b[1;33m)\u001b[0m\u001b[1;33m\u001b[0m\u001b[1;33m\u001b[0m\u001b[0m\n\u001b[0m",
      "\u001b[1;32m~\\Anaconda3\\lib\\site-packages\\pandas\\core\\tools\\timedeltas.py\u001b[0m in \u001b[0;36mto_timedelta\u001b[1;34m(arg, unit, errors)\u001b[0m\n\u001b[0;32m    114\u001b[0m \u001b[1;33m\u001b[0m\u001b[0m\n\u001b[0;32m    115\u001b[0m     \u001b[1;32mif\u001b[0m \u001b[0munit\u001b[0m \u001b[1;32min\u001b[0m \u001b[1;33m{\u001b[0m\u001b[1;34m\"Y\"\u001b[0m\u001b[1;33m,\u001b[0m \u001b[1;34m\"y\"\u001b[0m\u001b[1;33m,\u001b[0m \u001b[1;34m\"M\"\u001b[0m\u001b[1;33m}\u001b[0m\u001b[1;33m:\u001b[0m\u001b[1;33m\u001b[0m\u001b[1;33m\u001b[0m\u001b[0m\n\u001b[1;32m--> 116\u001b[1;33m         raise ValueError(\n\u001b[0m\u001b[0;32m    117\u001b[0m             \u001b[1;34m\"Units 'M', 'Y', and 'y' are no longer supported, as they do not \"\u001b[0m\u001b[1;33m\u001b[0m\u001b[1;33m\u001b[0m\u001b[0m\n\u001b[0;32m    118\u001b[0m             \u001b[1;34m\"represent unambiguous timedelta values durations.\"\u001b[0m\u001b[1;33m\u001b[0m\u001b[1;33m\u001b[0m\u001b[0m\n",
      "\u001b[1;31mValueError\u001b[0m: Units 'M', 'Y', and 'y' are no longer supported, as they do not represent unambiguous timedelta values durations."
     ]
    }
   ],
   "source": [
    "import numpy as np\n",
    "date = datetime.now()\n",
    "print(date)\n",
    "print(date + pd.to_timedelta(1, unit = 'D'))\n",
    "print(date + pd.to_timedelta(1, unit = 'M'))"
   ]
  },
  {
   "cell_type": "markdown",
   "id": "a10f45be",
   "metadata": {},
   "source": [
    "### Data Range in Pandas"
   ]
  },
  {
   "cell_type": "code",
   "execution_count": 41,
   "id": "c48b687d",
   "metadata": {},
   "outputs": [
    {
     "data": {
      "text/plain": [
       "DatetimeIndex(['2020-04-24', '2020-04-25', '2020-04-26', '2020-04-27',\n",
       "               '2020-04-28', '2020-04-29', '2020-04-30', '2020-05-01',\n",
       "               '2020-05-02', '2020-05-03', '2020-05-04', '2020-05-05',\n",
       "               '2020-05-06', '2020-05-07', '2020-05-08', '2020-05-09',\n",
       "               '2020-05-10', '2020-05-11', '2020-05-12', '2020-05-13',\n",
       "               '2020-05-14', '2020-05-15', '2020-05-16', '2020-05-17',\n",
       "               '2020-05-18', '2020-05-19', '2020-05-20', '2020-05-21',\n",
       "               '2020-05-22', '2020-05-23', '2020-05-24'],\n",
       "              dtype='datetime64[ns]', freq='D')"
      ]
     },
     "execution_count": 41,
     "metadata": {},
     "output_type": "execute_result"
    }
   ],
   "source": [
    "pd.date_range(start = '24/4/2020', end = '24/5/2020', freq = 'D')"
   ]
  },
  {
   "cell_type": "code",
   "execution_count": 44,
   "id": "5a557abb",
   "metadata": {},
   "outputs": [
    {
     "data": {
      "text/plain": [
       "DatetimeIndex(['2022-03-31 12:11:54.745142', '2022-03-31 12:12:54.745142',\n",
       "               '2022-03-31 12:13:54.745142', '2022-03-31 12:14:54.745142',\n",
       "               '2022-03-31 12:15:54.745142'],\n",
       "              dtype='datetime64[ns]', freq='T')"
      ]
     },
     "execution_count": 44,
     "metadata": {},
     "output_type": "execute_result"
    }
   ],
   "source": [
    "from datetime import datetime\n",
    "start_date = datetime.today()\n",
    "dates_start = pd.date_range(start=start_date, periods = 10, freq = 'T')\n",
    "dates_start[:5]"
   ]
  },
  {
   "cell_type": "code",
   "execution_count": null,
   "id": "d78a12be",
   "metadata": {},
   "outputs": [],
   "source": []
  },
  {
   "cell_type": "markdown",
   "id": "c5eee2db",
   "metadata": {},
   "source": [
    "### Making DateTime Features in Pandas"
   ]
  },
  {
   "cell_type": "code",
   "execution_count": 45,
   "id": "8f8774df",
   "metadata": {},
   "outputs": [
    {
     "data": {
      "text/html": [
       "<div>\n",
       "<style scoped>\n",
       "    .dataframe tbody tr th:only-of-type {\n",
       "        vertical-align: middle;\n",
       "    }\n",
       "\n",
       "    .dataframe tbody tr th {\n",
       "        vertical-align: top;\n",
       "    }\n",
       "\n",
       "    .dataframe thead th {\n",
       "        text-align: right;\n",
       "    }\n",
       "</style>\n",
       "<table border=\"1\" class=\"dataframe\">\n",
       "  <thead>\n",
       "    <tr style=\"text-align: right;\">\n",
       "      <th></th>\n",
       "      <th>Start_date</th>\n",
       "      <th>End_date</th>\n",
       "      <th>Targets</th>\n",
       "    </tr>\n",
       "  </thead>\n",
       "  <tbody>\n",
       "    <tr>\n",
       "      <th>0</th>\n",
       "      <td>2022-03-31 12:11:54.745142</td>\n",
       "      <td>2022-03-31 12:11:54.745142</td>\n",
       "      <td>1</td>\n",
       "    </tr>\n",
       "    <tr>\n",
       "      <th>1</th>\n",
       "      <td>2022-03-31 12:12:54.745142</td>\n",
       "      <td>2022-04-01 12:11:54.745142</td>\n",
       "      <td>0</td>\n",
       "    </tr>\n",
       "    <tr>\n",
       "      <th>2</th>\n",
       "      <td>2022-03-31 12:13:54.745142</td>\n",
       "      <td>2022-04-02 12:11:54.745142</td>\n",
       "      <td>1</td>\n",
       "    </tr>\n",
       "    <tr>\n",
       "      <th>3</th>\n",
       "      <td>2022-03-31 12:14:54.745142</td>\n",
       "      <td>2022-04-03 12:11:54.745142</td>\n",
       "      <td>1</td>\n",
       "    </tr>\n",
       "    <tr>\n",
       "      <th>4</th>\n",
       "      <td>2022-03-31 12:15:54.745142</td>\n",
       "      <td>2022-04-04 12:11:54.745142</td>\n",
       "      <td>1</td>\n",
       "    </tr>\n",
       "  </tbody>\n",
       "</table>\n",
       "</div>"
      ],
      "text/plain": [
       "                  Start_date                   End_date  Targets\n",
       "0 2022-03-31 12:11:54.745142 2022-03-31 12:11:54.745142        1\n",
       "1 2022-03-31 12:12:54.745142 2022-04-01 12:11:54.745142        0\n",
       "2 2022-03-31 12:13:54.745142 2022-04-02 12:11:54.745142        1\n",
       "3 2022-03-31 12:14:54.745142 2022-04-03 12:11:54.745142        1\n",
       "4 2022-03-31 12:15:54.745142 2022-04-04 12:11:54.745142        1"
      ]
     },
     "execution_count": 45,
     "metadata": {},
     "output_type": "execute_result"
    }
   ],
   "source": [
    "dates_end = pd.date_range(start = start_date, periods = 10, freq='D')\n",
    "dates_end[:5]\n",
    "import random\n",
    "randomList = []\n",
    "for i in range(10):\n",
    "    randomList.append(random.randint(0,1))\n",
    "df = pd.DataFrame()\n",
    "df['Start_date'] = dates_start\n",
    "df['End_date'] = dates_end\n",
    "df['Targets'] = randomList\n",
    "df.head()"
   ]
  },
  {
   "cell_type": "code",
   "execution_count": null,
   "id": "74cab9c2",
   "metadata": {},
   "outputs": [],
   "source": []
  },
  {
   "cell_type": "code",
   "execution_count": 1,
   "id": "36ceccfa",
   "metadata": {},
   "outputs": [
    {
     "name": "stdout",
     "output_type": "stream",
     "text": [
      "Current date and time:  2022-07-15 17:59:40.664715\n",
      "Current year:  2022\n",
      "Month of year:  July\n",
      "Week number of the year:  28\n",
      "Weekday of the week:  5\n",
      "Day of year:  196\n",
      "Day of the month :  15\n",
      "Day of week:  Friday\n"
     ]
    }
   ],
   "source": [
    "import time\n",
    "import datetime\n",
    "print(\"Current date and time: \" , datetime.datetime.now())\n",
    "print(\"Current year: \", datetime.date.today().strftime(\"%Y\"))\n",
    "print(\"Month of year: \", datetime.date.today().strftime(\"%B\"))\n",
    "print(\"Week number of the year: \", datetime.date.today().strftime(\"%W\"))\n",
    "print(\"Weekday of the week: \", datetime.date.today().strftime(\"%w\"))\n",
    "print(\"Day of year: \", datetime.date.today().strftime(\"%j\"))\n",
    "print(\"Day of the month : \", datetime.date.today().strftime(\"%d\"))\n",
    "print(\"Day of week: \", datetime.date.today().strftime(\"%A\"))"
   ]
  },
  {
   "cell_type": "code",
   "execution_count": null,
   "id": "b8c1ec23",
   "metadata": {},
   "outputs": [],
   "source": []
  }
 ],
 "metadata": {
  "kernelspec": {
   "display_name": "Python 3 (ipykernel)",
   "language": "python",
   "name": "python3"
  },
  "language_info": {
   "codemirror_mode": {
    "name": "ipython",
    "version": 3
   },
   "file_extension": ".py",
   "mimetype": "text/x-python",
   "name": "python",
   "nbconvert_exporter": "python",
   "pygments_lexer": "ipython3",
   "version": "3.9.12"
  }
 },
 "nbformat": 4,
 "nbformat_minor": 5
}
