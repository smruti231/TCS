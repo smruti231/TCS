{
 "cells": [
  {
   "cell_type": "code",
   "execution_count": 1,
   "id": "e2fd605a",
   "metadata": {},
   "outputs": [
    {
     "name": "stdout",
     "output_type": "stream",
     "text": [
      "      Name  Age\n",
      "0   Smruti   20\n",
      "1      Raj   17\n",
      "2  Harshit   37\n",
      "3   Naijen   42\n"
     ]
    }
   ],
   "source": [
    "# Make a Pandas DataFrame with two-dimensional list\n",
    "import pandas as pd  \n",
    "lst = [['Smruti', 20], ['Raj', 17], \n",
    "       ['Harshit', 37], ['Naijen', 42]] \n",
    "df = pd.DataFrame(lst, columns =['Name', 'Age']) \n",
    "print(df )"
   ]
  },
  {
   "cell_type": "code",
   "execution_count": 2,
   "id": "579f7adb",
   "metadata": {},
   "outputs": [
    {
     "name": "stdout",
     "output_type": "stream",
     "text": [
      "    Name  Age\n",
      "0    Tom   20\n",
      "1   nick   21\n",
      "2  krish   19\n",
      "3   jack   18\n"
     ]
    }
   ],
   "source": [
    "# creating DataFrame from dict of ndarray/ lists\n",
    "import pandas as pd\n",
    "data = {'Name': ['Tom', 'nick', 'krish', 'jack'],\n",
    "       'Age': [20,21,19,18]}\n",
    "df = pd.DataFrame(data)\n",
    "print(df)"
   ]
  },
  {
   "cell_type": "code",
   "execution_count": 3,
   "id": "b00d92ca",
   "metadata": {},
   "outputs": [
    {
     "name": "stdout",
     "output_type": "stream",
     "text": [
      "     Name  Letter\n",
      "0  Smruti       6\n",
      "1  Ranjan       6\n",
      "2   Polai       5\n"
     ]
    }
   ],
   "source": [
    "# Creating Pandas dataframe using list of lists\n",
    "import pandas as pd\n",
    "data = [['Smruti', 6], ['Ranjan', 6], ['Polai', 5]]\n",
    "df = pd.DataFrame(data, columns = ['Name', 'Letter'])\n",
    "print(df )"
   ]
  },
  {
   "cell_type": "code",
   "execution_count": 4,
   "id": "b2265769",
   "metadata": {},
   "outputs": [
    {
     "name": "stdout",
     "output_type": "stream",
     "text": [
      "     Name  Age  Score\n",
      "0   Rohit   34   8000\n",
      "1   Virat   36  10000\n",
      "2  Rishab   26   2000\n",
      "3   Dhoni   41   8000\n",
      "4  Jadeja   33   6000\n"
     ]
    }
   ],
   "source": [
    "# Creating a Pandas dataframe using list of tuples\n",
    "import pandas as pd\n",
    "data = [('Rohit', 34, 8000),\n",
    "        ('Virat', 36, 10000),\n",
    "        ('Rishab', 26, 2000),\n",
    "        ('Dhoni', 41, 8000),\n",
    "        ('Jadeja', 33, 6000) ]\n",
    "df = pd.DataFrame(data, columns =['Name', 'Age', 'Score'])\n",
    "print(df) "
   ]
  },
  {
   "cell_type": "code",
   "execution_count": null,
   "id": "5cd11778",
   "metadata": {},
   "outputs": [],
   "source": []
  }
 ],
 "metadata": {
  "kernelspec": {
   "display_name": "Python 3 (ipykernel)",
   "language": "python",
   "name": "python3"
  },
  "language_info": {
   "codemirror_mode": {
    "name": "ipython",
    "version": 3
   },
   "file_extension": ".py",
   "mimetype": "text/x-python",
   "name": "python",
   "nbconvert_exporter": "python",
   "pygments_lexer": "ipython3",
   "version": "3.9.7"
  }
 },
 "nbformat": 4,
 "nbformat_minor": 5
}
