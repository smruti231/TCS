{
 "cells": [
  {
   "cell_type": "code",
   "execution_count": 12,
   "id": "2fcf9ca1",
   "metadata": {},
   "outputs": [
    {
     "name": "stdout",
     "output_type": "stream",
     "text": [
      "2022-07-15 17:58:50.369503\n"
     ]
    }
   ],
   "source": [
    "# a.Print current date and time in Python\n",
    "import pandas as pd\n",
    "from datetime import datetime\n",
    "today = pd.to_datetime(\"today\")\n",
    "print(today)"
   ]
  },
  {
   "cell_type": "code",
   "execution_count": 13,
   "id": "a67dd368",
   "metadata": {},
   "outputs": [
    {
     "name": "stdout",
     "output_type": "stream",
     "text": [
      "2020-02-25 16:20:00\n"
     ]
    }
   ],
   "source": [
    "# b.Convert string into a datetime object\n",
    "\n",
    "from datetime import datetime\n",
    "date_string = \"Feb 25 2020  4:20PM\"\n",
    "datetime_object = datetime.strptime(date_string, '%b %d %Y %I:%M%p')\n",
    "print(datetime_object)"
   ]
  },
  {
   "cell_type": "code",
   "execution_count": 14,
   "id": "8facdea5",
   "metadata": {},
   "outputs": [
    {
     "name": "stdout",
     "output_type": "stream",
     "text": [
      "Given date: \n",
      "2020-02-25 00:00:00\n",
      "New Date: \n",
      "2020-02-18 00:00:00\n"
     ]
    }
   ],
   "source": [
    "# c.Subtract a week (7 days)  from a given date\n",
    "# Given:\n",
    "# given_date = datetime(2020, 2, 25)\n",
    "\n",
    "from datetime import datetime, timedelta\n",
    "given_date = datetime(2020, 2, 25)\n",
    "print(\"Given date: \")\n",
    "print(given_date)\n",
    "days_to_subtract = 7\n",
    "res_date = given_date - timedelta(days=days_to_subtract)\n",
    "print(\"New Date: \")\n",
    "print(res_date)"
   ]
  },
  {
   "cell_type": "code",
   "execution_count": 15,
   "id": "784fc49a",
   "metadata": {},
   "outputs": [
    {
     "name": "stdout",
     "output_type": "stream",
     "text": [
      "Day_name: Friday\n",
      "Day_number: 15\n",
      "Month_name: 7\n",
      "Year: 2022\n"
     ]
    }
   ],
   "source": [
    "# d.Print a date in a the following format\n",
    "# Day_name  Day_number  Month_name  Year\n",
    "from datetime import date\n",
    "d1 = date.today()\n",
    "print('Day_name:', d1.strftime(\"%A\"))\n",
    "print('Day_number:', d1.day)\n",
    "print('Month_name:', d1.month)\n",
    "print('Year:', d1.year)"
   ]
  },
  {
   "cell_type": "code",
   "execution_count": 16,
   "id": "7f02629a",
   "metadata": {},
   "outputs": [
    {
     "name": "stdout",
     "output_type": "stream",
     "text": [
      "Weekday: Sunday\n",
      "Day_number: 26\n"
     ]
    }
   ],
   "source": [
    "# Find the day of the week of a given date\n",
    "# Given:\n",
    "# given_date = datetime(2020, 7, 26)\n",
    "\n",
    "from datetime import date\n",
    "given_data = datetime(2020, 7, 26)\n",
    "print('Weekday:', given_data.strftime('%A'))\n",
    "print('Day_number:', given_data.day)"
   ]
  },
  {
   "cell_type": "code",
   "execution_count": null,
   "id": "d9d35801",
   "metadata": {},
   "outputs": [],
   "source": []
  }
 ],
 "metadata": {
  "kernelspec": {
   "display_name": "Python 3 (ipykernel)",
   "language": "python",
   "name": "python3"
  },
  "language_info": {
   "codemirror_mode": {
    "name": "ipython",
    "version": 3
   },
   "file_extension": ".py",
   "mimetype": "text/x-python",
   "name": "python",
   "nbconvert_exporter": "python",
   "pygments_lexer": "ipython3",
   "version": "3.9.12"
  }
 },
 "nbformat": 4,
 "nbformat_minor": 5
}
