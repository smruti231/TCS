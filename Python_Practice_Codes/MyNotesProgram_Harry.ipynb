{
 "cells": [
  {
   "cell_type": "code",
   "execution_count": 1,
   "id": "fc67bd6b",
   "metadata": {},
   "outputs": [
    {
     "name": "stdout",
     "output_type": "stream",
     "text": [
      "Hello World\n"
     ]
    }
   ],
   "source": [
    "print(\"Hello World\")"
   ]
  },
  {
   "cell_type": "code",
   "execution_count": 2,
   "id": "7c99649d",
   "metadata": {},
   "outputs": [],
   "source": [
    "import os"
   ]
  },
  {
   "cell_type": "code",
   "execution_count": 3,
   "id": "d70828ad",
   "metadata": {},
   "outputs": [],
   "source": [
    "import flask"
   ]
  },
  {
   "cell_type": "code",
   "execution_count": 4,
   "id": "0f2c417a",
   "metadata": {},
   "outputs": [
    {
     "ename": "ModuleNotFoundError",
     "evalue": "No module named 'tensorflow'",
     "output_type": "error",
     "traceback": [
      "\u001b[1;31m---------------------------------------------------------------------------\u001b[0m",
      "\u001b[1;31mModuleNotFoundError\u001b[0m                       Traceback (most recent call last)",
      "\u001b[1;32m~\\AppData\\Local\\Temp/ipykernel_10960/4294963926.py\u001b[0m in \u001b[0;36m<module>\u001b[1;34m\u001b[0m\n\u001b[1;32m----> 1\u001b[1;33m \u001b[1;32mimport\u001b[0m \u001b[0mtensorflow\u001b[0m\u001b[1;33m\u001b[0m\u001b[1;33m\u001b[0m\u001b[0m\n\u001b[0m",
      "\u001b[1;31mModuleNotFoundError\u001b[0m: No module named 'tensorflow'"
     ]
    }
   ],
   "source": [
    "import tensorflow"
   ]
  },
  {
   "cell_type": "code",
   "execution_count": 5,
   "id": "593c20aa",
   "metadata": {},
   "outputs": [
    {
     "name": "stdout",
     "output_type": "stream",
     "text": [
      "Note: you may need to restart the kernel to use updated packages.\n"
     ]
    },
    {
     "name": "stderr",
     "output_type": "stream",
     "text": [
      "WARNING: Retrying (Retry(total=4, connect=None, read=None, redirect=None, status=None)) after connection broken by 'NewConnectionError('<pip._vendor.urllib3.connection.HTTPSConnection object at 0x0000024F763541C0>: Failed to establish a new connection: [Errno 11001] getaddrinfo failed')': /simple/tensorflow/\n",
      "WARNING: Retrying (Retry(total=3, connect=None, read=None, redirect=None, status=None)) after connection broken by 'NewConnectionError('<pip._vendor.urllib3.connection.HTTPSConnection object at 0x0000024F763540A0>: Failed to establish a new connection: [Errno 11001] getaddrinfo failed')': /simple/tensorflow/\n",
      "WARNING: Retrying (Retry(total=2, connect=None, read=None, redirect=None, status=None)) after connection broken by 'NewConnectionError('<pip._vendor.urllib3.connection.HTTPSConnection object at 0x0000024F76354880>: Failed to establish a new connection: [Errno 11001] getaddrinfo failed')': /simple/tensorflow/\n",
      "WARNING: Retrying (Retry(total=1, connect=None, read=None, redirect=None, status=None)) after connection broken by 'NewConnectionError('<pip._vendor.urllib3.connection.HTTPSConnection object at 0x0000024F76354A30>: Failed to establish a new connection: [Errno 11001] getaddrinfo failed')': /simple/tensorflow/\n",
      "WARNING: Retrying (Retry(total=0, connect=None, read=None, redirect=None, status=None)) after connection broken by 'NewConnectionError('<pip._vendor.urllib3.connection.HTTPSConnection object at 0x0000024F76354BE0>: Failed to establish a new connection: [Errno 11001] getaddrinfo failed')': /simple/tensorflow/\n",
      "ERROR: Could not find a version that satisfies the requirement tensorflow (from versions: none)\n",
      "ERROR: No matching distribution found for tensorflow\n"
     ]
    }
   ],
   "source": [
    "pip install tensorflow"
   ]
  },
  {
   "cell_type": "markdown",
   "id": "188cd931",
   "metadata": {},
   "source": [
    "# Comments"
   ]
  },
  {
   "cell_type": "code",
   "execution_count": 6,
   "id": "e0d040b3",
   "metadata": {},
   "outputs": [
    {
     "name": "stdout",
     "output_type": "stream",
     "text": [
      "Hello World\n"
     ]
    }
   ],
   "source": [
    "#Author:Smruti\n",
    "#Licenced to:ABC Company\n",
    "import os   #importing the os module\n",
    "print(\"Hello World\") "
   ]
  },
  {
   "cell_type": "code",
   "execution_count": 7,
   "id": "a6ec6eb4",
   "metadata": {},
   "outputs": [
    {
     "name": "stdout",
     "output_type": "stream",
     "text": [
      "Hello World\n"
     ]
    }
   ],
   "source": [
    "'''\n",
    "Author:Smruti\n",
    "Licenced to:ABC Company\n",
    "'''\n",
    "import os   #importing the os module\n",
    "print(\"Hello World\")"
   ]
  },
  {
   "cell_type": "markdown",
   "id": "bdbc5d51",
   "metadata": {},
   "source": [
    "## Chapter-1 Practice Set"
   ]
  },
  {
   "cell_type": "code",
   "execution_count": 1,
   "id": "d2ba7207",
   "metadata": {},
   "outputs": [
    {
     "ename": "SyntaxError",
     "evalue": "EOL while scanning string literal (Temp/ipykernel_9204/2863357997.py, line 2)",
     "output_type": "error",
     "traceback": [
      "\u001b[1;36m  File \u001b[1;32m\"C:\\Users\\iasms\\AppData\\Local\\Temp/ipykernel_9204/2863357997.py\"\u001b[1;36m, line \u001b[1;32m2\u001b[0m\n\u001b[1;33m    print(\"Twinkle, twinkle,little star,\u001b[0m\n\u001b[1;37m                                        ^\u001b[0m\n\u001b[1;31mSyntaxError\u001b[0m\u001b[1;31m:\u001b[0m EOL while scanning string literal\n"
     ]
    }
   ],
   "source": [
    " # Problem-1\n",
    "print(\"Twinkle, twinkle,little star,\n",
    "      How I wondow what you are!\n",
    "      Up above the world so high\n",
    "      Like a diamond in the sky.\")\n",
    "# error as we can't print multiple stting lines using double quote"
   ]
  },
  {
   "cell_type": "code",
   "execution_count": 9,
   "id": "d0c8c236",
   "metadata": {},
   "outputs": [
    {
     "name": "stdout",
     "output_type": "stream",
     "text": [
      "Twinkle, twinkle,little star,\n",
      "      How I wondow what you are!\n",
      "      Up above the world so high\n",
      "      Like a diamond in the sky.\n"
     ]
    }
   ],
   "source": [
    "print('''Twinkle, twinkle,little star,\n",
    "      How I wondow what you are!\n",
    "      Up above the world so high\n",
    "      Like a diamond in the sky.''')"
   ]
  },
  {
   "cell_type": "code",
   "execution_count": 10,
   "id": "e156db6d",
   "metadata": {},
   "outputs": [
    {
     "name": "stdout",
     "output_type": "stream",
     "text": [
      "Twinkle, twinkle,little star,\n",
      "How I wondow what you are!\n",
      "Up above the world so high\n",
      "Like a diamond in the sky.\n"
     ]
    }
   ],
   "source": [
    "print('''Twinkle, twinkle,little star,\n",
    "How I wondow what you are!\n",
    "Up above the world so high\n",
    "Like a diamond in the sky.''')"
   ]
  },
  {
   "cell_type": "code",
   "execution_count": 11,
   "id": "0f4ae1a1",
   "metadata": {},
   "outputs": [
    {
     "name": "stdout",
     "output_type": "stream",
     "text": [
      "Twinkle, twinkle,little star,\n",
      "How I wondow what you are!\n",
      "Up above the world so high\n",
      "Like a diamond in the sky.\n"
     ]
    }
   ],
   "source": [
    "'''\n",
    "this is the solution of problem 1\n",
    "'''\n",
    "print('''Twinkle, twinkle,little star,\n",
    "How I wondow what you are!\n",
    "Up above the world so high\n",
    "Like a diamond in the sky.''')"
   ]
  },
  {
   "cell_type": "markdown",
   "id": "7c44103e",
   "metadata": {},
   "source": []
  },
  {
   "cell_type": "code",
   "execution_count": null,
   "id": "36f2c3c0",
   "metadata": {},
   "outputs": [],
   "source": []
  },
  {
   "cell_type": "code",
   "execution_count": null,
   "id": "57faf5b3",
   "metadata": {},
   "outputs": [],
   "source": []
  },
  {
   "cell_type": "markdown",
   "id": "330d600c",
   "metadata": {},
   "source": [
    "# Chapter-2"
   ]
  },
  {
   "cell_type": "code",
   "execution_count": 12,
   "id": "114ecb13",
   "metadata": {},
   "outputs": [
    {
     "name": "stdout",
     "output_type": "stream",
     "text": [
      "Smruti\n",
      "Smruti\n",
      "Smruti\n",
      "321\n",
      "82.67\n",
      "True\n",
      "<class 'str'>\n",
      "<class 'str'>\n",
      "<class 'str'>\n",
      "<class 'int'>\n",
      "<class 'float'>\n",
      "<class 'bool'>\n"
     ]
    }
   ],
   "source": [
    "a = \"Smruti\"\n",
    "b = 'Smruti'\n",
    "c = '''Smruti'''\n",
    "d = 321\n",
    "e = 82.67\n",
    "f = True\n",
    "#f = None\n",
    "\n",
    "#printing the variables\n",
    "print(a)\n",
    "print(b)\n",
    "print(c)\n",
    "print(d)\n",
    "print(e)\n",
    "print(f)\n",
    "\n",
    "#printing the type of variables\n",
    "print(type(a))\n",
    "print(type(b))\n",
    "print(type(c))\n",
    "print(type(d))\n",
    "print(type(e))\n",
    "print(type(f))"
   ]
  },
  {
   "cell_type": "code",
   "execution_count": 13,
   "id": "2d0f43c3",
   "metadata": {},
   "outputs": [
    {
     "name": "stdout",
     "output_type": "stream",
     "text": [
      "37\n",
      "67\n"
     ]
    }
   ],
   "source": [
    "a = 37\n",
    "print(a)\n",
    "A = 67\n",
    "print(A)"
   ]
  },
  {
   "cell_type": "code",
   "execution_count": 27,
   "id": "74838acf",
   "metadata": {},
   "outputs": [
    {
     "name": "stdout",
     "output_type": "stream",
     "text": [
      "The value of 12 + 13 is  25\n",
      "The value of 12-13 is  -1\n",
      "The value of 12*13 is  156\n",
      "The value of 12/13 is  4.0\n",
      "36\n",
      "32\n",
      "64\n",
      "8.0\n",
      "False\n",
      "True\n",
      "True\n",
      "The value of bool1 and bool2 is False\n",
      "The value of bool1 and bool2 is True\n",
      "The value of bool1 and bool2 is True\n"
     ]
    }
   ],
   "source": [
    "#Arithmetic Operator\n",
    "a = 12\n",
    "b = 13\n",
    "print('The value of 12 + 13 is ', 12+13)\n",
    "print('The value of 12-13 is ', 12-13)\n",
    "print('The value of 12*13 is ', 12*13)\n",
    "print('The value of 12/13 is ', 12/3)\n",
    "\n",
    "#Assignment Operator\n",
    "a = 34\n",
    "a += 2\n",
    "print(a)\n",
    "a -= 4\n",
    "print(a)\n",
    "a *= 2\n",
    "print(a)\n",
    "a /= 8\n",
    "print(a)\n",
    "\n",
    "#Comparision Operator\n",
    "b = (4>7)\n",
    "print(b)\n",
    "b = (20<23)\n",
    "print(b)\n",
    "# b = (14<=7)\n",
    "# b = (14>=7)\n",
    "# b = (14==7)\n",
    "b = (14 != 7)\n",
    "print(b)\n",
    "\n",
    "# Logical Operators\n",
    "bool1 = True\n",
    "bool2 = False\n",
    "print(\"The value of bool1 and bool2 is\",(bool1 and bool2))\n",
    "print(\"The value of bool1 and bool2 is\",(bool1 or bool2))\n",
    "print(\"The value of bool1 and bool2 is\",(not bool2))"
   ]
  },
  {
   "cell_type": "code",
   "execution_count": 2,
   "id": "da8533eb",
   "metadata": {},
   "outputs": [
    {
     "name": "stdout",
     "output_type": "stream",
     "text": [
      "<class 'str'>\n"
     ]
    },
    {
     "ename": "TypeError",
     "evalue": "can only concatenate str (not \"int\") to str",
     "output_type": "error",
     "traceback": [
      "\u001b[1;31m---------------------------------------------------------------------------\u001b[0m",
      "\u001b[1;31mTypeError\u001b[0m                                 Traceback (most recent call last)",
      "\u001b[1;32m~\\AppData\\Local\\Temp/ipykernel_9204/544757961.py\u001b[0m in \u001b[0;36m<module>\u001b[1;34m\u001b[0m\n\u001b[0;32m      1\u001b[0m \u001b[0ma\u001b[0m \u001b[1;33m=\u001b[0m \u001b[1;34m'3434'\u001b[0m\u001b[1;33m\u001b[0m\u001b[1;33m\u001b[0m\u001b[0m\n\u001b[0;32m      2\u001b[0m \u001b[0mprint\u001b[0m\u001b[1;33m(\u001b[0m\u001b[0mtype\u001b[0m\u001b[1;33m(\u001b[0m\u001b[0ma\u001b[0m\u001b[1;33m)\u001b[0m\u001b[1;33m)\u001b[0m\u001b[1;33m\u001b[0m\u001b[1;33m\u001b[0m\u001b[0m\n\u001b[1;32m----> 3\u001b[1;33m \u001b[0mprint\u001b[0m\u001b[1;33m(\u001b[0m\u001b[0ma\u001b[0m\u001b[1;33m+\u001b[0m\u001b[1;36m5\u001b[0m\u001b[1;33m)\u001b[0m\u001b[1;33m\u001b[0m\u001b[1;33m\u001b[0m\u001b[0m\n\u001b[0m",
      "\u001b[1;31mTypeError\u001b[0m: can only concatenate str (not \"int\") to str"
     ]
    }
   ],
   "source": [
    "a = '3434'\n",
    "print(type(a))\n",
    "print(a+5)"
   ]
  },
  {
   "cell_type": "code",
   "execution_count": 4,
   "id": "3175a710",
   "metadata": {},
   "outputs": [
    {
     "name": "stdout",
     "output_type": "stream",
     "text": [
      "<class 'str'>\n",
      "<class 'int'>\n",
      "3439\n"
     ]
    }
   ],
   "source": [
    "a = '3434'\n",
    "print(type(a))\n",
    "a = int(a)\n",
    "print(type(a))\n",
    "print(a+5)"
   ]
  },
  {
   "cell_type": "code",
   "execution_count": 31,
   "id": "df43bfbf",
   "metadata": {},
   "outputs": [
    {
     "name": "stdout",
     "output_type": "stream",
     "text": [
      "<class 'str'>\n"
     ]
    },
    {
     "ename": "ValueError",
     "evalue": "invalid literal for int() with base 10: '67hf6fhgggds7'",
     "output_type": "error",
     "traceback": [
      "\u001b[1;31m---------------------------------------------------------------------------\u001b[0m",
      "\u001b[1;31mValueError\u001b[0m                                Traceback (most recent call last)",
      "\u001b[1;32m~\\AppData\\Local\\Temp/ipykernel_10960/3989325104.py\u001b[0m in \u001b[0;36m<module>\u001b[1;34m\u001b[0m\n\u001b[0;32m      1\u001b[0m \u001b[0ma\u001b[0m \u001b[1;33m=\u001b[0m \u001b[1;34m\"67hf6fhgggds7\"\u001b[0m\u001b[1;33m\u001b[0m\u001b[1;33m\u001b[0m\u001b[0m\n\u001b[0;32m      2\u001b[0m \u001b[0mprint\u001b[0m\u001b[1;33m(\u001b[0m\u001b[0mtype\u001b[0m\u001b[1;33m(\u001b[0m\u001b[0ma\u001b[0m\u001b[1;33m)\u001b[0m\u001b[1;33m)\u001b[0m\u001b[1;33m\u001b[0m\u001b[1;33m\u001b[0m\u001b[0m\n\u001b[1;32m----> 3\u001b[1;33m \u001b[0ma\u001b[0m \u001b[1;33m=\u001b[0m \u001b[0mint\u001b[0m\u001b[1;33m(\u001b[0m\u001b[0ma\u001b[0m\u001b[1;33m)\u001b[0m\u001b[1;33m\u001b[0m\u001b[1;33m\u001b[0m\u001b[0m\n\u001b[0m\u001b[0;32m      4\u001b[0m \u001b[0mprint\u001b[0m\u001b[1;33m(\u001b[0m\u001b[0mtype\u001b[0m\u001b[1;33m(\u001b[0m\u001b[0ma\u001b[0m\u001b[1;33m)\u001b[0m\u001b[1;33m)\u001b[0m\u001b[1;33m\u001b[0m\u001b[1;33m\u001b[0m\u001b[0m\n",
      "\u001b[1;31mValueError\u001b[0m: invalid literal for int() with base 10: '67hf6fhgggds7'"
     ]
    }
   ],
   "source": [
    "a = \"67hf6fhgggds7\"\n",
    "print(type(a))\n",
    "a = int(a)\n",
    "print(type(a))"
   ]
  },
  {
   "cell_type": "code",
   "execution_count": 34,
   "id": "b6657ce7",
   "metadata": {},
   "outputs": [
    {
     "name": "stdout",
     "output_type": "stream",
     "text": [
      "Enter your name Smruti Ranjan\n",
      "Smruti Ranjan\n"
     ]
    },
    {
     "data": {
      "text/plain": [
       "str"
      ]
     },
     "execution_count": 34,
     "metadata": {},
     "output_type": "execute_result"
    }
   ],
   "source": [
    "a = input(\"Enter your name \")\n",
    "print(a)\n",
    "print(type(a))"
   ]
  },
  {
   "cell_type": "code",
   "execution_count": 35,
   "id": "cc39ac4d",
   "metadata": {},
   "outputs": [
    {
     "name": "stdout",
     "output_type": "stream",
     "text": [
      "Enter your name 89\n",
      "89\n",
      "<class 'str'>\n"
     ]
    }
   ],
   "source": [
    "a = input(\"Enter your name \")\n",
    "print(a)\n",
    "print(type(a))"
   ]
  },
  {
   "cell_type": "code",
   "execution_count": 6,
   "id": "6bf11d27",
   "metadata": {},
   "outputs": [
    {
     "name": "stdout",
     "output_type": "stream",
     "text": [
      "Enter your name 12\n",
      "12\n",
      "<class 'str'>\n",
      "<class 'int'>\n"
     ]
    }
   ],
   "source": [
    "a = input(\"Enter your name \")\n",
    "print(a)\n",
    "print(type(a))\n",
    "a=int(a)  # convert a to an integer(if possible)\n",
    "print(type(a))"
   ]
  },
  {
   "cell_type": "markdown",
   "id": "43456f6c",
   "metadata": {},
   "source": [
    "## Chapter-2 Practice"
   ]
  },
  {
   "cell_type": "code",
   "execution_count": 38,
   "id": "320f8833",
   "metadata": {},
   "outputs": [
    {
     "name": "stdout",
     "output_type": "stream",
     "text": [
      "Enter First number : 23\n",
      "Enter Second Number : 45\n",
      "Sum is 68\n"
     ]
    }
   ],
   "source": [
    "num1 = int(input(\"Enter First number : \"))\n",
    "num2 = int(input(\"Enter Second Number : \"))\n",
    "print(\"Sum is\", num1+num2)"
   ]
  },
  {
   "cell_type": "code",
   "execution_count": 41,
   "id": "30275af0",
   "metadata": {},
   "outputs": [
    {
     "name": "stdout",
     "output_type": "stream",
     "text": [
      "Enter First number : 56\n",
      "Enter Second Number : 32\n",
      "The remainder when a is divided by b is 24\n"
     ]
    }
   ],
   "source": [
    "num1 = int(input(\"Enter First number : \"))\n",
    "num2 = int(input(\"Enter Second Number : \"))\n",
    "print(\"The remainder when a is divided by b is\", num1%num2)"
   ]
  },
  {
   "cell_type": "code",
   "execution_count": 43,
   "id": "9b7cc0ba",
   "metadata": {},
   "outputs": [
    {
     "name": "stdout",
     "output_type": "stream",
     "text": [
      "Enter First number : 23\n",
      "Enter Second Number : 43\n",
      "False\n"
     ]
    }
   ],
   "source": [
    "num1 = int(input(\"Enter First number : \"))\n",
    "num2 = int(input(\"Enter Second Number : \"))\n",
    "print(num1>num2)"
   ]
  },
  {
   "cell_type": "code",
   "execution_count": 44,
   "id": "afe8c69a",
   "metadata": {},
   "outputs": [
    {
     "name": "stdout",
     "output_type": "stream",
     "text": [
      "Enter First number : 23\n",
      "Enter Second Number : 33\n",
      "28.0\n"
     ]
    }
   ],
   "source": [
    "num1 = int(input(\"Enter First number : \"))\n",
    "num2 = int(input(\"Enter Second Number : \"))\n",
    "avg = (num1+num2)/2\n",
    "print(avg)"
   ]
  },
  {
   "cell_type": "code",
   "execution_count": 45,
   "id": "b5aed5c3",
   "metadata": {},
   "outputs": [
    {
     "name": "stdout",
     "output_type": "stream",
     "text": [
      "Enter First number : 21\n",
      "441\n"
     ]
    }
   ],
   "source": [
    "num = int(input(\"Enter First number : \"))\n",
    "square = num*num\n",
    "print(square)"
   ]
  },
  {
   "cell_type": "code",
   "execution_count": null,
   "id": "0d05fb3b",
   "metadata": {},
   "outputs": [],
   "source": []
  },
  {
   "cell_type": "code",
   "execution_count": null,
   "id": "aaabf1a3",
   "metadata": {},
   "outputs": [],
   "source": []
  },
  {
   "cell_type": "markdown",
   "id": "19ae1e37",
   "metadata": {},
   "source": [
    "# Chapter- 3 "
   ]
  },
  {
   "cell_type": "code",
   "execution_count": 47,
   "id": "30991cb3",
   "metadata": {},
   "outputs": [
    {
     "name": "stdout",
     "output_type": "stream",
     "text": [
      "31 SMRUTI\n",
      "<class 'int'>\n",
      "<class 'str'>\n"
     ]
    }
   ],
   "source": [
    "a = 31\n",
    "b = 'SMRUTI'\n",
    "print(a, b)\n",
    "print(type(a))\n",
    "print(type(b))"
   ]
  },
  {
   "cell_type": "code",
   "execution_count": 49,
   "id": "a6210f24",
   "metadata": {},
   "outputs": [
    {
     "name": "stdout",
     "output_type": "stream",
     "text": [
      "Harry's\n"
     ]
    }
   ],
   "source": [
    "# a = 'Smruti's'\n",
    "# print(a)\n",
    "a = \"Harry's\"\n",
    "print(a)"
   ]
  },
  {
   "cell_type": "code",
   "execution_count": 50,
   "id": "3fdb0ad1",
   "metadata": {},
   "outputs": [
    {
     "name": "stdout",
     "output_type": "stream",
     "text": [
      "Harry\"s\n"
     ]
    }
   ],
   "source": [
    "a = 'Harry\"s'\n",
    "print(a)"
   ]
  },
  {
   "cell_type": "code",
   "execution_count": 51,
   "id": "02f8af0f",
   "metadata": {},
   "outputs": [
    {
     "name": "stdout",
     "output_type": "stream",
     "text": [
      "\"Harry's\" and\n",
      "  Harry\"s\n"
     ]
    }
   ],
   "source": [
    "a = '''\"Harry's\" and\n",
    "  Harry\"s'''\n",
    "print(a)"
   ]
  },
  {
   "cell_type": "code",
   "execution_count": 66,
   "id": "b18108d7",
   "metadata": {},
   "outputs": [
    {
     "name": "stdout",
     "output_type": "stream",
     "text": [
      "Good Morning, SMRUTI\n",
      "S\n",
      "T\n",
      "SMR\n",
      "SMRUT\n",
      "MR\n",
      "SMRUT\n",
      "SMRUTI\n",
      "\n",
      "RUT\n",
      "MRUTI\n",
      "SRT\n"
     ]
    }
   ],
   "source": [
    "greeting = \"Good Morning, \"\n",
    "name = \"SMRUTI\"\n",
    "# print(type(name))\n",
    "# Concatenating 2 strings\n",
    "# print(greeting + name)\n",
    "c = greeting + name\n",
    "print(c)\n",
    "print(name[0])\n",
    "print(name[4])\n",
    "# print(name[9])\n",
    "# name[2] = \"d\"   ---> does not work\n",
    "\n",
    "print(name[0:3])\n",
    "print(name[0:5])\n",
    "print(name[1:3])\n",
    "print(name[:5])\n",
    "print(name[0:])\n",
    "print(name[0:0])\n",
    "\n",
    "print(name[-4:-1])\n",
    "print(name[-5:])\n",
    "\n",
    "# d = name[1:6:2] # MUI\n",
    "d = name[1:6:3] # MT\n",
    "d = name[0::2]  # SRT\n",
    "print(d) "
   ]
  },
  {
   "cell_type": "markdown",
   "id": "20a85f5d",
   "metadata": {},
   "source": [
    "### String Functions"
   ]
  },
  {
   "cell_type": "code",
   "execution_count": 81,
   "id": "d7f1b77a",
   "metadata": {},
   "outputs": [
    {
     "name": "stdout",
     "output_type": "stream",
     "text": [
      "82\n",
      "once upon a passt there was a Hero in past passt named Smruti who was a great Person\n"
     ]
    }
   ],
   "source": [
    "story = \"once upon a time there was a Hero in past time named Smruti who was a great Person\"\n",
    "# print(story[0:9])\n",
    "# print(story[1:34])\n",
    "\n",
    "print(len(story))\n",
    "# print(story.endswith(\"jnbdjn\"))\n",
    "# print(story.endswith(\"Person\"))\n",
    "# print(story.endswith(\"person\"))\n",
    "\n",
    "# print(story.count(\"s\"))\n",
    "# print(story.count(\"time\"))\n",
    "\n",
    "# print(story.capitalize())\n",
    "\n",
    "# print(story.find(\"SMRUTI\"))\n",
    "# print(story.find(\"Smruti\"))  \n",
    "# print(story.find(\"upon\"))\n",
    "\n",
    "# print(story.replace(\"Smruti\",\"SMRUTI\"))\n",
    "# print(story.replace(\"Smruti\",\"SMRUTI\"))\n",
    "print(story.replace(\"time\",\"passt\"))\n",
    "\n"
   ]
  },
  {
   "cell_type": "code",
   "execution_count": 85,
   "id": "d469a43f",
   "metadata": {},
   "outputs": [
    {
     "name": "stdout",
     "output_type": "stream",
     "text": [
      "Smruti is good. \n",
      "He \t is ve\\ry good\n"
     ]
    }
   ],
   "source": [
    "# story = \"Smruti is good. \\nHe \\t is very good\"\n",
    "story = \"Smruti is good. \\nHe \\t is ve\\\\ry good\"\n",
    "print(story)"
   ]
  },
  {
   "cell_type": "code",
   "execution_count": null,
   "id": "2d8e94ff",
   "metadata": {},
   "outputs": [],
   "source": []
  },
  {
   "cell_type": "code",
   "execution_count": null,
   "id": "32997e64",
   "metadata": {},
   "outputs": [],
   "source": []
  },
  {
   "cell_type": "markdown",
   "id": "6ca0851b",
   "metadata": {},
   "source": [
    "## Chapter-3 Practice Set"
   ]
  },
  {
   "cell_type": "code",
   "execution_count": 87,
   "id": "3773f454",
   "metadata": {},
   "outputs": [
    {
     "name": "stdout",
     "output_type": "stream",
     "text": [
      "Enter your name SMRUTI\n",
      "Good Afternoon, SMRUTI\n"
     ]
    }
   ],
   "source": [
    "name = input(\"Enter your name \")\n",
    "print(\"Good Afternoon, \" + name)"
   ]
  },
  {
   "cell_type": "code",
   "execution_count": 2,
   "id": "3038d22e",
   "metadata": {},
   "outputs": [
    {
     "name": "stdout",
     "output_type": "stream",
     "text": [
      "Enter your name\n",
      "SMRUTI\n",
      "Enter Date\n",
      "30 november\n",
      "Dear SMRUTI,\n",
      "Greetings from Google. We are happy to tell about your selection\n",
      "You are selected!\n",
      "Have a Great day ahead\n",
      "Date: 30 november\n",
      "\n"
     ]
    }
   ],
   "source": [
    "letter = '''Dear <|NAME|>,\n",
    "Greetings from Google. We are happy to tell about your selection\n",
    "You are selected!\n",
    "Have a Great day ahead\n",
    "Date: <|DATE|>\n",
    "'''\n",
    "name = input(\"Enter your name\\n\")\n",
    "date = input(\"Enter Date\\n\")\n",
    "letter = letter.replace(\"<|NAME|>\", name)\n",
    "letter = letter.replace(\"<|DATE|>\", date)\n",
    "print(letter)"
   ]
  },
  {
   "cell_type": "code",
   "execution_count": 3,
   "id": "6d29626f",
   "metadata": {},
   "outputs": [
    {
     "name": "stdout",
     "output_type": "stream",
     "text": [
      "28\n"
     ]
    }
   ],
   "source": [
    "st = \"This is a string with double   spaces\"\n",
    "doubleSpaces = st.find(\"  \")\n",
    "print(doubleSpaces)"
   ]
  },
  {
   "cell_type": "code",
   "execution_count": 10,
   "id": "7d587d31",
   "metadata": {},
   "outputs": [
    {
     "name": "stdout",
     "output_type": "stream",
     "text": [
      "This is a string with double spaces\n"
     ]
    }
   ],
   "source": [
    "st = \"This is a string with double   spaces\"\n",
    "# st = st.replace(\"\",\"  \")\n",
    "st = st.replace(\"   \",\" \")\n",
    "print(st)"
   ]
  },
  {
   "cell_type": "code",
   "execution_count": 5,
   "id": "f4f0a991",
   "metadata": {},
   "outputs": [
    {
     "name": "stdout",
     "output_type": "stream",
     "text": [
      "Dear Harry, This Python course is nice! Thanks!\n",
      "Dear Harry, \n",
      "\t This Python course is nice! Thanks\n"
     ]
    }
   ],
   "source": [
    "letter = \"Dear Harry, This Python course is nice! Thanks!\"\n",
    "print(letter)\n",
    "\n",
    "formatted_letter = \"Dear Harry, \\n\\t This Python course is nice! Thanks\"\n",
    "print(formatted_letter) "
   ]
  },
  {
   "cell_type": "code",
   "execution_count": null,
   "id": "c3c1011a",
   "metadata": {},
   "outputs": [],
   "source": []
  },
  {
   "cell_type": "code",
   "execution_count": null,
   "id": "e615f18e",
   "metadata": {},
   "outputs": [],
   "source": []
  },
  {
   "cell_type": "code",
   "execution_count": null,
   "id": "1c94a52c",
   "metadata": {},
   "outputs": [],
   "source": []
  },
  {
   "cell_type": "markdown",
   "id": "08dd91b7",
   "metadata": {},
   "source": [
    "# Chapter 5"
   ]
  },
  {
   "cell_type": "code",
   "execution_count": 11,
   "id": "a0006ea8",
   "metadata": {},
   "outputs": [
    {
     "name": "stdout",
     "output_type": "stream",
     "text": [
      "[1, 2, 3, 6, 56, 9, 0]\n"
     ]
    }
   ],
   "source": [
    "#orderded collection\n",
    "# create a list using []\n",
    "a = [1,2,3,6,56,9,0]\n",
    "# print using print() function\n",
    "print(a)"
   ]
  },
  {
   "cell_type": "code",
   "execution_count": 14,
   "id": "da6c26f2",
   "metadata": {},
   "outputs": [
    {
     "name": "stdout",
     "output_type": "stream",
     "text": [
      "3\n",
      "9\n",
      "0\n"
     ]
    }
   ],
   "source": [
    "#acess using index using a[0],a[1],a[2]...\n",
    "print(a[2])\n",
    "print(a[5])\n",
    "print(a[6])\n",
    "# print(a[9])"
   ]
  },
  {
   "cell_type": "code",
   "execution_count": 15,
   "id": "1054ddbe",
   "metadata": {},
   "outputs": [
    {
     "name": "stdout",
     "output_type": "stream",
     "text": [
      "1\n",
      "[1, 88, 3, 6, 56, 9, 0]\n"
     ]
    }
   ],
   "source": [
    "print(a[0])\n",
    "# change the value of list\n",
    "a[1]=88\n",
    "print(a)"
   ]
  },
  {
   "cell_type": "code",
   "execution_count": 17,
   "id": "a30fc75b",
   "metadata": {},
   "outputs": [
    {
     "name": "stdout",
     "output_type": "stream",
     "text": [
      "[45, 'SMRUTI', False, 4.9]\n",
      "<class 'list'>\n"
     ]
    }
   ],
   "source": [
    "# we can create a list with items of different list\n",
    "c = [45, \"SMRUTI\",False, 4.9]\n",
    "print(c)\n",
    "print(type(c))"
   ]
  },
  {
   "cell_type": "code",
   "execution_count": 26,
   "id": "8ff6468c",
   "metadata": {},
   "outputs": [
    {
     "name": "stdout",
     "output_type": "stream",
     "text": [
      "['smruti', 'omm', 'abhisekh', 'chinmaya']\n",
      "['smruti', 'omm', 'abhisekh', 'chinmaya', 'baishali']\n",
      "['smruti', 'omm', 'abhisekh', 'chinmaya', 'baishali']\n",
      "['smruti', 'omm', 'abhisekh', 'chinmaya', 'baishali']\n",
      "[]\n",
      "['chinmaya', 'baishali']\n",
      "['omm', 'abhisekh', 'chinmaya', 'baishali']\n",
      "['smruti', 'omm']\n",
      "['smruti']\n"
     ]
    }
   ],
   "source": [
    "# list slicing\n",
    "friends = [\"smruti\", \"omm\", \"abhisekh\", \"chinmaya\", \"baishali\"]\n",
    "print(friends[0:4])\n",
    "print(friends[:5])\n",
    "print(friends[:6])\n",
    "print(friends[:])\n",
    "print(friends[:0])\n",
    "print(friends[3:9])\n",
    "print(friends[-4:])\n",
    "print(friends[:-3])\n",
    "print(friends[:-4])"
   ]
  },
  {
   "cell_type": "code",
   "execution_count": 40,
   "id": "36877509",
   "metadata": {},
   "outputs": [
    {
     "name": "stdout",
     "output_type": "stream",
     "text": [
      "[15, 21, 2, 7, 8, 1]\n",
      "[15, 21, 2, 7, 8, 1, 83]\n",
      "[15, 21, 2, 7, 8, 548, 1, 83]\n",
      "[15, 21, 2, 548, 1, 83]\n"
     ]
    }
   ],
   "source": [
    "# list methods\n",
    "l1 = [1,8,7,2,21,15]\n",
    "# l1_sorted=l1.sort()\n",
    "# print(l1_sorted) # return none\n",
    "# l1.sort() #sorts the list\n",
    "# print(l1)\n",
    "\n",
    "l1.reverse() # reverses the list\n",
    "print(l1)\n",
    "\n",
    "l1.append(83) # adds at the end of the list\n",
    "print(l1)\n",
    "\n",
    "# l1.insert(0,548)\n",
    "# l1.insert(2,548)\n",
    "l1.insert(5,548)\n",
    "print(l1)\n",
    "# l1.insert(19,54)\n",
    "# print(l1)\n",
    "\n",
    "l1.remove(8) #removes 8 from list\n",
    "l1.pop(3)  #removes element at index 2\n",
    "print(l1)"
   ]
  },
  {
   "cell_type": "code",
   "execution_count": null,
   "id": "8a62a344",
   "metadata": {},
   "outputs": [],
   "source": []
  },
  {
   "cell_type": "markdown",
   "id": "2b756b27",
   "metadata": {},
   "source": [
    "### Tuples"
   ]
  },
  {
   "cell_type": "code",
   "execution_count": 43,
   "id": "55115315",
   "metadata": {},
   "outputs": [
    {
     "name": "stdout",
     "output_type": "stream",
     "text": [
      "1\n"
     ]
    }
   ],
   "source": [
    "# creating a tiple using a ()\n",
    "t = (1,2,4,5)\n",
    "\n",
    "# printing elements of tuple\n",
    "print(t[0])\n",
    "\n",
    "# can not update the value of tuple\n",
    "# t[0] = 32  # throws an error"
   ]
  },
  {
   "cell_type": "code",
   "execution_count": 47,
   "id": "d42605e0",
   "metadata": {},
   "outputs": [
    {
     "name": "stdout",
     "output_type": "stream",
     "text": [
      "()\n",
      "<class 'tuple'>\n"
     ]
    }
   ],
   "source": [
    "t1 = () # empty tuple\n",
    "print(t1)\n",
    "print(type(t1))"
   ]
  },
  {
   "cell_type": "code",
   "execution_count": 2,
   "id": "bd7417f4",
   "metadata": {},
   "outputs": [
    {
     "name": "stdout",
     "output_type": "stream",
     "text": [
      "(2, 3)\n",
      "<class 'tuple'>\n"
     ]
    }
   ],
   "source": [
    "t2 = (2,3) # not a tuple\n",
    "print(t2)\n",
    "print(type(t2))"
   ]
  },
  {
   "cell_type": "code",
   "execution_count": 6,
   "id": "bed352de",
   "metadata": {},
   "outputs": [
    {
     "name": "stdout",
     "output_type": "stream",
     "text": [
      "2\n",
      "<class 'int'>\n"
     ]
    }
   ],
   "source": [
    "t2 = (2)\n",
    "print(t2)\n",
    "print(type(t2))"
   ]
  },
  {
   "cell_type": "code",
   "execution_count": 51,
   "id": "4e6e7704",
   "metadata": {},
   "outputs": [
    {
     "name": "stdout",
     "output_type": "stream",
     "text": [
      "2\n",
      "0\n",
      "2\n"
     ]
    }
   ],
   "source": [
    "# creating tuple methods\n",
    "t = (1,2,3,4,5,3,2,7,8,1)\n",
    "print(t.count(1))\n",
    "\n",
    "print(t.index(1))\n",
    "print(t.index(3))"
   ]
  },
  {
   "cell_type": "code",
   "execution_count": null,
   "id": "a1183d35",
   "metadata": {},
   "outputs": [],
   "source": []
  },
  {
   "cell_type": "code",
   "execution_count": null,
   "id": "e8801af2",
   "metadata": {},
   "outputs": [],
   "source": []
  },
  {
   "cell_type": "markdown",
   "id": "8e488901",
   "metadata": {},
   "source": [
    "## Practice Set"
   ]
  },
  {
   "cell_type": "code",
   "execution_count": 2,
   "id": "46177b21",
   "metadata": {},
   "outputs": [
    {
     "name": "stdout",
     "output_type": "stream",
     "text": [
      "Enter fruit number 1: Apple\n",
      "Enter fruit number 2: mango\n",
      "Enter fruit number 3: banana\n",
      "Enter fruit number 4: kiwi\n",
      "Enter fruit number 5: guava\n",
      "Enter fruit number 6: orange\n",
      "Enter fruit number 7: grapes\n",
      "['Apple', 'mango', 'banana', 'kiwi', 'guava', 'orange', 'grapes']\n"
     ]
    }
   ],
   "source": [
    "f1 = input(\"Enter fruit number 1: \")\n",
    "f2 = input(\"Enter fruit number 2: \")\n",
    "f3 = input(\"Enter fruit number 3: \")\n",
    "f4 = input(\"Enter fruit number 4: \")\n",
    "f5 = input(\"Enter fruit number 5: \")\n",
    "f6 = input(\"Enter fruit number 6: \")\n",
    "f7 = input(\"Enter fruit number 7: \")\n",
    "\n",
    "myFruitList = [f1,f2,f3,f4,f5,f6,f7]\n",
    "print(myFruitList)"
   ]
  },
  {
   "cell_type": "code",
   "execution_count": 7,
   "id": "65a3e486",
   "metadata": {},
   "outputs": [
    {
     "ename": "SyntaxError",
     "evalue": "cannot assign to function call (Temp/ipykernel_5492/3503195009.py, line 2)",
     "output_type": "error",
     "traceback": [
      "\u001b[1;36m  File \u001b[1;32m\"C:\\Users\\iasms\\AppData\\Local\\Temp/ipykernel_5492/3503195009.py\"\u001b[1;36m, line \u001b[1;32m2\u001b[0m\n\u001b[1;33m    a(0) = 34\u001b[0m\n\u001b[1;37m    ^\u001b[0m\n\u001b[1;31mSyntaxError\u001b[0m\u001b[1;31m:\u001b[0m cannot assign to function call\n"
     ]
    }
   ],
   "source": [
    "a = (2,4,5,7,3.9)\n",
    "a(0) = 34\n",
    "print(a)"
   ]
  },
  {
   "cell_type": "code",
   "execution_count": 6,
   "id": "a428a21b",
   "metadata": {},
   "outputs": [
    {
     "name": "stdout",
     "output_type": "stream",
     "text": [
      "64\n"
     ]
    }
   ],
   "source": [
    "a = [2,4,56,2]\n",
    "# print(a[0] + a[1] + a[2] + a[3])\n",
    "print(sum(a))"
   ]
  },
  {
   "cell_type": "code",
   "execution_count": 7,
   "id": "a7643ccc",
   "metadata": {},
   "outputs": [
    {
     "name": "stdout",
     "output_type": "stream",
     "text": [
      "3\n"
     ]
    }
   ],
   "source": [
    "a = (7,0,8,0,0,9)\n",
    "print(a.count(0))"
   ]
  },
  {
   "cell_type": "code",
   "execution_count": null,
   "id": "5576857f",
   "metadata": {},
   "outputs": [],
   "source": []
  },
  {
   "cell_type": "code",
   "execution_count": null,
   "id": "7ac03c57",
   "metadata": {},
   "outputs": [],
   "source": []
  },
  {
   "cell_type": "code",
   "execution_count": null,
   "id": "dc54ac43",
   "metadata": {},
   "outputs": [],
   "source": []
  },
  {
   "cell_type": "markdown",
   "id": "8a03a95b",
   "metadata": {},
   "source": [
    "# Chapter 5"
   ]
  },
  {
   "cell_type": "code",
   "execution_count": 9,
   "id": "576eade3",
   "metadata": {},
   "outputs": [
    {
     "name": "stdout",
     "output_type": "stream",
     "text": [
      "In a quick Manner\n",
      "A coder\n",
      "[1, 2, 5]\n"
     ]
    }
   ],
   "source": [
    "myDict = {\n",
    "    \"Fast\": \"In a quick Manner\",\n",
    "    \"Smruti\": \"A coder\",\n",
    "    \"Marks\" : [1,2,5]\n",
    "}\n",
    "print(myDict['Fast'])\n",
    "print(myDict['Smruti'])\n",
    "print(myDict['Marks'])"
   ]
  },
  {
   "cell_type": "code",
   "execution_count": null,
   "id": "225b8291",
   "metadata": {},
   "outputs": [],
   "source": []
  },
  {
   "cell_type": "code",
   "execution_count": null,
   "id": "a987b386",
   "metadata": {},
   "outputs": [],
   "source": []
  },
  {
   "cell_type": "code",
   "execution_count": null,
   "id": "9eb9f268",
   "metadata": {},
   "outputs": [],
   "source": []
  },
  {
   "cell_type": "markdown",
   "id": "fd26b96a",
   "metadata": {},
   "source": [
    "# Chapter 6"
   ]
  },
  {
   "cell_type": "code",
   "execution_count": 4,
   "id": "fa67c020",
   "metadata": {},
   "outputs": [
    {
     "name": "stdout",
     "output_type": "stream",
     "text": [
      "The value of a is greater than 3\n",
      "Done\n"
     ]
    }
   ],
   "source": [
    "a = 45\n",
    "if(a>3):\n",
    "    print(\"The value of a is greater than 3\")\n",
    "elif(a>7):\n",
    "    print(\"The value of a is greater than 7\")\n",
    "elif(a>13):\n",
    "    print(\"The value of a is greater than 13\")\n",
    "elif(a>17):\n",
    "    print(\"The value of a is greater than 17\")\n",
    "else:\n",
    "    print(\"Yhe value of a is not greater than 3 or 7\")\n",
    "    \n",
    "print(\"Done\")"
   ]
  },
  {
   "cell_type": "code",
   "execution_count": 7,
   "id": "1fa90423",
   "metadata": {},
   "outputs": [
    {
     "name": "stdout",
     "output_type": "stream",
     "text": [
      "The value of a is greater than 7  \n",
      "Yhe value of a is not greater than 3 or 7\n",
      "Done\n"
     ]
    }
   ],
   "source": [
    "# Multiple if statements\n",
    "\n",
    "a = 8\n",
    "if(a<3):\n",
    "    print(\"The value of a is greater than 3\") \n",
    "    \n",
    "if(a>13):\n",
    "    print(\"The value of a is greater than 13\")  \n",
    "\n",
    "if(a>7):\n",
    "    print(\"The value of a is greater than 7  \")\n",
    "    \n",
    "if(a>17):\n",
    "    print(\"The value of a is greater than 17\")\n",
    "else:\n",
    "    print(\"Yhe value of a is not greater than 3 or 7\")\n",
    "    \n",
    "print(\"Done\")"
   ]
  },
  {
   "cell_type": "code",
   "execution_count": 13,
   "id": "3c384925",
   "metadata": {},
   "outputs": [
    {
     "name": "stdout",
     "output_type": "stream",
     "text": [
      "Enter Your age23\n",
      "No\n"
     ]
    }
   ],
   "source": [
    "age = int(input(\"Enter Your age\"))\n",
    "if age>=18:\n",
    "    print(\"Yes\")\n",
    "else:\n",
    "    print(\"No\")"
   ]
  },
  {
   "cell_type": "code",
   "execution_count": 19,
   "id": "dc8d8d08",
   "metadata": {},
   "outputs": [
    {
     "name": "stdout",
     "output_type": "stream",
     "text": [
      "You can work with us\n"
     ]
    }
   ],
   "source": [
    "# age = 45\n",
    "age = 50\n",
    "# if(age>34 and age<56):\n",
    "if(age>34 or age<45):\n",
    "    print(\"You can work with us\")\n",
    "else:\n",
    "    print(\"You can't work with us\")"
   ]
  },
  {
   "cell_type": "code",
   "execution_count": 1,
   "id": "ad044495",
   "metadata": {},
   "outputs": [
    {
     "name": "stdout",
     "output_type": "stream",
     "text": [
      "Yes\n"
     ]
    }
   ],
   "source": [
    "a = None\n",
    "if (a is None):\n",
    "    print(\"Yes\")\n",
    "else:\n",
    "    print(\"No\")\n",
    "\n",
    "# a = [45, 56, 6]\n",
    "# print(435 in a)"
   ]
  },
  {
   "cell_type": "code",
   "execution_count": 2,
   "id": "2ef776cd",
   "metadata": {},
   "outputs": [
    {
     "name": "stdout",
     "output_type": "stream",
     "text": [
      "I am optional\n"
     ]
    }
   ],
   "source": [
    "a = 6\n",
    "if(a==7):\n",
    "    print(\"yes\")\n",
    "elif(a>56):\n",
    "    print(\"no and yes\")\n",
    "else:\n",
    "    print(\"I am optional\")"
   ]
  },
  {
   "cell_type": "markdown",
   "id": "a08d2de3",
   "metadata": {},
   "source": [
    "## Practice Set"
   ]
  },
  {
   "cell_type": "code",
   "execution_count": 3,
   "id": "2bd806ad",
   "metadata": {},
   "outputs": [
    {
     "name": "stdout",
     "output_type": "stream",
     "text": [
      "Enter number 1: 23\n",
      "Enter number 2: 45\n",
      "Enter number 3: 12\n",
      "Enter number 4: 5\n",
      "45 is greatest\n"
     ]
    }
   ],
   "source": [
    "num1 = int(input(\"Enter number 1: \"))\n",
    "num2 = int(input(\"Enter number 2: \"))\n",
    "num3 = int(input(\"Enter number 3: \"))\n",
    "num4 = int(input(\"Enter number 4: \"))\n",
    "\n",
    "if(num1>num4):\n",
    "    f1 = num1\n",
    "else:\n",
    "    f1 = num4\n",
    "\n",
    "if(num2>num3):\n",
    "    f2 = num2\n",
    "else:\n",
    "    f2 = num3\n",
    "\n",
    "if(f1>f2):\n",
    "    print(str(f1) + \" is greatest\")\n",
    "else:\n",
    "    print(str(f2) + \" is greatest\")"
   ]
  },
  {
   "cell_type": "code",
   "execution_count": 5,
   "id": "524cf9ed",
   "metadata": {},
   "outputs": [
    {
     "name": "stdout",
     "output_type": "stream",
     "text": [
      "Enter first subject marks\n",
      "67\n",
      "Enter second subject marks\n",
      "89\n",
      "Enter third subject marks\n",
      "54\n",
      "Congatulations! You passed the exam\n"
     ]
    }
   ],
   "source": [
    "sub1 = int(input(\"Enter first subject marks\\n\"))\n",
    "sub2 = int(input(\"Enter second subject marks\\n\"))\n",
    "sub3 = int(input(\"Enter third subject marks\\n\"))\n",
    "\n",
    "if(sub1<33 or sub2<33 or sub3<33):\n",
    "    print(\"You are fail because you have less than 33% in one of the subjects\")\n",
    "elif(sub1+sub2+sub3)/3 < 40:\n",
    "    print(\"You are fail due to total percentage less than 40\")\n",
    "else:\n",
    "    print(\"Congatulations! You passed the exam\")"
   ]
  },
  {
   "cell_type": "code",
   "execution_count": 7,
   "id": "fd79f676",
   "metadata": {},
   "outputs": [
    {
     "name": "stdout",
     "output_type": "stream",
     "text": [
      "Enter the text\n",
      "click this\n",
      "This text is spam\n"
     ]
    }
   ],
   "source": [
    "text = input(\"Enter the text\\n\")\n",
    "\n",
    "if(\"make a lot of money\" in text):\n",
    "    spam = True\n",
    "elif(\"buy now\" in text):\n",
    "    spam = True\n",
    "elif(\"click this\" in text):\n",
    "    spam = True\n",
    "elif(\"subscribe this\" in text):\n",
    "    spam = True\n",
    "else:\n",
    "    spam = False\n",
    "\n",
    "if(spam):\n",
    "    print(\"This text is spam\")\n",
    "else:\n",
    "    print(\"This text is not spam\")"
   ]
  },
  {
   "cell_type": "code",
   "execution_count": 9,
   "id": "e0988767",
   "metadata": {},
   "outputs": [
    {
     "name": "stdout",
     "output_type": "stream",
     "text": [
      "Enter the name to check\n",
      "rohit\n",
      "Your name is present in the list\n"
     ]
    }
   ],
   "source": [
    "names = [\"harry\", \"shubham\", \"rohit\", \"rohan\", \"aditi\", \"shipra\"]\n",
    "name = input(\"Enter the name to check\\n\")\n",
    "\n",
    "if name in names:\n",
    "    print(\"Your name is present in the list\")\n",
    "else:\n",
    "    print(\"Your name is not present in the list\")"
   ]
  },
  {
   "cell_type": "code",
   "execution_count": 11,
   "id": "56d06219",
   "metadata": {},
   "outputs": [
    {
     "name": "stdout",
     "output_type": "stream",
     "text": [
      "Enter Your Marks\n",
      "82\n",
      "Your grade is A\n"
     ]
    }
   ],
   "source": [
    "marks = int(input(\"Enter Your Marks\\n\"))\n",
    "\n",
    "if marks>=90:\n",
    "    grade = \"Ex\"\n",
    "elif marks>=80:\n",
    "    grade = \"A\"\n",
    "elif marks>=70:\n",
    "    grade = \"B\"\n",
    "elif marks>=60:\n",
    "    grade = \"C\"\n",
    "elif marks>=50:\n",
    "    grade = \"D\" \n",
    "else:\n",
    "    grade = \"F\"\n",
    "\n",
    "print(\"Your grade is \" + grade)"
   ]
  },
  {
   "cell_type": "code",
   "execution_count": 2,
   "id": "a2a1f238",
   "metadata": {},
   "outputs": [
    {
     "name": "stdout",
     "output_type": "stream",
     "text": [
      "Enter the username: SMRUTI\n",
      "The username has less than 10 characters\n"
     ]
    }
   ],
   "source": [
    "str = input(\"Enter the username: \")\n",
    "a = len(str)\n",
    "if a<10:\n",
    "    print(\"The username has less than 10 characters\")\n",
    "else:\n",
    "    print(\"The username has not less than 10 characters\")\n",
    "    "
   ]
  },
  {
   "cell_type": "code",
   "execution_count": null,
   "id": "762c3d81",
   "metadata": {},
   "outputs": [],
   "source": [
    "post = input(\"Enter the post: \")\n"
   ]
  },
  {
   "cell_type": "code",
   "execution_count": null,
   "id": "c6d5d8ab",
   "metadata": {},
   "outputs": [],
   "source": []
  },
  {
   "cell_type": "code",
   "execution_count": null,
   "id": "21bb5b4d",
   "metadata": {},
   "outputs": [],
   "source": []
  },
  {
   "cell_type": "code",
   "execution_count": null,
   "id": "16cb58b5",
   "metadata": {},
   "outputs": [],
   "source": []
  },
  {
   "cell_type": "markdown",
   "id": "ffd42072",
   "metadata": {},
   "source": [
    "# Chapter 7"
   ]
  },
  {
   "cell_type": "code",
   "execution_count": 7,
   "id": "4f2977f5",
   "metadata": {},
   "outputs": [
    {
     "name": "stdout",
     "output_type": "stream",
     "text": [
      "Yes\n",
      "Yes\n",
      "Yes\n",
      "Yes\n",
      "Yes\n",
      "Yes\n",
      "Yes\n",
      "Yes\n",
      "Yes\n",
      "Yes\n",
      "Done\n"
     ]
    }
   ],
   "source": [
    " i = 0\n",
    "while i<10:\n",
    "    print(\"Yes\")\n",
    "    i = i + 1\n",
    "\n",
    "print(\"Done\")"
   ]
  },
  {
   "cell_type": "code",
   "execution_count": 8,
   "id": "9bec269d",
   "metadata": {},
   "outputs": [
    {
     "name": "stdout",
     "output_type": "stream",
     "text": [
      "1\n",
      "2\n",
      "3\n",
      "4\n",
      "5\n",
      "6\n",
      "7\n",
      "8\n",
      "9\n",
      "10\n",
      "11\n",
      "12\n",
      "13\n",
      "14\n",
      "15\n",
      "16\n",
      "17\n",
      "18\n",
      "19\n",
      "20\n",
      "21\n",
      "22\n",
      "23\n",
      "24\n",
      "25\n",
      "26\n",
      "27\n",
      "28\n",
      "29\n",
      "30\n",
      "31\n",
      "32\n",
      "33\n",
      "34\n",
      "35\n",
      "36\n",
      "37\n",
      "38\n",
      "39\n",
      "40\n",
      "41\n",
      "42\n",
      "43\n",
      "44\n",
      "45\n",
      "46\n",
      "47\n",
      "48\n",
      "49\n",
      "50\n"
     ]
    }
   ],
   "source": [
    "i = 1\n",
    "\n",
    "while i<=50:\n",
    "    print(i)\n",
    "    i = i + 1"
   ]
  },
  {
   "cell_type": "code",
   "execution_count": 9,
   "id": "477a65eb",
   "metadata": {},
   "outputs": [
    {
     "name": "stdout",
     "output_type": "stream",
     "text": [
      "SMRUTI\n",
      "SMRUTI\n",
      "SMRUTI\n",
      "SMRUTI\n",
      "SMRUTI\n"
     ]
    }
   ],
   "source": [
    "i = 0\n",
    "while i<5:\n",
    "    print(\"SMRUTI\")\n",
    "    i = i+1"
   ]
  },
  {
   "cell_type": "code",
   "execution_count": 10,
   "id": "ebc07259",
   "metadata": {},
   "outputs": [
    {
     "name": "stdout",
     "output_type": "stream",
     "text": [
      "Banana\n",
      "Watermelon\n",
      "Grapes\n",
      "Mangoes\n"
     ]
    }
   ],
   "source": [
    "fruits = ['Banana', 'Watermelon', 'Grapes', 'Mangoes']\n",
    "i = 0\n",
    "while i<len(fruits):\n",
    "    print(fruits[i])\n",
    "    i = i+1"
   ]
  },
  {
   "cell_type": "code",
   "execution_count": 11,
   "id": "efe9706c",
   "metadata": {},
   "outputs": [
    {
     "name": "stdout",
     "output_type": "stream",
     "text": [
      "Banana\n",
      "Watermelon\n",
      "Grapes\n",
      "Mangoes\n"
     ]
    }
   ],
   "source": [
    "fruits = ['Banana', 'Watermelon', 'Grapes', 'Mangoes']\n",
    "\n",
    "for item in fruits:\n",
    "    print(item)"
   ]
  },
  {
   "cell_type": "code",
   "execution_count": 12,
   "id": "4fc64fa4",
   "metadata": {},
   "outputs": [
    {
     "name": "stdout",
     "output_type": "stream",
     "text": [
      "1\n",
      "2\n",
      "3\n",
      "4\n",
      "5\n",
      "6\n",
      "7\n"
     ]
    }
   ],
   "source": [
    "for i in range(1, 8, 1):\n",
    "    print(i)"
   ]
  },
  {
   "cell_type": "code",
   "execution_count": 13,
   "id": "b964c6ef",
   "metadata": {},
   "outputs": [
    {
     "name": "stdout",
     "output_type": "stream",
     "text": [
      "1\n",
      "3\n",
      "5\n",
      "7\n"
     ]
    }
   ],
   "source": [
    "for i in range(1, 8, 2):\n",
    "    print(i)"
   ]
  },
  {
   "cell_type": "code",
   "execution_count": 14,
   "id": "b1db4599",
   "metadata": {},
   "outputs": [
    {
     "name": "stdout",
     "output_type": "stream",
     "text": [
      "1\n",
      "4\n",
      "7\n"
     ]
    }
   ],
   "source": [
    "for i in range(1, 8, 3):\n",
    "    print(i)"
   ]
  },
  {
   "cell_type": "code",
   "execution_count": 15,
   "id": "880eeb88",
   "metadata": {},
   "outputs": [
    {
     "name": "stdout",
     "output_type": "stream",
     "text": [
      "0\n",
      "1\n",
      "2\n",
      "3\n",
      "4\n",
      "5\n",
      "6\n",
      "7\n",
      "8\n",
      "9\n",
      "This is inside else of for\n"
     ]
    }
   ],
   "source": [
    "for i in range(10):\n",
    "    print(i)\n",
    "else:\n",
    "    print(\"This is inside else of for\")"
   ]
  },
  {
   "cell_type": "code",
   "execution_count": 16,
   "id": "70020d95",
   "metadata": {},
   "outputs": [
    {
     "name": "stdout",
     "output_type": "stream",
     "text": [
      "0\n",
      "1\n",
      "2\n",
      "3\n",
      "4\n",
      "5\n"
     ]
    }
   ],
   "source": [
    "for i in range(10):\n",
    "    print(i)\n",
    "    if i == 5:\n",
    "        break\n",
    "else:\n",
    "    print(\"This is inside else of for\")"
   ]
  },
  {
   "cell_type": "code",
   "execution_count": 17,
   "id": "7763b5ce",
   "metadata": {},
   "outputs": [
    {
     "name": "stdout",
     "output_type": "stream",
     "text": [
      "0\n",
      "1\n",
      "2\n",
      "3\n",
      "4\n",
      "6\n",
      "7\n",
      "8\n",
      "9\n"
     ]
    }
   ],
   "source": [
    "for i in range(10):\n",
    "    if i == 5:\n",
    "        continue\n",
    "    print(i)"
   ]
  },
  {
   "cell_type": "code",
   "execution_count": 18,
   "id": "85422c07",
   "metadata": {},
   "outputs": [
    {
     "name": "stdout",
     "output_type": "stream",
     "text": [
      "Harry is a good boy\n"
     ]
    }
   ],
   "source": [
    "i = 4\n",
    "\n",
    "def run(player):\n",
    "    pass\n",
    "\n",
    "def ouch(player):\n",
    "    pass\n",
    "\n",
    "if i>0:\n",
    "    pass\n",
    "\n",
    "while i>6:\n",
    "  pass\n",
    "\n",
    "print(\"Harry is a good boy\")"
   ]
  },
  {
   "cell_type": "code",
   "execution_count": null,
   "id": "a0c47396",
   "metadata": {},
   "outputs": [],
   "source": []
  },
  {
   "cell_type": "markdown",
   "id": "967f55e5",
   "metadata": {},
   "source": [
    "## Practice Set"
   ]
  },
  {
   "cell_type": "code",
   "execution_count": 21,
   "id": "518996f0",
   "metadata": {},
   "outputs": [
    {
     "name": "stdout",
     "output_type": "stream",
     "text": [
      "Enter the number23\n",
      "23X1=23\n",
      "23X2=46\n",
      "23X3=69\n",
      "23X4=92\n",
      "23X5=115\n",
      "23X6=138\n",
      "23X7=161\n",
      "23X8=184\n",
      "23X9=207\n",
      "23X10=230\n"
     ]
    }
   ],
   "source": [
    "num = int(input(\"Enter the number\"))\n",
    "for i in range(1, 11):\n",
    "#     print(str(num) + \" X \" + str(i) + \"=\" + str(i*num))\n",
    "   print(f\"{num}X{i}={num*i}\")"
   ]
  },
  {
   "cell_type": "code",
   "execution_count": 22,
   "id": "37923630",
   "metadata": {},
   "outputs": [
    {
     "name": "stdout",
     "output_type": "stream",
     "text": [
      "Hello Sohan\n",
      "Hello Sachin\n"
     ]
    }
   ],
   "source": [
    "l1 = [\"Harry\", \"Sohan\", \"Sachin\", \"Rahul\"]\n",
    "\n",
    "for name in l1:\n",
    "    if name.startswith(\"S\"):\n",
    "        print(\"Hello \" + name)"
   ]
  },
  {
   "cell_type": "code",
   "execution_count": 3,
   "id": "1efdc691",
   "metadata": {},
   "outputs": [
    {
     "name": "stdout",
     "output_type": "stream",
     "text": [
      "Enter the number9\n"
     ]
    },
    {
     "ename": "NameError",
     "evalue": "name 'i' is not defined",
     "output_type": "error",
     "traceback": [
      "\u001b[1;31m---------------------------------------------------------------------------\u001b[0m",
      "\u001b[1;31mNameError\u001b[0m                                 Traceback (most recent call last)",
      "\u001b[1;32m~\\AppData\\Local\\Temp/ipykernel_2860/2288822581.py\u001b[0m in \u001b[0;36m<module>\u001b[1;34m\u001b[0m\n\u001b[0;32m      1\u001b[0m \u001b[0mnum\u001b[0m \u001b[1;33m=\u001b[0m \u001b[0mint\u001b[0m\u001b[1;33m(\u001b[0m\u001b[0minput\u001b[0m\u001b[1;33m(\u001b[0m\u001b[1;34m\"Enter the number\"\u001b[0m\u001b[1;33m)\u001b[0m\u001b[1;33m)\u001b[0m\u001b[1;33m\u001b[0m\u001b[1;33m\u001b[0m\u001b[0m\n\u001b[1;32m----> 2\u001b[1;33m \u001b[1;32mwhile\u001b[0m \u001b[0mi\u001b[0m\u001b[1;33m<\u001b[0m\u001b[1;36m11\u001b[0m\u001b[1;33m:\u001b[0m\u001b[1;33m\u001b[0m\u001b[1;33m\u001b[0m\u001b[0m\n\u001b[0m\u001b[0;32m      3\u001b[0m     \u001b[0mprint\u001b[0m\u001b[1;33m(\u001b[0m\u001b[1;34mf\"{num}X{i}={num*i}\"\u001b[0m\u001b[1;33m)\u001b[0m\u001b[1;33m\u001b[0m\u001b[1;33m\u001b[0m\u001b[0m\n",
      "\u001b[1;31mNameError\u001b[0m: name 'i' is not defined"
     ]
    }
   ],
   "source": [
    "num = int(input(\"Enter the number\"))\n",
    "while i<11:\n",
    "    print(f\"{num}X{i}={num*i}\")"
   ]
  },
  {
   "cell_type": "code",
   "execution_count": 4,
   "id": "88ef8df1",
   "metadata": {},
   "outputs": [
    {
     "name": "stdout",
     "output_type": "stream",
     "text": [
      "Enter the number: 23\n",
      "This number is Prime\n"
     ]
    }
   ],
   "source": [
    "num = int(input(\"Enter the number: \"))\n",
    "prime = True\n",
    "\n",
    "for i in range(2, num):\n",
    "    if(num%i == 0):\n",
    "        prime = False\n",
    "        break\n",
    "if prime:\n",
    "    print(\"This number is Prime\")\n",
    "else:\n",
    "    print(\"This number is not Prime\")"
   ]
  },
  {
   "cell_type": "code",
   "execution_count": null,
   "id": "f595985e",
   "metadata": {},
   "outputs": [],
   "source": [
    "num = int(input(\"Enter the limit number: \"))\n",
    "sum = 0\n",
    "while "
   ]
  },
  {
   "cell_type": "code",
   "execution_count": 5,
   "id": "9c79c5f0",
   "metadata": {},
   "outputs": [
    {
     "name": "stdout",
     "output_type": "stream",
     "text": [
      "Enter the number: 5\n",
      "The factorial of 5 is 120\n"
     ]
    }
   ],
   "source": [
    "# n! = 1 X 2 X 3 X ..... X n\n",
    "# 5! = 1 X 2 X 3 X 4 X 5\n",
    "\n",
    "num = int(input(\"Enter the number: \"))\n",
    "factorial = 1\n",
    "for i in range(1, num+1):\n",
    "    factorial = factorial * i\n",
    "print(f\"The factorial of {num} is {factorial}\")"
   ]
  },
  {
   "cell_type": "code",
   "execution_count": 6,
   "id": "0be41a54",
   "metadata": {},
   "outputs": [
    {
     "name": "stdout",
     "output_type": "stream",
     "text": [
      "*\n",
      "**\n",
      "***\n",
      "****\n"
     ]
    }
   ],
   "source": [
    "n = 4\n",
    "\n",
    "for i in range(4):\n",
    "    print(\"*\" * (i+1))"
   ]
  },
  {
   "cell_type": "code",
   "execution_count": 7,
   "id": "10d3c5d7",
   "metadata": {},
   "outputs": [
    {
     "name": "stdout",
     "output_type": "stream",
     "text": [
      "  *  \n",
      " *** \n",
      "*****\n"
     ]
    }
   ],
   "source": [
    "n = 3\n",
    "for i in range(3): \n",
    "    print(\" \" * (n-i-1), end=\"\")\n",
    "    print(\"*\" * (2*i+1), end=\"\")\n",
    "    print(\" \" * (n-i-1))"
   ]
  },
  {
   "cell_type": "code",
   "execution_count": null,
   "id": "b1ebe2db",
   "metadata": {},
   "outputs": [],
   "source": []
  },
  {
   "cell_type": "code",
   "execution_count": null,
   "id": "a4ea2021",
   "metadata": {},
   "outputs": [],
   "source": []
  },
  {
   "cell_type": "code",
   "execution_count": null,
   "id": "908fe85c",
   "metadata": {},
   "outputs": [],
   "source": []
  },
  {
   "cell_type": "markdown",
   "id": "c8f7e407",
   "metadata": {},
   "source": [
    "# Chapter 8"
   ]
  },
  {
   "cell_type": "code",
   "execution_count": 1,
   "id": "850459f7",
   "metadata": {},
   "outputs": [
    {
     "name": "stdout",
     "output_type": "stream",
     "text": [
      "71.5 84.75\n"
     ]
    }
   ],
   "source": [
    "def percent(marks):\n",
    "    p = ((marks[0] + marks[1] + marks[2]+ marks[3])/400 )*100\n",
    "    return p\n",
    "\n",
    "marks1 = [45, 78, 86, 77]\n",
    "percentage1 = percent(marks1)\n",
    "\n",
    "marks2 = [75, 98, 88, 78]\n",
    "percentage2 = percent(marks2)\n",
    "print(percentage1, percentage2)"
   ]
  },
  {
   "cell_type": "code",
   "execution_count": 3,
   "id": "7f33b931",
   "metadata": {},
   "outputs": [
    {
     "name": "stdout",
     "output_type": "stream",
     "text": [
      "Good Day, SMRUTI\n",
      "38\n"
     ]
    }
   ],
   "source": [
    "def greet(name):\n",
    "    print(\"Good Day, \"+ name)\n",
    "\n",
    "def mySum(num1, num2):\n",
    "    return num1 + num2\n",
    "\n",
    "greet(\"SMRUTI\")\n",
    "s = mySum(6, 32)\n",
    "print(s)"
   ]
  },
  {
   "cell_type": "code",
   "execution_count": 4,
   "id": "2661e4cb",
   "metadata": {},
   "outputs": [
    {
     "name": "stdout",
     "output_type": "stream",
     "text": [
      "Good Day, SMRUTI\n",
      "Good Day, Stranger\n"
     ]
    }
   ],
   "source": [
    "def greet(name=\"Stranger\"):\n",
    "    print(\"Good Day, \"+ name)\n",
    " \n",
    "\n",
    "greet(\"SMRUTI\") \n",
    "greet()"
   ]
  },
  {
   "cell_type": "code",
   "execution_count": 5,
   "id": "ff2b32a0",
   "metadata": {},
   "outputs": [
    {
     "name": "stdout",
     "output_type": "stream",
     "text": [
      "1\n"
     ]
    }
   ],
   "source": [
    "# n! = 1 * 2 * 3 * 4...*n\n",
    "# n! = [1 * 2 * 3 * 4... n-1] *n\n",
    "# n! = n * (n-1)! \n",
    "\n",
    "# n = 0\n",
    "# product = 1\n",
    "# for i in range(n):\n",
    "#     product = product * (i+1)\n",
    "# print(product)\n",
    "\n",
    "def factorial_iter(n):\n",
    "    product = 1\n",
    "    for i in range(n):\n",
    "        product = product * (i+1)\n",
    "    return product\n",
    "\n",
    "def factorial_recursive(n):\n",
    "    if n == 1 or n == 0:\n",
    "        return 1\n",
    "    return n * factorial_recursive(n-1)\n",
    "\n",
    "# f = factorial_iter(5)\n",
    "f = factorial_recursive(0)\n",
    "print(f)"
   ]
  },
  {
   "cell_type": "code",
   "execution_count": null,
   "id": "99a70535",
   "metadata": {},
   "outputs": [],
   "source": []
  },
  {
   "cell_type": "markdown",
   "id": "8eafee83",
   "metadata": {},
   "source": [
    "## Practice Set"
   ]
  },
  {
   "cell_type": "code",
   "execution_count": 6,
   "id": "31dd3a57",
   "metadata": {},
   "outputs": [
    {
     "name": "stdout",
     "output_type": "stream",
     "text": [
      "The value of the maximum is 55\n"
     ]
    }
   ],
   "source": [
    "def maximum(num1, num2, num3):\n",
    "    if (num1>num2):\n",
    "        if(num1>num3):\n",
    "            return num1\n",
    "        else:\n",
    "            return num3\n",
    "    else:\n",
    "        if(num2>num3):\n",
    "            return num2\n",
    "        else:\n",
    "            return num3\n",
    "\n",
    "m = maximum(13, 55, 2)\n",
    "print(\"The value of the maximum is \" + str(m))"
   ]
  },
  {
   "cell_type": "code",
   "execution_count": 7,
   "id": "f69131b5",
   "metadata": {},
   "outputs": [
    {
     "name": "stdout",
     "output_type": "stream",
     "text": [
      "Fahreheit Temperature is 32.0\n"
     ]
    }
   ],
   "source": [
    "def farh(cel):\n",
    "    return (cel *(9/5)) + 32\n",
    "\n",
    "c = 0\n",
    "f = farh(c)\n",
    "print(\"Fahreheit Temperature is \" + str(f))"
   ]
  },
  {
   "cell_type": "code",
   "execution_count": 8,
   "id": "804b9207",
   "metadata": {},
   "outputs": [
    {
     "name": "stdout",
     "output_type": "stream",
     "text": [
      "Hello How are you? "
     ]
    }
   ],
   "source": [
    "print(\"Hello\", end=\" \")\n",
    "print(\"How\", end=\" \")\n",
    "print(\"are\", end=\" \")\n",
    "print(\"you?\", end=\" \")"
   ]
  },
  {
   "cell_type": "code",
   "execution_count": null,
   "id": "f2402ac1",
   "metadata": {},
   "outputs": [],
   "source": [
    "# n! = (n-1)! * n \n",
    "# sum(n) = sum(n-1) + n"
   ]
  },
  {
   "cell_type": "code",
   "execution_count": 9,
   "id": "68efbf40",
   "metadata": {},
   "outputs": [
    {
     "name": "stdout",
     "output_type": "stream",
     "text": [
      "***\n",
      "**\n",
      "*\n"
     ]
    }
   ],
   "source": [
    "n = 3\n",
    "for i in range(n):\n",
    "    print(\"*\" * (n-i)) # Prints * n-i times"
   ]
  },
  {
   "cell_type": "code",
   "execution_count": 10,
   "id": "3c230b6f",
   "metadata": {},
   "outputs": [
    {
     "name": "stdout",
     "output_type": "stream",
     "text": [
      "is a good\n"
     ]
    }
   ],
   "source": [
    "def remove_and_split(string, word):\n",
    "    newStr = string.replace(word, \"\")\n",
    "    return newStr.strip()\n",
    "\n",
    "this = \"     Harry is a good      \"\n",
    "n = remove_and_split(this, \"Harry\")\n",
    "print(n)\n",
    "# print(this)\n",
    "# print(this.strip())"
   ]
  },
  {
   "cell_type": "code",
   "execution_count": null,
   "id": "a106ee19",
   "metadata": {},
   "outputs": [],
   "source": [
    "#  multiplication table\n",
    "\n"
   ]
  },
  {
   "cell_type": "code",
   "execution_count": null,
   "id": "e75c9897",
   "metadata": {},
   "outputs": [],
   "source": []
  },
  {
   "cell_type": "code",
   "execution_count": null,
   "id": "1bf6c70a",
   "metadata": {},
   "outputs": [],
   "source": []
  },
  {
   "cell_type": "code",
   "execution_count": null,
   "id": "9dcbf337",
   "metadata": {},
   "outputs": [],
   "source": []
  },
  {
   "cell_type": "markdown",
   "id": "310cb203",
   "metadata": {},
   "source": [
    "# Chapter 9"
   ]
  },
  {
   "cell_type": "code",
   "execution_count": null,
   "id": "39b84145",
   "metadata": {},
   "outputs": [],
   "source": []
  },
  {
   "cell_type": "code",
   "execution_count": null,
   "id": "f24240c3",
   "metadata": {},
   "outputs": [],
   "source": []
  },
  {
   "cell_type": "markdown",
   "id": "5e176c27",
   "metadata": {},
   "source": [
    "# Chapter 10"
   ]
  },
  {
   "cell_type": "markdown",
   "id": "d94a7e76",
   "metadata": {},
   "source": [
    "PascalCase\n",
    "EmployeeName   ---> PascalCase\n",
    "\n",
    "camelCase\n",
    "employeeName\n",
    "isNumeric, isFloat   ---> camelCase"
   ]
  },
  {
   "cell_type": "code",
   "execution_count": 2,
   "id": "41839e01",
   "metadata": {},
   "outputs": [
    {
     "name": "stdout",
     "output_type": "stream",
     "text": [
      "46\n"
     ]
    }
   ],
   "source": [
    "class Number:\n",
    "    def sum(self):\n",
    "        return self.a + self.b\n",
    "    \n",
    "num = Number()\n",
    "num.a = 12\n",
    "num.b = 34\n",
    "s = num.sum()\n",
    "print(s)"
   ]
  },
  {
   "cell_type": "code",
   "execution_count": 3,
   "id": "334e62c0",
   "metadata": {},
   "outputs": [
    {
     "name": "stdout",
     "output_type": "stream",
     "text": [
      "Name is Harry\n",
      "Train is Rajdhani Express\n"
     ]
    }
   ],
   "source": [
    "import pandas as pd\n",
    "pd.DataFrame()\n",
    "class RailwayForm:\n",
    "    formType = \"RailwayForm\"\n",
    "    def printData(self):\n",
    "        print(f\"Name is {self.name}\")\n",
    "        print(f\"Train is {self.train}\")\n",
    "\n",
    "harrysApplication = RailwayForm()\n",
    "harrysApplication.name = \"Harry\"\n",
    "harrysApplication.train = \"Rajdhani Express\"\n",
    "harrysApplication.printData()"
   ]
  },
  {
   "cell_type": "code",
   "execution_count": null,
   "id": "a74803ae",
   "metadata": {},
   "outputs": [],
   "source": [
    "class Remote():\n",
    "    pass\n",
    "\n",
    "class Player:\n",
    "    def moveRight(self):\n",
    "        pass\n",
    "\n",
    "    def moveLeft(self):\n",
    "        pass\n",
    "\n",
    "    def moveTop(self):\n",
    "        pass\n",
    "\n",
    "remote1 = Remote()\n",
    "player1 = Player()\n",
    "\n",
    "if(remote1.isLeftPressed()):\n",
    "    player1.moveLeft()\n"
   ]
  },
  {
   "cell_type": "code",
   "execution_count": 5,
   "id": "3f076fe8",
   "metadata": {},
   "outputs": [
    {
     "name": "stdout",
     "output_type": "stream",
     "text": [
      "Google\n",
      "Google\n",
      "YouTube\n",
      "YouTube\n",
      "300\n",
      "400\n"
     ]
    }
   ],
   "source": [
    "class Employee:\n",
    "    company = \"Google\"\n",
    "    salary = 100\n",
    "\n",
    "harry = Employee()\n",
    "rajni = Employee()\n",
    "harry.salary = 300\n",
    "rajni.salary = 400\n",
    "\n",
    "print(harry.company)\n",
    "print(rajni.company)\n",
    "Employee.company = \"YouTube\"\n",
    "print(harry.company)\n",
    "print(rajni.company)\n",
    "print(harry.salary)\n",
    "print(rajni.salary)"
   ]
  },
  {
   "cell_type": "code",
   "execution_count": 6,
   "id": "dba3cb57",
   "metadata": {},
   "outputs": [
    {
     "name": "stdout",
     "output_type": "stream",
     "text": [
      "45\n",
      "100\n"
     ]
    }
   ],
   "source": [
    "class Employee:\n",
    "    company = \"Google\"\n",
    "    salary = 100\n",
    "\n",
    "harry = Employee()\n",
    "rajni = Employee()\n",
    "\n",
    "# Creating instance attribute salary for both the objects\n",
    "# harry.salary = 300\n",
    "# rajni.salary = 400\n",
    "harry.salary = 45\n",
    "print(harry.salary)\n",
    "print(rajni.salary)\n",
    "\n",
    "# Below line throws an error as address is not present in instance/class \n",
    "# print(rajni.address) "
   ]
  },
  {
   "cell_type": "code",
   "execution_count": 7,
   "id": "b22f0696",
   "metadata": {},
   "outputs": [
    {
     "name": "stdout",
     "output_type": "stream",
     "text": [
      "300\n",
      "400\n"
     ]
    }
   ],
   "source": [
    "class Employee:\n",
    "    company = \"Google\"\n",
    "#     salary = 100\n",
    "\n",
    "harry = Employee()\n",
    "rajni = Employee()\n",
    "\n",
    "# Creating instance attribute salary for both the objects\n",
    "harry.salary = 300\n",
    "rajni.salary = 400\n",
    "# harry.salary = 45\n",
    "print(harry.salary)\n",
    "print(rajni.salary)\n",
    "\n",
    "# Below line throws an error as address is not present in instance/class \n",
    "# print(rajni.address) "
   ]
  },
  {
   "cell_type": "code",
   "execution_count": 8,
   "id": "8128490a",
   "metadata": {},
   "outputs": [
    {
     "name": "stdout",
     "output_type": "stream",
     "text": [
      "Salary for this employee working in Google is 100000\n"
     ]
    }
   ],
   "source": [
    "class Employee:\n",
    "    company = \"Google\"\n",
    "    def getSalary(self):\n",
    "        print(f\"Salary for this employee working in {self.company} is {self.salary}\")\n",
    "\n",
    "harry = Employee()\n",
    "harry.salary = 100000\n",
    "harry.getSalary() # Employee.getSalary(harry)"
   ]
  },
  {
   "cell_type": "code",
   "execution_count": 9,
   "id": "a87a0978",
   "metadata": {},
   "outputs": [
    {
     "name": "stdout",
     "output_type": "stream",
     "text": [
      "Salary for this employee working in Google is 100000\n",
      "Thanks!\n",
      "Good Morning, Sir\n",
      "The time is 9AM in the morning\n"
     ]
    }
   ],
   "source": [
    "class Employee:\n",
    "    company = \"Google\"\n",
    "\n",
    "    def getSalary(self, signature):\n",
    "        print(f\"Salary for this employee working in {self.company} is {self.salary}\\n{signature}\")\n",
    "\n",
    "    @staticmethod\n",
    "    def greet():\n",
    "        print(\"Good Morning, Sir\")\n",
    "\n",
    "    @staticmethod\n",
    "    def time():\n",
    "        print(\"The time is 9AM in the morning\")\n",
    "\n",
    "harry = Employee()\n",
    "harry.salary = 100000\n",
    "harry.getSalary(\"Thanks!\") # Employee.getSalary(harry)\n",
    "harry.greet() # Employee.greet()\n",
    "harry.time()\n"
   ]
  },
  {
   "cell_type": "code",
   "execution_count": 10,
   "id": "fb86d938",
   "metadata": {},
   "outputs": [
    {
     "name": "stdout",
     "output_type": "stream",
     "text": [
      "Employee is created!\n",
      "The name of the employee is Harry\n",
      "The salary of the employee is 100\n",
      "The subunit of the employee is YouTube\n"
     ]
    }
   ],
   "source": [
    "# constructor\n",
    "\n",
    "class Employee:\n",
    "    company = \"Google\"\n",
    "\n",
    "    def __init__(self, name, salary, subunit):\n",
    "        self.name = name\n",
    "        self.salary = salary\n",
    "        self.subunit = subunit\n",
    "        print(\"Employee is created!\") \n",
    " \n",
    "    def getDetails(self):\n",
    "        print(f\"The name of the employee is {self.name}\")\n",
    "        print(f\"The salary of the employee is {self.salary}\")\n",
    "        print(f\"The subunit of the employee is {self.subunit}\")\n",
    "\n",
    "    def getSalary(self, signature):\n",
    "        print(f\"Salary for this employee working in {self.company} is {self.salary}\\n{signature}\")\n",
    "\n",
    "    @staticmethod\n",
    "    def greet():\n",
    "        print(\"Good Morning, Sir\")\n",
    "\n",
    "    @staticmethod\n",
    "    def time():\n",
    "        print(\"The time is 9AM in the morning\")\n",
    "\n",
    "harry = Employee(\"Harry\", 100, \"YouTube\")\n",
    "# harry = Employee() --> This throws an error (missing 3 required positional arguments:)\n",
    "harry.getDetails()"
   ]
  },
  {
   "cell_type": "code",
   "execution_count": null,
   "id": "ea88cd4f",
   "metadata": {},
   "outputs": [],
   "source": []
  },
  {
   "cell_type": "code",
   "execution_count": 11,
   "id": "86beec1c",
   "metadata": {},
   "outputs": [
    {
     "name": "stdout",
     "output_type": "stream",
     "text": [
      "The name of the Microsoft programmer is Harry and the product is Skype\n",
      "The name of the Microsoft programmer is Alka and the product is GitHub\n"
     ]
    }
   ],
   "source": [
    "# 1. create a class programmer for storing information of few programmers working at Microsoft\n",
    "\n",
    "class Programmer:\n",
    "    company = \"Microsoft\"\n",
    "\n",
    "    def __init__(self, name, product):\n",
    "        self.name = name\n",
    "        self.product = product\n",
    "\n",
    "    def getInfo(self):\n",
    "        print(f\"The name of the {self.company} programmer is {self.name} and the product is {self.product}\")\n",
    "\n",
    "\n",
    "harry = Programmer(\"Harry\", \"Skype\")\n",
    "alka = Programmer(\"Alka\", \"GitHub\")\n",
    "harry.getInfo()\n",
    "alka.getInfo()\n"
   ]
  },
  {
   "cell_type": "code",
   "execution_count": null,
   "id": "d8c0aa8d",
   "metadata": {},
   "outputs": [],
   "source": []
  },
  {
   "cell_type": "code",
   "execution_count": 12,
   "id": "69f405d5",
   "metadata": {},
   "outputs": [
    {
     "name": "stdout",
     "output_type": "stream",
     "text": [
      "9\n",
      "The value of 9 square is 81\n",
      "The value of 9 square root is 3.0\n",
      "The value of 9 cube is 729\n"
     ]
    }
   ],
   "source": [
    "# 2. WAP for calculator suitable for finding square, square root, cube of a number\n",
    "\n",
    "class Calculator:\n",
    "    def __init__(self, num):\n",
    "        self.number = num\n",
    "\n",
    "    def square(self):\n",
    "        print(f\"The value of {self.number} square is {self.number **2}\")\n",
    "\n",
    "    def squareRoot(self):\n",
    "        print(f\"The value of {self.number} square root is {self.number **0.5}\")\n",
    "\n",
    "    def cube(self):\n",
    "        print(f\"The value of {self.number} cube is {self.number **3}\")\n",
    "\n",
    "numb = int(input())\n",
    "a = Calculator(numb)\n",
    "a.square()\n",
    "a.squareRoot() \n",
    "a.cube()"
   ]
  },
  {
   "cell_type": "code",
   "execution_count": null,
   "id": "d83dd6c4",
   "metadata": {},
   "outputs": [],
   "source": []
  },
  {
   "cell_type": "code",
   "execution_count": 13,
   "id": "41c96966",
   "metadata": {},
   "outputs": [
    {
     "name": "stdout",
     "output_type": "stream",
     "text": [
      "Harry\n",
      "Vikky\n"
     ]
    }
   ],
   "source": [
    "# 3. create a class with class attribute a; create an object from it & set directly using \n",
    "# object a = 0   Does this change the class attribute\n",
    "\n",
    "class Sample:\n",
    "    a = \"Harry\"\n",
    "\n",
    "obj = Sample()\n",
    "obj.a = \"Vikky\"\n",
    "# Sample.a = \"Vikky\"\n",
    "\n",
    "print(Sample.a)\n",
    "print(obj.a)"
   ]
  },
  {
   "cell_type": "code",
   "execution_count": null,
   "id": "4e9a198d",
   "metadata": {},
   "outputs": [],
   "source": []
  },
  {
   "cell_type": "code",
   "execution_count": 14,
   "id": "598080dd",
   "metadata": {},
   "outputs": [
    {
     "name": "stdout",
     "output_type": "stream",
     "text": [
      "*******Hello there welcome to the best calculator of the world*******\n",
      "The value of 9 square is 81\n",
      "The value of 9 square root is 3.0\n",
      "The value of 9 cube is 729\n"
     ]
    }
   ],
   "source": [
    "# 4. add a static method in prob 2 to the user with Hello\n",
    "\n",
    "class Calculator:\n",
    "    def __init__(self, num):\n",
    "        self.number = num\n",
    "\n",
    "    def square(self):\n",
    "        print(f\"The value of {self.number} square is {self.number **2}\")\n",
    "\n",
    "    def squareRoot(self):\n",
    "        print(f\"The value of {self.number} square root is {self.number **0.5}\")\n",
    "\n",
    "    def cube(self):\n",
    "        print(f\"The value of {self.number} cube is {self.number **3}\")\n",
    "    \n",
    "    @staticmethod\n",
    "    def greet():\n",
    "        print(\"*******Hello there welcome to the best calculator of the world*******\")\n",
    "\n",
    "a = Calculator(9)\n",
    "a.greet()\n",
    "a.square()\n",
    "a.squareRoot() \n",
    "a.cube()"
   ]
  },
  {
   "cell_type": "code",
   "execution_count": null,
   "id": "def30383",
   "metadata": {},
   "outputs": [],
   "source": []
  },
  {
   "cell_type": "code",
   "execution_count": 15,
   "id": "fdea3dbe",
   "metadata": {},
   "outputs": [
    {
     "name": "stdout",
     "output_type": "stream",
     "text": [
      "************\n",
      "The name of the train is Intercity Express: 14015\n",
      "The seats available in the train are 2\n",
      "************\n",
      "Your ticket has been booked! Your seat number is 2\n",
      "Your ticket has been booked! Your seat number is 1\n",
      "Sorry this train is full! Kindly try in tatkal\n",
      "************\n",
      "The name of the train is Intercity Express: 14015\n",
      "The seats available in the train are 0\n",
      "************\n"
     ]
    }
   ],
   "source": [
    "# write a Train class which has method to book a ticket, get status(no of seats) and get fare information\n",
    "# of trains running under IR\n",
    "\n",
    "'''\n",
    "1 2 3 4 5 6 7 8 9 10\n",
    "'''\n",
    "\n",
    "class Train:\n",
    "    def __init__(self, name, fare, seats):\n",
    "        self.name = name\n",
    "        self.fare = fare\n",
    "        self.seats = seats\n",
    "\n",
    "    def getStatus(self):\n",
    "        print(\"************\")\n",
    "        print(f\"The name of the train is {self.name}\")\n",
    "        print(f\"The seats available in the train are {self.seats}\")\n",
    "        print(\"************\")\n",
    "\n",
    "    def fareInfo(self):\n",
    "        print(f\"The price of the ticket is: Rs {self.fare}\")\n",
    "\n",
    "    def bookTicket(self):\n",
    "        if(self.seats>0):\n",
    "            print(f\"Your ticket has been booked! Your seat number is {self.seats}\")\n",
    "            self.seats = self.seats - 1\n",
    "        else:\n",
    "            print(\"Sorry this train is full! Kindly try in tatkal\")\n",
    "\n",
    "    def cancelTicket(self, seatNo):\n",
    "        pass\n",
    "\n",
    "intercity = Train(\"Intercity Express: 14015\", 90, 2)\n",
    "intercity.getStatus() \n",
    "intercity.bookTicket()\n",
    "intercity.bookTicket()\n",
    "intercity.bookTicket()\n",
    "intercity.getStatus()\n"
   ]
  },
  {
   "cell_type": "code",
   "execution_count": null,
   "id": "c43963b0",
   "metadata": {},
   "outputs": [],
   "source": []
  },
  {
   "cell_type": "code",
   "execution_count": 16,
   "id": "0d033118",
   "metadata": {},
   "outputs": [
    {
     "name": "stdout",
     "output_type": "stream",
     "text": [
      "Smruti\n"
     ]
    }
   ],
   "source": [
    "# 6. can you change the self parameter inside a class to something else(say 'Smruti')\n",
    "# Try changing 'self' to slf or Smruti & see what happens\n",
    "\n",
    "class Sample: \n",
    "    def __init__(slf, name):\n",
    "        slf.name = name\n",
    "\n",
    "obj = Sample(\"Smruti\") \n",
    "print(obj.name) \n",
    " "
   ]
  },
  {
   "cell_type": "code",
   "execution_count": null,
   "id": "fa018ec3",
   "metadata": {},
   "outputs": [],
   "source": []
  },
  {
   "cell_type": "markdown",
   "id": "58de662d",
   "metadata": {},
   "source": [
    "# Inheritance"
   ]
  },
  {
   "cell_type": "code",
   "execution_count": 17,
   "id": "b2a96f01",
   "metadata": {},
   "outputs": [
    {
     "name": "stdout",
     "output_type": "stream",
     "text": [
      "This is an employee\n",
      "This is an programmer\n",
      "Google\n"
     ]
    }
   ],
   "source": [
    "class Employee:\n",
    "    company = \"Google\"\n",
    "\n",
    "    def showDetails(self):\n",
    "        print(\"This is an employee\")\n",
    "\n",
    "class Programmer(Employee):\n",
    "    language = \"Python\"\n",
    "    # company = \"Youtube\"\n",
    "\n",
    "    def getLanguage(self):\n",
    "        print(f\"The language is {self.language}\")\n",
    "    \n",
    "    def showDetails(self):\n",
    "        print(\"This is an programmer\")\n",
    "\n",
    "\n",
    "e = Employee()\n",
    "e.showDetails()\n",
    "p = Programmer()\n",
    "p.showDetails()\n",
    "print(p.company)"
   ]
  },
  {
   "cell_type": "code",
   "execution_count": 18,
   "id": "b48db3d1",
   "metadata": {},
   "outputs": [
    {
     "name": "stdout",
     "output_type": "stream",
     "text": [
      "This is an employee\n",
      "This is an programmer\n",
      "Google\n"
     ]
    }
   ],
   "source": [
    "# Single Inheritance\n",
    "\n",
    "class Employee:\n",
    "    company = \"Google\"\n",
    "\n",
    "    def showDetails(self):\n",
    "        print(\"This is an employee\")\n",
    "\n",
    "class Programmer(Employee):\n",
    "    language = \"Python\"\n",
    "    # company = \"Youtube\"\n",
    "\n",
    "    def getLanguage(self):\n",
    "        print(f\"The language is {self.language}\")\n",
    "    \n",
    "    def showDetails(self):\n",
    "        print(\"This is an programmer\")\n",
    "\n",
    "\n",
    "e = Employee()\n",
    "e.showDetails()\n",
    "p = Programmer()\n",
    "p.showDetails()\n",
    "print(p.company)"
   ]
  },
  {
   "cell_type": "code",
   "execution_count": 19,
   "id": "85b00ea9",
   "metadata": {},
   "outputs": [
    {
     "name": "stdout",
     "output_type": "stream",
     "text": [
      "Fiverr\n"
     ]
    }
   ],
   "source": [
    "# Multiple Inheritance\n",
    "\n",
    "class Freelancer:\n",
    "    company = \"Fiverr\"\n",
    "    level = 0\n",
    "\n",
    "    def upgradeLevel(self):\n",
    "        self.level = self.level + 1\n",
    "\n",
    "class Employee:\n",
    "    company = \"Visa\"\n",
    "    eCode = 120\n",
    "\n",
    "\n",
    "class Programmer(Freelancer, Employee):\n",
    "    name = \"Rohit\"\n",
    "\n",
    "p = Programmer()\n",
    "p.upgradeLevel()\n",
    "print(p.company)"
   ]
  },
  {
   "cell_type": "code",
   "execution_count": 20,
   "id": "ac22f6b1",
   "metadata": {},
   "outputs": [
    {
     "name": "stdout",
     "output_type": "stream",
     "text": [
      "I am breathing...\n",
      "I am an Employee so I am luckily breathing..\n",
      "Honda\n",
      "I am a Progarmmer so I am breathing++..\n",
      "Fiverr\n",
      "India\n"
     ]
    }
   ],
   "source": [
    "# Multilevel Inheritance\n",
    "\n",
    "class Person:\n",
    "    country = \"India\"\n",
    "    def takeBreath(self):\n",
    "        print(\"I am breathing...\")\n",
    "\n",
    "class Employee(Person):\n",
    "    company = \"Honda\"\n",
    "\n",
    "    def getSalary(self):\n",
    "        print(f\"Salary is {self.salary}\")\n",
    "    \n",
    "    def takeBreath(self):\n",
    "        print(\"I am an Employee so I am luckily breathing..\")\n",
    "\n",
    "class Programmer(Employee):\n",
    "    company = \"Fiverr\"\n",
    "    \n",
    "    def getSalary(self):\n",
    "        print(f\"No salary to programmers\")\n",
    "    \n",
    "    def takeBreath(self):\n",
    "        print(\"I am a Progarmmer so I am breathing++..\")\n",
    "\n",
    "p = Person()\n",
    "p.takeBreath()\n",
    "# print(p.company) # throws an error\n",
    "\n",
    "e = Employee()\n",
    "e.takeBreath()\n",
    "print(e.company)\n",
    "\n",
    "pr = Programmer()\n",
    "pr.takeBreath()\n",
    "print(pr.company)\n",
    "print(pr.country)\n"
   ]
  },
  {
   "cell_type": "code",
   "execution_count": 21,
   "id": "6a4954e2",
   "metadata": {},
   "outputs": [
    {
     "name": "stdout",
     "output_type": "stream",
     "text": [
      "Initializing Programmer...\n",
      "\n"
     ]
    }
   ],
   "source": [
    "# Super\n",
    "\n",
    "class Person:\n",
    "    country = \"India\"\n",
    "\n",
    "    def __init__(self):\n",
    "        print(\"Initializing Person...\\n\")\n",
    "\n",
    "    def takeBreath(self):\n",
    "        print(\"I am breathing...\")\n",
    "\n",
    "class Employee(Person):\n",
    "    company = \"Honda\"\n",
    "\n",
    "    def __init__(self):\n",
    "        super().__init__()\n",
    "        print(\"Initializing Employee...\\n\")\n",
    "\n",
    "    def getSalary(self):\n",
    "        print(f\"Salary is {self.salary}\")\n",
    "    \n",
    "    def takeBreath(self):\n",
    "        super().takeBreath()\n",
    "        print(\"I am an Employee so I am luckily breathing..\")\n",
    "\n",
    "class Programmer(Employee):\n",
    "    company = \"Fiverr\"\n",
    "\n",
    "    def __init__(self):\n",
    "        # super().__init__()\n",
    "        print(\"Initializing Programmer...\\n\")\n",
    "\n",
    "    def getSalary(self):\n",
    "        print(f\"No salary to programmers\")\n",
    "    \n",
    "    def takeBreath(self):\n",
    "        super().takeBreath()\n",
    "        print(\"I am a Progarmmer so I am breathing++..\")\n",
    "\n",
    "# p = Person()\n",
    "# p.takeBreath() \n",
    "\n",
    "# e = Employee()\n",
    "# e.takeBreath() \n",
    "\n",
    "pr = Programmer()\n",
    "# pr.takeBreath() "
   ]
  },
  {
   "cell_type": "code",
   "execution_count": 22,
   "id": "68d5bc71",
   "metadata": {},
   "outputs": [
    {
     "name": "stdout",
     "output_type": "stream",
     "text": [
      "100\n",
      "455\n",
      "455\n"
     ]
    }
   ],
   "source": [
    "# Class Methods\n",
    "\n",
    "class Employee:\n",
    "    company = \"Camel\"\n",
    "    salary = 100\n",
    "    location = \"Delhi\"\n",
    "\n",
    "    # def changeSalary(self, sal):\n",
    "    #     self.__class__.salary = sal\n",
    "\n",
    "    @classmethod\n",
    "    def changeSalary(cls, sal):\n",
    "        cls.salary = sal\n",
    "\n",
    "e = Employee()\n",
    "print(e.salary)\n",
    "e.changeSalary(455)\n",
    "print(e.salary)\n",
    "print(Employee.salary)"
   ]
  },
  {
   "cell_type": "code",
   "execution_count": 23,
   "id": "da83b2fc",
   "metadata": {},
   "outputs": [
    {
     "name": "stdout",
     "output_type": "stream",
     "text": [
      "6000\n",
      "5600\n",
      "200\n"
     ]
    }
   ],
   "source": [
    "# Property Decorator\n",
    "\n",
    "class Employee:\n",
    "    company = \"Bharat Gas\"\n",
    "    salary = 5600\n",
    "    salarybonus = 400\n",
    "    # totalSalary = 6100\n",
    "\n",
    "    @property\n",
    "    def totalSalary(self):\n",
    "        return self.salary + self.salarybonus\n",
    "\n",
    "    @totalSalary.setter\n",
    "    def totalSalary(self, val):\n",
    "        self.salarybonus = val - self.salary\n",
    "\n",
    "e = Employee()\n",
    "print(e.totalSalary)\n",
    "e.totalSalary = 5800\n",
    "print(e.salary)\n",
    "print(e.salarybonus)"
   ]
  },
  {
   "cell_type": "code",
   "execution_count": 24,
   "id": "e9187d72",
   "metadata": {},
   "outputs": [
    {
     "name": "stdout",
     "output_type": "stream",
     "text": [
      "Lets add\n",
      "Lets multiply\n",
      "10\n",
      "24\n"
     ]
    }
   ],
   "source": [
    "# Operator Overloading\n",
    "\n",
    "class Number:\n",
    "    def __init__(self, num):\n",
    "        self.num = num\n",
    "\n",
    "    def __add__(self, num2):\n",
    "        print(\"Lets add\")\n",
    "        return self.num + num2.num\n",
    "\n",
    "    def __mul__(self, num2):\n",
    "        print(\"Lets multiply\")\n",
    "        return self.num * num2.num\n",
    "\n",
    "n1 = Number(4)\n",
    "n2 = Number(6)\n",
    "sum = n1 + n2\n",
    "mul = n1 * n2\n",
    "print(sum)\n",
    "print(mul)"
   ]
  },
  {
   "cell_type": "code",
   "execution_count": 25,
   "id": "d74e85ca",
   "metadata": {},
   "outputs": [
    {
     "name": "stdout",
     "output_type": "stream",
     "text": [
      "Decimal Number: 9\n",
      "1\n"
     ]
    }
   ],
   "source": [
    "# other dunder meyhods\n",
    "\n",
    "class Number:\n",
    "    def __init__(self, num):\n",
    "        self.num = num\n",
    "\n",
    "    def __add__(self, num2):\n",
    "        print(\"Lets add\")\n",
    "        return self.num + num2.num\n",
    "\n",
    "    def __mul__(self, num2):\n",
    "        print(\"Lets multiply\")\n",
    "        return self.num * num2.num\n",
    "    \n",
    "    def __str__(self):\n",
    "        return f\"Decimal Number: {self.num}\"\n",
    "    \n",
    "    def __len__(self):\n",
    "        return 1\n",
    "\n",
    "n = Number(9)\n",
    "print(n)\n",
    "print(len(n))"
   ]
  },
  {
   "cell_type": "code",
   "execution_count": null,
   "id": "d774be37",
   "metadata": {},
   "outputs": [],
   "source": []
  },
  {
   "cell_type": "code",
   "execution_count": 26,
   "id": "b70e7405",
   "metadata": {},
   "outputs": [
    {
     "name": "stdout",
     "output_type": "stream",
     "text": [
      "1i + 3j\n",
      "1i + 9j + 7k\n"
     ]
    }
   ],
   "source": [
    "# 1. create a class C 2d vector & use it to create another class representing 3d class\n",
    "class C2dVec:\n",
    "    def __init__(self, i, j):\n",
    "        self.icap = i\n",
    "        self.jcap = j\n",
    "\n",
    "    def __str__(self):\n",
    "        return f\"{self.icap}i + {self.jcap}j\"\n",
    "\n",
    "class C3dVec(C2dVec):\n",
    "    def __init__(self, i, j, k):\n",
    "        super().__init__(i, j)\n",
    "        self.kcap = k\n",
    "    \n",
    "    def __str__(self):\n",
    "        return f\"{self.icap}i + {self.jcap}j + {self.kcap}k\"\n",
    "    \n",
    "    \n",
    "v2d = C2dVec(1, 3)\n",
    "v3d = C3dVec(1, 9, 7)\n",
    "print(v2d)\n",
    "print(v3d)\n",
    "\n"
   ]
  },
  {
   "cell_type": "code",
   "execution_count": null,
   "id": "0354eb17",
   "metadata": {},
   "outputs": [],
   "source": []
  },
  {
   "cell_type": "code",
   "execution_count": 27,
   "id": "ad992d25",
   "metadata": {},
   "outputs": [
    {
     "name": "stdout",
     "output_type": "stream",
     "text": [
      "Bow bow!\n"
     ]
    }
   ],
   "source": [
    "# 2. create a class pets from a class animals and further create class dog from pets\n",
    "# Add a method bark to class Dog\n",
    "\n",
    "class Animals:\n",
    "    animalType = \"Mammal\"\n",
    "\n",
    "class Pets:\n",
    "    color = \"White\"\n",
    "\n",
    "class Dog:\n",
    "    @staticmethod\n",
    "    def bark():\n",
    "        print(\"Bow bow!\")\n",
    "\n",
    "d  = Dog()\n",
    "d.bark()"
   ]
  },
  {
   "cell_type": "code",
   "execution_count": null,
   "id": "ea351034",
   "metadata": {},
   "outputs": [],
   "source": []
  },
  {
   "cell_type": "code",
   "execution_count": 28,
   "id": "9bfef433",
   "metadata": {},
   "outputs": [
    {
     "name": "stdout",
     "output_type": "stream",
     "text": [
      "1500.0\n",
      "1.5\n",
      "2.0\n"
     ]
    }
   ],
   "source": [
    "# 3. create a class Employee and add salary & increment to it\n",
    "# write a salaryAfterIncrement method with a @property decorator with a setter \n",
    "# which changes the value of increment based on the salary\n",
    "\n",
    "# salaryAfterIncrement =  salary * increment\n",
    "\n",
    "class Employee:\n",
    "    salary = 1000\n",
    "    increment = 1.5\n",
    "    @property\n",
    "    def salaryAfterIncrement(self):\n",
    "        return self.salary*self.increment\n",
    "    \n",
    "    @salaryAfterIncrement.setter\n",
    "    def salaryAfterIncrement(self, sai):\n",
    "        self.increment = sai/self.salary\n",
    "\n",
    "e = Employee()\n",
    "print(e.salaryAfterIncrement)\n",
    "\n",
    "print(e.increment)\n",
    "e.salaryAfterIncrement = 2000\n",
    "print(e.increment)"
   ]
  },
  {
   "cell_type": "code",
   "execution_count": null,
   "id": "6e331a5f",
   "metadata": {},
   "outputs": [],
   "source": []
  },
  {
   "cell_type": "code",
   "execution_count": 29,
   "id": "5d59dfd6",
   "metadata": {},
   "outputs": [
    {
     "name": "stdout",
     "output_type": "stream",
     "text": [
      "332 - 41i\n",
      "183 - 1361i\n"
     ]
    }
   ],
   "source": [
    "# 4. write a class complex to represent complex numbers along with overload operators + and * \n",
    "# operator which adds and multiples them\n",
    "\n",
    "# (a+bi)(c+di) = (ac−bd) + (ad+bc)i\n",
    "\n",
    "class Complex:\n",
    "    def __init__(self, r, i):\n",
    "        self.real = r \n",
    "        self.imaginary = i\n",
    "\n",
    "    def __add__(self, c):\n",
    "        return Complex(self.real + c.real, self.imaginary + c.imaginary)\n",
    "    \n",
    "    def __mul__(self, c):\n",
    "        mulReal =  self.real*c.real - self.imaginary*c.imaginary\n",
    "        mulImg =  self.real*c.imaginary + self.imaginary*c.real\n",
    "        return Complex(mulReal, mulImg)\n",
    "\n",
    "    def __str__(self):\n",
    "        if self.imaginary<0:\n",
    "            return f\"{self.real} - {-self.imaginary}i\"\n",
    "        else:\n",
    "            return f\"{self.real} + {self.imaginary}i\"\n",
    "\n",
    "c1 = Complex(1, -4)\n",
    "c2 = Complex(331, -37)\n",
    "print(c1 + c2)\n",
    "print(c1 * c2)"
   ]
  },
  {
   "cell_type": "code",
   "execution_count": null,
   "id": "aafae9bc",
   "metadata": {},
   "outputs": [],
   "source": []
  },
  {
   "cell_type": "code",
   "execution_count": 30,
   "id": "de1fa19f",
   "metadata": {},
   "outputs": [
    {
     "name": "stdout",
     "output_type": "stream",
     "text": [
      " 2a0 + 10a1 + 15a2 \n",
      "79\n"
     ]
    }
   ],
   "source": [
    "# 5. write a class vector representing a vector of n dimensions. Overload the + and * operator\n",
    "# which calculates the sum and the dot product of them\n",
    "\n",
    "class Vector:\n",
    "    def __init__(self, vec):\n",
    "       self.vec = vec\n",
    "    \n",
    "    def __str__(self):\n",
    "        str1 = \"\" \n",
    "        index = 0\n",
    "        for i in self.vec:\n",
    "            str1 += f\" {i}a{index} +\"\n",
    "            index +=1\n",
    "        return str1[:-1]\n",
    "\n",
    "    def __add__(self, vec2):\n",
    "        newList = []\n",
    "        for i in range(len(self.vec)):\n",
    "            newList.append(self.vec[i] + vec2.vec[i])\n",
    "        return Vector(newList)\n",
    "    \n",
    "    def __mul__(self, vec2):\n",
    "        sum = 0\n",
    "        for i in range(len(self.vec)):\n",
    "            sum += self.vec[i] * vec2.vec[i]\n",
    "        return sum\n",
    "\n",
    "v1 = Vector([1, 4, 6])\n",
    "v2 = Vector([1, 6, 9])\n",
    "print(v1+v2)\n",
    "print(v1*v2)"
   ]
  },
  {
   "cell_type": "code",
   "execution_count": null,
   "id": "fea58a7a",
   "metadata": {},
   "outputs": [],
   "source": []
  },
  {
   "cell_type": "code",
   "execution_count": 31,
   "id": "fe7189d7",
   "metadata": {},
   "outputs": [
    {
     "name": "stdout",
     "output_type": "stream",
     "text": [
      "1i + 4j + 6k\n",
      "1i + 6j + 9k\n"
     ]
    }
   ],
   "source": [
    "# 6. write a --str--() method to print the vector as follows : 7i + 8j + 10k\n",
    "# assure vector of dimensions 3 for this problem\n",
    "\n",
    "class Vector:\n",
    "    def __init__(self, vec):\n",
    "       self.vec = vec\n",
    "    \n",
    "    def __str__(self):\n",
    "        return f\"{self.vec[0]}i + {self.vec[1]}j + {self.vec[2]}k\"\n",
    " \n",
    "\n",
    "v1 = Vector([1, 4, 6])\n",
    "v2 = Vector([1, 6, 9])\n",
    "print(v1)\n",
    "print(v2)"
   ]
  },
  {
   "cell_type": "code",
   "execution_count": null,
   "id": "cbe3691f",
   "metadata": {},
   "outputs": [],
   "source": []
  },
  {
   "cell_type": "code",
   "execution_count": 32,
   "id": "8d3531e7",
   "metadata": {},
   "outputs": [
    {
     "name": "stdout",
     "output_type": "stream",
     "text": [
      "4\n",
      "3\n"
     ]
    }
   ],
   "source": [
    "# 7. override the --len--() method on vector of last problem to display the dimension of the vector\n",
    "\n",
    "class Vector:\n",
    "    def __init__(self, vec):\n",
    "       self.vec = vec\n",
    "    \n",
    "    def __str__(self):\n",
    "        str1 = \"\" \n",
    "        index = 0\n",
    "        for i in self.vec:\n",
    "            str1 += f\" {i}a{index} +\"\n",
    "            index +=1\n",
    "        return str1[:-1]\n",
    "\n",
    "    def __add__(self, vec2):\n",
    "        newList = []\n",
    "        for i in range(len(self.vec)):\n",
    "            newList.append(self.vec[i] + vec2.vec[i])\n",
    "        return Vector(newList)\n",
    "    \n",
    "    def __mul__(self, vec2):\n",
    "        sum = 0\n",
    "        for i in range(len(self.vec)):\n",
    "            sum += self.vec[i] * vec2.vec[i]\n",
    "        return sum\n",
    "    \n",
    "    def __len__(self):\n",
    "        return len(self.vec)\n",
    "\n",
    "v1 = Vector([1, 4, 6, 6])\n",
    "v2 = Vector([1, 6, 9])\n",
    "print(len(v1))\n",
    "print(len(v2))"
   ]
  },
  {
   "cell_type": "code",
   "execution_count": null,
   "id": "e236dbb2",
   "metadata": {},
   "outputs": [],
   "source": []
  },
  {
   "cell_type": "code",
   "execution_count": null,
   "id": "76558939",
   "metadata": {},
   "outputs": [],
   "source": []
  },
  {
   "cell_type": "markdown",
   "id": "54757b58",
   "metadata": {},
   "source": [
    "# Exception Handeling"
   ]
  },
  {
   "cell_type": "code",
   "execution_count": null,
   "id": "478bde1a",
   "metadata": {},
   "outputs": [],
   "source": []
  },
  {
   "cell_type": "code",
   "execution_count": null,
   "id": "34602f97",
   "metadata": {},
   "outputs": [],
   "source": []
  }
 ],
 "metadata": {
  "kernelspec": {
   "display_name": "Python 3 (ipykernel)",
   "language": "python",
   "name": "python3"
  },
  "language_info": {
   "codemirror_mode": {
    "name": "ipython",
    "version": 3
   },
   "file_extension": ".py",
   "mimetype": "text/x-python",
   "name": "python",
   "nbconvert_exporter": "python",
   "pygments_lexer": "ipython3",
   "version": "3.9.12"
  }
 },
 "nbformat": 4,
 "nbformat_minor": 5
}
