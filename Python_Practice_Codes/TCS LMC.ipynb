{
 "cells": [
  {
   "cell_type": "code",
   "execution_count": 20,
   "id": "93d5881a",
   "metadata": {},
   "outputs": [
    {
     "name": "stdout",
     "output_type": "stream",
     "text": [
      "Enter the number: 42\n",
      "42 is a composite number\n"
     ]
    }
   ],
   "source": [
    "# 1.Check if given input number is prime\n",
    "\n",
    "def checkPrime(n):\n",
    "    if n>1:\n",
    "        for i in range(2, n):\n",
    "            if n % i == 0:\n",
    "                print('{0} is a composite number'.format(num))\n",
    "                break\n",
    "            else:\n",
    "                print('{0} is a prime number'.format(num))\n",
    "                break\n",
    "    else:\n",
    "        print('{0} is neither a prime nor a composite'.format(num))\n",
    "\n",
    "num = int(input('Enter the number: '))\n",
    "checkPrime(num)"
   ]
  },
  {
   "cell_type": "code",
   "execution_count": null,
   "id": "1c43c4cd",
   "metadata": {},
   "outputs": [],
   "source": []
  },
  {
   "cell_type": "code",
   "execution_count": 34,
   "id": "dc2e7aa6",
   "metadata": {},
   "outputs": [
    {
     "name": "stdout",
     "output_type": "stream",
     "text": [
      "Enter the number: 7434567854\n",
      "The reverse of 7434567854 is 4587654347\n"
     ]
    }
   ],
   "source": [
    "# 2.Reverse digits in given number\n",
    "\n",
    "def revNum(n):\n",
    "    revs = 0\n",
    "    while(n>0):\n",
    "        rem = n % 10\n",
    "        revs = (revs*10) + rem\n",
    "        n = n // 10 \n",
    "    return revs\n",
    "\n",
    "num = int(input('Enter the number: '))\n",
    "revNum(num)\n",
    "print('The reverse of {0} is {1}'.format(num, revNum(num)))"
   ]
  },
  {
   "cell_type": "code",
   "execution_count": null,
   "id": "b932d38e",
   "metadata": {},
   "outputs": [],
   "source": []
  },
  {
   "cell_type": "code",
   "execution_count": 47,
   "id": "b02800a7",
   "metadata": {},
   "outputs": [
    {
     "name": "stdout",
     "output_type": "stream",
     "text": [
      "Enter the first number: 2\n",
      "Enter the second number: 12\n",
      "The Prime numbers in the range 2 to 12 are\n",
      "2\n",
      "3\n",
      "5\n",
      "7\n",
      "11\n",
      "Total Prime Numbers 5\n"
     ]
    }
   ],
   "source": [
    "# 3.Find all prime numbers from given range\n",
    "\n",
    "L = int(input('Enter the first number: '))\n",
    "R = int(input('Enter the second number: '))\n",
    "count = 0\n",
    "print('The Prime numbers in the range {0} to {1} are'.format(L, R))\n",
    "for n in range(L, R+1):\n",
    "    if n >1:\n",
    "        for i in range(2, n):\n",
    "            if n % i == 0:\n",
    "                break\n",
    "        else:\n",
    "            print(n)\n",
    "            count = count + 1\n",
    "print('Total Prime Numbers {0}'.format(count))"
   ]
  },
  {
   "cell_type": "code",
   "execution_count": 49,
   "id": "91102df1",
   "metadata": {},
   "outputs": [
    {
     "name": "stdout",
     "output_type": "stream",
     "text": [
      "Enter the first number: 2\n",
      "Enter the second number: 12\n",
      "The Prime numbers in the range 2 to 12 are\n",
      "2\n",
      "3\n",
      "5\n",
      "7\n",
      "11\n"
     ]
    }
   ],
   "source": [
    "def findPrime(L,R):\n",
    "    for n in range(L, R+1):\n",
    "        if n >1:\n",
    "            for i in range(2, n):\n",
    "                if n % i == 0:\n",
    "                    break\n",
    "            else:\n",
    "                print(n)\n",
    "\n",
    "L = int(input('Enter the first number: '))\n",
    "R = int(input('Enter the second number: '))\n",
    "print('The Prime numbers in the range {0} to {1} are'.format(L, R))\n",
    "findPrime(L,R)\n"
   ]
  },
  {
   "cell_type": "code",
   "execution_count": null,
   "id": "b126c15f",
   "metadata": {},
   "outputs": [],
   "source": []
  },
  {
   "cell_type": "code",
   "execution_count": 52,
   "id": "dd717922",
   "metadata": {},
   "outputs": [
    {
     "name": "stdout",
     "output_type": "stream",
     "text": [
      "Smruti Ranjan Polai I am Smruti Ranjan Polai\n",
      "{'Smruti': 2, 'Ranjan': 2, 'Polai': 2, 'I': 1, 'am': 1}\n"
     ]
    }
   ],
   "source": [
    "# 4.Display count of words in given sentence\n",
    "\n",
    "def word_count(str):\n",
    "    counts = dict()\n",
    "    words = str.split()\n",
    "    \n",
    "    for word in words:\n",
    "        if word in counts:\n",
    "            counts[word] += 1\n",
    "        else:\n",
    "            counts[word] = 1\n",
    "            \n",
    "    return counts\n",
    "\n",
    "stri = input()\n",
    "word_count(stri)\n",
    "print(word_count(stri))"
   ]
  },
  {
   "cell_type": "code",
   "execution_count": 9,
   "id": "92f5f80b",
   "metadata": {},
   "outputs": [
    {
     "name": "stdout",
     "output_type": "stream",
     "text": [
      "malayalum\n",
      "{'malayalum': 1}\n"
     ]
    }
   ],
   "source": [
    "def word_count(str):\n",
    "    counts = dict()\n",
    "    words = str.split()\n",
    "    \n",
    "    for word in words:\n",
    "        if word in counts:\n",
    "            counts[word] += 1\n",
    "        else:\n",
    "            counts[word] = 1\n",
    "            \n",
    "    return counts\n",
    "\n",
    "stri = input()\n",
    "word_count(stri)\n",
    "print(word_count(stri))"
   ]
  },
  {
   "cell_type": "code",
   "execution_count": null,
   "id": "60db6cc1",
   "metadata": {},
   "outputs": [],
   "source": []
  },
  {
   "cell_type": "code",
   "execution_count": 51,
   "id": "b056ed47",
   "metadata": {},
   "outputs": [
    {
     "name": "stdout",
     "output_type": "stream",
     "text": [
      "Smruti Ranjan Polai I am Smruti Ranjan Polai\n",
      "Ranjan\n",
      "The word Ranjan appears 2 times\n"
     ]
    }
   ],
   "source": [
    "# 5. Display Count of any one particular words in a sentence\n",
    "\n",
    "text = input().split(' ')\n",
    "\n",
    "w = input()\n",
    "count = 0\n",
    "for word in text:\n",
    "    if word.lower() == w.lower():\n",
    "        count+=1\n",
    "        \n",
    "print('The word {} appears {} times'.format(w, count))  # string formatting"
   ]
  },
  {
   "cell_type": "code",
   "execution_count": null,
   "id": "73f4497d",
   "metadata": {},
   "outputs": [],
   "source": []
  },
  {
   "cell_type": "code",
   "execution_count": 80,
   "id": "cb9dc5dd",
   "metadata": {},
   "outputs": [
    {
     "name": "stdout",
     "output_type": "stream",
     "text": [
      "bottle\n",
      "t\n",
      "w\n",
      "bowwle\n"
     ]
    }
   ],
   "source": [
    "# 6. Replace given character with another one in given string \n",
    "\n",
    "str1 = input()\n",
    "old = input()\n",
    "new = input()\n",
    "\n",
    "result = str1.replace(old, new)\n",
    "print(result)"
   ]
  },
  {
   "cell_type": "code",
   "execution_count": null,
   "id": "41ade6ac",
   "metadata": {},
   "outputs": [],
   "source": []
  },
  {
   "cell_type": "code",
   "execution_count": 54,
   "id": "0ac0a054",
   "metadata": {},
   "outputs": [
    {
     "name": "stdout",
     "output_type": "stream",
     "text": [
      "Smruti\n",
      "2\n",
      "m\n",
      "Smmuti\n"
     ]
    }
   ],
   "source": [
    "# 7. change the character of a given string at specific index\n",
    "\n",
    "str2 = input()\n",
    "pos = int(input())\n",
    "newch = input()\n",
    "\n",
    "result2 = str2[:pos] + newch + str2[pos+1:]\n",
    "print(result2)"
   ]
  },
  {
   "cell_type": "code",
   "execution_count": null,
   "id": "7ae70622",
   "metadata": {},
   "outputs": [],
   "source": []
  },
  {
   "cell_type": "code",
   "execution_count": 55,
   "id": "2ce94609",
   "metadata": {},
   "outputs": [
    {
     "name": "stdout",
     "output_type": "stream",
     "text": [
      "Enter the number of elements in the List: 6\n",
      "Enter elements: 12\n",
      "Enter elements: 78\n",
      "Enter elements: 456\n",
      "Enter elements: 349\n",
      "Enter elements: 90\n",
      "Enter elements: 236\n",
      "The largets element in lst is 456\n"
     ]
    }
   ],
   "source": [
    "# 8. Find largest number from given list of values\n",
    "\n",
    "lst = []\n",
    "num = int(input(\"Enter the number of elements in the List: \"))\n",
    "for i in range(1, num+1):\n",
    "    a = int(input(\"Enter elements: \"))\n",
    "    lst.append(a)\n",
    "print(\"The largets element in lst is {0}\".format(max(lst)))"
   ]
  },
  {
   "cell_type": "code",
   "execution_count": null,
   "id": "3c98d539",
   "metadata": {},
   "outputs": [],
   "source": []
  },
  {
   "cell_type": "code",
   "execution_count": 63,
   "id": "856b61d1",
   "metadata": {},
   "outputs": [
    {
     "name": "stdout",
     "output_type": "stream",
     "text": [
      "Enter the number: 55.667\n",
      "667.55\n"
     ]
    }
   ],
   "source": [
    "# 9. Swap numbers before decimal and after (E.g. 55.667 would become 667.55)\n",
    "\n",
    "def float_swap(fl):\n",
    "    a = float(fl)\n",
    "    a,b = str(a).split('.')\n",
    "    return b + '.' + a\n",
    "\n",
    "num = float(input('Enter the number: '))\n",
    "res = float_swap(num)\n",
    "print(res)"
   ]
  },
  {
   "cell_type": "markdown",
   "id": "0016635b",
   "metadata": {},
   "source": [
    " "
   ]
  },
  {
   "cell_type": "code",
   "execution_count": 77,
   "id": "01a7fcfe",
   "metadata": {},
   "outputs": [
    {
     "name": "stdout",
     "output_type": "stream",
     "text": [
      "Enter the number: 58585858\n",
      "Sum of even digits:  32\n",
      "Sum of odd digits:  20\n"
     ]
    }
   ],
   "source": [
    "# 10. Display sum of odd and even digits in the number \n",
    "# (E.g for number 534726, sum of odd digits is 5+3+7=15 and even digits is 4+2+6=12)\n",
    "\n",
    "n = int(input('Enter the number: '))\n",
    "a = c = 0\n",
    "while n>0:\n",
    "    b = n % 10\n",
    "    if(b%2 == 0):\n",
    "        a = a+b\n",
    "    else:\n",
    "        c = c+b\n",
    "    n = n//10\n",
    "print('Sum of even digits: ', a)\n",
    "print('Sum of odd digits: ', c)\n",
    "    "
   ]
  },
  {
   "cell_type": "code",
   "execution_count": null,
   "id": "fa1bf767",
   "metadata": {},
   "outputs": [],
   "source": []
  },
  {
   "cell_type": "code",
   "execution_count": 79,
   "id": "2e8ba99e",
   "metadata": {},
   "outputs": [
    {
     "name": "stdout",
     "output_type": "stream",
     "text": [
      "Enter first string: rescue\n",
      "Enter second string: curse\n",
      "Same\n"
     ]
    }
   ],
   "source": [
    "# 11. Swagger and Rock are playing a word game. They need to check the two strings use the same base \n",
    "# alphabets. Two strings are said to have same base alphabets if they use the same characters to form \n",
    "# the word. eg: rescue and curse have same base alphabets - c,e,r,s,u.If it so print 'true' else print \n",
    "# 'false'.\n",
    "\n",
    "str1 = input('Enter first string: ')\n",
    "str2 = input('Enter second string: ')\n",
    "\n",
    "if(set(str1) == set(str2)):\n",
    "    print('Same')\n",
    "else:\n",
    "    print('different')\n"
   ]
  },
  {
   "cell_type": "code",
   "execution_count": null,
   "id": "c5d21908",
   "metadata": {},
   "outputs": [],
   "source": []
  },
  {
   "cell_type": "code",
   "execution_count": 81,
   "id": "3c6ff9b5",
   "metadata": {},
   "outputs": [
    {
     "name": "stdout",
     "output_type": "stream",
     "text": [
      "Enter the number: 5\n",
      "Fcatorial of 5 is: 120\n"
     ]
    }
   ],
   "source": [
    "# 12. Factorial number\n",
    "\n",
    "num = int(input('Enter the number: '))\n",
    "i = 1\n",
    "fact = 1\n",
    "while(i<=num):\n",
    "    fact = fact*i\n",
    "    i = i+1\n",
    "    \n",
    "print('Fcatorial of',num, \"is:\", fact)"
   ]
  },
  {
   "cell_type": "code",
   "execution_count": 1,
   "id": "6335ec91",
   "metadata": {},
   "outputs": [
    {
     "name": "stdout",
     "output_type": "stream",
     "text": [
      "120\n"
     ]
    }
   ],
   "source": [
    "# n! = 1 * 2 * 3 * 4...*n\n",
    "# n! = [1 * 2 * 3 * 4... n-1] *n\n",
    "# n! = n * (n-1)! \n",
    "\n",
    "# n = 0\n",
    "# product = 1\n",
    "# for i in range(n):\n",
    "#     product = product * (i+1)\n",
    "# print(product)\n",
    "\n",
    "def factorial_iter(n):\n",
    "    product = 1\n",
    "    for i in range(n):\n",
    "        product = product * (i+1)\n",
    "    return product\n",
    "\n",
    "def factorial_recursive(n):\n",
    "    if n == 1 or n == 0:\n",
    "        return 1\n",
    "    return n * factorial_recursive(n-1)\n",
    "\n",
    "f = factorial_iter(5)\n",
    "# f = factorial_recursive(4)\n",
    "print(f)"
   ]
  },
  {
   "cell_type": "code",
   "execution_count": null,
   "id": "3c12195f",
   "metadata": {},
   "outputs": [],
   "source": []
  },
  {
   "cell_type": "code",
   "execution_count": 83,
   "id": "14b9cfc0",
   "metadata": {},
   "outputs": [
    {
     "name": "stdout",
     "output_type": "stream",
     "text": [
      "Enter the number: 8\n",
      "0\n",
      "1\n",
      "1\n",
      "2\n",
      "3\n",
      "5\n",
      "8\n",
      "13\n",
      "21\n",
      "34\n"
     ]
    }
   ],
   "source": [
    "# 13. Fibbonacci series\n",
    "\n",
    "numb = int(input('Enter the number: '))\n",
    "a = 0\n",
    "b = 1\n",
    "print(a)\n",
    "print(b)\n",
    "\n",
    "for i in range(0, numb):\n",
    "    sum_of_numbers = a+b\n",
    "    a = b\n",
    "    b = sum_of_numbers\n",
    "    \n",
    "    print(sum_of_numbers)\n"
   ]
  },
  {
   "cell_type": "code",
   "execution_count": 4,
   "id": "7bfded26",
   "metadata": {},
   "outputs": [
    {
     "name": "stdout",
     "output_type": "stream",
     "text": [
      "153\n",
      "Armstrong\n"
     ]
    }
   ],
   "source": [
    "# 14. Armstrong Number\n",
    "\n",
    "number = int(input())\n",
    "num = number\n",
    "digit, sum = 0, 0\n",
    "length = len(str(num))\n",
    "for i in range(length):\n",
    "    digit = int(num%10)\n",
    "    num = num/10\n",
    "    sum += pow(digit,length)\n",
    "if sum==number:\n",
    "    print(\"Armstrong\")\n",
    "else:\n",
    "    print(\"Not Armstrong\")"
   ]
  },
  {
   "cell_type": "code",
   "execution_count": 5,
   "id": "3d459970",
   "metadata": {},
   "outputs": [
    {
     "name": "stdout",
     "output_type": "stream",
     "text": [
      "153\n",
      "Armstrong\n"
     ]
    }
   ],
   "source": [
    "number = int(input())\n",
    "num = number\n",
    "sum =0\n",
    "length = len(str(num))\n",
    "def checkArmstrong(num,length,sum):\n",
    "    if num==0:\n",
    "        return sum\n",
    "    sum+=pow(int(num%10),length)\n",
    "    return checkArmstrong(num/10,length,sum)\n",
    "if checkArmstrong(num,length,sum)==number:\n",
    "    print('Armstrong')\n",
    "else:\n",
    "    print(\"Not Armstrong\")"
   ]
  },
  {
   "cell_type": "code",
   "execution_count": null,
   "id": "4bf21666",
   "metadata": {},
   "outputs": [],
   "source": []
  },
  {
   "cell_type": "code",
   "execution_count": 85,
   "id": "fc6f781a",
   "metadata": {},
   "outputs": [
    {
     "name": "stdout",
     "output_type": "stream",
     "text": [
      "Enter the number: 384694\n",
      "Largest Digit:  9\n",
      "Smallest Digit:  3\n",
      "Sum of digits:  70\n"
     ]
    }
   ],
   "source": [
    "# 15. min, max, sum of digit of a number\n",
    "\n",
    "num = int(input('Enter the number: '))\n",
    "largest_num = 0\n",
    "smallest_num = 9\n",
    "\n",
    "while(num>0):\n",
    "    rem = num%10\n",
    "    count = count + rem\n",
    "    if largest_num<rem:\n",
    "        largest_num = rem\n",
    "    elif smallest_num>rem:\n",
    "        smallest_num = rem\n",
    "    num = int(num/10)\n",
    "print('Largest Digit: ', largest_num)\n",
    "print('Smallest Digit: ', smallest_num)\n",
    "print('Sum of digits: ', count)\n",
    "    "
   ]
  },
  {
   "cell_type": "code",
   "execution_count": null,
   "id": "d4ee0ba0",
   "metadata": {},
   "outputs": [],
   "source": []
  },
  {
   "cell_type": "code",
   "execution_count": 1,
   "id": "a583fd0f",
   "metadata": {},
   "outputs": [
    {
     "name": "stdout",
     "output_type": "stream",
     "text": [
      "Enter a count: 6\n",
      "Enter Number: \n",
      "56\n",
      "43\n",
      "87\n",
      "65\n",
      "23\n",
      "43\n",
      "Average:  52.833333333333336\n",
      "Minimum number:  23\n",
      "Maximum number:  87\n"
     ]
    }
   ],
   "source": [
    "# 16. min, max, average of digits of a number without using array /collections\n",
    "\n",
    "number = int(input('Enter a count: '))\n",
    "total = 0.0\n",
    "count = 0\n",
    "minimum = 0\n",
    "maximum = 0\n",
    "\n",
    "print('Enter Number: ')\n",
    "for i in range(number):\n",
    "    num = int(input())\n",
    "    count = count + 1\n",
    "    total = total + num\n",
    "    \n",
    "    if(i == 0):\n",
    "        minimum = num\n",
    "    \n",
    "    if num<minimum:\n",
    "        minimum = num\n",
    "    elif num>maximum:\n",
    "        maximum = num\n",
    "\n",
    "print(\"Average: \", total/number)\n",
    "print(\"Minimum number: \", minimum)\n",
    "print(\"Maximum number: \", maximum)"
   ]
  },
  {
   "cell_type": "code",
   "execution_count": null,
   "id": "d393134a",
   "metadata": {},
   "outputs": [],
   "source": []
  },
  {
   "cell_type": "code",
   "execution_count": 4,
   "id": "d12f65a2",
   "metadata": {},
   "outputs": [
    {
     "name": "stdout",
     "output_type": "stream",
     "text": [
      "4\n",
      "56\n",
      "23\n",
      "87\n",
      "78\n",
      "Max element is 87\n",
      "Min element is 23\n"
     ]
    }
   ],
   "source": [
    "# 17. read a list from user as input and print max & min element\n",
    "\n",
    "n = int(input())\n",
    "l = []\n",
    "\n",
    "for i in range(n):\n",
    "    l.append(int(input()))\n",
    "\n",
    "min_ele = l[0]\n",
    "max_ele = l[0]\n",
    "\n",
    "for el in l:\n",
    "    if el>max_ele:\n",
    "        max_ele = el\n",
    "        \n",
    "    if el<min_ele:\n",
    "        min_ele = el\n",
    "        \n",
    "print(f'Max element is {max_ele}')\n",
    "print(f'Min element is {min_ele}')"
   ]
  },
  {
   "cell_type": "code",
   "execution_count": null,
   "id": "08668a7f",
   "metadata": {},
   "outputs": [],
   "source": []
  },
  {
   "cell_type": "code",
   "execution_count": 5,
   "id": "f0002363",
   "metadata": {},
   "outputs": [
    {
     "name": "stdout",
     "output_type": "stream",
     "text": [
      "4\n",
      "56\n",
      "78\n",
      "9\n",
      "43\n",
      "Average of list is 46.5\n"
     ]
    }
   ],
   "source": [
    "# 18. read a list & print average of all the elements in the list\n",
    "\n",
    "n = int(input())\n",
    "l = []\n",
    "\n",
    "for i in range(n):\n",
    "    l.append(int(input()))\n",
    "    \n",
    "sum = 0\n",
    "\n",
    "for element in l:\n",
    "    sum += element\n",
    "\n",
    "print('Average of list is {0}'.format(sum/n))"
   ]
  },
  {
   "cell_type": "code",
   "execution_count": 6,
   "id": "6230520d",
   "metadata": {},
   "outputs": [
    {
     "name": "stdout",
     "output_type": "stream",
     "text": [
      "7\n",
      "23\n",
      "45\n",
      "68\n",
      "97\n",
      "64\n",
      "33\n",
      "17\n",
      "[23, 45, 97, 33, 17]\n"
     ]
    }
   ],
   "source": [
    "# 19. read a list from input & print the subset array of all the odd numbers in the list\n",
    "\n",
    "n = int(input())\n",
    "l = []\n",
    "\n",
    "for i in range(n):\n",
    "    l.append(int(input()))\n",
    "    \n",
    "list_of_odds = []\n",
    "\n",
    "for el in l:\n",
    "    if el %2 != 0:\n",
    "        list_of_odds.append(el)\n",
    "        \n",
    "print(list_of_odds)"
   ]
  },
  {
   "cell_type": "code",
   "execution_count": 8,
   "id": "f670ccad",
   "metadata": {},
   "outputs": [
    {
     "name": "stdout",
     "output_type": "stream",
     "text": [
      "6\n",
      "1\n",
      "2\n",
      "3\n",
      "4\n",
      "5\n",
      "6\n",
      "[4, 5, 6, 1, 2, 3]\n"
     ]
    }
   ],
   "source": [
    "# 20. read a list from input; swap the elements in the list in the middle\n",
    "\n",
    "# i/p : [1, 2, 3, 4, 5, 6]       o/p : [4, 5, 6, 1, 2, 3]\n",
    "# i/p : [1, 2, 3, 4, 5]       o/p : [4, 5, 3, 1, 2]\n",
    "\n",
    "n = int(input())\n",
    "l = []\n",
    "\n",
    "for i in range(n):\n",
    "    l.append(int(input()))\n",
    "    \n",
    "# even number of elements\n",
    "if n%2 == 0:\n",
    "    ele_in_single_half = int(n/2)\n",
    "    first_half = l[:ele_in_single_half]\n",
    "    second_half = l[ele_in_single_half:]\n",
    "    print(second_half + first_half)\n",
    "    \n",
    "# odd number of elements\n",
    "else:\n",
    "    middle = int(math.floor(n/2))\n",
    "    first_half = l[:middle]\n",
    "    second_half = l[middle + l:]\n",
    "    print(second_half + [l[middle]] + first_half)\n",
    "    "
   ]
  },
  {
   "cell_type": "code",
   "execution_count": 10,
   "id": "c9057108",
   "metadata": {},
   "outputs": [
    {
     "name": "stdout",
     "output_type": "stream",
     "text": [
      "6\n",
      "2\n",
      "3\n",
      "4\n",
      "5\n",
      "7\n",
      "9\n",
      "There are 4 prime numbers in list\n"
     ]
    }
   ],
   "source": [
    "# 21. read a list from input. Find count of prime numbers in the list\n",
    "\n",
    "n = int(input())\n",
    "l = []\n",
    "\n",
    "for i in range(n):\n",
    "    l.append(int(input()))\n",
    "    \n",
    "prime_count = 0\n",
    "\n",
    "for el in l:\n",
    "    if el == 1 or el == 0:\n",
    "        continue\n",
    "    else:\n",
    "        prime = True\n",
    "        \n",
    "        for number in range(2, el):\n",
    "            if el % number == 0:\n",
    "                prime = False\n",
    "                \n",
    "        if prime == True:\n",
    "            prime_count += 1\n",
    "\n",
    "print(f'There are {prime_count} prime numbers in list')"
   ]
  },
  {
   "cell_type": "code",
   "execution_count": null,
   "id": "5ee715ac",
   "metadata": {},
   "outputs": [],
   "source": []
  },
  {
   "cell_type": "code",
   "execution_count": null,
   "id": "4ffe5692",
   "metadata": {},
   "outputs": [],
   "source": []
  },
  {
   "cell_type": "code",
   "execution_count": 11,
   "id": "78ecf5c8",
   "metadata": {},
   "outputs": [
    {
     "name": "stdout",
     "output_type": "stream",
     "text": [
      "Enter number of elements: 4\n",
      "12\n",
      "34\n",
      "67\n",
      "87\n",
      "Enter element to search: 90\n",
      "90 is Numeric\n",
      "No! 90 does not exists in list ['12', '34', '67', '87']\n"
     ]
    }
   ],
   "source": [
    "# 22. WAP to search i/p value in a list, create a list by taking i/p from user;\n",
    "# also check the search value is numeric or string\n",
    "\n",
    "lst = []\n",
    "flag = 0\n",
    "n = int(input('Enter number of elements: '))\n",
    "\n",
    "for i in range(0,n):\n",
    "    ele = input()\n",
    "    lst.append(ele)\n",
    "    \n",
    "search_ele = input('Enter element to search: ')\n",
    "for i in lst:\n",
    "    if(i == search_ele):\n",
    "        flag += 1\n",
    "if(str(search_ele).isdigit()):\n",
    "    print(search_ele, 'is Numeric')\n",
    "else:\n",
    "    print(search_ele, 'is String')\n",
    "    \n",
    "if(flag!=0):\n",
    "    print(\"Yes!\",search_ele,\"exists in list\",lst)\n",
    "else:\n",
    "    print(\"No!\",search_ele,\"does not exists in list\",lst)"
   ]
  },
  {
   "cell_type": "code",
   "execution_count": 16,
   "id": "260180da",
   "metadata": {},
   "outputs": [
    {
     "name": "stdout",
     "output_type": "stream",
     "text": [
      "Enter number of elements in the array: 6\n",
      "12\n",
      "3\n",
      "5\n",
      "7\n",
      "9\n",
      "10\n",
      "Enter range start point: 1\n",
      "Enter range end point: 8\n",
      "Values between 1 and 8 are: 3\n"
     ]
    }
   ],
   "source": [
    "# 23. search numeric values from the array between given range of two input values (define a function \n",
    "# to set logic to count in a range)\n",
    "\n",
    "def countInRange(arr, n, x, y):\n",
    "    count = 0\n",
    "    for i in range(n):\n",
    "        if (arr[i] >= x and arr[i] <=y ):\n",
    "            count += 1\n",
    "    return count\n",
    "    \n",
    "arr = []\n",
    "n = int(input('Enter number of elements in the array: '))\n",
    "for i in range(0, n):\n",
    "    ele = int(input())\n",
    "    arr.append(ele)\n",
    "    \n",
    "arr_size = len(arr)\n",
    "i = int(input('Enter range start point: '))\n",
    "j = int(input('Enter range end point: '))\n",
    "\n",
    "num = countInRange(arr, arr_size, i, j)\n",
    "if(num != 0):\n",
    "    print(\"Values between\",i,\"and\",j,\"are:\",num)\n",
    "else:\n",
    "    print('No values found')"
   ]
  },
  {
   "cell_type": "code",
   "execution_count": null,
   "id": "da3e8661",
   "metadata": {},
   "outputs": [],
   "source": []
  },
  {
   "cell_type": "code",
   "execution_count": 18,
   "id": "b43da922",
   "metadata": {},
   "outputs": [
    {
     "name": "stdout",
     "output_type": "stream",
     "text": [
      "Enter number of elements in the array: 3\n",
      "23\n",
      "23\n",
      "23\n",
      "In Array: [23, 23, 23]\n",
      "Second largest element in the list: 23\n"
     ]
    }
   ],
   "source": [
    "# 24. WAP to take input array from user and find second largest value in the numeric array\n",
    "\n",
    "arr = []\n",
    "n = int(input('Enter number of elements in the array: '))\n",
    "for i in range(0, n):\n",
    "    ele = int(input())\n",
    "    arr.append(ele)\n",
    "    \n",
    "if(len(arr)<2):\n",
    "    print('Invalid Input')\n",
    "else:\n",
    "    arr.sort()\n",
    "    print('In Array:', arr)\n",
    "    print('Second largest element in the list:', arr[-2])"
   ]
  },
  {
   "cell_type": "code",
   "execution_count": null,
   "id": "d0a32a6b",
   "metadata": {},
   "outputs": [],
   "source": []
  },
  {
   "cell_type": "code",
   "execution_count": 19,
   "id": "1a4aeb2d",
   "metadata": {},
   "outputs": [
    {
     "name": "stdout",
     "output_type": "stream",
     "text": [
      "Enter number of elements: 6\n",
      "Enter list elements: \n",
      "32\n",
      "90\n",
      "12\n",
      "65\n",
      "43\n",
      "78\n",
      "Original List is:  [32, 90, 12, 65, 43, 78]\n",
      "Sorted List is:  [12, 32, 43, 65, 78, 90]\n"
     ]
    }
   ],
   "source": [
    "# 25. WAP to create an array by taking input from user and then print the array and\n",
    "# the sorted array using selection sort algorithm)\n",
    "\n",
    "my_list = []\n",
    "n = int(input('Enter number of elements: '))\n",
    "\n",
    "print('Enter list elements: ')\n",
    "for i in range(n):\n",
    "    ele = int(input())\n",
    "    my_list.append(ele)\n",
    "    \n",
    "print('Original List is: ', my_list)\n",
    "\n",
    "for x in range(len(my_list)):\n",
    "    for y in range(x+1, len(my_list)):\n",
    "        if(my_list[x] > my_list[y]):\n",
    "            temp = my_list[x]\n",
    "            my_list[x] = my_list[y]\n",
    "            my_list[y] = temp\n",
    "            \n",
    "print('Sorted List is: ', my_list)"
   ]
  },
  {
   "cell_type": "code",
   "execution_count": null,
   "id": "871c9439",
   "metadata": {},
   "outputs": [],
   "source": []
  },
  {
   "cell_type": "code",
   "execution_count": 24,
   "id": "af8133eb",
   "metadata": {},
   "outputs": [
    {
     "name": "stdout",
     "output_type": "stream",
     "text": [
      "Enter element for divisibility: 3\n",
      "Array is:  10 20 34 57 33 21 30 \n",
      " 4 elements in array are divisible by 3 which are: [57, 33, 21, 30]\n"
     ]
    }
   ],
   "source": [
    "# 26. WAP to search how many numbers in given array are divisible by input value, also display those numbers\n",
    "\n",
    "import array as arr\n",
    "count = 0\n",
    "lst = []\n",
    "a = arr.array('i', [10, 20, 34, 57, 33, 21, 30])\n",
    "ele = int(input('Enter element for divisibility: '))\n",
    "\n",
    "for i in range(len(a)):\n",
    "    if(a[i] % ele == 0):\n",
    "        count = count+1\n",
    "        lst.append(a[i])\n",
    "        \n",
    "print('Array is: ', end = \" \")\n",
    "for i in range(0, len(a)):\n",
    "    print(a[i], end=\" \")\n",
    "\n",
    "print(\"\\n\",count,\"elements in array are divisible by\",ele,\"which are:\",lst)"
   ]
  },
  {
   "cell_type": "code",
   "execution_count": null,
   "id": "0fc111e6",
   "metadata": {},
   "outputs": [],
   "source": []
  },
  {
   "cell_type": "code",
   "execution_count": 26,
   "id": "14a65d02",
   "metadata": {},
   "outputs": [
    {
     "name": "stdout",
     "output_type": "stream",
     "text": [
      "Enter size of list 4\n",
      "Enter element of list 4\n",
      "Enter element of list 5\n",
      "Enter element of list 4\n",
      "Enter element of list 4\n",
      "Original list:  [4, 5, 4, 4]\n",
      "Enter element to be checked list: 4\n",
      "4  has occurred  3 times\n"
     ]
    }
   ],
   "source": [
    "# 27. WAP to get number of occurance sof a specified elements in an array\n",
    "\n",
    "li=[]\n",
    "n=int(input(\"Enter size of list \"))\n",
    "for i in range(0,n):\n",
    "    e=int(input(\"Enter element of list \"))\n",
    "    li.append(e)\n",
    "print(\"Original list: \",li)\n",
    "\n",
    "n=int(input(\"Enter element to be checked list: \"))\n",
    "\n",
    "#using count()\n",
    "print(n,\" has occurred \",li.count(n),\"times\")"
   ]
  },
  {
   "cell_type": "code",
   "execution_count": null,
   "id": "724197fe",
   "metadata": {},
   "outputs": [],
   "source": []
  },
  {
   "cell_type": "code",
   "execution_count": 27,
   "id": "91b5026a",
   "metadata": {},
   "outputs": [
    {
     "name": "stdout",
     "output_type": "stream",
     "text": [
      "enter number of elements: 7\n",
      "enter the array elements: 1\n",
      "enter the array elements: 3\n",
      "enter the array elements: 5\n",
      "enter the array elements: 1\n",
      "enter the array elements: 3\n",
      "enter the array elements: 7\n",
      "enter the array elements: 9\n",
      "entered array is:\n",
      "1\n",
      "3\n",
      "5\n",
      "1\n",
      "3\n",
      "7\n",
      "9\n",
      "Array after removing the duplicate elements = [1, 3, 5, 7, 9]\n"
     ]
    }
   ],
   "source": [
    "# 28. WAP to remove duplicate elements from an array\n",
    "\n",
    "from array import *\n",
    "arr = array('i', [])\n",
    "n = int(input(\"enter number of elements: \"))\n",
    "for i in range(n):\n",
    "    arr.append(int(input(\"enter the array elements: \")))\n",
    "\n",
    "print(\"entered array is:\")\n",
    "for i in range(len(arr)):\n",
    "    print(arr[i])\n",
    "newlist = []\n",
    "for x in arr:\n",
    "    if x not in newlist:\n",
    "        newlist.append(x)\n",
    "arr = newlist\n",
    "print(\"Array after removing the duplicate elements =\", newlist)"
   ]
  },
  {
   "cell_type": "code",
   "execution_count": null,
   "id": "be433711",
   "metadata": {},
   "outputs": [],
   "source": []
  },
  {
   "cell_type": "code",
   "execution_count": 28,
   "id": "1cde4e85",
   "metadata": {},
   "outputs": [
    {
     "name": "stdout",
     "output_type": "stream",
     "text": [
      "2\n"
     ]
    }
   ],
   "source": [
    "# 29. WAP to count number of strings where string length is 2 or more and first & last chracter are same\n",
    "# for given list of strings\n",
    "\n",
    "def match_words(words):\n",
    "    ctr = 0\n",
    "\n",
    "    for word in words:\n",
    "        if len(word) > 1 and word[0] == word[-1]:\n",
    "            ctr += 1\n",
    "    return ctr\n",
    "\n",
    "print(match_words(['abc', 'xyz', 'aba', '1221']))"
   ]
  },
  {
   "cell_type": "code",
   "execution_count": null,
   "id": "dcd4f260",
   "metadata": {},
   "outputs": [],
   "source": []
  },
  {
   "cell_type": "code",
   "execution_count": 29,
   "id": "2a6220ef",
   "metadata": {},
   "outputs": [
    {
     "name": "stdout",
     "output_type": "stream",
     "text": [
      "Enter size of list 6\n",
      "Enter element of list 4\n",
      "Enter element of list 5\n",
      "Enter element of list 6\n",
      "Enter element of list 7\n",
      "Enter element of list 23\n",
      "Enter element of list 9\n",
      "Original list:  [4, 5, 6, 7, 23, 9]\n",
      "Enter range start value: 1\n",
      "Enter range start value: 25\n",
      "Does list contain all elements in range : True\n"
     ]
    }
   ],
   "source": [
    "# 30. WAP to test if list contains elements in range; if present print 'True'\n",
    "\n",
    "li=[]\n",
    "n=int(input(\"Enter size of list \"))\n",
    "for i in range(0,n):\n",
    "    e=int(input(\"Enter element of list \"))\n",
    "    li.append(e)\n",
    "print(\"Original list: \",li)\n",
    "\n",
    "k = int(input(\"Enter range start value: \"))\n",
    "l = int(input(\"Enter range start value: \"))\n",
    "res = all(ele >= k and ele < l for ele in li) \n",
    "  \n",
    "# printing result \n",
    "print (\"Does list contain all elements in range : \" + str(res))"
   ]
  },
  {
   "cell_type": "code",
   "execution_count": null,
   "id": "6947e693",
   "metadata": {},
   "outputs": [],
   "source": []
  },
  {
   "cell_type": "code",
   "execution_count": 2,
   "id": "8f6c6f60",
   "metadata": {},
   "outputs": [
    {
     "name": "stdout",
     "output_type": "stream",
     "text": [
      "The list is : \n",
      "[(3, 4, 6, 723), (1, 2), (134, 234, 34)]\n",
      "The sorted tuples are \n",
      "[(1, 2), (3, 4, 6, 723), (134, 234, 34)]\n"
     ]
    }
   ],
   "source": [
    "# 31. WAP to sort tuples by total digits\n",
    "\n",
    "my_list = [(3, 4, 6, 723), (1, 2), (134, 234, 34)]\n",
    "\n",
    "print(\"The list is : \")\n",
    "print(my_list)\n",
    "\n",
    "my_result = sorted(my_list, key = lambda tup : sum([len(str(ele)) for ele in tup ]))\n",
    "\n",
    "print(\"The sorted tuples are \")\n",
    "print(my_result)"
   ]
  },
  {
   "cell_type": "code",
   "execution_count": null,
   "id": "aa92e00c",
   "metadata": {},
   "outputs": [],
   "source": []
  },
  {
   "cell_type": "code",
   "execution_count": 31,
   "id": "b966a213",
   "metadata": {},
   "outputs": [
    {
     "name": "stdout",
     "output_type": "stream",
     "text": [
      "{'a': 400, 'b': 400}\n"
     ]
    }
   ],
   "source": [
    "# 32. WAP to combine two dictonaries by adding values for common keys\n",
    "\n",
    "d1 = {'a': 100, 'b': 200, 'c':300}\n",
    "d2 = {'a': 300, 'b': 200, 'd':400}\n",
    "d3 = {}\n",
    "for i, j in d1.items():\n",
    "    for x, y in d2.items():\n",
    "        if i == x:\n",
    "            d3[i]=(j+y)\n",
    "print(d3)\n",
    "items = {'a': 400, 'b': 400}"
   ]
  },
  {
   "cell_type": "code",
   "execution_count": null,
   "id": "88f2345f",
   "metadata": {},
   "outputs": [],
   "source": []
  },
  {
   "cell_type": "code",
   "execution_count": 32,
   "id": "4c9c4be3",
   "metadata": {},
   "outputs": [
    {
     "name": "stdout",
     "output_type": "stream",
     "text": [
      "Enter size of list 4\n",
      "Enter element of list guava\n",
      "Enter element of list apple\n",
      "Enter element of list orange\n",
      "Enter element of list grapes\n",
      "Original list:  ['guava', 'apple', 'orange', 'grapes']\n",
      "['apple', 'grapes', 'guava', 'orange']\n",
      "['orange', 'guava', 'grapes', 'apple']\n"
     ]
    }
   ],
   "source": [
    "# 33. WAP to take input and store it in list; print the sorted list first in ascending order & \n",
    "# then in descending order\n",
    "\n",
    "li=[]\n",
    "n=int(input(\"Enter size of list \"))\n",
    "for i in range(0,n):\n",
    "    e=input(\"Enter element of list \")\n",
    "    li.append(e)\n",
    "print(\"Original list: \",li)\n",
    "li.sort()\n",
    "print(li)\n",
    "li.sort(key=None, reverse=True)\n",
    "print(li)"
   ]
  },
  {
   "cell_type": "code",
   "execution_count": null,
   "id": "941fe8ca",
   "metadata": {},
   "outputs": [],
   "source": []
  },
  {
   "cell_type": "code",
   "execution_count": 33,
   "id": "6424a74a",
   "metadata": {},
   "outputs": [
    {
     "name": "stdout",
     "output_type": "stream",
     "text": [
      "[('army', 41), ('beth', 37), ('jane', 43), ('john', 41), ('mike', 59), ('zane', 32)]\n",
      "[32, 37, 41, 41, 43, 59]\n"
     ]
    }
   ],
   "source": [
    "# 34. WAP to sort dictionary first on the basis of key and then value\n",
    "\n",
    "dict = {'beth': 37, 'zane': 32, 'john': 41, 'army': 41, 'mike': 59, 'jane': 43}\n",
    "\n",
    "sort_keys = dict.items()\n",
    "new_items = sorted(sort_keys)\n",
    "print(new_items)\n",
    "\n",
    "sort_values = dict.values()\n",
    "new_values = sorted(sort_values)\n",
    "print(new_values)"
   ]
  },
  {
   "cell_type": "code",
   "execution_count": 34,
   "id": "07e52087",
   "metadata": {},
   "outputs": [
    {
     "name": "stdout",
     "output_type": "stream",
     "text": [
      "Sorted keys ['Gayle', 'George', 'John', 'Micheal', 'Potter', 'Robert']\n",
      "Sorted Values [(1, 'Potter'), (2, 'John'), (6, 'George'), (7, 'Robert'), (8, 'Gayle'), (9, 'Micheal')]\n"
     ]
    }
   ],
   "source": [
    "dict = {6:'George' ,2:'John' ,1:'Potter' ,9:'Micheal' ,7:'Robert' ,8:'Gayle' }  \n",
    "b = sorted(dict.values())\n",
    "print(\"Sorted keys\",b)  \n",
    "  \n",
    "c = sorted(dict.items())\n",
    "print(\"Sorted Values\",c) "
   ]
  },
  {
   "cell_type": "code",
   "execution_count": null,
   "id": "bba3c873",
   "metadata": {},
   "outputs": [],
   "source": []
  },
  {
   "cell_type": "code",
   "execution_count": 1,
   "id": "12611251",
   "metadata": {},
   "outputs": [
    {
     "name": "stdout",
     "output_type": "stream",
     "text": [
      "smruti ranjan polai\n",
      "7\n"
     ]
    }
   ],
   "source": [
    "# 35. read a word and print total number of vowels\n",
    "\n",
    "word = input()\n",
    "count = 0\n",
    "for i in word:\n",
    "    if i.lower() in ['a', 'e', 'i', 'o', 'u']:\n",
    "        count += 1\n",
    "print(count)"
   ]
  },
  {
   "cell_type": "code",
   "execution_count": null,
   "id": "49ebe437",
   "metadata": {},
   "outputs": [],
   "source": []
  },
  {
   "cell_type": "code",
   "execution_count": 2,
   "id": "a402b3b0",
   "metadata": {},
   "outputs": [
    {
     "name": "stdout",
     "output_type": "stream",
     "text": [
      "smruti ranjan polai\n",
      "a - 3\n",
      "e - 0\n",
      "i - 2\n",
      "o - 1\n",
      "u - 1\n"
     ]
    }
   ],
   "source": [
    "# 36. read a string from as input and print count of each words\n",
    "\n",
    "sentence = input()\n",
    "for char in['a', 'e', 'i', 'o', 'u']:\n",
    "    c = 0\n",
    "    for letter in sentence:\n",
    "        if letter.lower() == char:\n",
    "            c = c+1\n",
    "    print('{} - {}'.format(char, c))"
   ]
  },
  {
   "cell_type": "code",
   "execution_count": null,
   "id": "d5054c3a",
   "metadata": {},
   "outputs": [],
   "source": []
  },
  {
   "cell_type": "code",
   "execution_count": 3,
   "id": "98a82b6d",
   "metadata": {},
   "outputs": [
    {
     "name": "stdout",
     "output_type": "stream",
     "text": [
      "smruti ranjan polai\n",
      "r\n",
      "smuti anjan polai"
     ]
    }
   ],
   "source": [
    "# 37. read a word and print after deleting all the occurancs of the letter\n",
    "word = input()\n",
    "letter = input()\n",
    "\n",
    "for i in word:\n",
    "    if i != letter:\n",
    "        print(i, end = \"\")"
   ]
  },
  {
   "cell_type": "code",
   "execution_count": null,
   "id": "1bbef85b",
   "metadata": {},
   "outputs": [],
   "source": []
  },
  {
   "cell_type": "code",
   "execution_count": 4,
   "id": "40acb8a1",
   "metadata": {},
   "outputs": [
    {
     "name": "stdout",
     "output_type": "stream",
     "text": [
      "smruti ranjan polai\n",
      "After removing vowels:  smrt rnjn pl\n"
     ]
    }
   ],
   "source": [
    "# 38. read a word and remove the vowels from the word\n",
    "\n",
    "word = input()\n",
    "vowels = ['a', 'e', 'i', 'o', 'u', 'A', 'E', 'I', 'O', 'U']\n",
    "result = \"\"\n",
    "for i in range(len(word)):\n",
    "    if word[i] not in vowels:\n",
    "        result = result + word[i]\n",
    "print('After removing vowels: ', result)"
   ]
  },
  {
   "cell_type": "code",
   "execution_count": null,
   "id": "0b74f132",
   "metadata": {},
   "outputs": [],
   "source": []
  },
  {
   "cell_type": "code",
   "execution_count": 6,
   "id": "ad8198ad",
   "metadata": {},
   "outputs": [
    {
     "name": "stdout",
     "output_type": "stream",
     "text": [
      "15\n",
      "10\n",
      "GCD is:  5\n"
     ]
    }
   ],
   "source": [
    "# 39. finding GCD or HCF\n",
    "\n",
    "def hcf(a,b):\n",
    "    if(b == 0):\n",
    "        return abs(a)\n",
    "    else:\n",
    "        return hcf(b, a%b)\n",
    "    \n",
    "a = int(input())\n",
    "b = int(input())\n",
    "print('GCD is: ', end = \" \")\n",
    "print(hcf(a,b))"
   ]
  },
  {
   "cell_type": "code",
   "execution_count": 13,
   "id": "026691e2",
   "metadata": {},
   "outputs": [
    {
     "name": "stdout",
     "output_type": "stream",
     "text": [
      "Enter the number: 3\n",
      "Enter the elements: \n",
      "12\n",
      "14\n",
      "56\n",
      "The gcd is:  2\n"
     ]
    }
   ],
   "source": [
    "def gcd(x,y):\n",
    "    while x!=y:\n",
    "        if x>y:\n",
    "            x=x-y\n",
    "        else:\n",
    "            y=y-x\n",
    "#returning the gcd\n",
    "    return x\n",
    "#taking the inputs\n",
    "a=[]\n",
    "n=int(input(\"Enter the number: \"))\n",
    "print(\"Enter the elements: \")\n",
    "for i in range(0,n):\n",
    "    a.append(int(input()))\n",
    "#finding the GCD\n",
    "g=a[0]\n",
    "for i in range(1,n):\n",
    "    g=gcd(g,a[i])\n",
    "print(\"The gcd is: \",g)\n"
   ]
  },
  {
   "cell_type": "code",
   "execution_count": null,
   "id": "6bb6434b",
   "metadata": {},
   "outputs": [],
   "source": []
  },
  {
   "cell_type": "code",
   "execution_count": 8,
   "id": "7739e00a",
   "metadata": {},
   "outputs": [
    {
     "name": "stdout",
     "output_type": "stream",
     "text": [
      "15\n",
      "10\n",
      "LCM is:  30\n"
     ]
    }
   ],
   "source": [
    "# 40. finding LCM\n",
    "\n",
    "def calLCM(a,b):\n",
    "    if a>b:\n",
    "        greater = a\n",
    "    else:\n",
    "        greater = b\n",
    "    while(True):\n",
    "        if((greater % a == 0) and (greater % b == 0)):\n",
    "            lcm = greater\n",
    "            break\n",
    "        greater += 1\n",
    "    return lcm\n",
    "\n",
    "a = int(input())\n",
    "b = int(input())\n",
    "print('LCM is: ', end = \" \")\n",
    "print(calLCM(a,b))"
   ]
  },
  {
   "cell_type": "code",
   "execution_count": 2,
   "id": "ad574bac",
   "metadata": {},
   "outputs": [
    {
     "name": "stdout",
     "output_type": "stream",
     "text": [
      "Enter the number: 3\n",
      "Enter the elements: \n",
      "12\n",
      "14\n",
      "56\n",
      "The lcm is:  168\n"
     ]
    }
   ],
   "source": [
    "def lcm(x,y):\n",
    "    while x!=y:\n",
    "        if x>y:\n",
    "            x=x-y \n",
    "        else:\n",
    "            y=y-x\n",
    "#returning the lcm\n",
    "    return x\n",
    "#taking the inputs\n",
    "a=[]\n",
    "n=int(input(\"Enter the number: \"))\n",
    "print(\"Enter the elements: \")\n",
    "for i in range(0, n):\n",
    "    a.append(int(input()))\n",
    "l=a[0]\n",
    "for i in range(1,n):\n",
    "    l=(((a[i]*l))//(lcm(a[i],l)))\n",
    "print(\"The lcm is: \",l)\n"
   ]
  },
  {
   "cell_type": "markdown",
   "id": "aa3c1acb",
   "metadata": {},
   "source": [
    " "
   ]
  },
  {
   "cell_type": "code",
   "execution_count": 9,
   "id": "0266c464",
   "metadata": {},
   "outputs": [
    {
     "name": "stdout",
     "output_type": "stream",
     "text": [
      "1234321\n",
      "The number is palindrome\n"
     ]
    }
   ],
   "source": [
    "# 41. Pallindrome number\n",
    "\n",
    "n = int(input())\n",
    "temp = n\n",
    "rev = 0\n",
    "while(n>0):\n",
    "    dig = n%10\n",
    "    rev = rev*10 + dig\n",
    "    n = n//10\n",
    "if(temp == rev):\n",
    "    print('The number is palindrome')\n",
    "else:\n",
    "    print('The number is not palindrome')"
   ]
  },
  {
   "cell_type": "code",
   "execution_count": 12,
   "id": "a5c725b8",
   "metadata": {},
   "outputs": [
    {
     "name": "stdout",
     "output_type": "stream",
     "text": [
      "radix\n",
      "Not Pallindrome\n"
     ]
    }
   ],
   "source": [
    "def Pal(s):\n",
    "    return s == s[::-1]\n",
    "\n",
    "s = input()\n",
    "res = Pal(s)\n",
    "\n",
    "if res:\n",
    "    print('Pallindrome')\n",
    "else:\n",
    "    print('Not Pallindrome')"
   ]
  },
  {
   "cell_type": "code",
   "execution_count": 18,
   "id": "60701279",
   "metadata": {},
   "outputs": [
    {
     "name": "stdout",
     "output_type": "stream",
     "text": [
      "56765\n",
      "Pallindrome\n"
     ]
    }
   ],
   "source": [
    "s = input()\n",
    "w = \"\"\n",
    "for i in s:\n",
    "    w = i + w\n",
    "if(s == w):\n",
    "    print('Pallindrome')\n",
    "else:\n",
    "    print('Not Pallindrome')"
   ]
  },
  {
   "cell_type": "code",
   "execution_count": null,
   "id": "5eb7dc2b",
   "metadata": {},
   "outputs": [],
   "source": []
  },
  {
   "cell_type": "code",
   "execution_count": 20,
   "id": "f241b24a",
   "metadata": {},
   "outputs": [
    {
     "name": "stdout",
     "output_type": "stream",
     "text": [
      "23\n",
      "23 is not an abundant number\n"
     ]
    }
   ],
   "source": [
    "# 42. Abadoned Number\n",
    "# 12 = 1 2 3 4 6 12 (factors)\n",
    "# 1 + 2 + 3 + 4 + 6 = 16 > 12\n",
    "# so 12 is an abundant number \n",
    "# 12 18 20 24 30 36 40 42 48 54 56 60 66....\n",
    "\n",
    "n = int(input())\n",
    "sum = 1\n",
    "\n",
    "for i in range(2, n):\n",
    "    if(n%i == 0):\n",
    "        sum = sum + i\n",
    "if(sum>n):\n",
    "    print(n,'is abundant number')\n",
    "else:\n",
    "    print(n,'is not an abundant number')"
   ]
  },
  {
   "cell_type": "code",
   "execution_count": 2,
   "id": "949e1af4",
   "metadata": {},
   "outputs": [
    {
     "name": "stdout",
     "output_type": "stream",
     "text": [
      "66\n",
      "66 is abundant number\n"
     ]
    }
   ],
   "source": [
    "def checkAbun(n):\n",
    "    fct_sum = sum([fct for fct in range(1,n) if n%fct == 0])\n",
    "    return fct_sum > n\n",
    "\n",
    "num = int(input())\n",
    "if checkAbun(num):\n",
    "    print(num,'is abundant number')\n",
    "else:\n",
    "    print(num,'is not an abundant number')"
   ]
  },
  {
   "cell_type": "code",
   "execution_count": null,
   "id": "f3b7b6c4",
   "metadata": {},
   "outputs": [],
   "source": []
  },
  {
   "cell_type": "code",
   "execution_count": 12,
   "id": "313f42ff",
   "metadata": {},
   "outputs": [
    {
     "name": "stdout",
     "output_type": "stream",
     "text": [
      "56\n",
      "The number is not deficient\n"
     ]
    }
   ],
   "source": [
    "# 43. Defficiency Number\n",
    "# a number n for which the sum of divisors of n is less than 2n\n",
    "\n",
    "import math\n",
    "def checkDef(n):\n",
    "    sum = 0\n",
    "    i = 1\n",
    "    while i<= math.sqrt(n):\n",
    "        if(n%i == 0):\n",
    "            if(n//i == i):\n",
    "                sum = sum + i\n",
    "            else:\n",
    "                sum = sum + i\n",
    "                sum = sum + (n//i)\n",
    "        i = i+1\n",
    "    return sum\n",
    "\n",
    "def isDef(n):\n",
    "    return(checkDef(n) < (2*n))\n",
    "\n",
    "numb = int(input())\n",
    "\n",
    "if(isDef(numb)):\n",
    "    print('The number is deficient')\n",
    "else:\n",
    "    print('The number is not deficient')"
   ]
  },
  {
   "cell_type": "code",
   "execution_count": null,
   "id": "9ed41fc5",
   "metadata": {},
   "outputs": [],
   "source": []
  },
  {
   "cell_type": "code",
   "execution_count": 5,
   "id": "ddb7901a",
   "metadata": {},
   "outputs": [
    {
     "name": "stdout",
     "output_type": "stream",
     "text": [
      "The number is 123\n",
      "The float number is:123.456790\n",
      "bin:1100,oct:12,hex:c\n"
     ]
    }
   ],
   "source": [
    "# 44. conversion from one from to another\n",
    "\n",
    "print(\"The number is {:d}\".format(123))\n",
    "print(\"The float number is:{:f}\".format(123.4567898))\n",
    "print(\"bin:{0:b},oct:{0:0},hex:{0:x}\".format(12))"
   ]
  },
  {
   "cell_type": "code",
   "execution_count": null,
   "id": "8c03a430",
   "metadata": {},
   "outputs": [],
   "source": []
  },
  {
   "cell_type": "code",
   "execution_count": 7,
   "id": "79d9d049",
   "metadata": {},
   "outputs": [
    {
     "name": "stdout",
     "output_type": "stream",
     "text": [
      "29\n",
      "The number is not Perfect Number\n"
     ]
    }
   ],
   "source": [
    "# 45. perfect number\n",
    "# number which is equal to the sum of its proper divisors\n",
    "# 28 496 8128\n",
    "\n",
    "n = int(input())\n",
    "sum1 = 0\n",
    "for i in range(1, n):\n",
    "    if(n%i == 0):\n",
    "        sum1 = sum1 + i\n",
    "if(sum1 == n):\n",
    "    print('The number is Perfect Number')\n",
    "else:\n",
    "    print('The number is not Perfect Number')"
   ]
  },
  {
   "cell_type": "code",
   "execution_count": null,
   "id": "dde89b63",
   "metadata": {},
   "outputs": [],
   "source": []
  },
  {
   "cell_type": "code",
   "execution_count": 8,
   "id": "5ae67e2e",
   "metadata": {},
   "outputs": [
    {
     "name": "stdout",
     "output_type": "stream",
     "text": [
      "Enter the number: 534726\n",
      "Sum of even digits:  12\n",
      "Sum of odd digits:  15\n",
      "Result is:  -3\n"
     ]
    }
   ],
   "source": [
    "# 46. Display difference of sum of odd and even digits in the number \n",
    "# (E.g for number 534726, sum of odd digits is 5+3+7=15 and even digits is 4+2+6=12)\n",
    "\n",
    "n = int(input('Enter the number: '))\n",
    "a = c = 0\n",
    "while n>0:\n",
    "    b = n % 10\n",
    "    if(b%2 == 0):\n",
    "        a = a+b\n",
    "    else:\n",
    "        c = c+b\n",
    "    n = n//10\n",
    "print('Sum of even digits: ', a)\n",
    "print('Sum of odd digits: ', c)\n",
    "res = a - c\n",
    "print('Result is: ', res)\n",
    "    "
   ]
  },
  {
   "cell_type": "code",
   "execution_count": null,
   "id": "7156ce2e",
   "metadata": {},
   "outputs": [],
   "source": []
  },
  {
   "cell_type": "code",
   "execution_count": 12,
   "id": "766ee97f",
   "metadata": {},
   "outputs": [
    {
     "name": "stdout",
     "output_type": "stream",
     "text": [
      "smruti ranjan\n",
      "smuti j"
     ]
    }
   ],
   "source": [
    "# 47. print non repeating character in a string\n",
    "\n",
    "String = input()\n",
    "for i in String:\n",
    "    count = 0\n",
    "    for j in String:\n",
    "        if i == j:\n",
    "            count+=1\n",
    "        if count > 1:\n",
    "            break\n",
    "    if count == 1:\n",
    "        print(i,end = \"\")"
   ]
  },
  {
   "cell_type": "code",
   "execution_count": null,
   "id": "925af854",
   "metadata": {},
   "outputs": [],
   "source": []
  },
  {
   "cell_type": "code",
   "execution_count": 13,
   "id": "d6167084",
   "metadata": {},
   "outputs": [
    {
     "name": "stdout",
     "output_type": "stream",
     "text": [
      "malayalum\n",
      "Count of all characters in GeeksforGeeks is :\n",
      " {'m': 2, 'a': 3, 'l': 2, 'y': 1, 'u': 1}\n"
     ]
    }
   ],
   "source": [
    "# 48. Frequency of each character in String\n",
    "\n",
    "test_str = input()\n",
    "all_freq = {} \n",
    "for i in test_str: \n",
    "    if i in all_freq: \n",
    "        all_freq[i] += 1\n",
    "    else: \n",
    "        all_freq[i] = 1\n",
    "print (\"Count of all characters in GeeksforGeeks is :\\n \" +  str(all_freq)) "
   ]
  },
  {
   "cell_type": "code",
   "execution_count": 14,
   "id": "8d36a80b",
   "metadata": {},
   "outputs": [
    {
     "name": "stdout",
     "output_type": "stream",
     "text": [
      "malayalum\n",
      "Count of all characters in GeeksforGeeks is :\n",
      " {'m': 2, 'a': 3, 'l': 2, 'y': 1, 'u': 1}\n"
     ]
    }
   ],
   "source": [
    "test_str = input()\n",
    "res = {} \n",
    "for keys in test_str: \n",
    "    res[keys] = res.get(keys, 0) + 1\n",
    "print (\"Count of all characters in GeeksforGeeks is :\\n \" +  str(all_freq)) "
   ]
  },
  {
   "cell_type": "code",
   "execution_count": 15,
   "id": "e79c360b",
   "metadata": {},
   "outputs": [
    {
     "name": "stdout",
     "output_type": "stream",
     "text": [
      "malayalum\n",
      "Count of all characters in GeeksforGeeks is :\n",
      " {'m': 2, 'a': 3, 'l': 2, 'y': 1, 'u': 1}\n"
     ]
    }
   ],
   "source": [
    "test_str = input()\n",
    "res = {i : test_str.count(i) for i in set(test_str)} \n",
    "print (\"Count of all characters in GeeksforGeeks is :\\n \" +  str(all_freq))"
   ]
  },
  {
   "cell_type": "code",
   "execution_count": null,
   "id": "36c237d3",
   "metadata": {},
   "outputs": [],
   "source": [
    "test_str = input()\n",
    "res = {i : test_str.count(i) for i in set(test_str)} \n",
    "print()"
   ]
  },
  {
   "cell_type": "code",
   "execution_count": null,
   "id": "ba1fd3f0",
   "metadata": {},
   "outputs": [],
   "source": []
  },
  {
   "cell_type": "code",
   "execution_count": 16,
   "id": "d13f17fe",
   "metadata": {},
   "outputs": [
    {
     "name": "stdout",
     "output_type": "stream",
     "text": [
      "Number of bottles: 7\n",
      "Minimum rats needed:  3\n"
     ]
    }
   ],
   "source": [
    "# 49. Rat Poision Problem\n",
    "# minimum number of rats\n",
    "import math\n",
    "def minRats(n):\n",
    "    return math.ceil(math.log2(n));\n",
    "\n",
    "num = int(input('Number of bottles: '))\n",
    "minRats(num)\n",
    "print('Minimum rats needed: ', minRats(num))"
   ]
  },
  {
   "cell_type": "code",
   "execution_count": null,
   "id": "6cec1de7",
   "metadata": {},
   "outputs": [],
   "source": []
  },
  {
   "cell_type": "code",
   "execution_count": 18,
   "id": "ec16b2d0",
   "metadata": {},
   "outputs": [
    {
     "name": "stdout",
     "output_type": "stream",
     "text": [
      "1\n",
      "9\n",
      "1 2 3 4 5 6 7 8 9 "
     ]
    }
   ],
   "source": [
    "# 50. pair of positive numbers m and n\n",
    "# WAP to smartly affix zeros\n",
    "\n",
    "low = int(input())\n",
    "up = int(input())\n",
    "for i in range(low, up+1):\n",
    "    if(up>=100):\n",
    "        print(\"{:03d}\".format(i), end=\" \")\n",
    "    elif(up>=10):\n",
    "        print(\"{:02d}\".format(i), end=\" \")\n",
    "    else:\n",
    "        print(i, end=\" \")"
   ]
  },
  {
   "cell_type": "code",
   "execution_count": null,
   "id": "40d0d97b",
   "metadata": {},
   "outputs": [],
   "source": []
  },
  {
   "cell_type": "code",
   "execution_count": 20,
   "id": "821546fc",
   "metadata": {},
   "outputs": [
    {
     "name": "stdout",
     "output_type": "stream",
     "text": [
      "Please enter your own String : malayalum\n",
      "Please enter your own Character : a\n",
      "The total Number of Times  a  has Occurred =  3\n"
     ]
    }
   ],
   "source": [
    "# 51. ocuurance of a particular chracter in a string\n",
    "\n",
    "string = input(\"Please enter your own String : \")\n",
    "char = input(\"Please enter your own Character : \")\n",
    "count = 0\n",
    "for i in range(len(string)):\n",
    "    if(string[i] == char):\n",
    "        count = count + 1\n",
    "print(\"The total Number of Times \", char, \" has Occurred = \" , count)"
   ]
  },
  {
   "cell_type": "code",
   "execution_count": null,
   "id": "66be29ab",
   "metadata": {},
   "outputs": [],
   "source": []
  },
  {
   "cell_type": "code",
   "execution_count": 11,
   "id": "c9149920",
   "metadata": {},
   "outputs": [
    {
     "name": "stdout",
     "output_type": "stream",
     "text": [
      "Enter the number: 7\n",
      "Enter the elements: \n",
      "87\n",
      "89\n",
      "76\n",
      "64\n",
      "23\n",
      "53\n",
      "18\n",
      "[87, 89, 76, 64, 23, 53, 18]\n",
      "Even List is:  [76, 64, 18]\n",
      "Odd List is:  [87, 89, 23, 53]\n",
      "Sum_Even_list:  158\n",
      "Sum_Odd_list:  252\n"
     ]
    }
   ],
   "source": [
    "# 52. sum of even/ odd in a list\n",
    "\n",
    "a=[]\n",
    "b=[]\n",
    "c=[]\n",
    "n=int(input(\"Enter the number: \"))\n",
    "print(\"Enter the elements: \")\n",
    "for i in range(0, n):\n",
    "    a.append(int(input()))\n",
    "print(a)\n",
    "\n",
    "for i in a:\n",
    "    if i %2 == 0:\n",
    "        b.append(i)\n",
    "    else:\n",
    "        c.append(i)\n",
    "print(\"Even List is: \",b)\n",
    "print(\"Odd List is: \",c)\n",
    "\n",
    "print(\"Sum_Even_list: \", sum(b))\n",
    "print(\"Sum_Odd_list: \", sum(c))"
   ]
  },
  {
   "cell_type": "code",
   "execution_count": null,
   "id": "8917a927",
   "metadata": {},
   "outputs": [],
   "source": []
  },
  {
   "cell_type": "code",
   "execution_count": null,
   "id": "a5793663",
   "metadata": {},
   "outputs": [],
   "source": []
  },
  {
   "cell_type": "code",
   "execution_count": 1,
   "id": "68804952",
   "metadata": {},
   "outputs": [
    {
     "name": "stdout",
     "output_type": "stream",
     "text": [
      "6\n",
      "3\n",
      "12.3\n",
      "15.2\n",
      "12.3\n",
      "15.2\n",
      "12.3\n",
      "15.2\n",
      "10.10\n",
      "10.10\n",
      "10.00\n",
      "Total estimated Cost :  1847.4 INR\n"
     ]
    }
   ],
   "source": [
    "# 53. We want to estimate the cost of painting a property. Interior wall painting cost is Rs.18 per sq.ft.\n",
    "# and exterior wall painting cost is Rs.12 per sq.ft.\n",
    "# Take input as\n",
    "# 1. Number of Interior walls\n",
    "# 2. Number of Exterior walls\n",
    "# 3. Surface Area of each Interior 4. Wall in units of square feet\n",
    "# Surface Area of each Exterior Wall in units of square feet\n",
    "\n",
    "\n",
    "interior_walls = int(input())\n",
    "exterior_walls = int(input())\n",
    "if interior_walls:\n",
    "    int_walls = []\n",
    "    for i in range(interior_walls):\n",
    "        int_walls.append(float(input()))\n",
    "if exterior_walls:\n",
    "    ext_walls = []\n",
    "    for i in range(exterior_walls):\n",
    "        ext_walls.append(float(input()))\n",
    "if exterior_walls < 0 or interior_walls < 0:\n",
    "    print(\"Invalid Input\")\n",
    "    exit()\n",
    "if exterior_walls and interior_walls:\n",
    "    print(\"Total estimated Cost : \",(sum(int_walls)*18+sum(ext_walls)*12),\"INR\")\n",
    "else:\n",
    "    if exterior_walls:\n",
    "        print(\"Total estimated Cost : \",sum(ext_walls)*12,\"INR\")\n",
    "    elif interior_walls:\n",
    "        print(\"Total estimated Cost : \",sum(int_walls)*18,\"INR\")\n",
    "    else:\n",
    "        print(\"Total estimated Cost : 0.0 INR\")"
   ]
  },
  {
   "cell_type": "code",
   "execution_count": null,
   "id": "74373317",
   "metadata": {},
   "outputs": [],
   "source": []
  },
  {
   "cell_type": "code",
   "execution_count": 21,
   "id": "4b1aa76b",
   "metadata": {},
   "outputs": [
    {
     "name": "stdout",
     "output_type": "stream",
     "text": [
      "enter the number:10\n",
      "4\n"
     ]
    }
   ],
   "source": [
    "# 54. Consider the below series :\n",
    "# 0,0,2,1,4,2,6,3,8,4,10,5,12,6,14,7,16,8\n",
    "# This series is a mixture of 2 series all the odd terms in this series form even numbers in ascending order\n",
    "# Every even terms is derived from the previous term using the formula (x/2)\n",
    "\n",
    "n = int(input('enter the number:'))\n",
    "a=0\n",
    "b=0\n",
    "for i in range(1,n+1):\n",
    "    if(i%2!=0):\n",
    "        a= a+2\n",
    "    else:\n",
    "        b= b+1\n",
    "if(n%2!=0):\n",
    "    print('{}'.format(a-2))\n",
    "else:\n",
    "    print('{}'.format(b-1))"
   ]
  },
  {
   "cell_type": "code",
   "execution_count": null,
   "id": "512a7304",
   "metadata": {},
   "outputs": [],
   "source": []
  },
  {
   "cell_type": "code",
   "execution_count": 6,
   "id": "98b59d6e",
   "metadata": {},
   "outputs": [
    {
     "name": "stdout",
     "output_type": "stream",
     "text": [
      "6\n",
      "  *    *    *    *    *    *  \n",
      " ***  ***  ***  ***  ***  *** \n",
      "******************************\n"
     ]
    }
   ],
   "source": [
    "# 55. ider the first three natural numbers 1, 2, 3.\n",
    "# These can be arranged in the following ways: 2, 3, 1 and 1, 3, 2.\n",
    "# In both of these arrangements, the numbers increase to a certain point and then decrease.\n",
    "# A sequence with this property is called a \"mountain peak sequence\".\n",
    "\n",
    "# Given an integer N, write a program to find the remainder of mountain peak arrangements that can be \n",
    "# obtained by rearranging the numbers 1, 2, ...., N.\n",
    "\n",
    "# Input Format:\n",
    "# One line containing the integer N\n",
    "# Output Format:\n",
    "# An integer m, giving the remainder of the number of mountain peak arrangements \n",
    "# that could be obtained from 1, 2, ...., N is divide by Mod\n",
    "# Constraints:\n",
    "# Mod = 10^9 + 7\n",
    "# N <= 10^9\n",
    "\n",
    "# Example 1\n",
    "# Input\n",
    "# 3\n",
    "# Output\n",
    "# 2\n",
    "# Explanation\n",
    "# There are two such arrangements: 1, 3, 2 and 2, 3, 1\n",
    "\n",
    "# Example 2\n",
    "# Input\n",
    "# 4\n",
    "# Output\n",
    "# 6\n",
    "# Explanation\n",
    "# The six arrangements are (1, 2, 4, 3), (1,3,4,2), (1,4,3,2), (2,3,4,1), (2,4,3,1), (3,4,2,1)\n",
    "\n",
    "# Python3 program for the above approach\n",
    "\n",
    "# Function to create the mountain\n",
    "# sequence pattern\n",
    "def printPatt(n):\n",
    "    k1 = 3; k2 = 3; gap = 5\n",
    "\n",
    "    # Outer loop to handle the row\n",
    "    for i in range(1, 4):\n",
    "\n",
    "        # Inner loop to handle the\n",
    "        # Column\n",
    "        for j in range(1, (5 * n) + 1):\n",
    "\n",
    "            if (j > k2 and i < 3):\n",
    "                k2 += gap\n",
    "                k1 += gap\n",
    "\n",
    "            # Condition to print the\n",
    "            # star in mountain pattern\n",
    "            if (j >= k1 and j <= k2):\n",
    "                print(\"*\", end = \"\")\n",
    "            else:\n",
    "                print(\" \", end = \"\")\n",
    "        print(\"\\n\", end = \"\")\n",
    "\n",
    "        # Condition to adjust the value of\n",
    "        # K1 and K2 for printing desire\n",
    "        # Pattern\n",
    "        if (i + 1 == 3):\n",
    "            k1 = 1\n",
    "            k2 = (5 * n)\n",
    "        else:\n",
    "            k1 = 3\n",
    "            k2 = 3\n",
    "            k1 -= 1\n",
    "            k2 += 1\n",
    "    print(end = \"\")\n",
    "\n",
    "# Driver Code\n",
    "\n",
    "# Given Number N\n",
    "number = int(input())\n",
    "\n",
    "# Function call\n",
    "printPatt(number)\n"
   ]
  },
  {
   "cell_type": "code",
   "execution_count": null,
   "id": "64b2c92d",
   "metadata": {},
   "outputs": [],
   "source": []
  },
  {
   "cell_type": "code",
   "execution_count": 7,
   "id": "5cd8322c",
   "metadata": {},
   "outputs": [
    {
     "name": "stdout",
     "output_type": "stream",
     "text": [
      "DDRRURRDDD DDRURRRDDD DRDRURRDDD DRRRRDDD "
     ]
    }
   ],
   "source": [
    "# 56. In this problem, there is a given maze of size N x N. The source and the destination location \n",
    "# is top-left cell and bottom right cell respectively. Some cells are valid to move and some cells are blocked. \n",
    "# If one rat starts moving from start vertex to destination vertex, we have to find that is there any way\n",
    "# to complete the path, if it is possible then mark the correct path for the rat.\n",
    "\n",
    "# The maze is given using a binary matrix, where it is marked with 1, it is a valid path, otherwise 0 for a blocked cell.\n",
    "\n",
    "# NOTE: The rat can only move in two directions, either to the right or to the down.\n",
    "\n",
    "# Python3 implementation of the above approach\n",
    "from typing import List\n",
    "\n",
    "MAX = 5\n",
    "\n",
    "# Function returns true if the\n",
    "# move taken is valid else\n",
    "# it will return false.\n",
    "def isSafe(row: int, col: int,\n",
    "        m: List[List[int]], n: int,\n",
    "        visited: List[List[bool]]) -> bool:\n",
    "\n",
    "    if (row == -1 or row == n or\n",
    "        col == -1 or col == n or\n",
    "        visited[row][col] or m[row][col] == 0):\n",
    "        return False\n",
    "\n",
    "    return True\n",
    "\n",
    "# Function to print all the possible\n",
    "# paths from (0, 0) to (n-1, n-1).\n",
    "def printPathUtil(row: int, col: int,\n",
    "                m: List[List[int]],\n",
    "                n: int, path: str,\n",
    "                possiblePaths: List[str],\n",
    "                visited: List[List[bool]]) -> None:\n",
    "\n",
    "    # This will check the initial point\n",
    "    # (i.e. (0, 0)) to start the paths.\n",
    "    if (row == -1 or row == n or\n",
    "        col == -1 or col == n or\n",
    "        visited[row][col] or m[row][col] == 0):\n",
    "        return\n",
    "    # If reach the last cell (n-1, n-1)\n",
    "    # then store the path and return\n",
    "    if (row == n - 1 and col == n - 1):\n",
    "        possiblePaths.append(path)\n",
    "        return\n",
    "\n",
    "    # Mark the cell as visited\n",
    "    visited[row][col] = True\n",
    "\n",
    "    # Try for all the 4 directions (down, left,\n",
    "    # right, up) in the given order to get the\n",
    "    # paths in lexicographical order\n",
    "\n",
    "    # Check if downward move is valid\n",
    "    if (isSafe(row + 1, col, m, n, visited)):\n",
    "        path += 'D'\n",
    "        printPathUtil(row + 1, col, m, n,\n",
    "        path, possiblePaths, visited)\n",
    "        path = path[:-1]\n",
    "\n",
    "    # Check if the left move is valid\n",
    "    if (isSafe(row, col - 1, m, n, visited)):\n",
    "        path += 'L'\n",
    "        printPathUtil(row, col - 1, m, n,\n",
    "                    path, possiblePaths, visited)\n",
    "        path = path[:-1]\n",
    "\n",
    "    # Check if the right move is valid\n",
    "    if (isSafe(row, col + 1, m, n, visited)):\n",
    "        path += 'R'\n",
    "        printPathUtil(row, col + 1, m, n,\n",
    "                path, possiblePaths, visited)\n",
    "                path = path[:-1]\n",
    "\n",
    "    # Check if the upper move is valid\n",
    "    if (isSafe(row - 1, col, m, n, visited)):\n",
    "        path += 'U'\n",
    "        printPathUtil(row - 1, col, m, n,\n",
    "                    path, possiblePaths, visited)\n",
    "        path = path[:-1]\n",
    "\n",
    "    # Mark the cell as unvisited for\n",
    "    # other possible paths\n",
    "    visited[row][col] = False\n",
    "\n",
    "# Function to store and print\n",
    "# all the valid paths\n",
    "def printPath(m: List[List[int]], n: int) -> None:\n",
    "\n",
    "    # vector to store all the possible paths\n",
    "    possiblePaths = []\n",
    "    path = \"\"\n",
    "    visited = [[False for _ in range(MAX)]\n",
    "                    for _ in range(n)]\n",
    "\n",
    "    # Call the utility function to\n",
    "    # find the valid paths\n",
    "    printPathUtil(0, 0, m, n, path,\n",
    "                possiblePaths, visited)\n",
    "\n",
    "    # Print all possible paths\n",
    "    for i in range(len(possiblePaths)):\n",
    "        print(possiblePaths[i], end = \" \")\n",
    "\n",
    "# Driver code\n",
    "if __name__ == \"__main__\":\n",
    "\n",
    "    m = [ [ 1, 0, 0, 0, 0 ],\n",
    "        [ 1, 1, 1, 1, 1 ],\n",
    "        [ 1, 1, 1, 0, 1 ],\n",
    "        [ 0, 0, 0, 0, 1 ],\n",
    "        [ 0, 0, 0, 0, 1 ] ]\n",
    "    n = len(m)\n",
    "\n",
    "    printPath(m, n)\n",
    "\n"
   ]
  },
  {
   "cell_type": "code",
   "execution_count": null,
   "id": "f3064779",
   "metadata": {},
   "outputs": [],
   "source": []
  },
  {
   "cell_type": "code",
   "execution_count": 8,
   "id": "44c254f9",
   "metadata": {},
   "outputs": [
    {
     "name": "stdout",
     "output_type": "stream",
     "text": [
      "1 4 9 16 25 36 49 64 81 100 "
     ]
    }
   ],
   "source": [
    "# 57. There are 100 doors in a row, all doors are initially closed. A person walks through all doors multiple times and toggle (if open then close, if close then open) them in following way:\n",
    "\n",
    "# In first walk, the person toggles every door\n",
    "\n",
    "# In the second walk, the person toggles every second door, i.e., 2nd, 4th, 6th, 8th, and so on.\n",
    "\n",
    "# In third walk, the person toggles every third door, i.e. 3rd, 6th, 9th, and so on.\n",
    "\n",
    "# ………………..\n",
    "# …………………\n",
    "\n",
    "# In 100th walk, the person toggles 100th door.\n",
    "\n",
    "# Which doors are open in the end?\n",
    "\n",
    "# Solution:-\n",
    "# The solution lies in the fact that for each pair of divisors the door gets closed once again. So only those doors will be open whose no. of divisors will be odd.For example door 21 has factors ((1,21),(3,7)).So the door will be toggle 4 times and gets closed.\n",
    "# But there will be some doors whose no. of divisors would be odd. For example, the 9 has factors (1,3,9) as 3*3=9 and the door will be toggled only once.\n",
    "\n",
    "# So the doors which will be opened are :-\n",
    "# 1,4,9,16,25,36,49,64,81,100\n",
    "\n",
    "def toggle(n):\n",
    "#This function changes the current position of door,if the door is open then it is closed otherwise it is opened \n",
    "    if doors[n]==1:\n",
    "        doors[n]=0\n",
    "    else:\n",
    "        doors[n]=1\n",
    "doors=[0]*100#Making a list and initializing them with 0\n",
    "#Here 0 means that door is close and 1 means that door is open\n",
    "for i in range(1,101):\n",
    "    j=i\n",
    "    while j<=100:\n",
    "        toggle(j-1)\n",
    "        j=j+i\n",
    "for x in range(100):#printing the open doors.\n",
    "    if doors[x]==1:\n",
    "        print(x+1,end=\" \")"
   ]
  },
  {
   "cell_type": "code",
   "execution_count": null,
   "id": "2d158399",
   "metadata": {},
   "outputs": [],
   "source": []
  },
  {
   "cell_type": "code",
   "execution_count": 9,
   "id": "936a4b23",
   "metadata": {},
   "outputs": [
    {
     "name": "stdout",
     "output_type": "stream",
     "text": [
      "Enter the length of the rod in inches: 10\n",
      "Enter the price of a rod of length 1 in: 4\n",
      "Enter the price of a rod of length 2 in: 6\n",
      "Enter the price of a rod of length 3 in: 3\n",
      "Enter the price of a rod of length 4 in: 3\n",
      "Enter the price of a rod of length 5 in: 2\n",
      "Enter the price of a rod of length 6 in: 4\n",
      "Enter the price of a rod of length 7 in: 6\n",
      "Enter the price of a rod of length 8 in: 7\n",
      "Enter the price of a rod of length 9 in: 2\n",
      "Enter the price of a rod of length 10 in: 3\n",
      "The maximum revenue that can be obtained: 40\n",
      "The rod needs to be cut into length(s) of 1 1 1 1 1 1 1 1 1 1 "
     ]
    }
   ],
   "source": [
    "# 58. An employee works for an employer for 7 days. The employer has a gold rod of 7 units. How does the employer pay to the employee, so that the number of employee’s rod units increases by one at the end of each day? The employer can make at most 2 cuts in the rod. \n",
    "\n",
    "# (Hint- after the end of the day employee’s can’t spend any part of rod)\n",
    "\n",
    "# Solution: \n",
    "# The employer can pay for seven days by making 2 cuts in a way that he has 3 rods of size 1, 2 and 4. \n",
    "# 1st Day: Employer gives 1 unit cut. \n",
    "# 2nd day: Takes back 1 unit cut from employee given on the first day and gives 2 unit cut. \n",
    "# 3rd Day: Gives 1 unit and then the employer is left with 4 unit rod lengths. \n",
    "# 4th Day: Takes back cuts of 1 and 2 units. Gives the cut of 4 units. \n",
    "# 5th Day: Gives cut of 1 unit to the employee. \n",
    "# 6th Day: Takes back cut of 1 unit and gives a cut of 2 units. \n",
    "# 7th Day: Gives cut of 1 unit to the employee. \n",
    "\n",
    "def cut_rod(p, n):\n",
    "    \"\"\"Take a list p of prices and the rod length n and return lists r and s.\n",
    "    r[i] is the maximum revenue that you can get and s[i] is the length of the\n",
    "    first piece to cut from a rod of length i.\"\"\"\n",
    "    # r[i] is the maximum revenue for rod length i\n",
    "    # r[i] = -1 means that r[i] has not been calculated yet\n",
    "    r = [-1]*(n + 1)\n",
    "    r[0] = 0\n",
    " \n",
    "    # s[i] is the length of the initial cut needed for rod length i\n",
    "    # s[0] is not needed\n",
    "    s = [-1]*(n + 1)\n",
    " \n",
    "    for i in range(1, n + 1):\n",
    "        q = -1\n",
    "        for j in range(1, i + 1):\n",
    "            temp = p[j] + r[i - j]\n",
    "            if q < temp:\n",
    "                q = temp\n",
    "                s[i] = j\n",
    "        r[i] = q\n",
    " \n",
    "    return r, s\n",
    " \n",
    " \n",
    "n = int(input('Enter the length of the rod in inches: '))\n",
    " \n",
    "# p[i] is the price of a rod of length i\n",
    "# p[0] is not needed, so it is set to None\n",
    "p = [None]\n",
    "for i in range(1, n + 1):\n",
    "    price = input('Enter the price of a rod of length {} in: '.format(i))\n",
    "    p.append(int(price))\n",
    " \n",
    "r, s = cut_rod(p, n)\n",
    "print('The maximum revenue that can be obtained:', r[n])\n",
    "print('The rod needs to be cut into length(s) of ', end='')\n",
    "while n > 0:\n",
    "    print(s[n], end=' ')\n",
    "    n -= s[n]"
   ]
  },
  {
   "cell_type": "code",
   "execution_count": null,
   "id": "2095c6ca",
   "metadata": {},
   "outputs": [],
   "source": []
  },
  {
   "cell_type": "code",
   "execution_count": 12,
   "id": "80cc1f06",
   "metadata": {},
   "outputs": [
    {
     "name": "stdout",
     "output_type": "stream",
     "text": [
      "2\n",
      "1\n",
      "1\n",
      "2\n",
      "3\n"
     ]
    }
   ],
   "source": [
    "# 59. On the eve of Diwali, Hari is decorating his house with a serial light bulb set. The serial light bulb set has N bulbs placed sequentially on a string which is programmed to change patterns every second. If at least one bulb in the set is on at any given instant of time, how many different patterns of light can the serial light bulb set produce?\n",
    "\n",
    "# Note: Lighting two bulbs *-* is different from **-\n",
    "\n",
    "# Input Format\n",
    "# The first line contains the number of test cases T, T lines follow.\n",
    "# Each line contains an integer N, the number of bulbs in the serial light bulb set.\n",
    "\n",
    "# Output Format\n",
    "# Print the total number of patterns modulo 105\n",
    "\n",
    "# Constraints\n",
    "# 1 <= T <= 1000\n",
    "# 0< N < 104\n",
    "\n",
    "# i/p\n",
    "# 2\n",
    "# 1\n",
    "# 2\n",
    "\n",
    "# o/p\n",
    "# 1\n",
    "# 3\n",
    "\n",
    "# Case 1: 1 bulb can be lit in only 1 way.\n",
    "# Case 2: 2 bulbs can be lit in -*, *-, ** i.e. 3 ways.\n",
    "    \n",
    "def lights(n):\n",
    "    return (2**n-1)%10**5\n",
    "\n",
    "for _ in range(int(input())):\n",
    "    print(lights(int(input())))"
   ]
  },
  {
   "cell_type": "code",
   "execution_count": null,
   "id": "03d302a5",
   "metadata": {},
   "outputs": [],
   "source": []
  },
  {
   "cell_type": "code",
   "execution_count": 1,
   "id": "7d8b77f1",
   "metadata": {},
   "outputs": [
    {
     "name": "stdout",
     "output_type": "stream",
     "text": [
      "Enter a number : 13\n",
      "13 is an Adam Number\n"
     ]
    }
   ],
   "source": [
    "# 60. Adam Number\n",
    "\n",
    "# Adam number :\n",
    "# take a number n, square it; then reverse the number n & square it\n",
    "# if the square of reversed number = reverse of square of first number\n",
    "# then it is an Adam number\n",
    "\n",
    "# Suppose 13  --> 169\n",
    "#         31  --> 961 (reverse of 169)\n",
    "# So, 13 is an Adam number\n",
    "\n",
    "# Similarly 11, 12 etc\n",
    "\n",
    "def square(n):\n",
    "    sq=n**2\n",
    "    return sq\n",
    "def reverse(n):\n",
    "    return (str(n)[::-1])\n",
    "n=int(input(\"Enter a number : \"))#13\n",
    "sq_num=square(n)#169\n",
    "rev_num = int(reverse(n))#31\n",
    "sq_rev=square(rev_num)#691\n",
    "sq_rev2=int(reverse(sq_rev))#169\n",
    "if sq_num==sq_rev2:\n",
    "    print(f\"{n} is an Adam Number\")\n",
    "else:\n",
    "    print(\"Not an Adam number\")"
   ]
  },
  {
   "cell_type": "code",
   "execution_count": null,
   "id": "5427e9ac",
   "metadata": {},
   "outputs": [],
   "source": [
    "# 61. Amicable Number\n",
    "\n",
    "# Amicable Number : \n",
    "# sum of all the factors except itself are equal of 2 numbers interchangebly\n",
    "\n",
    "# 220 : 1, 2, 4, 5, 10, 11, 20, 22, 44, 55, 110, 220\n",
    "# 284 : 1, 2, 4, 71, 142, 284\n",
    "\n",
    "# 1 + 2 + 4 + 5 + 10 + 11 + 20 + 22 + 44 + 55 + 110 = 284\n",
    "\n",
    "# 1 + 2 + 4 + 71 + 142 = 220\n",
    "\n",
    "# So, 284 & 220 are amicable numbers\n",
    "\n",
    "def factor_sum1(n):\n",
    "    sum=0\n",
    "    for i in range(1, n):\n",
    "        if n%i == 0:\n",
    "            sum = sum+i\n",
    "    return sum\n",
    "\n",
    "num1 = int(input(\"Enter the first number: \"))\n",
    "num2 = int(input(\"Enter the second number: \"))\n",
    "sum1=factor_sum1(num1)\n",
    "sum2=factor_sum1(num2)\n",
    "\n",
    "if sum1== num2 and sum2 == num1:\n",
    "     print('It is Amicable Number')\n",
    "else:\n",
    "     print('It is not Amicable Number')"
   ]
  },
  {
   "cell_type": "code",
   "execution_count": null,
   "id": "f98cc3a6",
   "metadata": {},
   "outputs": [],
   "source": [
    "# 62. Betrothed Number\n",
    "\n",
    "# betrothed number\n",
    "# sum of all the factors except itself are equal of 1 added to the number interchangebly\n",
    "\n",
    "# 48 : 1, 2, 3, 4, 6, 8, 12, 16, 24, 48\n",
    "# 75 : 1, 3, 5, 15, 25, 75\n",
    "\n",
    "\n",
    "# 1 + 2 + 3 + 4 + 6 + 8 + 12 + 16 + 24 = 76 (75 + 1)\n",
    "# 1 + 3 + 5 + 15 + 25 = 49 (48 + 1)\n",
    "\n",
    "def factor_sum1(n):\n",
    "    sum=0\n",
    "    for i in range(1, n):\n",
    "        if n%i == 0:\n",
    "            sum = sum+i\n",
    "    return sum\n",
    "\n",
    "num1 = int(input(\"Enter the first number: \"))\n",
    "num2 = int(input(\"Enter the second number: \"))\n",
    "sum1=factor_sum1(num1)\n",
    "sum2=factor_sum1(num2)\n",
    "\n",
    "if sum1== num2+1 and sum2 == num1+1:\n",
    "     print('It is Betro Number')\n",
    "else:\n",
    "     print('It is not Betro Number')"
   ]
  },
  {
   "cell_type": "code",
   "execution_count": null,
   "id": "49beb272",
   "metadata": {},
   "outputs": [],
   "source": []
  },
  {
   "cell_type": "code",
   "execution_count": 3,
   "id": "e8d70ca6",
   "metadata": {},
   "outputs": [
    {
     "name": "stdout",
     "output_type": "stream",
     "text": [
      "Enter bulb Numbers: 10\n",
      "3\n"
     ]
    }
   ],
   "source": [
    "# 63. \n",
    "# /* There is a playground with n bulbs. In a cultural fest, the organisers decide to switch the bulbs on or off in a certain pattern and hence choose n volunteers to perform this operation.\n",
    "# Your task is to predict number of bulbs that needs to be switched off after all the n volunteers complete their task. This is done so that the power consumption can be reduced at the end of the contest.\n",
    "# The task given to each volunteer is described in the following points:\n",
    "# 1.Volunteer 1 turns on all the bulbs.\n",
    "# 2. Volunteer 2 inverts (i.e if on, turn it off and if off, turn it on) the operation done on bulbs that are\n",
    "# multiples of 2.\n",
    "# 3. Volunteer 3 inverts (i.e if on, turn it off and if off, turn it on) the operation done on bulbs that are\n",
    "# multiples of 3.\n",
    "# 4. This process continues until we are done with the nth participant.\n",
    "# Input:10\n",
    "# Output:3  */\n",
    "\n",
    "import math\n",
    "n = int(input(\"Enter bulb Numbers: \"))\n",
    "res = int(math.sqrt(n))\n",
    "print(res)"
   ]
  },
  {
   "cell_type": "code",
   "execution_count": null,
   "id": "29ac950a",
   "metadata": {},
   "outputs": [],
   "source": []
  },
  {
   "cell_type": "code",
   "execution_count": 9,
   "id": "bd21cf5c",
   "metadata": {},
   "outputs": [
    {
     "name": "stdout",
     "output_type": "stream",
     "text": [
      "enter the number: 15\n",
      " 15 term in accordance to the program is 49\n"
     ]
    }
   ],
   "source": [
    "# 64.  /* 0,0,7,6,14,12,21,18,28\n",
    "# find 15th element\n",
    "# */\n",
    "\n",
    "val = int(input('enter the number: '))\n",
    "x=0\n",
    "y=0\n",
    "for i in range(1,val+1):\n",
    "    if(i%2!=0):\n",
    "        x= x+7\n",
    "    else:\n",
    "        y = y+6\n",
    "if(val%2!=0):\n",
    "    print(' {} term in accordance to the program is {}'.format(val,x-7))\n",
    "else:\n",
    "    print('{} term in accordance to the program is {}'.format(val,y-6))"
   ]
  },
  {
   "cell_type": "code",
   "execution_count": 4,
   "id": "43b9b80b",
   "metadata": {},
   "outputs": [
    {
     "name": "stdout",
     "output_type": "stream",
     "text": [
      "12345\n",
      "21435\n"
     ]
    }
   ],
   "source": [
    "# 65. /* alternate swapping\n",
    "# input : 12345\n",
    "# output : 21435\n",
    "# */\n",
    "\n",
    "n = list(input())\n",
    "\n",
    "i, j = 0, 1\n",
    "\n",
    "while i < len(n) and j < len(n):\n",
    "    n[i], n[j] = n[j], n[i]\n",
    "    i += 2; j += 2\n",
    "\n",
    "print(int(''.join(n)))\n"
   ]
  },
  {
   "cell_type": "code",
   "execution_count": 5,
   "id": "3b31b206",
   "metadata": {},
   "outputs": [
    {
     "name": "stdout",
     "output_type": "stream",
     "text": [
      "10 20 30 40 50\n",
      "[140, 130, 120, 110, 100]\n"
     ]
    }
   ],
   "source": [
    "# 66. \n",
    "# input :\n",
    "# 5\n",
    "# 10 20 30 40 50\n",
    "\n",
    "# output:\n",
    "# 140 130 120 110 100\n",
    "\n",
    "nums = list(map(int, input().split())) #convert into list[int]\n",
    "\n",
    "ps = nums[0]\n",
    "\n",
    "for i in nums[1:]:\n",
    "    ps += i\n",
    "\n",
    "for i, j in enumerate(nums):\n",
    "    nums[i] = ps - j\n",
    "print(nums)"
   ]
  },
  {
   "cell_type": "code",
   "execution_count": 14,
   "id": "594c8897",
   "metadata": {},
   "outputs": [
    {
     "name": "stdout",
     "output_type": "stream",
     "text": [
      "Enter Size: 5\n",
      "555555555\n",
      "544444445\n",
      "543333345\n",
      "543222345\n",
      "543212345\n",
      "543222345\n",
      "543333345\n",
      "544444445\n",
      "555555555\n"
     ]
    }
   ],
   "source": [
    "# 67.\n",
    "\n",
    "# input : 5\n",
    "# output:\n",
    "#     555555555\n",
    "#     544444445\n",
    "#     543333345\n",
    "#     543222345\n",
    "#     543212345\n",
    "#     543222345\n",
    "#     543333345\n",
    "#     544444445\n",
    "#     555555555\n",
    "\n",
    "MAX = 100\n",
    "\n",
    "def prints(a, size):\n",
    "    for i in range(size):\n",
    "        for j in range(size):\n",
    "            print(a[i][j], end = '')\n",
    "        print()\n",
    "# function to compute pattern\n",
    "def innerPattern(n):\n",
    "    size = 2 * n - 1\n",
    "    front = 0\n",
    "    back = size - 1 \n",
    "    a = [[0 for i in range(MAX)]\n",
    "         for i in range(MAX)]\n",
    "    while (n != 0):\n",
    "        for i in range(front, back + 1):\n",
    "            for j in range(front, back + 1):\n",
    "                if (i == front or i == back or\n",
    "                    j == front or j == back):\n",
    "                    a[i][j] = n\n",
    "        front += 1\n",
    "        back -= 1\n",
    "        n -= 1\n",
    "    prints(a, size);\n",
    "# Driver code\n",
    "# Input\n",
    "n = int(input('Enter Size: '))\n",
    "# function calling\n",
    "innerPattern(n)"
   ]
  },
  {
   "cell_type": "code",
   "execution_count": null,
   "id": "053f47e1",
   "metadata": {},
   "outputs": [],
   "source": []
  }
 ],
 "metadata": {
  "kernelspec": {
   "display_name": "Python 3 (ipykernel)",
   "language": "python",
   "name": "python3"
  },
  "language_info": {
   "codemirror_mode": {
    "name": "ipython",
    "version": 3
   },
   "file_extension": ".py",
   "mimetype": "text/x-python",
   "name": "python",
   "nbconvert_exporter": "python",
   "pygments_lexer": "ipython3",
   "version": "3.9.13"
  }
 },
 "nbformat": 4,
 "nbformat_minor": 5
}
