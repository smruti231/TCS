{
 "cells": [
  {
   "cell_type": "code",
   "execution_count": 1,
   "id": "6f6d4dfd",
   "metadata": {},
   "outputs": [
    {
     "data": {
      "text/plain": [
       "3.0"
      ]
     },
     "execution_count": 1,
     "metadata": {},
     "output_type": "execute_result"
    }
   ],
   "source": [
    "# Determinant of a Matrix\n",
    "import numpy as np\n",
    "A = np.array([[1,2,3],[4,5,6],[7,8,8]])\n",
    "from scipy import linalg\n",
    "linalg.det(A)"
   ]
  },
  {
   "cell_type": "code",
   "execution_count": 5,
   "id": "97983cab",
   "metadata": {},
   "outputs": [
    {
     "name": "stdout",
     "output_type": "stream",
     "text": [
      "[[1 5 8]]\n"
     ]
    }
   ],
   "source": [
    "# Diagonal of a Matrix\n",
    "import numpy as np\n",
    "A = np.matrix([[1,2,3],[4,5,6],[7,8,8]])\n",
    "res = A.diagonal()\n",
    "print(res)"
   ]
  },
  {
   "cell_type": "code",
   "execution_count": 6,
   "id": "d484b602",
   "metadata": {},
   "outputs": [
    {
     "name": "stdout",
     "output_type": "stream",
     "text": [
      "[[14]]\n"
     ]
    }
   ],
   "source": [
    "# Trace of a Matrix\n",
    "import numpy as np\n",
    "A = np.matrix([[1,2,3],[4,5,6],[7,8,8]])\n",
    "res = A.trace()\n",
    "print(res)"
   ]
  },
  {
   "cell_type": "code",
   "execution_count": 7,
   "id": "dc80741f",
   "metadata": {},
   "outputs": [
    {
     "name": "stdout",
     "output_type": "stream",
     "text": [
      "[[-2.66666667  2.66666667 -1.        ]\n",
      " [ 3.33333333 -4.33333333  2.        ]\n",
      " [-1.          2.         -1.        ]]\n"
     ]
    }
   ],
   "source": [
    "#invert a matrix or n array\n",
    "import numpy as np\n",
    "A = np.matrix([[1,2,3],[4,5,6],[7,8,8]])\n",
    "print(np.linalg.inv(A))"
   ]
  },
  {
   "cell_type": "code",
   "execution_count": 8,
   "id": "4bd1ced0",
   "metadata": {},
   "outputs": [
    {
     "name": "stdout",
     "output_type": "stream",
     "text": [
      "[['1' 'A']\n",
      " ['2' 'B']\n",
      " ['3' 'C']]\n"
     ]
    }
   ],
   "source": [
    "# convert a dictionary to a matrix or nArray in Python\n",
    "import numpy as np\n",
    "dict = {1: 'A',\n",
    "        2: 'B',\n",
    "        3: 'C'}\n",
    "result = dict.items()\n",
    "data = list(result)\n",
    "res = np.array(data)\n",
    "print(res)"
   ]
  },
  {
   "cell_type": "code",
   "execution_count": null,
   "id": "60ce103b",
   "metadata": {},
   "outputs": [],
   "source": []
  }
 ],
 "metadata": {
  "kernelspec": {
   "display_name": "Python 3 (ipykernel)",
   "language": "python",
   "name": "python3"
  },
  "language_info": {
   "codemirror_mode": {
    "name": "ipython",
    "version": 3
   },
   "file_extension": ".py",
   "mimetype": "text/x-python",
   "name": "python",
   "nbconvert_exporter": "python",
   "pygments_lexer": "ipython3",
   "version": "3.9.12"
  }
 },
 "nbformat": 4,
 "nbformat_minor": 5
}
