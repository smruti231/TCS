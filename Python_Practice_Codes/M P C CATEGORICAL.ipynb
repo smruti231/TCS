{
 "cells": [
  {
   "cell_type": "code",
   "execution_count": 4,
   "id": "a1a3dc11",
   "metadata": {},
   "outputs": [
    {
     "name": "stdout",
     "output_type": "stream",
     "text": [
      "\n",
      "Categorical without pandas.Categorical(): \n",
      " 0    a\n",
      "1    b\n",
      "2    c\n",
      "3    d\n",
      "4    a\n",
      "5    d\n",
      "dtype: category\n",
      "Categories (4, object): ['a', 'b', 'c', 'd']\n",
      "\n",
      "\n",
      "c1:  [1, 2, 3, 1, 2, 3]\n",
      "Categories (3, int64): [1, 2, 3]\n",
      "\n",
      "c2:  ['e', 'm', 'f', 'i', 'f', 'e', 'h', 'm']\n",
      "Categories (5, object): ['e', 'f', 'h', 'i', 'm']\n",
      "\n",
      "c3:  ['e', 'm', 'f', 'i', 'f', 'e', 'h', 'm']\n",
      "Categories (5, object): ['e' < 'f' < 'h' < 'i' < 'm']\n",
      "\n",
      "c4:  ['a', 2, 3, 1, 2, 3]\n",
      "Categories (4, object): [1, 2, 3, 'a']\n",
      "\n",
      "c5:  ['a', 2, 3, 1, 2, 3]\n",
      "Categories (4, object): [1 < 2 < 3 < 'a']\n",
      "\n",
      "c6:  [1, NaN, 3, 1, NaN, 3]\n",
      "Categories (4, int64): [4, 1, 3, 5]\n",
      "\n",
      "\n",
      " Series: \n",
      " 0      1\n",
      "1    NaN\n",
      "2      3\n",
      "3      1\n",
      "4    NaN\n",
      "5      3\n",
      "dtype: category\n",
      "Categories (4, int64): [4, 1, 3, 5]\n",
      "\n",
      "\n",
      " DataFrame: \n",
      "    A    B\n",
      "0  1    1\n",
      "1  2  NaN\n",
      "2  3    3\n",
      "3  1    1\n",
      "4  2  NaN\n",
      "5  3    3\n"
     ]
    }
   ],
   "source": [
    "import numpy as np\n",
    "import pandas as pd\n",
    "# categorical using dtype\n",
    "c = pd.Series([\"a\", \"b\", \"c\", \"d\", \"a\", \"d\"], dtype=\"category\")\n",
    "print(\"\\nCategorical without pandas.Categorical(): \\n\",c)\n",
    "\n",
    "c1 = pd.Categorical([1,2,3,1,2,3])\n",
    "print(\"\\n\\nc1: \",c1)\n",
    "\n",
    "c2 = pd.Categorical(['e', 'm', 'f', 'i',\n",
    "                    'f', 'e', 'h', 'm'])\n",
    "print(\"\\nc2: \", c2)\n",
    "\n",
    "c3 = pd.Categorical(['e', 'm','f', 'i',\n",
    "                    'f', 'e', 'h', 'm'], ordered=True)\n",
    "print(\"\\nc3: \",c3)\n",
    "\n",
    "c4 = pd.Categorical(['a', 2, 3, 1, 2 ,3])\n",
    "print(\"\\nc4: \",c4)\n",
    "\n",
    "c5 = pd.Categorical(['a', 2, 3, 1, 2, 3], ordered = True)\n",
    "print(\"\\nc5: \", c5)\n",
    "\n",
    "c6 = pd.Categorical([1,2,3,1,2,3], categories = [4, 1, 3, 5])\n",
    "print(\"\\nc6: \", c6)\n",
    "\n",
    "print(\"\\n\\n Series: \\n\", pd.Series(c6))\n",
    "df = pd.DataFrame({\"A\": [1,2,3,1,2,3]})\n",
    "df[\"B\"] = c6\n",
    "print(\"\\n\\n DataFrame: \\n\", df)"
   ]
  },
  {
   "cell_type": "code",
   "execution_count": null,
   "id": "8c9ab5a3",
   "metadata": {},
   "outputs": [],
   "source": []
  }
 ],
 "metadata": {
  "kernelspec": {
   "display_name": "Python 3 (ipykernel)",
   "language": "python",
   "name": "python3"
  },
  "language_info": {
   "codemirror_mode": {
    "name": "ipython",
    "version": 3
   },
   "file_extension": ".py",
   "mimetype": "text/x-python",
   "name": "python",
   "nbconvert_exporter": "python",
   "pygments_lexer": "ipython3",
   "version": "3.9.12"
  }
 },
 "nbformat": 4,
 "nbformat_minor": 5
}
