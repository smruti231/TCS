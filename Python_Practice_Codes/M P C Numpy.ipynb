{
 "cells": [
  {
   "cell_type": "code",
   "execution_count": 1,
   "id": "993971a5",
   "metadata": {},
   "outputs": [
    {
     "name": "stdout",
     "output_type": "stream",
     "text": [
      "28000\n"
     ]
    }
   ],
   "source": [
    "# List\n",
    "\n",
    "import numpy as np\n",
    "import time\n",
    "import sys\n",
    "s = range(1000)\n",
    "print(sys.getsizeof(5)*len(s))"
   ]
  },
  {
   "cell_type": "code",
   "execution_count": 6,
   "id": "09c3d3b6",
   "metadata": {},
   "outputs": [
    {
     "name": "stdout",
     "output_type": "stream",
     "text": [
      "4000\n"
     ]
    }
   ],
   "source": [
    "# Numpy\n",
    "D = np.arange(1000)\n",
    "print(D.size*D.itemsize)"
   ]
  },
  {
   "cell_type": "code",
   "execution_count": 7,
   "id": "9c037d56",
   "metadata": {},
   "outputs": [
    {
     "name": "stdout",
     "output_type": "stream",
     "text": [
      "Python list: \n",
      "339.8253917694092\n",
      "\n",
      "NumPy array: \n",
      "100.10743141174316\n"
     ]
    }
   ],
   "source": [
    "import time\n",
    "import numpy as np\n",
    "\n",
    "SIZE = 1_000_000\n",
    "\n",
    "L1 = range(SIZE)\n",
    "L2 = range(SIZE)\n",
    "A1 = np.arange(SIZE)\n",
    "A2 = np.arange(SIZE)\n",
    "\n",
    "start = time.time()\n",
    "result = [(x, y) for x, y in zip(L1, L2)]\n",
    "print('Python list: ')\n",
    "print((time.time() - start) * 1000)\n",
    "print()\n",
    "\n",
    "start = time.time()\n",
    "result = A1 + A2\n",
    "print('NumPy array: ')\n",
    "print((time.time() - start) * 1000)"
   ]
  },
  {
   "cell_type": "code",
   "execution_count": 8,
   "id": "1c94d255",
   "metadata": {},
   "outputs": [
    {
     "name": "stdout",
     "output_type": "stream",
     "text": [
      "Array is of type:  <class 'numpy.ndarray'>\n",
      "No of dimensions:  2\n",
      "Shape of array:  (2, 3)\n",
      "Size of array:  6\n",
      "Array stores elements of type:  int32\n"
     ]
    }
   ],
   "source": [
    "import numpy as np\n",
    "arr = np.array([[1,2,3],\n",
    "              [4,2,5]])\n",
    "print(\"Array is of type: \", type(arr))\n",
    "print(\"No of dimensions: \", arr.ndim)\n",
    "print(\"Shape of array: \", arr.shape)\n",
    "print(\"Size of array: \", arr.size)\n",
    "print(\"Array stores elements of type: \", arr.dtype)"
   ]
  },
  {
   "cell_type": "code",
   "execution_count": 10,
   "id": "51882b5b",
   "metadata": {},
   "outputs": [
    {
     "name": "stdout",
     "output_type": "stream",
     "text": [
      "Array created using passed list: \n",
      " [[1. 2. 4.]\n",
      " [5. 8. 7.]]\n",
      "\n",
      "Array created using passed tuple: \n",
      " [1 3 2]\n",
      "\n",
      "An array initialized with all zeros: \n",
      " [[0. 0. 0. 0.]\n",
      " [0. 0. 0. 0.]\n",
      " [0. 0. 0. 0.]]\n",
      "\n",
      "An array initialized with all 6s.Array type is complex: \n",
      " [[6.+0.j 6.+0.j 6.+0.j]\n",
      " [6.+0.j 6.+0.j 6.+0.j]\n",
      " [6.+0.j 6.+0.j 6.+0.j]]\n",
      "\n",
      "A random array: \n",
      " [[0.7751991  0.98163014]\n",
      " [0.95512599 0.5520604 ]]\n",
      "\n",
      " A sequential array with steps of 5:\n",
      " [ 0  5 10 15 20 25]\n"
     ]
    }
   ],
   "source": [
    "import numpy as np\n",
    "a = np.array([[1,2,4], [5,8,7]], dtype = 'float')\n",
    "print(\"Array created using passed list: \\n\", a)\n",
    "b = np.array((1,3,2))\n",
    "print(\"\\nArray created using passed tuple: \\n\", b)\n",
    "c = np.zeros((3,4))\n",
    "print(\"\\nAn array initialized with all zeros: \\n\", c)\n",
    "d = np.full((3,3),6,dtype = 'complex')\n",
    "print(\"\\nAn array initialized with all 6s.\"\n",
    "       \"Array type is complex: \\n\", d)\n",
    "e = np.random.random((2,2))\n",
    "print(\"\\nA random array: \\n\", e)\n",
    "f = np.arange(0,30,5)\n",
    "print(\"\\n A sequential array with steps of 5:\\n\",f)\n"
   ]
  },
  {
   "cell_type": "code",
   "execution_count": 11,
   "id": "64b6fbdc",
   "metadata": {},
   "outputs": [
    {
     "name": "stdout",
     "output_type": "stream",
     "text": [
      "Array with first 2 rows and alternatecolumns(0 and 2):\n",
      " [[-1.  0.]\n",
      " [ 4.  6.]]\n",
      "\n",
      " Elements at indices (0,3), (1,2), (2,1),(3,0):\n",
      " [4. 6. 0. 3.]\n",
      "\n",
      " Elements greater than o:\n",
      " [2.  4.  4.  6.  2.6 7.  8.  3.  4.  2. ]\n"
     ]
    }
   ],
   "source": [
    "import numpy as np\n",
    "arr = np.array([[-1,2,0,4],\n",
    "               [4,-0.5,6,0],\n",
    "               [2.6,0,7,8],\n",
    "               [3,-7,4,2.0]])\n",
    "temp = arr[:2, ::2]\n",
    "print(\"Array with first 2 rows and alternate\"\n",
    "           \"columns(0 and 2):\\n\", temp)\n",
    "temp = arr[[0,1,2,3],[3,2,1,0]]\n",
    "print(\"\\n Elements at indices (0,3), (1,2), (2,1),\"\n",
    "                       \"(3,0):\\n\",temp)\n",
    "cond= arr > 0\n",
    "temp = arr[cond]\n",
    "print(\"\\n Elements greater than o:\\n\", temp)\n"
   ]
  },
  {
   "cell_type": "code",
   "execution_count": 12,
   "id": "84cd477a",
   "metadata": {},
   "outputs": [
    {
     "name": "stdout",
     "output_type": "stream",
     "text": [
      "Adding 1 to every element:  [2 3 6 4]\n",
      "Substring 3 from each element:  [-2 -1  2  0]\n",
      "Multiplying each element by 10:  [10 20 50 30]\n",
      "Squaring each element:  [ 1  4 25  9]\n",
      "Doubled each element of original array:  [ 2  4 10  6]\n",
      "\n",
      " Original array: \n",
      " [[1 2 3]\n",
      " [3 4 5]\n",
      " [9 6 0]]\n",
      "Transpose of array:\n",
      " [[1 3 9]\n",
      " [2 4 6]\n",
      " [3 5 0]]\n"
     ]
    }
   ],
   "source": [
    "import numpy as np\n",
    "a = np.array([1,2,5,3])\n",
    "print(\"Adding 1 to every element: \",a+1)\n",
    "print(\"Substring 3 from each element: \",a-3)\n",
    "print(\"Multiplying each element by 10: \",a*10)\n",
    "print(\"Squaring each element: \",a**2)\n",
    "\n",
    "a *= 2\n",
    "print(\"Doubled each element of original array: \",a)\n",
    "a = np.array([[1,2,3], [3,4,5], [9,6,0]])\n",
    "print(\"\\n Original array: \\n\",a)\n",
    "print(\"Transpose of array:\\n\",a.T)"
   ]
  },
  {
   "cell_type": "code",
   "execution_count": 17,
   "id": "2e45b3f9",
   "metadata": {},
   "outputs": [
    {
     "name": "stdout",
     "output_type": "stream",
     "text": [
      "[[0 1 2]\n",
      " [3 4 5]]\n",
      "[3 5 7]\n"
     ]
    }
   ],
   "source": [
    "# Numpy sum with Axis 0\n",
    "\n",
    "import numpy as np\n",
    "np_array_2d = np.arange(0,6).reshape([2,3])\n",
    "print(np_array_2d)\n",
    "a = np.sum(np_array_2d,axis = 0)\n",
    "print(a)"
   ]
  },
  {
   "cell_type": "code",
   "execution_count": 18,
   "id": "e9f01aa2",
   "metadata": {},
   "outputs": [
    {
     "name": "stdout",
     "output_type": "stream",
     "text": [
      "[[0 1 2]\n",
      " [3 4 5]]\n",
      "[ 3 12]\n"
     ]
    }
   ],
   "source": [
    "# Numpy sum with Axis 1\n",
    "\n",
    "import numpy as np\n",
    "np_array_2d = np.arange(0,6).reshape([2,3])\n",
    "print(np_array_2d)\n",
    "a = np.sum(np_array_2d,axis = 1)\n",
    "print(a)"
   ]
  },
  {
   "cell_type": "code",
   "execution_count": 20,
   "id": "8c4e1dc4",
   "metadata": {},
   "outputs": [
    {
     "name": "stdout",
     "output_type": "stream",
     "text": [
      "[[1 1 1]\n",
      " [1 1 1]]\n",
      "[[2 2 2]\n",
      " [2 2 2]]\n",
      "[[1 1 1]\n",
      " [1 1 1]\n",
      " [2 2 2]\n",
      " [2 2 2]]\n"
     ]
    }
   ],
   "source": [
    "# # Concatenate Np arrays with axis 0\n",
    "import numpy as np\n",
    "np_array_1 = np.array([[1,1,1],[1,1,1]])\n",
    "np_array_2 = np.array([[2,2,2],[2,2,2]])\n",
    "print(np_array_1)\n",
    "print(np_array_2)\n",
    "a = np.concatenate([np_array_1, np_array_2], axis=0)\n",
    "print(a)"
   ]
  },
  {
   "cell_type": "code",
   "execution_count": 21,
   "id": "65395353",
   "metadata": {},
   "outputs": [
    {
     "name": "stdout",
     "output_type": "stream",
     "text": [
      "[[1 1 1]\n",
      " [1 1 1]]\n",
      "[[2 2 2]\n",
      " [2 2 2]]\n",
      "[[1 1 1 2 2 2]\n",
      " [1 1 1 2 2 2]]\n"
     ]
    }
   ],
   "source": [
    "# Concatenate Np arrays with axis 1\n",
    "import numpy as np\n",
    "np_array_1 = np.array([[1,1,1],[1,1,1]])\n",
    "np_array_2 = np.array([[2,2,2],[2,2,2]])\n",
    "print(np_array_1)\n",
    "print(np_array_2)\n",
    "a = np.concatenate([np_array_1, np_array_2], axis=1)\n",
    "print(a)"
   ]
  },
  {
   "cell_type": "code",
   "execution_count": 22,
   "id": "48aa077a",
   "metadata": {},
   "outputs": [
    {
     "name": "stdout",
     "output_type": "stream",
     "text": [
      "[[1 1 1]\n",
      " [1 1 1]]\n",
      "[[2 2 2]\n",
      " [2 2 2]]\n",
      "[[1 1 1]\n",
      " [1 1 1]\n",
      " [2 2 2]\n",
      " [2 2 2]]\n",
      "[[1 1 1 2 2 2]\n",
      " [1 1 1 2 2 2]]\n"
     ]
    }
   ],
   "source": [
    "# Concatenate Numpy arrays with axis 1\n",
    "import numpy as np\n",
    "np_array_1 = np.array([[1,1,1],[1,1,1]])\n",
    "np_array_2 = np.array([[2,2,2],[2,2,2]])\n",
    "print(np_array_1)\n",
    "print(np_array_2)\n",
    "a = np.concatenate([np_array_1, np_array_2], axis=0)\n",
    "b = np.concatenate([np_array_1, np_array_2], axis=1)\n",
    "print(a)\n",
    "print(b)"
   ]
  },
  {
   "cell_type": "code",
   "execution_count": 23,
   "id": "18e3c248",
   "metadata": {},
   "outputs": [
    {
     "name": "stdout",
     "output_type": "stream",
     "text": [
      "[1 1 1]\n",
      "[2 2 2]\n"
     ]
    },
    {
     "ename": "AxisError",
     "evalue": "axis 1 is out of bounds for array of dimension 1",
     "output_type": "error",
     "traceback": [
      "\u001b[1;31m---------------------------------------------------------------------------\u001b[0m",
      "\u001b[1;31mAxisError\u001b[0m                                 Traceback (most recent call last)",
      "\u001b[1;32m~\\AppData\\Local\\Temp/ipykernel_8528/3575720623.py\u001b[0m in \u001b[0;36m<module>\u001b[1;34m\u001b[0m\n\u001b[0;32m      5\u001b[0m \u001b[0mprint\u001b[0m\u001b[1;33m(\u001b[0m\u001b[0mnp_array_2\u001b[0m\u001b[1;33m)\u001b[0m\u001b[1;33m\u001b[0m\u001b[1;33m\u001b[0m\u001b[0m\n\u001b[0;32m      6\u001b[0m \u001b[0ma\u001b[0m \u001b[1;33m=\u001b[0m \u001b[0mnp\u001b[0m\u001b[1;33m.\u001b[0m\u001b[0mconcatenate\u001b[0m\u001b[1;33m(\u001b[0m\u001b[1;33m[\u001b[0m\u001b[0mnp_array_1\u001b[0m\u001b[1;33m,\u001b[0m \u001b[0mnp_array_2\u001b[0m\u001b[1;33m]\u001b[0m\u001b[1;33m,\u001b[0m \u001b[0maxis\u001b[0m\u001b[1;33m=\u001b[0m\u001b[1;36m0\u001b[0m\u001b[1;33m)\u001b[0m\u001b[1;33m\u001b[0m\u001b[1;33m\u001b[0m\u001b[0m\n\u001b[1;32m----> 7\u001b[1;33m \u001b[0mb\u001b[0m \u001b[1;33m=\u001b[0m \u001b[0mnp\u001b[0m\u001b[1;33m.\u001b[0m\u001b[0mconcatenate\u001b[0m\u001b[1;33m(\u001b[0m\u001b[1;33m[\u001b[0m\u001b[0mnp_array_1\u001b[0m\u001b[1;33m,\u001b[0m \u001b[0mnp_array_2\u001b[0m\u001b[1;33m]\u001b[0m\u001b[1;33m,\u001b[0m \u001b[0maxis\u001b[0m\u001b[1;33m=\u001b[0m\u001b[1;36m1\u001b[0m\u001b[1;33m)\u001b[0m\u001b[1;33m\u001b[0m\u001b[1;33m\u001b[0m\u001b[0m\n\u001b[0m\u001b[0;32m      8\u001b[0m \u001b[0mprint\u001b[0m\u001b[1;33m(\u001b[0m\u001b[0ma\u001b[0m\u001b[1;33m)\u001b[0m\u001b[1;33m\u001b[0m\u001b[1;33m\u001b[0m\u001b[0m\n\u001b[0;32m      9\u001b[0m \u001b[0mprint\u001b[0m\u001b[1;33m(\u001b[0m\u001b[0mb\u001b[0m\u001b[1;33m)\u001b[0m\u001b[1;33m\u001b[0m\u001b[1;33m\u001b[0m\u001b[0m\n",
      "\u001b[1;32m<__array_function__ internals>\u001b[0m in \u001b[0;36mconcatenate\u001b[1;34m(*args, **kwargs)\u001b[0m\n",
      "\u001b[1;31mAxisError\u001b[0m: axis 1 is out of bounds for array of dimension 1"
     ]
    }
   ],
   "source": [
    "# concatenate two 1D arrays with Np axis in python\n",
    "import numpy as np\n",
    "np_array_1 = np.array([1,1,1])\n",
    "np_array_2 = np.array([2,2,2])\n",
    "print(np_array_1)\n",
    "print(np_array_2)\n",
    "a = np.concatenate([np_array_1, np_array_2], axis=0)\n",
    "b = np.concatenate([np_array_1, np_array_2], axis=1)\n",
    "print(a)\n",
    "print(b)"
   ]
  },
  {
   "cell_type": "code",
   "execution_count": 24,
   "id": "77cdb3cf",
   "metadata": {},
   "outputs": [
    {
     "name": "stdout",
     "output_type": "stream",
     "text": [
      "Largest element is:  9\n",
      "Row-wise maximum elements:  [6 7 9]\n",
      "Column-wise minimum elements:  [1 1 2]\n",
      "Sum of all array elements:  38\n",
      "Cumulative sum along each row: \n",
      " [[ 1  6 12]\n",
      " [ 4 11 13]\n",
      " [ 3  4 13]]\n"
     ]
    }
   ],
   "source": [
    "# Unary Operator\n",
    "import numpy as np\n",
    "arr = np.array([[1,5,6],\n",
    "               [4,7,2],\n",
    "               [3,1,9]])\n",
    "print(\"Largest element is: \", arr.max())\n",
    "print(\"Row-wise maximum elements: \", arr.max(axis=1))\n",
    "print(\"Column-wise minimum elements: \", arr.min(axis=0))\n",
    "print(\"Sum of all array elements: \",arr.sum())\n",
    "print(\"Cumulative sum along each row: \\n\", arr.cumsum(axis=1))\n"
   ]
  },
  {
   "cell_type": "code",
   "execution_count": 25,
   "id": "54d3dde5",
   "metadata": {},
   "outputs": [
    {
     "name": "stdout",
     "output_type": "stream",
     "text": [
      "Array sum:\n",
      " [[4 6]\n",
      " [5 5]]\n",
      "Array multiplication:\n",
      " [[3 8]\n",
      " [6 4]]\n",
      "Matrix multiplication:\n",
      " [[ 7  6]\n",
      " [17 16]]\n"
     ]
    }
   ],
   "source": [
    "import numpy as np\n",
    "a = np.array([[1,2],\n",
    "             [3,4]])\n",
    "b = np.array([[3,4],\n",
    "             [2,1]])\n",
    "print(\"Array sum:\\n\", a + b)\n",
    "print(\"Array multiplication:\\n\", a * b)\n",
    "print(\"Matrix multiplication:\\n\", a.dot(b))\n",
    "\n"
   ]
  },
  {
   "cell_type": "code",
   "execution_count": 26,
   "id": "3c3b37f9",
   "metadata": {},
   "outputs": [
    {
     "name": "stdout",
     "output_type": "stream",
     "text": [
      "Sine values of array elements:  [0.0000000e+00 1.0000000e+00 1.2246468e-16]\n",
      "Exponent of array elements:  [ 1.          2.71828183  7.3890561  20.08553692]\n",
      "Square root of array elements:  [0.         1.         1.41421356 1.73205081]\n"
     ]
    }
   ],
   "source": [
    "# Universal Functions\n",
    "\n",
    "import numpy as np\n",
    "a = np.array([0, np.pi/2, np.pi])\n",
    "print(\"Sine values of array elements: \",np.sin(a))\n",
    "a = np.array([0,1,2,3])\n",
    "print(\"Exponent of array elements: \", np.exp(a))\n",
    "print(\"Square root of array elements: \",np.sqrt(a))"
   ]
  },
  {
   "cell_type": "code",
   "execution_count": 27,
   "id": "7074bcf8",
   "metadata": {},
   "outputs": [
    {
     "name": "stdout",
     "output_type": "stream",
     "text": [
      "Array elements in sorted order: \n",
      " [-1  0  1  2  3  4  4  5  6]\n",
      "Row wise sorted array:\n",
      " [[ 1  2  4]\n",
      " [ 3  4  6]\n",
      " [-1  0  5]]\n",
      "Column wise sort by applying merge sort:\n",
      " [[ 0 -1  2]\n",
      " [ 1  4  5]\n",
      " [ 3  4  6]]\n",
      "\n",
      " Array sorted by names: \n",
      " [(b'Aakash', 2009, 9. ) (b'Ajay', 2008, 8.7) (b'Hritik', 2009, 8.5)\n",
      " (b'Pankaj', 2008, 7.9)]\n",
      "Array sorted by graduation year and then cgpa: \n",
      " [(b'Pankaj', 2008, 7.9) (b'Ajay', 2008, 8.7) (b'Hritik', 2009, 8.5)\n",
      " (b'Aakash', 2009, 9. )]\n"
     ]
    }
   ],
   "source": [
    "# Sorting Array\n",
    "import numpy as np\n",
    "a = np.array([[1,4,2],\n",
    "             [3,4,6],\n",
    "             [0,-1,5]])\n",
    "print(\"Array elements in sorted order: \\n\", np.sort(a,axis = None))\n",
    "print(\"Row wise sorted array:\\n\", np.sort(a,axis = 1))\n",
    "print(\"Column wise sort by applying merge sort:\\n\", np.sort(a,axis=0, kind='mergesort'))\n",
    "dtypes = [('name', 'S10'), ('grad_year', int), ('cgpa',float)]\n",
    "values = [('Hritik', 2009, 8.5), ('Ajay', 2008, 8.7), ('Pankaj', 2008, 7.9), ('Aakash', 2009, 9.0)]\n",
    "arr = np.array(values, dtype = dtypes)\n",
    "print(\"\\n Array sorted by names: \\n\", np.sort(arr, order = 'name'))\n",
    "print(\"Array sorted by graduation year and then cgpa: \\n\", np.sort(arr, order = ['grad_year', 'cgpa']))"
   ]
  },
  {
   "cell_type": "code",
   "execution_count": 28,
   "id": "ad1791ba",
   "metadata": {},
   "outputs": [
    {
     "name": "stdout",
     "output_type": "stream",
     "text": [
      "Our array is: \n",
      "[[ 0  1  2]\n",
      " [ 3  4  5]\n",
      " [ 6  7  8]\n",
      " [ 9 10 11]]\n",
      "\n",
      "\n",
      "The corner elements of this array are: \n",
      "[[ 0  2]\n",
      " [ 9 11]]\n"
     ]
    }
   ],
   "source": [
    "#  Advanced Indexing\n",
    "import numpy as np\n",
    "x = np.array([[0,1,2],[3,4,5],[6,7,8],[9,10,11]])\n",
    "print('Our array is: ')\n",
    "print(x)\n",
    "print('\\n')\n",
    "rows = np.array([[0,0], [3,3]])\n",
    "cols = np.array([[0,2], [0,2]])\n",
    "y = x[rows, cols]\n",
    "print('The corner elements of this array are: ')\n",
    "print(y)"
   ]
  },
  {
   "cell_type": "code",
   "execution_count": 30,
   "id": "22493213",
   "metadata": {},
   "outputs": [
    {
     "name": "stdout",
     "output_type": "stream",
     "text": [
      "Our array is: \n",
      "[[ 0  1  2]\n",
      " [ 3  4  5]\n",
      " [ 6  7  8]\n",
      " [ 9 10 11]]\n",
      "\n",
      "\n",
      "After slicing, our array becomes: \n",
      "[[ 4  5]\n",
      " [ 7  8]\n",
      " [10 11]]\n",
      "\n",
      "\n",
      "Slicing using advanced index for column: \n",
      "[[ 0  1  2]\n",
      " [ 3  4  5]\n",
      " [ 6  7  8]\n",
      " [ 9 10 11]]\n"
     ]
    }
   ],
   "source": [
    "import numpy as np\n",
    "x = np.array([[0,1,2],[3,4,5],[6,7,8],[9,10,11]])\n",
    "print('Our array is: ')\n",
    "print(x)\n",
    "print('\\n')\n",
    "z = x[1:4, 1:3]\n",
    "print('After slicing, our array becomes: ')\n",
    "print(z)\n",
    "print('\\n')\n",
    "y = x[1:4, [1,2]]\n",
    "print('Slicing using advanced index for column: ')\n",
    "print(x)"
   ]
  },
  {
   "cell_type": "code",
   "execution_count": 31,
   "id": "ba13c3dc",
   "metadata": {},
   "outputs": [
    {
     "name": "stdout",
     "output_type": "stream",
     "text": [
      "Original array is: \n",
      "[[ 0  5 10 15]\n",
      " [20 25 30 35]\n",
      " [40 45 50 55]]\n",
      "\n",
      "\n",
      "Modified array is: \n",
      "0\n",
      "5\n",
      "10\n",
      "15\n",
      "20\n",
      "25\n",
      "30\n",
      "35\n",
      "40\n",
      "45\n",
      "50\n",
      "55\n"
     ]
    }
   ],
   "source": [
    "# Iteration Over Array\n",
    "\n",
    "import numpy as np\n",
    "a = np.arange(0, 60, 5)\n",
    "a = a.reshape(3,4)\n",
    "print('Original array is: ')\n",
    "print(a)\n",
    "print('\\n')\n",
    "print('Modified array is: ')\n",
    "for x in np.nditer(a):\n",
    "    print(x)"
   ]
  },
  {
   "cell_type": "code",
   "execution_count": 33,
   "id": "d10cff0e",
   "metadata": {},
   "outputs": [
    {
     "name": "stdout",
     "output_type": "stream",
     "text": [
      "Original array is: \n",
      "[[ 0  5 10 15]\n",
      " [20 25 30 35]\n",
      " [40 45 50 55]]\n",
      "\n",
      "\n",
      "Transpose of the original array is: \n",
      "[[ 0 20 40]\n",
      " [ 5 25 45]\n",
      " [10 30 50]\n",
      " [15 35 55]]\n",
      "\n",
      "\n",
      "Modified array is: \n",
      "0\n",
      "5\n",
      "10\n",
      "15\n",
      "20\n",
      "25\n",
      "30\n",
      "35\n",
      "40\n",
      "45\n",
      "50\n",
      "55\n"
     ]
    }
   ],
   "source": [
    "import numpy as np\n",
    "a = np.arange(0, 60, 5)\n",
    "a = a.reshape(3,4)\n",
    "print('Original array is: ')\n",
    "print(a)\n",
    "print('\\n')\n",
    "print('Transpose of the original array is: ')\n",
    "b = a.T\n",
    "print(b)\n",
    "print('\\n')\n",
    "print('Modified array is: ')\n",
    "for x in np.nditer(a):\n",
    "    print(x,)"
   ]
  },
  {
   "cell_type": "code",
   "execution_count": 35,
   "id": "332d1758",
   "metadata": {},
   "outputs": [
    {
     "name": "stdout",
     "output_type": "stream",
     "text": [
      "Original array is: \n",
      "[[ 0  5 10 15]\n",
      " [20 25 30 35]\n",
      " [40 45 50 55]]\n",
      "\n",
      "\n",
      "Transpose of the original array is: \n",
      "[[ 0 20 40]\n",
      " [ 5 25 45]\n",
      " [10 30 50]\n",
      " [15 35 55]]\n",
      "\n",
      "\n",
      "Sorted in C-style order: \n",
      "[[ 0 20 40]\n",
      " [ 5 25 45]\n",
      " [10 30 50]\n",
      " [15 35 55]]\n",
      "0\n",
      "20\n",
      "40\n",
      "5\n",
      "25\n",
      "45\n",
      "10\n",
      "30\n",
      "50\n",
      "15\n",
      "35\n",
      "55\n",
      "\n",
      "\n",
      "Sorted in F-style order: \n",
      "[[ 0 20 40]\n",
      " [ 5 25 45]\n",
      " [10 30 50]\n",
      " [15 35 55]]\n",
      "0\n",
      "5\n",
      "10\n",
      "15\n",
      "20\n",
      "25\n",
      "30\n",
      "35\n",
      "40\n",
      "45\n",
      "50\n",
      "55\n"
     ]
    }
   ],
   "source": [
    "import numpy as np\n",
    "a = np.arange(0, 60, 5)\n",
    "a = a.reshape(3,4)\n",
    "print('Original array is: ')\n",
    "print(a)\n",
    "print('\\n')\n",
    "print('Transpose of the original array is: ')\n",
    "b = a.T\n",
    "print(b)\n",
    "print('\\n')\n",
    "print('Sorted in C-style order: ')\n",
    "c = b.copy(order = 'C')\n",
    "print(c)\n",
    "for x in np.nditer(c):\n",
    "    print(x,)\n",
    "print('\\n')\n",
    "print('Sorted in F-style order: ')\n",
    "c = b.copy(order = 'F')\n",
    "print(c)\n",
    "for x in np.nditer(c):\n",
    "    print(x,)"
   ]
  },
  {
   "cell_type": "code",
   "execution_count": 38,
   "id": "28cc66a3",
   "metadata": {},
   "outputs": [
    {
     "name": "stdout",
     "output_type": "stream",
     "text": [
      "Original array is: \n",
      "[[ 0  5 10 15]\n",
      " [20 25 30 35]\n",
      " [40 45 50 55]]\n",
      "\n",
      "\n",
      "Modified array is: \n",
      "[[  0  10  20  30]\n",
      " [ 40  50  60  70]\n",
      " [ 80  90 100 110]]\n"
     ]
    }
   ],
   "source": [
    "#  Modifying Array Values\n",
    "import numpy as np\n",
    "a = np.arange(0, 60, 5)\n",
    "a = a.reshape(3,4)\n",
    "print('Original array is: ')\n",
    "print(a)\n",
    "print('\\n')\n",
    "for x in np.nditer(a, op_flags = ['readwrite']):\n",
    "    x[...] = 2 * x\n",
    "print('Modified array is: ')\n",
    "print(a)"
   ]
  },
  {
   "cell_type": "code",
   "execution_count": 42,
   "id": "b92cb8f3",
   "metadata": {},
   "outputs": [
    {
     "name": "stdout",
     "output_type": "stream",
     "text": [
      "Original array is: \n",
      "[[ 0  5 10 15]\n",
      " [20 25 30 35]\n",
      " [40 45 50 55]]\n",
      "\n",
      "\n",
      "Modified array is: \n",
      "[ 0 20 40]\n",
      "[ 5 25 45]\n",
      "[10 30 50]\n",
      "[15 35 55]\n"
     ]
    }
   ],
   "source": [
    "import numpy as np\n",
    "a = np.arange(0, 60, 5)\n",
    "a = a.reshape(3,4)\n",
    "print('Original array is: ')\n",
    "print(a)\n",
    "print('\\n')\n",
    "print('Modified array is: ')\n",
    "for x in np.nditer(a,flags = ['external_loop'],order = 'F'):\n",
    "    print(x,)"
   ]
  },
  {
   "cell_type": "code",
   "execution_count": 43,
   "id": "f3392f0a",
   "metadata": {},
   "outputs": [
    {
     "name": "stdout",
     "output_type": "stream",
     "text": [
      "Forst array is: \n",
      "[[ 0  5 10 15]\n",
      " [20 25 30 35]\n",
      " [40 45 50 55]]\n",
      "\n",
      "\n",
      "Second array is: \n",
      "[1 2 3 4]\n",
      "\n",
      "\n",
      "Modified array is: \n",
      "0:1\n",
      "5:2\n",
      "10:3\n",
      "15:4\n",
      "20:1\n",
      "25:2\n",
      "30:3\n",
      "35:4\n",
      "40:1\n",
      "45:2\n",
      "50:3\n",
      "55:4\n"
     ]
    }
   ],
   "source": [
    "#  Broadcasting Iteration\n",
    "import numpy as np\n",
    "a = np.arange(0, 60, 5)\n",
    "a = a.reshape(3,4)\n",
    "print('Forst array is: ')\n",
    "print(a)\n",
    "print('\\n')\n",
    "print('Second array is: ')\n",
    "b = np.array([1,2,3,4], dtype = int)\n",
    "print(b)\n",
    "print(\"\\n\")\n",
    "print('Modified array is: ')\n",
    "for x,y in np.nditer([a,b]):\n",
    "    print(\"%d:%d\" % (x,y),)"
   ]
  },
  {
   "cell_type": "code",
   "execution_count": 44,
   "id": "cfd5ceb1",
   "metadata": {},
   "outputs": [
    {
     "name": "stdout",
     "output_type": "stream",
     "text": [
      "Vertical stacking: \n",
      " [[1 2]\n",
      " [3 4]\n",
      " [5 6]\n",
      " [7 8]]\n",
      "Horizontal stacking: \n",
      " [[1 2 5 6]\n",
      " [3 4 7 8]]\n",
      "\n",
      " Column Stacking: \n",
      " [[1 2 5]\n",
      " [3 4 6]]\n",
      "\n",
      " Concatenating to 2nd axis: \n",
      " [[1 2 5 6]\n",
      " [3 4 7 8]]\n"
     ]
    }
   ],
   "source": [
    "#  Stacking\n",
    "\n",
    "import numpy as np\n",
    "a = np.array([[1,2],\n",
    "             [3,4]])\n",
    "b = np.array([[5,6],\n",
    "             [7,8]])\n",
    "print(\"Vertical stacking: \\n\", np.vstack((a,b)))\n",
    "print(\"Horizontal stacking: \\n\", np.hstack((a,b)))\n",
    "c = [5,6]\n",
    "print(\"\\n Column Stacking: \\n\", np.column_stack((a,c)))\n",
    "print(\"\\n Concatenating to 2nd axis: \\n\", np.concatenate((a,b),1))"
   ]
  },
  {
   "cell_type": "code",
   "execution_count": 45,
   "id": "f2767feb",
   "metadata": {},
   "outputs": [
    {
     "name": "stdout",
     "output_type": "stream",
     "text": [
      "Splitting along horizontal axis into 2 parts: \n",
      " [array([[1, 3, 5],\n",
      "       [2, 4, 6]]), array([[ 7,  9, 11],\n",
      "       [ 8, 10, 12]])]\n",
      "Splitting along vertical axis into 2 parts: \n",
      " [array([[ 1,  3,  5,  7,  9, 11]]), array([[ 2,  4,  6,  8, 10, 12]])]\n"
     ]
    }
   ],
   "source": [
    "# Splitting\n",
    "\n",
    "import numpy as np\n",
    "a = np.array([[1,3,5,7,9,11],\n",
    "             [2,4,6,8,10,12]])\n",
    "print(\"Splitting along horizontal axis into 2 parts: \\n\", np.hsplit(a,2))\n",
    "print(\"Splitting along vertical axis into 2 parts: \\n\", np.vsplit(a,2))\n"
   ]
  },
  {
   "cell_type": "code",
   "execution_count": 46,
   "id": "c75a2536",
   "metadata": {},
   "outputs": [
    {
     "name": "stdout",
     "output_type": "stream",
     "text": [
      "[2. 4. 6.]\n",
      "[2. 4. 6.]\n"
     ]
    }
   ],
   "source": [
    "# Broadcasting Examples\n",
    "\n",
    "import numpy as np\n",
    "a = np.array([1.0, 2.0, 3.0])\n",
    "b = 2.0\n",
    "print(a * b)\n",
    "c = [2.0, 2.0, 2.0]\n",
    "print(a*c)"
   ]
  },
  {
   "cell_type": "code",
   "execution_count": 47,
   "id": "09e72196",
   "metadata": {},
   "outputs": [
    {
     "name": "stdout",
     "output_type": "stream",
     "text": [
      "[[ 0.  1.  2.]\n",
      " [10. 11. 12.]\n",
      " [20. 21. 22.]\n",
      " [30. 31. 32.]]\n"
     ]
    }
   ],
   "source": [
    "import numpy as np\n",
    "a = np.array([0.0, 10.0, 20.0, 30.0])\n",
    "b = np.array([0.0, 1.0, 2.0])\n",
    "print(a[:, np.newaxis] + b)"
   ]
  },
  {
   "cell_type": "code",
   "execution_count": 49,
   "id": "14ef4e8c",
   "metadata": {},
   "outputs": [
    {
     "name": "stdout",
     "output_type": "stream",
     "text": [
      "Date is:  2017-02-12\n",
      "Year is:  2017\n",
      "\n",
      "Dates of February, 2017:\n",
      " ['2017-02-01' '2017-02-02' '2017-02-03' '2017-02-04' '2017-02-05'\n",
      " '2017-02-06' '2017-02-07' '2017-02-08' '2017-02-09' '2017-02-10'\n",
      " '2017-02-11' '2017-02-12' '2017-02-13' '2017-02-14' '2017-02-15'\n",
      " '2017-02-16' '2017-02-17' '2017-02-18' '2017-02-19' '2017-02-20'\n",
      " '2017-02-21' '2017-02-22' '2017-02-23' '2017-02-24' '2017-02-25'\n",
      " '2017-02-26' '2017-02-27' '2017-02-28']\n",
      "Today is February: True\n",
      "\n",
      " Np. of days:  365 days\n",
      "No. of weeks:  52 weeks\n",
      "\n",
      "Dates in sorted order:  ['2016-10-13' '2017-02-12' '2019-05-22']\n"
     ]
    }
   ],
   "source": [
    "import numpy as np\n",
    "today = np.datetime64('2017-02-12')\n",
    "print(\"Date is: \", today)\n",
    "print(\"Year is: \", np.datetime64(today, 'Y'))\n",
    "dates = np.arange('2017-02', '2017-03', dtype = 'datetime64[D]')\n",
    "print(\"\\nDates of February, 2017:\\n\", dates)\n",
    "print(\"Today is February:\", today in dates)\n",
    "dur = np.datetime64('2017-05-22') - np.datetime64('2016-05-22')\n",
    "print(\"\\n Np. of days: \", dur)\n",
    "print(\"No. of weeks: \", np.timedelta64(dur, 'W'))\n",
    "a = np.array(['2017-02-12', '2016-10-13', '2019-05-22'], dtype = 'datetime64')\n",
    "print(\"\\nDates in sorted order: \", np.sort(a))"
   ]
  },
  {
   "cell_type": "code",
   "execution_count": 50,
   "id": "29f69563",
   "metadata": {},
   "outputs": [
    {
     "name": "stdout",
     "output_type": "stream",
     "text": [
      "\n",
      " A sequential array with a negative step: \n",
      " [10  8  6  4  2]\n",
      "\n",
      " Elements at these indices are: \n",
      " [4 8 6]\n"
     ]
    }
   ],
   "source": [
    "import numpy as np\n",
    "a = np.arange(10,1,-2)\n",
    "print(\"\\n A sequential array with a negative step: \\n\",a)\n",
    "newarr = a[np.array([3,1,2])]\n",
    "print(\"\\n Elements at these indices are: \\n\", newarr)"
   ]
  },
  {
   "cell_type": "code",
   "execution_count": 51,
   "id": "b5a7eab2",
   "metadata": {},
   "outputs": [
    {
     "name": "stdout",
     "output_type": "stream",
     "text": [
      "\n",
      " Elements are: \n",
      " [2 4 7]\n"
     ]
    }
   ],
   "source": [
    "x = np.array([1,2,3,4,5,6,7,8,9])\n",
    "arr = x[np.array([1,3,-3])]\n",
    "print(\"\\n Elements are: \\n\", arr)"
   ]
  },
  {
   "cell_type": "code",
   "execution_count": 52,
   "id": "2490f17b",
   "metadata": {},
   "outputs": [
    {
     "name": "stdout",
     "output_type": "stream",
     "text": [
      "[1 3 6]\n"
     ]
    }
   ],
   "source": [
    "import numpy as np\n",
    "a = np.array([[1,2], [3,4], [5,6]])\n",
    "print(a[[0,1,2], [0,0,1]])"
   ]
  },
  {
   "cell_type": "code",
   "execution_count": null,
   "id": "bad2965a",
   "metadata": {},
   "outputs": [],
   "source": []
  }
 ],
 "metadata": {
  "kernelspec": {
   "display_name": "Python 3 (ipykernel)",
   "language": "python",
   "name": "python3"
  },
  "language_info": {
   "codemirror_mode": {
    "name": "ipython",
    "version": 3
   },
   "file_extension": ".py",
   "mimetype": "text/x-python",
   "name": "python",
   "nbconvert_exporter": "python",
   "pygments_lexer": "ipython3",
   "version": "3.9.12"
  }
 },
 "nbformat": 4,
 "nbformat_minor": 5
}
