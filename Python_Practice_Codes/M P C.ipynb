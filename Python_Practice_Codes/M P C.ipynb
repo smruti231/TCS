{
 "cells": [
  {
   "cell_type": "markdown",
   "id": "76d11e7c",
   "metadata": {},
   "source": [
    "# 23/03/2022"
   ]
  },
  {
   "cell_type": "code",
   "execution_count": 1,
   "id": "263c4832",
   "metadata": {},
   "outputs": [
    {
     "name": "stdout",
     "output_type": "stream",
     "text": [
      "SMRUTI\n"
     ]
    }
   ],
   "source": [
    "str1 = 'SMRUTI'\n",
    "print(str1)"
   ]
  },
  {
   "cell_type": "code",
   "execution_count": 2,
   "id": "bdcb4222",
   "metadata": {},
   "outputs": [
    {
     "name": "stdout",
     "output_type": "stream",
     "text": [
      "SMRUTI\n"
     ]
    }
   ],
   "source": [
    "str2 = \"SMRUTI\"\n",
    "print(str2) "
   ]
  },
  {
   "cell_type": "code",
   "execution_count": 3,
   "id": "c8c6db9c",
   "metadata": {},
   "outputs": [
    {
     "name": "stdout",
     "output_type": "stream",
     "text": [
      "SMRUTI\n"
     ]
    }
   ],
   "source": [
    "str3 = '''SMRUTI'''\n",
    "print(str3)"
   ]
  },
  {
   "cell_type": "code",
   "execution_count": 4,
   "id": "f7873541",
   "metadata": {},
   "outputs": [
    {
     "name": "stdout",
     "output_type": "stream",
     "text": [
      "R\n"
     ]
    }
   ],
   "source": [
    "print(str1[2])"
   ]
  },
  {
   "cell_type": "code",
   "execution_count": 5,
   "id": "057dac9e",
   "metadata": {},
   "outputs": [
    {
     "name": "stdout",
     "output_type": "stream",
     "text": [
      "U\n"
     ]
    }
   ],
   "source": [
    "print(str2[-3])"
   ]
  },
  {
   "cell_type": "code",
   "execution_count": 6,
   "id": "45f30c71",
   "metadata": {},
   "outputs": [
    {
     "name": "stdout",
     "output_type": "stream",
     "text": [
      "MRU\n"
     ]
    }
   ],
   "source": [
    "print(str3[1:4])"
   ]
  },
  {
   "cell_type": "code",
   "execution_count": 9,
   "id": "12aecd93",
   "metadata": {},
   "outputs": [
    {
     "name": "stdout",
     "output_type": "stream",
     "text": [
      "S\n",
      "I\n",
      "M\n",
      "RUT\n",
      "\n",
      "\n"
     ]
    }
   ],
   "source": [
    "print(str3[-6])\n",
    "print(str3[-1])\n",
    "print(str3[-5])\n",
    "print(str3[2:5])\n",
    "# print(str3[-2:-3])    doesn't produce any result\n",
    "# print(str3[-2:4])     doesn't produce any result"
   ]
  },
  {
   "cell_type": "code",
   "execution_count": 12,
   "id": "98163d67",
   "metadata": {},
   "outputs": [
    {
     "name": "stdout",
     "output_type": "stream",
     "text": [
      "Hello World\n"
     ]
    }
   ],
   "source": [
    "#Author:Smruti\n",
    "#Licenced to:ABC Company\n",
    "import os   #importing the os module\n",
    "print(\"Hello World\") "
   ]
  },
  {
   "cell_type": "code",
   "execution_count": 13,
   "id": "cf3dfbfd",
   "metadata": {},
   "outputs": [
    {
     "name": "stdout",
     "output_type": "stream",
     "text": [
      "Hello World\n"
     ]
    }
   ],
   "source": [
    "'''\n",
    "Author:Smruti\n",
    "Licenced to:ABC Company\n",
    "'''\n",
    "import os   #importing the os module\n",
    "print(\"Hello World\")"
   ]
  },
  {
   "cell_type": "code",
   "execution_count": 14,
   "id": "62a73224",
   "metadata": {},
   "outputs": [
    {
     "ename": "SyntaxError",
     "evalue": "EOL while scanning string literal (Temp/ipykernel_380/2863357997.py, line 2)",
     "output_type": "error",
     "traceback": [
      "\u001b[1;36m  File \u001b[1;32m\"C:\\Users\\iasms\\AppData\\Local\\Temp/ipykernel_380/2863357997.py\"\u001b[1;36m, line \u001b[1;32m2\u001b[0m\n\u001b[1;33m    print(\"Twinkle, twinkle,little star,\u001b[0m\n\u001b[1;37m                                        ^\u001b[0m\n\u001b[1;31mSyntaxError\u001b[0m\u001b[1;31m:\u001b[0m EOL while scanning string literal\n"
     ]
    }
   ],
   "source": [
    " # Problem-1\n",
    "print(\"Twinkle, twinkle,little star,\n",
    "      How I wondow what you are!\n",
    "      Up above the world so high\n",
    "      Like a diamond in the sky.\")\n",
    "# error as we can't print multiple stting lines using double quote"
   ]
  },
  {
   "cell_type": "code",
   "execution_count": 15,
   "id": "3697430f",
   "metadata": {},
   "outputs": [
    {
     "name": "stdout",
     "output_type": "stream",
     "text": [
      "Twinkle, twinkle,little star,\n",
      "      How I wondow what you are!\n",
      "      Up above the world so high\n",
      "      Like a diamond in the sky.\n"
     ]
    }
   ],
   "source": [
    "print('''Twinkle, twinkle,little star,\n",
    "      How I wondow what you are!\n",
    "      Up above the world so high\n",
    "      Like a diamond in the sky.''')"
   ]
  },
  {
   "cell_type": "code",
   "execution_count": 16,
   "id": "53f93648",
   "metadata": {},
   "outputs": [
    {
     "name": "stdout",
     "output_type": "stream",
     "text": [
      "Twinkle, twinkle,little star,\n",
      "How I wondow what you are!\n",
      "Up above the world so high\n",
      "Like a diamond in the sky.\n"
     ]
    }
   ],
   "source": [
    "print('''Twinkle, twinkle,little star,\n",
    "How I wondow what you are!\n",
    "Up above the world so high\n",
    "Like a diamond in the sky.''')"
   ]
  },
  {
   "cell_type": "code",
   "execution_count": 17,
   "id": "a9dc6dfd",
   "metadata": {},
   "outputs": [
    {
     "name": "stdout",
     "output_type": "stream",
     "text": [
      "Twinkle, twinkle,little star,\n",
      "How I wondow what you are!\n",
      "Up above the world so high\n",
      "Like a diamond in the sky.\n"
     ]
    }
   ],
   "source": [
    "'''\n",
    "this is the solution of problem 1\n",
    "'''\n",
    "print('''Twinkle, twinkle,little star,\n",
    "How I wondow what you are!\n",
    "Up above the world so high\n",
    "Like a diamond in the sky.''')"
   ]
  },
  {
   "cell_type": "code",
   "execution_count": 18,
   "id": "7e8bfd40",
   "metadata": {},
   "outputs": [
    {
     "name": "stdout",
     "output_type": "stream",
     "text": [
      "88\n",
      "99\n",
      "0\n",
      "40\n",
      "15\n"
     ]
    }
   ],
   "source": [
    "Elements=[10,20,0,40,15]\n",
    "X=bytearray(Elements)\n",
    "X[0]=88\n",
    "X[1]=99\n",
    "for i in X:\n",
    "    print(i)"
   ]
  },
  {
   "cell_type": "code",
   "execution_count": 1,
   "id": "fb05e2ce",
   "metadata": {},
   "outputs": [
    {
     "ename": "TypeError",
     "evalue": "'bytes' object does not support item assignment",
     "output_type": "error",
     "traceback": [
      "\u001b[1;31m---------------------------------------------------------------------------\u001b[0m",
      "\u001b[1;31mTypeError\u001b[0m                                 Traceback (most recent call last)",
      "\u001b[1;32m~\\AppData\\Local\\Temp/ipykernel_13160/314770332.py\u001b[0m in \u001b[0;36m<module>\u001b[1;34m\u001b[0m\n\u001b[0;32m      1\u001b[0m \u001b[0mElements\u001b[0m\u001b[1;33m=\u001b[0m\u001b[1;33m[\u001b[0m\u001b[1;36m10\u001b[0m\u001b[1;33m,\u001b[0m\u001b[1;36m20\u001b[0m\u001b[1;33m,\u001b[0m\u001b[1;36m0\u001b[0m\u001b[1;33m,\u001b[0m\u001b[1;36m40\u001b[0m\u001b[1;33m,\u001b[0m\u001b[1;36m15\u001b[0m\u001b[1;33m]\u001b[0m\u001b[1;33m\u001b[0m\u001b[1;33m\u001b[0m\u001b[0m\n\u001b[0;32m      2\u001b[0m \u001b[0mX\u001b[0m\u001b[1;33m=\u001b[0m\u001b[0mbytes\u001b[0m\u001b[1;33m(\u001b[0m\u001b[0mElements\u001b[0m\u001b[1;33m)\u001b[0m\u001b[1;33m\u001b[0m\u001b[1;33m\u001b[0m\u001b[0m\n\u001b[1;32m----> 3\u001b[1;33m \u001b[0mX\u001b[0m\u001b[1;33m[\u001b[0m\u001b[1;36m0\u001b[0m\u001b[1;33m]\u001b[0m\u001b[1;33m=\u001b[0m\u001b[1;36m88\u001b[0m\u001b[1;33m\u001b[0m\u001b[1;33m\u001b[0m\u001b[0m\n\u001b[0m\u001b[0;32m      4\u001b[0m \u001b[0mX\u001b[0m\u001b[1;33m[\u001b[0m\u001b[1;36m1\u001b[0m\u001b[1;33m]\u001b[0m\u001b[1;33m=\u001b[0m\u001b[1;36m99\u001b[0m\u001b[1;33m\u001b[0m\u001b[1;33m\u001b[0m\u001b[0m\n\u001b[0;32m      5\u001b[0m \u001b[1;32mfor\u001b[0m \u001b[0mi\u001b[0m \u001b[1;32min\u001b[0m \u001b[0mX\u001b[0m\u001b[1;33m:\u001b[0m\u001b[1;33m\u001b[0m\u001b[1;33m\u001b[0m\u001b[0m\n",
      "\u001b[1;31mTypeError\u001b[0m: 'bytes' object does not support item assignment"
     ]
    }
   ],
   "source": [
    "Elements=[10,20,0,40,15]\n",
    "X=bytes(Elements)\n",
    "X[0]=88\n",
    "X[1]=99\n",
    "for i in X:\n",
    "    print(i)\n",
    "    \n",
    "# in byte we can not edit the value of any item though it is posiible in bytesarray"
   ]
  },
  {
   "cell_type": "code",
   "execution_count": 1,
   "id": "5df7998c",
   "metadata": {},
   "outputs": [
    {
     "ename": "TypeError",
     "evalue": "'str' object cannot be interpreted as an integer",
     "output_type": "error",
     "traceback": [
      "\u001b[1;31m---------------------------------------------------------------------------\u001b[0m",
      "\u001b[1;31mTypeError\u001b[0m                                 Traceback (most recent call last)",
      "\u001b[1;32m~\\AppData\\Local\\Temp/ipykernel_8760/1402999889.py\u001b[0m in \u001b[0;36m<module>\u001b[1;34m\u001b[0m\n\u001b[0;32m      1\u001b[0m \u001b[0mElements\u001b[0m\u001b[1;33m=\u001b[0m\u001b[1;33m[\u001b[0m\u001b[1;34m'a'\u001b[0m\u001b[1;33m,\u001b[0m\u001b[1;34m'm'\u001b[0m\u001b[1;33m,\u001b[0m\u001b[1;34m'r'\u001b[0m\u001b[1;33m,\u001b[0m\u001b[1;34m'e'\u001b[0m\u001b[1;33m,\u001b[0m\u001b[1;34m's'\u001b[0m\u001b[1;33m]\u001b[0m\u001b[1;33m\u001b[0m\u001b[1;33m\u001b[0m\u001b[0m\n\u001b[1;32m----> 2\u001b[1;33m \u001b[0mX\u001b[0m\u001b[1;33m=\u001b[0m\u001b[0mbytes\u001b[0m\u001b[1;33m(\u001b[0m\u001b[0mElements\u001b[0m\u001b[1;33m)\u001b[0m\u001b[1;33m\u001b[0m\u001b[1;33m\u001b[0m\u001b[0m\n\u001b[0m\u001b[0;32m      3\u001b[0m \u001b[1;32mfor\u001b[0m \u001b[0mi\u001b[0m \u001b[1;32min\u001b[0m \u001b[0mX\u001b[0m\u001b[1;33m:\u001b[0m\u001b[1;33m\u001b[0m\u001b[1;33m\u001b[0m\u001b[0m\n\u001b[0;32m      4\u001b[0m     \u001b[0mprint\u001b[0m\u001b[1;33m(\u001b[0m\u001b[0mi\u001b[0m\u001b[1;33m)\u001b[0m\u001b[1;33m\u001b[0m\u001b[1;33m\u001b[0m\u001b[0m\n",
      "\u001b[1;31mTypeError\u001b[0m: 'str' object cannot be interpreted as an integer"
     ]
    }
   ],
   "source": [
    "Elements=['a','m','r','e','s']\n",
    "X=bytes(Elements)\n",
    "for i in X:\n",
    "    print(i)"
   ]
  },
  {
   "cell_type": "code",
   "execution_count": null,
   "id": "4a5d984a",
   "metadata": {},
   "outputs": [],
   "source": []
  },
  {
   "cell_type": "markdown",
   "id": "8c0172b0",
   "metadata": {},
   "source": [
    "Variables"
   ]
  },
  {
   "cell_type": "code",
   "execution_count": 19,
   "id": "9023da55",
   "metadata": {},
   "outputs": [
    {
     "name": "stdout",
     "output_type": "stream",
     "text": [
      "Smruti\n",
      "Smruti\n",
      "Smruti\n",
      "321\n",
      "82.67\n",
      "True\n",
      "<class 'str'>\n",
      "<class 'str'>\n",
      "<class 'str'>\n",
      "<class 'int'>\n",
      "<class 'float'>\n",
      "<class 'bool'>\n"
     ]
    }
   ],
   "source": [
    "a = \"Smruti\"\n",
    "b = 'Smruti'\n",
    "c = '''Smruti'''\n",
    "d = 321\n",
    "e = 82.67\n",
    "f = True\n",
    "#f = None\n",
    "\n",
    "#printing the variables\n",
    "print(a)\n",
    "print(b)\n",
    "print(c)\n",
    "print(d)\n",
    "print(e)\n",
    "print(f)\n",
    "\n",
    "#printing the type of variables\n",
    "print(type(a))\n",
    "print(type(b))\n",
    "print(type(c))\n",
    "print(type(d))\n",
    "print(type(e))\n",
    "print(type(f))"
   ]
  },
  {
   "cell_type": "code",
   "execution_count": 20,
   "id": "05969cfd",
   "metadata": {},
   "outputs": [
    {
     "name": "stdout",
     "output_type": "stream",
     "text": [
      "37\n",
      "67\n"
     ]
    }
   ],
   "source": [
    "a = 37\n",
    "print(a)\n",
    "A = 67\n",
    "print(A)"
   ]
  },
  {
   "cell_type": "code",
   "execution_count": 21,
   "id": "222efd4c",
   "metadata": {},
   "outputs": [
    {
     "name": "stdout",
     "output_type": "stream",
     "text": [
      "The value of 12 + 13 is  25\n",
      "The value of 12-13 is  -1\n",
      "The value of 12*13 is  156\n",
      "The value of 12/13 is  4.0\n",
      "36\n",
      "32\n",
      "64\n",
      "8.0\n",
      "False\n",
      "True\n",
      "True\n",
      "The value of bool1 and bool2 is False\n",
      "The value of bool1 and bool2 is True\n",
      "The value of bool1 and bool2 is True\n"
     ]
    }
   ],
   "source": [
    "#Arithmetic Operator\n",
    "a = 12\n",
    "b = 13\n",
    "print('The value of 12 + 13 is ', 12+13)\n",
    "print('The value of 12-13 is ', 12-13)\n",
    "print('The value of 12*13 is ', 12*13)\n",
    "print('The value of 12/13 is ', 12/3)\n",
    "\n",
    "#Assignment Operator\n",
    "a = 34\n",
    "a += 2\n",
    "print(a)\n",
    "a -= 4\n",
    "print(a)\n",
    "a *= 2\n",
    "print(a)\n",
    "a /= 8\n",
    "print(a)\n",
    "\n",
    "#Comparision Operator\n",
    "b = (4>7)\n",
    "print(b)\n",
    "b = (20<23)\n",
    "print(b)\n",
    "# b = (14<=7)\n",
    "# b = (14>=7)\n",
    "# b = (14==7)\n",
    "b = (14 != 7)\n",
    "print(b)\n",
    "\n",
    "# Logical Operators\n",
    "bool1 = True\n",
    "bool2 = False\n",
    "print(\"The value of bool1 and bool2 is\",(bool1 and bool2))\n",
    "print(\"The value of bool1 and bool2 is\",(bool1 or bool2))\n",
    "print(\"The value of bool1 and bool2 is\",(not bool2))"
   ]
  },
  {
   "cell_type": "code",
   "execution_count": 22,
   "id": "1a5cfcd3",
   "metadata": {},
   "outputs": [
    {
     "name": "stdout",
     "output_type": "stream",
     "text": [
      "<class 'str'>\n"
     ]
    },
    {
     "ename": "TypeError",
     "evalue": "can only concatenate str (not \"int\") to str",
     "output_type": "error",
     "traceback": [
      "\u001b[1;31m---------------------------------------------------------------------------\u001b[0m",
      "\u001b[1;31mTypeError\u001b[0m                                 Traceback (most recent call last)",
      "\u001b[1;32m~\\AppData\\Local\\Temp/ipykernel_380/544757961.py\u001b[0m in \u001b[0;36m<module>\u001b[1;34m\u001b[0m\n\u001b[0;32m      1\u001b[0m \u001b[0ma\u001b[0m \u001b[1;33m=\u001b[0m \u001b[1;34m'3434'\u001b[0m\u001b[1;33m\u001b[0m\u001b[1;33m\u001b[0m\u001b[0m\n\u001b[0;32m      2\u001b[0m \u001b[0mprint\u001b[0m\u001b[1;33m(\u001b[0m\u001b[0mtype\u001b[0m\u001b[1;33m(\u001b[0m\u001b[0ma\u001b[0m\u001b[1;33m)\u001b[0m\u001b[1;33m)\u001b[0m\u001b[1;33m\u001b[0m\u001b[1;33m\u001b[0m\u001b[0m\n\u001b[1;32m----> 3\u001b[1;33m \u001b[0mprint\u001b[0m\u001b[1;33m(\u001b[0m\u001b[0ma\u001b[0m\u001b[1;33m+\u001b[0m\u001b[1;36m5\u001b[0m\u001b[1;33m)\u001b[0m\u001b[1;33m\u001b[0m\u001b[1;33m\u001b[0m\u001b[0m\n\u001b[0m",
      "\u001b[1;31mTypeError\u001b[0m: can only concatenate str (not \"int\") to str"
     ]
    }
   ],
   "source": [
    "a = '3434'\n",
    "print(type(a))\n",
    "print(a+5)"
   ]
  },
  {
   "cell_type": "code",
   "execution_count": 23,
   "id": "4d5f371e",
   "metadata": {},
   "outputs": [
    {
     "name": "stdout",
     "output_type": "stream",
     "text": [
      "<class 'str'>\n",
      "<class 'int'>\n",
      "3439\n"
     ]
    }
   ],
   "source": [
    "a = '3434'\n",
    "print(type(a))\n",
    "a = int(a)\n",
    "print(type(a))\n",
    "print(a+5)"
   ]
  },
  {
   "cell_type": "code",
   "execution_count": 24,
   "id": "cb4faabb",
   "metadata": {},
   "outputs": [
    {
     "name": "stdout",
     "output_type": "stream",
     "text": [
      "<class 'str'>\n"
     ]
    },
    {
     "ename": "ValueError",
     "evalue": "invalid literal for int() with base 10: '67hf6fhgggds7'",
     "output_type": "error",
     "traceback": [
      "\u001b[1;31m---------------------------------------------------------------------------\u001b[0m",
      "\u001b[1;31mValueError\u001b[0m                                Traceback (most recent call last)",
      "\u001b[1;32m~\\AppData\\Local\\Temp/ipykernel_380/3989325104.py\u001b[0m in \u001b[0;36m<module>\u001b[1;34m\u001b[0m\n\u001b[0;32m      1\u001b[0m \u001b[0ma\u001b[0m \u001b[1;33m=\u001b[0m \u001b[1;34m\"67hf6fhgggds7\"\u001b[0m\u001b[1;33m\u001b[0m\u001b[1;33m\u001b[0m\u001b[0m\n\u001b[0;32m      2\u001b[0m \u001b[0mprint\u001b[0m\u001b[1;33m(\u001b[0m\u001b[0mtype\u001b[0m\u001b[1;33m(\u001b[0m\u001b[0ma\u001b[0m\u001b[1;33m)\u001b[0m\u001b[1;33m)\u001b[0m\u001b[1;33m\u001b[0m\u001b[1;33m\u001b[0m\u001b[0m\n\u001b[1;32m----> 3\u001b[1;33m \u001b[0ma\u001b[0m \u001b[1;33m=\u001b[0m \u001b[0mint\u001b[0m\u001b[1;33m(\u001b[0m\u001b[0ma\u001b[0m\u001b[1;33m)\u001b[0m\u001b[1;33m\u001b[0m\u001b[1;33m\u001b[0m\u001b[0m\n\u001b[0m\u001b[0;32m      4\u001b[0m \u001b[0mprint\u001b[0m\u001b[1;33m(\u001b[0m\u001b[0mtype\u001b[0m\u001b[1;33m(\u001b[0m\u001b[0ma\u001b[0m\u001b[1;33m)\u001b[0m\u001b[1;33m)\u001b[0m\u001b[1;33m\u001b[0m\u001b[1;33m\u001b[0m\u001b[0m\n",
      "\u001b[1;31mValueError\u001b[0m: invalid literal for int() with base 10: '67hf6fhgggds7'"
     ]
    }
   ],
   "source": [
    "a = \"67hf6fhgggds7\"\n",
    "print(type(a))\n",
    "a = int(a)\n",
    "print(type(a))"
   ]
  },
  {
   "cell_type": "code",
   "execution_count": 25,
   "id": "baa4a24f",
   "metadata": {},
   "outputs": [
    {
     "name": "stdout",
     "output_type": "stream",
     "text": [
      "Enter your name GYANA RANJAN\n",
      "GYANA RANJAN\n",
      "<class 'str'>\n"
     ]
    }
   ],
   "source": [
    "a = input(\"Enter your name \")\n",
    "print(a)\n",
    "print(type(a))"
   ]
  },
  {
   "cell_type": "code",
   "execution_count": 26,
   "id": "c5b8a5a0",
   "metadata": {},
   "outputs": [
    {
     "name": "stdout",
     "output_type": "stream",
     "text": [
      "Enter your name 1234\n",
      "1234\n",
      "<class 'str'>\n",
      "<class 'int'>\n"
     ]
    }
   ],
   "source": [
    "a = input(\"Enter your name \")\n",
    "print(a)\n",
    "print(type(a))\n",
    "a=int(a)  # convert a to an integer(if possible)\n",
    "print(type(a))"
   ]
  },
  {
   "cell_type": "code",
   "execution_count": 27,
   "id": "77fb6a2e",
   "metadata": {},
   "outputs": [
    {
     "name": "stdout",
     "output_type": "stream",
     "text": [
      "77\n",
      "456533\n"
     ]
    }
   ],
   "source": [
    "myVariable=77\n",
    "a=myVariable**3\n",
    "print(myVariable)\n",
    "print(a)"
   ]
  },
  {
   "cell_type": "code",
   "execution_count": 28,
   "id": "2832d7ff",
   "metadata": {},
   "outputs": [
    {
     "name": "stdout",
     "output_type": "stream",
     "text": [
      "Enter the Value 99\n",
      "99\n"
     ]
    }
   ],
   "source": [
    "value=input(\"Enter the Value \")\n",
    "print(value)"
   ]
  },
  {
   "cell_type": "code",
   "execution_count": 30,
   "id": "325b810c",
   "metadata": {},
   "outputs": [
    {
     "name": "stdout",
     "output_type": "stream",
     "text": [
      "Enter the Value 243\n",
      "243\n",
      "Enter the Value 243.7\n",
      "243.79\n"
     ]
    }
   ],
   "source": [
    "value1=input(\"Enter the Value \")\n",
    "print(value1)\n",
    "value2=int(input(float(input(\"Enter the Value \"))))"
   ]
  },
  {
   "cell_type": "code",
   "execution_count": 31,
   "id": "b0957896",
   "metadata": {},
   "outputs": [
    {
     "name": "stdout",
     "output_type": "stream",
     "text": [
      "\n",
      "Welcome to Python 3.9's help utility!\n",
      "\n",
      "If this is your first time using Python, you should definitely check out\n",
      "the tutorial on the Internet at https://docs.python.org/3.9/tutorial/.\n",
      "\n",
      "Enter the name of any module, keyword, or topic to get help on writing\n",
      "Python programs and using Python modules.  To quit this help utility and\n",
      "return to the interpreter, just type \"quit\".\n",
      "\n",
      "To get a list of available modules, keywords, symbols, or topics, type\n",
      "\"modules\", \"keywords\", \"symbols\", or \"topics\".  Each module also comes\n",
      "with a one-line summary of what it does; to list the modules whose name\n",
      "or summary contain a given string such as \"spam\", type \"modules spam\".\n",
      "\n",
      "help> pandas\n",
      "Help on package pandas:\n",
      "\n",
      "NAME\n",
      "    pandas\n",
      "\n",
      "DESCRIPTION\n",
      "    pandas - a powerful data analysis and manipulation library for Python\n",
      "    =====================================================================\n",
      "    \n",
      "    **pandas** is a Python package providing fast, flexible, and expressive data\n",
      "    structures designed to make working with \"relational\" or \"labeled\" data both\n",
      "    easy and intuitive. It aims to be the fundamental high-level building block for\n",
      "    doing practical, **real world** data analysis in Python. Additionally, it has\n",
      "    the broader goal of becoming **the most powerful and flexible open source data\n",
      "    analysis / manipulation tool available in any language**. It is already well on\n",
      "    its way toward this goal.\n",
      "    \n",
      "    Main Features\n",
      "    -------------\n",
      "    Here are just a few of the things that pandas does well:\n",
      "    \n",
      "      - Easy handling of missing data in floating point as well as non-floating\n",
      "        point data.\n",
      "      - Size mutability: columns can be inserted and deleted from DataFrame and\n",
      "        higher dimensional objects\n",
      "      - Automatic and explicit data alignment: objects can be explicitly aligned\n",
      "        to a set of labels, or the user can simply ignore the labels and let\n",
      "        `Series`, `DataFrame`, etc. automatically align the data for you in\n",
      "        computations.\n",
      "      - Powerful, flexible group by functionality to perform split-apply-combine\n",
      "        operations on data sets, for both aggregating and transforming data.\n",
      "      - Make it easy to convert ragged, differently-indexed data in other Python\n",
      "        and NumPy data structures into DataFrame objects.\n",
      "      - Intelligent label-based slicing, fancy indexing, and subsetting of large\n",
      "        data sets.\n",
      "      - Intuitive merging and joining data sets.\n",
      "      - Flexible reshaping and pivoting of data sets.\n",
      "      - Hierarchical labeling of axes (possible to have multiple labels per tick).\n",
      "      - Robust IO tools for loading data from flat files (CSV and delimited),\n",
      "        Excel files, databases, and saving/loading data from the ultrafast HDF5\n",
      "        format.\n",
      "      - Time series-specific functionality: date range generation and frequency\n",
      "        conversion, moving window statistics, date shifting and lagging.\n",
      "\n",
      "PACKAGE CONTENTS\n",
      "    _config (package)\n",
      "    _libs (package)\n",
      "    _testing (package)\n",
      "    _typing\n",
      "    _version\n",
      "    api (package)\n",
      "    arrays (package)\n",
      "    compat (package)\n",
      "    conftest\n",
      "    core (package)\n",
      "    errors (package)\n",
      "    io (package)\n",
      "    plotting (package)\n",
      "    testing\n",
      "    tests (package)\n",
      "    tseries (package)\n",
      "    util (package)\n",
      "\n",
      "SUBMODULES\n",
      "    _hashtable\n",
      "    _lib\n",
      "    _tslib\n",
      "    offsets\n",
      "\n",
      "FUNCTIONS\n",
      "    __getattr__(name)\n",
      "        # GH 27101\n",
      "\n",
      "DATA\n",
      "    IndexSlice = <pandas.core.indexing._IndexSlice object>\n",
      "    NA = <NA>\n",
      "    NaT = NaT\n",
      "    __docformat__ = 'restructuredtext'\n",
      "    __git_version__ = '945c9ed766a61c7d2c0a7cbb251b6edebf9cb7d5'\n",
      "    describe_option = <pandas._config.config.CallableDynamicDoc object>\n",
      "        describe_option(pat, _print_desc=False)\n",
      "        \n",
      "        Prints the description for one or more registered options.\n",
      "        \n",
      "        Call with not arguments to get a listing for all registered options.\n",
      "        \n",
      "        Available options:\n",
      "        \n",
      "        - compute.[use_bottleneck, use_numba, use_numexpr]\n",
      "        - display.[chop_threshold, colheader_justify, column_space, date_dayfirst,\n",
      "          date_yearfirst, encoding, expand_frame_repr, float_format]\n",
      "        - display.html.[border, table_schema, use_mathjax]\n",
      "        - display.[large_repr]\n",
      "        - display.latex.[escape, longtable, multicolumn, multicolumn_format, multirow,\n",
      "          repr]\n",
      "        - display.[max_categories, max_columns, max_colwidth, max_info_columns,\n",
      "          max_info_rows, max_rows, max_seq_items, memory_usage, min_rows, multi_sparse,\n",
      "          notebook_repr_html, pprint_nest_depth, precision, show_dimensions]\n",
      "        - display.unicode.[ambiguous_as_wide, east_asian_width]\n",
      "        - display.[width]\n",
      "        - io.excel.ods.[reader, writer]\n",
      "        - io.excel.xls.[reader, writer]\n",
      "        - io.excel.xlsb.[reader]\n",
      "        - io.excel.xlsm.[reader, writer]\n",
      "        - io.excel.xlsx.[reader, writer]\n",
      "        - io.hdf.[default_format, dropna_table]\n",
      "        - io.parquet.[engine]\n",
      "        - io.sql.[engine]\n",
      "        - mode.[chained_assignment, data_manager, sim_interactive, string_storage,\n",
      "          use_inf_as_na, use_inf_as_null]\n",
      "        - plotting.[backend]\n",
      "        - plotting.matplotlib.[register_converters]\n",
      "        - styler.render.[max_elements]\n",
      "        - styler.sparse.[columns, index]\n",
      "        \n",
      "        Parameters\n",
      "        ----------\n",
      "        pat : str\n",
      "            Regexp pattern. All matching keys will have their description displayed.\n",
      "        _print_desc : bool, default True\n",
      "            If True (default) the description(s) will be printed to stdout.\n",
      "            Otherwise, the description(s) will be returned as a unicode string\n",
      "            (for testing).\n",
      "        \n",
      "        Returns\n",
      "        -------\n",
      "        None by default, the description(s) as a unicode string if _print_desc\n",
      "        is False\n",
      "        \n",
      "        Notes\n",
      "        -----\n",
      "        The available options with its descriptions:\n",
      "        \n",
      "        compute.use_bottleneck : bool\n",
      "            Use the bottleneck library to accelerate if it is installed,\n",
      "            the default is True\n",
      "            Valid values: False,True\n",
      "            [default: True] [currently: True]\n",
      "        compute.use_numba : bool\n",
      "            Use the numba engine option for select operations if it is installed,\n",
      "            the default is False\n",
      "            Valid values: False,True\n",
      "            [default: False] [currently: False]\n",
      "        compute.use_numexpr : bool\n",
      "            Use the numexpr library to accelerate computation if it is installed,\n",
      "            the default is True\n",
      "            Valid values: False,True\n",
      "            [default: True] [currently: True]\n",
      "        display.chop_threshold : float or None\n",
      "            if set to a float value, all float values smaller then the given threshold\n",
      "            will be displayed as exactly 0 by repr and friends.\n",
      "            [default: None] [currently: None]\n",
      "        display.colheader_justify : 'left'/'right'\n",
      "            Controls the justification of column headers. used by DataFrameFormatter.\n",
      "            [default: right] [currently: right]\n",
      "        display.column_space No description available.\n",
      "            [default: 12] [currently: 12]\n",
      "        display.date_dayfirst : boolean\n",
      "            When True, prints and parses dates with the day first, eg 20/01/2005\n",
      "            [default: False] [currently: False]\n",
      "        display.date_yearfirst : boolean\n",
      "            When True, prints and parses dates with the year first, eg 2005/01/20\n",
      "            [default: False] [currently: False]\n",
      "        display.encoding : str/unicode\n",
      "            Defaults to the detected encoding of the console.\n",
      "            Specifies the encoding to be used for strings returned by to_string,\n",
      "            these are generally strings meant to be displayed on the console.\n",
      "            [default: UTF-8] [currently: UTF-8]\n",
      "        display.expand_frame_repr : boolean\n",
      "            Whether to print out the full DataFrame repr for wide DataFrames across\n",
      "            multiple lines, `max_columns` is still respected, but the output will\n",
      "            wrap-around across multiple \"pages\" if its width exceeds `display.width`.\n",
      "            [default: True] [currently: True]\n",
      "        display.float_format : callable\n",
      "            The callable should accept a floating point number and return\n",
      "            a string with the desired format of the number. This is used\n",
      "            in some places like SeriesFormatter.\n",
      "            See formats.format.EngFormatter for an example.\n",
      "            [default: None] [currently: None]\n",
      "        display.html.border : int\n",
      "            A ``border=value`` attribute is inserted in the ``<table>`` tag\n",
      "            for the DataFrame HTML repr.\n",
      "            [default: 1] [currently: 1]\n",
      "        display.html.table_schema : boolean\n",
      "            Whether to publish a Table Schema representation for frontends\n",
      "            that support it.\n",
      "            (default: False)\n",
      "            [default: False] [currently: False]\n",
      "        display.html.use_mathjax : boolean\n",
      "            When True, Jupyter notebook will process table contents using MathJax,\n",
      "            rendering mathematical expressions enclosed by the dollar symbol.\n",
      "            (default: True)\n",
      "            [default: True] [currently: True]\n",
      "        display.large_repr : 'truncate'/'info'\n",
      "            For DataFrames exceeding max_rows/max_cols, the repr (and HTML repr) can\n",
      "            show a truncated table (the default from 0.13), or switch to the view from\n",
      "            df.info() (the behaviour in earlier versions of pandas).\n",
      "            [default: truncate] [currently: truncate]\n",
      "        display.latex.escape : bool\n",
      "            This specifies if the to_latex method of a Dataframe uses escapes special\n",
      "            characters.\n",
      "            Valid values: False,True\n",
      "            [default: True] [currently: True]\n",
      "        display.latex.longtable :bool\n",
      "            This specifies if the to_latex method of a Dataframe uses the longtable\n",
      "            format.\n",
      "            Valid values: False,True\n",
      "            [default: False] [currently: False]\n",
      "        display.latex.multicolumn : bool\n",
      "            This specifies if the to_latex method of a Dataframe uses multicolumns\n",
      "            to pretty-print MultiIndex columns.\n",
      "            Valid values: False,True\n",
      "            [default: True] [currently: True]\n",
      "        display.latex.multicolumn_format : bool\n",
      "            This specifies if the to_latex method of a Dataframe uses multicolumns\n",
      "            to pretty-print MultiIndex columns.\n",
      "            Valid values: False,True\n",
      "            [default: l] [currently: l]\n",
      "        display.latex.multirow : bool\n",
      "            This specifies if the to_latex method of a Dataframe uses multirows\n",
      "            to pretty-print MultiIndex rows.\n",
      "            Valid values: False,True\n",
      "            [default: False] [currently: False]\n",
      "        display.latex.repr : boolean\n",
      "            Whether to produce a latex DataFrame representation for jupyter\n",
      "            environments that support it.\n",
      "            (default: False)\n",
      "            [default: False] [currently: False]\n",
      "        display.max_categories : int\n",
      "            This sets the maximum number of categories pandas should output when\n",
      "            printing out a `Categorical` or a Series of dtype \"category\".\n",
      "            [default: 8] [currently: 8]\n",
      "        display.max_columns : int\n",
      "            If max_cols is exceeded, switch to truncate view. Depending on\n",
      "            `large_repr`, objects are either centrally truncated or printed as\n",
      "            a summary view. 'None' value means unlimited.\n",
      "        \n",
      "            In case python/IPython is running in a terminal and `large_repr`\n",
      "            equals 'truncate' this can be set to 0 and pandas will auto-detect\n",
      "            the width of the terminal and print a truncated object which fits\n",
      "            the screen width. The IPython notebook, IPython qtconsole, or IDLE\n",
      "            do not run in a terminal and hence it is not possible to do\n",
      "            correct auto-detection.\n",
      "            [default: 20] [currently: 20]\n",
      "        display.max_colwidth : int or None\n",
      "            The maximum width in characters of a column in the repr of\n",
      "            a pandas data structure. When the column overflows, a \"...\"\n",
      "            placeholder is embedded in the output. A 'None' value means unlimited.\n",
      "            [default: 50] [currently: 50]\n",
      "        display.max_info_columns : int\n",
      "            max_info_columns is used in DataFrame.info method to decide if\n",
      "            per column information will be printed.\n",
      "            [default: 100] [currently: 100]\n",
      "        display.max_info_rows : int or None\n",
      "            df.info() will usually show null-counts for each column.\n",
      "            For large frames this can be quite slow. max_info_rows and max_info_cols\n",
      "            limit this null check only to frames with smaller dimensions than\n",
      "            specified.\n",
      "            [default: 1690785] [currently: 1690785]\n",
      "        display.max_rows : int\n",
      "            If max_rows is exceeded, switch to truncate view. Depending on\n",
      "            `large_repr`, objects are either centrally truncated or printed as\n",
      "            a summary view. 'None' value means unlimited.\n",
      "        \n",
      "            In case python/IPython is running in a terminal and `large_repr`\n",
      "            equals 'truncate' this can be set to 0 and pandas will auto-detect\n",
      "            the height of the terminal and print a truncated object which fits\n",
      "            the screen height. The IPython notebook, IPython qtconsole, or\n",
      "            IDLE do not run in a terminal and hence it is not possible to do\n",
      "            correct auto-detection.\n",
      "            [default: 60] [currently: 60]\n",
      "        display.max_seq_items : int or None\n",
      "            When pretty-printing a long sequence, no more then `max_seq_items`\n",
      "            will be printed. If items are omitted, they will be denoted by the\n",
      "            addition of \"...\" to the resulting string.\n",
      "        \n",
      "            If set to None, the number of items to be printed is unlimited.\n",
      "            [default: 100] [currently: 100]\n",
      "        display.memory_usage : bool, string or None\n",
      "            This specifies if the memory usage of a DataFrame should be displayed when\n",
      "            df.info() is called. Valid values True,False,'deep'\n",
      "            [default: True] [currently: True]\n",
      "        display.min_rows : int\n",
      "            The numbers of rows to show in a truncated view (when `max_rows` is\n",
      "            exceeded). Ignored when `max_rows` is set to None or 0. When set to\n",
      "            None, follows the value of `max_rows`.\n",
      "            [default: 10] [currently: 10]\n",
      "        display.multi_sparse : boolean\n",
      "            \"sparsify\" MultiIndex display (don't display repeated\n",
      "            elements in outer levels within groups)\n",
      "            [default: True] [currently: True]\n",
      "        display.notebook_repr_html : boolean\n",
      "            When True, IPython notebook will use html representation for\n",
      "            pandas objects (if it is available).\n",
      "            [default: True] [currently: True]\n",
      "        display.pprint_nest_depth : int\n",
      "            Controls the number of nested levels to process when pretty-printing\n",
      "            [default: 3] [currently: 3]\n",
      "        display.precision : int\n",
      "            Floating point output precision in terms of number of places after the\n",
      "            decimal, for regular formatting as well as scientific notation. Similar\n",
      "            to ``precision`` in :meth:`numpy.set_printoptions`.\n",
      "            [default: 6] [currently: 6]\n",
      "        display.show_dimensions : boolean or 'truncate'\n",
      "            Whether to print out dimensions at the end of DataFrame repr.\n",
      "            If 'truncate' is specified, only print out the dimensions if the\n",
      "            frame is truncated (e.g. not display all rows and/or columns)\n",
      "            [default: truncate] [currently: truncate]\n",
      "        display.unicode.ambiguous_as_wide : boolean\n",
      "            Whether to use the Unicode East Asian Width to calculate the display text\n",
      "            width.\n",
      "            Enabling this may affect to the performance (default: False)\n",
      "            [default: False] [currently: False]\n",
      "        display.unicode.east_asian_width : boolean\n",
      "            Whether to use the Unicode East Asian Width to calculate the display text\n",
      "            width.\n",
      "            Enabling this may affect to the performance (default: False)\n",
      "            [default: False] [currently: False]\n",
      "        display.width : int\n",
      "            Width of the display in characters. In case python/IPython is running in\n",
      "            a terminal this can be set to None and pandas will correctly auto-detect\n",
      "            the width.\n",
      "            Note that the IPython notebook, IPython qtconsole, or IDLE do not run in a\n",
      "            terminal and hence it is not possible to correctly detect the width.\n",
      "            [default: 80] [currently: 80]\n",
      "        io.excel.ods.reader : string\n",
      "            The default Excel reader engine for 'ods' files. Available options:\n",
      "            auto, odf.\n",
      "            [default: auto] [currently: auto]\n",
      "        io.excel.ods.writer : string\n",
      "            The default Excel writer engine for 'ods' files. Available options:\n",
      "            auto, odf.\n",
      "            [default: auto] [currently: auto]\n",
      "        io.excel.xls.reader : string\n",
      "            The default Excel reader engine for 'xls' files. Available options:\n",
      "            auto, xlrd.\n",
      "            [default: auto] [currently: auto]\n",
      "        io.excel.xls.writer : string\n",
      "            The default Excel writer engine for 'xls' files. Available options:\n",
      "            auto, xlwt.\n",
      "            [default: auto] [currently: auto]\n",
      "            (Deprecated, use `` instead.)\n",
      "        io.excel.xlsb.reader : string\n",
      "            The default Excel reader engine for 'xlsb' files. Available options:\n",
      "            auto, pyxlsb.\n",
      "            [default: auto] [currently: auto]\n",
      "        io.excel.xlsm.reader : string\n",
      "            The default Excel reader engine for 'xlsm' files. Available options:\n",
      "            auto, xlrd, openpyxl.\n",
      "            [default: auto] [currently: auto]\n",
      "        io.excel.xlsm.writer : string\n",
      "            The default Excel writer engine for 'xlsm' files. Available options:\n",
      "            auto, openpyxl.\n",
      "            [default: auto] [currently: auto]\n",
      "        io.excel.xlsx.reader : string\n",
      "            The default Excel reader engine for 'xlsx' files. Available options:\n",
      "            auto, xlrd, openpyxl.\n",
      "            [default: auto] [currently: auto]\n",
      "        io.excel.xlsx.writer : string\n",
      "            The default Excel writer engine for 'xlsx' files. Available options:\n",
      "            auto, openpyxl, xlsxwriter.\n",
      "            [default: auto] [currently: auto]\n",
      "        io.hdf.default_format : format\n",
      "            default format writing format, if None, then\n",
      "            put will default to 'fixed' and append will default to 'table'\n",
      "            [default: None] [currently: None]\n",
      "        io.hdf.dropna_table : boolean\n",
      "            drop ALL nan rows when appending to a table\n",
      "            [default: False] [currently: False]\n",
      "        io.parquet.engine : string\n",
      "            The default parquet reader/writer engine. Available options:\n",
      "            'auto', 'pyarrow', 'fastparquet', the default is 'auto'\n",
      "            [default: auto] [currently: auto]\n",
      "        io.sql.engine : string\n",
      "            The default sql reader/writer engine. Available options:\n",
      "            'auto', 'sqlalchemy', the default is 'auto'\n",
      "            [default: auto] [currently: auto]\n",
      "        mode.chained_assignment : string\n",
      "            Raise an exception, warn, or no action if trying to use chained assignment,\n",
      "            The default is warn\n",
      "            [default: warn] [currently: warn]\n",
      "        mode.data_manager : string\n",
      "            Internal data manager type; can be \"block\" or \"array\". Defaults to \"block\",\n",
      "            unless overridden by the 'PANDAS_DATA_MANAGER' environment variable (needs\n",
      "            to be set before pandas is imported).\n",
      "            [default: block] [currently: block]\n",
      "        mode.sim_interactive : boolean\n",
      "            Whether to simulate interactive mode for purposes of testing\n",
      "            [default: False] [currently: False]\n",
      "        mode.string_storage : string\n",
      "            The default storage for StringDtype.\n",
      "            [default: python] [currently: python]\n",
      "        mode.use_inf_as_na : boolean\n",
      "            True means treat None, NaN, INF, -INF as NA (old way),\n",
      "            False means None and NaN are null, but INF, -INF are not NA\n",
      "            (new way).\n",
      "            [default: False] [currently: False]\n",
      "        mode.use_inf_as_null : boolean\n",
      "            use_inf_as_null had been deprecated and will be removed in a future\n",
      "            version. Use `use_inf_as_na` instead.\n",
      "            [default: False] [currently: False]\n",
      "            (Deprecated, use `mode.use_inf_as_na` instead.)\n",
      "        plotting.backend : str\n",
      "            The plotting backend to use. The default value is \"matplotlib\", the\n",
      "            backend provided with pandas. Other backends can be specified by\n",
      "            providing the name of the module that implements the backend.\n",
      "            [default: matplotlib] [currently: matplotlib]\n",
      "        plotting.matplotlib.register_converters : bool or 'auto'.\n",
      "            Whether to register converters with matplotlib's units registry for\n",
      "            dates, times, datetimes, and Periods. Toggling to False will remove\n",
      "            the converters, restoring any converters that pandas overwrote.\n",
      "            [default: auto] [currently: auto]\n",
      "        styler.render.max_elements : int\n",
      "            The maximum number of data-cell (<td>) elements that will be rendered before\n",
      "            trimming will occur over columns, rows or both if needed.\n",
      "            [default: 262144] [currently: 262144]\n",
      "        styler.sparse.columns : bool\n",
      "            Whether to sparsify the display of hierarchical columns. Setting to False will\n",
      "            display each explicit level element in a hierarchical key for each column.\n",
      "            [default: True] [currently: True]\n",
      "        styler.sparse.index : bool\n",
      "            Whether to sparsify the display of a hierarchical index. Setting to False will\n",
      "            display each explicit level element in a hierarchical key for each row.\n",
      "            [default: True] [currently: True]\n",
      "    \n",
      "    get_option = <pandas._config.config.CallableDynamicDoc object>\n",
      "        get_option(pat)\n",
      "        \n",
      "        Retrieves the value of the specified option.\n",
      "        \n",
      "        Available options:\n",
      "        \n",
      "        - compute.[use_bottleneck, use_numba, use_numexpr]\n",
      "        - display.[chop_threshold, colheader_justify, column_space, date_dayfirst,\n",
      "          date_yearfirst, encoding, expand_frame_repr, float_format]\n",
      "        - display.html.[border, table_schema, use_mathjax]\n",
      "        - display.[large_repr]\n",
      "        - display.latex.[escape, longtable, multicolumn, multicolumn_format, multirow,\n",
      "          repr]\n",
      "        - display.[max_categories, max_columns, max_colwidth, max_info_columns,\n",
      "          max_info_rows, max_rows, max_seq_items, memory_usage, min_rows, multi_sparse,\n",
      "          notebook_repr_html, pprint_nest_depth, precision, show_dimensions]\n",
      "        - display.unicode.[ambiguous_as_wide, east_asian_width]\n",
      "        - display.[width]\n",
      "        - io.excel.ods.[reader, writer]\n",
      "        - io.excel.xls.[reader, writer]\n",
      "        - io.excel.xlsb.[reader]\n",
      "        - io.excel.xlsm.[reader, writer]\n",
      "        - io.excel.xlsx.[reader, writer]\n",
      "        - io.hdf.[default_format, dropna_table]\n",
      "        - io.parquet.[engine]\n",
      "        - io.sql.[engine]\n",
      "        - mode.[chained_assignment, data_manager, sim_interactive, string_storage,\n",
      "          use_inf_as_na, use_inf_as_null]\n",
      "        - plotting.[backend]\n",
      "        - plotting.matplotlib.[register_converters]\n",
      "        - styler.render.[max_elements]\n",
      "        - styler.sparse.[columns, index]\n",
      "        \n",
      "        Parameters\n",
      "        ----------\n",
      "        pat : str\n",
      "            Regexp which should match a single option.\n",
      "            Note: partial matches are supported for convenience, but unless you use the\n",
      "            full option name (e.g. x.y.z.option_name), your code may break in future\n",
      "            versions if new options with similar names are introduced.\n",
      "        \n",
      "        Returns\n",
      "        -------\n",
      "        result : the value of the option\n",
      "        \n",
      "        Raises\n",
      "        ------\n",
      "        OptionError : if no such option exists\n",
      "        \n",
      "        Notes\n",
      "        -----\n",
      "        The available options with its descriptions:\n",
      "        \n",
      "        compute.use_bottleneck : bool\n",
      "            Use the bottleneck library to accelerate if it is installed,\n",
      "            the default is True\n",
      "            Valid values: False,True\n",
      "            [default: True] [currently: True]\n",
      "        compute.use_numba : bool\n",
      "            Use the numba engine option for select operations if it is installed,\n",
      "            the default is False\n",
      "            Valid values: False,True\n",
      "            [default: False] [currently: False]\n",
      "        compute.use_numexpr : bool\n",
      "            Use the numexpr library to accelerate computation if it is installed,\n",
      "            the default is True\n",
      "            Valid values: False,True\n",
      "            [default: True] [currently: True]\n",
      "        display.chop_threshold : float or None\n",
      "            if set to a float value, all float values smaller then the given threshold\n",
      "            will be displayed as exactly 0 by repr and friends.\n",
      "            [default: None] [currently: None]\n",
      "        display.colheader_justify : 'left'/'right'\n",
      "            Controls the justification of column headers. used by DataFrameFormatter.\n",
      "            [default: right] [currently: right]\n",
      "        display.column_space No description available.\n",
      "            [default: 12] [currently: 12]\n",
      "        display.date_dayfirst : boolean\n",
      "            When True, prints and parses dates with the day first, eg 20/01/2005\n",
      "            [default: False] [currently: False]\n",
      "        display.date_yearfirst : boolean\n",
      "            When True, prints and parses dates with the year first, eg 2005/01/20\n",
      "            [default: False] [currently: False]\n",
      "        display.encoding : str/unicode\n",
      "            Defaults to the detected encoding of the console.\n",
      "            Specifies the encoding to be used for strings returned by to_string,\n",
      "            these are generally strings meant to be displayed on the console.\n",
      "            [default: UTF-8] [currently: UTF-8]\n",
      "        display.expand_frame_repr : boolean\n",
      "            Whether to print out the full DataFrame repr for wide DataFrames across\n",
      "            multiple lines, `max_columns` is still respected, but the output will\n",
      "            wrap-around across multiple \"pages\" if its width exceeds `display.width`.\n",
      "            [default: True] [currently: True]\n",
      "        display.float_format : callable\n",
      "            The callable should accept a floating point number and return\n",
      "            a string with the desired format of the number. This is used\n",
      "            in some places like SeriesFormatter.\n",
      "            See formats.format.EngFormatter for an example.\n",
      "            [default: None] [currently: None]\n",
      "        display.html.border : int\n",
      "            A ``border=value`` attribute is inserted in the ``<table>`` tag\n",
      "            for the DataFrame HTML repr.\n",
      "            [default: 1] [currently: 1]\n",
      "        display.html.table_schema : boolean\n",
      "            Whether to publish a Table Schema representation for frontends\n",
      "            that support it.\n",
      "            (default: False)\n",
      "            [default: False] [currently: False]\n",
      "        display.html.use_mathjax : boolean\n",
      "            When True, Jupyter notebook will process table contents using MathJax,\n",
      "            rendering mathematical expressions enclosed by the dollar symbol.\n",
      "            (default: True)\n",
      "            [default: True] [currently: True]\n",
      "        display.large_repr : 'truncate'/'info'\n",
      "            For DataFrames exceeding max_rows/max_cols, the repr (and HTML repr) can\n",
      "            show a truncated table (the default from 0.13), or switch to the view from\n",
      "            df.info() (the behaviour in earlier versions of pandas).\n",
      "            [default: truncate] [currently: truncate]\n",
      "        display.latex.escape : bool\n",
      "            This specifies if the to_latex method of a Dataframe uses escapes special\n",
      "            characters.\n",
      "            Valid values: False,True\n",
      "            [default: True] [currently: True]\n",
      "        display.latex.longtable :bool\n",
      "            This specifies if the to_latex method of a Dataframe uses the longtable\n",
      "            format.\n",
      "            Valid values: False,True\n",
      "            [default: False] [currently: False]\n",
      "        display.latex.multicolumn : bool\n",
      "            This specifies if the to_latex method of a Dataframe uses multicolumns\n",
      "            to pretty-print MultiIndex columns.\n",
      "            Valid values: False,True\n",
      "            [default: True] [currently: True]\n",
      "        display.latex.multicolumn_format : bool\n",
      "            This specifies if the to_latex method of a Dataframe uses multicolumns\n",
      "            to pretty-print MultiIndex columns.\n",
      "            Valid values: False,True\n",
      "            [default: l] [currently: l]\n",
      "        display.latex.multirow : bool\n",
      "            This specifies if the to_latex method of a Dataframe uses multirows\n",
      "            to pretty-print MultiIndex rows.\n",
      "            Valid values: False,True\n",
      "            [default: False] [currently: False]\n",
      "        display.latex.repr : boolean\n",
      "            Whether to produce a latex DataFrame representation for jupyter\n",
      "            environments that support it.\n",
      "            (default: False)\n",
      "            [default: False] [currently: False]\n",
      "        display.max_categories : int\n",
      "            This sets the maximum number of categories pandas should output when\n",
      "            printing out a `Categorical` or a Series of dtype \"category\".\n",
      "            [default: 8] [currently: 8]\n",
      "        display.max_columns : int\n",
      "            If max_cols is exceeded, switch to truncate view. Depending on\n",
      "            `large_repr`, objects are either centrally truncated or printed as\n",
      "            a summary view. 'None' value means unlimited.\n",
      "        \n",
      "            In case python/IPython is running in a terminal and `large_repr`\n",
      "            equals 'truncate' this can be set to 0 and pandas will auto-detect\n",
      "            the width of the terminal and print a truncated object which fits\n",
      "            the screen width. The IPython notebook, IPython qtconsole, or IDLE\n",
      "            do not run in a terminal and hence it is not possible to do\n",
      "            correct auto-detection.\n",
      "            [default: 20] [currently: 20]\n",
      "        display.max_colwidth : int or None\n",
      "            The maximum width in characters of a column in the repr of\n",
      "            a pandas data structure. When the column overflows, a \"...\"\n",
      "            placeholder is embedded in the output. A 'None' value means unlimited.\n",
      "            [default: 50] [currently: 50]\n",
      "        display.max_info_columns : int\n",
      "            max_info_columns is used in DataFrame.info method to decide if\n",
      "            per column information will be printed.\n",
      "            [default: 100] [currently: 100]\n",
      "        display.max_info_rows : int or None\n",
      "            df.info() will usually show null-counts for each column.\n",
      "            For large frames this can be quite slow. max_info_rows and max_info_cols\n",
      "            limit this null check only to frames with smaller dimensions than\n",
      "            specified.\n",
      "            [default: 1690785] [currently: 1690785]\n",
      "        display.max_rows : int\n",
      "            If max_rows is exceeded, switch to truncate view. Depending on\n",
      "            `large_repr`, objects are either centrally truncated or printed as\n",
      "            a summary view. 'None' value means unlimited.\n",
      "        \n",
      "            In case python/IPython is running in a terminal and `large_repr`\n",
      "            equals 'truncate' this can be set to 0 and pandas will auto-detect\n",
      "            the height of the terminal and print a truncated object which fits\n",
      "            the screen height. The IPython notebook, IPython qtconsole, or\n",
      "            IDLE do not run in a terminal and hence it is not possible to do\n",
      "            correct auto-detection.\n",
      "            [default: 60] [currently: 60]\n",
      "        display.max_seq_items : int or None\n",
      "            When pretty-printing a long sequence, no more then `max_seq_items`\n",
      "            will be printed. If items are omitted, they will be denoted by the\n",
      "            addition of \"...\" to the resulting string.\n",
      "        \n",
      "            If set to None, the number of items to be printed is unlimited.\n",
      "            [default: 100] [currently: 100]\n",
      "        display.memory_usage : bool, string or None\n",
      "            This specifies if the memory usage of a DataFrame should be displayed when\n",
      "            df.info() is called. Valid values True,False,'deep'\n",
      "            [default: True] [currently: True]\n",
      "        display.min_rows : int\n",
      "            The numbers of rows to show in a truncated view (when `max_rows` is\n",
      "            exceeded). Ignored when `max_rows` is set to None or 0. When set to\n",
      "            None, follows the value of `max_rows`.\n",
      "            [default: 10] [currently: 10]\n",
      "        display.multi_sparse : boolean\n",
      "            \"sparsify\" MultiIndex display (don't display repeated\n",
      "            elements in outer levels within groups)\n",
      "            [default: True] [currently: True]\n",
      "        display.notebook_repr_html : boolean\n",
      "            When True, IPython notebook will use html representation for\n",
      "            pandas objects (if it is available).\n",
      "            [default: True] [currently: True]\n",
      "        display.pprint_nest_depth : int\n",
      "            Controls the number of nested levels to process when pretty-printing\n",
      "            [default: 3] [currently: 3]\n",
      "        display.precision : int\n",
      "            Floating point output precision in terms of number of places after the\n",
      "            decimal, for regular formatting as well as scientific notation. Similar\n",
      "            to ``precision`` in :meth:`numpy.set_printoptions`.\n",
      "            [default: 6] [currently: 6]\n",
      "        display.show_dimensions : boolean or 'truncate'\n",
      "            Whether to print out dimensions at the end of DataFrame repr.\n",
      "            If 'truncate' is specified, only print out the dimensions if the\n",
      "            frame is truncated (e.g. not display all rows and/or columns)\n",
      "            [default: truncate] [currently: truncate]\n",
      "        display.unicode.ambiguous_as_wide : boolean\n",
      "            Whether to use the Unicode East Asian Width to calculate the display text\n",
      "            width.\n",
      "            Enabling this may affect to the performance (default: False)\n",
      "            [default: False] [currently: False]\n",
      "        display.unicode.east_asian_width : boolean\n",
      "            Whether to use the Unicode East Asian Width to calculate the display text\n",
      "            width.\n",
      "            Enabling this may affect to the performance (default: False)\n",
      "            [default: False] [currently: False]\n",
      "        display.width : int\n",
      "            Width of the display in characters. In case python/IPython is running in\n",
      "            a terminal this can be set to None and pandas will correctly auto-detect\n",
      "            the width.\n",
      "            Note that the IPython notebook, IPython qtconsole, or IDLE do not run in a\n",
      "            terminal and hence it is not possible to correctly detect the width.\n",
      "            [default: 80] [currently: 80]\n",
      "        io.excel.ods.reader : string\n",
      "            The default Excel reader engine for 'ods' files. Available options:\n",
      "            auto, odf.\n",
      "            [default: auto] [currently: auto]\n",
      "        io.excel.ods.writer : string\n",
      "            The default Excel writer engine for 'ods' files. Available options:\n",
      "            auto, odf.\n",
      "            [default: auto] [currently: auto]\n",
      "        io.excel.xls.reader : string\n",
      "            The default Excel reader engine for 'xls' files. Available options:\n",
      "            auto, xlrd.\n",
      "            [default: auto] [currently: auto]\n",
      "        io.excel.xls.writer : string\n",
      "            The default Excel writer engine for 'xls' files. Available options:\n",
      "            auto, xlwt.\n",
      "            [default: auto] [currently: auto]\n",
      "            (Deprecated, use `` instead.)\n",
      "        io.excel.xlsb.reader : string\n",
      "            The default Excel reader engine for 'xlsb' files. Available options:\n",
      "            auto, pyxlsb.\n",
      "            [default: auto] [currently: auto]\n",
      "        io.excel.xlsm.reader : string\n",
      "            The default Excel reader engine for 'xlsm' files. Available options:\n",
      "            auto, xlrd, openpyxl.\n",
      "            [default: auto] [currently: auto]\n",
      "        io.excel.xlsm.writer : string\n",
      "            The default Excel writer engine for 'xlsm' files. Available options:\n",
      "            auto, openpyxl.\n",
      "            [default: auto] [currently: auto]\n",
      "        io.excel.xlsx.reader : string\n",
      "            The default Excel reader engine for 'xlsx' files. Available options:\n",
      "            auto, xlrd, openpyxl.\n",
      "            [default: auto] [currently: auto]\n",
      "        io.excel.xlsx.writer : string\n",
      "            The default Excel writer engine for 'xlsx' files. Available options:\n",
      "            auto, openpyxl, xlsxwriter.\n",
      "            [default: auto] [currently: auto]\n",
      "        io.hdf.default_format : format\n",
      "            default format writing format, if None, then\n",
      "            put will default to 'fixed' and append will default to 'table'\n",
      "            [default: None] [currently: None]\n",
      "        io.hdf.dropna_table : boolean\n",
      "            drop ALL nan rows when appending to a table\n",
      "            [default: False] [currently: False]\n",
      "        io.parquet.engine : string\n",
      "            The default parquet reader/writer engine. Available options:\n",
      "            'auto', 'pyarrow', 'fastparquet', the default is 'auto'\n",
      "            [default: auto] [currently: auto]\n",
      "        io.sql.engine : string\n",
      "            The default sql reader/writer engine. Available options:\n",
      "            'auto', 'sqlalchemy', the default is 'auto'\n",
      "            [default: auto] [currently: auto]\n",
      "        mode.chained_assignment : string\n",
      "            Raise an exception, warn, or no action if trying to use chained assignment,\n",
      "            The default is warn\n",
      "            [default: warn] [currently: warn]\n",
      "        mode.data_manager : string\n",
      "            Internal data manager type; can be \"block\" or \"array\". Defaults to \"block\",\n",
      "            unless overridden by the 'PANDAS_DATA_MANAGER' environment variable (needs\n",
      "            to be set before pandas is imported).\n",
      "            [default: block] [currently: block]\n",
      "        mode.sim_interactive : boolean\n",
      "            Whether to simulate interactive mode for purposes of testing\n",
      "            [default: False] [currently: False]\n",
      "        mode.string_storage : string\n",
      "            The default storage for StringDtype.\n",
      "            [default: python] [currently: python]\n",
      "        mode.use_inf_as_na : boolean\n",
      "            True means treat None, NaN, INF, -INF as NA (old way),\n",
      "            False means None and NaN are null, but INF, -INF are not NA\n",
      "            (new way).\n",
      "            [default: False] [currently: False]\n",
      "        mode.use_inf_as_null : boolean\n",
      "            use_inf_as_null had been deprecated and will be removed in a future\n",
      "            version. Use `use_inf_as_na` instead.\n",
      "            [default: False] [currently: False]\n",
      "            (Deprecated, use `mode.use_inf_as_na` instead.)\n",
      "        plotting.backend : str\n",
      "            The plotting backend to use. The default value is \"matplotlib\", the\n",
      "            backend provided with pandas. Other backends can be specified by\n",
      "            providing the name of the module that implements the backend.\n",
      "            [default: matplotlib] [currently: matplotlib]\n",
      "        plotting.matplotlib.register_converters : bool or 'auto'.\n",
      "            Whether to register converters with matplotlib's units registry for\n",
      "            dates, times, datetimes, and Periods. Toggling to False will remove\n",
      "            the converters, restoring any converters that pandas overwrote.\n",
      "            [default: auto] [currently: auto]\n",
      "        styler.render.max_elements : int\n",
      "            The maximum number of data-cell (<td>) elements that will be rendered before\n",
      "            trimming will occur over columns, rows or both if needed.\n",
      "            [default: 262144] [currently: 262144]\n",
      "        styler.sparse.columns : bool\n",
      "            Whether to sparsify the display of hierarchical columns. Setting to False will\n",
      "            display each explicit level element in a hierarchical key for each column.\n",
      "            [default: True] [currently: True]\n",
      "        styler.sparse.index : bool\n",
      "            Whether to sparsify the display of a hierarchical index. Setting to False will\n",
      "            display each explicit level element in a hierarchical key for each row.\n",
      "            [default: True] [currently: True]\n",
      "    \n",
      "    options = <pandas._config.config.DictWrapper object>\n",
      "    reset_option = <pandas._config.config.CallableDynamicDoc object>\n",
      "        reset_option(pat)\n",
      "        \n",
      "        Reset one or more options to their default value.\n",
      "        \n",
      "        Pass \"all\" as argument to reset all options.\n",
      "        \n",
      "        Available options:\n",
      "        \n",
      "        - compute.[use_bottleneck, use_numba, use_numexpr]\n",
      "        - display.[chop_threshold, colheader_justify, column_space, date_dayfirst,\n",
      "          date_yearfirst, encoding, expand_frame_repr, float_format]\n",
      "        - display.html.[border, table_schema, use_mathjax]\n",
      "        - display.[large_repr]\n",
      "        - display.latex.[escape, longtable, multicolumn, multicolumn_format, multirow,\n",
      "          repr]\n",
      "        - display.[max_categories, max_columns, max_colwidth, max_info_columns,\n",
      "          max_info_rows, max_rows, max_seq_items, memory_usage, min_rows, multi_sparse,\n",
      "          notebook_repr_html, pprint_nest_depth, precision, show_dimensions]\n",
      "        - display.unicode.[ambiguous_as_wide, east_asian_width]\n",
      "        - display.[width]\n",
      "        - io.excel.ods.[reader, writer]\n",
      "        - io.excel.xls.[reader, writer]\n",
      "        - io.excel.xlsb.[reader]\n",
      "        - io.excel.xlsm.[reader, writer]\n",
      "        - io.excel.xlsx.[reader, writer]\n",
      "        - io.hdf.[default_format, dropna_table]\n",
      "        - io.parquet.[engine]\n",
      "        - io.sql.[engine]\n",
      "        - mode.[chained_assignment, data_manager, sim_interactive, string_storage,\n",
      "          use_inf_as_na, use_inf_as_null]\n",
      "        - plotting.[backend]\n",
      "        - plotting.matplotlib.[register_converters]\n",
      "        - styler.render.[max_elements]\n",
      "        - styler.sparse.[columns, index]\n",
      "        \n",
      "        Parameters\n",
      "        ----------\n",
      "        pat : str/regex\n",
      "            If specified only options matching `prefix*` will be reset.\n",
      "            Note: partial matches are supported for convenience, but unless you\n",
      "            use the full option name (e.g. x.y.z.option_name), your code may break\n",
      "            in future versions if new options with similar names are introduced.\n",
      "        \n",
      "        Returns\n",
      "        -------\n",
      "        None\n",
      "        \n",
      "        Notes\n",
      "        -----\n",
      "        The available options with its descriptions:\n",
      "        \n",
      "        compute.use_bottleneck : bool\n",
      "            Use the bottleneck library to accelerate if it is installed,\n",
      "            the default is True\n",
      "            Valid values: False,True\n",
      "            [default: True] [currently: True]\n",
      "        compute.use_numba : bool\n",
      "            Use the numba engine option for select operations if it is installed,\n",
      "            the default is False\n",
      "            Valid values: False,True\n",
      "            [default: False] [currently: False]\n",
      "        compute.use_numexpr : bool\n",
      "            Use the numexpr library to accelerate computation if it is installed,\n",
      "            the default is True\n",
      "            Valid values: False,True\n",
      "            [default: True] [currently: True]\n",
      "        display.chop_threshold : float or None\n",
      "            if set to a float value, all float values smaller then the given threshold\n",
      "            will be displayed as exactly 0 by repr and friends.\n",
      "            [default: None] [currently: None]\n",
      "        display.colheader_justify : 'left'/'right'\n",
      "            Controls the justification of column headers. used by DataFrameFormatter.\n",
      "            [default: right] [currently: right]\n",
      "        display.column_space No description available.\n",
      "            [default: 12] [currently: 12]\n",
      "        display.date_dayfirst : boolean\n",
      "            When True, prints and parses dates with the day first, eg 20/01/2005\n",
      "            [default: False] [currently: False]\n",
      "        display.date_yearfirst : boolean\n",
      "            When True, prints and parses dates with the year first, eg 2005/01/20\n",
      "            [default: False] [currently: False]\n",
      "        display.encoding : str/unicode\n",
      "            Defaults to the detected encoding of the console.\n",
      "            Specifies the encoding to be used for strings returned by to_string,\n",
      "            these are generally strings meant to be displayed on the console.\n",
      "            [default: UTF-8] [currently: UTF-8]\n",
      "        display.expand_frame_repr : boolean\n",
      "            Whether to print out the full DataFrame repr for wide DataFrames across\n",
      "            multiple lines, `max_columns` is still respected, but the output will\n",
      "            wrap-around across multiple \"pages\" if its width exceeds `display.width`.\n",
      "            [default: True] [currently: True]\n",
      "        display.float_format : callable\n",
      "            The callable should accept a floating point number and return\n",
      "            a string with the desired format of the number. This is used\n",
      "            in some places like SeriesFormatter.\n",
      "            See formats.format.EngFormatter for an example.\n",
      "            [default: None] [currently: None]\n",
      "        display.html.border : int\n",
      "            A ``border=value`` attribute is inserted in the ``<table>`` tag\n",
      "            for the DataFrame HTML repr.\n",
      "            [default: 1] [currently: 1]\n",
      "        display.html.table_schema : boolean\n",
      "            Whether to publish a Table Schema representation for frontends\n",
      "            that support it.\n",
      "            (default: False)\n",
      "            [default: False] [currently: False]\n",
      "        display.html.use_mathjax : boolean\n",
      "            When True, Jupyter notebook will process table contents using MathJax,\n",
      "            rendering mathematical expressions enclosed by the dollar symbol.\n",
      "            (default: True)\n",
      "            [default: True] [currently: True]\n",
      "        display.large_repr : 'truncate'/'info'\n",
      "            For DataFrames exceeding max_rows/max_cols, the repr (and HTML repr) can\n",
      "            show a truncated table (the default from 0.13), or switch to the view from\n",
      "            df.info() (the behaviour in earlier versions of pandas).\n",
      "            [default: truncate] [currently: truncate]\n",
      "        display.latex.escape : bool\n",
      "            This specifies if the to_latex method of a Dataframe uses escapes special\n",
      "            characters.\n",
      "            Valid values: False,True\n",
      "            [default: True] [currently: True]\n",
      "        display.latex.longtable :bool\n",
      "            This specifies if the to_latex method of a Dataframe uses the longtable\n",
      "            format.\n",
      "            Valid values: False,True\n",
      "            [default: False] [currently: False]\n",
      "        display.latex.multicolumn : bool\n",
      "            This specifies if the to_latex method of a Dataframe uses multicolumns\n",
      "            to pretty-print MultiIndex columns.\n",
      "            Valid values: False,True\n",
      "            [default: True] [currently: True]\n",
      "        display.latex.multicolumn_format : bool\n",
      "            This specifies if the to_latex method of a Dataframe uses multicolumns\n",
      "            to pretty-print MultiIndex columns.\n",
      "            Valid values: False,True\n",
      "            [default: l] [currently: l]\n",
      "        display.latex.multirow : bool\n",
      "            This specifies if the to_latex method of a Dataframe uses multirows\n",
      "            to pretty-print MultiIndex rows.\n",
      "            Valid values: False,True\n",
      "            [default: False] [currently: False]\n",
      "        display.latex.repr : boolean\n",
      "            Whether to produce a latex DataFrame representation for jupyter\n",
      "            environments that support it.\n",
      "            (default: False)\n",
      "            [default: False] [currently: False]\n",
      "        display.max_categories : int\n",
      "            This sets the maximum number of categories pandas should output when\n",
      "            printing out a `Categorical` or a Series of dtype \"category\".\n",
      "            [default: 8] [currently: 8]\n",
      "        display.max_columns : int\n",
      "            If max_cols is exceeded, switch to truncate view. Depending on\n",
      "            `large_repr`, objects are either centrally truncated or printed as\n",
      "            a summary view. 'None' value means unlimited.\n",
      "        \n",
      "            In case python/IPython is running in a terminal and `large_repr`\n",
      "            equals 'truncate' this can be set to 0 and pandas will auto-detect\n",
      "            the width of the terminal and print a truncated object which fits\n",
      "            the screen width. The IPython notebook, IPython qtconsole, or IDLE\n",
      "            do not run in a terminal and hence it is not possible to do\n",
      "            correct auto-detection.\n",
      "            [default: 20] [currently: 20]\n",
      "        display.max_colwidth : int or None\n",
      "            The maximum width in characters of a column in the repr of\n",
      "            a pandas data structure. When the column overflows, a \"...\"\n",
      "            placeholder is embedded in the output. A 'None' value means unlimited.\n",
      "            [default: 50] [currently: 50]\n",
      "        display.max_info_columns : int\n",
      "            max_info_columns is used in DataFrame.info method to decide if\n",
      "            per column information will be printed.\n",
      "            [default: 100] [currently: 100]\n",
      "        display.max_info_rows : int or None\n",
      "            df.info() will usually show null-counts for each column.\n",
      "            For large frames this can be quite slow. max_info_rows and max_info_cols\n",
      "            limit this null check only to frames with smaller dimensions than\n",
      "            specified.\n",
      "            [default: 1690785] [currently: 1690785]\n",
      "        display.max_rows : int\n",
      "            If max_rows is exceeded, switch to truncate view. Depending on\n",
      "            `large_repr`, objects are either centrally truncated or printed as\n",
      "            a summary view. 'None' value means unlimited.\n",
      "        \n",
      "            In case python/IPython is running in a terminal and `large_repr`\n",
      "            equals 'truncate' this can be set to 0 and pandas will auto-detect\n",
      "            the height of the terminal and print a truncated object which fits\n",
      "            the screen height. The IPython notebook, IPython qtconsole, or\n",
      "            IDLE do not run in a terminal and hence it is not possible to do\n",
      "            correct auto-detection.\n",
      "            [default: 60] [currently: 60]\n",
      "        display.max_seq_items : int or None\n",
      "            When pretty-printing a long sequence, no more then `max_seq_items`\n",
      "            will be printed. If items are omitted, they will be denoted by the\n",
      "            addition of \"...\" to the resulting string.\n",
      "        \n",
      "            If set to None, the number of items to be printed is unlimited.\n",
      "            [default: 100] [currently: 100]\n",
      "        display.memory_usage : bool, string or None\n",
      "            This specifies if the memory usage of a DataFrame should be displayed when\n",
      "            df.info() is called. Valid values True,False,'deep'\n",
      "            [default: True] [currently: True]\n",
      "        display.min_rows : int\n",
      "            The numbers of rows to show in a truncated view (when `max_rows` is\n",
      "            exceeded). Ignored when `max_rows` is set to None or 0. When set to\n",
      "            None, follows the value of `max_rows`.\n",
      "            [default: 10] [currently: 10]\n",
      "        display.multi_sparse : boolean\n",
      "            \"sparsify\" MultiIndex display (don't display repeated\n",
      "            elements in outer levels within groups)\n",
      "            [default: True] [currently: True]\n",
      "        display.notebook_repr_html : boolean\n",
      "            When True, IPython notebook will use html representation for\n",
      "            pandas objects (if it is available).\n",
      "            [default: True] [currently: True]\n",
      "        display.pprint_nest_depth : int\n",
      "            Controls the number of nested levels to process when pretty-printing\n",
      "            [default: 3] [currently: 3]\n",
      "        display.precision : int\n",
      "            Floating point output precision in terms of number of places after the\n",
      "            decimal, for regular formatting as well as scientific notation. Similar\n",
      "            to ``precision`` in :meth:`numpy.set_printoptions`.\n",
      "            [default: 6] [currently: 6]\n",
      "        display.show_dimensions : boolean or 'truncate'\n",
      "            Whether to print out dimensions at the end of DataFrame repr.\n",
      "            If 'truncate' is specified, only print out the dimensions if the\n",
      "            frame is truncated (e.g. not display all rows and/or columns)\n",
      "            [default: truncate] [currently: truncate]\n",
      "        display.unicode.ambiguous_as_wide : boolean\n",
      "            Whether to use the Unicode East Asian Width to calculate the display text\n",
      "            width.\n",
      "            Enabling this may affect to the performance (default: False)\n",
      "            [default: False] [currently: False]\n",
      "        display.unicode.east_asian_width : boolean\n",
      "            Whether to use the Unicode East Asian Width to calculate the display text\n",
      "            width.\n",
      "            Enabling this may affect to the performance (default: False)\n",
      "            [default: False] [currently: False]\n",
      "        display.width : int\n",
      "            Width of the display in characters. In case python/IPython is running in\n",
      "            a terminal this can be set to None and pandas will correctly auto-detect\n",
      "            the width.\n",
      "            Note that the IPython notebook, IPython qtconsole, or IDLE do not run in a\n",
      "            terminal and hence it is not possible to correctly detect the width.\n",
      "            [default: 80] [currently: 80]\n",
      "        io.excel.ods.reader : string\n",
      "            The default Excel reader engine for 'ods' files. Available options:\n",
      "            auto, odf.\n",
      "            [default: auto] [currently: auto]\n",
      "        io.excel.ods.writer : string\n",
      "            The default Excel writer engine for 'ods' files. Available options:\n",
      "            auto, odf.\n",
      "            [default: auto] [currently: auto]\n",
      "        io.excel.xls.reader : string\n",
      "            The default Excel reader engine for 'xls' files. Available options:\n",
      "            auto, xlrd.\n",
      "            [default: auto] [currently: auto]\n",
      "        io.excel.xls.writer : string\n",
      "            The default Excel writer engine for 'xls' files. Available options:\n",
      "            auto, xlwt.\n",
      "            [default: auto] [currently: auto]\n",
      "            (Deprecated, use `` instead.)\n",
      "        io.excel.xlsb.reader : string\n",
      "            The default Excel reader engine for 'xlsb' files. Available options:\n",
      "            auto, pyxlsb.\n",
      "            [default: auto] [currently: auto]\n",
      "        io.excel.xlsm.reader : string\n",
      "            The default Excel reader engine for 'xlsm' files. Available options:\n",
      "            auto, xlrd, openpyxl.\n",
      "            [default: auto] [currently: auto]\n",
      "        io.excel.xlsm.writer : string\n",
      "            The default Excel writer engine for 'xlsm' files. Available options:\n",
      "            auto, openpyxl.\n",
      "            [default: auto] [currently: auto]\n",
      "        io.excel.xlsx.reader : string\n",
      "            The default Excel reader engine for 'xlsx' files. Available options:\n",
      "            auto, xlrd, openpyxl.\n",
      "            [default: auto] [currently: auto]\n",
      "        io.excel.xlsx.writer : string\n",
      "            The default Excel writer engine for 'xlsx' files. Available options:\n",
      "            auto, openpyxl, xlsxwriter.\n",
      "            [default: auto] [currently: auto]\n",
      "        io.hdf.default_format : format\n",
      "            default format writing format, if None, then\n",
      "            put will default to 'fixed' and append will default to 'table'\n",
      "            [default: None] [currently: None]\n",
      "        io.hdf.dropna_table : boolean\n",
      "            drop ALL nan rows when appending to a table\n",
      "            [default: False] [currently: False]\n",
      "        io.parquet.engine : string\n",
      "            The default parquet reader/writer engine. Available options:\n",
      "            'auto', 'pyarrow', 'fastparquet', the default is 'auto'\n",
      "            [default: auto] [currently: auto]\n",
      "        io.sql.engine : string\n",
      "            The default sql reader/writer engine. Available options:\n",
      "            'auto', 'sqlalchemy', the default is 'auto'\n",
      "            [default: auto] [currently: auto]\n",
      "        mode.chained_assignment : string\n",
      "            Raise an exception, warn, or no action if trying to use chained assignment,\n",
      "            The default is warn\n",
      "            [default: warn] [currently: warn]\n",
      "        mode.data_manager : string\n",
      "            Internal data manager type; can be \"block\" or \"array\". Defaults to \"block\",\n",
      "            unless overridden by the 'PANDAS_DATA_MANAGER' environment variable (needs\n",
      "            to be set before pandas is imported).\n",
      "            [default: block] [currently: block]\n",
      "        mode.sim_interactive : boolean\n",
      "            Whether to simulate interactive mode for purposes of testing\n",
      "            [default: False] [currently: False]\n",
      "        mode.string_storage : string\n",
      "            The default storage for StringDtype.\n",
      "            [default: python] [currently: python]\n",
      "        mode.use_inf_as_na : boolean\n",
      "            True means treat None, NaN, INF, -INF as NA (old way),\n",
      "            False means None and NaN are null, but INF, -INF are not NA\n",
      "            (new way).\n",
      "            [default: False] [currently: False]\n",
      "        mode.use_inf_as_null : boolean\n",
      "            use_inf_as_null had been deprecated and will be removed in a future\n",
      "            version. Use `use_inf_as_na` instead.\n",
      "            [default: False] [currently: False]\n",
      "            (Deprecated, use `mode.use_inf_as_na` instead.)\n",
      "        plotting.backend : str\n",
      "            The plotting backend to use. The default value is \"matplotlib\", the\n",
      "            backend provided with pandas. Other backends can be specified by\n",
      "            providing the name of the module that implements the backend.\n",
      "            [default: matplotlib] [currently: matplotlib]\n",
      "        plotting.matplotlib.register_converters : bool or 'auto'.\n",
      "            Whether to register converters with matplotlib's units registry for\n",
      "            dates, times, datetimes, and Periods. Toggling to False will remove\n",
      "            the converters, restoring any converters that pandas overwrote.\n",
      "            [default: auto] [currently: auto]\n",
      "        styler.render.max_elements : int\n",
      "            The maximum number of data-cell (<td>) elements that will be rendered before\n",
      "            trimming will occur over columns, rows or both if needed.\n",
      "            [default: 262144] [currently: 262144]\n",
      "        styler.sparse.columns : bool\n",
      "            Whether to sparsify the display of hierarchical columns. Setting to False will\n",
      "            display each explicit level element in a hierarchical key for each column.\n",
      "            [default: True] [currently: True]\n",
      "        styler.sparse.index : bool\n",
      "            Whether to sparsify the display of a hierarchical index. Setting to False will\n",
      "            display each explicit level element in a hierarchical key for each row.\n",
      "            [default: True] [currently: True]\n",
      "    \n",
      "    set_option = <pandas._config.config.CallableDynamicDoc object>\n",
      "        set_option(pat, value)\n",
      "        \n",
      "        Sets the value of the specified option.\n",
      "        \n",
      "        Available options:\n",
      "        \n",
      "        - compute.[use_bottleneck, use_numba, use_numexpr]\n",
      "        - display.[chop_threshold, colheader_justify, column_space, date_dayfirst,\n",
      "          date_yearfirst, encoding, expand_frame_repr, float_format]\n",
      "        - display.html.[border, table_schema, use_mathjax]\n",
      "        - display.[large_repr]\n",
      "        - display.latex.[escape, longtable, multicolumn, multicolumn_format, multirow,\n",
      "          repr]\n",
      "        - display.[max_categories, max_columns, max_colwidth, max_info_columns,\n",
      "          max_info_rows, max_rows, max_seq_items, memory_usage, min_rows, multi_sparse,\n",
      "          notebook_repr_html, pprint_nest_depth, precision, show_dimensions]\n",
      "        - display.unicode.[ambiguous_as_wide, east_asian_width]\n",
      "        - display.[width]\n",
      "        - io.excel.ods.[reader, writer]\n",
      "        - io.excel.xls.[reader, writer]\n",
      "        - io.excel.xlsb.[reader]\n",
      "        - io.excel.xlsm.[reader, writer]\n",
      "        - io.excel.xlsx.[reader, writer]\n",
      "        - io.hdf.[default_format, dropna_table]\n",
      "        - io.parquet.[engine]\n",
      "        - io.sql.[engine]\n",
      "        - mode.[chained_assignment, data_manager, sim_interactive, string_storage,\n",
      "          use_inf_as_na, use_inf_as_null]\n",
      "        - plotting.[backend]\n",
      "        - plotting.matplotlib.[register_converters]\n",
      "        - styler.render.[max_elements]\n",
      "        - styler.sparse.[columns, index]\n",
      "        \n",
      "        Parameters\n",
      "        ----------\n",
      "        pat : str\n",
      "            Regexp which should match a single option.\n",
      "            Note: partial matches are supported for convenience, but unless you use the\n",
      "            full option name (e.g. x.y.z.option_name), your code may break in future\n",
      "            versions if new options with similar names are introduced.\n",
      "        value : object\n",
      "            New value of option.\n",
      "        \n",
      "        Returns\n",
      "        -------\n",
      "        None\n",
      "        \n",
      "        Raises\n",
      "        ------\n",
      "        OptionError if no such option exists\n",
      "        \n",
      "        Notes\n",
      "        -----\n",
      "        The available options with its descriptions:\n",
      "        \n",
      "        compute.use_bottleneck : bool\n",
      "            Use the bottleneck library to accelerate if it is installed,\n",
      "            the default is True\n",
      "            Valid values: False,True\n",
      "            [default: True] [currently: True]\n",
      "        compute.use_numba : bool\n",
      "            Use the numba engine option for select operations if it is installed,\n",
      "            the default is False\n",
      "            Valid values: False,True\n",
      "            [default: False] [currently: False]\n",
      "        compute.use_numexpr : bool\n",
      "            Use the numexpr library to accelerate computation if it is installed,\n",
      "            the default is True\n",
      "            Valid values: False,True\n",
      "            [default: True] [currently: True]\n",
      "        display.chop_threshold : float or None\n",
      "            if set to a float value, all float values smaller then the given threshold\n",
      "            will be displayed as exactly 0 by repr and friends.\n",
      "            [default: None] [currently: None]\n",
      "        display.colheader_justify : 'left'/'right'\n",
      "            Controls the justification of column headers. used by DataFrameFormatter.\n",
      "            [default: right] [currently: right]\n",
      "        display.column_space No description available.\n",
      "            [default: 12] [currently: 12]\n",
      "        display.date_dayfirst : boolean\n",
      "            When True, prints and parses dates with the day first, eg 20/01/2005\n",
      "            [default: False] [currently: False]\n",
      "        display.date_yearfirst : boolean\n",
      "            When True, prints and parses dates with the year first, eg 2005/01/20\n",
      "            [default: False] [currently: False]\n",
      "        display.encoding : str/unicode\n",
      "            Defaults to the detected encoding of the console.\n",
      "            Specifies the encoding to be used for strings returned by to_string,\n",
      "            these are generally strings meant to be displayed on the console.\n",
      "            [default: UTF-8] [currently: UTF-8]\n",
      "        display.expand_frame_repr : boolean\n",
      "            Whether to print out the full DataFrame repr for wide DataFrames across\n",
      "            multiple lines, `max_columns` is still respected, but the output will\n",
      "            wrap-around across multiple \"pages\" if its width exceeds `display.width`.\n",
      "            [default: True] [currently: True]\n",
      "        display.float_format : callable\n",
      "            The callable should accept a floating point number and return\n",
      "            a string with the desired format of the number. This is used\n",
      "            in some places like SeriesFormatter.\n",
      "            See formats.format.EngFormatter for an example.\n",
      "            [default: None] [currently: None]\n",
      "        display.html.border : int\n",
      "            A ``border=value`` attribute is inserted in the ``<table>`` tag\n",
      "            for the DataFrame HTML repr.\n",
      "            [default: 1] [currently: 1]\n",
      "        display.html.table_schema : boolean\n",
      "            Whether to publish a Table Schema representation for frontends\n",
      "            that support it.\n",
      "            (default: False)\n",
      "            [default: False] [currently: False]\n",
      "        display.html.use_mathjax : boolean\n",
      "            When True, Jupyter notebook will process table contents using MathJax,\n",
      "            rendering mathematical expressions enclosed by the dollar symbol.\n",
      "            (default: True)\n",
      "            [default: True] [currently: True]\n",
      "        display.large_repr : 'truncate'/'info'\n",
      "            For DataFrames exceeding max_rows/max_cols, the repr (and HTML repr) can\n",
      "            show a truncated table (the default from 0.13), or switch to the view from\n",
      "            df.info() (the behaviour in earlier versions of pandas).\n",
      "            [default: truncate] [currently: truncate]\n",
      "        display.latex.escape : bool\n",
      "            This specifies if the to_latex method of a Dataframe uses escapes special\n",
      "            characters.\n",
      "            Valid values: False,True\n",
      "            [default: True] [currently: True]\n",
      "        display.latex.longtable :bool\n",
      "            This specifies if the to_latex method of a Dataframe uses the longtable\n",
      "            format.\n",
      "            Valid values: False,True\n",
      "            [default: False] [currently: False]\n",
      "        display.latex.multicolumn : bool\n",
      "            This specifies if the to_latex method of a Dataframe uses multicolumns\n",
      "            to pretty-print MultiIndex columns.\n",
      "            Valid values: False,True\n",
      "            [default: True] [currently: True]\n",
      "        display.latex.multicolumn_format : bool\n",
      "            This specifies if the to_latex method of a Dataframe uses multicolumns\n",
      "            to pretty-print MultiIndex columns.\n",
      "            Valid values: False,True\n",
      "            [default: l] [currently: l]\n",
      "        display.latex.multirow : bool\n",
      "            This specifies if the to_latex method of a Dataframe uses multirows\n",
      "            to pretty-print MultiIndex rows.\n",
      "            Valid values: False,True\n",
      "            [default: False] [currently: False]\n",
      "        display.latex.repr : boolean\n",
      "            Whether to produce a latex DataFrame representation for jupyter\n",
      "            environments that support it.\n",
      "            (default: False)\n",
      "            [default: False] [currently: False]\n",
      "        display.max_categories : int\n",
      "            This sets the maximum number of categories pandas should output when\n",
      "            printing out a `Categorical` or a Series of dtype \"category\".\n",
      "            [default: 8] [currently: 8]\n",
      "        display.max_columns : int\n",
      "            If max_cols is exceeded, switch to truncate view. Depending on\n",
      "            `large_repr`, objects are either centrally truncated or printed as\n",
      "            a summary view. 'None' value means unlimited.\n",
      "        \n",
      "            In case python/IPython is running in a terminal and `large_repr`\n",
      "            equals 'truncate' this can be set to 0 and pandas will auto-detect\n",
      "            the width of the terminal and print a truncated object which fits\n",
      "            the screen width. The IPython notebook, IPython qtconsole, or IDLE\n",
      "            do not run in a terminal and hence it is not possible to do\n",
      "            correct auto-detection.\n",
      "            [default: 20] [currently: 20]\n",
      "        display.max_colwidth : int or None\n",
      "            The maximum width in characters of a column in the repr of\n",
      "            a pandas data structure. When the column overflows, a \"...\"\n",
      "            placeholder is embedded in the output. A 'None' value means unlimited.\n",
      "            [default: 50] [currently: 50]\n",
      "        display.max_info_columns : int\n",
      "            max_info_columns is used in DataFrame.info method to decide if\n",
      "            per column information will be printed.\n",
      "            [default: 100] [currently: 100]\n",
      "        display.max_info_rows : int or None\n",
      "            df.info() will usually show null-counts for each column.\n",
      "            For large frames this can be quite slow. max_info_rows and max_info_cols\n",
      "            limit this null check only to frames with smaller dimensions than\n",
      "            specified.\n",
      "            [default: 1690785] [currently: 1690785]\n",
      "        display.max_rows : int\n",
      "            If max_rows is exceeded, switch to truncate view. Depending on\n",
      "            `large_repr`, objects are either centrally truncated or printed as\n",
      "            a summary view. 'None' value means unlimited.\n",
      "        \n",
      "            In case python/IPython is running in a terminal and `large_repr`\n",
      "            equals 'truncate' this can be set to 0 and pandas will auto-detect\n",
      "            the height of the terminal and print a truncated object which fits\n",
      "            the screen height. The IPython notebook, IPython qtconsole, or\n",
      "            IDLE do not run in a terminal and hence it is not possible to do\n",
      "            correct auto-detection.\n",
      "            [default: 60] [currently: 60]\n",
      "        display.max_seq_items : int or None\n",
      "            When pretty-printing a long sequence, no more then `max_seq_items`\n",
      "            will be printed. If items are omitted, they will be denoted by the\n",
      "            addition of \"...\" to the resulting string.\n",
      "        \n",
      "            If set to None, the number of items to be printed is unlimited.\n",
      "            [default: 100] [currently: 100]\n",
      "        display.memory_usage : bool, string or None\n",
      "            This specifies if the memory usage of a DataFrame should be displayed when\n",
      "            df.info() is called. Valid values True,False,'deep'\n",
      "            [default: True] [currently: True]\n",
      "        display.min_rows : int\n",
      "            The numbers of rows to show in a truncated view (when `max_rows` is\n",
      "            exceeded). Ignored when `max_rows` is set to None or 0. When set to\n",
      "            None, follows the value of `max_rows`.\n",
      "            [default: 10] [currently: 10]\n",
      "        display.multi_sparse : boolean\n",
      "            \"sparsify\" MultiIndex display (don't display repeated\n",
      "            elements in outer levels within groups)\n",
      "            [default: True] [currently: True]\n",
      "        display.notebook_repr_html : boolean\n",
      "            When True, IPython notebook will use html representation for\n",
      "            pandas objects (if it is available).\n",
      "            [default: True] [currently: True]\n",
      "        display.pprint_nest_depth : int\n",
      "            Controls the number of nested levels to process when pretty-printing\n",
      "            [default: 3] [currently: 3]\n",
      "        display.precision : int\n",
      "            Floating point output precision in terms of number of places after the\n",
      "            decimal, for regular formatting as well as scientific notation. Similar\n",
      "            to ``precision`` in :meth:`numpy.set_printoptions`.\n",
      "            [default: 6] [currently: 6]\n",
      "        display.show_dimensions : boolean or 'truncate'\n",
      "            Whether to print out dimensions at the end of DataFrame repr.\n",
      "            If 'truncate' is specified, only print out the dimensions if the\n",
      "            frame is truncated (e.g. not display all rows and/or columns)\n",
      "            [default: truncate] [currently: truncate]\n",
      "        display.unicode.ambiguous_as_wide : boolean\n",
      "            Whether to use the Unicode East Asian Width to calculate the display text\n",
      "            width.\n",
      "            Enabling this may affect to the performance (default: False)\n",
      "            [default: False] [currently: False]\n",
      "        display.unicode.east_asian_width : boolean\n",
      "            Whether to use the Unicode East Asian Width to calculate the display text\n",
      "            width.\n",
      "            Enabling this may affect to the performance (default: False)\n",
      "            [default: False] [currently: False]\n",
      "        display.width : int\n",
      "            Width of the display in characters. In case python/IPython is running in\n",
      "            a terminal this can be set to None and pandas will correctly auto-detect\n",
      "            the width.\n",
      "            Note that the IPython notebook, IPython qtconsole, or IDLE do not run in a\n",
      "            terminal and hence it is not possible to correctly detect the width.\n",
      "            [default: 80] [currently: 80]\n",
      "        io.excel.ods.reader : string\n",
      "            The default Excel reader engine for 'ods' files. Available options:\n",
      "            auto, odf.\n",
      "            [default: auto] [currently: auto]\n",
      "        io.excel.ods.writer : string\n",
      "            The default Excel writer engine for 'ods' files. Available options:\n",
      "            auto, odf.\n",
      "            [default: auto] [currently: auto]\n",
      "        io.excel.xls.reader : string\n",
      "            The default Excel reader engine for 'xls' files. Available options:\n",
      "            auto, xlrd.\n",
      "            [default: auto] [currently: auto]\n",
      "        io.excel.xls.writer : string\n",
      "            The default Excel writer engine for 'xls' files. Available options:\n",
      "            auto, xlwt.\n",
      "            [default: auto] [currently: auto]\n",
      "            (Deprecated, use `` instead.)\n",
      "        io.excel.xlsb.reader : string\n",
      "            The default Excel reader engine for 'xlsb' files. Available options:\n",
      "            auto, pyxlsb.\n",
      "            [default: auto] [currently: auto]\n",
      "        io.excel.xlsm.reader : string\n",
      "            The default Excel reader engine for 'xlsm' files. Available options:\n",
      "            auto, xlrd, openpyxl.\n",
      "            [default: auto] [currently: auto]\n",
      "        io.excel.xlsm.writer : string\n",
      "            The default Excel writer engine for 'xlsm' files. Available options:\n",
      "            auto, openpyxl.\n",
      "            [default: auto] [currently: auto]\n",
      "        io.excel.xlsx.reader : string\n",
      "            The default Excel reader engine for 'xlsx' files. Available options:\n",
      "            auto, xlrd, openpyxl.\n",
      "            [default: auto] [currently: auto]\n",
      "        io.excel.xlsx.writer : string\n",
      "            The default Excel writer engine for 'xlsx' files. Available options:\n",
      "            auto, openpyxl, xlsxwriter.\n",
      "            [default: auto] [currently: auto]\n",
      "        io.hdf.default_format : format\n",
      "            default format writing format, if None, then\n",
      "            put will default to 'fixed' and append will default to 'table'\n",
      "            [default: None] [currently: None]\n",
      "        io.hdf.dropna_table : boolean\n",
      "            drop ALL nan rows when appending to a table\n",
      "            [default: False] [currently: False]\n",
      "        io.parquet.engine : string\n",
      "            The default parquet reader/writer engine. Available options:\n",
      "            'auto', 'pyarrow', 'fastparquet', the default is 'auto'\n",
      "            [default: auto] [currently: auto]\n",
      "        io.sql.engine : string\n",
      "            The default sql reader/writer engine. Available options:\n",
      "            'auto', 'sqlalchemy', the default is 'auto'\n",
      "            [default: auto] [currently: auto]\n",
      "        mode.chained_assignment : string\n",
      "            Raise an exception, warn, or no action if trying to use chained assignment,\n",
      "            The default is warn\n",
      "            [default: warn] [currently: warn]\n",
      "        mode.data_manager : string\n",
      "            Internal data manager type; can be \"block\" or \"array\". Defaults to \"block\",\n",
      "            unless overridden by the 'PANDAS_DATA_MANAGER' environment variable (needs\n",
      "            to be set before pandas is imported).\n",
      "            [default: block] [currently: block]\n",
      "        mode.sim_interactive : boolean\n",
      "            Whether to simulate interactive mode for purposes of testing\n",
      "            [default: False] [currently: False]\n",
      "        mode.string_storage : string\n",
      "            The default storage for StringDtype.\n",
      "            [default: python] [currently: python]\n",
      "        mode.use_inf_as_na : boolean\n",
      "            True means treat None, NaN, INF, -INF as NA (old way),\n",
      "            False means None and NaN are null, but INF, -INF are not NA\n",
      "            (new way).\n",
      "            [default: False] [currently: False]\n",
      "        mode.use_inf_as_null : boolean\n",
      "            use_inf_as_null had been deprecated and will be removed in a future\n",
      "            version. Use `use_inf_as_na` instead.\n",
      "            [default: False] [currently: False]\n",
      "            (Deprecated, use `mode.use_inf_as_na` instead.)\n",
      "        plotting.backend : str\n",
      "            The plotting backend to use. The default value is \"matplotlib\", the\n",
      "            backend provided with pandas. Other backends can be specified by\n",
      "            providing the name of the module that implements the backend.\n",
      "            [default: matplotlib] [currently: matplotlib]\n",
      "        plotting.matplotlib.register_converters : bool or 'auto'.\n",
      "            Whether to register converters with matplotlib's units registry for\n",
      "            dates, times, datetimes, and Periods. Toggling to False will remove\n",
      "            the converters, restoring any converters that pandas overwrote.\n",
      "            [default: auto] [currently: auto]\n",
      "        styler.render.max_elements : int\n",
      "            The maximum number of data-cell (<td>) elements that will be rendered before\n",
      "            trimming will occur over columns, rows or both if needed.\n",
      "            [default: 262144] [currently: 262144]\n",
      "        styler.sparse.columns : bool\n",
      "            Whether to sparsify the display of hierarchical columns. Setting to False will\n",
      "            display each explicit level element in a hierarchical key for each column.\n",
      "            [default: True] [currently: True]\n",
      "        styler.sparse.index : bool\n",
      "            Whether to sparsify the display of a hierarchical index. Setting to False will\n",
      "            display each explicit level element in a hierarchical key for each row.\n",
      "            [default: True] [currently: True]\n",
      "\n",
      "VERSION\n",
      "    1.3.4\n",
      "\n",
      "FILE\n",
      "    c:\\users\\iasms\\anaconda3\\lib\\site-packages\\pandas\\__init__.py\n",
      "\n",
      "\n"
     ]
    },
    {
     "name": "stdout",
     "output_type": "stream",
     "text": [
      "help> quit\n",
      "\n",
      "You are now leaving help and returning to the Python interpreter.\n",
      "If you want to ask for help on a particular object directly from the\n",
      "interpreter, you can type \"help(object)\".  Executing \"help('string')\"\n",
      "has the same effect as typing a particular string at the help> prompt.\n"
     ]
    }
   ],
   "source": [
    "help()"
   ]
  },
  {
   "cell_type": "code",
   "execution_count": 32,
   "id": "f334e636",
   "metadata": {
    "scrolled": true
   },
   "outputs": [
    {
     "name": "stdout",
     "output_type": "stream",
     "text": [
      "Help on built-in function max in module builtins:\n",
      "\n",
      "max(...)\n",
      "    max(iterable, *[, default=obj, key=func]) -> value\n",
      "    max(arg1, arg2, *args, *[, key=func]) -> value\n",
      "    \n",
      "    With a single iterable argument, return its biggest item. The\n",
      "    default keyword-only argument specifies an object to return if\n",
      "    the provided iterable is empty.\n",
      "    With two or more arguments, return the largest argument.\n",
      "\n"
     ]
    }
   ],
   "source": [
    "help(max)"
   ]
  },
  {
   "cell_type": "code",
   "execution_count": 33,
   "id": "d034f6b6",
   "metadata": {},
   "outputs": [
    {
     "name": "stdout",
     "output_type": "stream",
     "text": [
      "Help on built-in function abs in module builtins:\n",
      "\n",
      "abs(x, /)\n",
      "    Return the absolute value of the argument.\n",
      "\n"
     ]
    }
   ],
   "source": [
    "help(abs)"
   ]
  },
  {
   "cell_type": "code",
   "execution_count": 34,
   "id": "7b1d61f8",
   "metadata": {},
   "outputs": [
    {
     "name": "stdout",
     "output_type": "stream",
     "text": [
      "Help on built-in function len in module builtins:\n",
      "\n",
      "len(obj, /)\n",
      "    Return the number of items in a container.\n",
      "\n"
     ]
    }
   ],
   "source": [
    "help(len)"
   ]
  },
  {
   "cell_type": "code",
   "execution_count": 35,
   "id": "ba6046ca",
   "metadata": {},
   "outputs": [
    {
     "name": "stdout",
     "output_type": "stream",
     "text": [
      "Help on ZMQExitAutocall in module IPython.core.autocall object:\n",
      "\n",
      "class ZMQExitAutocall(ExitAutocall)\n",
      " |  ZMQExitAutocall(ip=None)\n",
      " |  \n",
      " |  Exit IPython. Autocallable, so it needn't be explicitly called.\n",
      " |  \n",
      " |  Parameters\n",
      " |  ----------\n",
      " |  keep_kernel : bool\n",
      " |    If True, leave the kernel alive. Otherwise, tell the kernel to exit too\n",
      " |    (default).\n",
      " |  \n",
      " |  Method resolution order:\n",
      " |      ZMQExitAutocall\n",
      " |      ExitAutocall\n",
      " |      IPyAutocall\n",
      " |      builtins.object\n",
      " |  \n",
      " |  Methods defined here:\n",
      " |  \n",
      " |  __call__(self, keep_kernel=False)\n",
      " |      Call self as a function.\n",
      " |  \n",
      " |  ----------------------------------------------------------------------\n",
      " |  Data and other attributes inherited from ExitAutocall:\n",
      " |  \n",
      " |  rewrite = False\n",
      " |  \n",
      " |  ----------------------------------------------------------------------\n",
      " |  Methods inherited from IPyAutocall:\n",
      " |  \n",
      " |  __init__(self, ip=None)\n",
      " |      Initialize self.  See help(type(self)) for accurate signature.\n",
      " |  \n",
      " |  set_ip(self, ip)\n",
      " |      Will be used to set _ip point to current ipython instance b/f call\n",
      " |      \n",
      " |      Override this method if you don't want this to happen.\n",
      " |  \n",
      " |  ----------------------------------------------------------------------\n",
      " |  Data descriptors inherited from IPyAutocall:\n",
      " |  \n",
      " |  __dict__\n",
      " |      dictionary for instance variables (if defined)\n",
      " |  \n",
      " |  __weakref__\n",
      " |      list of weak references to the object (if defined)\n",
      "\n"
     ]
    }
   ],
   "source": [
    "help(quit)"
   ]
  },
  {
   "cell_type": "code",
   "execution_count": 36,
   "id": "e70ca960",
   "metadata": {},
   "outputs": [
    {
     "name": "stdout",
     "output_type": "stream",
     "text": [
      "Please enter the number 21\n",
      "Please enter the number 43\n",
      "Please enter the number 29\n",
      "43\n"
     ]
    }
   ],
   "source": [
    "x=int(input(\"Please enter the number \"))\n",
    "y=int(input(\"Please enter the number \"))\n",
    "z=int(input(\"Please enter the number \"))\n",
    "print(max(x,y,z))"
   ]
  },
  {
   "cell_type": "code",
   "execution_count": 37,
   "id": "c0e959a5",
   "metadata": {},
   "outputs": [
    {
     "name": "stdout",
     "output_type": "stream",
     "text": [
      "12.0\n"
     ]
    }
   ],
   "source": [
    "import math\n",
    "print(math.sqrt(144))"
   ]
  },
  {
   "cell_type": "code",
   "execution_count": 38,
   "id": "65d3e0fb",
   "metadata": {},
   "outputs": [
    {
     "name": "stdout",
     "output_type": "stream",
     "text": [
      "8.0\n"
     ]
    }
   ],
   "source": [
    "Sq_root=math.sqrt\n",
    "print(Sq_root(64))"
   ]
  },
  {
   "cell_type": "code",
   "execution_count": 39,
   "id": "930732c9",
   "metadata": {},
   "outputs": [
    {
     "name": "stdout",
     "output_type": "stream",
     "text": [
      "0.22495767640324926\n"
     ]
    }
   ],
   "source": [
    "import random\n",
    "print(random.random())"
   ]
  },
  {
   "cell_type": "code",
   "execution_count": 41,
   "id": "bbfcd07c",
   "metadata": {},
   "outputs": [
    {
     "name": "stdout",
     "output_type": "stream",
     "text": [
      "8\n",
      "9\n",
      "504\n"
     ]
    }
   ],
   "source": [
    "print(random.randint(1,100))\n",
    "print(random.randint(1,10))\n",
    "print(random.randint(1,1010))"
   ]
  },
  {
   "cell_type": "code",
   "execution_count": 42,
   "id": "520d04cb",
   "metadata": {},
   "outputs": [
    {
     "name": "stdout",
     "output_type": "stream",
     "text": [
      "Hi How are you\n",
      "Hi How are you\n",
      "Hi How are you\n"
     ]
    }
   ],
   "source": [
    "a='Hi How are you'\n",
    "b=\"Hi How are you\"\n",
    "c='''Hi How are you'''\n",
    "print(a)\n",
    "print(b)\n",
    "print(c)"
   ]
  },
  {
   "cell_type": "code",
   "execution_count": 43,
   "id": "0be0a183",
   "metadata": {},
   "outputs": [
    {
     "name": "stdout",
     "output_type": "stream",
     "text": [
      "Hi How are you\n",
      "Hi Hi Hi don't say\n"
     ]
    }
   ],
   "source": [
    "#a='Hi Hi Hi don't say'\n",
    "print(a)\n",
    "b='Hi Hi Hi don\\'t say'\n",
    "print(b)"
   ]
  },
  {
   "cell_type": "code",
   "execution_count": 44,
   "id": "fa18d9a4",
   "metadata": {},
   "outputs": [
    {
     "name": "stdout",
     "output_type": "stream",
     "text": [
      "14\n",
      "HelloWorld\n"
     ]
    }
   ],
   "source": [
    "print(len(a))\n",
    "c='Hello' \n",
    "d='World'\n",
    "print(c+d)"
   ]
  },
  {
   "cell_type": "code",
   "execution_count": 46,
   "id": "9fb0500c",
   "metadata": {},
   "outputs": [
    {
     "name": "stdout",
     "output_type": "stream",
     "text": [
      "I LOVE YOU I LOVE YOU I LOVE YOU I LOVE YOU I LOVE YOU I LOVE YOU I LOVE YOU I LOVE YOU I LOVE YOU I LOVE YOU I LOVE YOU I LOVE YOU I LOVE YOU I LOVE YOU I LOVE YOU I LOVE YOU I LOVE YOU I LOVE YOU I LOVE YOU I LOVE YOU I LOVE YOU I LOVE YOU I LOVE YOU I LOVE YOU I LOVE YOU I LOVE YOU I LOVE YOU I LOVE YOU I LOVE YOU I LOVE YOU I LOVE YOU I LOVE YOU I LOVE YOU I LOVE YOU I LOVE YOU I LOVE YOU I LOVE YOU I LOVE YOU I LOVE YOU I LOVE YOU I LOVE YOU I LOVE YOU I LOVE YOU I LOVE YOU I LOVE YOU I LOVE YOU I LOVE YOU I LOVE YOU I LOVE YOU I LOVE YOU I LOVE YOU I LOVE YOU I LOVE YOU I LOVE YOU I LOVE YOU I LOVE YOU I LOVE YOU I LOVE YOU I LOVE YOU I LOVE YOU I LOVE YOU I LOVE YOU I LOVE YOU I LOVE YOU I LOVE YOU I LOVE YOU I LOVE YOU I LOVE YOU I LOVE YOU I LOVE YOU I LOVE YOU I LOVE YOU I LOVE YOU I LOVE YOU I LOVE YOU I LOVE YOU I LOVE YOU I LOVE YOU I LOVE YOU I LOVE YOU I LOVE YOU I LOVE YOU I LOVE YOU I LOVE YOU I LOVE YOU I LOVE YOU I LOVE YOU I LOVE YOU I LOVE YOU I LOVE YOU I LOVE YOU I LOVE YOU I LOVE YOU I LOVE YOU I LOVE YOU I LOVE YOU I LOVE YOU I LOVE YOU I LOVE YOU I LOVE YOU \n",
      "I LOVE YOU \n"
     ]
    }
   ],
   "source": [
    "a = \"I LOVE YOU \"\n",
    "print(a*100)\n",
    "print(a)"
   ]
  },
  {
   "cell_type": "code",
   "execution_count": 47,
   "id": "02fb6860",
   "metadata": {},
   "outputs": [
    {
     "name": "stdout",
     "output_type": "stream",
     "text": [
      "hello6\n"
     ]
    }
   ],
   "source": [
    "a='hello'\n",
    "b=6\n",
    "#print(a+b)\n",
    "print(a+str(b))"
   ]
  },
  {
   "cell_type": "code",
   "execution_count": 48,
   "id": "160d8b5f",
   "metadata": {},
   "outputs": [
    {
     "name": "stdout",
     "output_type": "stream",
     "text": [
      "Enter First number : 23\n",
      "Enter Second Number : 46\n",
      "Sum is 69\n"
     ]
    }
   ],
   "source": [
    "num1 = int(input(\"Enter First number : \"))\n",
    "num2 = int(input(\"Enter Second Number : \"))\n",
    "print(\"Sum is\", num1+num2)"
   ]
  },
  {
   "cell_type": "code",
   "execution_count": 49,
   "id": "66f442f3",
   "metadata": {},
   "outputs": [
    {
     "name": "stdout",
     "output_type": "stream",
     "text": [
      "Enter First number : 21\n",
      "Enter Second Number : 6\n",
      "The remainder when a is divided by b is 3\n"
     ]
    }
   ],
   "source": [
    "num1 = int(input(\"Enter First number : \"))\n",
    "num2 = int(input(\"Enter Second Number : \"))\n",
    "print(\"The remainder when a is divided by b is\", num1%num2)"
   ]
  },
  {
   "cell_type": "code",
   "execution_count": 50,
   "id": "90dc32f5",
   "metadata": {},
   "outputs": [
    {
     "name": "stdout",
     "output_type": "stream",
     "text": [
      "Enter First number : 34\n",
      "Enter Second Number : 67\n",
      "False\n"
     ]
    }
   ],
   "source": [
    "num1 = int(input(\"Enter First number : \"))\n",
    "num2 = int(input(\"Enter Second Number : \"))\n",
    "print(num1>num2)"
   ]
  },
  {
   "cell_type": "code",
   "execution_count": 51,
   "id": "e5b28848",
   "metadata": {},
   "outputs": [
    {
     "name": "stdout",
     "output_type": "stream",
     "text": [
      "Enter First number : 68\n",
      "Enter Second Number : 96\n",
      "82.0\n"
     ]
    }
   ],
   "source": [
    "num1 = int(input(\"Enter First number : \"))\n",
    "num2 = int(input(\"Enter Second Number : \"))\n",
    "avg = (num1+num2)/2\n",
    "print(avg)"
   ]
  },
  {
   "cell_type": "code",
   "execution_count": 52,
   "id": "56b3fa0d",
   "metadata": {},
   "outputs": [
    {
     "name": "stdout",
     "output_type": "stream",
     "text": [
      "Enter First number : 29\n",
      "841\n"
     ]
    }
   ],
   "source": [
    "num = int(input(\"Enter First number : \"))\n",
    "square = num*num\n",
    "print(square)"
   ]
  },
  {
   "cell_type": "code",
   "execution_count": 53,
   "id": "93de175f",
   "metadata": {},
   "outputs": [
    {
     "name": "stdout",
     "output_type": "stream",
     "text": [
      "31 SMRUTI\n",
      "<class 'int'>\n",
      "<class 'str'>\n"
     ]
    }
   ],
   "source": [
    "a = 31\n",
    "b = 'SMRUTI'\n",
    "print(a, b)\n",
    "print(type(a))\n",
    "print(type(b))"
   ]
  },
  {
   "cell_type": "code",
   "execution_count": 54,
   "id": "81738d30",
   "metadata": {},
   "outputs": [
    {
     "name": "stdout",
     "output_type": "stream",
     "text": [
      "Harry's\n"
     ]
    }
   ],
   "source": [
    "# a = 'Smruti's'\n",
    "# print(a)\n",
    "a = \"Harry's\"\n",
    "print(a)"
   ]
  },
  {
   "cell_type": "code",
   "execution_count": 55,
   "id": "39450e21",
   "metadata": {},
   "outputs": [
    {
     "name": "stdout",
     "output_type": "stream",
     "text": [
      "Gyana\"s\n"
     ]
    }
   ],
   "source": [
    "a = 'Gyana\"s'\n",
    "print(a)"
   ]
  },
  {
   "cell_type": "code",
   "execution_count": 56,
   "id": "922c8953",
   "metadata": {},
   "outputs": [
    {
     "name": "stdout",
     "output_type": "stream",
     "text": [
      "\"Smruti's\" and\n",
      "  Gyana\"s\n"
     ]
    }
   ],
   "source": [
    "a = '''\"Smruti's\" and\n",
    "  Gyana\"s'''\n",
    "print(a)"
   ]
  },
  {
   "cell_type": "code",
   "execution_count": 57,
   "id": "4e634c7c",
   "metadata": {},
   "outputs": [
    {
     "name": "stdout",
     "output_type": "stream",
     "text": [
      "Good Morning, SMRUTI\n",
      "S\n",
      "T\n",
      "SMR\n",
      "SMRUT\n",
      "MR\n",
      "SMRUT\n",
      "SMRUTI\n",
      "\n",
      "RUT\n",
      "MRUTI\n",
      "SRT\n"
     ]
    }
   ],
   "source": [
    "greeting = \"Good Morning, \"\n",
    "name = \"SMRUTI\"\n",
    "# print(type(name))\n",
    "# Concatenating 2 strings\n",
    "# print(greeting + name)\n",
    "c = greeting + name\n",
    "print(c)\n",
    "print(name[0])\n",
    "print(name[4])\n",
    "# print(name[9])\n",
    "# name[2] = \"d\"   ---> does not work\n",
    "\n",
    "print(name[0:3])\n",
    "print(name[0:5])\n",
    "print(name[1:3])\n",
    "print(name[:5])\n",
    "print(name[0:])\n",
    "print(name[0:0])\n",
    "\n",
    "print(name[-4:-1])\n",
    "print(name[-5:])\n",
    "\n",
    "# d = name[1:6:2] # MUI\n",
    "d = name[1:6:3] # MT\n",
    "d = name[0::2]  # SRT\n",
    "print(d) "
   ]
  },
  {
   "cell_type": "code",
   "execution_count": 58,
   "id": "60911dea",
   "metadata": {},
   "outputs": [
    {
     "name": "stdout",
     "output_type": "stream",
     "text": [
      "82\n",
      "once upon a passt there was a Hero in past passt named Smruti who was a great Person\n"
     ]
    }
   ],
   "source": [
    "story = \"once upon a time there was a Hero in past time named Smruti who was a great Person\"\n",
    "# print(story[0:9])\n",
    "# print(story[1:34])\n",
    "\n",
    "print(len(story))\n",
    "# print(story.endswith(\"jnbdjn\"))\n",
    "# print(story.endswith(\"Person\"))\n",
    "# print(story.endswith(\"person\"))\n",
    "\n",
    "# print(story.count(\"s\"))\n",
    "# print(story.count(\"time\"))\n",
    "\n",
    "# print(story.capitalize())\n",
    "\n",
    "# print(story.find(\"SMRUTI\"))\n",
    "# print(story.find(\"Smruti\"))  \n",
    "# print(story.find(\"upon\"))\n",
    "\n",
    "# print(story.replace(\"Smruti\",\"SMRUTI\"))\n",
    "# print(story.replace(\"Smruti\",\"SMRUTI\"))\n",
    "print(story.replace(\"time\",\"passt\"))"
   ]
  },
  {
   "cell_type": "code",
   "execution_count": 59,
   "id": "4548751e",
   "metadata": {},
   "outputs": [
    {
     "name": "stdout",
     "output_type": "stream",
     "text": [
      "Smruti is good. \n",
      "He \t is ve\\ry good\n"
     ]
    }
   ],
   "source": [
    "# story = \"Smruti is good. \\nHe \\t is very good\"\n",
    "story = \"Smruti is good. \\nHe \\t is ve\\\\ry good\"\n",
    "print(story)"
   ]
  },
  {
   "cell_type": "code",
   "execution_count": 60,
   "id": "e73aaba4",
   "metadata": {},
   "outputs": [
    {
     "name": "stdout",
     "output_type": "stream",
     "text": [
      "Enter your name Baishali\n",
      "Good Afternoon, Baishali\n"
     ]
    }
   ],
   "source": [
    "name = input(\"Enter your name \")\n",
    "print(\"Good Afternoon, \" + name)"
   ]
  },
  {
   "cell_type": "code",
   "execution_count": 61,
   "id": "f2b37028",
   "metadata": {},
   "outputs": [
    {
     "name": "stdout",
     "output_type": "stream",
     "text": [
      "Enter your name\n",
      "Rajesh Gupta\n",
      "Enter Date\n",
      "23rd March 2022\n",
      "Dear Rajesh Gupta,\n",
      "Greetings from Google. We are happy to tell about your selection\n",
      "You are selected!\n",
      "Have a Great day ahead\n",
      "Date: 23rd March 2022\n",
      "\n"
     ]
    }
   ],
   "source": [
    "letter = '''Dear <|NAME|>,\n",
    "Greetings from Google. We are happy to tell about your selection\n",
    "You are selected!\n",
    "Have a Great day ahead\n",
    "Date: <|DATE|>\n",
    "'''\n",
    "name = input(\"Enter your name\\n\")\n",
    "date = input(\"Enter Date\\n\")\n",
    "letter = letter.replace(\"<|NAME|>\", name)\n",
    "letter = letter.replace(\"<|DATE|>\", date)\n",
    "print(letter)"
   ]
  },
  {
   "cell_type": "code",
   "execution_count": 62,
   "id": "3cc7a920",
   "metadata": {},
   "outputs": [
    {
     "name": "stdout",
     "output_type": "stream",
     "text": [
      "28\n"
     ]
    }
   ],
   "source": [
    "st = \"This is a string with double   spaces\"\n",
    "doubleSpaces = st.find(\"  \")\n",
    "print(doubleSpaces)"
   ]
  },
  {
   "cell_type": "code",
   "execution_count": 63,
   "id": "61802c22",
   "metadata": {},
   "outputs": [
    {
     "name": "stdout",
     "output_type": "stream",
     "text": [
      "This is a string with double spaces\n"
     ]
    }
   ],
   "source": [
    "st = \"This is a string with double   spaces\"\n",
    "# st = st.replace(\"\",\"  \")\n",
    "st = st.replace(\"   \",\" \")\n",
    "print(st)"
   ]
  },
  {
   "cell_type": "code",
   "execution_count": 64,
   "id": "fec6b99f",
   "metadata": {},
   "outputs": [
    {
     "name": "stdout",
     "output_type": "stream",
     "text": [
      "Dear SMRUTI, This Python course is nice! Thanks!\n",
      "Dear SMRUTIRANJAN, \n",
      "\t This Python course is nice! Thanks\n"
     ]
    }
   ],
   "source": [
    "letter = \"Dear SMRUTI, This Python course is nice! Thanks!\"\n",
    "print(letter)\n",
    "\n",
    "formatted_letter = \"Dear SMRUTIRANJAN, \\n\\t This Python course is nice! Thanks\"\n",
    "print(formatted_letter) "
   ]
  },
  {
   "cell_type": "code",
   "execution_count": null,
   "id": "6a1ca08b",
   "metadata": {},
   "outputs": [],
   "source": []
  },
  {
   "cell_type": "code",
   "execution_count": null,
   "id": "35717a15",
   "metadata": {},
   "outputs": [],
   "source": []
  },
  {
   "cell_type": "markdown",
   "id": "a3aa840a",
   "metadata": {},
   "source": [
    "# Methods in List"
   ]
  },
  {
   "cell_type": "markdown",
   "id": "5f2e08ae",
   "metadata": {},
   "source": [
    "### Index()"
   ]
  },
  {
   "cell_type": "code",
   "execution_count": 3,
   "id": "db706a9a",
   "metadata": {},
   "outputs": [
    {
     "name": "stdout",
     "output_type": "stream",
     "text": [
      "[1, 2, 3, 6, 56, 9, 0]\n"
     ]
    }
   ],
   "source": [
    "#orderded collection\n",
    "# create a list using []\n",
    "a = [1,2,3,6,56,9,0]\n",
    "# print using print() function\n",
    "print(a)"
   ]
  },
  {
   "cell_type": "code",
   "execution_count": 4,
   "id": "03b625f5",
   "metadata": {},
   "outputs": [
    {
     "name": "stdout",
     "output_type": "stream",
     "text": [
      "3\n",
      "9\n",
      "0\n",
      "6\n"
     ]
    }
   ],
   "source": [
    "#acess using index using a[0],a[1],a[2]...\n",
    "print(a[2])\n",
    "print(a[5])\n",
    "print(a[6])\n",
    "# print(a[9])\n",
    "print(a[5] - a[2])"
   ]
  },
  {
   "cell_type": "code",
   "execution_count": 112,
   "id": "4e52df71",
   "metadata": {},
   "outputs": [
    {
     "name": "stdout",
     "output_type": "stream",
     "text": [
      "1\n",
      "[1, 88, 3, 6, 56, 9, 0]\n"
     ]
    }
   ],
   "source": [
    "print(a[0])\n",
    "# change the value of list\n",
    "a[1]=88\n",
    "print(a)"
   ]
  },
  {
   "cell_type": "code",
   "execution_count": 113,
   "id": "ef6b4baf",
   "metadata": {},
   "outputs": [
    {
     "name": "stdout",
     "output_type": "stream",
     "text": [
      "[45, 'SMRUTI', False, 4.9]\n",
      "<class 'list'>\n"
     ]
    }
   ],
   "source": [
    "# we can create a list with items of different list\n",
    "c = [45, \"SMRUTI\",False, 4.9]\n",
    "print(c)\n",
    "print(type(c))"
   ]
  },
  {
   "cell_type": "code",
   "execution_count": 114,
   "id": "6ed4eb51",
   "metadata": {},
   "outputs": [
    {
     "name": "stdout",
     "output_type": "stream",
     "text": [
      "['smruti', 'omm', 'sara', 'damodor']\n",
      "['smruti', 'omm', 'sara', 'damodor', 'baishali']\n",
      "['smruti', 'omm', 'sara', 'damodor', 'baishali']\n",
      "['smruti', 'omm', 'sara', 'damodor', 'baishali']\n",
      "[]\n",
      "['damodor', 'baishali']\n",
      "['omm', 'sara', 'damodor', 'baishali']\n",
      "['smruti', 'omm']\n",
      "['smruti']\n"
     ]
    }
   ],
   "source": [
    "# list slicing\n",
    "friends = [\"smruti\", \"omm\", \"sara\", \"damodor\", \"baishali\"]\n",
    "print(friends[0:4])\n",
    "print(friends[:5])\n",
    "print(friends[:6])\n",
    "print(friends[:])\n",
    "print(friends[:0])\n",
    "print(friends[3:9])\n",
    "print(friends[-4:])\n",
    "print(friends[:-3])\n",
    "print(friends[:-4])"
   ]
  },
  {
   "cell_type": "code",
   "execution_count": 65,
   "id": "03f4451a",
   "metadata": {},
   "outputs": [
    {
     "name": "stdout",
     "output_type": "stream",
     "text": [
      "2\n",
      "0\n"
     ]
    }
   ],
   "source": [
    "animals=['cat','dog','tiger','lion']\n",
    "ind=animals.index('tiger')\n",
    "print(ind)\n",
    "ind=animals.index('cat')\n",
    "print(ind)"
   ]
  },
  {
   "cell_type": "code",
   "execution_count": 66,
   "id": "1dcbc0c4",
   "metadata": {},
   "outputs": [
    {
     "ename": "ValueError",
     "evalue": "'p' is not in list",
     "output_type": "error",
     "traceback": [
      "\u001b[1;31m---------------------------------------------------------------------------\u001b[0m",
      "\u001b[1;31mValueError\u001b[0m                                Traceback (most recent call last)",
      "\u001b[1;32m~\\AppData\\Local\\Temp/ipykernel_380/3872984895.py\u001b[0m in \u001b[0;36m<module>\u001b[1;34m\u001b[0m\n\u001b[0;32m      1\u001b[0m \u001b[0mvowels\u001b[0m\u001b[1;33m=\u001b[0m\u001b[1;33m[\u001b[0m\u001b[1;34m'a'\u001b[0m\u001b[1;33m,\u001b[0m\u001b[1;34m'e'\u001b[0m\u001b[1;33m,\u001b[0m\u001b[1;34m'i'\u001b[0m\u001b[1;33m,\u001b[0m\u001b[1;34m'o'\u001b[0m\u001b[1;33m,\u001b[0m\u001b[1;34m'u'\u001b[0m\u001b[1;33m]\u001b[0m\u001b[1;33m\u001b[0m\u001b[1;33m\u001b[0m\u001b[0m\n\u001b[1;32m----> 2\u001b[1;33m \u001b[0mindex\u001b[0m\u001b[1;33m=\u001b[0m\u001b[0mvowels\u001b[0m\u001b[1;33m.\u001b[0m\u001b[0mindex\u001b[0m\u001b[1;33m(\u001b[0m\u001b[1;34m'p'\u001b[0m\u001b[1;33m)\u001b[0m\u001b[1;33m\u001b[0m\u001b[1;33m\u001b[0m\u001b[0m\n\u001b[0m\u001b[0;32m      3\u001b[0m \u001b[0mprint\u001b[0m\u001b[1;33m(\u001b[0m\u001b[1;34m'The index of p is:'\u001b[0m\u001b[1;33m,\u001b[0m\u001b[0mindex\u001b[0m\u001b[1;33m)\u001b[0m\u001b[1;33m\u001b[0m\u001b[1;33m\u001b[0m\u001b[0m\n",
      "\u001b[1;31mValueError\u001b[0m: 'p' is not in list"
     ]
    }
   ],
   "source": [
    "vowels=['a','e','i','o','u']\n",
    "index=vowels.index('p')\n",
    "print('The index of p is:',index)"
   ]
  },
  {
   "cell_type": "code",
   "execution_count": 67,
   "id": "7e85d126",
   "metadata": {},
   "outputs": [
    {
     "name": "stdout",
     "output_type": "stream",
     "text": [
      "The index of e is: 1\n",
      "The index of i is : 6\n"
     ]
    }
   ],
   "source": [
    "alphabet = ['a','e','i','o','g','l','i','u']\n",
    "index=alphabet.index('e')\n",
    "print('The index of e is:',index)\n",
    "index=alphabet.index('i',4)\n",
    "print('The index of i is :',index)\n",
    "index=alphabet.index('i',3,7)"
   ]
  },
  {
   "cell_type": "code",
   "execution_count": null,
   "id": "ff5d78e0",
   "metadata": {},
   "outputs": [],
   "source": []
  },
  {
   "cell_type": "markdown",
   "id": "f18114a6",
   "metadata": {},
   "source": [
    "### append()"
   ]
  },
  {
   "cell_type": "code",
   "execution_count": 68,
   "id": "88b298be",
   "metadata": {},
   "outputs": [
    {
     "name": "stdout",
     "output_type": "stream",
     "text": [
      "['Dollar', 'Eurro', 'Pound', 'Yen']\n"
     ]
    }
   ],
   "source": [
    "currencies = ['Dollar','Eurro','Pound']\n",
    "currencies.append('Yen')\n",
    "print(currencies)"
   ]
  },
  {
   "cell_type": "code",
   "execution_count": 69,
   "id": "c1a35326",
   "metadata": {},
   "outputs": [
    {
     "name": "stdout",
     "output_type": "stream",
     "text": [
      "Updated animal list: ['cat', 'dog', 'rabbit', 'guinea pig']\n"
     ]
    }
   ],
   "source": [
    "animals=['cat','dog','rabbit']\n",
    "animals.append('guinea pig')\n",
    "print('Updated animal list:',animals)"
   ]
  },
  {
   "cell_type": "code",
   "execution_count": 70,
   "id": "0c2f1e45",
   "metadata": {},
   "outputs": [
    {
     "name": "stdout",
     "output_type": "stream",
     "text": [
      "Updated animal list :  ['cat', 'dog', 'rabbit', ['tiger', 'fox']]\n"
     ]
    }
   ],
   "source": [
    "animals=['cat','dog','rabbit']\n",
    "wild_animals=['tiger','fox']\n",
    "animals.append(wild_animals)\n",
    "print('Updated animal list : ',animals)"
   ]
  },
  {
   "cell_type": "code",
   "execution_count": null,
   "id": "810b1b51",
   "metadata": {},
   "outputs": [],
   "source": []
  },
  {
   "cell_type": "markdown",
   "id": "32a03bd2",
   "metadata": {},
   "source": [
    "### extend()"
   ]
  },
  {
   "cell_type": "code",
   "execution_count": 71,
   "id": "1ea32c65",
   "metadata": {},
   "outputs": [
    {
     "name": "stdout",
     "output_type": "stream",
     "text": [
      "List after extend(): [1, 4, 2, 3, 5]\n"
     ]
    }
   ],
   "source": [
    "prime_numbers=[2,3,5]\n",
    "numbers=[1,4]\n",
    "numbers.extend(prime_numbers)\n",
    "print('List after extend():',numbers)"
   ]
  },
  {
   "cell_type": "code",
   "execution_count": 72,
   "id": "fd066ef3",
   "metadata": {},
   "outputs": [
    {
     "name": "stdout",
     "output_type": "stream",
     "text": [
      "[1, 2, 3, 4]\n",
      "[1, 2, (3, 4)]\n"
     ]
    }
   ],
   "source": [
    "a1=[1,2]\n",
    "a2=[1,2]\n",
    "b=(3,4)\n",
    "a1.extend(b)\n",
    "print(a1)\n",
    "a2.append(b)\n",
    "print(a2)"
   ]
  },
  {
   "cell_type": "code",
   "execution_count": null,
   "id": "ec69bf1d",
   "metadata": {},
   "outputs": [],
   "source": []
  },
  {
   "cell_type": "markdown",
   "id": "8fa48392",
   "metadata": {},
   "source": [
    "### insert()"
   ]
  },
  {
   "cell_type": "code",
   "execution_count": 73,
   "id": "e81dbc2d",
   "metadata": {},
   "outputs": [
    {
     "name": "stdout",
     "output_type": "stream",
     "text": [
      "List: ['a', 'e', 'i', 'u']\n"
     ]
    }
   ],
   "source": [
    "vowel=['a','e','i','u']\n",
    "vowels.insert(3,'o')\n",
    "print('List:',vowel)"
   ]
  },
  {
   "cell_type": "code",
   "execution_count": 74,
   "id": "10213210",
   "metadata": {},
   "outputs": [
    {
     "name": "stdout",
     "output_type": "stream",
     "text": [
      "updated list: [{1, 2}, (3, 4), {5, 6, 7}]\n"
     ]
    }
   ],
   "source": [
    "mixed_list=[{1,2},{5,6,7}]\n",
    "number_tuple=(3,4)\n",
    "mixed_list.insert(1,number_tuple)\n",
    "print('updated list:',mixed_list)"
   ]
  },
  {
   "cell_type": "code",
   "execution_count": null,
   "id": "d293c815",
   "metadata": {},
   "outputs": [],
   "source": []
  },
  {
   "cell_type": "markdown",
   "id": "a6baf4b8",
   "metadata": {},
   "source": [
    "### remove()"
   ]
  },
  {
   "cell_type": "code",
   "execution_count": 75,
   "id": "1cce9ccf",
   "metadata": {},
   "outputs": [
    {
     "name": "stdout",
     "output_type": "stream",
     "text": [
      "Updated animals list: ['cat', 'dog', ['tiger', 'fox']]\n"
     ]
    }
   ],
   "source": [
    "animal=['cat', 'dog', 'rabbit', 'guinea pig']\n",
    "animals.remove('rabbit')\n",
    "print('Updated animals list:',animals)"
   ]
  },
  {
   "cell_type": "code",
   "execution_count": 76,
   "id": "1634b8e8",
   "metadata": {},
   "outputs": [
    {
     "name": "stdout",
     "output_type": "stream",
     "text": [
      "Updated animals list: ['cat', ['tiger', 'fox']]\n"
     ]
    }
   ],
   "source": [
    "animal=['cat', 'dog','dog','dog', 'rabbit', 'guinea pig']     #check it\n",
    "animals.remove('dog')\n",
    "print('Updated animals list:',animals)"
   ]
  },
  {
   "cell_type": "code",
   "execution_count": null,
   "id": "1ae22591",
   "metadata": {},
   "outputs": [],
   "source": []
  },
  {
   "cell_type": "markdown",
   "id": "164d2fd0",
   "metadata": {},
   "source": [
    "### count()"
   ]
  },
  {
   "cell_type": "code",
   "execution_count": 77,
   "id": "4d6f89aa",
   "metadata": {},
   "outputs": [
    {
     "name": "stdout",
     "output_type": "stream",
     "text": [
      "Count of 2: 3\n"
     ]
    }
   ],
   "source": [
    "numbers=[2,3,5,2,11,2,7]\n",
    "count=numbers.count(2)\n",
    "print('Count of 2:',count)"
   ]
  },
  {
   "cell_type": "code",
   "execution_count": null,
   "id": "6ed42c84",
   "metadata": {},
   "outputs": [],
   "source": []
  },
  {
   "cell_type": "markdown",
   "id": "2bc0fdbf",
   "metadata": {},
   "source": [
    "### pop() , delete()"
   ]
  },
  {
   "cell_type": "code",
   "execution_count": 78,
   "id": "bb6ff3ab",
   "metadata": {},
   "outputs": [
    {
     "name": "stdout",
     "output_type": "stream",
     "text": [
      "Return value: French\n",
      "Updated list: ['Python', 'Java', 'C++', 'C']\n"
     ]
    }
   ],
   "source": [
    "languages = ['Python','Java','C++','French','C']\n",
    "return_value=languages.pop(3)\n",
    "print('Return value:',return_value)\n",
    "print('Updated list:',languages)"
   ]
  },
  {
   "cell_type": "code",
   "execution_count": 79,
   "id": "cc768ec4",
   "metadata": {},
   "outputs": [
    {
     "name": "stdout",
     "output_type": "stream",
     "text": [
      "Return value: C\n",
      "Updated list: ['Python', 'Java', 'C++', 'Ruby']\n",
      "Return value: Ruby\n",
      "Updated list: ['Python', 'Java', 'C++']\n",
      "Return value: Python\n",
      "Updated list: ['Java', 'C++']\n"
     ]
    }
   ],
   "source": [
    "languages = ['Python','Java','C++','Ruby','C']\n",
    "print('Return value:',languages.pop())\n",
    "print('Updated list:',languages)\n",
    "print('Return value:',languages.pop(-1))\n",
    "print('Updated list:',languages)\n",
    "print('Return value:',languages.pop(-3))\n",
    "print('Updated list:',languages)"
   ]
  },
  {
   "cell_type": "code",
   "execution_count": 80,
   "id": "9ffaba8b",
   "metadata": {},
   "outputs": [
    {
     "name": "stdout",
     "output_type": "stream",
     "text": [
      "[1, 2, 4, 5]\n",
      "[1, 2, 4]\n",
      "[2, 4]\n"
     ]
    }
   ],
   "source": [
    "numbers=[1,2,3,4,5]\n",
    "del numbers[2]\n",
    "print(numbers)\n",
    "del numbers[-1]\n",
    "print(numbers)\n",
    "del numbers[0]\n",
    "print(numbers)"
   ]
  },
  {
   "cell_type": "code",
   "execution_count": 81,
   "id": "199871dc",
   "metadata": {},
   "outputs": [
    {
     "name": "stdout",
     "output_type": "stream",
     "text": [
      "List: []\n"
     ]
    }
   ],
   "source": [
    "list=[{1,2},('a'),['1.1','2.2']]\n",
    "del list[:]\n",
    "print('List:',list)"
   ]
  },
  {
   "cell_type": "code",
   "execution_count": null,
   "id": "529a179b",
   "metadata": {},
   "outputs": [],
   "source": []
  },
  {
   "cell_type": "markdown",
   "id": "de5bce81",
   "metadata": {},
   "source": [
    "### reverse()"
   ]
  },
  {
   "cell_type": "code",
   "execution_count": 82,
   "id": "3ef501c5",
   "metadata": {},
   "outputs": [
    {
     "name": "stdout",
     "output_type": "stream",
     "text": [
      "Original List: ['Windows', 'macOS', 'Linux']\n",
      "Updated List: ['Linux', 'macOS', 'Windows']\n"
     ]
    }
   ],
   "source": [
    "systems=['Windows','macOS','Linux']\n",
    "print('Original List:',systems)\n",
    "systems.reverse()\n",
    "print('Updated List:',systems)"
   ]
  },
  {
   "cell_type": "code",
   "execution_count": 83,
   "id": "0431ee54",
   "metadata": {},
   "outputs": [
    {
     "name": "stdout",
     "output_type": "stream",
     "text": [
      "Original List: ['Windows', 'macOS', 'Linux']\n",
      "Updated List: ['Linux', 'macOS', 'Windows']\n"
     ]
    }
   ],
   "source": [
    "systems=['Windows','macOS','Linux']\n",
    "print('Original List:',systems)\n",
    "reversed_list=systems[::-1]\n",
    "print('Updated List:',reversed_list)"
   ]
  },
  {
   "cell_type": "code",
   "execution_count": null,
   "id": "32073949",
   "metadata": {},
   "outputs": [],
   "source": []
  },
  {
   "cell_type": "markdown",
   "id": "df809e84",
   "metadata": {},
   "source": [
    "### sort()"
   ]
  },
  {
   "cell_type": "code",
   "execution_count": 84,
   "id": "4aba467b",
   "metadata": {},
   "outputs": [
    {
     "name": "stdout",
     "output_type": "stream",
     "text": [
      "Sorted list: ['a', 'e', 'i', 'o', 'u']\n"
     ]
    }
   ],
   "source": [
    "vowels=['e','a','u','o','i']\n",
    "vowels.sort()\n",
    "print('Sorted list:',vowels)"
   ]
  },
  {
   "cell_type": "code",
   "execution_count": 1,
   "id": "5f63b774",
   "metadata": {},
   "outputs": [
    {
     "name": "stdout",
     "output_type": "stream",
     "text": [
      "Sorted list: ['a', 'a', 'e', 'i', 'i', 'o', 'u']\n"
     ]
    }
   ],
   "source": [
    "vowels=['e','a','u','o','i', 'a', 'i']\n",
    "vowels.sort()\n",
    "print('Sorted list:',vowels)"
   ]
  },
  {
   "cell_type": "code",
   "execution_count": 85,
   "id": "3f3de789",
   "metadata": {},
   "outputs": [
    {
     "name": "stdout",
     "output_type": "stream",
     "text": [
      "Sorted list(in Descending): ['u', 'o', 'i', 'e', 'a']\n"
     ]
    }
   ],
   "source": [
    "vowels=['e','a','u','o','i']\n",
    "vowels.sort(reverse=True)\n",
    "print('Sorted list(in Descending):',vowels)"
   ]
  },
  {
   "cell_type": "code",
   "execution_count": 86,
   "id": "b0943dec",
   "metadata": {},
   "outputs": [
    {
     "name": "stdout",
     "output_type": "stream",
     "text": [
      "Sorted list: [(4, 1), (1, 2), (1, 3), (3, 4)]\n"
     ]
    }
   ],
   "source": [
    "def takeSecond(elem):\n",
    "    return elem[1]\n",
    "random=[(1,2),(3,4),(4,1),(1,3)]\n",
    "random.sort(key=takeSecond)\n",
    "print('Sorted list:',random)"
   ]
  },
  {
   "cell_type": "code",
   "execution_count": 2,
   "id": "61323813",
   "metadata": {},
   "outputs": [
    {
     "name": "stdout",
     "output_type": "stream",
     "text": [
      "Sorted list: [(4, 1), (1, 2), (1, 3), (3, 4)]\n"
     ]
    }
   ],
   "source": [
    "def takeFirst(elem):\n",
    "    return elem[1]\n",
    "random=[(1,2),(3,4),(4,1),(1,3)]\n",
    "random.sort(key=takeFirst)\n",
    "print('Sorted list:',random)"
   ]
  },
  {
   "cell_type": "markdown",
   "id": "3b2c0769",
   "metadata": {},
   "source": [
    "### copy()"
   ]
  },
  {
   "cell_type": "code",
   "execution_count": 87,
   "id": "ee9da434",
   "metadata": {},
   "outputs": [
    {
     "name": "stdout",
     "output_type": "stream",
     "text": [
      "Copied List: ['cat', 0.6, 7]\n"
     ]
    }
   ],
   "source": [
    "my_list=['cat',0.6,7]\n",
    "new_list=my_list.copy()\n",
    "print('Copied List:',new_list)"
   ]
  },
  {
   "cell_type": "code",
   "execution_count": 88,
   "id": "d459e278",
   "metadata": {},
   "outputs": [
    {
     "name": "stdout",
     "output_type": "stream",
     "text": [
      "New List: [1, 2, 3, 'a']\n",
      "Old List: [1, 2, 3, 'a']\n"
     ]
    }
   ],
   "source": [
    "old_list=[1,2,3]\n",
    "new_list=old_list\n",
    "new_list.append('a')\n",
    "print('New List:',new_list)\n",
    "print('Old List:',old_list)"
   ]
  },
  {
   "cell_type": "code",
   "execution_count": 89,
   "id": "2cb6da62",
   "metadata": {},
   "outputs": [
    {
     "name": "stdout",
     "output_type": "stream",
     "text": [
      "Old List: ['cat', 0, 6.7]\n",
      "New List: ['cat', 0, 6.7, 'dog']\n"
     ]
    }
   ],
   "source": [
    "list=['cat',0,6.7]\n",
    "new_list=list[:]\n",
    "new_list.append('dog')\n",
    "print('Old List:',list)\n",
    "print('New List:',new_list)"
   ]
  },
  {
   "cell_type": "code",
   "execution_count": null,
   "id": "8d4b32a5",
   "metadata": {},
   "outputs": [],
   "source": []
  },
  {
   "cell_type": "markdown",
   "id": "d89e9c1b",
   "metadata": {},
   "source": [
    "### clear()"
   ]
  },
  {
   "cell_type": "code",
   "execution_count": 90,
   "id": "8eb751f8",
   "metadata": {},
   "outputs": [
    {
     "name": "stdout",
     "output_type": "stream",
     "text": [
      "List: []\n"
     ]
    }
   ],
   "source": [
    "list=[{1,2},{'a'},['1.1','2.2']]\n",
    "list.clear()\n",
    "print('List:',list)"
   ]
  },
  {
   "cell_type": "code",
   "execution_count": 115,
   "id": "33ec310e",
   "metadata": {},
   "outputs": [
    {
     "name": "stdout",
     "output_type": "stream",
     "text": [
      "[15, 21, 2, 7, 8, 1]\n",
      "[15, 21, 2, 7, 8, 1, 83]\n",
      "[15, 21, 2, 7, 8, 548, 1, 83]\n",
      "[15, 21, 2, 548, 1, 83]\n"
     ]
    }
   ],
   "source": [
    "# list methods\n",
    "l1 = [1,8,7,2,21,15]\n",
    "# l1_sorted=l1.sort()\n",
    "# print(l1_sorted) # return none\n",
    "# l1.sort() #sorts the list\n",
    "# print(l1)\n",
    "\n",
    "l1.reverse() # reverses the list\n",
    "print(l1)\n",
    "\n",
    "l1.append(83) # adds at the end of the list\n",
    "print(l1)\n",
    "\n",
    "# l1.insert(0,548)\n",
    "# l1.insert(2,548)\n",
    "l1.insert(5,548)\n",
    "print(l1)\n",
    "# l1.insert(19,54)\n",
    "# print(l1)\n",
    "\n",
    "l1.remove(8) #removes 8 from list\n",
    "l1.pop(3)  #removes element at index 2\n",
    "print(l1)"
   ]
  },
  {
   "cell_type": "code",
   "execution_count": null,
   "id": "2f871468",
   "metadata": {},
   "outputs": [],
   "source": []
  },
  {
   "cell_type": "code",
   "execution_count": null,
   "id": "5ea565fb",
   "metadata": {},
   "outputs": [],
   "source": []
  },
  {
   "cell_type": "markdown",
   "id": "189bebea",
   "metadata": {},
   "source": [
    "# Membership in List"
   ]
  },
  {
   "cell_type": "code",
   "execution_count": 91,
   "id": "82ce9f78",
   "metadata": {},
   "outputs": [
    {
     "name": "stdout",
     "output_type": "stream",
     "text": [
      "True\n",
      "False\n"
     ]
    }
   ],
   "source": [
    "x=[10,20,30,40,50]\n",
    "a=20\n",
    "print(a in x)\n",
    "print(a not in x)"
   ]
  },
  {
   "cell_type": "code",
   "execution_count": null,
   "id": "973345d3",
   "metadata": {},
   "outputs": [],
   "source": []
  },
  {
   "cell_type": "markdown",
   "id": "78855447",
   "metadata": {},
   "source": [
    "# Slicing"
   ]
  },
  {
   "cell_type": "code",
   "execution_count": 92,
   "id": "83090601",
   "metadata": {},
   "outputs": [
    {
     "data": {
      "text/plain": [
       "[4, 5, 6, 7]"
      ]
     },
     "execution_count": 92,
     "metadata": {},
     "output_type": "execute_result"
    }
   ],
   "source": [
    "mylist=[0,1,2,3,4,5,6,7,8,9]\n",
    "mylist[4:8]"
   ]
  },
  {
   "cell_type": "code",
   "execution_count": 93,
   "id": "c7d89949",
   "metadata": {},
   "outputs": [
    {
     "name": "stdout",
     "output_type": "stream",
     "text": [
      "[5, 6, 7, 8, 9]\n"
     ]
    }
   ],
   "source": [
    "print(mylist[5:10])"
   ]
  },
  {
   "cell_type": "code",
   "execution_count": 94,
   "id": "0ed744af",
   "metadata": {},
   "outputs": [
    {
     "name": "stdout",
     "output_type": "stream",
     "text": [
      "['g']\n"
     ]
    }
   ],
   "source": [
    "names=['a','d','g','h']\n",
    "print(names[2:3])"
   ]
  },
  {
   "cell_type": "code",
   "execution_count": 95,
   "id": "1cb8df2d",
   "metadata": {},
   "outputs": [
    {
     "name": "stdout",
     "output_type": "stream",
     "text": [
      "['g', 'h']\n"
     ]
    }
   ],
   "source": [
    "print(names[2:4])"
   ]
  },
  {
   "cell_type": "code",
   "execution_count": 96,
   "id": "60fcab06",
   "metadata": {},
   "outputs": [
    {
     "name": "stdout",
     "output_type": "stream",
     "text": [
      "[5, 6, 7, 8, 9]\n"
     ]
    }
   ],
   "source": [
    "print(mylist[5:])"
   ]
  },
  {
   "cell_type": "code",
   "execution_count": 97,
   "id": "289e2d49",
   "metadata": {},
   "outputs": [
    {
     "name": "stdout",
     "output_type": "stream",
     "text": [
      "[0, 1, 2, 3, 4, 5, 6, 7, 8, 9]\n"
     ]
    }
   ],
   "source": [
    "print(mylist[:10])"
   ]
  },
  {
   "cell_type": "code",
   "execution_count": 98,
   "id": "66e7e4b1",
   "metadata": {},
   "outputs": [
    {
     "name": "stdout",
     "output_type": "stream",
     "text": [
      "[0, 1, 2, 3, 4]\n"
     ]
    }
   ],
   "source": [
    "print(mylist[:5])"
   ]
  },
  {
   "cell_type": "code",
   "execution_count": 99,
   "id": "040bf508",
   "metadata": {},
   "outputs": [
    {
     "name": "stdout",
     "output_type": "stream",
     "text": [
      "[0, 3, 6, 9]\n"
     ]
    }
   ],
   "source": [
    "print(mylist[0:10:3])"
   ]
  },
  {
   "cell_type": "code",
   "execution_count": 100,
   "id": "1f1f21ac",
   "metadata": {},
   "outputs": [
    {
     "name": "stdout",
     "output_type": "stream",
     "text": [
      "[0, 3, 6, 9]\n"
     ]
    }
   ],
   "source": [
    "print(mylist[::3])"
   ]
  },
  {
   "cell_type": "code",
   "execution_count": 101,
   "id": "1187f9f9",
   "metadata": {},
   "outputs": [
    {
     "name": "stdout",
     "output_type": "stream",
     "text": [
      "[9, 7, 5, 3, 1]\n"
     ]
    }
   ],
   "source": [
    "print(mylist[::-2])"
   ]
  },
  {
   "cell_type": "code",
   "execution_count": 102,
   "id": "b4ab82b9",
   "metadata": {},
   "outputs": [
    {
     "name": "stdout",
     "output_type": "stream",
     "text": [
      "[6, 7]\n"
     ]
    }
   ],
   "source": [
    "print(mylist[-4:-2])"
   ]
  },
  {
   "cell_type": "code",
   "execution_count": null,
   "id": "969e8e74",
   "metadata": {},
   "outputs": [],
   "source": []
  },
  {
   "cell_type": "markdown",
   "id": "a5eaebbe",
   "metadata": {},
   "source": [
    "# 2D List"
   ]
  },
  {
   "cell_type": "code",
   "execution_count": 103,
   "id": "b9fad38f",
   "metadata": {},
   "outputs": [
    {
     "name": "stdout",
     "output_type": "stream",
     "text": [
      "[[2, 4, 6, 8, 10], [3, 6, 9, 12, 15], [4, 8, 12, 16, 20]]\n"
     ]
    }
   ],
   "source": [
    "a=[[2,4,6,8,10],[3,6,9,12,15],[4,8,12,16,20]]\n",
    "print(a)"
   ]
  },
  {
   "cell_type": "code",
   "execution_count": 104,
   "id": "75b51465",
   "metadata": {},
   "outputs": [
    {
     "name": "stdout",
     "output_type": "stream",
     "text": [
      "[2, 4, 6, 8, 10]\n",
      "[3, 6, 9, 12, 15]\n",
      "[4, 8, 12, 16, 20]\n"
     ]
    }
   ],
   "source": [
    "# accessing with loop\n",
    "a=[[2,4,6,8,10],[3,6,9,12,15],[4,8,12,16,20]]\n",
    "for record in a:\n",
    "    print(record)"
   ]
  },
  {
   "cell_type": "code",
   "execution_count": 105,
   "id": "3d49cc10",
   "metadata": {},
   "outputs": [
    {
     "name": "stdout",
     "output_type": "stream",
     "text": [
      "2 \n",
      "4 \n",
      "6 \n",
      "8 \n",
      "1 \n",
      "3 \n",
      "5 \n",
      "7 \n",
      "8 \n",
      "6 \n",
      "4 \n",
      "2 \n",
      "7 \n",
      "5 \n",
      "3 \n",
      "1 \n"
     ]
    }
   ],
   "source": [
    "# accessing using square brackets\n",
    "a=[[2,4,6,8],\n",
    "  [1,3,5,7],\n",
    "  [8,6,4,2],\n",
    "  [7,5,3,1]]\n",
    "for i in range(len(a)):\n",
    "    for j in range(len(a[i])):\n",
    "        print(a[i][j],end=\" \")\n",
    "        print()"
   ]
  },
  {
   "cell_type": "code",
   "execution_count": 106,
   "id": "61e09e0c",
   "metadata": {},
   "outputs": [
    {
     "name": "stdout",
     "output_type": "stream",
     "text": [
      "[[0, 0, 0, 0, 0], [0, 0, 0, 0, 0], [0, 0, 0, 0, 0], [0, 0, 0, 0, 0]]\n"
     ]
    }
   ],
   "source": [
    "# creating multidimensional list with all zeros \n",
    "m=4\n",
    "n=5\n",
    "a=[[0 for x in range(n)]for x in range(m)]\n",
    "print(a)"
   ]
  },
  {
   "cell_type": "code",
   "execution_count": 107,
   "id": "29686f37",
   "metadata": {},
   "outputs": [
    {
     "name": "stdout",
     "output_type": "stream",
     "text": [
      "[[2, 4, 6, 8, 10], [3, 6, 9, 12, 15], [4, 8, 12, 16, 20], [5, 10, 15, 20, 25]]\n"
     ]
    }
   ],
   "source": [
    "# append()\n",
    "a=[[2,4,6,8,10],[3,6,9,12,15],[4,8,12,16,20]]\n",
    "a.append([5,10,15,20,25])\n",
    "print(a)"
   ]
  },
  {
   "cell_type": "code",
   "execution_count": 108,
   "id": "04c61676",
   "metadata": {},
   "outputs": [
    {
     "name": "stdout",
     "output_type": "stream",
     "text": [
      "[[2, 4, 6, 8, 10, 12, 14, 16, 18], [3, 6, 9, 12, 15], [4, 8, 12, 16, 20]]\n"
     ]
    }
   ],
   "source": [
    "# extend()\n",
    "a=[[2,4,6,8,10],[3,6,9,12,15],[4,8,12,16,20]]\n",
    "a[0].extend([12,14,16,18])\n",
    "print(a)"
   ]
  },
  {
   "cell_type": "code",
   "execution_count": 109,
   "id": "8b42cb92",
   "metadata": {},
   "outputs": [
    {
     "name": "stdout",
     "output_type": "stream",
     "text": [
      "[[2, 4, 6, 8, 10], [3, 6, 9, 12, 15], [20, 16, 12, 8, 4]]\n"
     ]
    }
   ],
   "source": [
    "# reverese()\n",
    "a=[[2,4,6,8,10],[3,6,9,12,15],[4,8,12,16,20]]\n",
    "a[2].reverse()\n",
    "print(a)"
   ]
  },
  {
   "cell_type": "code",
   "execution_count": null,
   "id": "08aabe59",
   "metadata": {},
   "outputs": [],
   "source": []
  },
  {
   "cell_type": "code",
   "execution_count": null,
   "id": "82b52262",
   "metadata": {},
   "outputs": [],
   "source": []
  },
  {
   "cell_type": "raw",
   "id": "a0129567",
   "metadata": {},
   "source": [
    "24/03/2022"
   ]
  },
  {
   "cell_type": "markdown",
   "id": "ea9aa099",
   "metadata": {},
   "source": [
    "# TUPLE "
   ]
  },
  {
   "cell_type": "code",
   "execution_count": 1,
   "id": "bae6d03f",
   "metadata": {},
   "outputs": [
    {
     "name": "stdout",
     "output_type": "stream",
     "text": [
      "1\n"
     ]
    }
   ],
   "source": [
    "# creating a tiple using a ()\n",
    "t = (1,2,4,5)\n",
    "\n",
    "# printing elements of tuple\n",
    "print(t[0])\n",
    "\n",
    "# can not update the value of tuple\n",
    "# t[0] = 32  # throws an error"
   ]
  },
  {
   "cell_type": "code",
   "execution_count": 2,
   "id": "bfa646b8",
   "metadata": {},
   "outputs": [
    {
     "name": "stdout",
     "output_type": "stream",
     "text": [
      "()\n",
      "<class 'tuple'>\n"
     ]
    }
   ],
   "source": [
    "t1 = () # empty tuple\n",
    "print(t1)\n",
    "print(type(t1))"
   ]
  },
  {
   "cell_type": "code",
   "execution_count": 3,
   "id": "33c6003c",
   "metadata": {},
   "outputs": [
    {
     "name": "stdout",
     "output_type": "stream",
     "text": [
      "()\n",
      "<class 'int'>\n"
     ]
    }
   ],
   "source": [
    "t2 = (2) # not a tuple\n",
    "print(t2)\n",
    "print(type(t2))"
   ]
  },
  {
   "cell_type": "code",
   "execution_count": 4,
   "id": "7e6d4d05",
   "metadata": {},
   "outputs": [
    {
     "name": "stdout",
     "output_type": "stream",
     "text": [
      "(1, 'Hello', 3.4)\n"
     ]
    }
   ],
   "source": [
    "my_tuple=(1,\"Hello\",3.4)\n",
    "print(my_tuple)"
   ]
  },
  {
   "cell_type": "code",
   "execution_count": 5,
   "id": "3902321d",
   "metadata": {},
   "outputs": [
    {
     "name": "stdout",
     "output_type": "stream",
     "text": [
      "('mouse', [8, 4, 6], (1, 2, 3))\n"
     ]
    }
   ],
   "source": [
    "my_tuple=(\"mouse\",[8,4,6],(1,2,3))\n",
    "print(my_tuple)"
   ]
  },
  {
   "cell_type": "code",
   "execution_count": 6,
   "id": "5dd23f7a",
   "metadata": {},
   "outputs": [
    {
     "name": "stdout",
     "output_type": "stream",
     "text": [
      "<class 'str'>\n"
     ]
    }
   ],
   "source": [
    "my_tuple=(\"hello\")\n",
    "print(type(my_tuple))"
   ]
  },
  {
   "cell_type": "code",
   "execution_count": 7,
   "id": "8f24eb4f",
   "metadata": {},
   "outputs": [
    {
     "name": "stdout",
     "output_type": "stream",
     "text": [
      "<class 'tuple'>\n"
     ]
    }
   ],
   "source": [
    "my_tuple=(\"hello\",)\n",
    "print(type(my_tuple))"
   ]
  },
  {
   "cell_type": "code",
   "execution_count": 8,
   "id": "d3e0128a",
   "metadata": {},
   "outputs": [
    {
     "name": "stdout",
     "output_type": "stream",
     "text": [
      "<class 'tuple'>\n"
     ]
    }
   ],
   "source": [
    "my_tuple=\"hello\",\n",
    "print(type(my_tuple))"
   ]
  },
  {
   "cell_type": "code",
   "execution_count": 11,
   "id": "20b10341",
   "metadata": {},
   "outputs": [
    {
     "name": "stdout",
     "output_type": "stream",
     "text": [
      "2\n",
      "0\n",
      "2\n"
     ]
    }
   ],
   "source": [
    "# creating tuple methods\n",
    "t = (1,2,3,4,5,3,2,7,8,1)\n",
    "print(t.count(1))\n",
    "\n",
    "print(t.index(1))\n",
    "print(t.index(3))"
   ]
  },
  {
   "cell_type": "code",
   "execution_count": 9,
   "id": "650bb1dc",
   "metadata": {},
   "outputs": [
    {
     "name": "stdout",
     "output_type": "stream",
     "text": [
      "p\n",
      "t\n"
     ]
    }
   ],
   "source": [
    "my_tuple=('p','e','r','m','i','t')\n",
    "print(my_tuple[0])\n",
    "print(my_tuple[5])"
   ]
  },
  {
   "cell_type": "code",
   "execution_count": 10,
   "id": "c55e8ccc",
   "metadata": {},
   "outputs": [
    {
     "name": "stdout",
     "output_type": "stream",
     "text": [
      "s\n",
      "4\n"
     ]
    }
   ],
   "source": [
    "n_tuple=(\"mouse\",[8,4,6],(1,2,3))\n",
    "print(n_tuple[0][3])\n",
    "print(n_tuple[1][1])"
   ]
  },
  {
   "cell_type": "code",
   "execution_count": 12,
   "id": "06b19947",
   "metadata": {},
   "outputs": [
    {
     "name": "stdout",
     "output_type": "stream",
     "text": [
      "t\n",
      "p\n"
     ]
    }
   ],
   "source": [
    "my_tuple=('p','e','r','m','i','t')\n",
    "print(my_tuple[-1])\n",
    "print(my_tuple[-6])"
   ]
  },
  {
   "cell_type": "code",
   "execution_count": 13,
   "id": "dccc446e",
   "metadata": {},
   "outputs": [
    {
     "name": "stdout",
     "output_type": "stream",
     "text": [
      "('e', 'l', 'c')\n",
      "()\n",
      "('m', 'e')\n",
      "('w', 'e', 'l', 'c', 'o', 'm', 'e')\n"
     ]
    }
   ],
   "source": [
    "my_tuple=('w','e','l','c','o','m','e')\n",
    "print(my_tuple[1:4])\n",
    "print(my_tuple[:-7])\n",
    "print(my_tuple[5:])\n",
    "print(my_tuple[:])"
   ]
  },
  {
   "cell_type": "code",
   "execution_count": 14,
   "id": "b819ef95",
   "metadata": {},
   "outputs": [
    {
     "name": "stdout",
     "output_type": "stream",
     "text": [
      "(4, 2, 3, [9, 5])\n",
      "('p', 'r', 'o', 'g', 'r', 'a', 'm', 'm', 'e', 'r', 's')\n"
     ]
    }
   ],
   "source": [
    "my_tuple=(4,2,3,[6,5])\n",
    "my_tuple[3][0]=9\n",
    "print(my_tuple)\n",
    "my_tuple=('p','r','o','g','r','a','m','m','e','r','s')\n",
    "print(my_tuple)"
   ]
  },
  {
   "cell_type": "code",
   "execution_count": 15,
   "id": "83c8ae3d",
   "metadata": {},
   "outputs": [
    {
     "name": "stdout",
     "output_type": "stream",
     "text": [
      "(1, 2, 3, 4, 5, 6)\n",
      "('Repeat', 'Repeat', 'Repeat')\n"
     ]
    }
   ],
   "source": [
    "print((1,2,3)+(4,5,6))\n",
    "print((\"Repeat\",)*3)"
   ]
  },
  {
   "cell_type": "code",
   "execution_count": 16,
   "id": "0c76d71f",
   "metadata": {},
   "outputs": [
    {
     "ename": "NameError",
     "evalue": "name 'my_tuple2' is not defined",
     "output_type": "error",
     "traceback": [
      "\u001b[1;31m---------------------------------------------------------------------------\u001b[0m",
      "\u001b[1;31mNameError\u001b[0m                                 Traceback (most recent call last)",
      "\u001b[1;32m~\\AppData\\Local\\Temp/ipykernel_8076/3950382447.py\u001b[0m in \u001b[0;36m<module>\u001b[1;34m\u001b[0m\n\u001b[0;32m      1\u001b[0m \u001b[0mmy_tuple2\u001b[0m\u001b[1;33m=\u001b[0m\u001b[1;33m(\u001b[0m\u001b[1;34m'p'\u001b[0m\u001b[1;33m,\u001b[0m\u001b[1;34m'r'\u001b[0m\u001b[1;33m,\u001b[0m\u001b[1;34m'o'\u001b[0m\u001b[1;33m,\u001b[0m\u001b[1;34m'g'\u001b[0m\u001b[1;33m,\u001b[0m\u001b[1;34m'r'\u001b[0m\u001b[1;33m,\u001b[0m\u001b[1;34m'a'\u001b[0m\u001b[1;33m,\u001b[0m\u001b[1;34m'm'\u001b[0m\u001b[1;33m)\u001b[0m\u001b[1;33m\u001b[0m\u001b[1;33m\u001b[0m\u001b[0m\n\u001b[0;32m      2\u001b[0m \u001b[1;32mdel\u001b[0m \u001b[0mmy_tuple2\u001b[0m\u001b[1;33m\u001b[0m\u001b[1;33m\u001b[0m\u001b[0m\n\u001b[1;32m----> 3\u001b[1;33m \u001b[0mprint\u001b[0m\u001b[1;33m(\u001b[0m\u001b[0mmy_tuple2\u001b[0m\u001b[1;33m)\u001b[0m\u001b[1;33m\u001b[0m\u001b[1;33m\u001b[0m\u001b[0m\n\u001b[0m",
      "\u001b[1;31mNameError\u001b[0m: name 'my_tuple2' is not defined"
     ]
    }
   ],
   "source": [
    "my_tuple2=('p','r','o','g','r','a','m')\n",
    "del my_tuple2\n",
    "print(my_tuple2)"
   ]
  },
  {
   "cell_type": "code",
   "execution_count": 17,
   "id": "793b0e05",
   "metadata": {},
   "outputs": [
    {
     "name": "stdout",
     "output_type": "stream",
     "text": [
      "#prime= 7\n",
      "#square= 6\n"
     ]
    }
   ],
   "source": [
    "Prime_numbers=[2,3,5,7,11,13,17]\n",
    "Perfect_Squares=(1,4,9,16,25,36)\n",
    "print(\"#prime=\",len(Prime_numbers))\n",
    "print(\"#square=\",len(Perfect_Squares))"
   ]
  },
  {
   "cell_type": "code",
   "execution_count": 18,
   "id": "9f7d1516",
   "metadata": {},
   "outputs": [
    {
     "name": "stdout",
     "output_type": "stream",
     "text": [
      "['__breakpointhook__', '__displayhook__', '__doc__', '__excepthook__', '__interactivehook__', '__loader__', '__name__', '__package__', '__spec__', '__stderr__', '__stdin__', '__stdout__', '__unraisablehook__', '_base_executable', '_clear_type_cache', '_current_frames', '_debugmallocstats', '_enablelegacywindowsfsencoding', '_framework', '_getframe', '_git', '_home', '_xoptions', 'addaudithook', 'api_version', 'argv', 'audit', 'base_exec_prefix', 'base_prefix', 'breakpointhook', 'builtin_module_names', 'byteorder', 'call_tracing', 'copyright', 'displayhook', 'dllhandle', 'dont_write_bytecode', 'exc_info', 'excepthook', 'exec_prefix', 'executable', 'exit', 'flags', 'float_info', 'float_repr_style', 'get_asyncgen_hooks', 'get_coroutine_origin_tracking_depth', 'getallocatedblocks', 'getdefaultencoding', 'getfilesystemencodeerrors', 'getfilesystemencoding', 'getprofile', 'getrecursionlimit', 'getrefcount', 'getsizeof', 'getswitchinterval', 'gettrace', 'getwindowsversion', 'hash_info', 'hexversion', 'implementation', 'int_info', 'intern', 'is_finalizing', 'last_traceback', 'last_type', 'last_value', 'maxsize', 'maxunicode', 'meta_path', 'modules', 'path', 'path_hooks', 'path_importer_cache', 'platform', 'platlibdir', 'prefix', 'ps1', 'ps2', 'ps3', 'pycache_prefix', 'set_asyncgen_hooks', 'set_coroutine_origin_tracking_depth', 'setprofile', 'setrecursionlimit', 'setswitchinterval', 'settrace', 'stderr', 'stdin', 'stdout', 'thread_info', 'unraisablehook', 'version', 'version_info', 'warnoptions', 'winver']\n"
     ]
    }
   ],
   "source": [
    "import sys\n",
    "print(dir(sys))"
   ]
  },
  {
   "cell_type": "code",
   "execution_count": 19,
   "id": "bfca878c",
   "metadata": {},
   "outputs": [
    {
     "name": "stdout",
     "output_type": "stream",
     "text": [
      "List_size= 120\n",
      "Tuple_eg= 120\n"
     ]
    }
   ],
   "source": [
    "List_eg=[1,2,3,\"a\",\"b\",\"c\",True,3.14159]\n",
    "Tuple_eg=[1,2,3,\"a\",\"b\",\"c\",True,3.14159]\n",
    "print(\"List_size=\",sys.getsizeof(List_eg))\n",
    "print(\"Tuple_eg=\",sys.getsizeof(Tuple_eg))"
   ]
  },
  {
   "cell_type": "code",
   "execution_count": 20,
   "id": "315f272e",
   "metadata": {},
   "outputs": [
    {
     "name": "stdout",
     "output_type": "stream",
     "text": [
      "Enter fruit number 1: apple\n",
      "Enter fruit number 2: orange\n",
      "Enter fruit number 3: grapes\n",
      "Enter fruit number 4: mango\\\n",
      "Enter fruit number 5: banana\n",
      "Enter fruit number 6: guava\n",
      "Enter fruit number 7: apple\n",
      "['apple', 'orange', 'grapes', 'mango\\\\', 'banana', 'guava', 'apple']\n"
     ]
    }
   ],
   "source": [
    "f1 = input(\"Enter fruit number 1: \")\n",
    "f2 = input(\"Enter fruit number 2: \")\n",
    "f3 = input(\"Enter fruit number 3: \")\n",
    "f4 = input(\"Enter fruit number 4: \")\n",
    "f5 = input(\"Enter fruit number 5: \")\n",
    "f6 = input(\"Enter fruit number 6: \")\n",
    "f7 = input(\"Enter fruit number 7: \")\n",
    "\n",
    "myFruitList = [f1,f2,f3,f4,f5,f6,f7]\n",
    "print(myFruitList)"
   ]
  },
  {
   "cell_type": "code",
   "execution_count": 21,
   "id": "072a71fa",
   "metadata": {},
   "outputs": [
    {
     "ename": "SyntaxError",
     "evalue": "cannot assign to function call (Temp/ipykernel_8076/3503195009.py, line 2)",
     "output_type": "error",
     "traceback": [
      "\u001b[1;36m  File \u001b[1;32m\"C:\\Users\\iasms\\AppData\\Local\\Temp/ipykernel_8076/3503195009.py\"\u001b[1;36m, line \u001b[1;32m2\u001b[0m\n\u001b[1;33m    a(0) = 34\u001b[0m\n\u001b[1;37m    ^\u001b[0m\n\u001b[1;31mSyntaxError\u001b[0m\u001b[1;31m:\u001b[0m cannot assign to function call\n"
     ]
    }
   ],
   "source": [
    "a = (2,4,5,7,3.9)\n",
    "a(0) = 34\n",
    "print(a)"
   ]
  },
  {
   "cell_type": "code",
   "execution_count": 22,
   "id": "a94275ad",
   "metadata": {},
   "outputs": [
    {
     "name": "stdout",
     "output_type": "stream",
     "text": [
      "64\n"
     ]
    }
   ],
   "source": [
    "a = [2,4,56,2]\n",
    "# print(a[0] + a[1] + a[2] + a[3])\n",
    "print(sum(a))"
   ]
  },
  {
   "cell_type": "code",
   "execution_count": 23,
   "id": "cf5f99b4",
   "metadata": {},
   "outputs": [
    {
     "name": "stdout",
     "output_type": "stream",
     "text": [
      "3\n"
     ]
    }
   ],
   "source": [
    "a = (7,0,8,0,0,9)\n",
    "print(a.count(0))"
   ]
  },
  {
   "cell_type": "code",
   "execution_count": null,
   "id": "b835fa6d",
   "metadata": {},
   "outputs": [],
   "source": []
  },
  {
   "cell_type": "markdown",
   "id": "82a622a6",
   "metadata": {},
   "source": [
    "### SET"
   ]
  },
  {
   "cell_type": "code",
   "execution_count": 24,
   "id": "1adc0303",
   "metadata": {},
   "outputs": [
    {
     "name": "stdout",
     "output_type": "stream",
     "text": [
      "{1, 2, 3}\n",
      "{1.0, (1, 2, 3), 'Hello'}\n"
     ]
    }
   ],
   "source": [
    "my_set={1,2,3}\n",
    "print(my_set)\n",
    "my_set={1.0,\"Hello\",(1,2,3)}\n",
    "print(my_set)"
   ]
  },
  {
   "cell_type": "code",
   "execution_count": 25,
   "id": "f72d320b",
   "metadata": {},
   "outputs": [
    {
     "name": "stdout",
     "output_type": "stream",
     "text": [
      "{1, 2, 3, 4}\n"
     ]
    }
   ],
   "source": [
    "my_set={1,2,3,4,3,2}\n",
    "print(my_set)"
   ]
  },
  {
   "cell_type": "code",
   "execution_count": 26,
   "id": "44e71855",
   "metadata": {},
   "outputs": [
    {
     "name": "stdout",
     "output_type": "stream",
     "text": [
      "{1, 2, 3}\n"
     ]
    }
   ],
   "source": [
    "my_set=set([1,2,3,2])\n",
    "print(my_set)"
   ]
  },
  {
   "cell_type": "code",
   "execution_count": 27,
   "id": "04a5499a",
   "metadata": {},
   "outputs": [
    {
     "ename": "TypeError",
     "evalue": "unhashable type: 'list'",
     "output_type": "error",
     "traceback": [
      "\u001b[1;31m---------------------------------------------------------------------------\u001b[0m",
      "\u001b[1;31mTypeError\u001b[0m                                 Traceback (most recent call last)",
      "\u001b[1;32m~\\AppData\\Local\\Temp/ipykernel_8076/2515767975.py\u001b[0m in \u001b[0;36m<module>\u001b[1;34m\u001b[0m\n\u001b[1;32m----> 1\u001b[1;33m \u001b[0mmy_set\u001b[0m\u001b[1;33m=\u001b[0m\u001b[1;33m{\u001b[0m\u001b[1;36m1\u001b[0m\u001b[1;33m,\u001b[0m\u001b[1;36m2\u001b[0m\u001b[1;33m,\u001b[0m\u001b[1;33m[\u001b[0m\u001b[1;36m3\u001b[0m\u001b[1;33m,\u001b[0m\u001b[1;36m4\u001b[0m\u001b[1;33m]\u001b[0m\u001b[1;33m}\u001b[0m\u001b[1;33m\u001b[0m\u001b[1;33m\u001b[0m\u001b[0m\n\u001b[0m\u001b[0;32m      2\u001b[0m \u001b[0mprint\u001b[0m\u001b[1;33m(\u001b[0m\u001b[0mmy_set\u001b[0m\u001b[1;33m)\u001b[0m\u001b[1;33m\u001b[0m\u001b[1;33m\u001b[0m\u001b[0m\n",
      "\u001b[1;31mTypeError\u001b[0m: unhashable type: 'list'"
     ]
    }
   ],
   "source": [
    "my_set={1,2,[3,4]}\n",
    "print(my_set)"
   ]
  },
  {
   "cell_type": "code",
   "execution_count": 28,
   "id": "e373deaf",
   "metadata": {},
   "outputs": [
    {
     "name": "stdout",
     "output_type": "stream",
     "text": [
      "<class 'set'>\n"
     ]
    }
   ],
   "source": [
    "a=set()\n",
    "print(type(a))"
   ]
  },
  {
   "cell_type": "code",
   "execution_count": 29,
   "id": "ee2eaf91",
   "metadata": {},
   "outputs": [
    {
     "name": "stdout",
     "output_type": "stream",
     "text": [
      "{1, 3}\n",
      "{1, 2, 3}\n",
      "{1, 2, 3, 4}\n",
      "{1, 2, 3, 4, 5, 6, 8}\n"
     ]
    }
   ],
   "source": [
    "my_set={1,3}\n",
    "print(my_set)\n",
    "my_set.add(2)\n",
    "print(my_set)\n",
    "my_set.update([2,3,4])\n",
    "print(my_set)\n",
    "my_set.update([4,5],{1,6,8})\n",
    "print(my_set)"
   ]
  },
  {
   "cell_type": "code",
   "execution_count": 30,
   "id": "67bf59fc",
   "metadata": {},
   "outputs": [
    {
     "name": "stdout",
     "output_type": "stream",
     "text": [
      "{1, 2, 3, 4, 5, 6}\n",
      "{1, 2, 3, 5, 6}\n",
      "{1, 2, 3, 5}\n",
      "{1, 3, 5}\n"
     ]
    },
    {
     "ename": "KeyError",
     "evalue": "2",
     "output_type": "error",
     "traceback": [
      "\u001b[1;31m---------------------------------------------------------------------------\u001b[0m",
      "\u001b[1;31mKeyError\u001b[0m                                  Traceback (most recent call last)",
      "\u001b[1;32m~\\AppData\\Local\\Temp/ipykernel_8076/3943848647.py\u001b[0m in \u001b[0;36m<module>\u001b[1;34m\u001b[0m\n\u001b[0;32m      7\u001b[0m \u001b[0mmy_set\u001b[0m\u001b[1;33m.\u001b[0m\u001b[0mdiscard\u001b[0m\u001b[1;33m(\u001b[0m\u001b[1;36m2\u001b[0m\u001b[1;33m)\u001b[0m\u001b[1;33m\u001b[0m\u001b[1;33m\u001b[0m\u001b[0m\n\u001b[0;32m      8\u001b[0m \u001b[0mprint\u001b[0m\u001b[1;33m(\u001b[0m\u001b[0mmy_set\u001b[0m\u001b[1;33m)\u001b[0m\u001b[1;33m\u001b[0m\u001b[1;33m\u001b[0m\u001b[0m\n\u001b[1;32m----> 9\u001b[1;33m \u001b[0mmy_set\u001b[0m\u001b[1;33m.\u001b[0m\u001b[0mremove\u001b[0m\u001b[1;33m(\u001b[0m\u001b[1;36m2\u001b[0m\u001b[1;33m)\u001b[0m\u001b[1;33m\u001b[0m\u001b[1;33m\u001b[0m\u001b[0m\n\u001b[0m",
      "\u001b[1;31mKeyError\u001b[0m: 2"
     ]
    }
   ],
   "source": [
    "my_set={1,2,3,4,5,6}\n",
    "print(my_set)\n",
    "my_set.discard(4)\n",
    "print(my_set)\n",
    "my_set.remove(6)\n",
    "print(my_set)\n",
    "my_set.discard(2)\n",
    "print(my_set)\n",
    "my_set.remove(2)"
   ]
  },
  {
   "cell_type": "code",
   "execution_count": 31,
   "id": "4a639ac3",
   "metadata": {},
   "outputs": [
    {
     "name": "stdout",
     "output_type": "stream",
     "text": [
      "A= {'b', 1, 2, 3, 'a'}\n",
      "result= None\n"
     ]
    }
   ],
   "source": [
    "A={'a','b'}\n",
    "B={1,2,3}\n",
    "result=A.update(B)\n",
    "print('A=',A)\n",
    "print('result=',result)"
   ]
  },
  {
   "cell_type": "code",
   "execution_count": 32,
   "id": "2bef839c",
   "metadata": {},
   "outputs": [
    {
     "name": "stdout",
     "output_type": "stream",
     "text": [
      "A U B = {2, 'c', 'd', 'a'}\n",
      "B U C = {1, 2, 3, 'd', 'c'}\n",
      "A U B U C = {1, 2, 'c', 3, 'd', 'a'}\n",
      "A.union()= {'d', 'a', 'c'}\n"
     ]
    }
   ],
   "source": [
    "A={'a','c','d'}\n",
    "B={'c','d',2}\n",
    "C={1,2,3}\n",
    "print('A U B =',A.union(B))\n",
    "print('B U C =',B.union(C))\n",
    "print('A U B U C =',A.union(B,C))\n",
    "print('A.union()=',A.union())"
   ]
  },
  {
   "cell_type": "code",
   "execution_count": 33,
   "id": "b5fac15a",
   "metadata": {},
   "outputs": [
    {
     "name": "stdout",
     "output_type": "stream",
     "text": [
      "A U B = {2, 'c', 'd', 'a'}\n",
      "B U C = {1, 2, 3, 'd', 'c'}\n",
      "A U B U C = {1, 2, 'c', 3, 'd', 'a'}\n"
     ]
    }
   ],
   "source": [
    "A={'a','c','d'}\n",
    "B={'c','d',2}\n",
    "C={1,2,3}\n",
    "print('A U B =',A|B)\n",
    "print('B U C =',B|C)\n",
    "print('A U B U C =',A|B|C)"
   ]
  },
  {
   "cell_type": "code",
   "execution_count": 34,
   "id": "5639646b",
   "metadata": {},
   "outputs": [
    {
     "name": "stdout",
     "output_type": "stream",
     "text": [
      "{2, 5}\n",
      "{2}\n",
      "{2, 3}\n",
      "{2}\n"
     ]
    }
   ],
   "source": [
    "A={2,3,5,4}\n",
    "B={2,5,100}\n",
    "C={2,3,8,9,10}\n",
    "print(B.intersection(A))\n",
    "print(B.intersection(C))\n",
    "print(A.intersection(C))\n",
    "print(C.intersection(A,B))"
   ]
  },
  {
   "cell_type": "code",
   "execution_count": 35,
   "id": "c33ab0af",
   "metadata": {},
   "outputs": [
    {
     "name": "stdout",
     "output_type": "stream",
     "text": [
      "{7}\n",
      "{100}\n",
      "set()\n",
      "set()\n"
     ]
    }
   ],
   "source": [
    "A = {100,7,8}\n",
    "B = {200,4,5}\n",
    "C = {300,2,3,7}\n",
    "D = {100,200,300}\n",
    "print(A & C)\n",
    "print(A & D)\n",
    "print(A & C & D)\n",
    "print(A & B & C & D)"
   ]
  },
  {
   "cell_type": "code",
   "execution_count": 36,
   "id": "97190c42",
   "metadata": {},
   "outputs": [
    {
     "name": "stdout",
     "output_type": "stream",
     "text": [
      "{'b', 'd', 'a'}\n",
      "{'f', 'g'}\n"
     ]
    }
   ],
   "source": [
    "A = {'a','b','c','d'}\n",
    "B = {'c','f','g'}\n",
    "print(A.difference(B))\n",
    "print(B.difference(A))"
   ]
  },
  {
   "cell_type": "code",
   "execution_count": 37,
   "id": "5df838af",
   "metadata": {},
   "outputs": [
    {
     "name": "stdout",
     "output_type": "stream",
     "text": [
      "{'b', 'd', 'a'}\n",
      "{'f', 'g'}\n"
     ]
    }
   ],
   "source": [
    "A = {'a','b','c','d'}\n",
    "B = {'c','f','g'}\n",
    "print(A-B)\n",
    "print(B-A)"
   ]
  },
  {
   "cell_type": "code",
   "execution_count": 38,
   "id": "b012e99e",
   "metadata": {},
   "outputs": [
    {
     "name": "stdout",
     "output_type": "stream",
     "text": [
      "{'e', 'a', 'b'}\n",
      "{'b', 'e', 'a'}\n",
      "{'b', 'd', 'c', 'a'}\n",
      "{'d', 'e', 'c'}\n"
     ]
    }
   ],
   "source": [
    "A = {'a','b','c','d'}\n",
    "B = {'c','d','e'}\n",
    "C = {}\n",
    "print(A.symmetric_difference(B))\n",
    "print(B.symmetric_difference(A))\n",
    "print(A.symmetric_difference(C))\n",
    "print(B.symmetric_difference(C))"
   ]
  },
  {
   "cell_type": "code",
   "execution_count": 39,
   "id": "ec3efcd8",
   "metadata": {},
   "outputs": [
    {
     "name": "stdout",
     "output_type": "stream",
     "text": [
      "{'e', 'a', 'b'}\n",
      "{'b', 'e', 'a'}\n",
      "set()\n",
      "set()\n"
     ]
    }
   ],
   "source": [
    "A={'a','b','c','d'}\n",
    "B={'c','d','e'}\n",
    "print(A^B)\n",
    "print(B^A)\n",
    "print(A^A)\n",
    "print(B^B)"
   ]
  },
  {
   "cell_type": "code",
   "execution_count": 40,
   "id": "2e52ddd7",
   "metadata": {},
   "outputs": [
    {
     "name": "stdout",
     "output_type": "stream",
     "text": [
      "True\n",
      "False\n",
      "False\n",
      "True\n"
     ]
    }
   ],
   "source": [
    "A={1,2,3}\n",
    "B={1,2,3,4,5}\n",
    "C={1,2,4,5}\n",
    "print(A.issubset(B))\n",
    "print(B.issubset(A))\n",
    "print(A.issubset(C))\n",
    "print(C.issubset(B))"
   ]
  },
  {
   "cell_type": "code",
   "execution_count": 41,
   "id": "4cadecb5",
   "metadata": {},
   "outputs": [
    {
     "name": "stdout",
     "output_type": "stream",
     "text": [
      "Are A and B disjoint? True\n",
      "Are A and C disjoint? False\n"
     ]
    }
   ],
   "source": [
    "A={1,2,3,4}\n",
    "B={5,6,7}\n",
    "C={4,5,6}\n",
    "print('Are A and B disjoint?',A.isdisjoint(B))\n",
    "print('Are A and C disjoint?',A.isdisjoint(C))"
   ]
  },
  {
   "cell_type": "code",
   "execution_count": 42,
   "id": "c807e781",
   "metadata": {},
   "outputs": [
    {
     "name": "stdout",
     "output_type": "stream",
     "text": [
      "1947123608624\n",
      "1947123608624\n"
     ]
    }
   ],
   "source": [
    "# identity operator(to know the memory location)\n",
    "a=25\n",
    "b=25\n",
    "print(id(a))\n",
    "print(id(b))"
   ]
  },
  {
   "cell_type": "code",
   "execution_count": 43,
   "id": "91afd3cf",
   "metadata": {},
   "outputs": [
    {
     "ename": "SyntaxError",
     "evalue": "'return' outside function (Temp/ipykernel_8076/348239903.py, line 4)",
     "output_type": "error",
     "traceback": [
      "\u001b[1;36m  File \u001b[1;32m\"C:\\Users\\iasms\\AppData\\Local\\Temp/ipykernel_8076/348239903.py\"\u001b[1;36m, line \u001b[1;32m4\u001b[0m\n\u001b[1;33m    return false\u001b[0m\n\u001b[1;37m    ^\u001b[0m\n\u001b[1;31mSyntaxError\u001b[0m\u001b[1;31m:\u001b[0m 'return' outside function\n"
     ]
    }
   ],
   "source": [
    "a=25\n",
    "b=25\n",
    "if(a is b):\n",
    "    return false"
   ]
  },
  {
   "cell_type": "code",
   "execution_count": null,
   "id": "a277fbb3",
   "metadata": {},
   "outputs": [],
   "source": []
  },
  {
   "cell_type": "markdown",
   "id": "8ad99744",
   "metadata": {},
   "source": [
    "### Dictionary "
   ]
  },
  {
   "cell_type": "code",
   "execution_count": 44,
   "id": "776864bc",
   "metadata": {},
   "outputs": [
    {
     "name": "stdout",
     "output_type": "stream",
     "text": [
      "In a quick Manner\n",
      "A coder\n",
      "[1, 2, 5]\n"
     ]
    }
   ],
   "source": [
    "myDict = {\n",
    "    \"Fast\": \"In a quick Manner\",\n",
    "    \"Smruti\": \"A coder\",\n",
    "    \"Marks\" : [1,2,5]\n",
    "}\n",
    "print(myDict['Fast'])\n",
    "print(myDict['Smruti'])\n",
    "print(myDict['Marks'])"
   ]
  },
  {
   "cell_type": "code",
   "execution_count": 45,
   "id": "6b18f34c",
   "metadata": {},
   "outputs": [
    {
     "name": "stdout",
     "output_type": "stream",
     "text": [
      "Jack\n",
      "26\n",
      "None\n",
      "{'name': 'Jack', 'age': 26}\n"
     ]
    }
   ],
   "source": [
    "my_dict={'name':'Jack','age':26}\n",
    "print(my_dict['name'])\n",
    "print(my_dict.get('age'))\n",
    "print(my_dict.get('address'))\n",
    "print(my_dict)"
   ]
  },
  {
   "cell_type": "code",
   "execution_count": 46,
   "id": "10dd49a9",
   "metadata": {},
   "outputs": [
    {
     "name": "stdout",
     "output_type": "stream",
     "text": [
      "{'name': 'Jack', 'age': 27}\n",
      "{'name': 'Jack', 'age': 27, 'address': 'Downtown'}\n"
     ]
    }
   ],
   "source": [
    "my_dict={'name':'Jack','age':'26'}\n",
    "my_dict['age']=27\n",
    "print(my_dict)\n",
    "my_dict['address']='Downtown'\n",
    "print(my_dict)"
   ]
  },
  {
   "cell_type": "code",
   "execution_count": 47,
   "id": "7e759abf",
   "metadata": {},
   "outputs": [
    {
     "name": "stdout",
     "output_type": "stream",
     "text": [
      "16\n",
      "{1: 1, 2: 4, 3: 9, 5: 25}\n",
      "(5, 25)\n",
      "{1: 1, 2: 4, 3: 9}\n",
      "{}\n"
     ]
    }
   ],
   "source": [
    "squares={1:1,2:4,3:9,4:16,5:25}\n",
    "print(squares.pop(4))\n",
    "print(squares)\n",
    "print(squares.popitem())\n",
    "print(squares)\n",
    "squares.clear()\n",
    "print(squares)\n",
    "# del squares\n",
    "# print(squares)"
   ]
  },
  {
   "cell_type": "code",
   "execution_count": 48,
   "id": "5ffde0c8",
   "metadata": {},
   "outputs": [
    {
     "name": "stdout",
     "output_type": "stream",
     "text": [
      "{'e': None, 'o': None, 'i': None, 'u': None, 'a': None}\n"
     ]
    }
   ],
   "source": [
    "# fromkeys()\n",
    "keys={'a','e','i','o','u'}\n",
    "vowels=dict.fromkeys(keys)\n",
    "print(vowels)"
   ]
  },
  {
   "cell_type": "code",
   "execution_count": 49,
   "id": "087e5bf0",
   "metadata": {},
   "outputs": [
    {
     "name": "stdout",
     "output_type": "stream",
     "text": [
      "{'e': [1], 'o': [1], 'i': [1], 'u': [1], 'a': [1]}\n",
      "{'e': [1, 2], 'o': [1, 2], 'i': [1, 2], 'u': [1, 2], 'a': [1, 2]}\n"
     ]
    }
   ],
   "source": [
    "keys={'a','e','i','o','u'}\n",
    "value=[1]\n",
    "vowels=dict.fromkeys(keys,value)\n",
    "print(vowels)\n",
    "value.append(2)\n",
    "print(vowels)"
   ]
  },
  {
   "cell_type": "code",
   "execution_count": 50,
   "id": "7672a494",
   "metadata": {},
   "outputs": [
    {
     "name": "stdout",
     "output_type": "stream",
     "text": [
      "82\n"
     ]
    }
   ],
   "source": [
    "# get()\n",
    "marks={'Physics':82,'Maths':87}\n",
    "print(marks.get('Physics'))"
   ]
  },
  {
   "cell_type": "code",
   "execution_count": 51,
   "id": "ca41c0be",
   "metadata": {},
   "outputs": [
    {
     "name": "stdout",
     "output_type": "stream",
     "text": [
      "dict_items([('apple', 2), ('orange', 3), ('grapes', 4)])\n"
     ]
    }
   ],
   "source": [
    "# item()\n",
    "sales={'apple':2,'orange':3,'grapes':4}\n",
    "print(sales.items())"
   ]
  },
  {
   "cell_type": "code",
   "execution_count": 52,
   "id": "4d613eca",
   "metadata": {},
   "outputs": [
    {
     "name": "stdout",
     "output_type": "stream",
     "text": [
      "Original items: dict_items([('apple', 2), ('orange', 3), ('grapes', 4)])\n",
      "Updated items: dict_items([('orange', 3), ('grapes', 4)])\n"
     ]
    }
   ],
   "source": [
    "sales={'apple':2,'orange':3,'grapes':4}\n",
    "items=sales.items()\n",
    "print('Original items:',items)\n",
    "del[sales['apple']]\n",
    "print('Updated items:',items)"
   ]
  },
  {
   "cell_type": "code",
   "execution_count": 53,
   "id": "59a027d0",
   "metadata": {},
   "outputs": [
    {
     "name": "stdout",
     "output_type": "stream",
     "text": [
      "dict_keys(['name', 'age', 'salary'])\n",
      "<built-in method keys of dict object at 0x000001C55E67E2C0>\n"
     ]
    }
   ],
   "source": [
    "# keys()\n",
    "person={'name':'Phill','age':22,'salary':3500.00}\n",
    "print(person.keys())\n",
    "empty_dict={}\n",
    "print(empty_dict.keys)"
   ]
  },
  {
   "cell_type": "code",
   "execution_count": 56,
   "id": "f45d2d97",
   "metadata": {},
   "outputs": [
    {
     "name": "stdout",
     "output_type": "stream",
     "text": [
      "Before the dictionary is updated\n",
      "dict_keys(['name', 'age'])\n",
      "{'name': 'Phill', 'age': 22}\n",
      "\n",
      " After the dictionary is updated\n",
      "dict_keys(['name', 'age', 'salary'])\n",
      "{'name': 'Phill', 'age': 22, 'salary': 3500.0}\n"
     ]
    }
   ],
   "source": [
    "person={'name':'Phill','age':22}\n",
    "print('Before the dictionary is updated')\n",
    "keys=person.keys()\n",
    "print(keys)\n",
    "print(person)\n",
    "person.update({'salary':3500.0})\n",
    "print(\"\\n After the dictionary is updated\")\n",
    "print(keys)\n",
    "print(person)"
   ]
  },
  {
   "cell_type": "code",
   "execution_count": 57,
   "id": "d1533457",
   "metadata": {},
   "outputs": [
    {
     "name": "stdout",
     "output_type": "stream",
     "text": [
      "Original items: dict_values([2, 3, 4])\n",
      "Updated items: dict_values([3, 4])\n"
     ]
    }
   ],
   "source": [
    "# values()\n",
    "sales={'apple':2,'orange':3,'grapes':4}\n",
    "values=sales.values()\n",
    "print('Original items:',values)\n",
    "del[sales['apple']]\n",
    "print('Updated items:',values)"
   ]
  },
  {
   "cell_type": "code",
   "execution_count": 58,
   "id": "91661642",
   "metadata": {},
   "outputs": [
    {
     "name": "stdout",
     "output_type": "stream",
     "text": [
      "True\n",
      "False\n",
      "False\n",
      "False\n",
      "True\n"
     ]
    }
   ],
   "source": [
    "# all()\n",
    "l=[1,3,4,5]\n",
    "print(all(l))\n",
    "\n",
    "l=[0,False]\n",
    "print(all(l))\n",
    "\n",
    "l=[1,3,4,0]\n",
    "print(all(l))\n",
    "\n",
    "l=[0,False,5]\n",
    "print(all(l))\n",
    "\n",
    "l=[]\n",
    "print(all(l))"
   ]
  },
  {
   "cell_type": "code",
   "execution_count": 59,
   "id": "4f14b495",
   "metadata": {},
   "outputs": [
    {
     "name": "stdout",
     "output_type": "stream",
     "text": [
      "True\n",
      "True\n",
      "True\n"
     ]
    }
   ],
   "source": [
    "s=\"This is good\"\n",
    "print(all(s))\n",
    "s='ooo'\n",
    "print(all(s))\n",
    "s=\"\"\n",
    "print(all(s))"
   ]
  },
  {
   "cell_type": "code",
   "execution_count": 60,
   "id": "ee857739",
   "metadata": {},
   "outputs": [
    {
     "name": "stdout",
     "output_type": "stream",
     "text": [
      "False\n",
      "True\n",
      "False\n",
      "True\n",
      "False\n"
     ]
    }
   ],
   "source": [
    "s={0:'False',1:'False'}\n",
    "print(all(s))\n",
    "s={1:'True',1:'True'}\n",
    "print(all(s))\n",
    "s={1:'True',False:0}\n",
    "print(all(s))\n",
    "s={}\n",
    "print(all(s))\n",
    "s={0:'True'}\n",
    "print(all(s))"
   ]
  },
  {
   "cell_type": "code",
   "execution_count": 61,
   "id": "da38ca5a",
   "metadata": {},
   "outputs": [
    {
     "name": "stdout",
     "output_type": "stream",
     "text": [
      "True\n",
      "False\n",
      "True\n",
      "False\n"
     ]
    }
   ],
   "source": [
    "# any()\n",
    "l=[1,3,4,0]\n",
    "print(any(l))\n",
    "l=[0,False]\n",
    "print(any(l))\n",
    "l=[0,False,5]\n",
    "print(any(l))\n",
    "l=[]\n",
    "print(any(l))"
   ]
  },
  {
   "cell_type": "code",
   "execution_count": 62,
   "id": "49ea6e7e",
   "metadata": {},
   "outputs": [
    {
     "name": "stdout",
     "output_type": "stream",
     "text": [
      "True\n",
      "True\n",
      "False\n"
     ]
    }
   ],
   "source": [
    "s=\"This is good\"\n",
    "print(any(s))\n",
    "s='000'\n",
    "print(any(s))\n",
    "s=\"\"\n",
    "print(any(s))"
   ]
  },
  {
   "cell_type": "code",
   "execution_count": 63,
   "id": "15128b3b",
   "metadata": {},
   "outputs": [
    {
     "name": "stdout",
     "output_type": "stream",
     "text": [
      "False\n",
      "True\n",
      "False\n",
      "False\n",
      "True\n"
     ]
    }
   ],
   "source": [
    "d={0:'False'}\n",
    "print(any(d))\n",
    "d={0:'False',1:'True'}\n",
    "print(any(d))\n",
    "d={0:'False',False:0}\n",
    "print(any(d))\n",
    "d={}\n",
    "print(any(d))\n",
    "d={'0':'False'}\n",
    "print(any(d))"
   ]
  },
  {
   "cell_type": "code",
   "execution_count": null,
   "id": "e49623a5",
   "metadata": {},
   "outputs": [],
   "source": []
  },
  {
   "cell_type": "code",
   "execution_count": null,
   "id": "5e58b9d3",
   "metadata": {},
   "outputs": [],
   "source": []
  },
  {
   "cell_type": "markdown",
   "id": "ee8cc0ae",
   "metadata": {},
   "source": [
    "# Control Statement "
   ]
  },
  {
   "cell_type": "code",
   "execution_count": 64,
   "id": "e37674ca",
   "metadata": {},
   "outputs": [
    {
     "name": "stdout",
     "output_type": "stream",
     "text": [
      "The value of a is greater than 3\n",
      "Done\n"
     ]
    }
   ],
   "source": [
    "a = 45\n",
    "if(a>3):\n",
    "    print(\"The value of a is greater than 3\")\n",
    "elif(a>7):\n",
    "    print(\"The value of a is greater than 7\")\n",
    "elif(a>13):\n",
    "    print(\"The value of a is greater than 13\")\n",
    "elif(a>17):\n",
    "    print(\"The value of a is greater than 17\")\n",
    "else:\n",
    "    print(\"Yhe value of a is not greater than 3 or 7\")\n",
    "    \n",
    "print(\"Done\")"
   ]
  },
  {
   "cell_type": "code",
   "execution_count": 65,
   "id": "2537ccfe",
   "metadata": {},
   "outputs": [
    {
     "name": "stdout",
     "output_type": "stream",
     "text": [
      "The value of a is greater than 7  \n",
      "Yhe value of a is not greater than 3 or 7\n",
      "Done\n"
     ]
    }
   ],
   "source": [
    "# Multiple if statements\n",
    "\n",
    "a = 8\n",
    "if(a<3):\n",
    "    print(\"The value of a is greater than 3\") \n",
    "    \n",
    "if(a>13):\n",
    "    print(\"The value of a is greater than 13\")  \n",
    "\n",
    "if(a>7):\n",
    "    print(\"The value of a is greater than 7  \")\n",
    "    \n",
    "if(a>17):\n",
    "    print(\"The value of a is greater than 17\")\n",
    "else:\n",
    "    print(\"Yhe value of a is not greater than 3 or 7\")\n",
    "    \n",
    "print(\"Done\")"
   ]
  },
  {
   "cell_type": "code",
   "execution_count": 66,
   "id": "ce504ca6",
   "metadata": {},
   "outputs": [
    {
     "name": "stdout",
     "output_type": "stream",
     "text": [
      "Enter Your age20\n",
      "Yes\n"
     ]
    }
   ],
   "source": [
    "age = int(input(\"Enter Your age\"))\n",
    "if age>=18:\n",
    "    print(\"Yes\")\n",
    "else:\n",
    "    print(\"No\")"
   ]
  },
  {
   "cell_type": "code",
   "execution_count": 67,
   "id": "f4a983fa",
   "metadata": {},
   "outputs": [
    {
     "name": "stdout",
     "output_type": "stream",
     "text": [
      "You can work with us\n"
     ]
    }
   ],
   "source": [
    "# age = 45\n",
    "age = 50\n",
    "# if(age>34 and age<56):\n",
    "if(age>34 or age<45):\n",
    "    print(\"You can work with us\")\n",
    "else:\n",
    "    print(\"You can't work with us\")"
   ]
  },
  {
   "cell_type": "code",
   "execution_count": 68,
   "id": "0a38a876",
   "metadata": {},
   "outputs": [
    {
     "name": "stdout",
     "output_type": "stream",
     "text": [
      "Yes\n"
     ]
    }
   ],
   "source": [
    "a = None\n",
    "if (a is None):\n",
    "    print(\"Yes\")\n",
    "else:\n",
    "    print(\"No\")\n",
    "\n",
    "# a = [45, 56, 6]\n",
    "# print(435 in a)"
   ]
  },
  {
   "cell_type": "code",
   "execution_count": 69,
   "id": "5819946b",
   "metadata": {},
   "outputs": [
    {
     "name": "stdout",
     "output_type": "stream",
     "text": [
      "I am optional\n"
     ]
    }
   ],
   "source": [
    "a = 6\n",
    "if(a==7):\n",
    "    print(\"yes\")\n",
    "elif(a>56):\n",
    "    print(\"no and yes\")\n",
    "else:\n",
    "    print(\"I am optional\")"
   ]
  },
  {
   "cell_type": "code",
   "execution_count": 70,
   "id": "f4b758a2",
   "metadata": {},
   "outputs": [
    {
     "name": "stdout",
     "output_type": "stream",
     "text": [
      "Enter number 1: 23\n",
      "Enter number 2: 56\n",
      "Enter number 3: 49\n",
      "Enter number 4: 37\n",
      "56 is greatest\n"
     ]
    }
   ],
   "source": [
    "num1 = int(input(\"Enter number 1: \"))\n",
    "num2 = int(input(\"Enter number 2: \"))\n",
    "num3 = int(input(\"Enter number 3: \"))\n",
    "num4 = int(input(\"Enter number 4: \"))\n",
    "\n",
    "if(num1>num4):\n",
    "    f1 = num1\n",
    "else:\n",
    "    f1 = num4\n",
    "\n",
    "if(num2>num3):\n",
    "    f2 = num2\n",
    "else:\n",
    "    f2 = num3\n",
    "\n",
    "if(f1>f2):\n",
    "    print(str(f1) + \" is greatest\")\n",
    "else:\n",
    "    print(str(f2) + \" is greatest\")"
   ]
  },
  {
   "cell_type": "code",
   "execution_count": 71,
   "id": "e65e949b",
   "metadata": {},
   "outputs": [
    {
     "name": "stdout",
     "output_type": "stream",
     "text": [
      "Enter first subject marks\n",
      "94\n",
      "Enter second subject marks\n",
      "89\n",
      "Enter third subject marks\n",
      "99\n",
      "Congatulations! You passed the exam\n"
     ]
    }
   ],
   "source": [
    "sub1 = int(input(\"Enter first subject marks\\n\"))\n",
    "sub2 = int(input(\"Enter second subject marks\\n\"))\n",
    "sub3 = int(input(\"Enter third subject marks\\n\"))\n",
    "\n",
    "if(sub1<33 or sub2<33 or sub3<33):\n",
    "    print(\"You are fail because you have less than 33% in one of the subjects\")\n",
    "elif(sub1+sub2+sub3)/3 < 40:\n",
    "    print(\"You are fail due to total percentage less than 40\")\n",
    "else:\n",
    "    print(\"Congatulations! You passed the exam\")"
   ]
  },
  {
   "cell_type": "code",
   "execution_count": 72,
   "id": "a6b2dc72",
   "metadata": {},
   "outputs": [
    {
     "name": "stdout",
     "output_type": "stream",
     "text": [
      "Enter the text\n",
      "click this\n",
      "This text is spam\n"
     ]
    }
   ],
   "source": [
    "text = input(\"Enter the text\\n\")\n",
    "\n",
    "if(\"make a lot of money\" in text):\n",
    "    spam = True\n",
    "elif(\"buy now\" in text):\n",
    "    spam = True\n",
    "elif(\"click this\" in text):\n",
    "    spam = True\n",
    "elif(\"subscribe this\" in text):\n",
    "    spam = True\n",
    "else:\n",
    "    spam = False\n",
    "\n",
    "if(spam):\n",
    "    print(\"This text is spam\")\n",
    "else:\n",
    "    print(\"This text is not spam\")"
   ]
  },
  {
   "cell_type": "code",
   "execution_count": 73,
   "id": "3f47403a",
   "metadata": {},
   "outputs": [
    {
     "name": "stdout",
     "output_type": "stream",
     "text": [
      "Enter the name to check\n",
      "baishali\n",
      "Your name is not present in the list\n"
     ]
    }
   ],
   "source": [
    "names = [\"harry\", \"shubham\", \"rohit\", \"rohan\", \"aditi\", \"shipra\"]\n",
    "name = input(\"Enter the name to check\\n\")\n",
    "\n",
    "if name in names:\n",
    "    print(\"Your name is present in the list\")\n",
    "else:\n",
    "    print(\"Your name is not present in the list\")"
   ]
  },
  {
   "cell_type": "code",
   "execution_count": 75,
   "id": "61da72ab",
   "metadata": {},
   "outputs": [
    {
     "name": "stdout",
     "output_type": "stream",
     "text": [
      "Enter Your Marks\n",
      "92.33\n",
      "Your grade is Ex\n"
     ]
    }
   ],
   "source": [
    "marks = float(input(\"Enter Your Marks\\n\"))\n",
    "\n",
    "if marks>=90:\n",
    "    grade = \"Ex\"\n",
    "elif marks>=80:\n",
    "    grade = \"A\"\n",
    "elif marks>=70:\n",
    "    grade = \"B\"\n",
    "elif marks>=60:\n",
    "    grade = \"C\"\n",
    "elif marks>=50:\n",
    "    grade = \"D\" \n",
    "else:\n",
    "    grade = \"F\"\n",
    "\n",
    "print(\"Your grade is \" + grade)"
   ]
  },
  {
   "cell_type": "code",
   "execution_count": 76,
   "id": "c906a478",
   "metadata": {},
   "outputs": [
    {
     "name": "stdout",
     "output_type": "stream",
     "text": [
      "Enter the username: Gyanaranjan Polai\n",
      "The username has not less than 10 characters\n"
     ]
    }
   ],
   "source": [
    "str = input(\"Enter the username: \")\n",
    "a = len(str)\n",
    "if a<10:\n",
    "    print(\"The username has less than 10 characters\")\n",
    "else:\n",
    "    print(\"The username has not less than 10 characters\")"
   ]
  },
  {
   "cell_type": "code",
   "execution_count": null,
   "id": "96569a2c",
   "metadata": {},
   "outputs": [],
   "source": []
  },
  {
   "cell_type": "markdown",
   "id": "2b194a80",
   "metadata": {},
   "source": [
    "### pass statement "
   ]
  },
  {
   "cell_type": "code",
   "execution_count": 1,
   "id": "32e7476a",
   "metadata": {},
   "outputs": [
    {
     "name": "stdout",
     "output_type": "stream",
     "text": [
      "-4\n",
      "-5\n",
      "-6\n",
      "-7\n"
     ]
    }
   ],
   "source": [
    "num=[1,2,3,-4,-5,-6,-7,8,9]\n",
    "for i in num:\n",
    "    if(i>0):\n",
    "        pass\n",
    "    else:\n",
    "        print(i)"
   ]
  },
  {
   "cell_type": "code",
   "execution_count": 16,
   "id": "0f6d1cb9",
   "metadata": {},
   "outputs": [
    {
     "name": "stdout",
     "output_type": "stream",
     "text": [
      "Gyana is a good boy\n"
     ]
    }
   ],
   "source": [
    "i = 4\n",
    "\n",
    "def run(player):\n",
    "    pass\n",
    "\n",
    "def ouch(player):\n",
    "    pass\n",
    "\n",
    "if i>0:\n",
    "    pass\n",
    "\n",
    "while i>6:\n",
    "  pass\n",
    "\n",
    "print(\"Gyana is a good boy\")"
   ]
  },
  {
   "cell_type": "code",
   "execution_count": null,
   "id": "f3ca65bd",
   "metadata": {},
   "outputs": [],
   "source": []
  },
  {
   "cell_type": "code",
   "execution_count": null,
   "id": "64969d1c",
   "metadata": {},
   "outputs": [],
   "source": []
  },
  {
   "cell_type": "markdown",
   "id": "7365e95a",
   "metadata": {},
   "source": [
    "### Looping"
   ]
  },
  {
   "cell_type": "code",
   "execution_count": null,
   "id": "ff141c31",
   "metadata": {},
   "outputs": [],
   "source": [
    "a=0\n",
    "while a<5:\n",
    "    print(a)\n",
    "    a+=1\n",
    "a=1\n",
    "Sum=0\n",
    "print(\"Enter the number to add the sum : \")\n",
    "print(\"Enter to quit: \")\n",
    "while a!=0:\n",
    "    print(\"sum is:\",sum)\n",
    "    a=float(input(\"number: \"))\n",
    "    a=float(a)\n",
    "    Sum+=a\n",
    "print(\"Total sum=\",sum)\n",
    "b=[3,4,5,6,7,8,9,1,2]\n",
    "for num in b:\n",
    "    print(sum)"
   ]
  },
  {
   "cell_type": "code",
   "execution_count": 4,
   "id": "81d116b0",
   "metadata": {},
   "outputs": [
    {
     "name": "stdout",
     "output_type": "stream",
     "text": [
      "Yes\n",
      "Yes\n",
      "Yes\n",
      "Yes\n",
      "Yes\n",
      "Yes\n",
      "Yes\n",
      "Yes\n",
      "Yes\n",
      "Yes\n",
      "Done\n"
     ]
    }
   ],
   "source": [
    " i = 0\n",
    "while i<10:\n",
    "    print(\"Yes\")\n",
    "    i = i + 1\n",
    "\n",
    "print(\"Done\")"
   ]
  },
  {
   "cell_type": "code",
   "execution_count": 5,
   "id": "d53039e5",
   "metadata": {},
   "outputs": [
    {
     "name": "stdout",
     "output_type": "stream",
     "text": [
      "1\n",
      "2\n",
      "3\n",
      "4\n",
      "5\n",
      "6\n",
      "7\n",
      "8\n",
      "9\n",
      "10\n",
      "11\n",
      "12\n",
      "13\n",
      "14\n",
      "15\n",
      "16\n",
      "17\n",
      "18\n",
      "19\n",
      "20\n",
      "21\n",
      "22\n",
      "23\n",
      "24\n",
      "25\n"
     ]
    }
   ],
   "source": [
    "i = 1\n",
    "\n",
    "while i<=25:\n",
    "    print(i)\n",
    "    i = i + 1"
   ]
  },
  {
   "cell_type": "code",
   "execution_count": 6,
   "id": "051cbaf0",
   "metadata": {},
   "outputs": [
    {
     "name": "stdout",
     "output_type": "stream",
     "text": [
      "SMRUTI\n",
      "SMRUTI\n",
      "SMRUTI\n",
      "SMRUTI\n",
      "SMRUTI\n"
     ]
    }
   ],
   "source": [
    "i = 0\n",
    "while i<5:\n",
    "    print(\"SMRUTI\")\n",
    "    i = i+1"
   ]
  },
  {
   "cell_type": "code",
   "execution_count": 7,
   "id": "6db402aa",
   "metadata": {},
   "outputs": [
    {
     "name": "stdout",
     "output_type": "stream",
     "text": [
      "Banana\n",
      "Watermelon\n",
      "Grapes\n",
      "Mangoes\n"
     ]
    }
   ],
   "source": [
    "fruits = ['Banana', 'Watermelon', 'Grapes', 'Mangoes']\n",
    "i = 0\n",
    "while i<len(fruits):\n",
    "    print(fruits[i])\n",
    "    i = i+1"
   ]
  },
  {
   "cell_type": "code",
   "execution_count": 8,
   "id": "9c8cac4d",
   "metadata": {},
   "outputs": [
    {
     "name": "stdout",
     "output_type": "stream",
     "text": [
      "Banana\n",
      "Watermelon\n",
      "Grapes\n",
      "Mangoes\n"
     ]
    }
   ],
   "source": [
    "fruits = ['Banana', 'Watermelon', 'Grapes', 'Mangoes']\n",
    "\n",
    "for item in fruits:\n",
    "    print(item)"
   ]
  },
  {
   "cell_type": "code",
   "execution_count": 9,
   "id": "755b7fa3",
   "metadata": {},
   "outputs": [
    {
     "name": "stdout",
     "output_type": "stream",
     "text": [
      "1\n",
      "2\n",
      "3\n",
      "4\n",
      "5\n",
      "6\n",
      "7\n"
     ]
    }
   ],
   "source": [
    "for i in range(1, 8, 1):\n",
    "    print(i)"
   ]
  },
  {
   "cell_type": "code",
   "execution_count": 10,
   "id": "83d3fd05",
   "metadata": {},
   "outputs": [
    {
     "name": "stdout",
     "output_type": "stream",
     "text": [
      "1\n",
      "3\n",
      "5\n",
      "7\n"
     ]
    }
   ],
   "source": [
    "for i in range(1, 8, 2):\n",
    "    print(i)"
   ]
  },
  {
   "cell_type": "code",
   "execution_count": 11,
   "id": "45f974cf",
   "metadata": {},
   "outputs": [
    {
     "name": "stdout",
     "output_type": "stream",
     "text": [
      "1\n",
      "4\n",
      "7\n"
     ]
    }
   ],
   "source": [
    "for i in range(1, 8, 3):\n",
    "    print(i)"
   ]
  },
  {
   "cell_type": "code",
   "execution_count": 12,
   "id": "99f7f373",
   "metadata": {},
   "outputs": [
    {
     "name": "stdout",
     "output_type": "stream",
     "text": [
      "0\n",
      "1\n",
      "2\n",
      "3\n",
      "4\n",
      "5\n",
      "6\n",
      "7\n",
      "8\n",
      "9\n",
      "This is inside else of for\n"
     ]
    }
   ],
   "source": [
    "for i in range(10):\n",
    "    print(i)\n",
    "else:\n",
    "    print(\"This is inside else of for\")"
   ]
  },
  {
   "cell_type": "code",
   "execution_count": null,
   "id": "0fae741a",
   "metadata": {},
   "outputs": [],
   "source": []
  },
  {
   "cell_type": "code",
   "execution_count": 13,
   "id": "0bbcf9e7",
   "metadata": {},
   "outputs": [
    {
     "name": "stdout",
     "output_type": "stream",
     "text": [
      "0\n",
      "1\n",
      "2\n",
      "3\n",
      "4\n",
      "5\n"
     ]
    }
   ],
   "source": [
    "for i in range(10):\n",
    "    print(i)\n",
    "    if i == 5:\n",
    "        break\n",
    "else:\n",
    "    print(\"This is inside else of for\")"
   ]
  },
  {
   "cell_type": "code",
   "execution_count": 2,
   "id": "4dd6087f",
   "metadata": {},
   "outputs": [
    {
     "name": "stdout",
     "output_type": "stream",
     "text": [
      "i\n",
      "the end\n"
     ]
    }
   ],
   "source": [
    "for val in \"string\":\n",
    "    if val==\"i\":\n",
    "        break\n",
    "print(val)\n",
    "print(\"the end\")"
   ]
  },
  {
   "cell_type": "code",
   "execution_count": 14,
   "id": "bfff37db",
   "metadata": {},
   "outputs": [
    {
     "name": "stdout",
     "output_type": "stream",
     "text": [
      "0\n",
      "1\n",
      "2\n",
      "3\n",
      "4\n",
      "6\n",
      "7\n",
      "8\n",
      "9\n"
     ]
    }
   ],
   "source": [
    "for i in range(10):\n",
    "    if i == 5:\n",
    "        continue\n",
    "    print(i)"
   ]
  },
  {
   "cell_type": "code",
   "execution_count": 3,
   "id": "a6eee233",
   "metadata": {},
   "outputs": [
    {
     "name": "stdout",
     "output_type": "stream",
     "text": [
      "g\n",
      "the end\n"
     ]
    }
   ],
   "source": [
    "for val in \"string\":\n",
    "    if val==\"i\":\n",
    "        continue\n",
    "print(val)\n",
    "print(\"the end\")"
   ]
  },
  {
   "cell_type": "code",
   "execution_count": null,
   "id": "2e6ad197",
   "metadata": {},
   "outputs": [],
   "source": []
  },
  {
   "cell_type": "code",
   "execution_count": 17,
   "id": "ecb60ed7",
   "metadata": {},
   "outputs": [
    {
     "name": "stdout",
     "output_type": "stream",
     "text": [
      "Enter the number21\n",
      "21X1=21\n",
      "21X2=42\n",
      "21X3=63\n",
      "21X4=84\n",
      "21X5=105\n",
      "21X6=126\n",
      "21X7=147\n",
      "21X8=168\n",
      "21X9=189\n",
      "21X10=210\n"
     ]
    }
   ],
   "source": [
    "num = int(input(\"Enter the number\"))\n",
    "for i in range(1, 11):\n",
    "#     print(str(num) + \" X \" + str(i) + \"=\" + str(i*num))\n",
    "   print(f\"{num}X{i}={num*i}\")"
   ]
  },
  {
   "cell_type": "code",
   "execution_count": 18,
   "id": "7e83a062",
   "metadata": {},
   "outputs": [
    {
     "name": "stdout",
     "output_type": "stream",
     "text": [
      "Hello Smruti\n",
      "Hello Sachin\n"
     ]
    }
   ],
   "source": [
    "l1 = [\"Smruti\", \"Baishali\", \"Sachin\", \"Rahul\"]\n",
    "\n",
    "for name in l1:\n",
    "    if name.startswith(\"S\"):\n",
    "        print(\"Hello \" + name)"
   ]
  },
  {
   "cell_type": "code",
   "execution_count": 2,
   "id": "0ec88e20",
   "metadata": {},
   "outputs": [
    {
     "name": "stdout",
     "output_type": "stream",
     "text": [
      "Enter the number4\n",
      "4X1=4\n",
      "4X2=8\n",
      "4X3=12\n",
      "4X4=16\n",
      "4X5=20\n",
      "4X6=24\n",
      "4X7=28\n",
      "4X8=32\n",
      "4X9=36\n",
      "4X10=40\n"
     ]
    }
   ],
   "source": [
    "num = int(input(\"Enter the number\"))\n",
    "i = 1\n",
    "while i<11:\n",
    "    print(f\"{num}X{i}={num*i}\")\n",
    "    i = i+1"
   ]
  },
  {
   "cell_type": "code",
   "execution_count": null,
   "id": "761a6d29",
   "metadata": {},
   "outputs": [],
   "source": []
  },
  {
   "cell_type": "code",
   "execution_count": 1,
   "id": "642f8dc1",
   "metadata": {},
   "outputs": [
    {
     "name": "stdout",
     "output_type": "stream",
     "text": [
      "Enter the number: 243\n",
      "This number is not Prime\n"
     ]
    }
   ],
   "source": [
    "num = int(input(\"Enter the number: \"))\n",
    "prime = True\n",
    "\n",
    "for i in range(2, num):\n",
    "    if(num%i == 0):\n",
    "        prime = False\n",
    "        break\n",
    "if prime:\n",
    "    print(\"This number is Prime\")\n",
    "else:\n",
    "    print(\"This number is not Prime\")"
   ]
  },
  {
   "cell_type": "code",
   "execution_count": 2,
   "id": "2b91f7da",
   "metadata": {},
   "outputs": [
    {
     "name": "stdout",
     "output_type": "stream",
     "text": [
      "Enter the number: 7\n",
      "The factorial of 7 is 5040\n"
     ]
    }
   ],
   "source": [
    "# n! = 1 X 2 X 3 X ..... X n\n",
    "# 5! = 1 X 2 X 3 X 4 X 5\n",
    "\n",
    "num = int(input(\"Enter the number: \"))\n",
    "factorial = 1\n",
    "for i in range(1, num+1):\n",
    "    factorial = factorial * i\n",
    "print(f\"The factorial of {num} is {factorial}\")"
   ]
  },
  {
   "cell_type": "code",
   "execution_count": 3,
   "id": "1611d295",
   "metadata": {},
   "outputs": [
    {
     "name": "stdout",
     "output_type": "stream",
     "text": [
      "*\n",
      "**\n",
      "***\n",
      "****\n"
     ]
    }
   ],
   "source": [
    "n = 4\n",
    "\n",
    "for i in range(4):\n",
    "    print(\"*\" * (i+1))"
   ]
  },
  {
   "cell_type": "code",
   "execution_count": 4,
   "id": "7da429a1",
   "metadata": {},
   "outputs": [
    {
     "name": "stdout",
     "output_type": "stream",
     "text": [
      "  *  \n",
      " *** \n",
      "*****\n"
     ]
    }
   ],
   "source": [
    "n = 3\n",
    "for i in range(3): \n",
    "    print(\" \" * (n-i-1), end=\"\")\n",
    "    print(\"*\" * (2*i+1), end=\"\")\n",
    "    print(\" \" * (n-i-1))"
   ]
  },
  {
   "cell_type": "code",
   "execution_count": null,
   "id": "c3e96d34",
   "metadata": {},
   "outputs": [],
   "source": []
  },
  {
   "cell_type": "code",
   "execution_count": null,
   "id": "9e2ea0e7",
   "metadata": {},
   "outputs": [],
   "source": []
  },
  {
   "cell_type": "markdown",
   "id": "34317083",
   "metadata": {},
   "source": [
    "# Function "
   ]
  },
  {
   "cell_type": "code",
   "execution_count": 5,
   "id": "fd712da4",
   "metadata": {},
   "outputs": [
    {
     "name": "stdout",
     "output_type": "stream",
     "text": [
      "Welcome to my Home\n"
     ]
    }
   ],
   "source": [
    "def fun():\n",
    "    print(\"Welcome to my Home\")\n",
    "fun()"
   ]
  },
  {
   "cell_type": "code",
   "execution_count": 6,
   "id": "61adeb18",
   "metadata": {},
   "outputs": [
    {
     "name": "stdout",
     "output_type": "stream",
     "text": [
      "odd\n",
      "even\n"
     ]
    }
   ],
   "source": [
    "def evenodd(x):\n",
    "    if(x%2 == 0):\n",
    "        print(\"even\")\n",
    "    else:\n",
    "        print(\"odd\")\n",
    "evenodd(3)\n",
    "evenodd(6)"
   ]
  },
  {
   "cell_type": "code",
   "execution_count": 7,
   "id": "d383ca96",
   "metadata": {},
   "outputs": [
    {
     "name": "stdout",
     "output_type": "stream",
     "text": [
      "x:  10\n",
      "y:  50\n"
     ]
    }
   ],
   "source": [
    "def myFun(x,y=50):\n",
    "    print(\"x: \",x)\n",
    "    print(\"y: \",y)\n",
    "myFun(10)"
   ]
  },
  {
   "cell_type": "code",
   "execution_count": 8,
   "id": "c541352e",
   "metadata": {},
   "outputs": [
    {
     "name": "stdout",
     "output_type": "stream",
     "text": [
      "Peter Paxton\n",
      "Visvakumar Devi\n"
     ]
    }
   ],
   "source": [
    "def student(firstname,lastname):\n",
    "    print(firstname,lastname)\n",
    "student(firstname='Peter',lastname='Paxton')\n",
    "student(lastname='Devi',firstname='Visvakumar')"
   ]
  },
  {
   "cell_type": "code",
   "execution_count": 9,
   "id": "8b5e1e7d",
   "metadata": {},
   "outputs": [
    {
     "name": "stdout",
     "output_type": "stream",
     "text": [
      "71.5 84.75\n"
     ]
    }
   ],
   "source": [
    "def percent(marks):\n",
    "    p = ((marks[0] + marks[1] + marks[2]+ marks[3])/400 )*100\n",
    "    return p\n",
    "\n",
    "marks1 = [45, 78, 86, 77]\n",
    "percentage1 = percent(marks1)\n",
    "\n",
    "marks2 = [75, 98, 88, 78]\n",
    "percentage2 = percent(marks2)\n",
    "\n",
    "print(percentage1, percentage2)"
   ]
  },
  {
   "cell_type": "code",
   "execution_count": 10,
   "id": "fb19ffdd",
   "metadata": {},
   "outputs": [
    {
     "name": "stdout",
     "output_type": "stream",
     "text": [
      "Good Day, SMRUTI\n",
      "38\n"
     ]
    }
   ],
   "source": [
    "def greet(name):\n",
    "    print(\"Good Day, \"+ name)\n",
    "\n",
    "def mySum(num1, num2):\n",
    "    return num1 + num2\n",
    "\n",
    "greet(\"SMRUTI\")\n",
    "s = mySum(6, 32)\n",
    "print(s)"
   ]
  },
  {
   "cell_type": "code",
   "execution_count": 11,
   "id": "9280250a",
   "metadata": {},
   "outputs": [
    {
     "name": "stdout",
     "output_type": "stream",
     "text": [
      "Good Day, SMRUTI\n",
      "Good Day, Stranger\n"
     ]
    }
   ],
   "source": [
    "def greet(name=\"Stranger\"):\n",
    "    print(\"Good Day, \"+ name)\n",
    " \n",
    "\n",
    "greet(\"SMRUTI\") \n",
    "greet()"
   ]
  },
  {
   "cell_type": "code",
   "execution_count": 6,
   "id": "c9fa5a66",
   "metadata": {},
   "outputs": [
    {
     "name": "stdout",
     "output_type": "stream",
     "text": [
      "120\n"
     ]
    }
   ],
   "source": [
    "# n! = 1 * 2 * 3 * 4...*n\n",
    "# n! = [1 * 2 * 3 * 4... n-1] *n\n",
    "# n! = n * (n-1)! \n",
    "\n",
    "# n = 0\n",
    "# product = 1\n",
    "# for i in range(n):\n",
    "#     product = product * (i+1)\n",
    "# print(product)\n",
    "\n",
    "def factorial_iter(n):\n",
    "    product = 1\n",
    "    for i in range(n):\n",
    "        product = product * (i+1)\n",
    "    return product\n",
    "\n",
    "def factorial_recursive(n):\n",
    "    if n == 1 or n == 0:\n",
    "        return 1\n",
    "    return n * factorial_recursive(n-1)\n",
    "\n",
    "f = factorial_iter(5)\n",
    "# f = factorial_recursive(4)\n",
    "print(f)"
   ]
  },
  {
   "cell_type": "code",
   "execution_count": 13,
   "id": "f44bdbbe",
   "metadata": {},
   "outputs": [
    {
     "name": "stdout",
     "output_type": "stream",
     "text": [
      "The value of the maximum is 55\n"
     ]
    }
   ],
   "source": [
    "def maximum(num1, num2, num3):\n",
    "    if (num1>num2):\n",
    "        if(num1>num3):\n",
    "            return num1\n",
    "        else:\n",
    "            return num3\n",
    "    else:\n",
    "        if(num2>num3):\n",
    "            return num2\n",
    "        else:\n",
    "            return num3\n",
    "\n",
    "m = maximum(13, 55, 2)\n",
    "print(\"The value of the maximum is \" + str(m))"
   ]
  },
  {
   "cell_type": "code",
   "execution_count": 14,
   "id": "392cef66",
   "metadata": {},
   "outputs": [
    {
     "name": "stdout",
     "output_type": "stream",
     "text": [
      "Fahreheit Temperature is 32.0\n"
     ]
    }
   ],
   "source": [
    "def farh(cel):\n",
    "    return (cel *(9/5)) + 32\n",
    "\n",
    "c = 0\n",
    "f = farh(c)\n",
    "print(\"Fahreheit Temperature is \" + str(f))"
   ]
  },
  {
   "cell_type": "code",
   "execution_count": 15,
   "id": "9244ca4e",
   "metadata": {},
   "outputs": [
    {
     "name": "stdout",
     "output_type": "stream",
     "text": [
      "Hello How are you? "
     ]
    }
   ],
   "source": [
    "print(\"Hello\", end=\" \")\n",
    "print(\"How\", end=\" \")\n",
    "print(\"are\", end=\" \")\n",
    "print(\"you?\", end=\" \")"
   ]
  },
  {
   "cell_type": "code",
   "execution_count": null,
   "id": "91a02776",
   "metadata": {},
   "outputs": [],
   "source": [
    "# n! = (n-1)! * n \n",
    "# sum(n) = sum(n-1) + n"
   ]
  },
  {
   "cell_type": "code",
   "execution_count": 16,
   "id": "9880c511",
   "metadata": {},
   "outputs": [
    {
     "name": "stdout",
     "output_type": "stream",
     "text": [
      "***\n",
      "**\n",
      "*\n"
     ]
    }
   ],
   "source": [
    "n = 3\n",
    "for i in range(n):\n",
    "    print(\"*\" * (n-i)) # Prints * n-i times"
   ]
  },
  {
   "cell_type": "code",
   "execution_count": 17,
   "id": "2d2d56d1",
   "metadata": {},
   "outputs": [
    {
     "name": "stdout",
     "output_type": "stream",
     "text": [
      "is a good\n"
     ]
    }
   ],
   "source": [
    "def remove_and_split(string, word):\n",
    "    newStr = string.replace(word, \"\")\n",
    "    return newStr.strip()\n",
    "\n",
    "this = \"     Harry is a good      \"\n",
    "n = remove_and_split(this, \"Harry\")\n",
    "print(n)\n",
    "# print(this)\n",
    "# print(this.strip())"
   ]
  },
  {
   "cell_type": "code",
   "execution_count": 18,
   "id": "e9ae2a0d",
   "metadata": {},
   "outputs": [
    {
     "name": "stdout",
     "output_type": "stream",
     "text": [
      "Hello\n",
      "Welcome\n",
      "Home\n"
     ]
    }
   ],
   "source": [
    "def myFun(*argv):\n",
    "    for arg in argv:\n",
    "        print(arg)\n",
    "myFun('Hello','Welcome','Home')"
   ]
  },
  {
   "cell_type": "code",
   "execution_count": 19,
   "id": "d2b0be95",
   "metadata": {},
   "outputs": [
    {
     "name": "stdout",
     "output_type": "stream",
     "text": [
      "first==Hello\n",
      "mid==Salut\n",
      "last==Hola\n"
     ]
    }
   ],
   "source": [
    "def myFun(**kwargs):\n",
    "    for key,value in kwargs.items():\n",
    "        print(\"%s==%s\" %(key,value))\n",
    "myFun(first='Hello',mid='Salut',last='Hola')"
   ]
  },
  {
   "cell_type": "code",
   "execution_count": 20,
   "id": "344d24b0",
   "metadata": {},
   "outputs": [
    {
     "name": "stdout",
     "output_type": "stream",
     "text": [
      "Inside Function: MerciBeaucoup\n",
      "Outside Function: Bonjour\n"
     ]
    }
   ],
   "source": [
    "string=\"Bonjour\"\n",
    "def test(string):\n",
    "    string=\"MerciBeaucoup\"\n",
    "    print(\"Inside Function:\",string)\n",
    "test(string)\n",
    "print(\"Outside Function:\",string)"
   ]
  },
  {
   "cell_type": "code",
   "execution_count": 21,
   "id": "21f74c98",
   "metadata": {},
   "outputs": [
    {
     "name": "stdout",
     "output_type": "stream",
     "text": [
      "Inside function [10, 20, 30, 40, 50]\n",
      "Outside Function: [10, 20, 30, 40, 50]\n"
     ]
    }
   ],
   "source": [
    "def add_more(list):\n",
    "    list.append(50)\n",
    "    print(\"Inside function\",list)\n",
    "mylist=[10,20,30,40]\n",
    "add_more(mylist)\n",
    "print(\"Outside Function:\",mylist)"
   ]
  },
  {
   "cell_type": "code",
   "execution_count": 22,
   "id": "5ec521af",
   "metadata": {},
   "outputs": [
    {
     "name": "stdout",
     "output_type": "stream",
     "text": [
      "125\n",
      "125\n"
     ]
    }
   ],
   "source": [
    "def cube(y):\n",
    "    return y*y*y\n",
    "lambda_cube=lambda y:y*y*y\n",
    "print(cube(5))\n",
    "print(lambda_cube(5))"
   ]
  },
  {
   "cell_type": "code",
   "execution_count": 23,
   "id": "87f93a94",
   "metadata": {},
   "outputs": [
    {
     "ename": "SyntaxError",
     "evalue": "invalid syntax (Temp/ipykernel_1160/2678439764.py, line 1)",
     "output_type": "error",
     "traceback": [
      "\u001b[1;36m  File \u001b[1;32m\"C:\\Users\\iasms\\AppData\\Local\\Temp/ipykernel_1160/2678439764.py\"\u001b[1;36m, line \u001b[1;32m1\u001b[0m\n\u001b[1;33m    table[lambda x=x: x*10 for x in range(1,11)]\u001b[0m\n\u001b[1;37m                           ^\u001b[0m\n\u001b[1;31mSyntaxError\u001b[0m\u001b[1;31m:\u001b[0m invalid syntax\n"
     ]
    }
   ],
   "source": [
    "table[lambda x=x: x*10 for x in range(1,11)]\n",
    "for table in tables:\n",
    "    print(table())\n"
   ]
  },
  {
   "cell_type": "code",
   "execution_count": 24,
   "id": "c8d6f4eb",
   "metadata": {},
   "outputs": [
    {
     "name": "stdout",
     "output_type": "stream",
     "text": [
      "1\n"
     ]
    }
   ],
   "source": [
    "Max=lambda a,b: a if(a<b) else b\n",
    "print(Max(1,2))"
   ]
  },
  {
   "cell_type": "code",
   "execution_count": 25,
   "id": "78d25ee5",
   "metadata": {},
   "outputs": [
    {
     "name": "stdout",
     "output_type": "stream",
     "text": [
      "[5, 7, 97, 77, 23, 73, 61]\n"
     ]
    }
   ],
   "source": [
    "li=[5,7,22,97,54,62,77,23,73,61]\n",
    "final_list=list(filter(lambda x: (x%2!=0),li))\n",
    "print(final_list)"
   ]
  },
  {
   "cell_type": "code",
   "execution_count": 26,
   "id": "d60fa32b",
   "metadata": {},
   "outputs": [
    {
     "name": "stdout",
     "output_type": "stream",
     "text": [
      "[90, 59, 21, 60]\n"
     ]
    }
   ],
   "source": [
    "ages=[13,90,17,59,21,60,5]\n",
    "adults=list(filter(lambda age:age>18,ages))\n",
    "print(adults)"
   ]
  },
  {
   "cell_type": "code",
   "execution_count": 27,
   "id": "c5ec0803",
   "metadata": {},
   "outputs": [
    {
     "name": "stdout",
     "output_type": "stream",
     "text": [
      "[3, 4, 6]\n"
     ]
    }
   ],
   "source": [
    "data=[[2,3,4],[1,4,16,64],[3,6,9,12]]\n",
    "sort_elements=lambda x:(sorted(y) for y in x)\n",
    "get_second_elements=lambda x,f:[y[1] for y in f(x)]\n",
    "second_elements=get_second_elements(data,sort_elements)\n",
    "print(second_elements)"
   ]
  },
  {
   "cell_type": "code",
   "execution_count": null,
   "id": "6928bd70",
   "metadata": {},
   "outputs": [],
   "source": []
  },
  {
   "cell_type": "markdown",
   "id": "595f4c4a",
   "metadata": {},
   "source": [
    "# String Methods"
   ]
  },
  {
   "cell_type": "code",
   "execution_count": 28,
   "id": "012a5394",
   "metadata": {},
   "outputs": [
    {
     "name": "stdout",
     "output_type": "stream",
     "text": [
      "Old String: python is AWsome\n",
      "Capitalized String: Python is awsome\n"
     ]
    }
   ],
   "source": [
    "string = \"python is AWsome\"\n",
    "capitalized_string=string.capitalize()\n",
    "print('Old String:',string)\n",
    "print('Capitalized String:',capitalized_string)"
   ]
  },
  {
   "cell_type": "code",
   "execution_count": 1,
   "id": "f526450d",
   "metadata": {},
   "outputs": [
    {
     "name": "stdout",
     "output_type": "stream",
     "text": [
      "Old String: + is an operator\n",
      "New String: + is an operator\n"
     ]
    }
   ],
   "source": [
    "string=\"+ is an operator\"\n",
    "new_string=string.capitalize()\n",
    "print('Old String:',string)\n",
    "print('New String:',new_string)"
   ]
  },
  {
   "cell_type": "code",
   "execution_count": 31,
   "id": "2ae1ca4c",
   "metadata": {},
   "outputs": [
    {
     "name": "stdout",
     "output_type": "stream",
     "text": [
      "Centered String: *********python is awsome*********\n"
     ]
    }
   ],
   "source": [
    "string = \"python is awsome\"\n",
    "new_string=string.center(34,'*')\n",
    "print(\"Centered String:\",new_string)"
   ]
  },
  {
   "cell_type": "code",
   "execution_count": 33,
   "id": "fbd5a20d",
   "metadata": {},
   "outputs": [
    {
     "name": "stdout",
     "output_type": "stream",
     "text": [
      "Lowercase String: python is awesome\n"
     ]
    }
   ],
   "source": [
    "string=\"PYTHON IS AWESOME\"\n",
    "print(\"Lowercase String:\",string.casefold())"
   ]
  },
  {
   "cell_type": "code",
   "execution_count": 34,
   "id": "2e89ab5e",
   "metadata": {},
   "outputs": [
    {
     "name": "stdout",
     "output_type": "stream",
     "text": [
      "The count is: 1\n"
     ]
    }
   ],
   "source": [
    "string=\"Python is awesome,isn't it\"\n",
    "substring=\"is\"\n",
    "count=string.count(substring,8,25)\n",
    "print(\"The count is:\",count)"
   ]
  },
  {
   "cell_type": "code",
   "execution_count": 35,
   "id": "ffe67dfb",
   "metadata": {},
   "outputs": [
    {
     "name": "stdout",
     "output_type": "stream",
     "text": [
      "The count is: 2\n"
     ]
    }
   ],
   "source": [
    "string=\"Python is awesome,isn't it\"\n",
    "substring=\"i\"\n",
    "count=string.count(substring,8,25)\n",
    "print(\"The count is:\",count)"
   ]
  },
  {
   "cell_type": "code",
   "execution_count": 36,
   "id": "37f74c13",
   "metadata": {},
   "outputs": [
    {
     "name": "stdout",
     "output_type": "stream",
     "text": [
      "True\n",
      "False\n",
      "False\n"
     ]
    }
   ],
   "source": [
    "text=\"python program is easy to learn.\"\n",
    "result=text.endswith('learn.',7)\n",
    "print(result)\n",
    "result=text.endswith('is',7,26)\n",
    "print(result)\n",
    "result=text.endswith('easy',7,26)\n",
    "print(result)"
   ]
  },
  {
   "cell_type": "code",
   "execution_count": 37,
   "id": "444cee19",
   "metadata": {},
   "outputs": [
    {
     "name": "stdout",
     "output_type": "stream",
     "text": [
      "True\n",
      "False\n",
      "False\n"
     ]
    }
   ],
   "source": [
    "s=\"28212\"\n",
    "print(s.isdigit())\n",
    "s=\"Mo3nica Gell2 2er\"\n",
    "print(s.isdigit())\n",
    "s=\"Mo3nicaGell22er\"\n",
    "print(s.isdigit())"
   ]
  },
  {
   "cell_type": "code",
   "execution_count": 38,
   "id": "8294fbad",
   "metadata": {},
   "outputs": [
    {
     "name": "stdout",
     "output_type": "stream",
     "text": [
      "Substring 'is fun': 19\n"
     ]
    }
   ],
   "source": [
    "sentence='Python programming is fun.'\n",
    "result=sentence.index('is fun')\n",
    "print(\"Substring 'is fun':\",result)\n",
    "# result=sentence.index('Java')\n",
    "# print(\"Substring 'Java':\",result)"
   ]
  },
  {
   "cell_type": "code",
   "execution_count": 39,
   "id": "05021c2b",
   "metadata": {},
   "outputs": [
    {
     "name": "stdout",
     "output_type": "stream",
     "text": [
      "Substring 'let it': 0\n",
      "Substring 'small': -1\n",
      "Contains Substring 'be',\n"
     ]
    }
   ],
   "source": [
    "quote='let it be,let it be,let it be'\n",
    "result=quote.find('let it')\n",
    "print(\"Substring 'let it':\",result)\n",
    "result=quote.find('small')\n",
    "print(\"Substring 'small':\",result)\n",
    "if(quote.find('be,')!=-1):\n",
    "    print(\"Contains Substring 'be',\")\n",
    "else:\n",
    "    print(\"Doesn't contain Substring \")\n"
   ]
  },
  {
   "cell_type": "code",
   "execution_count": 40,
   "id": "80c49760",
   "metadata": {},
   "outputs": [
    {
     "name": "stdout",
     "output_type": "stream",
     "text": [
      "The string is: Python!!!\n",
      "The encoded version is: b'Python!!!'\n"
     ]
    }
   ],
   "source": [
    "string=\"Python!!!\"\n",
    "print(\"The string is:\",string)\n",
    "string_utf=string.encode()\n",
    "print('The encoded version is:',string_utf)"
   ]
  },
  {
   "cell_type": "code",
   "execution_count": 41,
   "id": "1f75b703",
   "metadata": {},
   "outputs": [
    {
     "name": "stdout",
     "output_type": "stream",
     "text": [
      "True\n",
      "False\n",
      "True\n",
      "True\n"
     ]
    }
   ],
   "source": [
    "name=\"M23onica\"\n",
    "print(name.isalnum())\n",
    "name=\"M23onica Gelzzar\"\n",
    "print(name.isalnum())\n",
    "name=\"M23onicaGelzzar\"\n",
    "print(name.isalnum())\n",
    "name=\"133\"\n",
    "print(name.isalnum())"
   ]
  },
  {
   "cell_type": "code",
   "execution_count": 42,
   "id": "dca8eb22",
   "metadata": {},
   "outputs": [
    {
     "name": "stdout",
     "output_type": "stream",
     "text": [
      "True\n",
      "False\n",
      "False\n"
     ]
    }
   ],
   "source": [
    "name=\"Monica\"\n",
    "print(name.isalpha())\n",
    "name=\"Monica Gelzzar\"\n",
    "print(name.isalpha())\n",
    "name=\"M23onicaGelzzar\"\n",
    "print(name.isalpha())"
   ]
  },
  {
   "cell_type": "code",
   "execution_count": 3,
   "id": "d4d020b1",
   "metadata": {},
   "outputs": [
    {
     "name": "stdout",
     "output_type": "stream",
     "text": [
      "The String is:  python\n",
      "The encoded version is b'python'\n"
     ]
    }
   ],
   "source": [
    "string = \"python\"\n",
    "print('The String is: ',string)\n",
    "string_utf = string.encode()\n",
    "print('The encoded version is', string_utf)"
   ]
  },
  {
   "cell_type": "code",
   "execution_count": 6,
   "id": "c94737a5",
   "metadata": {},
   "outputs": [
    {
     "name": "stdout",
     "output_type": "stream",
     "text": [
      "The String is:  SmRUtI!\n",
      "The encoded version is b'SmRUtI!'\n"
     ]
    }
   ],
   "source": [
    "string = 'SmRUtI!'\n",
    "print('The String is: ',string)\n",
    "string_utf = string.encode()\n",
    "print('The encoded version is',string_utf)"
   ]
  },
  {
   "cell_type": "code",
   "execution_count": 43,
   "id": "c3d54e27",
   "metadata": {},
   "outputs": [
    {
     "name": "stdout",
     "output_type": "stream",
     "text": [
      "Hello Adam,your balance is 230.2346.\n",
      "Hello Adam,your balance is 230.2346.\n",
      "Hello Adam,your balance is 230.2346.\n",
      "Hello Adam,your balance is 230.2346.\n"
     ]
    }
   ],
   "source": [
    "print(\"Hello {},your balance is {}.\".format(\"Adam\",230.2346))\n",
    "print(\"Hello {0},your balance is {1}.\".format(\"Adam\",230.2346))\n",
    "print(\"Hello {name},your balance is {blc}.\".format(name=\"Adam\",blc=230.2346))\n",
    "print(\"Hello {0},your balance is {blc}.\".format(\"Adam\",blc=230.2346))"
   ]
  },
  {
   "cell_type": "code",
   "execution_count": 44,
   "id": "6127ce7e",
   "metadata": {},
   "outputs": [
    {
     "name": "stdout",
     "output_type": "stream",
     "text": [
      "The number is 123\n",
      "The float number is:123.456790\n",
      "bin:1100,oct:12,hex:c\n"
     ]
    }
   ],
   "source": [
    "print(\"The number is {:d}\".format(123))\n",
    "print(\"The float number is:{:f}\".format(123.4567898))\n",
    "print(\"bin:{0:b},oct:{0:0},hex:{0:x}\".format(12))"
   ]
  },
  {
   "cell_type": "code",
   "execution_count": 45,
   "id": "d7ec92d7",
   "metadata": {},
   "outputs": [
    {
     "name": "stdout",
     "output_type": "stream",
     "text": [
      "   12\n",
      "1234\n",
      "  12.235\n",
      "00012\n",
      "0012.235\n"
     ]
    }
   ],
   "source": [
    "print(\"{:5d}\".format(12))\n",
    "print(\"{:2d}\".format(1234))\n",
    "print(\"{:8.3f}\".format(12.2346))\n",
    "print(\"{:05d}\".format(12))\n",
    "print(\"{:08.3f}\".format(12.2346))"
   ]
  },
  {
   "cell_type": "code",
   "execution_count": 46,
   "id": "ac78bb71",
   "metadata": {},
   "outputs": [
    {
     "name": "stdout",
     "output_type": "stream",
     "text": [
      "root123 is valid identifier\n",
      "33root is not a valid identifier.\n",
      "root 33 is not a valid identifier.\n"
     ]
    }
   ],
   "source": [
    "str='root123'\n",
    "if str.isidentifier()==True:\n",
    "    print(str,'is valid identifier')\n",
    "else:\n",
    "    print(str,'is not a valid identifier')\n",
    "str='33root'\n",
    "if str.isidentifier()==True:\n",
    "    print(str,'is valid identifier.')\n",
    "else:\n",
    "    print(str,'is not a valid identifier.')\n",
    "str='root 33'\n",
    "if str.isidentifier()==True:\n",
    "    print(str,'is valid identifier.')\n",
    "else:\n",
    "    print(str,'is not a valid identifier.')"
   ]
  },
  {
   "cell_type": "code",
   "execution_count": 47,
   "id": "9b878b0b",
   "metadata": {},
   "outputs": [
    {
     "name": "stdout",
     "output_type": "stream",
     "text": [
      "1,2,3,4\n",
      "1,2,3,4\n",
      "s1.join(s2): 1abc2abc3\n",
      "s2.join(s1): aabcbabcc\n"
     ]
    }
   ],
   "source": [
    "numList = ['1','2','3','4']\n",
    "separator=','\n",
    "print(separator.join(numList))\n",
    "numTuple = ('1','2','3','4')\n",
    "print(separator.join(numTuple))\n",
    "s1='abc'\n",
    "s2='123'\n",
    "print('s1.join(s2):',s1.join(s2))\n",
    "print('s2.join(s1):',s1.join(s1))"
   ]
  },
  {
   "cell_type": "code",
   "execution_count": 48,
   "id": "8a9e2fe9",
   "metadata": {},
   "outputs": [
    {
     "name": "stdout",
     "output_type": "stream",
     "text": [
      "xoxo love xoxo\n",
      " love \n",
      "oxo love xoxo\n",
      "string is awasome\n"
     ]
    }
   ],
   "source": [
    "string='xoxo love xoxo'\n",
    "print(string.strip())\n",
    "print(string.strip('xoe'))\n",
    "print(string.strip('stx'))\n",
    "string='string is awasome'\n",
    "print(string.strip('an'))"
   ]
  },
  {
   "cell_type": "code",
   "execution_count": 49,
   "id": "5abd1990",
   "metadata": {},
   "outputs": [
    {
     "name": "stdout",
     "output_type": "stream",
     "text": [
      "this is good\n",
      "   this is good\n",
      "his is good\n",
      "www.programmers.com/\n"
     ]
    }
   ],
   "source": [
    "random_string='   this is good'\n",
    "print(random_string.lstrip())\n",
    "print(random_string.lstrip('sti'))\n",
    "print(random_string.lstrip('s sti'))\n",
    "website = 'https://www.programmers.com/'\n",
    "print(website.lstrip('https:/.'))"
   ]
  },
  {
   "cell_type": "code",
   "execution_count": 50,
   "id": "e9f8c21e",
   "metadata": {},
   "outputs": [
    {
     "name": "stdout",
     "output_type": "stream",
     "text": [
      "this is good\n",
      "this is good\n",
      "this is g\n",
      "www.programmers.co\n"
     ]
    }
   ],
   "source": [
    "random_string='this is good    '\n",
    "print(random_string.rstrip())\n",
    "print(random_string.rstrip('si oo'))\n",
    "print(random_string.rstrip('sid oo'))\n",
    "website = 'www.programmers.com/'\n",
    "print(website.rstrip('m/.'))"
   ]
  },
  {
   "cell_type": "code",
   "execution_count": 51,
   "id": "91af323a",
   "metadata": {},
   "outputs": [
    {
     "name": "stdout",
     "output_type": "stream",
     "text": [
      "hurt,hurt heart\n",
      "Let it be,don't let it be,let it be,let it be\n",
      "Let it be,don't let it be,don't let it be,let it be\n",
      "Let it be,don't let it be,don't let it be,don't let it be\n",
      "Let it be,don't let it be,don't let it be,don't let it be\n",
      "Let it be,let it be,let it be,let it be\n",
      "Let it be,don't let it be,don't let it be,don't let it be\n"
     ]
    }
   ],
   "source": [
    "song='cold,cold heart'\n",
    "print(song.replace('cold','hurt'))\n",
    "song='Let it be,let it be,let it be,let it be'\n",
    "print(song.replace('let',\"don't let\",1))\n",
    "print(song.replace('let',\"don't let\",2))\n",
    "print(song.replace('let',\"don't let\",3))\n",
    "print(song.replace('let',\"don't let\",4))\n",
    "print(song.replace('let',\"don't let\",0))\n",
    "print(song.replace('let',\"don't let\",5))"
   ]
  },
  {
   "cell_type": "code",
   "execution_count": null,
   "id": "7f833249",
   "metadata": {},
   "outputs": [],
   "source": []
  },
  {
   "cell_type": "code",
   "execution_count": null,
   "id": "3c6993be",
   "metadata": {},
   "outputs": [],
   "source": []
  },
  {
   "cell_type": "markdown",
   "id": "feb6190f",
   "metadata": {},
   "source": [
    "# 25/03/2022"
   ]
  },
  {
   "cell_type": "code",
   "execution_count": 7,
   "id": "4623797e",
   "metadata": {},
   "outputs": [
    {
     "name": "stdout",
     "output_type": "stream",
     "text": [
      "The entry is a\n",
      "Ooops! (<class 'ValueError'>, ValueError(\"invalid literal for int() with base 10: 'a'\"), <traceback object at 0x0000013ED5B67D40>) occured\n",
      "Next Entry: \n",
      "\n",
      "The entry is 0\n",
      "Ooops! (<class 'ZeroDivisionError'>, ZeroDivisionError('division by zero'), <traceback object at 0x0000013ED5B67D40>) occured\n",
      "Next Entry: \n",
      "\n",
      "The entry is 2\n",
      "The reciprocal of 2 is 0.5\n"
     ]
    }
   ],
   "source": [
    "import sys\n",
    "randomList = ['a',0,2]\n",
    "for entry in randomList:\n",
    "    try:\n",
    "        print(\"The entry is\", entry)\n",
    "        r = 1/int(entry)\n",
    "        break\n",
    "    except:\n",
    "        print(\"Ooops!\", sys.exc_info(), \"occured\")\n",
    "        print(\"Next Entry: \")\n",
    "        print()\n",
    "print(\"The reciprocal of\", entry, \"is\",r)"
   ]
  },
  {
   "cell_type": "code",
   "execution_count": 15,
   "id": "6a91c0bc",
   "metadata": {},
   "outputs": [
    {
     "name": "stdout",
     "output_type": "stream",
     "text": [
      "Enter a positive integer: -9\n",
      "That is not a positive number!\n"
     ]
    }
   ],
   "source": [
    "try:\n",
    "    a = int(input(\"Enter a positive integer: \"))\n",
    "    if a<=0:\n",
    "        raise ValueError(\"That is not a positive number!\")\n",
    "except ValueError as ve:\n",
    "    print(ve)"
   ]
  },
  {
   "cell_type": "code",
   "execution_count": 16,
   "id": "d87e1265",
   "metadata": {},
   "outputs": [
    {
     "name": "stdout",
     "output_type": "stream",
     "text": [
      "Enter a number: 1\n",
      "Not an even number!\n"
     ]
    }
   ],
   "source": [
    "try:\n",
    "    num = int(input(\"Enter a number: \"))\n",
    "    assert num%2 == 0\n",
    "except:\n",
    "    print(\"Not an even number!\")\n",
    "else:\n",
    "    reciprocal = 1/num\n",
    "    print(reciprocal)"
   ]
  },
  {
   "cell_type": "code",
   "execution_count": 17,
   "id": "302cc7e0",
   "metadata": {},
   "outputs": [
    {
     "name": "stdout",
     "output_type": "stream",
     "text": [
      "Enter a number: 8\n",
      "0.125\n"
     ]
    }
   ],
   "source": [
    "try:\n",
    "    num = int(input(\"Enter a number: \"))\n",
    "    assert num%2 == 0\n",
    "except:\n",
    "    print(\"Not an even number!\")\n",
    "else:\n",
    "    reciprocal = 1/num\n",
    "    print(reciprocal)"
   ]
  },
  {
   "cell_type": "code",
   "execution_count": 19,
   "id": "f7a7f29a",
   "metadata": {},
   "outputs": [
    {
     "ename": "NameError",
     "evalue": "name 'f' is not defined",
     "output_type": "error",
     "traceback": [
      "\u001b[1;31m---------------------------------------------------------------------------\u001b[0m",
      "\u001b[1;31mFileNotFoundError\u001b[0m                         Traceback (most recent call last)",
      "\u001b[1;32m~\\AppData\\Local\\Temp/ipykernel_4812/1596038303.py\u001b[0m in \u001b[0;36m<module>\u001b[1;34m\u001b[0m\n\u001b[0;32m      1\u001b[0m \u001b[1;32mtry\u001b[0m\u001b[1;33m:\u001b[0m\u001b[1;33m\u001b[0m\u001b[1;33m\u001b[0m\u001b[0m\n\u001b[1;32m----> 2\u001b[1;33m     \u001b[0mf\u001b[0m \u001b[1;33m=\u001b[0m \u001b[0mopen\u001b[0m\u001b[1;33m(\u001b[0m\u001b[1;34m\"text.txt\"\u001b[0m\u001b[1;33m,\u001b[0m\u001b[0mencoding\u001b[0m \u001b[1;33m=\u001b[0m \u001b[1;34m'utf-8'\u001b[0m\u001b[1;33m)\u001b[0m\u001b[1;33m\u001b[0m\u001b[1;33m\u001b[0m\u001b[0m\n\u001b[0m\u001b[0;32m      3\u001b[0m \u001b[1;32mfinally\u001b[0m\u001b[1;33m:\u001b[0m\u001b[1;33m\u001b[0m\u001b[1;33m\u001b[0m\u001b[0m\n",
      "\u001b[1;31mFileNotFoundError\u001b[0m: [Errno 2] No such file or directory: 'text.txt'",
      "\nDuring handling of the above exception, another exception occurred:\n",
      "\u001b[1;31mNameError\u001b[0m                                 Traceback (most recent call last)",
      "\u001b[1;32m~\\AppData\\Local\\Temp/ipykernel_4812/1596038303.py\u001b[0m in \u001b[0;36m<module>\u001b[1;34m\u001b[0m\n\u001b[0;32m      2\u001b[0m     \u001b[0mf\u001b[0m \u001b[1;33m=\u001b[0m \u001b[0mopen\u001b[0m\u001b[1;33m(\u001b[0m\u001b[1;34m\"text.txt\"\u001b[0m\u001b[1;33m,\u001b[0m\u001b[0mencoding\u001b[0m \u001b[1;33m=\u001b[0m \u001b[1;34m'utf-8'\u001b[0m\u001b[1;33m)\u001b[0m\u001b[1;33m\u001b[0m\u001b[1;33m\u001b[0m\u001b[0m\n\u001b[0;32m      3\u001b[0m \u001b[1;32mfinally\u001b[0m\u001b[1;33m:\u001b[0m\u001b[1;33m\u001b[0m\u001b[1;33m\u001b[0m\u001b[0m\n\u001b[1;32m----> 4\u001b[1;33m     \u001b[0mf\u001b[0m\u001b[1;33m.\u001b[0m\u001b[0mclose\u001b[0m\u001b[1;33m(\u001b[0m\u001b[1;33m)\u001b[0m\u001b[1;33m\u001b[0m\u001b[1;33m\u001b[0m\u001b[0m\n\u001b[0m",
      "\u001b[1;31mNameError\u001b[0m: name 'f' is not defined"
     ]
    }
   ],
   "source": [
    "try:\n",
    "    f = open(\"text.txt\",encoding = 'utf-8')\n",
    "finally:\n",
    "    f.close()"
   ]
  },
  {
   "cell_type": "code",
   "execution_count": 22,
   "id": "39a62954",
   "metadata": {},
   "outputs": [
    {
     "name": "stdout",
     "output_type": "stream",
     "text": [
      "<class '__main__.MyClass'>\n"
     ]
    }
   ],
   "source": [
    "class MyClass:x=5\n",
    "print(MyClass)"
   ]
  },
  {
   "cell_type": "code",
   "execution_count": 23,
   "id": "0c49f09c",
   "metadata": {},
   "outputs": [
    {
     "name": "stdout",
     "output_type": "stream",
     "text": [
      "5\n"
     ]
    }
   ],
   "source": [
    "class MyClass:x=5\n",
    "p1 = MyClass()\n",
    "print(p1.x)"
   ]
  },
  {
   "cell_type": "code",
   "execution_count": 114,
   "id": "20420a5a",
   "metadata": {},
   "outputs": [
    {
     "name": "stdout",
     "output_type": "stream",
     "text": [
      "Arun\n",
      "26\n"
     ]
    }
   ],
   "source": [
    "class Person:\n",
    "    def __init__(self,name,age):\n",
    "        self.name = name\n",
    "        self.age = age\n",
    "p1 = Person(\"Arun\", 26)\n",
    "\n",
    "print(p1.name)\n",
    "print(p1.age)"
   ]
  },
  {
   "cell_type": "code",
   "execution_count": 115,
   "id": "22ea661c",
   "metadata": {},
   "outputs": [
    {
     "name": "stdout",
     "output_type": "stream",
     "text": [
      "Hello my name isArun\n"
     ]
    }
   ],
   "source": [
    "class Person:\n",
    "    def __init__(self,name,age):\n",
    "        self.name = name\n",
    "        self.age = age\n",
    "    \n",
    "    def myfunc(self):\n",
    "        print(\"Hello my name is\" + self.name)\n",
    "    \n",
    "p1 = Person(\"Arun\", 26)\n",
    "p1.myfunc()"
   ]
  },
  {
   "cell_type": "code",
   "execution_count": 116,
   "id": "b9f68700",
   "metadata": {},
   "outputs": [
    {
     "name": "stdout",
     "output_type": "stream",
     "text": [
      "Hello my name isArun\n"
     ]
    }
   ],
   "source": [
    "class Person:\n",
    "    def __init__(mysillyobject,name,age):\n",
    "        mysillyobject.name = name\n",
    "        mysillyobject.age = age\n",
    "\n",
    "    def myfunc(abc):\n",
    "        print(\"Hello my name is\" + abc.name)\n",
    "    \n",
    "p1 = Person(\"Arun\", 26)\n",
    "p1.myfunc()"
   ]
  },
  {
   "cell_type": "code",
   "execution_count": 117,
   "id": "405fe473",
   "metadata": {},
   "outputs": [
    {
     "name": "stdout",
     "output_type": "stream",
     "text": [
      "Hello my name isArun\n",
      "30\n"
     ]
    }
   ],
   "source": [
    "class Person:\n",
    "    def __init__(self,name,age):\n",
    "        self.name = name\n",
    "        self.age = age\n",
    "\n",
    "    def myfunc(self):\n",
    "        print(\"Hello my name is\" + self.name)\n",
    "    \n",
    "p1 = Person(\"Arun\", 26)\n",
    "p1.myfunc()\n",
    "\n",
    "p1.age=30;\n",
    "print(p1.age)"
   ]
  },
  {
   "cell_type": "code",
   "execution_count": 118,
   "id": "4895fc8b",
   "metadata": {},
   "outputs": [
    {
     "ename": "AttributeError",
     "evalue": "'Person' object has no attribute 'age'",
     "output_type": "error",
     "traceback": [
      "\u001b[1;31m---------------------------------------------------------------------------\u001b[0m",
      "\u001b[1;31mAttributeError\u001b[0m                            Traceback (most recent call last)",
      "\u001b[1;32m~\\AppData\\Local\\Temp/ipykernel_4812/4268454542.py\u001b[0m in \u001b[0;36m<module>\u001b[1;34m\u001b[0m\n\u001b[0;32m      9\u001b[0m \u001b[0mp1\u001b[0m \u001b[1;33m=\u001b[0m \u001b[0mPerson\u001b[0m\u001b[1;33m(\u001b[0m\u001b[1;34m\"John\"\u001b[0m\u001b[1;33m,\u001b[0m \u001b[1;36m36\u001b[0m\u001b[1;33m)\u001b[0m\u001b[1;33m\u001b[0m\u001b[1;33m\u001b[0m\u001b[0m\n\u001b[0;32m     10\u001b[0m \u001b[1;32mdel\u001b[0m \u001b[0mp1\u001b[0m\u001b[1;33m.\u001b[0m\u001b[0mage\u001b[0m\u001b[1;33m\u001b[0m\u001b[1;33m\u001b[0m\u001b[0m\n\u001b[1;32m---> 11\u001b[1;33m \u001b[0mprint\u001b[0m\u001b[1;33m(\u001b[0m\u001b[0mp1\u001b[0m\u001b[1;33m.\u001b[0m\u001b[0mage\u001b[0m\u001b[1;33m)\u001b[0m\u001b[1;33m\u001b[0m\u001b[1;33m\u001b[0m\u001b[0m\n\u001b[0m",
      "\u001b[1;31mAttributeError\u001b[0m: 'Person' object has no attribute 'age'"
     ]
    }
   ],
   "source": [
    "class Person:\n",
    "    def __init__(self,name,age):\n",
    "        self.name = name\n",
    "        self.age = age\n",
    "\n",
    "    def myfunc(self):\n",
    "        print(\"Hello my name is\" + self.name)\n",
    "    \n",
    "p1 = Person(\"John\", 36)\n",
    "del p1.age\n",
    "print(p1.age)"
   ]
  },
  {
   "cell_type": "code",
   "execution_count": 119,
   "id": "10b78ef6",
   "metadata": {},
   "outputs": [
    {
     "name": "stdout",
     "output_type": "stream",
     "text": [
      "Hello my name isJohn\n"
     ]
    }
   ],
   "source": [
    "class Person:\n",
    "    def __init__(self,name,age):\n",
    "        self.name = name\n",
    "        self.age = age\n",
    "\n",
    "    def myfunc(self):\n",
    "        print(\"Hello my name is\" + self.name)\n",
    "    \n",
    "p1 = Person(\"John\", 36)\n",
    "del p1.age\n",
    "p1.myfunc()\n",
    "# print(p1)"
   ]
  },
  {
   "cell_type": "code",
   "execution_count": 38,
   "id": "33f9ab8f",
   "metadata": {},
   "outputs": [
    {
     "name": "stdout",
     "output_type": "stream",
     "text": [
      "The input is not supported.\n",
      "-8 is not a positive integer.\n",
      "The input is not supported.\n",
      "2.1 is not a positive integer.\n"
     ]
    },
    {
     "name": "stderr",
     "output_type": "stream",
     "text": [
      "C:\\Users\\iasms\\AppData\\Local\\Temp/ipykernel_4812/2154265454.py:5: DeprecationWarning: Using factorial() with floats is deprecated\n",
      "  number_factorial = math.factorial(number)\n"
     ]
    }
   ],
   "source": [
    "# Multiple Exceptions \n",
    "import math\n",
    "integers = ['orange',6,-8,'apple',2.10]\n",
    "for number in integers:\n",
    "    try:\n",
    "        number_factorial = math.factorial(number)\n",
    "    except TypeError:\n",
    "        print(\"The input is not supported.\")\n",
    "    except ValueError:\n",
    "        print(number,\"is not a positive integer.\")"
   ]
  },
  {
   "cell_type": "code",
   "execution_count": 39,
   "id": "3d0d26e7",
   "metadata": {},
   "outputs": [
    {
     "name": "stdout",
     "output_type": "stream",
     "text": [
      "The zero can't be divided\n",
      "The number is in the string format\n"
     ]
    }
   ],
   "source": [
    "import sys\n",
    "try:\n",
    "    n=0\n",
    "    m=2\n",
    "    c=m/n\n",
    "except(ZeroDivisionError) as e:\n",
    "    print(\"The zero can't be divided\")\n",
    "try:\n",
    "    n=2\n",
    "    m='3'\n",
    "    p=m+n\n",
    "except TypeError:\n",
    "    print('The number is in the string format')\n",
    "    "
   ]
  },
  {
   "cell_type": "code",
   "execution_count": 40,
   "id": "2204031a",
   "metadata": {},
   "outputs": [
    {
     "name": "stdout",
     "output_type": "stream",
     "text": [
      "unsupported operand type(s) for +: 'int' and 'str'\n",
      "The number is given in string format\n"
     ]
    }
   ],
   "source": [
    "try:\n",
    "    number=2\n",
    "    number=number+'5'\n",
    "except(TypeError,SyntaxError,ValueError) as e:\n",
    "    print(e)\n",
    "    print(\"The number is given in string format\")\n",
    "    "
   ]
  },
  {
   "cell_type": "code",
   "execution_count": 41,
   "id": "d6051cf8",
   "metadata": {},
   "outputs": [
    {
     "name": "stdout",
     "output_type": "stream",
     "text": [
      "Error\n",
      "exception occured\n",
      "Invalid Synatx\n"
     ]
    }
   ],
   "source": [
    "try:\n",
    "    print(x)\n",
    "except TypeError:\n",
    "    print(\"x is not defined\")\n",
    "except:\n",
    "    print(\"Error\")\n",
    "try:\n",
    "    print(a+b)\n",
    "except:\n",
    "    print(\"exception occured\")\n",
    "try:\n",
    "    print(hello)\n",
    "except SyntaxError as e:\n",
    "    print(\"Invalid Syntax\")\n",
    "except:\n",
    "    print(\"Invalid Synatx\")"
   ]
  },
  {
   "cell_type": "code",
   "execution_count": 44,
   "id": "7fdcba06",
   "metadata": {},
   "outputs": [
    {
     "name": "stdout",
     "output_type": "stream",
     "text": [
      "Enter a number: 11\n",
      "The value is too large, try again!\n",
      "\n",
      "Enter a number: 14\n",
      "The value is too large, try again!\n",
      "\n",
      "Enter a number: 8\n",
      "The value is too small, try again!\n",
      "\n",
      "Enter a number: 1\n",
      "The value is too small, try again!\n",
      "\n",
      "Enter a number: 10\n",
      "Congratulations! You guessed it correctly\n"
     ]
    }
   ],
   "source": [
    "class Error(Exception):\n",
    "    \"\"\"Base class for other exceptions\"\"\"\n",
    "    pass\n",
    "class ValueTooSmallError(Error):\n",
    "    \"\"\"Raised when the input value is too small\"\"\"\n",
    "    pass\n",
    "class ValueTooLargeError(Error):\n",
    "    \"\"\"Raised when the input value is too large\"\"\"\n",
    "    pass\n",
    "number = 10\n",
    "while True:\n",
    "    try:\n",
    "        i_num=int(input(\"Enter a number: \"))\n",
    "        if i_num < number:\n",
    "            raise ValueTooSmallError\n",
    "        elif i_num > number:\n",
    "            raise ValueTooLargeError\n",
    "        break\n",
    "    except ValueTooSmallError:\n",
    "        print(\"The value is too small, try again!\")\n",
    "        print()\n",
    "    except ValueTooLargeError:\n",
    "        print(\"The value is too large, try again!\")\n",
    "        print()\n",
    "print(\"Congratulations! You guessed it correctly\")\n",
    "        \n"
   ]
  },
  {
   "cell_type": "code",
   "execution_count": 120,
   "id": "d947162a",
   "metadata": {},
   "outputs": [
    {
     "name": "stdout",
     "output_type": "stream",
     "text": [
      "Hello,my name is Nikhil\n"
     ]
    }
   ],
   "source": [
    "class Person:\n",
    "    def __init__(self,name):\n",
    "        self.name=name\n",
    "    def say_hi(self):\n",
    "        print('Hello,my name is',self.name)\n",
    "p=Person('Nikhil')\n",
    "p.say_hi()"
   ]
  },
  {
   "cell_type": "code",
   "execution_count": null,
   "id": "a2ebfb08",
   "metadata": {},
   "outputs": [],
   "source": []
  },
  {
   "cell_type": "code",
   "execution_count": null,
   "id": "3e158ad5",
   "metadata": {},
   "outputs": [],
   "source": []
  },
  {
   "cell_type": "markdown",
   "id": "b79c509e",
   "metadata": {},
   "source": [
    "# INHERITANCE"
   ]
  },
  {
   "cell_type": "code",
   "execution_count": 47,
   "id": "2fe16a0b",
   "metadata": {},
   "outputs": [
    {
     "name": "stdout",
     "output_type": "stream",
     "text": [
      "This function is in parent class\n",
      "This function is in child class\n"
     ]
    }
   ],
   "source": [
    "# Single Inheritance\n",
    "class Parent:\n",
    "    def func1(self):\n",
    "        print(\"This function is in parent class\")\n",
    "class Child(Parent):\n",
    "    def func2(self):\n",
    "        print(\"This function is in child class\")\n",
    "object = Child()\n",
    "object.func1()\n",
    "object.func2()"
   ]
  },
  {
   "cell_type": "code",
   "execution_count": 49,
   "id": "e4c45463",
   "metadata": {},
   "outputs": [
    {
     "name": "stdout",
     "output_type": "stream",
     "text": [
      "Father: RAM\n",
      "Mother: SITA\n"
     ]
    }
   ],
   "source": [
    "# Multiple Inheritance\n",
    "class Mother:\n",
    "    mothername=\"\"\n",
    "    def mother(self):\n",
    "        print(self.mothername)\n",
    "class Father:\n",
    "    fathername=\"\"\n",
    "    def father(self):\n",
    "        print(self.fathername)\n",
    "class Son(Mother, Father):\n",
    "    def parents(self):\n",
    "        print(\"Father:\", self.fathername)\n",
    "        print(\"Mother:\", self.mothername)\n",
    "s1=Son()\n",
    "s1.fathername=\"RAM\"\n",
    "s1.mothername=\"SITA\"\n",
    "s1.parents()"
   ]
  },
  {
   "cell_type": "code",
   "execution_count": 66,
   "id": "43b05fb2",
   "metadata": {},
   "outputs": [
    {
     "name": "stdout",
     "output_type": "stream",
     "text": [
      "This is our family: \n",
      "Father: Mark\n",
      "Mother: Sonia\n"
     ]
    }
   ],
   "source": [
    "# Multilevel Inheritance\n",
    "class Family:\n",
    "    def show_family(self):\n",
    "        print(\"This is our family: \")\n",
    "class Father(Family):\n",
    "    fathername=\"\"\n",
    "    def show_father(self):\n",
    "        print(self.fathername)\n",
    "class Mother(Family):\n",
    "    mothername=\"\"\n",
    "    def show_mother(self):\n",
    "        print(self.mothername)\n",
    "class Son(Father,Mother):\n",
    "    def show_parents(self):\n",
    "        print(\"Father:\", self.fathername)\n",
    "        print(\"Mother:\", self.mothername)\n",
    "s1=Son()\n",
    "s1.fathername=\"Mark\"\n",
    "s1.mothername=\"Sonia\"\n",
    "s1.show_family()\n",
    "s1.show_parents()"
   ]
  },
  {
   "cell_type": "code",
   "execution_count": 51,
   "id": "4d9616cf",
   "metadata": {},
   "outputs": [
    {
     "name": "stdout",
     "output_type": "stream",
     "text": [
      "This function is in parent class.\n",
      "This function is in child1.\n",
      "This function is in parent class.\n",
      "This function is in child2.\n"
     ]
    }
   ],
   "source": [
    "# Hierarchical Inheritance\n",
    "class Parent:\n",
    "    def func1(self):\n",
    "        print(\"This function is in parent class.\")\n",
    "class Child1(Parent):\n",
    "    def func2(self2):\n",
    "        print(\"This function is in child1.\")\n",
    "class Child2(Parent):\n",
    "    def func3(self):\n",
    "        print(\"This function is in child2.\")\n",
    "object1 = Child1()\n",
    "object2 = Child2()\n",
    "object1.func1()\n",
    "object1.func2()\n",
    "object2.func1()\n",
    "object2.func3()"
   ]
  },
  {
   "cell_type": "code",
   "execution_count": 53,
   "id": "155d851b",
   "metadata": {},
   "outputs": [
    {
     "name": "stdout",
     "output_type": "stream",
     "text": [
      "This function is in school.\n",
      "This function is in student 3\n"
     ]
    }
   ],
   "source": [
    "# Hybrid Inheritance\n",
    "class School:\n",
    "    def func1(self):\n",
    "        print(\"This function is in school.\")\n",
    "class Student1(School):\n",
    "    def func2(self):\n",
    "        print(\"This function is in student 1\")\n",
    "class Student2(School):\n",
    "    def func3(self):\n",
    "        print(\"This function is in student 2\")\n",
    "class Student3(School):\n",
    "    def func4(self):\n",
    "        print(\"This function is in student 3\")\n",
    "object=Student3()\n",
    "object.func1()\n",
    "object.func4()"
   ]
  },
  {
   "cell_type": "code",
   "execution_count": null,
   "id": "2decb7d5",
   "metadata": {},
   "outputs": [],
   "source": []
  },
  {
   "cell_type": "code",
   "execution_count": null,
   "id": "d1b59b08",
   "metadata": {},
   "outputs": [],
   "source": []
  },
  {
   "cell_type": "markdown",
   "id": "a75f44a0",
   "metadata": {},
   "source": [
    "# Method Overriding"
   ]
  },
  {
   "cell_type": "code",
   "execution_count": 54,
   "id": "d213a1be",
   "metadata": {},
   "outputs": [
    {
     "name": "stdout",
     "output_type": "stream",
     "text": [
      "I eat only plants. I am vegetarian.\n",
      "I breathe oxygen.\n"
     ]
    }
   ],
   "source": [
    "class Animal:\n",
    "    multicellular = True\n",
    "    eukaryotic=True\n",
    "    def breathe(self):\n",
    "        print(\"I breathe oxygen.\")\n",
    "    def feed(self):\n",
    "        print(\"I eat food.\")\n",
    "class Herbivorous(Animal):\n",
    "    def feed(self):\n",
    "        print(\"I eat only plants. I am vegetarian.\")\n",
    "herbi = Herbivorous()\n",
    "herbi.feed()\n",
    "herbi.breathe()"
   ]
  },
  {
   "cell_type": "code",
   "execution_count": null,
   "id": "4729e1f0",
   "metadata": {},
   "outputs": [],
   "source": []
  },
  {
   "cell_type": "markdown",
   "id": "ff8cfffd",
   "metadata": {},
   "source": [
    "# DECORATORS"
   ]
  },
  {
   "cell_type": "code",
   "execution_count": 55,
   "id": "625a1033",
   "metadata": {},
   "outputs": [
    {
     "name": "stdout",
     "output_type": "stream",
     "text": [
      "Hello\n",
      "Hello\n"
     ]
    }
   ],
   "source": [
    "def first(msg):\n",
    "    print(msg)\n",
    "first(\"Hello\")\n",
    "second=first\n",
    "second(\"Hello\")"
   ]
  },
  {
   "cell_type": "code",
   "execution_count": 56,
   "id": "8fc0c30f",
   "metadata": {},
   "outputs": [],
   "source": [
    "def inc(x):\n",
    "    return x+1\n",
    "def dec(x):\n",
    "    return x-1\n",
    "def operate(func,x):\n",
    "    result=func(x)\n",
    "    return result"
   ]
  },
  {
   "cell_type": "code",
   "execution_count": 57,
   "id": "d84a8b4f",
   "metadata": {},
   "outputs": [
    {
     "name": "stdout",
     "output_type": "stream",
     "text": [
      "Hello\n"
     ]
    }
   ],
   "source": [
    "# A function returning another function\n",
    "def is_called():\n",
    "    def is_returned():\n",
    "        print(\"Hello\")\n",
    "    return is_returned\n",
    "new=is_called()\n",
    "new()"
   ]
  },
  {
   "cell_type": "code",
   "execution_count": 62,
   "id": "c8e29cec",
   "metadata": {},
   "outputs": [],
   "source": [
    "def make_pretty(func):\n",
    "    def inner():\n",
    "        print(\"I got decorated\")\n",
    "        func()\n",
    "    return inner\n",
    "def ordinary():\n",
    "    print(\"I am ordinary\")"
   ]
  },
  {
   "cell_type": "code",
   "execution_count": 61,
   "id": "59a0615d",
   "metadata": {},
   "outputs": [],
   "source": [
    "def make_pretty(func):\n",
    "    def inner():\n",
    "        print(\"I got decorated\")\n",
    "        func()\n",
    "    return inner\n",
    "def ordinary():\n",
    "    print(\"I am ordinary\")\n",
    "ordinary = make_pretty(ordinary)"
   ]
  },
  {
   "cell_type": "code",
   "execution_count": 63,
   "id": "ac0cd55d",
   "metadata": {},
   "outputs": [],
   "source": [
    "def make_pretty(func):\n",
    "    def inner():\n",
    "        print(\"I got decorated\")\n",
    "        func()\n",
    "    return inner\n",
    "@make_pretty \n",
    "def ordinary():\n",
    "    print(\"I am ordinary\")"
   ]
  },
  {
   "cell_type": "code",
   "execution_count": 64,
   "id": "f8f78fdf",
   "metadata": {},
   "outputs": [],
   "source": [
    "def smart_divide(func):\n",
    "    def inner(a,b):\n",
    "        print(\"I am going to divide\", a, \"and\", b)\n",
    "        if b==0:\n",
    "            print(\"Whoops! cannot divide\")\n",
    "            return\n",
    "        return func(a,b)\n",
    "    return inner\n",
    "@smart_divide\n",
    "def divide(a,b):\n",
    "    print(a/b)"
   ]
  },
  {
   "cell_type": "code",
   "execution_count": 87,
   "id": "274f6907",
   "metadata": {},
   "outputs": [
    {
     "name": "stdout",
     "output_type": "stream",
     "text": [
      "4895\n"
     ]
    }
   ],
   "source": [
    "def fibbonacci_numbers(nums):\n",
    "    x,y=0,1\n",
    "    for i in range(nums):\n",
    "        x,y = y,x+y\n",
    "        yield x\n",
    "def square(nums):\n",
    "    for num in nums:\n",
    "        yield num**2\n",
    "print(sum(square(fibbonacci_numbers(10))))"
   ]
  },
  {
   "cell_type": "code",
   "execution_count": null,
   "id": "fca37a8c",
   "metadata": {},
   "outputs": [],
   "source": []
  },
  {
   "cell_type": "markdown",
   "id": "90b00139",
   "metadata": {},
   "source": [
    "# ARRAY"
   ]
  },
  {
   "cell_type": "code",
   "execution_count": 67,
   "id": "e1daa884",
   "metadata": {},
   "outputs": [
    {
     "name": "stdout",
     "output_type": "stream",
     "text": [
      "Ford\n",
      "Volvo\n",
      "BMW\n"
     ]
    }
   ],
   "source": [
    "cars = [\"Ford\", \"Volvo\", \"BMW\"]\n",
    "for x in cars:\n",
    "    print(x)\n",
    "    "
   ]
  },
  {
   "cell_type": "code",
   "execution_count": 68,
   "id": "8697094e",
   "metadata": {},
   "outputs": [
    {
     "name": "stdout",
     "output_type": "stream",
     "text": [
      "['Ford', 'Volvo', 'BMW', 'Honda']\n"
     ]
    }
   ],
   "source": [
    "cars.append(\"Honda\")\n",
    "print(cars)"
   ]
  },
  {
   "cell_type": "code",
   "execution_count": 69,
   "id": "4f790260",
   "metadata": {},
   "outputs": [
    {
     "name": "stdout",
     "output_type": "stream",
     "text": [
      "['Ford', 'Volvo', 'Honda']\n"
     ]
    }
   ],
   "source": [
    "cars.pop(2)\n",
    "print(cars)"
   ]
  },
  {
   "cell_type": "code",
   "execution_count": null,
   "id": "349a10cb",
   "metadata": {},
   "outputs": [],
   "source": []
  },
  {
   "cell_type": "code",
   "execution_count": 70,
   "id": "e4ab10c3",
   "metadata": {},
   "outputs": [
    {
     "name": "stdout",
     "output_type": "stream",
     "text": [
      "First element:  2\n",
      "Second element:  4\n",
      "last element:  8\n"
     ]
    }
   ],
   "source": [
    "import array as arr\n",
    "a = arr.array('i', [2,4,6,8])\n",
    "print(\"First element: \",a[0])\n",
    "print(\"Second element: \",a[1])\n",
    "print(\"last element: \",a[-1])"
   ]
  },
  {
   "cell_type": "code",
   "execution_count": 72,
   "id": "07ed250c",
   "metadata": {},
   "outputs": [
    {
     "name": "stdout",
     "output_type": "stream",
     "text": [
      "array('i', [62, 5, 42])\n",
      "array('i', [2, 5, 62])\n",
      "array('i', [52, 48, 5])\n",
      "array('i', [2, 5, 62, 5, 42, 52, 48, 5])\n"
     ]
    }
   ],
   "source": [
    "import array as arr\n",
    "numbers_list = [2,5,62,5,42,52,48,5]\n",
    "numbers_array=arr.array('i',numbers_list)\n",
    "\n",
    "print(numbers_array[2:5])  #3rd to 5th\n",
    "print(numbers_array[:-5])  #beginning to 4th\n",
    "print(numbers_array[5:])   #6th to end\n",
    "print(numbers_array[:])    #begining to end"
   ]
  },
  {
   "cell_type": "code",
   "execution_count": 73,
   "id": "9746fb8b",
   "metadata": {},
   "outputs": [
    {
     "name": "stdout",
     "output_type": "stream",
     "text": [
      "array('i', [0, 2, 3, 5, 7, 10])\n",
      "array('i', [0, 2, 4, 6, 8, 10])\n"
     ]
    }
   ],
   "source": [
    "import array as arr\n",
    "numbers = arr.array('i',[1,2,3,5,7,10])\n",
    "\n",
    "numbers[0]=0\n",
    "print(numbers)\n",
    "\n",
    "numbers[2:5]=arr.array('i',[4,6,8])\n",
    "print(numbers)"
   ]
  },
  {
   "cell_type": "code",
   "execution_count": 74,
   "id": "8bdfaebc",
   "metadata": {},
   "outputs": [
    {
     "name": "stdout",
     "output_type": "stream",
     "text": [
      "array('i', [1, 2, 3, 4])\n",
      "array('i', [1, 2, 3, 4, 5, 6, 7])\n"
     ]
    }
   ],
   "source": [
    "import array as arr\n",
    "numbers = arr.array('i',[1,2,3])\n",
    "\n",
    "numbers.append(4)\n",
    "print(numbers)\n",
    "\n",
    "numbers.extend([5,6,7])\n",
    "print(numbers)"
   ]
  },
  {
   "cell_type": "code",
   "execution_count": 76,
   "id": "e4896eb0",
   "metadata": {},
   "outputs": [
    {
     "name": "stdout",
     "output_type": "stream",
     "text": [
      "array('i', [1, 2, 4, 5])\n"
     ]
    }
   ],
   "source": [
    "import array as arr\n",
    "number = arr.array('i',[1,2,3,4,5])\n",
    "\n",
    "del number[2]\n",
    "print(number)"
   ]
  },
  {
   "cell_type": "code",
   "execution_count": 77,
   "id": "9c3105f1",
   "metadata": {},
   "outputs": [
    {
     "ename": "NameError",
     "evalue": "name 'number' is not defined",
     "output_type": "error",
     "traceback": [
      "\u001b[1;31m---------------------------------------------------------------------------\u001b[0m",
      "\u001b[1;31mNameError\u001b[0m                                 Traceback (most recent call last)",
      "\u001b[1;32m~\\AppData\\Local\\Temp/ipykernel_4812/4045806363.py\u001b[0m in \u001b[0;36m<module>\u001b[1;34m\u001b[0m\n\u001b[0;32m      1\u001b[0m \u001b[1;32mdel\u001b[0m \u001b[0mnumber\u001b[0m\u001b[1;33m\u001b[0m\u001b[1;33m\u001b[0m\u001b[0m\n\u001b[1;32m----> 2\u001b[1;33m \u001b[0mprint\u001b[0m\u001b[1;33m(\u001b[0m\u001b[0mnumber\u001b[0m\u001b[1;33m)\u001b[0m\u001b[1;33m\u001b[0m\u001b[1;33m\u001b[0m\u001b[0m\n\u001b[0m",
      "\u001b[1;31mNameError\u001b[0m: name 'number' is not defined"
     ]
    }
   ],
   "source": [
    "del number\n",
    "print(number)"
   ]
  },
  {
   "cell_type": "code",
   "execution_count": 78,
   "id": "71641e66",
   "metadata": {},
   "outputs": [
    {
     "name": "stdout",
     "output_type": "stream",
     "text": [
      "array('i', [10, 11, 12, 13])\n"
     ]
    }
   ],
   "source": [
    "import array as arr\n",
    "numbers = arr.array('i',[10,11,12,12,13])\n",
    "numbers.remove(12)\n",
    "print(numbers)"
   ]
  },
  {
   "cell_type": "code",
   "execution_count": 80,
   "id": "0c788025",
   "metadata": {},
   "outputs": [
    {
     "name": "stdout",
     "output_type": "stream",
     "text": [
      "12\n",
      "array('i', [10, 11, 13])\n"
     ]
    }
   ],
   "source": [
    "print(numbers.pop(2))\n",
    "print(numbers)"
   ]
  },
  {
   "cell_type": "code",
   "execution_count": 84,
   "id": "76609037",
   "metadata": {},
   "outputs": [
    {
     "name": "stdout",
     "output_type": "stream",
     "text": [
      "[17, 15, 4]\n",
      "[10, 12, 15]\n",
      "[11, 13, 18]\n"
     ]
    }
   ],
   "source": [
    "X = [[12,7,3],\n",
    "    [4,5,6],\n",
    "    [7,8,9]]\n",
    "Y = [[5,8,1],\n",
    "     [6,7,9],\n",
    "     [4,5,9]]\n",
    "result = [[0,0,0],\n",
    "         [0,0,0],\n",
    "         [0,0,0]]\n",
    "\n",
    "for i in range(len(X)):\n",
    "    for j in range(len(X[0])):\n",
    "        result[i][j] = X[i][j] + Y[i][j]\n",
    "        \n",
    "for r in result:\n",
    "    print(r)"
   ]
  },
  {
   "cell_type": "code",
   "execution_count": 85,
   "id": "48397f7a",
   "metadata": {},
   "outputs": [
    {
     "name": "stdout",
     "output_type": "stream",
     "text": [
      "[12, 4, 3]\n",
      "[7, 5, 8]\n"
     ]
    }
   ],
   "source": [
    "X = [[12,7],\n",
    "    [4,5],\n",
    "    [3,8]]\n",
    "\n",
    "result = [[0,0,0],\n",
    "         [0,0,0]]\n",
    "\n",
    "for i in range(len(X)):\n",
    "    for j in range(len(X[0])):\n",
    "        result[j][i] = X[i][j]\n",
    "        \n",
    "for r in result:\n",
    "    print(r)"
   ]
  },
  {
   "cell_type": "code",
   "execution_count": null,
   "id": "ac680fe2",
   "metadata": {},
   "outputs": [],
   "source": []
  },
  {
   "cell_type": "code",
   "execution_count": null,
   "id": "531e351f",
   "metadata": {},
   "outputs": [],
   "source": []
  },
  {
   "cell_type": "markdown",
   "id": "f2b7d840",
   "metadata": {},
   "source": [
    "# Threading"
   ]
  },
  {
   "cell_type": "code",
   "execution_count": 88,
   "id": "cb51940c",
   "metadata": {},
   "outputs": [
    {
     "name": "stdout",
     "output_type": "stream",
     "text": [
      "1\n",
      "Done Sleeping\n",
      "2\n",
      "3\n"
     ]
    }
   ],
   "source": [
    "import time\n",
    "print(1)\n",
    "time.sleep(10)\n",
    "print(\"Done Sleeping\")\n",
    "print(2)\n",
    "print(3)"
   ]
  },
  {
   "cell_type": "code",
   "execution_count": 90,
   "id": "6e46656f",
   "metadata": {},
   "outputs": [
    {
     "name": "stdout",
     "output_type": "stream",
     "text": [
      "Starting to sleep inside7\n",
      "\n",
      "Woke up inside\n",
      "Done\n"
     ]
    }
   ],
   "source": [
    "import threading\n",
    "import time\n",
    "def sleepy_man(secs):\n",
    "    print('Starting to sleep inside')\n",
    "    time.sleep(secs)\n",
    "    print('Woke up inside')\n",
    "x = threading.Thread(target=sleepy_man,args=(1,))\n",
    "x.start()\n",
    "print(threading.activeCount())\n",
    "time.sleep(1.2)\n",
    "print('Done')"
   ]
  },
  {
   "cell_type": "code",
   "execution_count": 91,
   "id": "8f76d993",
   "metadata": {},
   "outputs": [
    {
     "name": "stdout",
     "output_type": "stream",
     "text": [
      "Starting to sleep inside7\n",
      "\n",
      "Done\n",
      "Woke up inside\n"
     ]
    }
   ],
   "source": [
    "import threading\n",
    "import time\n",
    "def sleepy_man(secs):\n",
    "    print('Starting to sleep inside')\n",
    "    time.sleep(secs)\n",
    "    print('Woke up inside')\n",
    "x = threading.Thread(target = sleepy_man, args = (4,))\n",
    "x.start()\n",
    "print(threading.activeCount())\n",
    "time.sleep(1.2)\n",
    "print('Done')"
   ]
  },
  {
   "cell_type": "code",
   "execution_count": 108,
   "id": "80cea339",
   "metadata": {},
   "outputs": [],
   "source": [
    "from threading import Thread\n",
    "import time\n",
    "class FileLoaderThread(Thread):\n",
    "    def __init__(self,fileName,encryptionType):\n",
    "        Thread.__init__(self)\n",
    "        self.fileName = fileName\n",
    "        self.encryptionType = encryptionType\n",
    "    def run(self):\n",
    "        print('Stared loading contents from file: ',self.fileName)\n",
    "        print('Encryption Type: ', self.encryptionType)\n",
    "        for i in range(5):\n",
    "            print('Loading.......')\n",
    "            time.sleep(1)\n",
    "            print('Finished loading contents from file: ',self.fileName)\n",
    "def main():\n",
    "    th = FileLoaderThread('users.csv','ABC')\n",
    "    th.start()\n",
    "    for u in range(5):\n",
    "        print('Hi from Main Function')\n",
    "        time.sleep(1)\n",
    "        th.join()\n",
    "    if __name__ == '__main__':\n",
    "        main()\n"
   ]
  },
  {
   "cell_type": "code",
   "execution_count": 100,
   "id": "998d3535",
   "metadata": {},
   "outputs": [
    {
     "name": "stdout",
     "output_type": "stream",
     "text": [
      "running\n",
      "running\n",
      "running\n",
      "running\n",
      "running\n",
      "running\n",
      "running\n",
      "running\n",
      "running\n",
      "running\n",
      "thread  fnished......exiting\n"
     ]
    }
   ],
   "source": [
    "from threading import Thread\n",
    "from time import sleep\n",
    "def threaded_function(arg):\n",
    "    for i in range(arg):\n",
    "        print(\"running\")\n",
    "sleep(1)\n",
    "if __name__ == \"__main__\":\n",
    "    thread = Thread(target=threaded_function, args=(10,))\n",
    "    thread.start()\n",
    "    thread.join()\n",
    "    print(\"thread  fnished......exiting\")"
   ]
  },
  {
   "cell_type": "code",
   "execution_count": 109,
   "id": "fe335e5e",
   "metadata": {},
   "outputs": [
    {
     "name": "stdout",
     "output_type": "stream",
     "text": [
      "Main Method\n",
      "Main Method\n",
      "Main Method\n",
      "Main Method\n",
      "Main Method\n",
      "Main Method\n",
      "Main Method\n",
      "Main Method\n",
      "Main Method\n",
      "Main Method\n"
     ]
    }
   ],
   "source": [
    "from threading import*\n",
    "def dispolay():\n",
    "    for i in range(10):\n",
    "        print(\"Child Thread\")\n",
    "Thread_obj = Thread(target=display)\n",
    "Thread_obj.start()\n",
    "for i in range(10):\n",
    "    print('Main Method')"
   ]
  },
  {
   "cell_type": "code",
   "execution_count": 110,
   "id": "a0369bb3",
   "metadata": {},
   "outputs": [
    {
     "name": "stdout",
     "output_type": "stream",
     "text": [
      "Child ThreadMain Thread\n",
      "Main Thread\n",
      "Main Thread\n",
      "Main Thread\n",
      "Main Thread\n",
      "Main Thread\n",
      "Main Thread\n",
      "Main Thread\n",
      "\n",
      "Main Thread\n",
      "Main Thread\n",
      "Child Thread\n",
      "Child Thread\n",
      "Child Thread\n",
      "Child Thread\n",
      "Child Thread\n",
      "Child Thread\n",
      "Child Thread\n",
      "Child Thread\n",
      "Child Thread\n"
     ]
    }
   ],
   "source": [
    "from threading import*\n",
    "class MyThread(Thread):\n",
    "    def run(self):\n",
    "        for i in range(10):\n",
    "            print('Child Thread')\n",
    "t=MyThread()\n",
    "t.start()\n",
    "for i in range(10):\n",
    "    print('Main Thread')"
   ]
  },
  {
   "cell_type": "code",
   "execution_count": 112,
   "id": "b3703109",
   "metadata": {},
   "outputs": [
    {
     "name": "stdout",
     "output_type": "stream",
     "text": [
      "Child ThreadMain Thread\n",
      "Main Thread\n",
      "\n",
      "Child Thread\n",
      "Child Thread\n",
      "Child Thread\n",
      "Child Thread\n",
      "Child Thread\n",
      "Child Thread\n",
      "Child Thread\n",
      "Child Thread\n",
      "Child Thread\n",
      "Main Thread\n",
      "Main Thread\n",
      "Main Thread\n",
      "Main Thread\n",
      "Main Thread\n",
      "Main Thread\n",
      "Main Thread\n",
      "Main Thread\n"
     ]
    }
   ],
   "source": [
    "from threading import*\n",
    "class sample:\n",
    "    def method1(self):\n",
    "        for i in range(10):\n",
    "            print('Child Thread')\n",
    "obj=sample()\n",
    "thread_obj = Thread(target=obj.method1)\n",
    "thread_obj.start()\n",
    "for i in range(10):\n",
    "    print('Main Thread')"
   ]
  },
  {
   "cell_type": "code",
   "execution_count": null,
   "id": "83839bb3",
   "metadata": {},
   "outputs": [],
   "source": []
  },
  {
   "cell_type": "code",
   "execution_count": null,
   "id": "86f90cd1",
   "metadata": {},
   "outputs": [],
   "source": []
  },
  {
   "cell_type": "markdown",
   "id": "9ffbc6e1",
   "metadata": {},
   "source": [
    "# 26-03-2022"
   ]
  },
  {
   "cell_type": "markdown",
   "id": "ef4019ae",
   "metadata": {},
   "source": [
    "# Some Programs"
   ]
  },
  {
   "cell_type": "code",
   "execution_count": 3,
   "id": "86f5b68f",
   "metadata": {},
   "outputs": [
    {
     "name": "stdout",
     "output_type": "stream",
     "text": [
      "Python Version\n",
      "3.9.7 (default, Sep 16 2021, 16:59:28) [MSC v.1916 64 bit (AMD64)]\n",
      "Version info.\n",
      "sys.version_info(major=3, minor=9, micro=7, releaselevel='final', serial=0)\n"
     ]
    }
   ],
   "source": [
    "import sys\n",
    "print(\"Python Version\")\n",
    "print(sys.version)\n",
    "print(\"Version info.\")\n",
    "print(sys.version_info)"
   ]
  },
  {
   "cell_type": "code",
   "execution_count": 5,
   "id": "ce60d576",
   "metadata": {},
   "outputs": [
    {
     "name": "stdout",
     "output_type": "stream",
     "text": [
      "Current date and time: \n",
      "22-03-26-14-36-59\n"
     ]
    }
   ],
   "source": [
    "import datetime\n",
    "now = datetime.datetime.now()\n",
    "print(\"Current date and time: \")\n",
    "print(now.strftime(\"%y-%m-%d-%H-%M-%S\"))"
   ]
  },
  {
   "cell_type": "code",
   "execution_count": 8,
   "id": "bbfa58d4",
   "metadata": {},
   "outputs": [
    {
     "name": "stdout",
     "output_type": "stream",
     "text": [
      "Input the radius of the circle: 7\n",
      "The area of the circle with radius 7.0 is: 153.93804002589985\n"
     ]
    }
   ],
   "source": [
    "from math import pi\n",
    "r = float(input(\"Input the radius of the circle: \"))\n",
    "print(\"The area of the circle with radius \"+ str(r) + \" is: \"+ str(pi*r**2))\n"
   ]
  },
  {
   "cell_type": "code",
   "execution_count": 9,
   "id": "b376653b",
   "metadata": {},
   "outputs": [
    {
     "name": "stdout",
     "output_type": "stream",
     "text": [
      "input your First Name: Gyanaranjan\n",
      "input your Last Name: Polai\n",
      "Hello  Polai Gyanaranjan\n"
     ]
    }
   ],
   "source": [
    "fname = input(\"input your First Name: \")\n",
    "lname = input(\"input your Last Name: \")\n",
    "print(\"Hello  \"+ lname + \" \" + fname)"
   ]
  },
  {
   "cell_type": "code",
   "execution_count": null,
   "id": "82cfa3ee",
   "metadata": {},
   "outputs": [],
   "source": []
  },
  {
   "cell_type": "code",
   "execution_count": 10,
   "id": "3bfc03bb",
   "metadata": {},
   "outputs": [
    {
     "name": "stdout",
     "output_type": "stream",
     "text": [
      "Input some comma separated numbers: 9,11,17,23,45\n",
      "List : ['9', '11', '17', '23', '45']\n",
      "Tuple : ('9', '11', '17', '23', '45')\n"
     ]
    }
   ],
   "source": [
    "values = input(\"Input some comma separated numbers: \")\n",
    "list1 = values.split(\",\")\n",
    "tuple1 = tuple(list1)\n",
    "print('List :', list1)\n",
    "print('Tuple :', tuple1)"
   ]
  },
  {
   "cell_type": "code",
   "execution_count": 12,
   "id": "25d90bbd",
   "metadata": {},
   "outputs": [
    {
     "name": "stdout",
     "output_type": "stream",
     "text": [
      "Input the Filename: smruti.baishali\n",
      "The extension of the file is : 'baishali'\n"
     ]
    }
   ],
   "source": [
    "filename = input(\"Input the Filename: \")\n",
    "f_extns = filename.split(\".\")\n",
    "print(\"The extension of the file is : \" + repr(f_extns[-1]))"
   ]
  },
  {
   "cell_type": "code",
   "execution_count": 13,
   "id": "7af6fc0b",
   "metadata": {},
   "outputs": [
    {
     "name": "stdout",
     "output_type": "stream",
     "text": [
      "Red Black\n"
     ]
    }
   ],
   "source": [
    "color_list = [\"Red\",\"Gren\", \"White\", \"Black\"]\n",
    "print(\"%s %s\" % (color_list[0], color_list[-1]))"
   ]
  },
  {
   "cell_type": "code",
   "execution_count": 15,
   "id": "68df01eb",
   "metadata": {},
   "outputs": [
    {
     "name": "stdout",
     "output_type": "stream",
     "text": [
      "The examination will start from :4 / 1 / 2019\n"
     ]
    }
   ],
   "source": [
    "exam_st_date = (4,1,2019)\n",
    "print(\"The examination will start from :%i / %i / %i\"%exam_st_date)"
   ]
  },
  {
   "cell_type": "code",
   "execution_count": 17,
   "id": "4e25a3a3",
   "metadata": {},
   "outputs": [
    {
     "name": "stdout",
     "output_type": "stream",
     "text": [
      "input an integer: 10\n",
      "10 1010 101010\n",
      "102030\n"
     ]
    }
   ],
   "source": [
    "a = int(input(\"input an integer: \"))\n",
    "n1 = int(\"%s\" % a)\n",
    "n2 = int(\"%s%s\" % (a,a))\n",
    "n3 = int(\"%s%s%s\" % (a,a,a))\n",
    "print(n1,n2,n3)\n",
    "print(n1+n2+n3)"
   ]
  },
  {
   "cell_type": "code",
   "execution_count": 18,
   "id": "21064b43",
   "metadata": {},
   "outputs": [
    {
     "ename": "AttributeError",
     "evalue": "'builtin_function_or_method' object has no attribute '_doc_'",
     "output_type": "error",
     "traceback": [
      "\u001b[1;31m---------------------------------------------------------------------------\u001b[0m",
      "\u001b[1;31mAttributeError\u001b[0m                            Traceback (most recent call last)",
      "\u001b[1;32m~\\AppData\\Local\\Temp/ipykernel_9820/3080768560.py\u001b[0m in \u001b[0;36m<module>\u001b[1;34m\u001b[0m\n\u001b[1;32m----> 1\u001b[1;33m \u001b[0mprint\u001b[0m\u001b[1;33m(\u001b[0m\u001b[0mabs\u001b[0m\u001b[1;33m.\u001b[0m\u001b[0m_doc_\u001b[0m\u001b[1;33m)\u001b[0m\u001b[1;33m\u001b[0m\u001b[1;33m\u001b[0m\u001b[0m\n\u001b[0m",
      "\u001b[1;31mAttributeError\u001b[0m: 'builtin_function_or_method' object has no attribute '_doc_'"
     ]
    }
   ],
   "source": [
    "print(abs._doc_)"
   ]
  },
  {
   "cell_type": "code",
   "execution_count": 20,
   "id": "c54df314",
   "metadata": {},
   "outputs": [
    {
     "name": "stdout",
     "output_type": "stream",
     "text": [
      "Input the year: 2002\n",
      "Input the month: 3\n",
      "     March 2002\n",
      "Mo Tu We Th Fr Sa Su\n",
      "             1  2  3\n",
      " 4  5  6  7  8  9 10\n",
      "11 12 13 14 15 16 17\n",
      "18 19 20 21 22 23 24\n",
      "25 26 27 28 29 30 31\n",
      "\n"
     ]
    }
   ],
   "source": [
    "import calendar\n",
    "y = int(input(\"Input the year: \"))\n",
    "m = int(input(\"Input the month: \"))\n",
    "print(calendar.month(y,m))"
   ]
  },
  {
   "cell_type": "code",
   "execution_count": 21,
   "id": "6a987bc2",
   "metadata": {},
   "outputs": [
    {
     "name": "stdout",
     "output_type": "stream",
     "text": [
      " \n",
      "a string that you \"don't\" have to escape\n",
      "This\n",
      "is a ....... multi-line\n",
      "heredoc string -------> example\n",
      "\n"
     ]
    }
   ],
   "source": [
    "print(\"\"\" \n",
    "a string that you \"don't\" have to escape\n",
    "This\n",
    "is a ....... multi-line\n",
    "heredoc string -------> example\n",
    "\"\"\")"
   ]
  },
  {
   "cell_type": "code",
   "execution_count": 22,
   "id": "90cd0ad1",
   "metadata": {},
   "outputs": [
    {
     "name": "stdout",
     "output_type": "stream",
     "text": [
      "21\n"
     ]
    }
   ],
   "source": [
    "from datetime import date\n",
    "f_date = date(2002,2,6)\n",
    "l_date = date(2002,2,27)\n",
    "delta = l_date - f_date\n",
    "print(delta.days)"
   ]
  },
  {
   "cell_type": "code",
   "execution_count": 2,
   "id": "73bb22d9",
   "metadata": {},
   "outputs": [
    {
     "name": "stdout",
     "output_type": "stream",
     "text": [
      "7305\n"
     ]
    }
   ],
   "source": [
    "from datetime import date\n",
    "f_date = date(2002,2,6)\n",
    "l_date = date(2022,2,6)\n",
    "delta = l_date - f_date\n",
    "print(delta.days)"
   ]
  },
  {
   "cell_type": "code",
   "execution_count": 3,
   "id": "d4629908",
   "metadata": {},
   "outputs": [
    {
     "name": "stdout",
     "output_type": "stream",
     "text": [
      "The volume of the sphere is:  904.7786842338603\n"
     ]
    }
   ],
   "source": [
    "pi = 3.1415926535897931\n",
    "r = 6.0\n",
    "V = (4.0/3.0)*pi* r**3\n",
    "print('The volume of the sphere is: ',V)"
   ]
  },
  {
   "cell_type": "code",
   "execution_count": 24,
   "id": "4e150b2a",
   "metadata": {},
   "outputs": [
    {
     "name": "stdout",
     "output_type": "stream",
     "text": [
      "10\n",
      "3\n"
     ]
    }
   ],
   "source": [
    "def difference(n):\n",
    "    if n<= 17:\n",
    "        return 17-n\n",
    "    else:\n",
    "        return (n-17) * 2\n",
    "print(difference(22))\n",
    "print(difference(14))"
   ]
  },
  {
   "cell_type": "code",
   "execution_count": 25,
   "id": "b7e990ce",
   "metadata": {},
   "outputs": [
    {
     "name": "stdout",
     "output_type": "stream",
     "text": [
      "True\n",
      "True\n",
      "False\n",
      "False\n"
     ]
    }
   ],
   "source": [
    "def near_thousand(n):\n",
    "    return ((abs(1000 - n) <= 100)\n",
    "           or (abs(2000 - n) <= 100))\n",
    "print(near_thousand(1000))\n",
    "print(near_thousand(900))\n",
    "print(near_thousand(800))\n",
    "print(near_thousand(2200))"
   ]
  },
  {
   "cell_type": "code",
   "execution_count": 6,
   "id": "2b8f7f43",
   "metadata": {},
   "outputs": [
    {
     "name": "stdout",
     "output_type": "stream",
     "text": [
      "6\n",
      "27\n"
     ]
    }
   ],
   "source": [
    "def sum_thrice(x,y,z):\n",
    "    sum = x+y+z\n",
    "    if x == y == z:\n",
    "        sum = sum*3\n",
    "    return sum\n",
    "print(sum_thrice(1,2,3))\n",
    "print(sum_thrice(3,3,3))"
   ]
  },
  {
   "cell_type": "code",
   "execution_count": 8,
   "id": "50c1363b",
   "metadata": {},
   "outputs": [
    {
     "name": "stdout",
     "output_type": "stream",
     "text": [
      "IsArray\n",
      "IsEmpty\n",
      "Ist\n"
     ]
    }
   ],
   "source": [
    "def new_string(str):\n",
    "    if len(str) >=2 and str[:2] == \"Is\":\n",
    "        return str\n",
    "    return \"Is\" + str\n",
    "print(new_string(\"Array\"))\n",
    "print(new_string(\"IsEmpty\"))\n",
    "print(new_string(\"Ist\"))"
   ]
  },
  {
   "cell_type": "code",
   "execution_count": 31,
   "id": "1da6ba65",
   "metadata": {},
   "outputs": [
    {
     "name": "stdout",
     "output_type": "stream",
     "text": [
      "abcabc\n",
      ".py.py.py\n"
     ]
    }
   ],
   "source": [
    "def larger_string(str,n):\n",
    "    result = \"\"\n",
    "    for i in range(n):\n",
    "        result = result+str\n",
    "    return result\n",
    "\n",
    "print(larger_string('abc',2))\n",
    "print(larger_string('.py',3))"
   ]
  },
  {
   "cell_type": "code",
   "execution_count": 32,
   "id": "7ab596de",
   "metadata": {},
   "outputs": [
    {
     "name": "stdout",
     "output_type": "stream",
     "text": [
      "Enter a number: 45\n",
      "This is an odd number.\n"
     ]
    }
   ],
   "source": [
    "num = int(input(\"Enter a number: \"))\n",
    "mod = num%2\n",
    "if mod>0:\n",
    "    print(\"This is an odd number.\")\n",
    "else:\n",
    "    print(\"ThisThis is an even number.\")"
   ]
  },
  {
   "cell_type": "code",
   "execution_count": 33,
   "id": "aa34df0b",
   "metadata": {},
   "outputs": [
    {
     "name": "stdout",
     "output_type": "stream",
     "text": [
      "2\n",
      "3\n"
     ]
    }
   ],
   "source": [
    "def list_count_4(nums):\n",
    "    count = 0\n",
    "    for num in nums:\n",
    "        if num == 4:\n",
    "            count = count + 1\n",
    "    return count\n",
    "print(list_count_4([1,4,6,7,4]))\n",
    "print(list_count_4([1,4,6,4,7,4]))"
   ]
  },
  {
   "cell_type": "code",
   "execution_count": 36,
   "id": "dab6ee3c",
   "metadata": {},
   "outputs": [
    {
     "name": "stdout",
     "output_type": "stream",
     "text": [
      "False\n",
      "True\n"
     ]
    }
   ],
   "source": [
    "def is_vowel(char):\n",
    "    all_vowels = 'aeiou'\n",
    "    return char in all_vowels\n",
    "print(is_vowel('c'))\n",
    "print(is_vowel('e'))"
   ]
  },
  {
   "cell_type": "code",
   "execution_count": 9,
   "id": "58f2b611",
   "metadata": {},
   "outputs": [
    {
     "name": "stdout",
     "output_type": "stream",
     "text": [
      "abab\n",
      "ppp\n"
     ]
    }
   ],
   "source": [
    "def substring_copy(str, n):\n",
    "    flen = 2\n",
    "    if flen>len(str):\n",
    "        flen = len(str)\n",
    "    substr = str[:flen]\n",
    "    \n",
    "    result = \"\"\n",
    "    for i in range(n):\n",
    "        result = result + substr\n",
    "    return result\n",
    "print(substring_copy('abcdef', 2))\n",
    "print(substring_copy('p',3));"
   ]
  },
  {
   "cell_type": "code",
   "execution_count": 39,
   "id": "0a93eb08",
   "metadata": {},
   "outputs": [
    {
     "name": "stdout",
     "output_type": "stream",
     "text": [
      "True\n",
      "False\n"
     ]
    }
   ],
   "source": [
    "def is_group_member(group_data, n):\n",
    "    for value in group_data:\n",
    "        if n == value:\n",
    "            return True\n",
    "    return False\n",
    "print(is_group_member([1,5,8,3],3))\n",
    "print(is_group_member([5,8,3],-1))"
   ]
  },
  {
   "cell_type": "code",
   "execution_count": 43,
   "id": "a117d77e",
   "metadata": {},
   "outputs": [
    {
     "name": "stdout",
     "output_type": "stream",
     "text": [
      " *\n",
      " **\n",
      " *\n",
      " **\n",
      " ***\n",
      " *\n",
      " **\n",
      " ***\n",
      " ****\n",
      " *****\n",
      " ******\n",
      " *\n",
      " **\n",
      " ***\n",
      " ****\n",
      " *****\n"
     ]
    }
   ],
   "source": [
    "def histogram(items):\n",
    "    for n in items:\n",
    "        output = \" \"\n",
    "        times = n\n",
    "        while(times > 0):\n",
    "            output += '*'\n",
    "            times = times - 1\n",
    "            print(output)\n",
    "histogram([2,3,6,5])"
   ]
  },
  {
   "cell_type": "code",
   "execution_count": 44,
   "id": "3a6ceed4",
   "metadata": {},
   "outputs": [
    {
     "name": "stdout",
     "output_type": "stream",
     "text": [
      "15122\n"
     ]
    }
   ],
   "source": [
    "def concatenate_list_data(list):\n",
    "    result = \"\"\n",
    "    for element in list:\n",
    "        result += str(element)\n",
    "    return result\n",
    "print(concatenate_list_data([1,5,12,2]))"
   ]
  },
  {
   "cell_type": "code",
   "execution_count": 46,
   "id": "bc2d99ad",
   "metadata": {},
   "outputs": [
    {
     "name": "stdout",
     "output_type": "stream",
     "text": [
      "386\n",
      "462\n",
      "418\n",
      "344\n",
      "236\n",
      "566\n",
      "576\n",
      "384\n",
      "384\n",
      "68\n",
      "804\n",
      "0\n",
      "38484\n"
     ]
    }
   ],
   "source": [
    "numbers = [386, 462, 47, 418, 907, 344, 236, 375, 823, 566,576,384,384,68,233,897,355,804,0,38484,576365]\n",
    "for x in numbers:\n",
    "    if x == 237:\n",
    "        print(x)\n",
    "        break\n",
    "    elif x%2 == 0:\n",
    "        print(x)"
   ]
  },
  {
   "cell_type": "code",
   "execution_count": 48,
   "id": "5aac6596",
   "metadata": {},
   "outputs": [
    {
     "name": "stdout",
     "output_type": "stream",
     "text": [
      "{'Black', 'White'}\n"
     ]
    }
   ],
   "source": [
    "color_list_1 = set([\"White\", \"Black\", \"Red\"])\n",
    "color_list_2 = set([\"Red\", \"Green\"])\n",
    "print(color_list_1.difference(color_list_2))"
   ]
  },
  {
   "cell_type": "code",
   "execution_count": 12,
   "id": "8f291779",
   "metadata": {},
   "outputs": [
    {
     "ename": "SyntaxError",
     "evalue": "invalid syntax (Temp/ipykernel_4256/3705700387.py, line 3)",
     "output_type": "error",
     "traceback": [
      "\u001b[1;36m  File \u001b[1;32m\"C:\\Users\\iasms\\AppData\\Local\\Temp/ipykernel_4256/3705700387.py\"\u001b[1;36m, line \u001b[1;32m3\u001b[0m\n\u001b[1;33m    area = b*h/2\u001b[0m\n\u001b[1;37m    ^\u001b[0m\n\u001b[1;31mSyntaxError\u001b[0m\u001b[1;31m:\u001b[0m invalid syntax\n"
     ]
    }
   ],
   "source": [
    "b = int(input(\"Input the base: \"))\n",
    "h = int((input(\"Input the height: \"))\n",
    "area = b*h/2\n",
    "print(\"area = \",area)"
   ]
  },
  {
   "cell_type": "code",
   "execution_count": 55,
   "id": "fb8245be",
   "metadata": {},
   "outputs": [
    {
     "name": "stdout",
     "output_type": "stream",
     "text": [
      "1\n",
      "2\n"
     ]
    }
   ],
   "source": [
    "def gcd(x,y):\n",
    "    gcd = 1\n",
    "    \n",
    "    if x % y == 0:\n",
    "        return y\n",
    "    for k in range(int(y/2), 0, -1):\n",
    "        if x % k == 0 and y % k == 0:\n",
    "            gcd = k\n",
    "            break\n",
    "    return gcd\n",
    "print(gcd(12,17))\n",
    "print(gcd(4,6))"
   ]
  },
  {
   "cell_type": "code",
   "execution_count": 56,
   "id": "7d177b79",
   "metadata": {},
   "outputs": [
    {
     "name": "stdout",
     "output_type": "stream",
     "text": [
      "12\n",
      "255\n"
     ]
    }
   ],
   "source": [
    "def lcm(x,y):\n",
    "    if x>y:\n",
    "        z = x\n",
    "    else:\n",
    "        z = y\n",
    "    while(True):\n",
    "        if(z % x == 0) and (z % y == 0):\n",
    "            lcm = z\n",
    "        if((z % x == 0) and (z % y == 0)):\n",
    "            lcm = z\n",
    "            break\n",
    "        z += 1\n",
    "    return lcm\n",
    "print(lcm(4,6))\n",
    "print(lcm(15,17))\n",
    "        "
   ]
  },
  {
   "cell_type": "code",
   "execution_count": 14,
   "id": "5f4590a3",
   "metadata": {},
   "outputs": [
    {
     "name": "stdout",
     "output_type": "stream",
     "text": [
      "0\n",
      "0\n",
      "0\n",
      "6\n"
     ]
    }
   ],
   "source": [
    "def sum(x,y,z):\n",
    "    if x == y or y == z or x == z:\n",
    "        sum = 0\n",
    "    else:\n",
    "        sum = x+y+z\n",
    "    return sum\n",
    "print(sum(2,1,2))\n",
    "print(sum(3,2,2))\n",
    "print(sum(2,2,2))\n",
    "print(sum(1,2,3))\n"
   ]
  },
  {
   "cell_type": "code",
   "execution_count": 59,
   "id": "108831bc",
   "metadata": {},
   "outputs": [
    {
     "name": "stdout",
     "output_type": "stream",
     "text": [
      "20\n",
      "12\n",
      "22\n"
     ]
    }
   ],
   "source": [
    "def sum(x,y):\n",
    "    sum = x+y\n",
    "    if sum in range(15,20):\n",
    "        return 20\n",
    "    else:\n",
    "        return sum\n",
    "print(sum(10,6))\n",
    "print(sum(10,2))\n",
    "print(sum(10,12))"
   ]
  },
  {
   "cell_type": "code",
   "execution_count": 60,
   "id": "02639236",
   "metadata": {
    "scrolled": true
   },
   "outputs": [
    {
     "name": "stdout",
     "output_type": "stream",
     "text": [
      "True\n",
      "True\n",
      "True\n"
     ]
    }
   ],
   "source": [
    "def test_number5(x,y):\n",
    "    if x == y or abs(x-y) == 5 or (x+y) == 5:\n",
    "        return True\n",
    "    else:\n",
    "        return False\n",
    "print(test_number5(7,2))\n",
    "print(test_number5(3,2))\n",
    "print(test_number5(2,2))\n"
   ]
  },
  {
   "cell_type": "code",
   "execution_count": 61,
   "id": "ccfe752d",
   "metadata": {},
   "outputs": [
    {
     "name": "stdout",
     "output_type": "stream",
     "text": [
      "None\n"
     ]
    }
   ],
   "source": [
    "def add_numbers(a,b):\n",
    "    if not(isinstance(a,int) and isinstance(b,int)):\n",
    "        raise TypeError(\"Inputs must be integers\")\n",
    "        return a + b\n",
    "print(add_numbers(10,20))"
   ]
  },
  {
   "cell_type": "code",
   "execution_count": 15,
   "id": "2f247f93",
   "metadata": {},
   "outputs": [
    {
     "name": "stdout",
     "output_type": "stream",
     "text": [
      "Name: Simron\n",
      " Age: 19\n",
      " Address: Bangalore, Karnataka, India\n"
     ]
    }
   ],
   "source": [
    "def personal_details():\n",
    "    name,age = \"Simron\", 19\n",
    "    address = \"Bangalore, Karnataka, India\"\n",
    "    print(\"Name: {}\\n Age: {}\\n Address: {}\".format(name,age,address))\n",
    "personal_details()"
   ]
  },
  {
   "cell_type": "code",
   "execution_count": 63,
   "id": "a6f2e09d",
   "metadata": {},
   "outputs": [
    {
     "name": "stdout",
     "output_type": "stream",
     "text": [
      "(4 + 3 ^ 2) = 49\n"
     ]
    }
   ],
   "source": [
    "x,y = 4,3\n",
    "result = x*x+2*x*y+y*y\n",
    "print(\"({} + {} ^ 2) = {}\".format(x,y,result))"
   ]
  },
  {
   "cell_type": "code",
   "execution_count": 69,
   "id": "d009ca36",
   "metadata": {},
   "outputs": [
    {
     "name": "stdout",
     "output_type": "stream",
     "text": [
      "12722.792627665729 2\n"
     ]
    }
   ],
   "source": [
    "amt = 10000\n",
    "int1 = 3.5\n",
    "years = 7\n",
    "future_value = amt*((1+(0.01*int1)) ** years)\n",
    "print(future_value)"
   ]
  },
  {
   "cell_type": "code",
   "execution_count": 70,
   "id": "c46a096a",
   "metadata": {},
   "outputs": [
    {
     "name": "stdout",
     "output_type": "stream",
     "text": [
      "2.0\n"
     ]
    }
   ],
   "source": [
    "import math\n",
    "p1 = [4,0]\n",
    "p2 = [6,6]\n",
    "distance = math.sqrt((p1[0] - p2[0]**2)+((p1[1]-p2[1])**2))\n",
    "print(distance)"
   ]
  },
  {
   "cell_type": "code",
   "execution_count": 71,
   "id": "b8f551b3",
   "metadata": {},
   "outputs": [
    {
     "name": "stdout",
     "output_type": "stream",
     "text": [
      "True\n"
     ]
    }
   ],
   "source": [
    "import os.path\n",
    "open('demofile.txt','w')\n",
    "print(os.path.isfile('demofile.txt'))"
   ]
  },
  {
   "cell_type": "code",
   "execution_count": 73,
   "id": "2642033b",
   "metadata": {},
   "outputs": [
    {
     "name": "stdout",
     "output_type": "stream",
     "text": [
      "8\n"
     ]
    }
   ],
   "source": [
    "import struct\n",
    "print(struct.calcsize(\"p\") * 8)"
   ]
  },
  {
   "cell_type": "code",
   "execution_count": 75,
   "id": "4faafbe9",
   "metadata": {},
   "outputs": [
    {
     "name": "stdout",
     "output_type": "stream",
     "text": [
      "nt\n",
      "Windows\n",
      "10\n"
     ]
    }
   ],
   "source": [
    "import platform\n",
    "import os\n",
    "print(os.name)\n",
    "print(platform.system())\n",
    "print(platform.release())"
   ]
  },
  {
   "cell_type": "code",
   "execution_count": 77,
   "id": "83ffc935",
   "metadata": {},
   "outputs": [
    {
     "name": "stdout",
     "output_type": "stream",
     "text": [
      "Current File Name:  C:\\Users\\iasms\\Anaconda3\\demofile.txt\n"
     ]
    }
   ],
   "source": [
    "import os\n",
    "print(\"Current File Name: \", os.path.realpath(\"demofile.txt\"))"
   ]
  },
  {
   "cell_type": "code",
   "execution_count": 78,
   "id": "ab2120c9",
   "metadata": {},
   "outputs": [
    {
     "name": "stdout",
     "output_type": "stream",
     "text": [
      "246.2458\n",
      "246\n"
     ]
    }
   ],
   "source": [
    "n = \"246.2458\"\n",
    "print(float(n))\n",
    "print(int(float(n)))"
   ]
  },
  {
   "cell_type": "code",
   "execution_count": 79,
   "id": "cd7d7446",
   "metadata": {},
   "outputs": [
    {
     "name": "stdout",
     "output_type": "stream",
     "text": [
      "**********\n",
      "\n"
     ]
    }
   ],
   "source": [
    "for i in range(0,10):\n",
    "    print('*', end = \"\")\n",
    "print(\"\\n\")"
   ]
  },
  {
   "cell_type": "code",
   "execution_count": 16,
   "id": "625016cc",
   "metadata": {},
   "outputs": [
    {
     "name": "stdout",
     "output_type": "stream",
     "text": [
      "*--------------------------------*\n",
      "environ({'ALLUSERSPROFILE': 'C:\\\\ProgramData', 'APPDATA': 'C:\\\\Users\\\\iasms\\\\AppData\\\\Roaming', 'COMMONPROGRAMFILES': 'C:\\\\Program Files\\\\Common Files', 'COMMONPROGRAMFILES(X86)': 'C:\\\\Program Files (x86)\\\\Common Files', 'COMMONPROGRAMW6432': 'C:\\\\Program Files\\\\Common Files', 'COMPUTERNAME': 'DESKTOP-SMRUTI2', 'COMSPEC': 'C:\\\\WINDOWS\\\\system32\\\\cmd.exe', 'FPS_BROWSER_APP_PROFILE_STRING': 'Internet Explorer', 'FPS_BROWSER_USER_PROFILE_STRING': 'Default', 'HOMEDRIVE': 'C:', 'HOMEPATH': '\\\\Users\\\\iasms', 'JAVA': 'C:\\\\Program Files\\\\Java\\\\jdk-18.0.1.1', 'JAVAOLD': 'C:\\\\Program Files\\\\Java\\\\jdk1.8.0_333', 'LOCALAPPDATA': 'C:\\\\Users\\\\iasms\\\\AppData\\\\Local', 'LOGONSERVER': '\\\\\\\\DESKTOP-SMRUTI2', 'NUMBER_OF_PROCESSORS': '4', 'ONEDRIVE': 'C:\\\\Users\\\\iasms\\\\OneDrive', 'ONEDRIVECONSUMER': 'C:\\\\Users\\\\iasms\\\\OneDrive', 'OS': 'Windows_NT', 'PATH': 'C:\\\\Users\\\\iasms\\\\anaconda3;C:\\\\Users\\\\iasms\\\\anaconda3\\\\Library\\\\mingw-w64\\\\bin;C:\\\\Users\\\\iasms\\\\anaconda3\\\\Library\\\\usr\\\\bin;C:\\\\Users\\\\iasms\\\\anaconda3\\\\Library\\\\bin;C:\\\\Users\\\\iasms\\\\anaconda3\\\\Scripts;C:\\\\Program Files\\\\Java\\\\jdk1.8.0_333\\\\bin;C:\\\\Program Files\\\\Java\\\\jdk-18.0.1.1\\\\bin;C:\\\\Users\\\\iasms\\\\AppData\\\\Local\\\\Programs\\\\Python\\\\Python310\\\\Scripts\\\\;C:\\\\Users\\\\iasms\\\\AppData\\\\Local\\\\Programs\\\\Python\\\\Python310\\\\;C:\\\\Users\\\\iasms\\\\AppData\\\\Local\\\\Microsoft\\\\WindowsApps;', 'PATHEXT': '.COM;.EXE;.BAT;.CMD;.VBS;.VBE;.JS;.JSE;.WSF;.WSH;.MSC', 'PROCESSOR_ARCHITECTURE': 'AMD64', 'PROCESSOR_IDENTIFIER': 'AMD64 Family 23 Model 17 Stepping 0, AuthenticAMD', 'PROCESSOR_LEVEL': '23', 'PROCESSOR_REVISION': '1100', 'PROGRAMDATA': 'C:\\\\ProgramData', 'PROGRAMFILES': 'C:\\\\Program Files', 'PROGRAMFILES(X86)': 'C:\\\\Program Files (x86)', 'PROGRAMW6432': 'C:\\\\Program Files', 'PSMODULEPATH': 'C:\\\\Program Files\\\\WindowsPowerShell\\\\Modules;C:\\\\WINDOWS\\\\system32\\\\WindowsPowerShell\\\\v1.0\\\\Modules', 'PUBLIC': 'C:\\\\Users\\\\Public', 'SESSIONNAME': 'Console', 'SYSTEMDRIVE': 'C:', 'SYSTEMROOT': 'C:\\\\WINDOWS', 'TEMP': 'C:\\\\Users\\\\iasms\\\\AppData\\\\Local\\\\Temp', 'TMP': 'C:\\\\Users\\\\iasms\\\\AppData\\\\Local\\\\Temp', 'USERDOMAIN': 'DESKTOP-SMRUTI2', 'USERDOMAIN_ROAMINGPROFILE': 'DESKTOP-SMRUTI2', 'USERNAME': 'iasms', 'USERPROFILE': 'C:\\\\Users\\\\iasms', 'WINDIR': 'C:\\\\WINDOWS', 'CONDA_PREFIX': 'C:\\\\Users\\\\iasms\\\\anaconda3', 'PYDEVD_USE_FRAME_EVAL': 'NO', 'JPY_INTERRUPT_EVENT': '2720', 'IPY_INTERRUPT_EVENT': '2720', 'JPY_PARENT_PID': '2724', 'TERM': 'xterm-color', 'CLICOLOR': '1', 'PAGER': 'cat', 'GIT_PAGER': 'cat', 'MPLBACKEND': 'module://matplotlib_inline.backend_inline'})\n",
      "*--------------------------------*\n",
      "C:\\Program Files\\Java\\jdk-18.0.1.1\n",
      "*--------------------------------*\n",
      "C:\\Users\\iasms\\anaconda3;C:\\Users\\iasms\\anaconda3\\Library\\mingw-w64\\bin;C:\\Users\\iasms\\anaconda3\\Library\\usr\\bin;C:\\Users\\iasms\\anaconda3\\Library\\bin;C:\\Users\\iasms\\anaconda3\\Scripts;C:\\Program Files\\Java\\jdk1.8.0_333\\bin;C:\\Program Files\\Java\\jdk-18.0.1.1\\bin;C:\\Users\\iasms\\AppData\\Local\\Programs\\Python\\Python310\\Scripts\\;C:\\Users\\iasms\\AppData\\Local\\Programs\\Python\\Python310\\;C:\\Users\\iasms\\AppData\\Local\\Microsoft\\WindowsApps;\n",
      "*--------------------------------*\n"
     ]
    }
   ],
   "source": [
    "import os\n",
    "print('*--------------------------------*')\n",
    "print(os.environ)\n",
    "print('*--------------------------------*')\n",
    "print(os.environ['JAVA'])\n",
    "print('*--------------------------------*')\n",
    "print(os.environ['PATH'])\n",
    "print('*--------------------------------*')\n"
   ]
  },
  {
   "cell_type": "code",
   "execution_count": 20,
   "id": "fd4cef8e",
   "metadata": {},
   "outputs": [
    {
     "ename": "SyntaxError",
     "evalue": "closing parenthesis ')' does not match opening parenthesis '[' (Temp/ipykernel_4256/491194596.py, line 4)",
     "output_type": "error",
     "traceback": [
      "\u001b[1;36m  File \u001b[1;32m\"C:\\Users\\iasms\\AppData\\Local\\Temp/ipykernel_4256/491194596.py\"\u001b[1;36m, line \u001b[1;32m4\u001b[0m\n\u001b[1;33m    [[s.connect('8.8.8.8',53)),\u001b[0m\n\u001b[1;37m                             ^\u001b[0m\n\u001b[1;31mSyntaxError\u001b[0m\u001b[1;31m:\u001b[0m closing parenthesis ')' does not match opening parenthesis '['\n"
     ]
    }
   ],
   "source": [
    "import socket\n",
    "print([l for l in ([ip for ip in socket.gethostbyname_ex(socket.gethostname())[2]\n",
    "                   if not ip.startswith(\"127. \")][:1],\n",
    "                  [[s.connect('8.8.8.8',53)],\n",
    "                   s.getsockname()[0], s.close()) for s in\n",
    "                   [socket.socket(socket.AF_INET,\n",
    "                    socket.SOCK_DGRAM)]][0][1]]) if l][0]\n",
    "                   [0])"
   ]
  },
  {
   "cell_type": "code",
   "execution_count": 86,
   "id": "55879e51",
   "metadata": {},
   "outputs": [
    {
     "name": "stdout",
     "output_type": "stream",
     "text": [
      "Input a number: 7\n",
      "28.0\n"
     ]
    }
   ],
   "source": [
    "n = int(input(\"Input a number: \"))\n",
    "sum_num = (n * (n+1)) / 2\n",
    "print(sum_num)"
   ]
  },
  {
   "cell_type": "code",
   "execution_count": 87,
   "id": "0066e414",
   "metadata": {},
   "outputs": [
    {
     "name": "stdout",
     "output_type": "stream",
     "text": [
      "Input your height: \n",
      "Feet: 5\n",
      "Inches: 2\n"
     ]
    }
   ],
   "source": [
    "print(\"Input your height: \")\n",
    "h_ft = int(input(\"Feet: \"))\n",
    "h_inch = int(input(\"Inches: \"))\n",
    "h_inch += h_ft * 12\n",
    "h_cm = round(h_inch * 2.54, 1)"
   ]
  },
  {
   "cell_type": "code",
   "execution_count": 88,
   "id": "960a5543",
   "metadata": {},
   "outputs": [
    {
     "name": "stdout",
     "output_type": "stream",
     "text": [
      "Input lenghts of shorter triangle sides: \n",
      "a: 3\n",
      "b: 4\n",
      "The length of the hypothesis is 5.0\n"
     ]
    }
   ],
   "source": [
    "from math import sqrt\n",
    "print(\"Input lenghts of shorter triangle sides: \")\n",
    "a = float(input(\"a: \"))\n",
    "b = float(input(\"b: \"))\n",
    "\n",
    "c = sqrt(a ** 2 + b ** 2)\n",
    "print(\"The length of the hypothesis is\", c)"
   ]
  },
  {
   "cell_type": "code",
   "execution_count": 89,
   "id": "41d507ba",
   "metadata": {},
   "outputs": [
    {
     "name": "stdout",
     "output_type": "stream",
     "text": [
      "Input distance in feet: 100\n",
      "The distance in inches is 1200 inches.\n",
      "The distance in inches is 33 inches.\n",
      "The distance in inches is 0 inches.\n"
     ]
    }
   ],
   "source": [
    "d_ft = int(input(\"Input distance in feet: \"))\n",
    "d_inches = d_ft * 12\n",
    "d_yards = d_ft / 3.0\n",
    "d_miles = d_ft / 5280.0\n",
    "\n",
    "print(\"The distance in inches is %i inches.\" % d_inches)\n",
    "print(\"The distance in inches is %i inches.\" % d_yards)\n",
    "print(\"The distance in inches is %i inches.\" % d_miles)"
   ]
  },
  {
   "cell_type": "code",
   "execution_count": 90,
   "id": "84a75a99",
   "metadata": {},
   "outputs": [
    {
     "name": "stdout",
     "output_type": "stream",
     "text": [
      "Input days: 4\n",
      "Input hours: 5\n",
      "Input minutes: 20\n",
      "Input seconds: 10\n",
      "The amounts of seconds 364810\n"
     ]
    }
   ],
   "source": [
    "days = int(input(\"Input days: \")) * 3600 * 24\n",
    "hours = int(input(\"Input hours: \")) * 3600\n",
    "minutes = int(input(\"Input minutes: \")) * 60\n",
    "seconds = int(input(\"Input seconds: \"))\n",
    "time = days + hours + minutes + seconds\n",
    "print(\"The amounts of seconds\", time)"
   ]
  },
  {
   "cell_type": "code",
   "execution_count": 91,
   "id": "cb308c05",
   "metadata": {},
   "outputs": [
    {
     "name": "stdout",
     "output_type": "stream",
     "text": [
      "Absolute file path:  None\n"
     ]
    }
   ],
   "source": [
    "def absolute_file_path(path_fname):\n",
    "    import os\n",
    "    return\n",
    "os.path.abspath('path_fname')\n",
    "print(\"Absolute file path: \",absolute_file_path(\"first.py\"))"
   ]
  },
  {
   "cell_type": "code",
   "execution_count": null,
   "id": "7317a82f",
   "metadata": {},
   "outputs": [],
   "source": []
  },
  {
   "cell_type": "code",
   "execution_count": null,
   "id": "2867cfe5",
   "metadata": {},
   "outputs": [],
   "source": []
  },
  {
   "cell_type": "markdown",
   "id": "fca37c62",
   "metadata": {},
   "source": [
    "# FILE HANDELING"
   ]
  },
  {
   "cell_type": "code",
   "execution_count": 13,
   "id": "6ab058ae",
   "metadata": {},
   "outputs": [
    {
     "name": "stdout",
     "output_type": "stream",
     "text": [
      "Haiii....\n",
      "I AM SMRUTI RANJAN POLAI\n",
      "\n"
     ]
    }
   ],
   "source": [
    "import os\n",
    "f = open(\"C:\\\\Users\\\\iasms\\\\Desktop\\\\Python Prograamms\\\\File\\\\demofile.txt\", \"r\")\n",
    "print(f.read())"
   ]
  },
  {
   "cell_type": "code",
   "execution_count": 12,
   "id": "552bee16",
   "metadata": {},
   "outputs": [
    {
     "name": "stdout",
     "output_type": "stream",
     "text": [
      "Haiii\n"
     ]
    }
   ],
   "source": [
    "import os\n",
    "f = open(\"C:\\\\Users\\\\iasms\\\\Desktop\\\\Python Prograamms\\\\File\\\\demofile.txt\", \"r\")\n",
    "print(f.read(5))"
   ]
  },
  {
   "cell_type": "code",
   "execution_count": 11,
   "id": "7581a0d9",
   "metadata": {},
   "outputs": [
    {
     "name": "stdout",
     "output_type": "stream",
     "text": [
      "Haiii....\n",
      "\n"
     ]
    }
   ],
   "source": [
    "f = open(\"C:\\\\Users\\\\iasms\\\\Desktop\\\\Python Prograamms\\\\File\\\\demofile.txt\", \"r\")\n",
    "print(f.readline())"
   ]
  },
  {
   "cell_type": "code",
   "execution_count": 10,
   "id": "f57392e9",
   "metadata": {},
   "outputs": [
    {
     "name": "stdout",
     "output_type": "stream",
     "text": [
      "Haiii....\n",
      "\n",
      "I AM SMRUTI RANJAN POLAI\n",
      "\n"
     ]
    }
   ],
   "source": [
    "f = open(\"C:\\\\Users\\\\iasms\\\\Desktop\\\\Python Prograamms\\\\File\\\\demofile.txt\", \"r\")\n",
    "for x in f:\n",
    "    print(x)"
   ]
  },
  {
   "cell_type": "code",
   "execution_count": 9,
   "id": "050a2801",
   "metadata": {},
   "outputs": [
    {
     "name": "stdout",
     "output_type": "stream",
     "text": [
      "Haiii....\n",
      "\n",
      "I AM SMRUTI RANJAN POLAI\n",
      "\n"
     ]
    }
   ],
   "source": [
    "f = open(\"C:\\\\Users\\\\iasms\\\\Desktop\\\\Python Prograamms\\\\File\\\\demofile.txt\", \"r\")\n",
    "print(f.readline())\n",
    "print(f.readline())"
   ]
  },
  {
   "cell_type": "code",
   "execution_count": 14,
   "id": "ec3c0d9c",
   "metadata": {},
   "outputs": [
    {
     "name": "stdout",
     "output_type": "stream",
     "text": [
      "Haiii....\n",
      "I AM SMRUTI RANJAN POLAI\n",
      "Now the file has many lines!\n"
     ]
    }
   ],
   "source": [
    "f = open(\"C:\\\\Users\\\\iasms\\\\Desktop\\\\Python Prograamms\\\\File\\\\demofile.txt\", \"a\")\n",
    "f.write(\"Now the file has many lines!\")\n",
    "f.close()\n",
    "\n",
    "f = open(\"C:\\\\Users\\\\iasms\\\\Desktop\\\\Python Prograamms\\\\File\\\\demofile.txt\", \"r\")\n",
    "print(f.read())"
   ]
  },
  {
   "cell_type": "code",
   "execution_count": 15,
   "id": "d07ddbcd",
   "metadata": {},
   "outputs": [],
   "source": [
    "f = open(\"C:\\\\Users\\\\iasms\\\\Desktop\\\\Python Prograamms\\\\File\\\\demofile.txt\", \"a\")\n",
    "f.write(\"Woops! I have deleted the content!\")\n",
    "f.close()\n"
   ]
  },
  {
   "cell_type": "code",
   "execution_count": 17,
   "id": "a4098334",
   "metadata": {},
   "outputs": [],
   "source": [
    "import os\n",
    "os.remove(\"C:\\\\Users\\\\iasms\\\\Desktop\\\\Python Prograamms\\\\File\\\\demofile.txt\")"
   ]
  },
  {
   "cell_type": "code",
   "execution_count": 18,
   "id": "55cdc442",
   "metadata": {},
   "outputs": [
    {
     "name": "stdout",
     "output_type": "stream",
     "text": [
      "The file doesn't exist\n"
     ]
    }
   ],
   "source": [
    "import os\n",
    "if os.path.exists(\"C:\\\\Users\\\\iasms\\\\Desktop\\\\Python Prograamms\\\\File\\\\demofile.txt\"):\n",
    "    os.remove(\"C:\\\\Users\\\\iasms\\\\Desktop\\\\Python Prograamms\\\\File\\\\demofile.txt\")\n",
    "else:\n",
    "    print(\"The file doesn't exist\")"
   ]
  },
  {
   "cell_type": "code",
   "execution_count": 21,
   "id": "767d60e7",
   "metadata": {},
   "outputs": [
    {
     "ename": "OSError",
     "evalue": "[WinError 145] The directory is not empty: 'C:\\\\Users\\\\iasms\\\\Desktop\\\\Python Prograamms\\\\File'",
     "output_type": "error",
     "traceback": [
      "\u001b[1;31m---------------------------------------------------------------------------\u001b[0m",
      "\u001b[1;31mOSError\u001b[0m                                   Traceback (most recent call last)",
      "\u001b[1;32m~\\AppData\\Local\\Temp/ipykernel_14348/1729556569.py\u001b[0m in \u001b[0;36m<module>\u001b[1;34m\u001b[0m\n\u001b[0;32m      1\u001b[0m \u001b[1;32mimport\u001b[0m \u001b[0mos\u001b[0m\u001b[1;33m\u001b[0m\u001b[1;33m\u001b[0m\u001b[0m\n\u001b[1;32m----> 2\u001b[1;33m \u001b[0mos\u001b[0m\u001b[1;33m.\u001b[0m\u001b[0mrmdir\u001b[0m\u001b[1;33m(\u001b[0m\u001b[1;34m\"C:\\\\Users\\\\iasms\\\\Desktop\\\\Python Prograamms\\\\File\"\u001b[0m\u001b[1;33m)\u001b[0m\u001b[1;33m\u001b[0m\u001b[1;33m\u001b[0m\u001b[0m\n\u001b[0m",
      "\u001b[1;31mOSError\u001b[0m: [WinError 145] The directory is not empty: 'C:\\\\Users\\\\iasms\\\\Desktop\\\\Python Prograamms\\\\File'"
     ]
    }
   ],
   "source": [
    "import os\n",
    "os.rmdir(\"C:\\\\Users\\\\iasms\\\\Desktop\\\\Python Prograamms\\\\File\")"
   ]
  },
  {
   "cell_type": "code",
   "execution_count": 23,
   "id": "85f4cac5",
   "metadata": {},
   "outputs": [
    {
     "name": "stdout",
     "output_type": "stream",
     "text": [
      "KelvinToFarenhit(273)\n",
      "int(KelvinToFarenhit(505.78))\n",
      "KelvinToFarenhit(-5)\n"
     ]
    }
   ],
   "source": [
    "def KelvinToFarenhit(Temperature):\n",
    "    assert (Temperature >= 0), \"Colder than absolute zero!\"\n",
    "    return ((Temperature -273) * 1.8)+32\n",
    "print(\"KelvinToFarenhit(273)\")\n",
    "print(\"int(KelvinToFarenhit(505.78))\")\n",
    "print(\"KelvinToFarenhit(-5)\")"
   ]
  },
  {
   "cell_type": "code",
   "execution_count": null,
   "id": "c8d048c3",
   "metadata": {},
   "outputs": [],
   "source": []
  }
 ],
 "metadata": {
  "kernelspec": {
   "display_name": "Python 3 (ipykernel)",
   "language": "python",
   "name": "python3"
  },
  "language_info": {
   "codemirror_mode": {
    "name": "ipython",
    "version": 3
   },
   "file_extension": ".py",
   "mimetype": "text/x-python",
   "name": "python",
   "nbconvert_exporter": "python",
   "pygments_lexer": "ipython3",
   "version": "3.9.13"
  }
 },
 "nbformat": 4,
 "nbformat_minor": 5
}
